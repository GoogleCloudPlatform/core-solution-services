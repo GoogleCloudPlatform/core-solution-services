{
 "cells": [
  {
   "cell_type": "code",
   "execution_count": 1,
   "id": "a588966e-ca3c-4556-93b7-b83b9a5e6cdf",
   "metadata": {},
   "outputs": [],
   "source": [
    "PROJECT_ID = \"lramsey-dev\"\n",
    "REGION = \"us-central1\"\n",
    "import os\n",
    "os.environ[\"PROJECT_ID\"] = PROJECT_ID"
   ]
  },
  {
   "cell_type": "code",
   "execution_count": 2,
   "id": "44fe5e42-8889-414d-95b1-bde787b2c6c7",
   "metadata": {},
   "outputs": [],
   "source": [
    "import sys\n",
    "sys.path.append(\"../../common/src\")\n",
    "sys.path.append(\"../src\")"
   ]
  },
  {
   "cell_type": "code",
   "execution_count": 8,
   "id": "7aacbd5d-e2a0-4cb4-ae20-dd746f185b84",
   "metadata": {},
   "outputs": [],
   "source": [
    "import tempfile\n",
    "import os\n",
    "from typing import List, Optional, Tuple, Dict\n",
    "from common.utils.logging_handler import Logger\n",
    "from common.models import (UserQuery, QueryResult, QueryEngine, QueryDocument,\n",
    "                           QueryReference, QueryDocumentChunk, BatchJobModel)\n",
    "from common.utils.errors import (ResourceNotFoundException,\n",
    "                                 ValidationError)\n",
    "from common.utils.http_exceptions import InternalServerError\n",
    "from utils.errors import NoDocumentsIndexedException\n",
    "from google.cloud import storage\n",
    "from services.query import query_prompts\n",
    "from services.query.vector_store import VectorStore\n",
    "from services.query.data_source import DataSource\n",
    "    \n",
    "from config import (PROJECT_ID, DEFAULT_QUERY_CHAT_MODEL,\n",
    "                        DEFAULT_QUERY_EMBEDDING_MODEL)"
   ]
  },
  {
   "cell_type": "code",
   "execution_count": 9,
   "id": "3d8cd82f-4bac-4291-9db9-25ee3527b6d8",
   "metadata": {},
   "outputs": [],
   "source": [
    "storage_client = storage.Client(project=PROJECT_ID)"
   ]
  },
  {
   "cell_type": "code",
   "execution_count": 10,
   "id": "246c2f1a-94b0-4c21-b768-a28759d77a58",
   "metadata": {},
   "outputs": [],
   "source": [
    "query_engine = \"lukman-test-vs-7\"\n",
    "doc_url = \"gs://lramsey-dev-mira-demo-docs\"\n",
    "user_id = \"epKVwPZeIBz1rrqcDm1B\"\n",
    "is_public=True\n",
    "query_description=\"test vertex search\""
   ]
  },
  {
   "cell_type": "code",
   "execution_count": 11,
   "id": "87a5930c-55f3-4489-b589-c7127f2a7bdb",
   "metadata": {},
   "outputs": [
    {
     "data": {
      "text/plain": [
       "<common.models.llm_query.QueryEngine at 0x132d2cdc0>"
      ]
     },
     "execution_count": 11,
     "metadata": {},
     "output_type": "execute_result"
    }
   ],
   "source": [
    "from common.models.llm_query import QE_TYPE_VERTEX_SEARCH, QE_TYPE_LLM_SERVICE\n",
    "\n",
    "# create q_engine\n",
    "params = {\"depth_limit\": 1}\n",
    "query_engine_type = QE_TYPE_VERTEX_SEARCH\n",
    "embedding_type = DEFAULT_QUERY_EMBEDDING_MODEL\n",
    "llm_type = DEFAULT_QUERY_EMBEDDING_MODEL\n",
    "vector_store_type = \"langchain_pgvector\"\n",
    "q_engine = QueryEngine(name=query_engine,\n",
    "                     created_by=user_id,\n",
    "                     query_engine_type=QE_TYPE_VERTEX_SEARCH,\n",
    "                     llm_type=llm_type,\n",
    "                     description=query_description,\n",
    "                     embedding_type=embedding_type,\n",
    "                     vector_store=vector_store_type,\n",
    "                     params=params,\n",
    "                     doc_url=doc_url)\n",
    "q_engine.save()"
   ]
  },
  {
   "cell_type": "code",
   "execution_count": 12,
   "id": "6ef32db7-92fe-4c1e-9d0b-7a2506aa02c2",
   "metadata": {},
   "outputs": [],
   "source": [
    "from google.cloud import discoveryengine_v1alpha as discoveryengine\n",
    "location = \"global\"\n",
    "project_id = PROJECT_ID\n",
    "parent = \"projects/lramsey-dev/locations/global/collections/default_collection\""
   ]
  },
  {
   "cell_type": "code",
   "execution_count": 22,
   "id": "d65c780b-9a63-480d-8c93-221b04cdf5c9",
   "metadata": {},
   "outputs": [],
   "source": [
    "from services.query.vertex_search import (create_data_store, \n",
    "                                          create_search_engine, \n",
    "                                          import_documents_to_datastore, \n",
    "                                          import_documents_gcs, wait_for_operation, datastore_id_from_name, inventory_gcs_files,\n",
    "                                          wait_for_operation)"
   ]
  },
  {
   "cell_type": "code",
   "execution_count": 15,
   "id": "6e126185-173b-4861-ab72-e9f9083cbb53",
   "metadata": {},
   "outputs": [
    {
     "data": {
      "text/plain": [
       "'lukman-test-vs-7'"
      ]
     },
     "execution_count": 15,
     "metadata": {},
     "output_type": "execute_result"
    }
   ],
   "source": [
    "data_store_id = datastore_id_from_name(q_engine.name)\n",
    "data_store_id"
   ]
  },
  {
   "cell_type": "code",
   "execution_count": 17,
   "id": "95a89e93-e3fa-47a0-b544-9c2a1a511000",
   "metadata": {},
   "outputs": [],
   "source": [
    "data_url = q_engine.doc_url\n",
    "project_id = PROJECT_ID\n",
    "location = \"global\"\n",
    "\n",
    "docs_to_be_processed = []\n",
    "docs_processed = []\n",
    "docs_not_processed = []"
   ]
  },
  {
   "cell_type": "code",
   "execution_count": 20,
   "id": "45089237-7801-4807-82e0-63d1cdbe5c95",
   "metadata": {},
   "outputs": [],
   "source": [
    "docs_to_be_processed = inventory_gcs_files(data_url)"
   ]
  },
  {
   "cell_type": "code",
   "execution_count": 21,
   "id": "dfc68acc-5a8b-42e0-9cd0-df24e9148c79",
   "metadata": {},
   "outputs": [
    {
     "data": {
      "text/plain": [
       "['A59449_20240106.pdf',\n",
       " 'FQHC-bg-20210101.pdf',\n",
       " 'Federally Qualified Health Center (FQHC) - Dental Billing Guide - Horizon NJ Health.pdf',\n",
       " 'Mary Foley - Understanding the Prospective Payment System.pdf',\n",
       " 'test/genai-sample-doc.pdf']"
      ]
     },
     "execution_count": 21,
     "metadata": {},
     "output_type": "execute_result"
    }
   ],
   "source": [
    "docs_to_be_processed"
   ]
  },
  {
   "cell_type": "code",
   "execution_count": 23,
   "id": "b5439947-e994-4798-a3e6-83ddd3cf8999",
   "metadata": {},
   "outputs": [],
   "source": [
    "operation = create_data_store(q_engine, project_id, data_store_id)\n",
    "wait_for_operation(operation)"
   ]
  },
  {
   "cell_type": "code",
   "execution_count": 25,
   "id": "3fc7c0c3-e4d2-482c-a93c-84ddf228f21f",
   "metadata": {},
   "outputs": [],
   "source": [
    "client = discoveryengine.DocumentServiceClient()\n",
    "parent = client.branch_path(\n",
    "    project=project_id,\n",
    "    location=location,\n",
    "    data_store=data_store_id,\n",
    "    branch=\"default_branch\",\n",
    ")"
   ]
  },
  {
   "cell_type": "code",
   "execution_count": 26,
   "id": "fe6153f0-a916-4337-bb39-261e218539f4",
   "metadata": {},
   "outputs": [
    {
     "data": {
      "text/plain": [
       "'gs://lramsey-dev-mira-demo-docs'"
      ]
     },
     "execution_count": 26,
     "metadata": {},
     "output_type": "execute_result"
    }
   ],
   "source": [
    "data_url"
   ]
  },
  {
   "cell_type": "code",
   "execution_count": 27,
   "id": "bdac0319-64b9-4ccc-9055-738f10be0b14",
   "metadata": {},
   "outputs": [],
   "source": [
    "operation = import_documents_gcs(data_url,\n",
    "                                 docs_to_be_processed,\n",
    "                                 client,\n",
    "                                 parent)"
   ]
  },
  {
   "cell_type": "code",
   "execution_count": 28,
   "id": "7b2f53a2-315a-47d6-8e08-8105bfbc5ed5",
   "metadata": {},
   "outputs": [
    {
     "name": "stdout",
     "output_type": "stream",
     "text": [
      "Waiting for import operation to complete: projects/944045413892/locations/global/collections/default_collection/dataStores/lukman-test-vs-7/branches/0/operations/import-documents-16429642499957673036\n"
     ]
    }
   ],
   "source": [
    "print(f\"Waiting for import operation to complete: {operation.operation.name}\")"
   ]
  },
  {
   "cell_type": "code",
   "execution_count": 29,
   "id": "897cca9d-e00c-45b1-90d8-b2044e376347",
   "metadata": {},
   "outputs": [],
   "source": [
    "wait_for_operation(operation)"
   ]
  },
  {
   "cell_type": "code",
   "execution_count": 30,
   "id": "b5617ae9-50a3-4b0e-9ee4-38e22431d823",
   "metadata": {},
   "outputs": [],
   "source": [
    "metadata = discoveryengine.ImportDocumentsMetadata(operation.metadata)"
   ]
  },
  {
   "cell_type": "code",
   "execution_count": 31,
   "id": "95aa0c3b-611d-4e15-a97d-e308f11f7b59",
   "metadata": {},
   "outputs": [
    {
     "data": {
      "text/plain": [
       "create_time {\n",
       "  seconds: 1708189132\n",
       "  nanos: 603150000\n",
       "}\n",
       "update_time {\n",
       "  seconds: 1708189133\n",
       "  nanos: 943553000\n",
       "}\n",
       "success_count: 5"
      ]
     },
     "execution_count": 31,
     "metadata": {},
     "output_type": "execute_result"
    }
   ],
   "source": [
    "metadata"
   ]
  },
  {
   "cell_type": "code",
   "execution_count": 32,
   "id": "e5fe2ff9-493e-496b-b002-5c09db9c5527",
   "metadata": {},
   "outputs": [
    {
     "data": {
      "text/plain": [
       "{'_polling': <google.api_core.retry.retry_unary.Retry at 0x1089189d0>,\n",
       " '_result': error_config {\n",
       "   gcs_prefix: \"gs://944045413892_us_import_content/errors16429642499957673123\"\n",
       " },\n",
       " '_exception': None,\n",
       " '_result_set': True,\n",
       " '_polling_thread': None,\n",
       " '_done_callbacks': [],\n",
       " '_operation': name: \"projects/944045413892/locations/global/collections/default_collection/dataStores/lukman-test-vs-7/branches/0/operations/import-documents-16429642499957673036\"\n",
       " metadata {\n",
       "   type_url: \"type.googleapis.com/google.cloud.discoveryengine.v1alpha.ImportDocumentsMetadata\"\n",
       "   value: \"\\n\\014\\010\\314\\313\\303\\256\\006\\020\\260\\255\\315\\237\\002\\022\\014\\010\\315\\313\\303\\256\\006\\020\\350\\363\\365\\301\\003\\030\\005\"\n",
       " }\n",
       " done: true\n",
       " response {\n",
       "   type_url: \"type.googleapis.com/google.cloud.discoveryengine.v1alpha.ImportDocumentsResponse\"\n",
       "   value: \"\\022@\\n>gs://944045413892_us_import_content/errors16429642499957673123\"\n",
       " },\n",
       " '_refresh': functools.partial(<bound method OperationsClient.get_operation of <google.api_core.operations_v1.operations_client.OperationsClient object at 0x1332074f0>>, 'projects/944045413892/locations/global/collections/default_collection/dataStores/lukman-test-vs-7/branches/0/operations/import-documents-16429642499957673036', metadata=None),\n",
       " '_cancel': functools.partial(<bound method OperationsClient.cancel_operation of <google.api_core.operations_v1.operations_client.OperationsClient object at 0x1332074f0>>, 'projects/944045413892/locations/global/collections/default_collection/dataStores/lukman-test-vs-7/branches/0/operations/import-documents-16429642499957673036', metadata=None),\n",
       " '_result_type': google.cloud.discoveryengine_v1alpha.types.import_config.ImportDocumentsResponse,\n",
       " '_metadata_type': google.cloud.discoveryengine_v1alpha.types.import_config.ImportDocumentsMetadata,\n",
       " '_completion_lock': <unlocked _thread.lock object at 0x13328a090>}"
      ]
     },
     "execution_count": 32,
     "metadata": {},
     "output_type": "execute_result"
    }
   ],
   "source": [
    "operation.__dict__"
   ]
  },
  {
   "cell_type": "code",
   "execution_count": 36,
   "id": "bd07e585-99d8-4fc4-ac0d-9cbfa888ce0a",
   "metadata": {},
   "outputs": [
    {
     "data": {
      "text/plain": [
       "error_config {\n",
       "  gcs_prefix: \"gs://944045413892_us_import_content/errors16429642499957673123\"\n",
       "}"
      ]
     },
     "execution_count": 36,
     "metadata": {},
     "output_type": "execute_result"
    }
   ],
   "source": [
    "operation.result()"
   ]
  },
  {
   "cell_type": "code",
   "execution_count": 38,
   "id": "8d0b6c47-13e6-4c8a-9831-6c98c6de30c3",
   "metadata": {},
   "outputs": [
    {
     "name": "stdout",
     "output_type": "stream",
     "text": [
      "gs://944045413892_us_import_content/errors16429642499957673123/:\n",
      "gs://944045413892_us_import_content/errors16429642499957673123/\n"
     ]
    }
   ],
   "source": [
    "!gsutil ls -R gs://944045413892_us_import_content/errors16429642499957673123"
   ]
  },
  {
   "cell_type": "code",
   "execution_count": 41,
   "id": "e0108e1e-1722-48e9-a89c-6f59d52c7fed",
   "metadata": {},
   "outputs": [],
   "source": [
    "if metadata.success_count == len(docs_to_be_processed):\n",
    "  docs_processed = docs_to_be_processed\n",
    "else:\n",
    "  # TODO: build list of documents processed/not processed from results\n",
    "  pass"
   ]
  },
  {
   "cell_type": "code",
   "execution_count": 42,
   "id": "b3753869-05af-4376-8ac6-b225331ddbd1",
   "metadata": {},
   "outputs": [
    {
     "data": {
      "text/plain": [
       "['A59449_20240106.pdf',\n",
       " 'FQHC-bg-20210101.pdf',\n",
       " 'Federally Qualified Health Center (FQHC) - Dental Billing Guide - Horizon NJ Health.pdf',\n",
       " 'Mary Foley - Understanding the Prospective Payment System.pdf',\n",
       " 'test/genai-sample-doc.pdf']"
      ]
     },
     "execution_count": 42,
     "metadata": {},
     "output_type": "execute_result"
    }
   ],
   "source": [
    "docs_processed"
   ]
  },
  {
   "cell_type": "code",
   "execution_count": 43,
   "id": "095d23fc-3d5c-4f50-9191-b6d564843bd8",
   "metadata": {},
   "outputs": [],
   "source": [
    "operation = create_search_engine(q_engine, project_id, data_store_id)"
   ]
  },
  {
   "cell_type": "code",
   "execution_count": 45,
   "id": "d5d6ca75-5fe5-46cc-ba01-93b86a572c27",
   "metadata": {},
   "outputs": [
    {
     "data": {
      "text/plain": [
       "<common.models.llm_query.QueryEngine at 0x132d2cdc0>"
      ]
     },
     "execution_count": 45,
     "metadata": {},
     "output_type": "execute_result"
    }
   ],
   "source": [
    "q_engine.index_id = data_store_id\n",
    "q_engine.update()"
   ]
  },
  {
   "cell_type": "code",
   "execution_count": 46,
   "id": "9816ab68-cfba-4de3-8d20-e6a266ca003a",
   "metadata": {},
   "outputs": [],
   "source": [
    "from services.query.vertex_search import query_vertex_search, perform_vertex_search"
   ]
  },
  {
   "cell_type": "code",
   "execution_count": 47,
   "id": "5cbe6ed2-f8e4-45c3-be63-aed19a903c94",
   "metadata": {},
   "outputs": [],
   "source": [
    "search_query = \"what qualifies as an encounter in medicaid billing?\""
   ]
  },
  {
   "cell_type": "code",
   "execution_count": 48,
   "id": "5a89755e-0e9a-4824-b4bf-58b63306b883",
   "metadata": {},
   "outputs": [],
   "source": [
    "client = discoveryengine.SearchServiceClient()"
   ]
  },
  {
   "cell_type": "code",
   "execution_count": 49,
   "id": "b4a13a5b-8ceb-4f99-aa7f-0a2001a6415f",
   "metadata": {},
   "outputs": [],
   "source": [
    "serving_config = client.serving_config_path(\n",
    "    project=project_id,\n",
    "    location=location,\n",
    "    data_store=data_store_id,\n",
    "    serving_config=\"default_config\",\n",
    ")"
   ]
  },
  {
   "cell_type": "code",
   "execution_count": 50,
   "id": "984d8a4d-4f64-42a4-a656-ea09b087e0ef",
   "metadata": {},
   "outputs": [],
   "source": [
    "content_search_spec = discoveryengine.SearchRequest.ContentSearchSpec(\n",
    "    snippet_spec=discoveryengine.SearchRequest.ContentSearchSpec.SnippetSpec(\n",
    "        return_snippet=True\n",
    "    ),\n",
    "    summary_spec=discoveryengine.SearchRequest.ContentSearchSpec.SummarySpec(\n",
    "        summary_result_count=5,\n",
    "        include_citations=True,\n",
    "        ignore_adversarial_query=True,\n",
    "        ignore_non_summary_seeking_query=True,\n",
    "    ),\n",
    ")"
   ]
  },
  {
   "cell_type": "code",
   "execution_count": 51,
   "id": "723a8f36-9705-42bc-bd9c-3b2f4b55495e",
   "metadata": {},
   "outputs": [],
   "source": [
    "request = discoveryengine.SearchRequest(\n",
    "    serving_config=serving_config,\n",
    "    query=search_query,\n",
    "    page_size=10,\n",
    "    content_search_spec=content_search_spec,\n",
    "    query_expansion_spec=discoveryengine.SearchRequest.QueryExpansionSpec(\n",
    "        condition=discoveryengine.SearchRequest.QueryExpansionSpec.Condition.AUTO,\n",
    "    ),\n",
    "    spell_correction_spec=discoveryengine.SearchRequest.SpellCorrectionSpec(\n",
    "        mode=discoveryengine.SearchRequest.SpellCorrectionSpec.Mode.AUTO\n",
    "    ),\n",
    ")"
   ]
  },
  {
   "cell_type": "code",
   "execution_count": 52,
   "id": "f2091e2c-0637-4cff-a538-4e9d4b172b4e",
   "metadata": {},
   "outputs": [],
   "source": [
    "response = client.search(request)"
   ]
  },
  {
   "cell_type": "code",
   "execution_count": 56,
   "id": "f10418cc-faa0-41a8-baa3-9056b496c979",
   "metadata": {},
   "outputs": [
    {
     "data": {
      "text/plain": [
       "4"
      ]
     },
     "execution_count": 56,
     "metadata": {},
     "output_type": "execute_result"
    }
   ],
   "source": [
    "len(response.results)"
   ]
  },
  {
   "cell_type": "code",
   "execution_count": 58,
   "id": "4bbab0e3-c248-4922-bcc9-955d00de05bf",
   "metadata": {},
   "outputs": [
    {
     "data": {
      "text/plain": [
       "google.cloud.discoveryengine_v1alpha.types.search_service.SearchResponse.SearchResult"
      ]
     },
     "execution_count": 58,
     "metadata": {},
     "output_type": "execute_result"
    }
   ],
   "source": [
    "results = response.results\n",
    "type(results[0])"
   ]
  },
  {
   "cell_type": "code",
   "execution_count": 60,
   "id": "acc18167-f4a3-41df-aebb-c2a2189a2fd5",
   "metadata": {},
   "outputs": [
    {
     "data": {
      "text/plain": [
       "google.cloud.discoveryengine_v1alpha.services.search_service.pagers.SearchPager"
      ]
     },
     "execution_count": 60,
     "metadata": {},
     "output_type": "execute_result"
    }
   ],
   "source": [
    "type(response)"
   ]
  },
  {
   "cell_type": "code",
   "execution_count": 89,
   "id": "8c97cefd-2980-450a-946e-f349b741fe18",
   "metadata": {},
   "outputs": [],
   "source": [
    "document = results[0].document"
   ]
  },
  {
   "cell_type": "code",
   "execution_count": 112,
   "id": "2ad5d8ee-6430-4a84-99ed-e874a60f1652",
   "metadata": {},
   "outputs": [
    {
     "data": {
      "text/plain": [
       "google.cloud.discoveryengine_v1alpha.types.document.Document"
      ]
     },
     "execution_count": 112,
     "metadata": {},
     "output_type": "execute_result"
    }
   ],
   "source": [
    "type(document)"
   ]
  },
  {
   "cell_type": "code",
   "execution_count": 115,
   "id": "2c1811a2-99a8-4e6e-94ac-adee901d405b",
   "metadata": {},
   "outputs": [],
   "source": [
    "from google.protobuf.json_format import MessageToDict"
   ]
  },
  {
   "cell_type": "code",
   "execution_count": 116,
   "id": "181265b6-b603-471e-820e-844929326584",
   "metadata": {},
   "outputs": [],
   "source": [
    "import proto"
   ]
  },
  {
   "cell_type": "code",
   "execution_count": 118,
   "id": "554b3407-6330-4f3d-bf6b-502d51f46d71",
   "metadata": {},
   "outputs": [],
   "source": [
    "document_dict = proto.Message.to_dict(document)"
   ]
  },
  {
   "cell_type": "code",
   "execution_count": 119,
   "id": "1b9035f8-55a8-48a0-a2cc-69b68de5045c",
   "metadata": {},
   "outputs": [
    {
     "data": {
      "text/plain": [
       "dict_keys(['name', 'id', 'derived_struct_data', 'schema_id', 'parent_document_id'])"
      ]
     },
     "execution_count": 119,
     "metadata": {},
     "output_type": "execute_result"
    }
   ],
   "source": [
    "document_dict.keys()"
   ]
  },
  {
   "cell_type": "code",
   "execution_count": 123,
   "id": "283f027e-9056-4728-b6c4-75bb73f6b95b",
   "metadata": {},
   "outputs": [
    {
     "data": {
      "text/plain": [
       "'96 | FEDERALLY <b>QUALIFIED</b> ... See the Physician-Related Services/Healthcare Professional Services <b>Medicaid Billing</b> Guide. How do I <b>bill</b> for more than one <b>encounter</b>&nbsp;...'"
      ]
     },
     "execution_count": 123,
     "metadata": {},
     "output_type": "execute_result"
    }
   ],
   "source": [
    "document_dict[\"derived_struct_data\"][\"snippets\"][0][\"snippet\"]"
   ]
  },
  {
   "cell_type": "code",
   "execution_count": 124,
   "id": "0453d433-c4ae-465d-8436-9c1be3a5bc08",
   "metadata": {},
   "outputs": [
    {
     "data": {
      "text/plain": [
       "{'title': 'Federally Qualified Health Centers Billing Guide',\n",
       " 'snippets': [{'snippet_status': 'SUCCESS',\n",
       "   'snippet': '96 | FEDERALLY <b>QUALIFIED</b> ... See the Physician-Related Services/Healthcare Professional Services <b>Medicaid Billing</b> Guide. How do I <b>bill</b> for more than one <b>encounter</b>&nbsp;...'}],\n",
       " 'link': 'gs://lramsey-dev-mira-demo-docs/FQHC-bg-20210101.pdf'}"
      ]
     },
     "execution_count": 124,
     "metadata": {},
     "output_type": "execute_result"
    }
   ],
   "source": [
    "document_dict[\"derived_struct_data\"]"
   ]
  },
  {
   "cell_type": "code",
   "execution_count": 125,
   "id": "f0809819-3599-4ccb-bc55-3a948253762d",
   "metadata": {},
   "outputs": [],
   "source": [
    "document_data = proto.Message.to_dict(document)[\"derived_struct_data\"]"
   ]
  },
  {
   "cell_type": "code",
   "execution_count": 126,
   "id": "c9d22410-12dd-4aee-9c41-53d1574839f9",
   "metadata": {},
   "outputs": [
    {
     "data": {
      "text/plain": [
       "'gs://lramsey-dev-mira-demo-docs/FQHC-bg-20210101.pdf'"
      ]
     },
     "execution_count": 126,
     "metadata": {},
     "output_type": "execute_result"
    }
   ],
   "source": [
    "document_data[\"link\"]"
   ]
  },
  {
   "cell_type": "code",
   "execution_count": 127,
   "id": "972e5e45-ad6d-4a69-94b9-84476f20fdc8",
   "metadata": {},
   "outputs": [
    {
     "data": {
      "text/plain": [
       "'96 | FEDERALLY <b>QUALIFIED</b> ... See the Physician-Related Services/Healthcare Professional Services <b>Medicaid Billing</b> Guide. How do I <b>bill</b> for more than one <b>encounter</b>&nbsp;...'"
      ]
     },
     "execution_count": 127,
     "metadata": {},
     "output_type": "execute_result"
    }
   ],
   "source": [
    "document_data[\"snippets\"][0][\"snippet\"]"
   ]
  },
  {
   "cell_type": "code",
   "execution_count": null,
   "id": "519d3f71-f9c0-41ab-9530-ab895c40383d",
   "metadata": {},
   "outputs": [],
   "source": []
  }
 ],
 "metadata": {
  "kernelspec": {
   "display_name": "Python 3 (ipykernel)",
   "language": "python",
   "name": "python3"
  },
  "language_info": {
   "codemirror_mode": {
    "name": "ipython",
    "version": 3
   },
   "file_extension": ".py",
   "mimetype": "text/x-python",
   "name": "python",
   "nbconvert_exporter": "python",
   "pygments_lexer": "ipython3",
   "version": "3.9.13"
  }
 },
 "nbformat": 4,
 "nbformat_minor": 5
}
