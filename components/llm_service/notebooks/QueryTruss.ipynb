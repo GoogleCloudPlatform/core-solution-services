{
 "cells": [
  {
   "cell_type": "code",
   "execution_count": 1,
   "metadata": {},
   "outputs": [
    {
     "name": "stdout",
     "output_type": "stream",
     "text": [
      "['c:\\\\Users\\\\trishjam\\\\Documents\\\\trishjam\\\\projects\\\\05-nasa\\\\code\\\\core-solution-services2\\\\components\\\\llm_service\\\\notebooks', 'C:\\\\Users\\\\trishjam\\\\AppData\\\\Local\\\\Programs\\\\Python\\\\Python311\\\\python311.zip', 'C:\\\\Users\\\\trishjam\\\\AppData\\\\Local\\\\Programs\\\\Python\\\\Python311\\\\DLLs', 'C:\\\\Users\\\\trishjam\\\\AppData\\\\Local\\\\Programs\\\\Python\\\\Python311\\\\Lib', 'C:\\\\Users\\\\trishjam\\\\AppData\\\\Local\\\\Programs\\\\Python\\\\Python311', 'c:\\\\Users\\\\trishjam\\\\Documents\\\\trishjam\\\\projects\\\\05-nasa\\\\code\\\\core-solution-services2\\\\components\\\\llm_service\\\\.venv_llm3', '', 'c:\\\\Users\\\\trishjam\\\\Documents\\\\trishjam\\\\projects\\\\05-nasa\\\\code\\\\core-solution-services2\\\\components\\\\llm_service\\\\.venv_llm3\\\\Lib\\\\site-packages', 'c:\\\\Users\\\\trishjam\\\\Documents\\\\trishjam\\\\projects\\\\05-nasa\\\\code\\\\core-solution-services2\\\\components\\\\llm_service\\\\.venv_llm3\\\\Lib\\\\site-packages\\\\win32', 'c:\\\\Users\\\\trishjam\\\\Documents\\\\trishjam\\\\projects\\\\05-nasa\\\\code\\\\core-solution-services2\\\\components\\\\llm_service\\\\.venv_llm3\\\\Lib\\\\site-packages\\\\win32\\\\lib', 'c:\\\\Users\\\\trishjam\\\\Documents\\\\trishjam\\\\projects\\\\05-nasa\\\\code\\\\core-solution-services2\\\\components\\\\llm_service\\\\.venv_llm3\\\\Lib\\\\site-packages\\\\Pythonwin', '../../common/src', '../src']\n"
     ]
    }
   ],
   "source": [
    "import sys\n",
    "sys.path.append(\"../../common/src\")\n",
    "sys.path.append(\"../src\")\n",
    "print(sys.path)"
   ]
  },
  {
   "cell_type": "code",
   "execution_count": 2,
   "metadata": {},
   "outputs": [],
   "source": [
    "import os\n",
    "from google.cloud import storage\n",
    "\n",
    "PROJECT_ID = \"nasa-genie-dev\"\n",
    "REGION = \"us-central1\"\n",
    "os.environ[\"PROJECT_ID\"] = PROJECT_ID\n",
    "\n",
    "storage_client = storage.Client(project=PROJECT_ID)"
   ]
  },
  {
   "cell_type": "code",
   "execution_count": 20,
   "metadata": {},
   "outputs": [],
   "source": [
    "from services.query import query_service"
   ]
  },
  {
   "cell_type": "code",
   "execution_count": 35,
   "metadata": {},
   "outputs": [],
   "source": [
    "from common.models import QueryEngine, QueryResult, QueryReference"
   ]
  },
  {
   "cell_type": "code",
   "execution_count": 47,
   "metadata": {},
   "outputs": [],
   "source": [
    "user_id = \"bfrv1ifGrvAiJ9sWENHE\"\n",
    "prompt = \"What is Artemis?\"\n",
    "q_engine_name = \"nasa-search-integrated-v2\"\n",
    "llm_type = \"Truss-Llama2-Chat\"\n",
    "llm_type = \"VertexAI-Chat\"\n",
    "\n",
    "q_result_id = \"BYIZHG1hxubWIlo6WZQo\""
   ]
  },
  {
   "cell_type": "code",
   "execution_count": 32,
   "metadata": {},
   "outputs": [
    {
     "name": "stdout",
     "output_type": "stream",
     "text": [
      "nasa-search-integrated-v2\n"
     ]
    }
   ],
   "source": [
    "q_engine = QueryEngine.find_by_name(q_engine_name)\n",
    "print(q_engine.name)"
   ]
  },
  {
   "cell_type": "code",
   "execution_count": 43,
   "metadata": {},
   "outputs": [
    {
     "name": "stdout",
     "output_type": "stream",
     "text": [
      "6\n"
     ]
    }
   ],
   "source": [
    "query_result = QueryResult.find_by_id(q_result_id)\n",
    "query_refs = [QueryReference.find_by_id(qrefid) for qrefid in query_result.query_refs]\n",
    "print(len(query_refs))"
   ]
  },
  {
   "cell_type": "code",
   "execution_count": 48,
   "metadata": {},
   "outputs": [
    {
     "name": "stdout",
     "output_type": "stream",
     "text": [
      "INFO: [query/query_prompts.py:31 - get_question_prompt()] Creating question prompt with context for LLM prompt=[What is Artemis?]\n"
     ]
    }
   ],
   "source": [
    "result = await query_service.generate_question_prompt(prompt, llm_type, query_refs)\n",
    "# result = await query_service.query_generate(user_id, prompt, q_engine)"
   ]
  },
  {
   "cell_type": "code",
   "execution_count": 49,
   "metadata": {},
   "outputs": [
    {
     "name": "stdout",
     "output_type": "stream",
     "text": [
      "\n",
      "You are a helpful and truthful AI Assistant.\n",
      "Use the following pieces of context and the chat history to answer the question at the end.\n",
      "Do not answer anything other than the final question at the end.\n",
      "If you don't know the answer, just say that you don't know, don't try to make up an answer.\n",
      "\n",
      "Context:\n",
      "Exploration Mission 1 (EM -1) is planned for t he 2018 timeframe.  This will be an uncrewed mission to test Orions capabilities in deep space.  Exploration Mission 2 (EM -2) is the follow -on Orion mission in 2021. \n",
      "\n",
      "This will be an uncrewed mission to test Orions capabilities in deep space.  Exploration Mission 2 (EM -2) is the follow -on Orion mission in 2021.  EM-2 will be Orions first crewed mission. \n",
      "\n",
      "Exploration Mission 2 (EM -2) is the follow -on Orion mission in 2021.  EM-2 will be Orions first crewed mission.  Exploration Missions 3 and beyond will follow at a flight rate of one per year. \n",
      "\n",
      "Exploration Mission 1, currently planned for launch in December 2017, will be the first mission to carry such payloads on the SLS.  INTRODUCTIONNASA has taken steps to increase the scientific and exploration capability of the Space Launch System by providing accommodations for cubesat class payloads on Exploration Mission (EM)-1.   This first launch of the fully developed Space Launch System (SLS) and the Orion Spacecraft is planned to fly along a trans-lunar trajectory and test the performance of the SLS and Orion systems for future missions.  \n",
      "\n",
      "Launch Availability SummaryOption Number of Days Min/Max Launch Average Launch Min/Max AverageOver 1 year Period Duration Period Duration Coast Time Coast Time(days) (days) (min) (min)A 195 13/15 14.3 166/193 183B 139 10/11 10.2 64/86 78C 138 9/11 10.2 202/216 211D 149 10/12 10.9 66/88 88E >91 5/8 7.2 120/136 130F 120 7/9 8.7 90/123 105A summary of the mission design outputs for all options is provided in Table 2.  The coast timefor Option A represents the total time in LEO, including the coast to the PRM at apogee.  The coastto apogee is approximately 45 minutes, so some Orion checkouts can be performed during thattime. \n",
      "\n",
      "NASA.  November 29th, 2017.   2 W. Gerstenmaier. \n",
      "\n",
      "Chat History:\n",
      "\n",
      "\n",
      "Question: What is Artemis?\n",
      "Helpful Answer:\n"
     ]
    }
   ],
   "source": [
    "print(result[0])"
   ]
  },
  {
   "cell_type": "code",
   "execution_count": null,
   "metadata": {},
   "outputs": [],
   "source": []
  }
 ],
 "metadata": {
  "kernelspec": {
   "display_name": ".venv_llm3",
   "language": "python",
   "name": "python3"
  },
  "language_info": {
   "codemirror_mode": {
    "name": "ipython",
    "version": 3
   },
   "file_extension": ".py",
   "mimetype": "text/x-python",
   "name": "python",
   "nbconvert_exporter": "python",
   "pygments_lexer": "ipython3",
   "version": "3.11.7"
  }
 },
 "nbformat": 4,
 "nbformat_minor": 2
}
