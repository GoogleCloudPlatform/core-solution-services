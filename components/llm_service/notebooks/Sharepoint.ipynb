{
 "cells": [
  {
   "cell_type": "code",
   "execution_count": 1,
   "id": "3ad9f322-9e5b-4c82-8ac8-fa74f88b6600",
   "metadata": {},
   "outputs": [],
   "source": [
    "PROJECT_ID = \"nasa-genie-dev\"\n",
    "REGION = \"us-central1\"\n",
    "import os\n",
    "os.environ[\"PROJECT_ID\"] = PROJECT_ID"
   ]
  },
  {
   "cell_type": "code",
   "execution_count": 2,
   "id": "e7eb2174-c8e5-4d50-ad07-46316f9df0e1",
   "metadata": {},
   "outputs": [],
   "source": [
    "import sys\n",
    "sys.path.append(\"../../common/src\")\n",
    "sys.path.append(\"../src\")"
   ]
  },
  {
   "cell_type": "code",
   "execution_count": 3,
   "id": "1f0aeeef-012c-4b41-ab5e-270fe9aafa4a",
   "metadata": {},
   "outputs": [],
   "source": [
    "ONEDRIVE_CLIENT_ID = \"821b598e-4662-4f63-a858-e57837256e7f\"\n",
    "os.environ[\"ONEDRIVE_CLIENT_ID\"] = ONEDRIVE_CLIENT_ID\n",
    "ONEDRIVE_TENANT_ID = \"4b9ba20d-5ed9-4ed9-b867-ec77f339bc9c\"\n",
    "os.environ[\"ONEDRIVE_TENANT_ID\"] = ONEDRIVE_TENANT_ID"
   ]
  },
  {
   "cell_type": "code",
   "execution_count": 4,
   "id": "2aa0f44e-4db7-43fa-993a-a3e0397ae35b",
   "metadata": {},
   "outputs": [],
   "source": [
    "PG_HOST=None\n",
    "del os.environ[\"PG_HOST\"]"
   ]
  },
  {
   "cell_type": "code",
   "execution_count": 5,
   "id": "282744a7-1807-4902-bfcc-df081f0424c7",
   "metadata": {},
   "outputs": [
    {
     "name": "stdout",
     "output_type": "stream",
     "text": [
      "INFO: [config/config.py:57 - <module>()] Namespace File not found, setting job namespace as default\n"
     ]
    },
    {
     "name": "stderr",
     "output_type": "stream",
     "text": [
      "/Users/lramsey/work/ailp/lukmanr-gps-core-solution-services/components/llm_service/notebooks/.venv/lib/python3.9/site-packages/langchain_community/llms/__init__.py:166: LangChainDeprecationWarning: `` was deprecated in LangChain 0.0.22 and will be removed in 0.2. An updated version of the  exists in the langchain-community package and should be used instead. To use it run `pip install -U langchain-community` and import as `from langchain_community.chat_models import ChatDatabricks`.\n",
      "  warn_deprecated(\n",
      "/Users/lramsey/work/ailp/lukmanr-gps-core-solution-services/components/llm_service/notebooks/.venv/lib/python3.9/site-packages/langchain_community/llms/__init__.py:329: LangChainDeprecationWarning: `` was deprecated in LangChain 0.0.22 and will be removed in 0.2. An updated version of the  exists in the langchain-community package and should be used instead. To use it run `pip install -U langchain-community` and import as `from langchain_community.chat_models import ChatMlflow`.\n",
      "  warn_deprecated(\n",
      "/Users/lramsey/work/ailp/lukmanr-gps-core-solution-services/components/llm_service/notebooks/.venv/lib/python3.9/site-packages/langchain_community/llms/__init__.py:166: LangChainDeprecationWarning: `` was deprecated in LangChain 0.0.22 and will be removed in 0.2. An updated version of the  exists in the langchain-community package and should be used instead. To use it run `pip install -U langchain-community` and import as `from langchain_community.chat_models import ChatDatabricks`.\n",
      "  warn_deprecated(\n",
      "/Users/lramsey/work/ailp/lukmanr-gps-core-solution-services/components/llm_service/notebooks/.venv/lib/python3.9/site-packages/langchain_community/llms/__init__.py:329: LangChainDeprecationWarning: `` was deprecated in LangChain 0.0.22 and will be removed in 0.2. An updated version of the  exists in the langchain-community package and should be used instead. To use it run `pip install -U langchain-community` and import as `from langchain_community.chat_models import ChatMlflow`.\n",
      "  warn_deprecated(\n",
      "/Users/lramsey/work/ailp/lukmanr-gps-core-solution-services/components/llm_service/notebooks/.venv/lib/python3.9/site-packages/langchain_community/llms/__init__.py:166: LangChainDeprecationWarning: `` was deprecated in LangChain 0.0.22 and will be removed in 0.2. An updated version of the  exists in the langchain-community package and should be used instead. To use it run `pip install -U langchain-community` and import as `from langchain_community.chat_models import ChatDatabricks`.\n",
      "  warn_deprecated(\n",
      "/Users/lramsey/work/ailp/lukmanr-gps-core-solution-services/components/llm_service/notebooks/.venv/lib/python3.9/site-packages/langchain_community/llms/__init__.py:329: LangChainDeprecationWarning: `` was deprecated in LangChain 0.0.22 and will be removed in 0.2. An updated version of the  exists in the langchain-community package and should be used instead. To use it run `pip install -U langchain-community` and import as `from langchain_community.chat_models import ChatMlflow`.\n",
      "  warn_deprecated(\n",
      "/Users/lramsey/work/ailp/lukmanr-gps-core-solution-services/components/llm_service/notebooks/.venv/lib/python3.9/site-packages/langchain_community/llms/__init__.py:166: LangChainDeprecationWarning: `` was deprecated in LangChain 0.0.22 and will be removed in 0.2. An updated version of the  exists in the langchain-community package and should be used instead. To use it run `pip install -U langchain-community` and import as `from langchain_community.chat_models import ChatDatabricks`.\n",
      "  warn_deprecated(\n",
      "/Users/lramsey/work/ailp/lukmanr-gps-core-solution-services/components/llm_service/notebooks/.venv/lib/python3.9/site-packages/langchain_community/llms/__init__.py:329: LangChainDeprecationWarning: `` was deprecated in LangChain 0.0.22 and will be removed in 0.2. An updated version of the  exists in the langchain-community package and should be used instead. To use it run `pip install -U langchain-community` and import as `from langchain_community.chat_models import ChatMlflow`.\n",
      "  warn_deprecated(\n",
      "/Users/lramsey/work/ailp/lukmanr-gps-core-solution-services/components/llm_service/notebooks/.venv/lib/python3.9/site-packages/langchain_community/llms/__init__.py:166: LangChainDeprecationWarning: `` was deprecated in LangChain 0.0.22 and will be removed in 0.2. An updated version of the  exists in the langchain-community package and should be used instead. To use it run `pip install -U langchain-community` and import as `from langchain_community.chat_models import ChatDatabricks`.\n",
      "  warn_deprecated(\n",
      "/Users/lramsey/work/ailp/lukmanr-gps-core-solution-services/components/llm_service/notebooks/.venv/lib/python3.9/site-packages/langchain_community/llms/__init__.py:329: LangChainDeprecationWarning: `` was deprecated in LangChain 0.0.22 and will be removed in 0.2. An updated version of the  exists in the langchain-community package and should be used instead. To use it run `pip install -U langchain-community` and import as `from langchain_community.chat_models import ChatMlflow`.\n",
      "  warn_deprecated(\n",
      "/Users/lramsey/work/ailp/lukmanr-gps-core-solution-services/components/llm_service/notebooks/.venv/lib/python3.9/site-packages/langchain_community/llms/__init__.py:166: LangChainDeprecationWarning: `` was deprecated in LangChain 0.0.22 and will be removed in 0.2. An updated version of the  exists in the langchain-community package and should be used instead. To use it run `pip install -U langchain-community` and import as `from langchain_community.chat_models import ChatDatabricks`.\n",
      "  warn_deprecated(\n",
      "/Users/lramsey/work/ailp/lukmanr-gps-core-solution-services/components/llm_service/notebooks/.venv/lib/python3.9/site-packages/langchain_community/llms/__init__.py:329: LangChainDeprecationWarning: `` was deprecated in LangChain 0.0.22 and will be removed in 0.2. An updated version of the  exists in the langchain-community package and should be used instead. To use it run `pip install -U langchain-community` and import as `from langchain_community.chat_models import ChatMlflow`.\n",
      "  warn_deprecated(\n"
     ]
    },
    {
     "name": "stdout",
     "output_type": "stream",
     "text": [
      "ERROR: [config/model_config.py:591 - instantiate_model_class()] Cannot load langchain model class ChatCohere\n",
      "WARNING: [config/model_config.py:341 - set_model_config()] Disabling model Cohere\n"
     ]
    },
    {
     "name": "stderr",
     "output_type": "stream",
     "text": [
      "/Users/lramsey/work/ailp/lukmanr-gps-core-solution-services/components/llm_service/notebooks/.venv/lib/python3.9/site-packages/langchain_community/llms/__init__.py:166: LangChainDeprecationWarning: `` was deprecated in LangChain 0.0.22 and will be removed in 0.2. An updated version of the  exists in the langchain-community package and should be used instead. To use it run `pip install -U langchain-community` and import as `from langchain_community.chat_models import ChatDatabricks`.\n",
      "  warn_deprecated(\n",
      "/Users/lramsey/work/ailp/lukmanr-gps-core-solution-services/components/llm_service/notebooks/.venv/lib/python3.9/site-packages/langchain_community/llms/__init__.py:329: LangChainDeprecationWarning: `` was deprecated in LangChain 0.0.22 and will be removed in 0.2. An updated version of the  exists in the langchain-community package and should be used instead. To use it run `pip install -U langchain-community` and import as `from langchain_community.chat_models import ChatMlflow`.\n",
      "  warn_deprecated(\n"
     ]
    },
    {
     "name": "stdout",
     "output_type": "stream",
     "text": [
      "INFO: [config/config.py:107 - <module>()] ENABLE_GOOGLE_LLM = True\n",
      "INFO: [config/config.py:108 - <module>()] ENABLE_OPENAI_LLM = True\n",
      "INFO: [config/config.py:109 - <module>()] ENABLE_COHERE_LLM = True\n",
      "INFO: [config/config.py:110 - <module>()] ENABLE_GOOGLE_MODEL_GARDEN = True\n",
      "INFO: [config/config.py:111 - <module>()] ENABLE_TRUSS_LLAMA2 = True\n",
      "INFO: [config/vector_store_config.py:40 - <module>()] Default vector store = [matching_engine]\n",
      "INFO: [config/vector_store_config.py:49 - <module>()] PG_HOST = [127.0.0.1]\n",
      "INFO: [config/vector_store_config.py:50 - <module>()] PG_DBNAME = [pgvector]\n",
      "ERROR: [config/vector_store_config.py:77 - <module>()] Cannot connect to pgvector instance at 127.0.0.1: (psycopg2.OperationalError) connection to server at \"127.0.0.1\", port 5432 failed: Connection refused\n",
      "\tIs the server running on that host and accepting TCP/IP connections?\n",
      "\n",
      "(Background on this error at: https://sqlalche.me/e/20/e3q8)\n",
      "INFO: [config/onedrive_config.py:30 - <module>()] ONEDRIVE_CLIENT_ID = [821b598e-4662-4f63-a858-e57837256e7f]\n",
      "INFO: [config/onedrive_config.py:31 - <module>()] ONEDRIVE_TENANT_ID = [4b9ba20d-5ed9-4ed9-b867-ec77f339bc9c]\n",
      "INFO: [utils/text_helper.py:36 - <module>()] loaded spacy model\n"
     ]
    }
   ],
   "source": [
    "import os\n",
    "from typing import List\n",
    "from common.utils.logging_handler import Logger\n",
    "from common.models import QueryEngine\n",
    "from config import (PROJECT_ID,\n",
    "                    ONEDRIVE_CLIENT_ID,\n",
    "                    ONEDRIVE_TENANT_ID,\n",
    "                    ONEDRIVE_CLIENT_SECRET,\n",
    "                    ONEDRIVE_PRINCIPLE_NAME)\n",
    "from llama_index.readers.microsoft_onedrive import OneDriveReader\n",
    "from services.query.data_source import DataSource, DataSourceFile\n",
    "from services.query.sharepoint_datasource import SharePointDataSource\n",
    "from utils.gcs_helper import create_bucket, upload_to_gcs"
   ]
  },
  {
   "cell_type": "code",
   "execution_count": 6,
   "id": "599ef16f-13fb-4c5a-9757-c4d7d1a1157f",
   "metadata": {},
   "outputs": [],
   "source": [
    "doc_url = \"shpt:///NASA Demo\""
   ]
  },
  {
   "cell_type": "code",
   "execution_count": 7,
   "id": "41a6f9d1-1277-4b0a-9992-59c3c08afa49",
   "metadata": {},
   "outputs": [],
   "source": [
    "from google.cloud import storage\n",
    "storage_client = storage.Client(project=PROJECT_ID)"
   ]
  },
  {
   "cell_type": "code",
   "execution_count": 8,
   "id": "8bd0f92a-1630-4d48-8933-4d132dd217d8",
   "metadata": {},
   "outputs": [],
   "source": [
    "from common.models import QueryEngine\n",
    "q_engine = QueryEngine.find_by_name(\"Vertex Search\")\n",
    "bucket_name = SharePointDataSource.downloads_bucket_name(q_engine)\n",
    "shpt_ds = SharePointDataSource(storage_client, bucket_name=bucket_name)"
   ]
  },
  {
   "cell_type": "code",
   "execution_count": 9,
   "id": "2bea934f-1dae-4b5e-abde-cfb2c95e2b4f",
   "metadata": {},
   "outputs": [
    {
     "name": "stdout",
     "output_type": "stream",
     "text": [
      "INFO: [utils/gcs_helper.py:47 - create_bucket()] Bucket nasa-genie-dev-downloads-vertex-search already exists.\n",
      "INFO: [utils/gcs_helper.py:28 - clear_bucket()] Deleting all objects from GCS bucket nasa-genie-dev-downloads-vertex-search\n",
      "INFO: [utils/gcs_helper.py:35 - clear_bucket()] 1 files deleted\n"
     ]
    }
   ],
   "source": [
    "temp_dir = \"/tmp/nasa\"\n",
    "downloaded_docs = shpt_ds.download_documents(doc_url, temp_dir)"
   ]
  },
  {
   "cell_type": "code",
   "execution_count": 10,
   "id": "3df3e083-e560-4dd8-9aac-43ed9ada662b",
   "metadata": {},
   "outputs": [
    {
     "data": {
      "text/plain": [
       "{'doc_name': '2021_alphabet_annual_report.pdf',\n",
       " 'src_url': '01YUFKCQTIB3XGNELZLZBJUPVPMBPDBWZ6',\n",
       " 'local_path': '/tmp/nasa/2021_alphabet_annual_report.pdf',\n",
       " 'gcs_path': 'https://storage.googleapis.com/nasa-genie-dev-downloads-vertex-search/2021_alphabet_annual_report.pdf'}"
      ]
     },
     "execution_count": 10,
     "metadata": {},
     "output_type": "execute_result"
    }
   ],
   "source": [
    "downloaded_docs[0].__dict__"
   ]
  },
  {
   "cell_type": "code",
   "execution_count": null,
   "id": "30f3d609-0353-4b43-99ae-c851fbd53cb3",
   "metadata": {},
   "outputs": [],
   "source": [
    "downloaded_docs = []\n",
    "\n",
    "# extract folder name from url\n",
    "sharepoint_folder = doc_url.split(\"shpt://\")[1]\n",
    "\n",
    "if shpt_ds.bucket_name is None:\n",
    "  Logger.error(\n",
    "  f\"ERROR: Bucket name for SharepointDataSource {doc_url} not set. \"\n",
    "  f\"Scraped files not uploaded to Google Cloud Storage\")\n",
    "else:\n",
    "  # ensure downloads bucket exists, and clear contents\n",
    "  create_bucket(shpt_ds.storage_client, shpt_ds.bucket_name)"
   ]
  },
  {
   "cell_type": "code",
   "execution_count": null,
   "id": "f93002a0-9232-4a07-b6aa-d19a547e54e8",
   "metadata": {},
   "outputs": [],
   "source": [
    "# download files to local storage\n",
    "loader = OneDriveReader(\n",
    "    client_id=ONEDRIVE_CLIENT_ID,\n",
    "    tenant_id=ONEDRIVE_TENANT_ID,\n",
    "    client_secret=ONEDRIVE_CLIENT_SECRET,\n",
    "    userprincipalname=ONEDRIVE_PRINCIPLE_NAME,\n",
    "    folder_path=sharepoint_folder,\n",
    "    recursive=False\n",
    ")"
   ]
  },
  {
   "cell_type": "code",
   "execution_count": null,
   "id": "d8f8bef4-9418-4b01-82b7-af4456189fca",
   "metadata": {},
   "outputs": [],
   "source": [
    "access_token = loader._authenticate_with_msal()"
   ]
  },
  {
   "cell_type": "code",
   "execution_count": null,
   "id": "fdbb3085-eb1d-42f2-9fd0-5a1199f35794",
   "metadata": {},
   "outputs": [],
   "source": [
    "temp_dir = '/tmp/nasa'\n",
    "subfolder_metadata = loader._connect_download_and_return_metadata(\n",
    "    access_token, \n",
    "    temp_dir, \n",
    "    sharepoint_folder, \n",
    "    False, \n",
    "    userprincipalname=ONEDRIVE_PRINCIPLE_NAME,\n",
    "    isRelativePath=True\n",
    ")\n"
   ]
  },
  {
   "cell_type": "code",
   "execution_count": null,
   "id": "090eb9a7-d147-4bd1-9634-ed066413ae21",
   "metadata": {},
   "outputs": [],
   "source": [
    "subfolder_metadata"
   ]
  },
  {
   "cell_type": "code",
   "execution_count": null,
   "id": "11c44ad5-4500-42c9-9502-a481322d96df",
   "metadata": {},
   "outputs": [],
   "source": [
    "[a for a in subfolder_metadata]"
   ]
  },
  {
   "cell_type": "code",
   "execution_count": null,
   "id": "2c2765dc-536e-438f-88be-d941d14a2bbb",
   "metadata": {},
   "outputs": [],
   "source": []
  },
  {
   "cell_type": "code",
   "execution_count": null,
   "id": "230a2436-9f20-4b8f-8511-54c6ff408fe0",
   "metadata": {},
   "outputs": [],
   "source": [
    "documents = loader.load_data(recursive=False)"
   ]
  },
  {
   "cell_type": "code",
   "execution_count": null,
   "id": "2e38a827-cdbe-4601-8428-029f9f7f2dfc",
   "metadata": {},
   "outputs": [],
   "source": [
    "documents"
   ]
  },
  {
   "cell_type": "code",
   "execution_count": null,
   "id": "b35784e6-aecc-4572-a52e-88087915d2f1",
   "metadata": {},
   "outputs": [],
   "source": [
    "documents[0].metadata"
   ]
  },
  {
   "cell_type": "code",
   "execution_count": null,
   "id": "be5d54e4-9334-435a-a474-d99ee13cec27",
   "metadata": {},
   "outputs": [],
   "source": [
    "documents[2].text"
   ]
  },
  {
   "cell_type": "code",
   "execution_count": null,
   "id": "02062153-861c-44cb-8009-75d5de2c518b",
   "metadata": {},
   "outputs": [],
   "source": [
    "len(documents)"
   ]
  },
  {
   "cell_type": "code",
   "execution_count": null,
   "id": "89e745fb-65a0-4260-98fe-74a612872190",
   "metadata": {},
   "outputs": [],
   "source": [
    "documents[2].text"
   ]
  },
  {
   "cell_type": "code",
   "execution_count": null,
   "id": "f567e839-c888-44fd-b1a2-b710edb151d6",
   "metadata": {},
   "outputs": [],
   "source": []
  }
 ],
 "metadata": {
  "kernelspec": {
   "display_name": "Python 3 (ipykernel)",
   "language": "python",
   "name": "python3"
  },
  "language_info": {
   "codemirror_mode": {
    "name": "ipython",
    "version": 3
   },
   "file_extension": ".py",
   "mimetype": "text/x-python",
   "name": "python",
   "nbconvert_exporter": "python",
   "pygments_lexer": "ipython3",
   "version": "3.9.13"
  }
 },
 "nbformat": 4,
 "nbformat_minor": 5
}
