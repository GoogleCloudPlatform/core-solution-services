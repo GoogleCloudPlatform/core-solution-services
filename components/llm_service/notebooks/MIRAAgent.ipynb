{
 "cells": [
  {
   "cell_type": "code",
   "execution_count": 1,
   "id": "61f9ba3c-8703-4b16-8af2-9d5d4d327b2d",
   "metadata": {},
   "outputs": [],
   "source": [
    "import os\n",
    "import sys\n",
    "\n",
    "sys.path.append(\"../../common/src\")\n",
    "sys.path.append(\"../src\")"
   ]
  },
  {
   "cell_type": "code",
   "execution_count": 2,
   "id": "f4c6b8e1-4ecd-40d3-bede-e906d1686155",
   "metadata": {},
   "outputs": [],
   "source": [
    "from langchain.agents import Tool, AgentExecutor, BaseMultiActionAgent, AgentOutputParser\n",
    "from langchain.agents.chat.base import ChatAgent\n",
    "from langchain.prompts import StringPromptTemplate\n",
    "from langchain.llms import OpenAI, VertexAI\n",
    "from langchain.chat_models import ChatVertexAI\n",
    "from langchain.utilities import SerpAPIWrapper\n",
    "from langchain.chains import LLMChain\n",
    "from typing import List, Union\n",
    "from langchain.schema import AgentAction, AgentFinish, OutputParserException\n",
    "import re"
   ]
  },
  {
   "cell_type": "code",
   "execution_count": 3,
   "id": "24c68b1d-aea4-456c-ac69-2c7854f67bf1",
   "metadata": {},
   "outputs": [],
   "source": [
    "!export PROJECT_ID=\"gcp-mira-demo\"\n",
    "project = \"gcp-mira-demo\"\n",
    "os.environ[\"PROJECT_ID\"] = project"
   ]
  },
  {
   "cell_type": "code",
   "execution_count": 4,
   "id": "fb952721-b985-481b-9e7e-c50124e9ce63",
   "metadata": {},
   "outputs": [],
   "source": [
    "from services.agent_service import MediKateAgent\n",
    "from config import VERTEX_LLM_TYPE_BISON_CHAT\n",
    "medikate_agent = MediKateAgent(VERTEX_LLM_TYPE_BISON_CHAT)"
   ]
  },
  {
   "cell_type": "code",
   "execution_count": 5,
   "id": "9aa5f109-a246-4491-9c4e-dca297c748a0",
   "metadata": {},
   "outputs": [],
   "source": [
    "tools = medikate_agent.get_tools()\n",
    "agent = medikate_agent.load_agent()\n",
    "\n",
    "agent_executor = AgentExecutor.from_agent_and_tools(\n",
    "      agent=agent, tools=tools, verbose=True)"
   ]
  },
  {
   "cell_type": "code",
   "execution_count": 6,
   "id": "6bf9073c-d09c-4fec-895d-09f0a43b8285",
   "metadata": {},
   "outputs": [
    {
     "name": "stdout",
     "output_type": "stream",
     "text": [
      "\n",
      "\n",
      "\u001b[1m> Entering new AgentExecutor chain...\u001b[0m\n",
      "\u001b[32;1m\u001b[1;3mThought: Do I need to use a tool? Yes\n",
      "Action: medicaid_eligibility_requirements\n",
      "Action Input: \u001b[0m\n",
      "Observation: \u001b[36;1m\u001b[1;3m{'first_name': 'str', 'last_name': 'str', 'household_income': 'int', 'home_address': 'str'}\u001b[0m\n",
      "Thought:\u001b[32;1m\u001b[1;3mTo apply for Medicaid, you will need to provide the following information:\n",
      "\n",
      "* Your first name\n",
      "* Your last name\n",
      "* Your household income\n",
      "* Your home address\n",
      "\n",
      "You can also provide other information, such as your date of birth, Social Security number, and phone number. However, this information is not required to apply for Medicaid.\n",
      "\n",
      "Once you have gathered all of the necessary information, you can apply for Medicaid online or by calling your local Medicaid office.\u001b[0m\n",
      "\n",
      "\u001b[1m> Finished chain.\u001b[0m\n"
     ]
    }
   ],
   "source": [
    "prompt = \"What pieces of information do I need in order to apply for Medicaid?\"\n",
    "agent_inputs = {\n",
    "    \"input\": prompt,\n",
    "    \"chat_history\": []\n",
    "  }\n",
    "output = agent_executor.run(agent_inputs)"
   ]
  },
  {
   "cell_type": "code",
   "execution_count": 7,
   "id": "47089fd5-acdd-4d19-9b96-e92befab35c2",
   "metadata": {},
   "outputs": [
    {
     "data": {
      "text/plain": [
       "'To apply for Medicaid, you will need to provide the following information:\\n\\n* Your first name\\n* Your last name\\n* Your household income\\n* Your home address\\n\\nYou can also provide other information, such as your date of birth, Social Security number, and phone number. However, this information is not required to apply for Medicaid.\\n\\nOnce you have gathered all of the necessary information, you can apply for Medicaid online or by calling your local Medicaid office.'"
      ]
     },
     "execution_count": 7,
     "metadata": {},
     "output_type": "execute_result"
    }
   ],
   "source": [
    "output"
   ]
  },
  {
   "cell_type": "code",
   "execution_count": 8,
   "id": "1ab25dc0-ecb7-4dce-a415-06bcc39bb4be",
   "metadata": {},
   "outputs": [
    {
     "name": "stdout",
     "output_type": "stream",
     "text": [
      "\n",
      "\n",
      "\u001b[1m> Entering new AgentExecutor chain...\u001b[0m\n",
      "\u001b[32;1m\u001b[1;3mThought: Do I need to use a tool? No\n",
      "AI: Medicaid is a health insurance program for low-income people and families. To apply for Medicaid, you must meet certain eligibility requirements. These requirements vary from state to state, but generally include having a low income and being a U.S. citizen or legal resident. You can apply for Medicaid online, by mail, or in person at your local Medicaid office. For more information on how to apply for Medicaid, please visit your state's Medicaid website.\u001b[0m\n",
      "\n",
      "\u001b[1m> Finished chain.\u001b[0m\n"
     ]
    }
   ],
   "source": [
    "prompt = \"How do I apply for Medicaid?\"\n",
    "agent_inputs = {\n",
    "    \"input\": prompt,\n",
    "    \"chat_history\": []\n",
    "  }\n",
    "output = agent_executor.run(agent_inputs)"
   ]
  },
  {
   "cell_type": "code",
   "execution_count": null,
   "id": "7c3b1074-15ad-4920-9187-e42419132e28",
   "metadata": {},
   "outputs": [],
   "source": [
    "output"
   ]
  },
  {
   "cell_type": "code",
   "execution_count": null,
   "id": "dfbb59c5-dcc3-4636-bf2c-88534f5ba4f6",
   "metadata": {},
   "outputs": [],
   "source": []
  }
 ],
 "metadata": {
  "kernelspec": {
   "display_name": "Python 3 (ipykernel)",
   "language": "python",
   "name": "python3"
  },
  "language_info": {
   "codemirror_mode": {
    "name": "ipython",
    "version": 3
   },
   "file_extension": ".py",
   "mimetype": "text/x-python",
   "name": "python",
   "nbconvert_exporter": "python",
   "pygments_lexer": "ipython3",
   "version": "3.9.13"
  }
 },
 "nbformat": 4,
 "nbformat_minor": 5
}
