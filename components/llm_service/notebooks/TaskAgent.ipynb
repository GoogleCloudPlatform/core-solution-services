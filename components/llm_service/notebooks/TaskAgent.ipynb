{
 "cells": [
  {
   "cell_type": "code",
   "execution_count": null,
   "id": "61f9ba3c-8703-4b16-8af2-9d5d4d327b2d",
   "metadata": {},
   "outputs": [],
   "source": [
    "import os\n",
    "import sys\n",
    "\n",
    "sys.path.append(\"../../common/src\")\n",
    "sys.path.append(\"../src\")\n",
    "os.chdir(\"../src\")"
   ]
  },
  {
   "cell_type": "code",
   "execution_count": null,
   "id": "f4c6b8e1-4ecd-40d3-bede-e906d1686155",
   "metadata": {},
   "outputs": [],
   "source": [
    "from langchain.agents import Tool, AgentExecutor, BaseMultiActionAgent, AgentOutputParser\n",
    "from langchain.agents.chat.base import ChatAgent\n",
    "from langchain.prompts import StringPromptTemplate\n",
    "from langchain.llms import OpenAI, VertexAI\n",
    "from langchain.chat_models import ChatVertexAI, ChatOpenAI\n",
    "from langchain.utilities import SerpAPIWrapper\n",
    "from langchain.chains import LLMChain\n",
    "from typing import List, Union\n",
    "from langchain.schema import AgentAction, AgentFinish, OutputParserException\n",
    "import re"
   ]
  },
  {
   "cell_type": "code",
   "execution_count": null,
   "id": "24c68b1d-aea4-456c-ac69-2c7854f67bf1",
   "metadata": {},
   "outputs": [],
   "source": [
    "!export PROJECT_ID=\"gcp-mira-demo\"\n",
    "project = \"gcp-mira-demo\"\n",
    "os.environ[\"PROJECT_ID\"] = project\n",
    "PROJECT_ID = project"
   ]
  },
  {
   "cell_type": "code",
   "execution_count": null,
   "id": "8fa76111-f1f8-4789-b202-4ca10a69abfd",
   "metadata": {},
   "outputs": [],
   "source": [
    "import config\n",
    "from config import (VERTEX_LLM_TYPE_BISON_CHAT,\n",
    "                    VERTEX_LLM_TYPE_BISON_TEXT,\n",
    "                    OPENAI_LLM_TYPE_GPT3_5,\n",
    "                    OPENAI_LLM_TYPE_GPT4,\n",
    "                    COHERE_LLM_TYPE,\n",
    "                    LLM_BACKEND_ROBOT_USERNAME,\n",
    "                    LLM_BACKEND_ROBOT_PASSWORD)\n",
    "from common.utils.token_handler import UserCredentials\n",
    "config.TOOLS_SERVICE_BASE_URL = \"https://gcp-mira-demo.cloudpssolutions.com/tools-service/api/v1\"\n",
    "config.auth_client = UserCredentials(LLM_BACKEND_ROBOT_USERNAME,\n",
    "                              LLM_BACKEND_ROBOT_PASSWORD,\n",
    "                              \"https://gcp-mira-demo.cloudpssolutions.com\")"
   ]
  },
  {
   "cell_type": "code",
   "execution_count": null,
   "id": "9a4ce13c-baf4-44e2-b48e-6ffd283ee08e",
   "metadata": {},
   "outputs": [],
   "source": [
    "config.SERVICES['tools-service']['host']='https://gcp-mira-demo.cloudpssolutions.com'"
   ]
  },
  {
   "cell_type": "code",
   "execution_count": null,
   "id": "ca92a118-985d-4815-8dda-b19d73599b56",
   "metadata": {},
   "outputs": [],
   "source": [
    "config.SERVICES['tools-service']['api_url_prefix']='https://gcp-mira-demo.cloudpssolutions.com/tools-service/api/v1'"
   ]
  },
  {
   "cell_type": "code",
   "execution_count": null,
   "id": "36729e2c-cf64-4862-81c0-dfca35191c85",
   "metadata": {},
   "outputs": [],
   "source": [
    "config.SERVICES['tools-service']"
   ]
  },
  {
   "cell_type": "code",
   "execution_count": null,
   "id": "67079e21-816e-418f-9152-f0f056c44f17",
   "metadata": {},
   "outputs": [],
   "source": [
    "from common.models import Agent\n",
    "from common.models.agent import AgentType, UserPlan, PlanStep\n",
    "from services.agents.agent_service import get_agent_config, get_plan_agent_config,agent_execute_plan"
   ]
  },
  {
   "cell_type": "code",
   "execution_count": null,
   "id": "fb952721-b985-481b-9e7e-c50124e9ce63",
   "metadata": {},
   "outputs": [],
   "source": [
    "from services.agents.agents import TaskAgent, StructuredTaskAgent, PlanAgent\n",
    "#casey_plan_agent = TaskAgent(VERTEX_LLM_TYPE_BISON_TEXT)\n",
    "#casey_plan_agent = TaskAgent(VERTEX_LLM_TYPE_BISON_CHAT)\n",
    "#casey_plan_agent = TaskPlanAgent(OPENAI_LLM_TYPE_GPT3_5)\n",
    "#casey_plan_agent = TaskAgent(OPENAI_LLM_TYPE_GPT4)\n",
    "casey_plan_agent = StructuredTaskAgent(OPENAI_LLM_TYPE_GPT4)\n",
    "#casey_plan_agent = TaskPlanAgent(COHERE_LLM_TYPE)"
   ]
  },
  {
   "cell_type": "code",
   "execution_count": null,
   "id": "f1925b32-48f0-4d92-a8f6-c2a501ce1c6f",
   "metadata": {},
   "outputs": [],
   "source": [
    "prompt = \"\"\"Compose and send an email to all the medicaid applicants that are missing income verification asking them to provide a pay stub from their employers\"\"\""
   ]
  },
  {
   "cell_type": "code",
   "execution_count": null,
   "id": "9aa5f109-a246-4491-9c4e-dca297c748a0",
   "metadata": {},
   "outputs": [],
   "source": [
    "user_id = \"5nJrkPWa3D0yCKA853mD\""
   ]
  },
  {
   "cell_type": "code",
   "execution_count": null,
   "id": "d0b3a5a1-ad41-42c6-8f74-b23bedfc836c",
   "metadata": {},
   "outputs": [],
   "source": [
    "#agent_executor.run(agent_inputs)"
   ]
  },
  {
   "cell_type": "code",
   "execution_count": null,
   "id": "692a4d14-dba7-4e83-92b0-f38c3c767eeb",
   "metadata": {},
   "outputs": [],
   "source": [
    "from services.agents.agent_service import agent_plan, parse_plan"
   ]
  },
  {
   "cell_type": "code",
   "execution_count": null,
   "id": "95e38ee6-46e7-421a-a441-d60bee40e4a0",
   "metadata": {},
   "outputs": [],
   "source": [
    "plan = agent_plan(\"Plan\", prompt, user_id)\n",
    "\n",
    "user_plan = plan[1]\n",
    "plan_steps=user_plan.plan_steps\n",
    "chat_history = []\n",
    "\n",
    "for step in plan_steps:\n",
    "    description = PlanStep.find_by_id(step).description\n",
    "    chat_history.append(description)"
   ]
  },
  {
   "cell_type": "code",
   "execution_count": null,
   "id": "c7ed7efe-b7f4-45a0-9974-f1476a42b864",
   "metadata": {
    "scrolled": true
   },
   "outputs": [],
   "source": [
    "tools = casey_plan_agent.get_tools()\n",
    "print(tools)\n",
    "\n",
    "agent = casey_plan_agent.load_agent()\n",
    "\n",
    "prompt = \"\"\"Execute the steps outlined in the chat_history input variable \"\"\"\n",
    "#prompt = \"\"\"Compose and send an email to all the medicaid applicants that are missing income verification asking them to provide a pay stub from their employers\"\"\"\n",
    "agent_executor = AgentExecutor.from_agent_and_tools(\n",
    "  agent=agent, \n",
    "    tools=tools,\n",
    "    verbose=True)\n",
    "\n",
    "\n"
   ]
  },
  {
   "cell_type": "code",
   "execution_count": null,
   "id": "1c28d4bb-e125-4b54-af09-d4ffcc88dd87",
   "metadata": {},
   "outputs": [],
   "source": [
    "#chat_history[0]= '1. Use [query_tool] to [ find Medicaid applicants missing a pay stub ]'\n",
    "#chat_history[2] = '3. Use [gmail_tool] to [send the composed email to the identified applicants]' \n",
    "#chat_history.insert(1,'Use [docs_tool] to [compose an email asking for a pay stub from their employers]')"
   ]
  },
  {
   "cell_type": "code",
   "execution_count": null,
   "id": "992ddf3c-4b3e-4c18-9c37-b3e52bf2e91a",
   "metadata": {},
   "outputs": [],
   "source": [
    "chat_history_string = ''.join(chat_history)\n",
    "agent_inputs = {\n",
    "    \"input\": prompt + 'chat_history:'+chat_history_string\n",
    "}"
   ]
  },
  {
   "cell_type": "code",
   "execution_count": null,
   "id": "b4f917e8-1ac6-4100-861a-307082773039",
   "metadata": {},
   "outputs": [],
   "source": [
    "agent_inputs['input']"
   ]
  },
  {
   "cell_type": "code",
   "execution_count": null,
   "id": "9d73f802-8fb6-49d7-a833-165c2d9ffe38",
   "metadata": {},
   "outputs": [],
   "source": [
    "result = agent_executor.run(agent_inputs)"
   ]
  },
  {
   "cell_type": "code",
   "execution_count": null,
   "id": "b47f8a31-4ed1-4c6d-9347-ccc30c9b2484",
   "metadata": {},
   "outputs": [],
   "source": [
    "agent_execute_plan(agent_name='StructuredTask', prompt=agent_inputs['input'],user_plan=user_plan)"
   ]
  },
  {
   "cell_type": "code",
   "execution_count": null,
   "id": "581158f4-2e2b-4dfb-b0be-311f9f45a325",
   "metadata": {},
   "outputs": [],
   "source": [
    "\n"
   ]
  },
  {
   "cell_type": "code",
   "execution_count": null,
   "id": "1141436c-e0fa-43f3-bdca-a187590c702e",
   "metadata": {},
   "outputs": [],
   "source": []
  }
 ],
 "metadata": {
  "kernelspec": {
   "display_name": "Python 3 (ipykernel)",
   "language": "python",
   "name": "python3"
  },
  "language_info": {
   "codemirror_mode": {
    "name": "ipython",
    "version": 3
   },
   "file_extension": ".py",
   "mimetype": "text/x-python",
   "name": "python",
   "nbconvert_exporter": "python",
   "pygments_lexer": "ipython3",
   "version": "3.9.6"
  }
 },
 "nbformat": 4,
 "nbformat_minor": 5
}
