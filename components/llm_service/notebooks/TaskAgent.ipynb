{
 "cells": [
  {
   "cell_type": "code",
   "execution_count": 1,
   "id": "61f9ba3c-8703-4b16-8af2-9d5d4d327b2d",
   "metadata": {},
   "outputs": [],
   "source": [
    "import os\n",
    "import sys\n",
    "\n",
    "sys.path.append(\"../../common/src\")\n",
    "sys.path.append(\"../src\")\n",
    "os.chdir(\"../src\")"
   ]
  },
  {
   "cell_type": "code",
   "execution_count": 2,
   "id": "f4c6b8e1-4ecd-40d3-bede-e906d1686155",
   "metadata": {},
   "outputs": [],
   "source": [
    "from langchain.agents import Tool, AgentExecutor, BaseMultiActionAgent, AgentOutputParser\n",
    "from langchain.agents.chat.base import ChatAgent\n",
    "from langchain.prompts import StringPromptTemplate\n",
    "from langchain.llms import OpenAI, VertexAI\n",
    "from langchain.chat_models import ChatVertexAI, ChatOpenAI\n",
    "from langchain.utilities import SerpAPIWrapper\n",
    "from langchain.chains import LLMChain\n",
    "from typing import List, Union\n",
    "from langchain.schema import AgentAction, AgentFinish, OutputParserException\n",
    "import re"
   ]
  },
  {
   "cell_type": "code",
   "execution_count": 3,
   "id": "24c68b1d-aea4-456c-ac69-2c7854f67bf1",
   "metadata": {},
   "outputs": [],
   "source": [
    "!export PROJECT_ID=\"gcp-mira-demo\"\n",
    "project = \"gcp-mira-demo\"\n",
    "os.environ[\"PROJECT_ID\"] = project\n",
    "PROJECT_ID = project"
   ]
  },
  {
   "cell_type": "code",
   "execution_count": 4,
   "id": "8fa76111-f1f8-4789-b202-4ca10a69abfd",
   "metadata": {},
   "outputs": [
    {
     "name": "stdout",
     "output_type": "stream",
     "text": [
      "INFO: [config/config.py:54 - <module>()] Namespace File not found, setting job namespace as default\n",
      "INFO: [config/config.py:87 - get_environ_flag()] ENABLE_GOOGLE_LLM = True\n",
      "INFO: [config/config.py:87 - get_environ_flag()] ENABLE_GOOGLE_MODEL_GARDEN = True\n",
      "INFO: [config/config.py:87 - get_environ_flag()] ENABLE_LLAMA2CPP_LLM = False\n",
      "INFO: [config/config.py:87 - get_environ_flag()] ENABLE_OPENAI_LLM = True\n",
      "INFO: [config/config.py:87 - get_environ_flag()] ENABLE_COHERE_LLM = True\n",
      "INFO: [config/config.py:87 - get_environ_flag()] ENABLE_TRUSS_LLAMA2 = True\n",
      "INFO: [config/config.py:246 - <module>()] Can't load llm_service_models.json: 404 Secret [projects/63101149566/secrets/llm_service_password_Llama2cpp] not found or has no versions. [detail: \"[ORIGINAL ERROR] generic::not_found: Secret [projects/63101149566/secrets/llm_service_password_Llama2cpp] not found or has no versions. [google.rpc.error_details_ext] { message: \\\"Secret [projects/63101149566/secrets/llm_service_password_Llama2cpp] not found or has no versions.\\\" }\"\n",
      "]\n",
      "INFO: [config/config.py:258 - <module>()] LLM types loaded ['OpenAI-GPT3.5', 'OpenAI-GPT4', 'Cohere', 'VertexAI-Text', 'VertexAI-Chat-V1', 'VertexAI-Chat']\n",
      "INFO: [config/config.py:283 - <module>()] Embedding models loaded ['VertexAI-Embedding', 'OpenAI-Embeddings']\n",
      "INFO: [config/vector_store_config.py:38 - <module>()] Default vector store = [matching_engine]\n",
      "WARNING: [config/vector_store_config.py:53 - <module>()] Can't access postgres user password secret\n"
     ]
    }
   ],
   "source": [
    "import config\n",
    "from config import (VERTEX_LLM_TYPE_BISON_CHAT,\n",
    "                    VERTEX_LLM_TYPE_BISON_TEXT,\n",
    "                    OPENAI_LLM_TYPE_GPT3_5,\n",
    "                    OPENAI_LLM_TYPE_GPT4,\n",
    "                    COHERE_LLM_TYPE,\n",
    "                    LLM_BACKEND_ROBOT_USERNAME,\n",
    "                    LLM_BACKEND_ROBOT_PASSWORD)\n",
    "from common.utils.token_handler import UserCredentials\n",
    "config.TOOLS_SERVICE_BASE_URL = \"https://gcp-mira-demo.cloudpssolutions.com/tools-service/api/v1\"\n",
    "config.auth_client = UserCredentials(LLM_BACKEND_ROBOT_USERNAME,\n",
    "                              LLM_BACKEND_ROBOT_PASSWORD,\n",
    "                              \"https://gcp-mira-demo.cloudpssolutions.com\")"
   ]
  },
  {
   "cell_type": "code",
   "execution_count": 5,
   "id": "9a4ce13c-baf4-44e2-b48e-6ffd283ee08e",
   "metadata": {},
   "outputs": [],
   "source": [
    "config.SERVICES['tools-service']['host']='https://gcp-mira-demo.cloudpssolutions.com'"
   ]
  },
  {
   "cell_type": "code",
   "execution_count": 6,
   "id": "ca92a118-985d-4815-8dda-b19d73599b56",
   "metadata": {},
   "outputs": [],
   "source": [
    "config.SERVICES['tools-service']['api_url_prefix']='https://gcp-mira-demo.cloudpssolutions.com/tools-service/api/v1'"
   ]
  },
  {
   "cell_type": "code",
   "execution_count": 7,
   "id": "36729e2c-cf64-4862-81c0-dfca35191c85",
   "metadata": {},
   "outputs": [
    {
     "data": {
      "text/plain": [
       "{'host': 'https://gcp-mira-demo.cloudpssolutions.com',\n",
       " 'port': 80,\n",
       " 'api_path': '/tools-service/api/v1',\n",
       " 'api_url_prefix': 'https://gcp-mira-demo.cloudpssolutions.com/tools-service/api/v1'}"
      ]
     },
     "execution_count": 7,
     "metadata": {},
     "output_type": "execute_result"
    }
   ],
   "source": [
    "config.SERVICES['tools-service']"
   ]
  },
  {
   "cell_type": "code",
   "execution_count": 8,
   "id": "67079e21-816e-418f-9152-f0f056c44f17",
   "metadata": {},
   "outputs": [],
   "source": [
    "from common.models import Agent\n",
    "from common.models.agent import AgentType, UserPlan, PlanStep\n",
    "from services.agents.agent_service import get_agent_config, get_plan_agent_config,agent_execute_plan, run_agent"
   ]
  },
  {
   "cell_type": "code",
   "execution_count": 9,
   "id": "fb952721-b985-481b-9e7e-c50124e9ce63",
   "metadata": {},
   "outputs": [],
   "source": [
    "from services.agents.agents import TaskAgent, PlanAgent\n",
    "#casey_plan_agent = TaskAgent(VERTEX_LLM_TYPE_BISON_TEXT)\n",
    "#casey_plan_agent = TaskAgent(VERTEX_LLM_TYPE_BISON_CHAT)\n",
    "#casey_plan_agent = TaskPlanAgent(OPENAI_LLM_TYPE_GPT3_5)\n",
    "#casey_plan_agent = TaskAgent(OPENAI_LLM_TYPE_GPT4)\n",
    "casey_plan_agent = TaskAgent(OPENAI_LLM_TYPE_GPT4)\n",
    "#casey_plan_agent = TaskPlanAgent(COHERE_LLM_TYPE)"
   ]
  },
  {
   "cell_type": "code",
   "execution_count": 10,
   "id": "f1925b32-48f0-4d92-a8f6-c2a501ce1c6f",
   "metadata": {},
   "outputs": [],
   "source": [
    "prompt = \"\"\"Compose and send an email to all the medicaid applicants that are missing income verification asking them to provide a pay stub from their employers\"\"\""
   ]
  },
  {
   "cell_type": "code",
   "execution_count": 11,
   "id": "9aa5f109-a246-4491-9c4e-dca297c748a0",
   "metadata": {},
   "outputs": [],
   "source": [
    "user_id = \"5nJrkPWa3D0yCKA853mD\""
   ]
  },
  {
   "cell_type": "code",
   "execution_count": 12,
   "id": "d0b3a5a1-ad41-42c6-8f74-b23bedfc836c",
   "metadata": {},
   "outputs": [],
   "source": [
    "#agent_executor.run(agent_inputs)"
   ]
  },
  {
   "cell_type": "code",
   "execution_count": 13,
   "id": "692a4d14-dba7-4e83-92b0-f38c3c767eeb",
   "metadata": {},
   "outputs": [],
   "source": [
    "from services.agents.agent_service import agent_plan, parse_plan"
   ]
  },
  {
   "cell_type": "code",
   "execution_count": 14,
   "id": "95e38ee6-46e7-421a-a441-d60bee40e4a0",
   "metadata": {},
   "outputs": [
    {
     "name": "stdout",
     "output_type": "stream",
     "text": [
      "INFO: [agents/agent_service.py:178 - agent_plan()] Starting with plan for agent_name=[Plan], prompt=[Compose and send an email to all the medicaid applicants that are missing income verification asking them to provide a pay stub from their employers], user_id=[5nJrkPWa3D0yCKA853mD], chat_history=[None]\n",
      "INFO: [agents/agent_service.py:136 - run_agent()] Running Plan agent with prompt=[Compose and send an email to all the medicaid applicants that are missing income verification asking them to provide a pay stub from their employers] and chat_history=[None]\n",
      "INFO: [agents/agent_service.py:145 - run_agent()] Available tools=[gmail_tool, docs_tool, calendar_tool, search_tool, query_tool]\n",
      "INFO: [agents/agents.py:104 - load_agent()] Successfully loaded PlanAgent agent.\n",
      "INFO: [agents/agent_service.py:157 - run_agent()] Running agent executor.... \n",
      "INFO: [agents/agent_service.py:159 - run_agent()] Agent Plan generated output=[The task involves identifying Medicaid applicants who are missing income verification, composing an email to them, and sending it. The email should request them to provide a pay stub from their employers. \n",
      "\n",
      "To accomplish this, we need to perform a query to identify the applicants who are missing income verification. Then, we need to compose an email and send it to the identified applicants. \n",
      "\n",
      "The tools available to us are the query_tool, docs_tool, and gmail_tool. The query_tool can be used to identify the applicants, the docs_tool can be used to compose the email, and the gmail_tool can be used to send the email.\n",
      "\n",
      "Plan: \n",
      "1. Use [query_tool] to [identify Medicaid applicants who are missing income verification]\n",
      "2. Use [docs_tool] to [compose an email asking the applicants to provide a pay stub from their employers]\n",
      "3. Use [gmail_tool] to [send the composed email to the identified applicants]]\n",
      "INFO: [agents/agent_service.py:219 - parse_plan()] Parsing agent plan The task involves identifying Medicaid applicants who are missing income verification, composing an email to them, and sending it. The email should request them to provide a pay stub from their employers. \n",
      "\n",
      "To accomplish this, we need to perform a query to identify the applicants who are missing income verification. Then, we need to compose an email and send it to the identified applicants. \n",
      "\n",
      "The tools available to us are the query_tool, docs_tool, and gmail_tool. The query_tool can be used to identify the applicants, the docs_tool can be used to compose the email, and the gmail_tool can be used to send the email.\n",
      "\n",
      "Plan: \n",
      "1. Use [query_tool] to [identify Medicaid applicants who are missing income verification]\n",
      "2. Use [docs_tool] to [compose an email asking the applicants to provide a pay stub from their employers]\n",
      "3. Use [gmail_tool] to [send the composed email to the identified applicants]\n",
      "INFO: [agents/agent_service.py:210 - agent_plan()] Created steps using plan_agent_name=[Plan] raw_plan_steps=['1. Use [query_tool] to [identify Medicaid applicants who are missing income verification]', '2. Use [docs_tool] to [compose an email asking the applicants to provide a pay stub from their employers]', '3. Use [gmail_tool] to [send the composed email to the identified applicants]']\n"
     ]
    }
   ],
   "source": [
    "plan = agent_plan(\"Plan\", prompt, user_id)\n",
    "\n",
    "user_plan = plan[1]\n",
    "plan_steps=user_plan.plan_steps\n",
    "chat_history = []\n",
    "\n",
    "for step in plan_steps:\n",
    "    description = PlanStep.find_by_id(step).description\n",
    "    chat_history.append(description)"
   ]
  },
  {
   "cell_type": "code",
   "execution_count": 15,
   "id": "c7ed7efe-b7f4-45a0-9974-f1476a42b864",
   "metadata": {
    "scrolled": true
   },
   "outputs": [
    {
     "name": "stdout",
     "output_type": "stream",
     "text": [
      "[StructuredTool(name='gmail_tool', description='gmail_tool(recipients: List, subject: str, message: str) -> str - Send an email to a list of recipients', args_schema=<class 'pydantic.main.gmail_toolSchemaSchema'>, func=<function gmail_tool at 0x15c5a59d0>), StructuredTool(name='docs_tool', description='docs_tool(recipients: List, content: str) -> Dict - Compose or create a document using Google Docs', args_schema=<class 'pydantic.main.docs_toolSchemaSchema'>, func=<function docs_tool at 0x15c5a5a60>), StructuredTool(name='calendar_tool', description='calendar_tool(date: str) -> str - Create and update meetings using Google Calendar', args_schema=<class 'pydantic.main.calendar_toolSchemaSchema'>, func=<function calendar_tool at 0x15c5a5af0>), StructuredTool(name='search_tool', description='search_tool(query: str) -> str - Perform an internet search.', args_schema=<class 'pydantic.main.search_toolSchemaSchema'>, func=<function search_tool at 0x15c5a5b80>), StructuredTool(name='query_tool', description='query_tool(query: str) -> Dict - Perform a query and craft an answer using one of the available query engines.', args_schema=<class 'pydantic.main.query_toolSchemaSchema'>, func=<function query_tool at 0x15c5a5ca0>)]\n",
      "INFO: [agents/agents.py:104 - load_agent()] Successfully loaded TaskAgent agent.\n"
     ]
    }
   ],
   "source": [
    "tools = casey_plan_agent.get_tools()\n",
    "print(tools)\n",
    "\n",
    "agent = casey_plan_agent.load_agent()\n",
    "\n",
    "#prompt = \"\"\"You are an AI assistant that can execute steps by calling upon the right tools. You have access to all the information required to execute the plan by from the values returned by the tools . Execute the steps as outlined in the following numbered list \"\"\"\n",
    "prompt = \"Execute the steps provided\"\n",
    "agent_executor = AgentExecutor.from_agent_and_tools(\n",
    "  agent=agent, \n",
    "    tools=tools,\n",
    "    verbose=True)\n",
    "\n",
    "\n"
   ]
  },
  {
   "cell_type": "code",
   "execution_count": 16,
   "id": "1c28d4bb-e125-4b54-af09-d4ffcc88dd87",
   "metadata": {},
   "outputs": [],
   "source": [
    "#chat_history[0]= '1. Use [query_tool] to [ find Medicaid applicants missing a pay stub ]'\n",
    "#chat_history[2] = '3. Use [gmail_tool] to [send the composed email to the identified applicants]' \n",
    "#chat_history.insert(1,'Use [docs_tool] to [compose an email asking for a pay stub from their employers]')"
   ]
  },
  {
   "cell_type": "code",
   "execution_count": 17,
   "id": "992ddf3c-4b3e-4c18-9c37-b3e52bf2e91a",
   "metadata": {},
   "outputs": [],
   "source": [
    "chat_history_string = ''.join(chat_history)\n",
    "agent_inputs = {\n",
    "    \"input\": prompt + chat_history_string\n",
    "}\n",
    "#agent_inputs = {\n",
    "#    \"input\": prompt, \n",
    "#    'chat_history':chat_history\n",
    "#}"
   ]
  },
  {
   "cell_type": "code",
   "execution_count": 18,
   "id": "b4f917e8-1ac6-4100-861a-307082773039",
   "metadata": {},
   "outputs": [
    {
     "data": {
      "text/plain": [
       "'Execute the steps provided1. Use [query_tool] to [identify Medicaid applicants who are missing income verification]2. Use [docs_tool] to [compose an email asking the applicants to provide a pay stub from their employers]3. Use [gmail_tool] to [send the composed email to the identified applicants]'"
      ]
     },
     "execution_count": 18,
     "metadata": {},
     "output_type": "execute_result"
    }
   ],
   "source": [
    "agent_inputs['input']"
   ]
  },
  {
   "cell_type": "code",
   "execution_count": 19,
   "id": "9d73f802-8fb6-49d7-a833-165c2d9ffe38",
   "metadata": {},
   "outputs": [
    {
     "name": "stdout",
     "output_type": "stream",
     "text": [
      "\n",
      "\n",
      "\u001b[1m> Entering new AgentExecutor chain...\u001b[0m\n",
      "\u001b[32;1m\u001b[1;3mThought: The first step is to identify Medicaid applicants who are missing income verification. I will use the query_tool to perform this action.\n",
      "\n",
      "Action:\n",
      "```\n",
      "{\n",
      "  \"action\": \"query_tool\",\n",
      "  \"action_input\": \"identify Medicaid applicants who are missing income verification\"\n",
      "}\n",
      "```\u001b[0m\n",
      "Observation: \u001b[33;1m\u001b[1;3m{'recipients': ['sumeetvij@google.com']}\u001b[0m\n",
      "Thought:\u001b[32;1m\u001b[1;3mThe query_tool has returned a list of recipients who are missing income verification for Medicaid. The next step is to compose an email asking these applicants to provide a pay stub from their employers. I will use the docs_tool to compose this email.\n",
      "\n",
      "Action:\n",
      "```\n",
      "{\n",
      "  \"action\": \"docs_tool\",\n",
      "  \"action_input\": {\n",
      "    \"recipients\": [\"sumeetvij@google.com\"],\n",
      "    \"content\": \"Dear Applicant, \\n\\nWe have noticed that your Medicaid application is missing income verification. Please provide a pay stub from your employer at your earliest convenience. \\n\\nThank you, \\nMedicaid Services\"\n",
      "  }\n",
      "}\n",
      "```\u001b[0m[docs_tool]: ['sumeetvij@google.com']\n",
      "INFO: [agents/agent_tools.py:111 - docs_tool()] [docs_tool] Composed an email with subject:  Subject: Income Verification Request for Application Review\n",
      "\n",
      "Observation: \u001b[33;1m\u001b[1;3m{'subject': ' Subject: Income Verification Request for Application Review', 'message': '\\n\\nDear Applicant,\\n\\nThank you for submitting your application to our agency. We are in the process of reviewing your application and have noticed that we are missing income verification. \\n\\nIn order to complete the review of your application, please email a pay stub from your employer to our office.\\n\\nWe appreciate your cooperation and look forward to hearing from you soon.\\n\\nSincerely,\\n\\n[Your Name]'}\u001b[0m\n",
      "Thought:\u001b[32;1m\u001b[1;3mThe docs_tool has returned the subject and message for the email. The next step is to send this email to the identified applicants. I will use the gmail_tool to send this email.\n",
      "\n",
      "Action:\n",
      "```\n",
      "{\n",
      "  \"action\": \"gmail_tool\",\n",
      "  \"action_input\": {\n",
      "    \"recipients\": [\"sumeetvij@google.com\"],\n",
      "    \"subject\": \"Subject: Income Verification Request for Application Review\",\n",
      "    \"message\": \"\\n\\nDear Applicant,\\n\\nThank you for submitting your application to our agency. We are in the process of reviewing your application and have noticed that we are missing income verification. \\n\\nIn order to complete the review of your application, please email a pay stub from your employer to our office.\\n\\nWe appreciate your cooperation and look forward to hearing from you soon.\\n\\nSincerely,\\n\\n[Your Name]\"\n",
      "  }\n",
      "}\n",
      "```\u001b[0mINFO: [agents/agent_tools.py:73 - gmail_tool()] [gmail_tool] Sending email to sumeetvij@google.com. Result: Message sent. Message Id: 18c3c0bad3e8f606\n",
      "\n",
      "Observation: \u001b[36;1m\u001b[1;3m[gmail_tool] Sending email to sumeetvij@google.com. Result: Message sent. Message Id: 18c3c0bad3e8f606\u001b[0m\n",
      "Thought:\u001b[32;1m\u001b[1;3mThe email has been successfully sent to the recipient. All the steps have been executed as outlined. The task is now complete. \n",
      "\n",
      "Action:\n",
      "```\n",
      "{\n",
      "  \"action\": \"Final Answer\",\n",
      "  \"action_input\": \"The email has been successfully sent to the recipient. All the steps have been executed as outlined.\"\n",
      "}\n",
      "```\u001b[0m\n",
      "\n",
      "\u001b[1m> Finished chain.\u001b[0m\n"
     ]
    }
   ],
   "source": [
    "result = agent_executor.run(agent_inputs)"
   ]
  },
  {
   "cell_type": "code",
   "execution_count": 21,
   "id": "b47f8a31-4ed1-4c6d-9347-ccc30c9b2484",
   "metadata": {},
   "outputs": [
    {
     "name": "stdout",
     "output_type": "stream",
     "text": [
      "INFO: [agents/agent_service.py:243 - agent_execute_plan()] Running Task agent with prompt=[Execute the steps provided] and user_plan=[<common.models.agent.UserPlan object at 0x13030e1f0>]\n",
      "INFO: [agents/agents.py:104 - load_agent()] Successfully loaded TaskAgent agent.\n",
      "INFO: [agents/agent_service.py:253 - agent_execute_plan()] Available tools=[gmail_tool, docs_tool, calendar_tool, search_tool, query_tool]\n",
      "INFO: [agents/agent_service.py:269 - agent_execute_plan()] Running agent executor.... input:Execute the steps provided1. Use [query_tool] to [identify Medicaid applicants who are missing income verification]2. Use [docs_tool] to [compose an email asking the applicants to provide a pay stub from their employers]3. Use [gmail_tool] to [send the composed email to the identified applicants] \n",
      "INFO: [agents/agent_tools.py:111 - docs_tool()] [docs_tool] Composed an email with subject:  Subject: Income Verification Request for Application Review\n",
      "INFO: [agents/agent_tools.py:73 - gmail_tool()] [gmail_tool] Sending email to sumeetvij@google.com. Result: Message sent. Message Id: 18c3c0cc7ace01f3\n",
      "INFO: [agents/agent_service.py:275 - agent_execute_plan()] Agent process output: \n",
      "\n",
      "\n",
      "\n",
      "\u001b[1m> Entering new AgentExecutor chain...\u001b[0m\n",
      "\u001b[32;1m\u001b[1;3mThought: The first step is to identify Medicaid applicants who are missing income verification. I will use the query_tool to perform this action.\n",
      "\n",
      "Action:\n",
      "```\n",
      "{\n",
      "  \"action\": \"query_tool\",\n",
      "  \"action_input\": \"identify Medicaid applicants who are missing income verification\"\n",
      "}\n",
      "```\u001b[0m\n",
      "Observation: \u001b[33;1m\u001b[1;3m{'recipients': ['sumeetvij@google.com']}\u001b[0m\n",
      "Thought:\u001b[32;1m\u001b[1;3mThe query_tool has returned a list of recipients who are missing income verification for Medicaid. The next step is to compose an email asking these applicants to provide a pay stub from their employers. I will use the docs_tool to compose this email.\n",
      "\n",
      "Action:\n",
      "```\n",
      "{\n",
      "  \"action\": \"docs_tool\",\n",
      "  \"action_input\": {\n",
      "    \"recipients\": [\"sumeetvij@google.com\"],\n",
      "    \"content\": \"Dear Applicant, \\n\\nWe have noticed that your Medicaid application is missing income verification. Please provide a pay stub from your employer at your earliest convenience. \\n\\nThank you, \\nMedicaid Services\"\n",
      "  }\n",
      "}\n",
      "```\u001b[0m[docs_tool]: ['sumeetvij@google.com']\n",
      "\n",
      "Observation: \u001b[33;1m\u001b[1;3m{'subject': ' Subject: Income Verification Request for Application Review', 'message': '\\n\\nDear Applicant,\\n\\nThank you for submitting your application to our agency. We are in the process of reviewing your application and have noticed that we are missing income verification. \\n\\nIn order to complete the review of your application, please email a pay stub from your employer to our office.\\n\\nWe appreciate your cooperation and look forward to hearing from you soon.\\n\\nSincerely,\\n\\n[Your Name]'}\u001b[0m\n",
      "Thought:\u001b[32;1m\u001b[1;3mThe docs_tool has returned the subject and message for the email. The next step is to send this email to the identified applicants. I will use the gmail_tool to send this email.\n",
      "\n",
      "Action:\n",
      "```\n",
      "{\n",
      "  \"action\": \"gmail_tool\",\n",
      "  \"action_input\": {\n",
      "    \"recipients\": [\"sumeetvij@google.com\"],\n",
      "    \"subject\": \"Subject: Income Verification Request for Application Review\",\n",
      "    \"message\": \"\\n\\nDear Applicant,\\n\\nThank you for submitting your application to our agency. We are in the process of reviewing your application and have noticed that we are missing income verification. \\n\\nIn order to complete the review of your application, please email a pay stub from your employer to our office.\\n\\nWe appreciate your cooperation and look forward to hearing from you soon.\\n\\nSincerely,\\n\\n[Your Name]\"\n",
      "  }\n",
      "}\n",
      "```\u001b[0m\n",
      "Observation: \u001b[36;1m\u001b[1;3m[gmail_tool] Sending email to sumeetvij@google.com. Result: Message sent. Message Id: 18c3c0cc7ace01f3\u001b[0m\n",
      "Thought:\u001b[32;1m\u001b[1;3mThe email has been successfully sent to the recipient. All the steps have been executed as outlined. Now, I will provide the final response. \n",
      "\n",
      "Action:\n",
      "```\n",
      "{\n",
      "  \"action\": \"Final Answer\",\n",
      "  \"action_input\": \"The steps have been successfully executed. The Medicaid applicants who were missing income verification have been identified and an email has been sent to them asking for a pay stub from their employers.\"\n",
      "}\n",
      "```\u001b[0m\n",
      "\n",
      "\u001b[1m> Finished chain.\u001b[0m\n",
      "\n",
      "INFO: [agents/agent_service.py:277 - agent_execute_plan()] Agent Task generated result=[The steps have been successfully executed. The Medicaid applicants who were missing income verification have been identified and an email has been sent to them asking for a pay stub from their employers.]\n"
     ]
    },
    {
     "data": {
      "text/plain": [
       "('The steps have been successfully executed. The Medicaid applicants who were missing income verification have been identified and an email has been sent to them asking for a pay stub from their employers.',\n",
       " '\\n\\n\\x1b[1m> Entering new AgentExecutor chain...\\x1b[0m\\n\\x1b[32;1m\\x1b[1;3mThought: The first step is to identify Medicaid applicants who are missing income verification. I will use the query_tool to perform this action.\\n\\nAction:\\n```\\n{\\n  \"action\": \"query_tool\",\\n  \"action_input\": \"identify Medicaid applicants who are missing income verification\"\\n}\\n```\\x1b[0m\\nObservation: \\x1b[33;1m\\x1b[1;3m{\\'recipients\\': [\\'sumeetvij@google.com\\']}\\x1b[0m\\nThought:\\x1b[32;1m\\x1b[1;3mThe query_tool has returned a list of recipients who are missing income verification for Medicaid. The next step is to compose an email asking these applicants to provide a pay stub from their employers. I will use the docs_tool to compose this email.\\n\\nAction:\\n```\\n{\\n  \"action\": \"docs_tool\",\\n  \"action_input\": {\\n    \"recipients\": [\"sumeetvij@google.com\"],\\n    \"content\": \"Dear Applicant, \\\\n\\\\nWe have noticed that your Medicaid application is missing income verification. Please provide a pay stub from your employer at your earliest convenience. \\\\n\\\\nThank you, \\\\nMedicaid Services\"\\n  }\\n}\\n```\\x1b[0m[docs_tool]: [\\'sumeetvij@google.com\\']\\n\\nObservation: \\x1b[33;1m\\x1b[1;3m{\\'subject\\': \\' Subject: Income Verification Request for Application Review\\', \\'message\\': \\'\\\\n\\\\nDear Applicant,\\\\n\\\\nThank you for submitting your application to our agency. We are in the process of reviewing your application and have noticed that we are missing income verification. \\\\n\\\\nIn order to complete the review of your application, please email a pay stub from your employer to our office.\\\\n\\\\nWe appreciate your cooperation and look forward to hearing from you soon.\\\\n\\\\nSincerely,\\\\n\\\\n[Your Name]\\'}\\x1b[0m\\nThought:\\x1b[32;1m\\x1b[1;3mThe docs_tool has returned the subject and message for the email. The next step is to send this email to the identified applicants. I will use the gmail_tool to send this email.\\n\\nAction:\\n```\\n{\\n  \"action\": \"gmail_tool\",\\n  \"action_input\": {\\n    \"recipients\": [\"sumeetvij@google.com\"],\\n    \"subject\": \"Subject: Income Verification Request for Application Review\",\\n    \"message\": \"\\\\n\\\\nDear Applicant,\\\\n\\\\nThank you for submitting your application to our agency. We are in the process of reviewing your application and have noticed that we are missing income verification. \\\\n\\\\nIn order to complete the review of your application, please email a pay stub from your employer to our office.\\\\n\\\\nWe appreciate your cooperation and look forward to hearing from you soon.\\\\n\\\\nSincerely,\\\\n\\\\n[Your Name]\"\\n  }\\n}\\n```\\x1b[0m\\nObservation: \\x1b[36;1m\\x1b[1;3m[gmail_tool] Sending email to sumeetvij@google.com. Result: Message sent. Message Id: 18c3c0cc7ace01f3\\x1b[0m\\nThought:\\x1b[32;1m\\x1b[1;3mThe email has been successfully sent to the recipient. All the steps have been executed as outlined. Now, I will provide the final response. \\n\\nAction:\\n```\\n{\\n  \"action\": \"Final Answer\",\\n  \"action_input\": \"The steps have been successfully executed. The Medicaid applicants who were missing income verification have been identified and an email has been sent to them asking for a pay stub from their employers.\"\\n}\\n```\\x1b[0m\\n\\n\\x1b[1m> Finished chain.\\x1b[0m\\n')"
      ]
     },
     "execution_count": 21,
     "metadata": {},
     "output_type": "execute_result"
    }
   ],
   "source": [
    "#call agent_service that looks up the plan steps for a given User Plan\n",
    "agent_execute_plan(agent_name='Task', prompt=prompt,user_plan=user_plan)"
   ]
  },
  {
   "cell_type": "code",
   "execution_count": 23,
   "id": "581158f4-2e2b-4dfb-b0be-311f9f45a325",
   "metadata": {},
   "outputs": [
    {
     "name": "stdout",
     "output_type": "stream",
     "text": [
      "INFO: [agents/agent_service.py:136 - run_agent()] Running Task agent with prompt=[Execute the steps provided1. Use [query_tool] to [identify Medicaid applicants who are missing income verification]2. Use [docs_tool] to [compose an email asking the applicants to provide a pay stub from their employers]3. Use [gmail_tool] to [send the composed email to the identified applicants]] and chat_history=[None]\n",
      "INFO: [agents/agent_service.py:145 - run_agent()] Available tools=[gmail_tool, docs_tool, calendar_tool, search_tool, query_tool]\n",
      "INFO: [agents/agents.py:104 - load_agent()] Successfully loaded TaskAgent agent.\n",
      "INFO: [agents/agent_service.py:157 - run_agent()] Running agent executor.... \n",
      "[docs_tool]: ['sumeetvij@google.com']\n",
      "INFO: [agents/agent_tools.py:111 - docs_tool()] [docs_tool] Composed an email with subject:  Subject: Income Verification Request for Application Review\n",
      "INFO: [agents/agent_tools.py:73 - gmail_tool()] [gmail_tool] Sending email to sumeetvij@google.com. Result: Message sent. Message Id: 18c3c0f3f70e8aa2\n",
      "INFO: [agents/agent_service.py:159 - run_agent()] Agent Task generated output=[The email requesting income verification has been successfully sent to the identified Medicaid applicants.]\n"
     ]
    },
    {
     "data": {
      "text/plain": [
       "'The email requesting income verification has been successfully sent to the identified Medicaid applicants.'"
      ]
     },
     "execution_count": 23,
     "metadata": {},
     "output_type": "execute_result"
    }
   ],
   "source": [
    "\n",
    "run_agent(agent_name='Task', prompt=agent_inputs['input'])"
   ]
  },
  {
   "cell_type": "code",
   "execution_count": null,
   "id": "1141436c-e0fa-43f3-bdca-a187590c702e",
   "metadata": {},
   "outputs": [],
   "source": []
  }
 ],
 "metadata": {
  "kernelspec": {
   "display_name": "Python 3 (ipykernel)",
   "language": "python",
   "name": "python3"
  },
  "language_info": {
   "codemirror_mode": {
    "name": "ipython",
    "version": 3
   },
   "file_extension": ".py",
   "mimetype": "text/x-python",
   "name": "python",
   "nbconvert_exporter": "python",
   "pygments_lexer": "ipython3",
   "version": "3.9.6"
  }
 },
 "nbformat": 4,
 "nbformat_minor": 5
}
