{
 "cells": [
  {
   "cell_type": "code",
   "execution_count": 1,
   "id": "61f9ba3c-8703-4b16-8af2-9d5d4d327b2d",
   "metadata": {},
   "outputs": [],
   "source": [
    "import os\n",
    "import sys\n",
    "\n",
    "sys.path.append(\"../../common/src\")\n",
    "sys.path.append(\"../src\")\n",
    "os.chdir(\"../src\")"
   ]
  },
  {
   "cell_type": "code",
   "execution_count": 2,
   "id": "f4c6b8e1-4ecd-40d3-bede-e906d1686155",
   "metadata": {},
   "outputs": [],
   "source": [
    "from langchain.agents import Tool, AgentExecutor, BaseMultiActionAgent, AgentOutputParser\n",
    "from langchain.agents.chat.base import ChatAgent\n",
    "from langchain.prompts import StringPromptTemplate\n",
    "from langchain.llms import OpenAI, VertexAI\n",
    "from langchain.chat_models import ChatVertexAI, ChatOpenAI\n",
    "from langchain.utilities import SerpAPIWrapper\n",
    "from langchain.chains import LLMChain\n",
    "from typing import List, Union\n",
    "from langchain.schema import AgentAction, AgentFinish, OutputParserException\n",
    "import re"
   ]
  },
  {
   "cell_type": "code",
   "execution_count": 3,
   "id": "24c68b1d-aea4-456c-ac69-2c7854f67bf1",
   "metadata": {},
   "outputs": [],
   "source": [
    "!export PROJECT_ID=\"gcp-mira-demo\"\n",
    "project = \"gcp-mira-demo\"\n",
    "os.environ[\"PROJECT_ID\"] = project\n",
    "PROJECT_ID = project"
   ]
  },
  {
   "cell_type": "code",
   "execution_count": 4,
   "id": "8fa76111-f1f8-4789-b202-4ca10a69abfd",
   "metadata": {},
   "outputs": [
    {
     "name": "stdout",
     "output_type": "stream",
     "text": [
      "INFO: [src/config.py:49 - <module>()] Namespace File not found, setting job namespace as default\n",
      "INFO: [src/config.py:81 - get_environ_flag()] ENABLE_GOOGLE_LLM = True\n",
      "INFO: [src/config.py:81 - get_environ_flag()] ENABLE_OPENAI_LLM = True\n",
      "INFO: [src/config.py:81 - get_environ_flag()] ENABLE_COHERE_LLM = True\n",
      "INFO: [src/config.py:178 - <module>()] LLM types loaded ['OpenAI-GPT3.5', 'OpenAI-GPT4', 'Cohere', 'VertexAI-Text', 'VertexAI-Chat', 'VertexAI-Chat']\n"
     ]
    }
   ],
   "source": [
    "import config\n",
    "from config import (VERTEX_LLM_TYPE_BISON_CHAT,\n",
    "                    VERTEX_LLM_TYPE_BISON_TEXT,\n",
    "                    OPENAI_LLM_TYPE_GPT3_5,\n",
    "                    OPENAI_LLM_TYPE_GPT4,\n",
    "                    COHERE_LLM_TYPE,\n",
    "                    LLM_BACKEND_ROBOT_USERNAME,\n",
    "                    LLM_BACKEND_ROBOT_PASSWORD)\n",
    "from common.utils.token_handler import UserCredentials\n",
    "\n",
    "config.RULES_ENGINE_BASE_URL = \"https://gcp-mira-demo.cloudpssolutions.com/rules-engine/api/v1\"\n",
    "config.auth_client = UserCredentials(LLM_BACKEND_ROBOT_USERNAME,\n",
    "                              LLM_BACKEND_ROBOT_PASSWORD,\n",
    "                              \"https://gcp-mira-demo.cloudpssolutions.com\")"
   ]
  },
  {
   "cell_type": "code",
   "execution_count": 5,
   "id": "67079e21-816e-418f-9152-f0f056c44f17",
   "metadata": {},
   "outputs": [],
   "source": [
    "from common.models import Agent\n",
    "from common.models.agent import AgentType, UserPlan, PlanStep\n",
    "from services.agents.agent_service import get_agent_config, get_plan_agent_config, get_all_agents"
   ]
  },
  {
   "cell_type": "code",
   "execution_count": 6,
   "id": "fb952721-b985-481b-9e7e-c50124e9ce63",
   "metadata": {},
   "outputs": [],
   "source": [
    "from services.agents.agents import TaskAgent, PlanAgent\n",
    "#casey_plan_agent = TaskAgent(VERTEX_LLM_TYPE_BISON_TEXT)\n",
    "#casey_plan_agent = TaskAgent(VERTEX_LLM_TYPE_BISON_CHAT)\n",
    "#casey_plan_agent = TaskPlanAgent(OPENAI_LLM_TYPE_GPT3_5)\n",
    "casey_plan_agent = TaskAgent(OPENAI_LLM_TYPE_GPT4)\n",
    "#casey_plan_agent = TaskPlanAgent(COHERE_LLM_TYPE)"
   ]
  },
  {
   "cell_type": "code",
   "execution_count": 7,
   "id": "f1925b32-48f0-4d92-a8f6-c2a501ce1c6f",
   "metadata": {},
   "outputs": [],
   "source": [
    "prompt = \"\"\"Compose and send an email to all the medicaid applicants that are missing income verification asking them to provide a pay stub from their employers\"\"\""
   ]
  },
  {
   "cell_type": "code",
   "execution_count": 8,
   "id": "9aa5f109-a246-4491-9c4e-dca297c748a0",
   "metadata": {},
   "outputs": [],
   "source": [
    "user_id = \"5nJrkPWa3D0yCKA853mD\""
   ]
  },
  {
   "cell_type": "code",
   "execution_count": 9,
   "id": "d0b3a5a1-ad41-42c6-8f74-b23bedfc836c",
   "metadata": {},
   "outputs": [],
   "source": [
    "#agent_executor.run(agent_inputs)"
   ]
  },
  {
   "cell_type": "code",
   "execution_count": 10,
   "id": "692a4d14-dba7-4e83-92b0-f38c3c767eeb",
   "metadata": {},
   "outputs": [],
   "source": [
    "from services.agents.agent_service import agent_plan, parse_plan"
   ]
  },
  {
   "cell_type": "code",
   "execution_count": 11,
   "id": "95e38ee6-46e7-421a-a441-d60bee40e4a0",
   "metadata": {},
   "outputs": [
    {
     "name": "stdout",
     "output_type": "stream",
     "text": [
      "INFO: [agents/agent_service.py:156 - agent_plan()] Starting with plan for agent_name=[Plan], prompt=[Compose and send an email to all the medicaid applicants that are missing income verification asking them to provide a pay stub from their employers], user_id=[5nJrkPWa3D0yCKA853mD], chat_history=[None]\n",
      "INFO: [agents/agent_service.py:114 - run_agent()] Running Plan agent with prompt=[Compose and send an email to all the medicaid applicants that are missing income verification asking them to provide a pay stub from their employers] and chat_history=[None]\n",
      "INFO: [agents/agent_service.py:123 - run_agent()] Available tools=[gmail_tool, docs_tool, calendar_tool, search_tool, query_tool]\n",
      "INFO: [agents/agents.py:100 - load_agent()] Successfully loaded PlanAgent agent.\n",
      "INFO: [agents/agent_service.py:135 - run_agent()] Running agent executor.... \n",
      "INFO: [agents/agent_service.py:137 - run_agent()] Agent Plan generated output=[Task: Compose and send an email to all the Medicaid applicants that are missing income verification asking them to provide a pay stub from their employers.\n",
      "\n",
      "Thought: The task involves two main steps. First, we need to identify all the Medicaid applicants who are missing income verification. This could be done using the query_tool. Second, we need to compose an email asking them to provide a pay stub from their employers and send it to all the identified applicants. This could be done using the docs_tool and gmail_tool respectively. However, we don't have a tool to extract the email addresses of the applicants from the query results, so we'll need to note that in the plan.\n",
      "\n",
      "Plan: \n",
      "   1. 'Use [query_tool] to [identify all the Medicaid applicants that are missing income verification]'\n",
      "   2. 'Use [docs_tool] to [compose an email asking the identified applicants to provide a pay stub from their employers]'\n",
      "   3. 'Use [*email extraction tool] to [extract the email addresses of the identified applicants from the query results]'\n",
      "   4. 'Use [gmail_tool] to [send the composed email to all the extracted email addresses]']\n",
      "INFO: [agents/agent_service.py:197 - parse_plan()] Parsing agent plan Task: Compose and send an email to all the Medicaid applicants that are missing income verification asking them to provide a pay stub from their employers.\n",
      "\n",
      "Thought: The task involves two main steps. First, we need to identify all the Medicaid applicants who are missing income verification. This could be done using the query_tool. Second, we need to compose an email asking them to provide a pay stub from their employers and send it to all the identified applicants. This could be done using the docs_tool and gmail_tool respectively. However, we don't have a tool to extract the email addresses of the applicants from the query results, so we'll need to note that in the plan.\n",
      "\n",
      "Plan: \n",
      "   1. 'Use [query_tool] to [identify all the Medicaid applicants that are missing income verification]'\n",
      "   2. 'Use [docs_tool] to [compose an email asking the identified applicants to provide a pay stub from their employers]'\n",
      "   3. 'Use [*email extraction tool] to [extract the email addresses of the identified applicants from the query results]'\n",
      "   4. 'Use [gmail_tool] to [send the composed email to all the extracted email addresses]'\n",
      "INFO: [agents/agent_service.py:188 - agent_plan()] Created steps using plan_agent_name=[Plan] raw_plan_steps=[\"1. 'Use [query_tool] to [identify all the Medicaid applicants that are missing income verification]'\", \"2. 'Use [docs_tool] to [compose an email asking the identified applicants to provide a pay stub from their employers]'\", \"3. 'Use [*email extraction tool] to [extract the email addresses of the identified applicants from the query results]'\", \"4. 'Use [gmail_tool] to [send the composed email to all the extracted email addresses]'\"]\n",
      "\n",
      "\n",
      "Plan Steps: \n",
      "1. 'Use [query_tool] to [identify all the Medicaid applicants that are missing income verification]'\n",
      "2. 'Use [docs_tool] to [compose an email asking the identified applicants to provide a pay stub from their employers]'\n",
      "3. 'Use [*email extraction tool] to [extract the email addresses of the identified applicants from the query results]'\n",
      "4. 'Use [gmail_tool] to [send the composed email to all the extracted email addresses]'\n"
     ]
    }
   ],
   "source": [
    "plan = agent_plan(\"Plan\", prompt, user_id)\n",
    "\n",
    "user_plan = plan[1]\n",
    "plan_steps=user_plan.plan_steps\n",
    "chat_history = []\n",
    "\n",
    "print(\"\\n\\nPlan Steps: \")\n",
    "for step in plan_steps:\n",
    "    description = PlanStep.find_by_id(step).description\n",
    "    print (description)\n",
    "    chat_history.append(description)"
   ]
  },
  {
   "cell_type": "code",
   "execution_count": 12,
   "id": "c7ed7efe-b7f4-45a0-9974-f1476a42b864",
   "metadata": {},
   "outputs": [
    {
     "name": "stdout",
     "output_type": "stream",
     "text": [
      "[StructuredTool(name='gmail_tool', description='gmail_tool(email_text: str) -> str - Send an email using Gmail', args_schema=<class 'pydantic.main.gmail_toolSchemaSchema'>, func=<function gmail_tool at 0x15fe19e40>), StructuredTool(name='docs_tool', description='docs_tool(content: str) -> str - Compose or create a document using Google Docs', args_schema=<class 'pydantic.main.docs_toolSchemaSchema'>, func=<function docs_tool at 0x15fe19ee0>), StructuredTool(name='calendar_tool', description='calendar_tool(date: str) -> str - Create and update meetings using Google Calendar', args_schema=<class 'pydantic.main.calendar_toolSchemaSchema'>, func=<function calendar_tool at 0x15fe19f80>), StructuredTool(name='search_tool', description='search_tool(query: str) -> str - Perform an internet search.', args_schema=<class 'pydantic.main.search_toolSchemaSchema'>, func=<function search_tool at 0x15fe1a340>), StructuredTool(name='query_tool', description='query_tool(query: str) -> str - Perform a query and craft an answer using one of the available query engines.', args_schema=<class 'pydantic.main.query_toolSchemaSchema'>, func=<function query_tool at 0x15fe1a8e0>)]\n",
      "INFO: [agents/agents.py:100 - load_agent()] Successfully loaded TaskAgent agent.\n",
      "\n",
      "\n",
      "\u001b[1m> Entering new AgentExecutor chain...\u001b[0m\n",
      "\u001b[32;1m\u001b[1;3mThought: Do I need to use a tool? Yes\n",
      "Action: query_tool\n",
      "Action Input: identify all the Medicaid applicants that are missing income verification\u001b[0m[query_tool] query tool called: identify all the Medicaid applicants that are missing income verification\n",
      "\n",
      "Observation: \u001b[33;1m\u001b[1;3m{'recipients': ['jonchen@google.com']}\u001b[0m\n",
      "Thought:\u001b[32;1m\u001b[1;3mDo I need to use a tool? Yes\n",
      "Action: docs_tool\n",
      "Action Input: compose an email asking the identified applicants to provide a pay stub from their employers\u001b[0m[docs_tool]: compose an email asking the identified applicants to provide a pay stub from their employers\n",
      "INFO: [agents/agent_tools.py:127 - docs_tool()] [docs_tool] Composed an email with subject:  Subject: Verification of Income for NY Agency Application\n",
      "\n",
      "Observation: \u001b[33;1m\u001b[1;3m\n",
      "\n",
      "Dear Applicant, \n",
      "\n",
      "We are in the process of reviewing your application for the NY agency. In order to complete the review, we need to verify your income. Please email a pay stub from your employer to test@example.com. \n",
      "\n",
      "Thank you for your cooperation. \n",
      "\n",
      "Sincerely, \n",
      "NY Agency\u001b[0m\n",
      "Thought:\u001b[32;1m\u001b[1;3mDo I need to use a tool? Yes\n",
      "Action: gmail_tool\n",
      "Action Input: {'recipients': ['jonchen@google.com'], 'subject': 'Income Verification Request', 'body': 'Dear Applicant, \\n\\nWe are in the process of reviewing your application for the NY agency. In order to complete the review, we need to verify your income. Please email a pay stub from your employer to test@example.com. \\n\\nThank you for your cooperation. \\n\\nSincerely, \\nNY Agency'}\u001b[0m[gmail_tool]: {'recipients': ['jonchen@google.com'], 'subject': 'Income Verification Request', 'body': 'Dear Applicant, \\n\\nWe are in the process of reviewing your application for the NY agency. In order to complete the review, we need to verify your income. Please email a pay stub from your employer to test@example.com. \\n\\nThank you for your cooperation. \\n\\nSincerely, \\nNY Agency'}\n",
      "INFO: [agents/agent_tools.py:87 - gmail_tool()] [gmail_tool] Sending email to jonchen@google.com. Result: Message sent. Message Id: 18bdac19d06648b3\n",
      "\n",
      "Observation: \u001b[36;1m\u001b[1;3m[gmail_tool] Sending email to jonchen@google.com. Result: Message sent. Message Id: 18bdac19d06648b3\u001b[0m\n",
      "Thought:\u001b[32;1m\u001b[1;3mDo I need to use a tool? No\n",
      "AI: The plan has been executed successfully. An email has been sent to the identified Medicaid applicant requesting income verification.\u001b[0m\n",
      "\n",
      "\u001b[1m> Finished chain.\u001b[0m\n"
     ]
    }
   ],
   "source": [
    "tools = casey_plan_agent.get_tools()\n",
    "print(tools)\n",
    "\n",
    "agent = casey_plan_agent.load_agent()\n",
    "\n",
    "prompt = \"\"\"Send an email to all the medicaid applicants that are missing income verification asking them to provide a pay stub from their employers\"\"\"\n",
    "\n",
    "prompt = \"\"\"Run the plan in the chat history provided below.\"\"\"\n",
    "agent_executor = AgentExecutor.from_agent_and_tools(\n",
    "  agent=agent, \n",
    "    tools=tools,\n",
    "    verbose=True)\n",
    "agent_inputs = {\n",
    "    \"input\": prompt,\n",
    "    \"chat_history\": chat_history\n",
    "}\n",
    "\n",
    "result = agent_executor.run(agent_inputs)\n"
   ]
  },
  {
   "cell_type": "code",
   "execution_count": 13,
   "id": "b47f8a31-4ed1-4c6d-9347-ccc30c9b2484",
   "metadata": {},
   "outputs": [
    {
     "name": "stdout",
     "output_type": "stream",
     "text": [
      "The plan has been executed successfully. An email has been sent to the identified Medicaid applicant requesting income verification.\n"
     ]
    }
   ],
   "source": [
    "print(result)"
   ]
  },
  {
   "cell_type": "code",
   "execution_count": 14,
   "id": "581158f4-2e2b-4dfb-b0be-311f9f45a325",
   "metadata": {},
   "outputs": [],
   "source": [
    "# agent_executor.agent.llm_chain.prompt\n"
   ]
  },
  {
   "cell_type": "code",
   "execution_count": null,
   "id": "1141436c-e0fa-43f3-bdca-a187590c702e",
   "metadata": {},
   "outputs": [],
   "source": []
  }
 ],
 "metadata": {
  "kernelspec": {
   "display_name": "Python 3 (ipykernel)",
   "language": "python",
   "name": "python3"
  },
  "language_info": {
   "codemirror_mode": {
    "name": "ipython",
    "version": 3
   },
   "file_extension": ".py",
   "mimetype": "text/x-python",
   "name": "python",
   "nbconvert_exporter": "python",
   "pygments_lexer": "ipython3",
   "version": "3.11.6"
  }
 },
 "nbformat": 4,
 "nbformat_minor": 5
}
