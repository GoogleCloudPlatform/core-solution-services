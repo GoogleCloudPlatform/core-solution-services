{
 "cells": [
  {
   "cell_type": "code",
   "execution_count": null,
   "id": "44c9db81",
   "metadata": {},
   "outputs": [],
   "source": [
    "PROJECT_ID = \"nasa-genie-dev\"\n",
    "REGION = \"us-central1\"\n",
    "import os\n",
    "os.environ[\"PROJECT_ID\"] = PROJECT_ID"
   ]
  },
  {
   "cell_type": "code",
   "execution_count": null,
   "id": "6485508d",
   "metadata": {},
   "outputs": [],
   "source": [
    "import sys\n",
    "sys.path.append(\"../../common/src\")\n",
    "sys.path.append(\"../src\")"
   ]
  },
  {
   "cell_type": "code",
   "execution_count": null,
   "id": "08365901",
   "metadata": {},
   "outputs": [],
   "source": [
    "# import tempfile\n",
    "# import os\n",
    "from typing import List, Optional, Tuple, Dict\n",
    "# from common.utils.logging_handler import Logger\n",
    "from common.models import (UserQuery, QueryResult, QueryEngine, QueryDocument,\n",
    "                           QueryReference, QueryDocumentChunk, BatchJobModel)\n",
    "from services.query.query_service import retrieve_references"
   ]
  },
  {
   "cell_type": "code",
   "execution_count": null,
   "id": "98bad6b3-82ab-4436-80f9-f5940e913164",
   "metadata": {},
   "outputs": [],
   "source": [
    "# # do this once per vm environment\n",
    "# #!python -m spacy download en_core_web_sm\n",
    "\n",
    "# nlp = spacy.load(\"en_core_web_sm\")\n",
    "# storage_client = storage.Client(project=PROJECT_ID)"
   ]
  },
  {
   "cell_type": "markdown",
   "id": "ce22cf7e-7eda-4826-8f19-a544f26c2f0e",
   "metadata": {},
   "source": [
    "## Setup"
   ]
  },
  {
   "cell_type": "code",
   "execution_count": 8,
   "id": "8900f205",
   "metadata": {},
   "outputs": [],
   "source": [
    "from common.models import QueryEngine, QueryDocument, QueryDocumentChunk"
   ]
  },
  {
   "cell_type": "code",
   "execution_count": 9,
   "id": "19eec218-2a02-48d8-b3dc-1b9b0aeceefc",
   "metadata": {},
   "outputs": [],
   "source": [
    "# from firebase\n",
    "user_id = \"bfrv1ifGrvAiJ9sWENHE\"\n",
    "\n",
    "# name of existing query engines\n",
    "qe_name_one = \"nasa-search-integrated-v2\"\n",
    "qe_name_one = \"nasa-search-gcs\"\n",
    "\n",
    "# qe_name_two = \"nasa-genie-dev-source-docs-02\"\n",
    "\n",
    "# qe_id_one = \"LiHrECAO7M0pPQ1SDyjS\"\n",
    "\n",
    "# prompt_one = \"Where is the Barringer Meteor Crater?\""
   ]
  },
  {
   "cell_type": "markdown",
   "id": "50d3cedc-0bbd-4e9b-b1a6-e78baca4f2ad",
   "metadata": {
    "jp-MarkdownHeadingCollapsed": true
   },
   "source": [
    "## Understand QueryResult object model"
   ]
  },
  {
   "cell_type": "code",
   "execution_count": 10,
   "id": "08e4deab-bc6d-44e7-9242-1e1f49c9c244",
   "metadata": {},
   "outputs": [],
   "source": [
    "qe_one = QueryEngine.find_by_name(qe_name_one)\n",
    "# qe_two = QueryEngine.find_by_name(qe_name_two)"
   ]
  },
  {
   "cell_type": "code",
   "execution_count": 11,
   "id": "de5c4587-a85a-40c9-a613-35a31792d723",
   "metadata": {},
   "outputs": [
    {
     "data": {
      "text/plain": [
       "'6kcXnzQGxUkWHTcusn5j'"
      ]
     },
     "execution_count": 11,
     "metadata": {},
     "output_type": "execute_result"
    }
   ],
   "source": [
    "qe_one.id"
   ]
  },
  {
   "cell_type": "code",
   "execution_count": null,
   "id": "7694c742-6248-4c53-bdbb-2590f6a0b6b7",
   "metadata": {},
   "outputs": [],
   "source": [
    "# from services.query.query_service import retrieve_references\n",
    "# from services.query.query_service import query_search\n",
    "\n",
    "# query_refs = retrieve_references(\n",
    "#     prompt_one,\n",
    "#     qe_one,\n",
    "#     user_id\n",
    "# )\n",
    "# query_refs = query_search(\n",
    "#     qe_one,\n",
    "#     prompt_one,\n",
    "# )\n",
    "\n",
    "# Exception: Failed to create vector extension: (psycopg2.OperationalError) connection to server at \"127.0.0.1\", port 5432 failed: FATAL:  password authentication failed for user \"postgres\""
   ]
  },
  {
   "cell_type": "code",
   "execution_count": 12,
   "id": "4c8678f7-d2cb-4deb-a0d7-9b45c006237d",
   "metadata": {},
   "outputs": [],
   "source": [
    "query_docs = QueryDocument.find_by_query_engine_id(qe_one.id)"
   ]
  },
  {
   "cell_type": "code",
   "execution_count": 13,
   "id": "c24b91aa-c486-4208-a880-2dc7b32b2553",
   "metadata": {},
   "outputs": [
    {
     "name": "stdout",
     "output_type": "stream",
     "text": [
      "[19438, 19705] N6HzPqe4lnSmgjrq60a2 /b/nasa-genie-dev-ntrs/o/Orion%2Ficcfd11_predictingOrionLaunchAbortAcoustics_v2.pdf\n",
      "   19438 N6HzPqe4lnSmgjrq60a2 Eleventh International Conference onComputational \n",
      "   19439 N6HzPqe4lnSmgjrq60a2 Eleventh International Conference onComputational \n",
      "   19440 N6HzPqe4lnSmgjrq60a2 The primary objectives are to establish bestpracti\n",
      "   19441 N6HzPqe4lnSmgjrq60a2 Excellent agreement is obtained between CFD predic\n",
      "   19442 N6HzPqe4lnSmgjrq60a2 A simplied (static and at rest)simulation of a pad\n",
      "   19443 N6HzPqe4lnSmgjrq60a2 Simulation results for a supersonic ascent abortig\n",
      "   19444 N6HzPqe4lnSmgjrq60a2 Overall,the CFD results demonstrate that scale-res\n",
      "   19445 N6HzPqe4lnSmgjrq60a2 Orionwill be propelled into space by the powerful \n",
      "   19446 N6HzPqe4lnSmgjrq60a2 The launch abort system(LAS), detailed in Figure 2\n",
      "   19447 N6HzPqe4lnSmgjrq60a2 The LAS consists of a tower where three rocket mot\n",
      "   19448 N6HzPqe4lnSmgjrq60a2 Together, the crew module and theLAS form the laun\n",
      "   19449 N6HzPqe4lnSmgjrq60a2 The fairing assembly is further split into two sec\n",
      "   19450 N6HzPqe4lnSmgjrq60a2 Near thetop of the tower, the attitude control mot\n",
      "   19451 N6HzPqe4lnSmgjrq60a2 The jettison motor, which serves to separate the L\n",
      "   19452 N6HzPqe4lnSmgjrq60a2 At thebase of the tower, above the llet, sits the \n",
      "   19453 N6HzPqe4lnSmgjrq60a2 The abort motor is a solidrocket motor designed to\n",
      "   19454 N6HzPqe4lnSmgjrq60a2 When triggered, the abort motor produces four hot \n",
      "   19455 N6HzPqe4lnSmgjrq60a2 Design and certication to the amplitudes, frequenc\n",
      "   19456 N6HzPqe4lnSmgjrq60a2 In orderto derive engineering design requirements \n",
      "   19457 N6HzPqe4lnSmgjrq60a2 Chief among those is whether computational uiddyna\n",
      "   19458 N6HzPqe4lnSmgjrq60a2 As such, focus is placed on the process of validat\n",
      "   19459 N6HzPqe4lnSmgjrq60a2 This simulation campaignspanned over 4 years.  We \n",
      "   19460 N6HzPqe4lnSmgjrq60a2 We rened both numerical method and modeling best p\n",
      "   19461 N6HzPqe4lnSmgjrq60a2 This article is thus also a means to disseminate t\n",
      "   19462 N6HzPqe4lnSmgjrq60a2 So we cannot divulge any details of thevehicles de\n",
      "   19463 N6HzPqe4lnSmgjrq60a2 Colormaplegends and y-axis of most plots have been\n",
      "   19464 N6HzPqe4lnSmgjrq60a2 Nevertheless, we make every eort toprovide apples-\n",
      "   19465 N6HzPqe4lnSmgjrq60a2 For example, a consistent target accuracy band det\n",
      "   19466 N6HzPqe4lnSmgjrq60a2 The article is organized as follows.  The methodol\n",
      "   19467 N6HzPqe4lnSmgjrq60a2 The methodology is presented in section 2.  Result\n",
      "   19468 N6HzPqe4lnSmgjrq60a2 Results of ourvalidation eorts for ground, wind tu\n",
      "   19469 N6HzPqe4lnSmgjrq60a2 Thechoice of Cartesian mesh paradigm is motivated \n",
      "   19470 N6HzPqe4lnSmgjrq60a2 To simulate detailed and complex as-built test sta\n",
      "   19471 N6HzPqe4lnSmgjrq60a2 To track ignition over-pressure (IOP) waves as it \n",
      "   19472 N6HzPqe4lnSmgjrq60a2 To accurately model high speed, hot turbulent plum\n",
      "   19473 N6HzPqe4lnSmgjrq60a2 To provide predictions for pressure spectra at var\n",
      "   19474 N6HzPqe4lnSmgjrq60a2 High-order shock-capturing methods on Cartesian gr\n",
      "   19475 N6HzPqe4lnSmgjrq60a2 Cartesian gridsare automatically generated to ensu\n",
      "   19476 N6HzPqe4lnSmgjrq60a2 It can be computationally challenging to resolve t\n",
      "   19477 N6HzPqe4lnSmgjrq60a2 Thankfully, the surface pressure spectra the quant\n",
      "   19478 N6HzPqe4lnSmgjrq60a2 The block-structured nature of the Cartesian AMR a\n",
      "   19479 N6HzPqe4lnSmgjrq60a2 The convective uxes are computed using the fth-ord\n",
      "   19480 N6HzPqe4lnSmgjrq60a2 It uses ux-vector splitting with Rusanov upwindphy\n",
      "   19481 N6HzPqe4lnSmgjrq60a2 To ensure the positivity of pressure and density, \n",
      "   19482 N6HzPqe4lnSmgjrq60a2 Combustion, heat radiation, orparticle physics (e.\n",
      "   19483 N6HzPqe4lnSmgjrq60a2 aluminum pellets or soot) are ignored.  The viscou\n",
      "   19484 N6HzPqe4lnSmgjrq60a2 The viscous ux is computed using the typicalsecond\n",
      "   19485 N6HzPqe4lnSmgjrq60a2 Subgrid viscous and heat uxes are notexplicitly mo\n",
      "   19486 N6HzPqe4lnSmgjrq60a2 Thetime step size is chosen or adapted such that t\n",
      "   19487 N6HzPqe4lnSmgjrq60a2 Only one layerof ghost cells is lled inside or nea\n",
      "   19488 N6HzPqe4lnSmgjrq60a2 Prior to AA-2 simulations, the WENO scheme transit\n",
      "   19489 N6HzPqe4lnSmgjrq60a2 This means the eective order of accuracy of themet\n",
      "   19490 N6HzPqe4lnSmgjrq60a2 This is justied because we cannot aord to resolve \n",
      "   19491 N6HzPqe4lnSmgjrq60a2 AA-2 simulations use no-slip adiabatic walls on th\n",
      "   19492 N6HzPqe4lnSmgjrq60a2 Typically we would obtain time-accurate and radial\n",
      "   19493 N6HzPqe4lnSmgjrq60a2 However, the abort motor exhaust ow must turn a sh\n",
      "   19494 N6HzPqe4lnSmgjrq60a2 The abort motor is thus modeled by an inow face up\n",
      "   19495 N6HzPqe4lnSmgjrq60a2 The total conditions can be varying in time, as gi\n",
      "   19496 N6HzPqe4lnSmgjrq60a2 The abort motor exhaust gas is modeled as a single\n",
      "   19497 N6HzPqe4lnSmgjrq60a2 Its thermodynamic and transport properties were de\n",
      "   19498 N6HzPqe4lnSmgjrq60a2 Helium gas is used for the abort motor plumes in t\n",
      "   19499 N6HzPqe4lnSmgjrq60a2 TheACMwasnotpresentin the qualication motor test (\n",
      "   19500 N6HzPqe4lnSmgjrq60a2 It was deemed to be a second ordereect following s\n",
      "   19501 N6HzPqe4lnSmgjrq60a2 The good agreement between PA-1 and 80-AS spectra \n",
      "   19502 N6HzPqe4lnSmgjrq60a2 For example, if the ow is supersonic with a specie\n",
      "   19503 N6HzPqe4lnSmgjrq60a2 For all simula-tions, we ensure the far eld bounda\n"
     ]
    },
    {
     "ename": "KeyboardInterrupt",
     "evalue": "",
     "output_type": "error",
     "traceback": [
      "\u001b[1;31m---------------------------------------------------------------------------\u001b[0m",
      "\u001b[1;31mKeyboardInterrupt\u001b[0m                         Traceback (most recent call last)",
      "Cell \u001b[1;32mIn[13], line 4\u001b[0m\n\u001b[0;32m      2\u001b[0m \u001b[38;5;28mprint\u001b[39m(\u001b[38;5;124mf\u001b[39m\u001b[38;5;124m\"\u001b[39m\u001b[38;5;124m[\u001b[39m\u001b[38;5;132;01m{\u001b[39;00mdoc\u001b[38;5;241m.\u001b[39mindex_start\u001b[38;5;132;01m}\u001b[39;00m\u001b[38;5;124m, \u001b[39m\u001b[38;5;132;01m{\u001b[39;00mdoc\u001b[38;5;241m.\u001b[39mindex_end\u001b[38;5;132;01m}\u001b[39;00m\u001b[38;5;124m] \u001b[39m\u001b[38;5;132;01m{\u001b[39;00mdoc\u001b[38;5;241m.\u001b[39mid\u001b[38;5;132;01m}\u001b[39;00m\u001b[38;5;124m \u001b[39m\u001b[38;5;132;01m{\u001b[39;00mdoc\u001b[38;5;241m.\u001b[39mdoc_url\u001b[38;5;132;01m}\u001b[39;00m\u001b[38;5;124m\"\u001b[39m)\n\u001b[0;32m      3\u001b[0m \u001b[38;5;28;01mfor\u001b[39;00m i \u001b[38;5;129;01min\u001b[39;00m \u001b[38;5;28mrange\u001b[39m(doc\u001b[38;5;241m.\u001b[39mindex_start, doc\u001b[38;5;241m.\u001b[39mindex_end):\n\u001b[1;32m----> 4\u001b[0m     doc_chunk \u001b[38;5;241m=\u001b[39m \u001b[43mQueryDocumentChunk\u001b[49m\u001b[38;5;241;43m.\u001b[39;49m\u001b[43mfind_by_index\u001b[49m\u001b[43m(\u001b[49m\u001b[43mqe_one\u001b[49m\u001b[38;5;241;43m.\u001b[39;49m\u001b[43mid\u001b[49m\u001b[43m,\u001b[49m\u001b[43m \u001b[49m\u001b[43mi\u001b[49m\u001b[43m)\u001b[49m\n\u001b[0;32m      5\u001b[0m     \u001b[38;5;28mprint\u001b[39m(\u001b[38;5;124mf\u001b[39m\u001b[38;5;124m\"\u001b[39m\u001b[38;5;132;01m{\u001b[39;00mdoc_chunk\u001b[38;5;241m.\u001b[39mindex\u001b[38;5;132;01m:\u001b[39;00m\u001b[38;5;124m8\u001b[39m\u001b[38;5;132;01m}\u001b[39;00m\u001b[38;5;124m \u001b[39m\u001b[38;5;132;01m{\u001b[39;00mdoc_chunk\u001b[38;5;241m.\u001b[39mquery_document_id\u001b[38;5;132;01m}\u001b[39;00m\u001b[38;5;124m \u001b[39m\u001b[38;5;132;01m{\u001b[39;00mdoc_chunk\u001b[38;5;241m.\u001b[39mclean_text[\u001b[38;5;241m0\u001b[39m:\u001b[38;5;241m50\u001b[39m]\u001b[38;5;132;01m}\u001b[39;00m\u001b[38;5;124m\"\u001b[39m)\n",
      "File \u001b[1;32mc:\\Users\\trishjam\\Documents\\trishjam\\projects\\05-nasa\\code\\core-solution-services2\\components\\llm_service\\notebooks\\../../common/src\\common\\models\\llm_query.py:359\u001b[0m, in \u001b[0;36mQueryDocumentChunk.find_by_index\u001b[1;34m(cls, query_engine_id, index)\u001b[0m\n\u001b[0;32m    342\u001b[0m \u001b[38;5;129m@classmethod\u001b[39m\n\u001b[0;32m    343\u001b[0m \u001b[38;5;28;01mdef\u001b[39;00m \u001b[38;5;21mfind_by_index\u001b[39m(\u001b[38;5;28mcls\u001b[39m, query_engine_id, index):\n\u001b[0;32m    344\u001b[0m \u001b[38;5;250m  \u001b[39m\u001b[38;5;124;03m\"\"\"\u001b[39;00m\n\u001b[0;32m    345\u001b[0m \u001b[38;5;124;03m  Fetch a document chunk for a query engine by index\u001b[39;00m\n\u001b[0;32m    346\u001b[0m \n\u001b[1;32m   (...)\u001b[0m\n\u001b[0;32m    353\u001b[0m \n\u001b[0;32m    354\u001b[0m \u001b[38;5;124;03m  \"\"\"\u001b[39;00m\n\u001b[0;32m    355\u001b[0m   q_chunk \u001b[38;5;241m=\u001b[39m \u001b[38;5;28;43mcls\u001b[39;49m\u001b[38;5;241;43m.\u001b[39;49m\u001b[43mcollection\u001b[49m\u001b[38;5;241;43m.\u001b[39;49m\u001b[43mfilter\u001b[49m\u001b[43m(\u001b[49m\n\u001b[0;32m    356\u001b[0m \u001b[43m      \u001b[49m\u001b[38;5;124;43m\"\u001b[39;49m\u001b[38;5;124;43mquery_engine_id\u001b[39;49m\u001b[38;5;124;43m\"\u001b[39;49m\u001b[43m,\u001b[49m\u001b[43m \u001b[49m\u001b[38;5;124;43m\"\u001b[39;49m\u001b[38;5;124;43m==\u001b[39;49m\u001b[38;5;124;43m\"\u001b[39;49m\u001b[43m,\u001b[49m\u001b[43m \u001b[49m\u001b[43mquery_engine_id\u001b[49m\u001b[43m)\u001b[49m\u001b[38;5;241;43m.\u001b[39;49m\u001b[43mfilter\u001b[49m\u001b[43m(\u001b[49m\n\u001b[0;32m    357\u001b[0m \u001b[43m          \u001b[49m\u001b[38;5;124;43m\"\u001b[39;49m\u001b[38;5;124;43mindex\u001b[39;49m\u001b[38;5;124;43m\"\u001b[39;49m\u001b[43m,\u001b[49m\u001b[43m \u001b[49m\u001b[38;5;124;43m\"\u001b[39;49m\u001b[38;5;124;43m==\u001b[39;49m\u001b[38;5;124;43m\"\u001b[39;49m\u001b[43m,\u001b[49m\u001b[43m \u001b[49m\u001b[43mindex\u001b[49m\u001b[43m)\u001b[49m\u001b[38;5;241;43m.\u001b[39;49m\u001b[43mfilter\u001b[49m\u001b[43m(\u001b[49m\n\u001b[0;32m    358\u001b[0m \u001b[43m          \u001b[49m\u001b[38;5;124;43m\"\u001b[39;49m\u001b[38;5;124;43mdeleted_at_timestamp\u001b[39;49m\u001b[38;5;124;43m\"\u001b[39;49m\u001b[43m,\u001b[49m\u001b[43m \u001b[49m\u001b[38;5;124;43m\"\u001b[39;49m\u001b[38;5;124;43m==\u001b[39;49m\u001b[38;5;124;43m\"\u001b[39;49m\u001b[43m,\u001b[49m\n\u001b[1;32m--> 359\u001b[0m \u001b[43m          \u001b[49m\u001b[38;5;28;43;01mNone\u001b[39;49;00m\u001b[43m)\u001b[49m\u001b[38;5;241;43m.\u001b[39;49m\u001b[43mget\u001b[49m\u001b[43m(\u001b[49m\u001b[43m)\u001b[49m\n\u001b[0;32m    360\u001b[0m   \u001b[38;5;28;01mreturn\u001b[39;00m q_chunk\n",
      "File \u001b[1;32mc:\\Users\\trishjam\\Documents\\trishjam\\projects\\05-nasa\\code\\core-solution-services2\\components\\llm_service\\.venv_llm3\\Lib\\site-packages\\fireo\\queries\\filter_query.py:461\u001b[0m, in \u001b[0;36mFilterQuery.get\u001b[1;34m(self)\u001b[0m\n\u001b[0;32m    454\u001b[0m \u001b[38;5;250m\u001b[39m\u001b[38;5;124;03m\"\"\"Get the first matching document from firestore\u001b[39;00m\n\u001b[0;32m    455\u001b[0m \n\u001b[0;32m    456\u001b[0m \u001b[38;5;124;03mGet first matching document and convert it into model and return it\u001b[39;00m\n\u001b[0;32m    457\u001b[0m \u001b[38;5;124;03mThis is same as `fetch(limit=1)` the only difference is `get()` method\u001b[39;00m\n\u001b[0;32m    458\u001b[0m \u001b[38;5;124;03mreturn **model instance** and the `fetch()` method return the **generator**\u001b[39;00m\n\u001b[0;32m    459\u001b[0m \u001b[38;5;124;03m\"\"\"\u001b[39;00m\n\u001b[0;32m    460\u001b[0m \u001b[38;5;28mself\u001b[39m\u001b[38;5;241m.\u001b[39mn_limit \u001b[38;5;241m=\u001b[39m \u001b[38;5;241m1\u001b[39m\n\u001b[1;32m--> 461\u001b[0m doc \u001b[38;5;241m=\u001b[39m \u001b[38;5;28mnext\u001b[39m(\u001b[38;5;28mself\u001b[39m\u001b[38;5;241m.\u001b[39mquery()\u001b[38;5;241m.\u001b[39mstream(\u001b[38;5;28mself\u001b[39m\u001b[38;5;241m.\u001b[39mquery_transaction), \u001b[38;5;28;01mNone\u001b[39;00m)\n\u001b[0;32m    462\u001b[0m \u001b[38;5;28;01mif\u001b[39;00m doc:\n\u001b[0;32m    463\u001b[0m     m \u001b[38;5;241m=\u001b[39m query_wrapper\u001b[38;5;241m.\u001b[39mModelWrapper\u001b[38;5;241m.\u001b[39mfrom_query_result(\u001b[38;5;28mself\u001b[39m\u001b[38;5;241m.\u001b[39mmodel, doc)\n",
      "File \u001b[1;32mc:\\Users\\trishjam\\Documents\\trishjam\\projects\\05-nasa\\code\\core-solution-services2\\components\\llm_service\\.venv_llm3\\Lib\\site-packages\\google\\cloud\\firestore_v1\\query.py:271\u001b[0m, in \u001b[0;36mQuery.stream\u001b[1;34m(self, transaction, retry, timeout)\u001b[0m\n\u001b[0;32m    235\u001b[0m \u001b[38;5;28;01mdef\u001b[39;00m \u001b[38;5;21mstream\u001b[39m(\n\u001b[0;32m    236\u001b[0m     \u001b[38;5;28mself\u001b[39m,\n\u001b[0;32m    237\u001b[0m     transaction\u001b[38;5;241m=\u001b[39m\u001b[38;5;28;01mNone\u001b[39;00m,\n\u001b[0;32m    238\u001b[0m     retry: retries\u001b[38;5;241m.\u001b[39mRetry \u001b[38;5;241m=\u001b[39m gapic_v1\u001b[38;5;241m.\u001b[39mmethod\u001b[38;5;241m.\u001b[39mDEFAULT,\n\u001b[0;32m    239\u001b[0m     timeout: \u001b[38;5;28mfloat\u001b[39m \u001b[38;5;241m=\u001b[39m \u001b[38;5;28;01mNone\u001b[39;00m,\n\u001b[0;32m    240\u001b[0m ) \u001b[38;5;241m-\u001b[39m\u001b[38;5;241m>\u001b[39m Generator[document\u001b[38;5;241m.\u001b[39mDocumentSnapshot, Any, \u001b[38;5;28;01mNone\u001b[39;00m]:\n\u001b[0;32m    241\u001b[0m \u001b[38;5;250m    \u001b[39m\u001b[38;5;124;03m\"\"\"Read the documents in the collection that match this query.\u001b[39;00m\n\u001b[0;32m    242\u001b[0m \n\u001b[0;32m    243\u001b[0m \u001b[38;5;124;03m    This sends a ``RunQuery`` RPC and then returns an iterator which\u001b[39;00m\n\u001b[1;32m   (...)\u001b[0m\n\u001b[0;32m    269\u001b[0m \u001b[38;5;124;03m        The next document that fulfills the query.\u001b[39;00m\n\u001b[0;32m    270\u001b[0m \u001b[38;5;124;03m    \"\"\"\u001b[39;00m\n\u001b[1;32m--> 271\u001b[0m     response_iterator, expected_prefix \u001b[38;5;241m=\u001b[39m \u001b[38;5;28;43mself\u001b[39;49m\u001b[38;5;241;43m.\u001b[39;49m\u001b[43m_get_stream_iterator\u001b[49m\u001b[43m(\u001b[49m\n\u001b[0;32m    272\u001b[0m \u001b[43m        \u001b[49m\u001b[43mtransaction\u001b[49m\u001b[43m,\u001b[49m\u001b[43m \u001b[49m\u001b[43mretry\u001b[49m\u001b[43m,\u001b[49m\u001b[43m \u001b[49m\u001b[43mtimeout\u001b[49m\u001b[43m,\u001b[49m\n\u001b[0;32m    273\u001b[0m \u001b[43m    \u001b[49m\u001b[43m)\u001b[49m\n\u001b[0;32m    275\u001b[0m     last_snapshot \u001b[38;5;241m=\u001b[39m \u001b[38;5;28;01mNone\u001b[39;00m\n\u001b[0;32m    277\u001b[0m     \u001b[38;5;28;01mwhile\u001b[39;00m \u001b[38;5;28;01mTrue\u001b[39;00m:\n",
      "File \u001b[1;32mc:\\Users\\trishjam\\Documents\\trishjam\\projects\\05-nasa\\code\\core-solution-services2\\components\\llm_service\\.venv_llm3\\Lib\\site-packages\\google\\cloud\\firestore_v1\\query.py:218\u001b[0m, in \u001b[0;36mQuery._get_stream_iterator\u001b[1;34m(self, transaction, retry, timeout)\u001b[0m\n\u001b[0;32m    213\u001b[0m \u001b[38;5;250m\u001b[39m\u001b[38;5;124;03m\"\"\"Helper method for :meth:`stream`.\"\"\"\u001b[39;00m\n\u001b[0;32m    214\u001b[0m request, expected_prefix, kwargs \u001b[38;5;241m=\u001b[39m \u001b[38;5;28mself\u001b[39m\u001b[38;5;241m.\u001b[39m_prep_stream(\n\u001b[0;32m    215\u001b[0m     transaction, retry, timeout,\n\u001b[0;32m    216\u001b[0m )\n\u001b[1;32m--> 218\u001b[0m response_iterator \u001b[38;5;241m=\u001b[39m \u001b[38;5;28;43mself\u001b[39;49m\u001b[38;5;241;43m.\u001b[39;49m\u001b[43m_client\u001b[49m\u001b[38;5;241;43m.\u001b[39;49m\u001b[43m_firestore_api\u001b[49m\u001b[38;5;241;43m.\u001b[39;49m\u001b[43mrun_query\u001b[49m\u001b[43m(\u001b[49m\n\u001b[0;32m    219\u001b[0m \u001b[43m    \u001b[49m\u001b[43mrequest\u001b[49m\u001b[38;5;241;43m=\u001b[39;49m\u001b[43mrequest\u001b[49m\u001b[43m,\u001b[49m\u001b[43m \u001b[49m\u001b[43mmetadata\u001b[49m\u001b[38;5;241;43m=\u001b[39;49m\u001b[38;5;28;43mself\u001b[39;49m\u001b[38;5;241;43m.\u001b[39;49m\u001b[43m_client\u001b[49m\u001b[38;5;241;43m.\u001b[39;49m\u001b[43m_rpc_metadata\u001b[49m\u001b[43m,\u001b[49m\u001b[43m \u001b[49m\u001b[38;5;241;43m*\u001b[39;49m\u001b[38;5;241;43m*\u001b[39;49m\u001b[43mkwargs\u001b[49m\u001b[43m,\u001b[49m\n\u001b[0;32m    220\u001b[0m \u001b[43m\u001b[49m\u001b[43m)\u001b[49m\n\u001b[0;32m    222\u001b[0m \u001b[38;5;28;01mreturn\u001b[39;00m response_iterator, expected_prefix\n",
      "File \u001b[1;32mc:\\Users\\trishjam\\Documents\\trishjam\\projects\\05-nasa\\code\\core-solution-services2\\components\\llm_service\\.venv_llm3\\Lib\\site-packages\\google\\cloud\\firestore_v1\\services\\firestore\\client.py:939\u001b[0m, in \u001b[0;36mFirestoreClient.run_query\u001b[1;34m(self, request, retry, timeout, metadata)\u001b[0m\n\u001b[0;32m    934\u001b[0m metadata \u001b[38;5;241m=\u001b[39m \u001b[38;5;28mtuple\u001b[39m(metadata) \u001b[38;5;241m+\u001b[39m (\n\u001b[0;32m    935\u001b[0m     gapic_v1\u001b[38;5;241m.\u001b[39mrouting_header\u001b[38;5;241m.\u001b[39mto_grpc_metadata(((\u001b[38;5;124m\"\u001b[39m\u001b[38;5;124mparent\u001b[39m\u001b[38;5;124m\"\u001b[39m, request\u001b[38;5;241m.\u001b[39mparent),)),\n\u001b[0;32m    936\u001b[0m )\n\u001b[0;32m    938\u001b[0m \u001b[38;5;66;03m# Send the request.\u001b[39;00m\n\u001b[1;32m--> 939\u001b[0m response \u001b[38;5;241m=\u001b[39m \u001b[43mrpc\u001b[49m\u001b[43m(\u001b[49m\u001b[43mrequest\u001b[49m\u001b[43m,\u001b[49m\u001b[43m \u001b[49m\u001b[43mretry\u001b[49m\u001b[38;5;241;43m=\u001b[39;49m\u001b[43mretry\u001b[49m\u001b[43m,\u001b[49m\u001b[43m \u001b[49m\u001b[43mtimeout\u001b[49m\u001b[38;5;241;43m=\u001b[39;49m\u001b[43mtimeout\u001b[49m\u001b[43m,\u001b[49m\u001b[43m \u001b[49m\u001b[43mmetadata\u001b[49m\u001b[38;5;241;43m=\u001b[39;49m\u001b[43mmetadata\u001b[49m\u001b[43m,\u001b[49m\u001b[43m)\u001b[49m\n\u001b[0;32m    941\u001b[0m \u001b[38;5;66;03m# Done; return the response.\u001b[39;00m\n\u001b[0;32m    942\u001b[0m \u001b[38;5;28;01mreturn\u001b[39;00m response\n",
      "File \u001b[1;32mc:\\Users\\trishjam\\Documents\\trishjam\\projects\\05-nasa\\code\\core-solution-services2\\components\\llm_service\\.venv_llm3\\Lib\\site-packages\\google\\api_core\\gapic_v1\\method.py:131\u001b[0m, in \u001b[0;36m_GapicCallable.__call__\u001b[1;34m(self, timeout, retry, compression, *args, **kwargs)\u001b[0m\n\u001b[0;32m    128\u001b[0m \u001b[38;5;28;01mif\u001b[39;00m \u001b[38;5;28mself\u001b[39m\u001b[38;5;241m.\u001b[39m_compression \u001b[38;5;129;01mis\u001b[39;00m \u001b[38;5;129;01mnot\u001b[39;00m \u001b[38;5;28;01mNone\u001b[39;00m:\n\u001b[0;32m    129\u001b[0m     kwargs[\u001b[38;5;124m\"\u001b[39m\u001b[38;5;124mcompression\u001b[39m\u001b[38;5;124m\"\u001b[39m] \u001b[38;5;241m=\u001b[39m compression\n\u001b[1;32m--> 131\u001b[0m \u001b[38;5;28;01mreturn\u001b[39;00m \u001b[43mwrapped_func\u001b[49m\u001b[43m(\u001b[49m\u001b[38;5;241;43m*\u001b[39;49m\u001b[43margs\u001b[49m\u001b[43m,\u001b[49m\u001b[43m \u001b[49m\u001b[38;5;241;43m*\u001b[39;49m\u001b[38;5;241;43m*\u001b[39;49m\u001b[43mkwargs\u001b[49m\u001b[43m)\u001b[49m\n",
      "File \u001b[1;32mc:\\Users\\trishjam\\Documents\\trishjam\\projects\\05-nasa\\code\\core-solution-services2\\components\\llm_service\\.venv_llm3\\Lib\\site-packages\\google\\api_core\\retry\\retry_unary.py:293\u001b[0m, in \u001b[0;36mRetry.__call__.<locals>.retry_wrapped_func\u001b[1;34m(*args, **kwargs)\u001b[0m\n\u001b[0;32m    289\u001b[0m target \u001b[38;5;241m=\u001b[39m functools\u001b[38;5;241m.\u001b[39mpartial(func, \u001b[38;5;241m*\u001b[39margs, \u001b[38;5;241m*\u001b[39m\u001b[38;5;241m*\u001b[39mkwargs)\n\u001b[0;32m    290\u001b[0m sleep_generator \u001b[38;5;241m=\u001b[39m exponential_sleep_generator(\n\u001b[0;32m    291\u001b[0m     \u001b[38;5;28mself\u001b[39m\u001b[38;5;241m.\u001b[39m_initial, \u001b[38;5;28mself\u001b[39m\u001b[38;5;241m.\u001b[39m_maximum, multiplier\u001b[38;5;241m=\u001b[39m\u001b[38;5;28mself\u001b[39m\u001b[38;5;241m.\u001b[39m_multiplier\n\u001b[0;32m    292\u001b[0m )\n\u001b[1;32m--> 293\u001b[0m \u001b[38;5;28;01mreturn\u001b[39;00m \u001b[43mretry_target\u001b[49m\u001b[43m(\u001b[49m\n\u001b[0;32m    294\u001b[0m \u001b[43m    \u001b[49m\u001b[43mtarget\u001b[49m\u001b[43m,\u001b[49m\n\u001b[0;32m    295\u001b[0m \u001b[43m    \u001b[49m\u001b[38;5;28;43mself\u001b[39;49m\u001b[38;5;241;43m.\u001b[39;49m\u001b[43m_predicate\u001b[49m\u001b[43m,\u001b[49m\n\u001b[0;32m    296\u001b[0m \u001b[43m    \u001b[49m\u001b[43msleep_generator\u001b[49m\u001b[43m,\u001b[49m\n\u001b[0;32m    297\u001b[0m \u001b[43m    \u001b[49m\u001b[43mtimeout\u001b[49m\u001b[38;5;241;43m=\u001b[39;49m\u001b[38;5;28;43mself\u001b[39;49m\u001b[38;5;241;43m.\u001b[39;49m\u001b[43m_timeout\u001b[49m\u001b[43m,\u001b[49m\n\u001b[0;32m    298\u001b[0m \u001b[43m    \u001b[49m\u001b[43mon_error\u001b[49m\u001b[38;5;241;43m=\u001b[39;49m\u001b[43mon_error\u001b[49m\u001b[43m,\u001b[49m\n\u001b[0;32m    299\u001b[0m \u001b[43m\u001b[49m\u001b[43m)\u001b[49m\n",
      "File \u001b[1;32mc:\\Users\\trishjam\\Documents\\trishjam\\projects\\05-nasa\\code\\core-solution-services2\\components\\llm_service\\.venv_llm3\\Lib\\site-packages\\google\\api_core\\retry\\retry_unary.py:144\u001b[0m, in \u001b[0;36mretry_target\u001b[1;34m(target, predicate, sleep_generator, timeout, on_error, exception_factory, **kwargs)\u001b[0m\n\u001b[0;32m    142\u001b[0m \u001b[38;5;28;01mfor\u001b[39;00m sleep \u001b[38;5;129;01min\u001b[39;00m sleep_generator:\n\u001b[0;32m    143\u001b[0m     \u001b[38;5;28;01mtry\u001b[39;00m:\n\u001b[1;32m--> 144\u001b[0m         result \u001b[38;5;241m=\u001b[39m \u001b[43mtarget\u001b[49m\u001b[43m(\u001b[49m\u001b[43m)\u001b[49m\n\u001b[0;32m    145\u001b[0m         \u001b[38;5;28;01mif\u001b[39;00m inspect\u001b[38;5;241m.\u001b[39misawaitable(result):\n\u001b[0;32m    146\u001b[0m             warnings\u001b[38;5;241m.\u001b[39mwarn(_ASYNC_RETRY_WARNING)\n",
      "File \u001b[1;32mc:\\Users\\trishjam\\Documents\\trishjam\\projects\\05-nasa\\code\\core-solution-services2\\components\\llm_service\\.venv_llm3\\Lib\\site-packages\\google\\api_core\\grpc_helpers.py:170\u001b[0m, in \u001b[0;36m_wrap_stream_errors.<locals>.error_remapped_callable\u001b[1;34m(*args, **kwargs)\u001b[0m\n\u001b[0;32m    165\u001b[0m     \u001b[38;5;66;03m# Auto-fetching the first result causes PubSub client's streaming pull\u001b[39;00m\n\u001b[0;32m    166\u001b[0m     \u001b[38;5;66;03m# to hang when re-opening the stream, thus we need examine the hacky\u001b[39;00m\n\u001b[0;32m    167\u001b[0m     \u001b[38;5;66;03m# hidden flag to see if pre-fetching is disabled.\u001b[39;00m\n\u001b[0;32m    168\u001b[0m     \u001b[38;5;66;03m# https://github.com/googleapis/python-pubsub/issues/93#issuecomment-630762257\u001b[39;00m\n\u001b[0;32m    169\u001b[0m     prefetch_first \u001b[38;5;241m=\u001b[39m \u001b[38;5;28mgetattr\u001b[39m(callable_, \u001b[38;5;124m\"\u001b[39m\u001b[38;5;124m_prefetch_first_result_\u001b[39m\u001b[38;5;124m\"\u001b[39m, \u001b[38;5;28;01mTrue\u001b[39;00m)\n\u001b[1;32m--> 170\u001b[0m     \u001b[38;5;28;01mreturn\u001b[39;00m \u001b[43m_StreamingResponseIterator\u001b[49m\u001b[43m(\u001b[49m\n\u001b[0;32m    171\u001b[0m \u001b[43m        \u001b[49m\u001b[43mresult\u001b[49m\u001b[43m,\u001b[49m\u001b[43m \u001b[49m\u001b[43mprefetch_first_result\u001b[49m\u001b[38;5;241;43m=\u001b[39;49m\u001b[43mprefetch_first\u001b[49m\n\u001b[0;32m    172\u001b[0m \u001b[43m    \u001b[49m\u001b[43m)\u001b[49m\n\u001b[0;32m    173\u001b[0m \u001b[38;5;28;01mexcept\u001b[39;00m grpc\u001b[38;5;241m.\u001b[39mRpcError \u001b[38;5;28;01mas\u001b[39;00m exc:\n\u001b[0;32m    174\u001b[0m     \u001b[38;5;28;01mraise\u001b[39;00m exceptions\u001b[38;5;241m.\u001b[39mfrom_grpc_error(exc) \u001b[38;5;28;01mfrom\u001b[39;00m \u001b[38;5;21;01mexc\u001b[39;00m\n",
      "File \u001b[1;32mc:\\Users\\trishjam\\Documents\\trishjam\\projects\\05-nasa\\code\\core-solution-services2\\components\\llm_service\\.venv_llm3\\Lib\\site-packages\\google\\api_core\\grpc_helpers.py:92\u001b[0m, in \u001b[0;36m_StreamingResponseIterator.__init__\u001b[1;34m(self, wrapped, prefetch_first_result)\u001b[0m\n\u001b[0;32m     90\u001b[0m \u001b[38;5;28;01mtry\u001b[39;00m:\n\u001b[0;32m     91\u001b[0m     \u001b[38;5;28;01mif\u001b[39;00m prefetch_first_result:\n\u001b[1;32m---> 92\u001b[0m         \u001b[38;5;28mself\u001b[39m\u001b[38;5;241m.\u001b[39m_stored_first_result \u001b[38;5;241m=\u001b[39m \u001b[38;5;28mnext\u001b[39m(\u001b[38;5;28mself\u001b[39m\u001b[38;5;241m.\u001b[39m_wrapped)\n\u001b[0;32m     93\u001b[0m \u001b[38;5;28;01mexcept\u001b[39;00m \u001b[38;5;167;01mTypeError\u001b[39;00m:\n\u001b[0;32m     94\u001b[0m     \u001b[38;5;66;03m# It is possible the wrapped method isn't an iterable (a grpc.Call\u001b[39;00m\n\u001b[0;32m     95\u001b[0m     \u001b[38;5;66;03m# for instance). If this happens don't store the first result.\u001b[39;00m\n\u001b[0;32m     96\u001b[0m     \u001b[38;5;28;01mpass\u001b[39;00m\n",
      "File \u001b[1;32mc:\\Users\\trishjam\\Documents\\trishjam\\projects\\05-nasa\\code\\core-solution-services2\\components\\llm_service\\.venv_llm3\\Lib\\site-packages\\grpc\\_channel.py:542\u001b[0m, in \u001b[0;36m_Rendezvous.__next__\u001b[1;34m(self)\u001b[0m\n\u001b[0;32m    541\u001b[0m \u001b[38;5;28;01mdef\u001b[39;00m \u001b[38;5;21m__next__\u001b[39m(\u001b[38;5;28mself\u001b[39m):\n\u001b[1;32m--> 542\u001b[0m     \u001b[38;5;28;01mreturn\u001b[39;00m \u001b[38;5;28;43mself\u001b[39;49m\u001b[38;5;241;43m.\u001b[39;49m\u001b[43m_next\u001b[49m\u001b[43m(\u001b[49m\u001b[43m)\u001b[49m\n",
      "File \u001b[1;32mc:\\Users\\trishjam\\Documents\\trishjam\\projects\\05-nasa\\code\\core-solution-services2\\components\\llm_service\\.venv_llm3\\Lib\\site-packages\\grpc\\_channel.py:959\u001b[0m, in \u001b[0;36m_MultiThreadedRendezvous._next\u001b[1;34m(self)\u001b[0m\n\u001b[0;32m    953\u001b[0m \u001b[38;5;28;01mdef\u001b[39;00m \u001b[38;5;21m_response_ready\u001b[39m():\n\u001b[0;32m    954\u001b[0m     \u001b[38;5;28;01mreturn\u001b[39;00m \u001b[38;5;28mself\u001b[39m\u001b[38;5;241m.\u001b[39m_state\u001b[38;5;241m.\u001b[39mresponse \u001b[38;5;129;01mis\u001b[39;00m \u001b[38;5;129;01mnot\u001b[39;00m \u001b[38;5;28;01mNone\u001b[39;00m \u001b[38;5;129;01mor\u001b[39;00m (\n\u001b[0;32m    955\u001b[0m         cygrpc\u001b[38;5;241m.\u001b[39mOperationType\u001b[38;5;241m.\u001b[39mreceive_message \u001b[38;5;129;01mnot\u001b[39;00m \u001b[38;5;129;01min\u001b[39;00m \u001b[38;5;28mself\u001b[39m\u001b[38;5;241m.\u001b[39m_state\u001b[38;5;241m.\u001b[39mdue\n\u001b[0;32m    956\u001b[0m         \u001b[38;5;129;01mand\u001b[39;00m \u001b[38;5;28mself\u001b[39m\u001b[38;5;241m.\u001b[39m_state\u001b[38;5;241m.\u001b[39mcode \u001b[38;5;129;01mis\u001b[39;00m \u001b[38;5;129;01mnot\u001b[39;00m \u001b[38;5;28;01mNone\u001b[39;00m\n\u001b[0;32m    957\u001b[0m     )\n\u001b[1;32m--> 959\u001b[0m \u001b[43m_common\u001b[49m\u001b[38;5;241;43m.\u001b[39;49m\u001b[43mwait\u001b[49m\u001b[43m(\u001b[49m\u001b[38;5;28;43mself\u001b[39;49m\u001b[38;5;241;43m.\u001b[39;49m\u001b[43m_state\u001b[49m\u001b[38;5;241;43m.\u001b[39;49m\u001b[43mcondition\u001b[49m\u001b[38;5;241;43m.\u001b[39;49m\u001b[43mwait\u001b[49m\u001b[43m,\u001b[49m\u001b[43m \u001b[49m\u001b[43m_response_ready\u001b[49m\u001b[43m)\u001b[49m\n\u001b[0;32m    960\u001b[0m \u001b[38;5;28;01mif\u001b[39;00m \u001b[38;5;28mself\u001b[39m\u001b[38;5;241m.\u001b[39m_state\u001b[38;5;241m.\u001b[39mresponse \u001b[38;5;129;01mis\u001b[39;00m \u001b[38;5;129;01mnot\u001b[39;00m \u001b[38;5;28;01mNone\u001b[39;00m:\n\u001b[0;32m    961\u001b[0m     response \u001b[38;5;241m=\u001b[39m \u001b[38;5;28mself\u001b[39m\u001b[38;5;241m.\u001b[39m_state\u001b[38;5;241m.\u001b[39mresponse\n",
      "File \u001b[1;32mc:\\Users\\trishjam\\Documents\\trishjam\\projects\\05-nasa\\code\\core-solution-services2\\components\\llm_service\\.venv_llm3\\Lib\\site-packages\\grpc\\_common.py:156\u001b[0m, in \u001b[0;36mwait\u001b[1;34m(wait_fn, wait_complete_fn, timeout, spin_cb)\u001b[0m\n\u001b[0;32m    154\u001b[0m \u001b[38;5;28;01mif\u001b[39;00m timeout \u001b[38;5;129;01mis\u001b[39;00m \u001b[38;5;28;01mNone\u001b[39;00m:\n\u001b[0;32m    155\u001b[0m     \u001b[38;5;28;01mwhile\u001b[39;00m \u001b[38;5;129;01mnot\u001b[39;00m wait_complete_fn():\n\u001b[1;32m--> 156\u001b[0m         \u001b[43m_wait_once\u001b[49m\u001b[43m(\u001b[49m\u001b[43mwait_fn\u001b[49m\u001b[43m,\u001b[49m\u001b[43m \u001b[49m\u001b[43mMAXIMUM_WAIT_TIMEOUT\u001b[49m\u001b[43m,\u001b[49m\u001b[43m \u001b[49m\u001b[43mspin_cb\u001b[49m\u001b[43m)\u001b[49m\n\u001b[0;32m    157\u001b[0m \u001b[38;5;28;01melse\u001b[39;00m:\n\u001b[0;32m    158\u001b[0m     end \u001b[38;5;241m=\u001b[39m time\u001b[38;5;241m.\u001b[39mtime() \u001b[38;5;241m+\u001b[39m timeout\n",
      "File \u001b[1;32mc:\\Users\\trishjam\\Documents\\trishjam\\projects\\05-nasa\\code\\core-solution-services2\\components\\llm_service\\.venv_llm3\\Lib\\site-packages\\grpc\\_common.py:116\u001b[0m, in \u001b[0;36m_wait_once\u001b[1;34m(wait_fn, timeout, spin_cb)\u001b[0m\n\u001b[0;32m    111\u001b[0m \u001b[38;5;28;01mdef\u001b[39;00m \u001b[38;5;21m_wait_once\u001b[39m(\n\u001b[0;32m    112\u001b[0m     wait_fn: Callable[\u001b[38;5;241m.\u001b[39m\u001b[38;5;241m.\u001b[39m\u001b[38;5;241m.\u001b[39m, \u001b[38;5;28mbool\u001b[39m],\n\u001b[0;32m    113\u001b[0m     timeout: \u001b[38;5;28mfloat\u001b[39m,\n\u001b[0;32m    114\u001b[0m     spin_cb: Optional[Callable[[], \u001b[38;5;28;01mNone\u001b[39;00m]],\n\u001b[0;32m    115\u001b[0m ):\n\u001b[1;32m--> 116\u001b[0m     \u001b[43mwait_fn\u001b[49m\u001b[43m(\u001b[49m\u001b[43mtimeout\u001b[49m\u001b[38;5;241;43m=\u001b[39;49m\u001b[43mtimeout\u001b[49m\u001b[43m)\u001b[49m\n\u001b[0;32m    117\u001b[0m     \u001b[38;5;28;01mif\u001b[39;00m spin_cb \u001b[38;5;129;01mis\u001b[39;00m \u001b[38;5;129;01mnot\u001b[39;00m \u001b[38;5;28;01mNone\u001b[39;00m:\n\u001b[0;32m    118\u001b[0m         spin_cb()\n",
      "File \u001b[1;32m~\\AppData\\Local\\Programs\\Python\\Python311\\Lib\\threading.py:331\u001b[0m, in \u001b[0;36mCondition.wait\u001b[1;34m(self, timeout)\u001b[0m\n\u001b[0;32m    329\u001b[0m \u001b[38;5;28;01melse\u001b[39;00m:\n\u001b[0;32m    330\u001b[0m     \u001b[38;5;28;01mif\u001b[39;00m timeout \u001b[38;5;241m>\u001b[39m \u001b[38;5;241m0\u001b[39m:\n\u001b[1;32m--> 331\u001b[0m         gotit \u001b[38;5;241m=\u001b[39m \u001b[43mwaiter\u001b[49m\u001b[38;5;241;43m.\u001b[39;49m\u001b[43macquire\u001b[49m\u001b[43m(\u001b[49m\u001b[38;5;28;43;01mTrue\u001b[39;49;00m\u001b[43m,\u001b[49m\u001b[43m \u001b[49m\u001b[43mtimeout\u001b[49m\u001b[43m)\u001b[49m\n\u001b[0;32m    332\u001b[0m     \u001b[38;5;28;01melse\u001b[39;00m:\n\u001b[0;32m    333\u001b[0m         gotit \u001b[38;5;241m=\u001b[39m waiter\u001b[38;5;241m.\u001b[39macquire(\u001b[38;5;28;01mFalse\u001b[39;00m)\n",
      "\u001b[1;31mKeyboardInterrupt\u001b[0m: "
     ]
    }
   ],
   "source": [
    "for doc in query_docs:\n",
    "    print(f\"[{doc.index_start}, {doc.index_end}] {doc.id} {doc.doc_url}\")\n",
    "    for i in range(doc.index_start, doc.index_end):\n",
    "        doc_chunk = QueryDocumentChunk.find_by_index(qe_one.id, i)\n",
    "        print(f\"{doc_chunk.index:8} {doc_chunk.query_document_id} {doc_chunk.clean_text[0:50]}\")"
   ]
  },
  {
   "cell_type": "code",
   "execution_count": 14,
   "id": "e47427cf-070d-43a9-9e63-51eeaa44cb74",
   "metadata": {},
   "outputs": [],
   "source": [
    "def get_chunks(qe_id):\n",
    "    doc_chunks = []\n",
    "    query_docs = QueryDocument.find_by_query_engine_id(qe_id)\n",
    "    for doc in query_docs:\n",
    "        for i in range(doc.index_start, doc.index_end):\n",
    "            doc_chunk = QueryDocumentChunk.find_by_index(qe_id, i)\n",
    "            doc_chunks.append(doc_chunk)\n",
    "        break\n",
    "    return doc_chunks"
   ]
  },
  {
   "cell_type": "markdown",
   "id": "243d25da-890e-46f3-a268-5a5fcdf32369",
   "metadata": {
    "jp-MarkdownHeadingCollapsed": true
   },
   "source": [
    "## Reranking"
   ]
  },
  {
   "cell_type": "code",
   "execution_count": 15,
   "id": "974ec843-b931-4cfa-ac6d-3d2c29c20b81",
   "metadata": {},
   "outputs": [],
   "source": [
    "from rerankers import Reranker\n",
    "from bs4 import BeautifulSoup"
   ]
  },
  {
   "cell_type": "code",
   "execution_count": 16,
   "id": "5281224d-6f81-4f48-81be-4695de72839d",
   "metadata": {},
   "outputs": [
    {
     "name": "stdout",
     "output_type": "stream",
     "text": [
      "Got 267 chunks\n"
     ]
    }
   ],
   "source": [
    "chunks = get_chunks(qe_one.id)\n",
    "print(f\"Got {len(chunks)} chunks\")"
   ]
  },
  {
   "cell_type": "code",
   "execution_count": 17,
   "id": "ca7ab2d9-beb6-4424-8a9e-e93d82ec56f1",
   "metadata": {},
   "outputs": [
    {
     "name": "stdout",
     "output_type": "stream",
     "text": [
      "Loading default cross-encoder model for language en\n",
      "Warning: Model type could not be auto-mapped with the defaults list. Defaulting to TransformerRanker.\n",
      "If your model is NOT intended to be ran as a one-label cross-encoder, please reload it and specify the model_type! Otherwise, you may ignore this warning. You may specify `model_type='cross-encoder'` to suppress this warning in the future.\n",
      "Loading TransformerRanker model mixedbread-ai/mxbai-rerank-base-v1\n",
      "Loading default colbert model for language en\n",
      "Loading ColBERTRanker model colbert-ir/colbertv2.0\n"
     ]
    }
   ],
   "source": [
    "ENCODER_MODELS = {\n",
    "    \"cross-encoder\": Reranker('cross-encoder', verbose=0),\n",
    "    \"colbert\": Reranker('colbert', verbose=0)\n",
    "}"
   ]
  },
  {
   "cell_type": "code",
   "execution_count": 26,
   "id": "fb324646-6119-4119-871f-b5c4a855324a",
   "metadata": {},
   "outputs": [],
   "source": [
    "def rank_results(encoder, prompt, docs, doc_ids, top_k=10):\n",
    "    ranker = ENCODER_MODELS[encoder]\n",
    "    results = ranker.rank(query=prompt, docs=docs, doc_ids=doc_ids).top_k(top_k)\n",
    "    # print(f\"Got {len(results.results)} results\")\n",
    "    return results\n",
    "\n",
    "def show(results):\n",
    "    for r in results:\n",
    "        print(f\"{r.doc_id}  {BeautifulSoup(r.text, 'html.parser').text}\")\n",
    "        # print(BeautifulSoup(r.text, \"html.parser\").text)"
   ]
  },
  {
   "cell_type": "code",
   "execution_count": 19,
   "id": "1bb9828a",
   "metadata": {},
   "outputs": [],
   "source": [
    "prompt = \"What is Artemis?\""
   ]
  },
  {
   "cell_type": "code",
   "execution_count": 20,
   "id": "3721e4cf-c1f0-4e1d-b7d8-fe4f079fdb5d",
   "metadata": {},
   "outputs": [],
   "source": [
    "num_chunks = 20\n",
    "small_chunks = chunks[0:10]\n",
    "chunk_text = [c.clean_text for c in small_chunks][:num_chunks]\n",
    "chunk_ids = [c.index for c in small_chunks][:num_chunks]"
   ]
  },
  {
   "cell_type": "code",
   "execution_count": 27,
   "id": "6421a0eb-5182-4d37-ba3d-f7a54f4e285a",
   "metadata": {},
   "outputs": [
    {
     "name": "stdout",
     "output_type": "stream",
     "text": [
      "CPU times: total: 16.3 s\n",
      "Wall time: 4.44 s\n"
     ]
    }
   ],
   "source": [
    "%%time\n",
    "res_ce = rank_results(\"cross-encoder\", prompt, chunk_text, chunk_ids)"
   ]
  },
  {
   "cell_type": "code",
   "execution_count": 28,
   "id": "543f8e64-6b2a-47ea-bb98-f60187774701",
   "metadata": {},
   "outputs": [
    {
     "name": "stdout",
     "output_type": "stream",
     "text": [
      "CPU times: total: 16.1 s\n",
      "Wall time: 4.07 s\n"
     ]
    }
   ],
   "source": [
    "%%time\n",
    "res_col = rank_results(\"colbert\", prompt, chunk_text, chunk_ids)"
   ]
  },
  {
   "cell_type": "code",
   "execution_count": 29,
   "id": "ca17d36f-0af4-4932-b3b0-0eb90a69216f",
   "metadata": {},
   "outputs": [
    {
     "name": "stdout",
     "output_type": "stream",
     "text": [
      "19444  Overall,the CFD results demonstrate that scale-resolving simulation methodologies like the one presentedcan help characterize full-scale launch abort vehicle near-eld noise and can complement windtunnel, ground and ight tests by providing trends and reducing uncertainty for scenarios thatcannot or are not planned to be tested.Keywords: Computational Fluid Dynamics, Aero-acoustics.1 IntroductionThe National Aeronautics and Space Administrations (NASA) Artemis missions plan to bring humans tothe Moon  and eventually Mars  and return them to Earth safely onboard the Orion spacecraft.  Orionwill be propelled into space by the powerful Space Launch System, shown in Figure 1 with the Orion crewmodule and its launch abort system  the focus of this work  outlined in red.  The launch abort system(LAS), detailed in Figure 2 is attached to the top of the Orion crew module during launch and is jettisonedonce the spacecraft safely reaches the edge of space. \n",
      "19445  Orionwill be propelled into space by the powerful Space Launch System, shown in Figure 1 with the Orion crewmodule and its launch abort system  the focus of this work  outlined in red.  The launch abort system(LAS), detailed in Figure 2 is attached to the top of the Orion crew module during launch and is jettisonedonce the spacecraft safely reaches the edge of space.  The LAS consists of a tower where three rocket motorsare located, and a fairing assembly which protects the crew module. \n",
      "19443  Simulation results for a supersonic ascent abortighttestareinreasonableagreementwiththemeasurements, butshowlargerexcursionsinregionswhere non-linear interactions between the plume turbulence, shocks, and turbulent boundary layerare strongest  likely due to CFD modeling assumptions, the eect of which are discussed.  Overall,the CFD results demonstrate that scale-resolving simulation methodologies like the one presentedcan help characterize full-scale launch abort vehicle near-eld noise and can complement windtunnel, ground and ight tests by providing trends and reducing uncertainty for scenarios thatcannot or are not planned to be tested.Keywords: Computational Fluid Dynamics, Aero-acoustics.1 IntroductionThe National Aeronautics and Space Administrations (NASA) Artemis missions plan to bring humans tothe Moon  and eventually Mars  and return them to Earth safely onboard the Orion spacecraft.  Orionwill be propelled into space by the powerful Space Launch System, shown in Figure 1 with the Orion crewmodule and its launch abort system  the focus of this work  outlined in red. \n",
      "19442  A simplied (static and at rest)simulation of a pad abort ight test shows good agreement with the ight data, whereas a morecostly simulation where the vehicle is accelerating relative to the ground from rest to Mach 0.4shows consistent over-prediction of the spectra.  Simulation results for a supersonic ascent abortighttestareinreasonableagreementwiththemeasurements, butshowlargerexcursionsinregionswhere non-linear interactions between the plume turbulence, shocks, and turbulent boundary layerare strongest  likely due to CFD modeling assumptions, the eect of which are discussed.  Overall,the CFD results demonstrate that scale-resolving simulation methodologies like the one presentedcan help characterize full-scale launch abort vehicle near-eld noise and can complement windtunnel, ground and ight tests by providing trends and reducing uncertainty for scenarios thatcannot or are not planned to be tested.Keywords: Computational Fluid Dynamics, Aero-acoustics.1 IntroductionThe National Aeronautics and Space Administrations (NASA) Artemis missions plan to bring humans tothe Moon  and eventually Mars  and return them to Earth safely onboard the Orion spacecraft. \n",
      "19446  The launch abort system(LAS), detailed in Figure 2 is attached to the top of the Orion crew module during launch and is jettisonedonce the spacecraft safely reaches the edge of space.  The LAS consists of a tower where three rocket motorsare located, and a fairing assembly which protects the crew module.  Together, the crew module and theLAS form the launch abort vehicle (LAV). \n",
      "19447  The LAS consists of a tower where three rocket motorsare located, and a fairing assembly which protects the crew module.  Together, the crew module and theLAS form the launch abort vehicle (LAV).  The fairing assembly is further split into two sections: the lletwhich connects to the tower above, and the ogive which serves as a shield to the crew module. \n",
      "19438  Eleventh International Conference onComputational Fluid Dynamics (ICCFD11),Maui, HI, USA, July 11-15, 2022ICCFD11-2022-xxxxPredicting Orion Launch Abort AcousticsFrancois Cadieux, Michael F. Barad, James C. Jensen, Jordan B. Angel, Cetin KirisCorresponding author: francois.cadieux@nasa.govNASA Ames Research Center, Moett Field, CA, USAAbstract:Computational uid dynamics (CFD) scale-resolving simulations were performed to help assess theOrion launch abort systems vibro-acoustic environment in collaboration with the Orion Loads andDynamics team at the Johnson Space Center (JSC).  The primary objectives are to establish bestpractices and to validate CFD predictions for surface uctuating pressure spectra with ground,wind tunnel, and ight test data. \n",
      "19439  Eleventh International Conference onComputational Fluid Dynamics (ICCFD11),Maui, HI, USA, July 11-15, 2022ICCFD11-2022-xxxxPredicting Orion Launch Abort AcousticsFrancois Cadieux, Michael F. Barad, James C. Jensen, Jordan B. Angel, Cetin KirisCorresponding author: francois.cadieux@nasa.govNASA Ames Research Center, Moett Field, CA, USAAbstract:Computational uid dynamics (CFD) scale-resolving simulations were performed to help assess theOrion launch abort systems vibro-acoustic environment in collaboration with the Orion Loads andDynamics team at the Johnson Space Center (JSC).  The primary objectives are to establish bestpractices and to validate CFD predictions for surface uctuating pressure spectra with ground,wind tunnel, and ight test data.  Excellent agreement is obtained between CFD predictionsby the Cartesian adaptive mesh renement (AMR) module of the Launch, Ascent, and VehicleAerodynamics (LAVA) solver and measurements from a ground test representative of the startof a pad abort scenario, and with measurements from a wind tunnel test case corresponding toa transonic, high total angle of attack ascent abort scenario. \n",
      "19441  Excellent agreement is obtained between CFD predictionsby the Cartesian adaptive mesh renement (AMR) module of the Launch, Ascent, and VehicleAerodynamics (LAVA) solver and measurements from a ground test representative of the startof a pad abort scenario, and with measurements from a wind tunnel test case corresponding toa transonic, high total angle of attack ascent abort scenario.  A simplied (static and at rest)simulation of a pad abort ight test shows good agreement with the ight data, whereas a morecostly simulation where the vehicle is accelerating relative to the ground from rest to Mach 0.4shows consistent over-prediction of the spectra.  Simulation results for a supersonic ascent abortighttestareinreasonableagreementwiththemeasurements, butshowlargerexcursionsinregionswhere non-linear interactions between the plume turbulence, shocks, and turbulent boundary layerare strongest  likely due to CFD modeling assumptions, the eect of which are discussed. \n",
      "19440  The primary objectives are to establish bestpractices and to validate CFD predictions for surface uctuating pressure spectra with ground,wind tunnel, and ight test data.  Excellent agreement is obtained between CFD predictionsby the Cartesian adaptive mesh renement (AMR) module of the Launch, Ascent, and VehicleAerodynamics (LAVA) solver and measurements from a ground test representative of the startof a pad abort scenario, and with measurements from a wind tunnel test case corresponding toa transonic, high total angle of attack ascent abort scenario.  A simplied (static and at rest)simulation of a pad abort ight test shows good agreement with the ight data, whereas a morecostly simulation where the vehicle is accelerating relative to the ground from rest to Mach 0.4shows consistent over-prediction of the spectra. \n",
      "19442  A simplied (static and at rest)simulation of a pad abort ight test shows good agreement with the ight data, whereas a morecostly simulation where the vehicle is accelerating relative to the ground from rest to Mach 0.4shows consistent over-prediction of the spectra.  Simulation results for a supersonic ascent abortighttestareinreasonableagreementwiththemeasurements, butshowlargerexcursionsinregionswhere non-linear interactions between the plume turbulence, shocks, and turbulent boundary layerare strongest  likely due to CFD modeling assumptions, the eect of which are discussed.  Overall,the CFD results demonstrate that scale-resolving simulation methodologies like the one presentedcan help characterize full-scale launch abort vehicle near-eld noise and can complement windtunnel, ground and ight tests by providing trends and reducing uncertainty for scenarios thatcannot or are not planned to be tested.Keywords: Computational Fluid Dynamics, Aero-acoustics.1 IntroductionThe National Aeronautics and Space Administrations (NASA) Artemis missions plan to bring humans tothe Moon  and eventually Mars  and return them to Earth safely onboard the Orion spacecraft. \n",
      "19444  Overall,the CFD results demonstrate that scale-resolving simulation methodologies like the one presentedcan help characterize full-scale launch abort vehicle near-eld noise and can complement windtunnel, ground and ight tests by providing trends and reducing uncertainty for scenarios thatcannot or are not planned to be tested.Keywords: Computational Fluid Dynamics, Aero-acoustics.1 IntroductionThe National Aeronautics and Space Administrations (NASA) Artemis missions plan to bring humans tothe Moon  and eventually Mars  and return them to Earth safely onboard the Orion spacecraft.  Orionwill be propelled into space by the powerful Space Launch System, shown in Figure 1 with the Orion crewmodule and its launch abort system  the focus of this work  outlined in red.  The launch abort system(LAS), detailed in Figure 2 is attached to the top of the Orion crew module during launch and is jettisonedonce the spacecraft safely reaches the edge of space. \n",
      "19446  The launch abort system(LAS), detailed in Figure 2 is attached to the top of the Orion crew module during launch and is jettisonedonce the spacecraft safely reaches the edge of space.  The LAS consists of a tower where three rocket motorsare located, and a fairing assembly which protects the crew module.  Together, the crew module and theLAS form the launch abort vehicle (LAV). \n",
      "19443  Simulation results for a supersonic ascent abortighttestareinreasonableagreementwiththemeasurements, butshowlargerexcursionsinregionswhere non-linear interactions between the plume turbulence, shocks, and turbulent boundary layerare strongest  likely due to CFD modeling assumptions, the eect of which are discussed.  Overall,the CFD results demonstrate that scale-resolving simulation methodologies like the one presentedcan help characterize full-scale launch abort vehicle near-eld noise and can complement windtunnel, ground and ight tests by providing trends and reducing uncertainty for scenarios thatcannot or are not planned to be tested.Keywords: Computational Fluid Dynamics, Aero-acoustics.1 IntroductionThe National Aeronautics and Space Administrations (NASA) Artemis missions plan to bring humans tothe Moon  and eventually Mars  and return them to Earth safely onboard the Orion spacecraft.  Orionwill be propelled into space by the powerful Space Launch System, shown in Figure 1 with the Orion crewmodule and its launch abort system  the focus of this work  outlined in red. \n",
      "19447  The LAS consists of a tower where three rocket motorsare located, and a fairing assembly which protects the crew module.  Together, the crew module and theLAS form the launch abort vehicle (LAV).  The fairing assembly is further split into two sections: the lletwhich connects to the tower above, and the ogive which serves as a shield to the crew module. \n",
      "19445  Orionwill be propelled into space by the powerful Space Launch System, shown in Figure 1 with the Orion crewmodule and its launch abort system  the focus of this work  outlined in red.  The launch abort system(LAS), detailed in Figure 2 is attached to the top of the Orion crew module during launch and is jettisonedonce the spacecraft safely reaches the edge of space.  The LAS consists of a tower where three rocket motorsare located, and a fairing assembly which protects the crew module. \n",
      "19441  Excellent agreement is obtained between CFD predictionsby the Cartesian adaptive mesh renement (AMR) module of the Launch, Ascent, and VehicleAerodynamics (LAVA) solver and measurements from a ground test representative of the startof a pad abort scenario, and with measurements from a wind tunnel test case corresponding toa transonic, high total angle of attack ascent abort scenario.  A simplied (static and at rest)simulation of a pad abort ight test shows good agreement with the ight data, whereas a morecostly simulation where the vehicle is accelerating relative to the ground from rest to Mach 0.4shows consistent over-prediction of the spectra.  Simulation results for a supersonic ascent abortighttestareinreasonableagreementwiththemeasurements, butshowlargerexcursionsinregionswhere non-linear interactions between the plume turbulence, shocks, and turbulent boundary layerare strongest  likely due to CFD modeling assumptions, the eect of which are discussed. \n",
      "19440  The primary objectives are to establish bestpractices and to validate CFD predictions for surface uctuating pressure spectra with ground,wind tunnel, and ight test data.  Excellent agreement is obtained between CFD predictionsby the Cartesian adaptive mesh renement (AMR) module of the Launch, Ascent, and VehicleAerodynamics (LAVA) solver and measurements from a ground test representative of the startof a pad abort scenario, and with measurements from a wind tunnel test case corresponding toa transonic, high total angle of attack ascent abort scenario.  A simplied (static and at rest)simulation of a pad abort ight test shows good agreement with the ight data, whereas a morecostly simulation where the vehicle is accelerating relative to the ground from rest to Mach 0.4shows consistent over-prediction of the spectra. \n",
      "19439  Eleventh International Conference onComputational Fluid Dynamics (ICCFD11),Maui, HI, USA, July 11-15, 2022ICCFD11-2022-xxxxPredicting Orion Launch Abort AcousticsFrancois Cadieux, Michael F. Barad, James C. Jensen, Jordan B. Angel, Cetin KirisCorresponding author: francois.cadieux@nasa.govNASA Ames Research Center, Moett Field, CA, USAAbstract:Computational uid dynamics (CFD) scale-resolving simulations were performed to help assess theOrion launch abort systems vibro-acoustic environment in collaboration with the Orion Loads andDynamics team at the Johnson Space Center (JSC).  The primary objectives are to establish bestpractices and to validate CFD predictions for surface uctuating pressure spectra with ground,wind tunnel, and ight test data.  Excellent agreement is obtained between CFD predictionsby the Cartesian adaptive mesh renement (AMR) module of the Launch, Ascent, and VehicleAerodynamics (LAVA) solver and measurements from a ground test representative of the startof a pad abort scenario, and with measurements from a wind tunnel test case corresponding toa transonic, high total angle of attack ascent abort scenario. \n",
      "19438  Eleventh International Conference onComputational Fluid Dynamics (ICCFD11),Maui, HI, USA, July 11-15, 2022ICCFD11-2022-xxxxPredicting Orion Launch Abort AcousticsFrancois Cadieux, Michael F. Barad, James C. Jensen, Jordan B. Angel, Cetin KirisCorresponding author: francois.cadieux@nasa.govNASA Ames Research Center, Moett Field, CA, USAAbstract:Computational uid dynamics (CFD) scale-resolving simulations were performed to help assess theOrion launch abort systems vibro-acoustic environment in collaboration with the Orion Loads andDynamics team at the Johnson Space Center (JSC).  The primary objectives are to establish bestpractices and to validate CFD predictions for surface uctuating pressure spectra with ground,wind tunnel, and ight test data. \n"
     ]
    }
   ],
   "source": [
    "show(res_ce)\n",
    "show(res_col)"
   ]
  },
  {
   "cell_type": "markdown",
   "id": "79a8c6d0-4d29-44c6-9827-080c6848b0f3",
   "metadata": {},
   "source": [
    "## Build QueryReferences"
   ]
  },
  {
   "cell_type": "code",
   "execution_count": null,
   "id": "9c1c259a-ba40-4922-a7d3-93d4083c6e6a",
   "metadata": {},
   "outputs": [],
   "source": [
    "query_result = QueryResult.find_by_id(\"0O5cJA8xJRXcSobdsZcJ\")\n",
    "query_ref_ids = query_result.query_refs"
   ]
  },
  {
   "cell_type": "code",
   "execution_count": null,
   "id": "0d5f2932-1b0f-4dd1-86af-dbf725797242",
   "metadata": {},
   "outputs": [],
   "source": [
    "query_ref_ids"
   ]
  },
  {
   "cell_type": "code",
   "execution_count": null,
   "id": "7e6844ff-a338-490c-b1e7-22af0549626e",
   "metadata": {},
   "outputs": [],
   "source": [
    "query_ref_text = []\n",
    "query_refs = []\n",
    "\n",
    "for query_ref_id in query_ref_ids:\n",
    "    query_ref = QueryReference.find_by_id(query_ref_id)\n",
    "    query_doc_chunk = QueryDocumentChunk.find_by_id(query_ref.chunk_id)\n",
    "    print(query_ref.id, query_ref_id, query_ref.chunk_id, query_doc_chunk.id)\n",
    "    query_ref_text.append(query_doc_chunk.clean_text)\n",
    "    query_refs.append(query_ref)\n"
   ]
  },
  {
   "cell_type": "markdown",
   "id": "1a5c0b21-b056-4792-98c9-d16d916cc474",
   "metadata": {
    "jp-MarkdownHeadingCollapsed": true
   },
   "source": [
    "## Try reranking"
   ]
  },
  {
   "cell_type": "code",
   "execution_count": null,
   "id": "0240908c-8c3c-4fb9-95ba-4e60241e84ef",
   "metadata": {},
   "outputs": [],
   "source": [
    "RERANK_MODEL_NAME = \"cross-encoder\"\n",
    "reranker = Reranker(RERANK_MODEL_NAME, verbose=0)"
   ]
  },
  {
   "cell_type": "code",
   "execution_count": null,
   "id": "a12e555a-dbed-45f9-8d09-2e0a58daef95",
   "metadata": {},
   "outputs": [],
   "source": [
    "ranked_results = reranker.rank(query=prompt_one, docs=query_ref_text, doc_ids=query_ref_ids)"
   ]
  },
  {
   "cell_type": "code",
   "execution_count": null,
   "id": "7527841e-e840-4328-b38c-283fb334f7bc",
   "metadata": {},
   "outputs": [],
   "source": [
    "ranked_query_ref_ids = [ r.doc_id for r in ranked_results.results ]\n",
    "ranked_query_ref_ids"
   ]
  },
  {
   "cell_type": "code",
   "execution_count": null,
   "id": "6bd6d1b7-0b99-46a8-867a-99cac8651a2d",
   "metadata": {},
   "outputs": [],
   "source": [
    "sort_order_dict = {x: i for i, x in enumerate(ranked_query_ref_ids)}\n",
    "sort_order_dict"
   ]
  },
  {
   "cell_type": "code",
   "execution_count": null,
   "id": "3a8eb594-5f4e-4814-8680-455278975795",
   "metadata": {},
   "outputs": [],
   "source": [
    "sort_order_list = [(qr, sort_order_dict[qr.id]) for qr in query_refs]\n",
    "sort_order_list\n",
    "sort_order_list.sort(key=lambda x: x[1])\n",
    "sort_order_list\n",
    "\n",
    "ranked_query_refs = [qr for qr, i in sort_order_list]\n",
    "\n",
    "print([qr.id for qr in ranked_query_refs])"
   ]
  },
  {
   "cell_type": "code",
   "execution_count": null,
   "id": "682e317e-1fec-499a-b11b-9ef97fe803d4",
   "metadata": {},
   "outputs": [],
   "source": [
    "def rank_references2(prompt: str,\n",
    "                     query_references: List[QueryReference]) -> List[QueryReference]:\n",
    "\n",
    "    query_ref_text = []\n",
    "    query_ref_ids = []\n",
    "\n",
    "    for query_ref in query_references:\n",
    "        # query_ref = QueryReference.find_by_id(query_ref_id)\n",
    "        query_doc_chunk = QueryDocumentChunk.find_by_id(query_ref.chunk_id)\n",
    "        # print(query_ref.id, query_ref_id, query_ref.chunk_id, query_doc_chunk.id)\n",
    "        query_ref_text.append(query_doc_chunk.clean_text)\n",
    "        query_ref_ids.append(query_ref.id)\n",
    "\n",
    "    ranked_results = reranker.rank(query=prompt, docs=query_ref_text, doc_ids=query_ref_ids)\n",
    "    # putting the references list in order by rank\n",
    "    ranked_query_ref_ids = [ r.doc_id for r in ranked_results.results ]\n",
    "    sort_dict = {x: i for i, x in enumerate(ranked_query_ref_ids)}\n",
    "    sort_list = [(qr, sort_dict[qr.id]) for qr in query_refs]\n",
    "    sort_list.sort(key=lambda x: x[1])\n",
    "\n",
    "    # just return the QueryReferences\n",
    "    ranked_query_refs = [qr for qr, i in sort_order_list]\n",
    "\n",
    "    return ranked_query_refs"
   ]
  },
  {
   "cell_type": "code",
   "execution_count": null,
   "id": "0a8896b6-f08e-4a40-b5d8-843f352b97ce",
   "metadata": {},
   "outputs": [],
   "source": [
    "query_result = QueryResult.find_by_id(\"0O5cJA8xJRXcSobdsZcJ\")\n",
    "query_ref_ids = query_result.query_refs\n",
    "\n",
    "query_refs = []\n",
    "for query_ref_id in query_ref_ids:\n",
    "    print(query_ref_id)\n",
    "    query_refs.append(QueryReference.find_by_id(query_ref_id))\n",
    "\n",
    "ranked_query_refs = rank_references2(prompt_one, query_refs)"
   ]
  },
  {
   "cell_type": "code",
   "execution_count": null,
   "id": "ba518268-3148-4e56-94d7-47fc97ac2e37",
   "metadata": {},
   "outputs": [],
   "source": [
    "for qr in ranked_query_refs:\n",
    "    print(qr.id)"
   ]
  },
  {
   "cell_type": "markdown",
   "id": "fa878348-c135-4e92-bbbd-294231743baa",
   "metadata": {},
   "source": [
    "## Test reranking function"
   ]
  },
  {
   "cell_type": "code",
   "execution_count": null,
   "id": "c8f0e5cd-48f4-465e-b8ce-5ee49e777847",
   "metadata": {},
   "outputs": [],
   "source": [
    "from services.query.query_service import rerank_references"
   ]
  },
  {
   "cell_type": "code",
   "execution_count": null,
   "id": "45136cf0-6ade-450f-a609-ace2a403329b",
   "metadata": {},
   "outputs": [],
   "source": [
    "ranked_query_refs = rerank_references(prompt_one, query_refs)"
   ]
  },
  {
   "cell_type": "code",
   "execution_count": null,
   "id": "be923117-750f-4525-b14f-ff04c3ccf1ad",
   "metadata": {},
   "outputs": [],
   "source": [
    "for r in ranked_query_refs:\n",
    "    print(r.id, r.chunk_id)"
   ]
  },
  {
   "cell_type": "code",
   "execution_count": null,
   "id": "0d8a0546-5873-4a52-9f7e-abf7a6f25333",
   "metadata": {},
   "outputs": [],
   "source": []
  }
 ],
 "metadata": {
  "kernelspec": {
   "display_name": "Python 3 (ipykernel)",
   "language": "python",
   "name": "python3"
  },
  "language_info": {
   "codemirror_mode": {
    "name": "ipython",
    "version": 3
   },
   "file_extension": ".py",
   "mimetype": "text/x-python",
   "name": "python",
   "nbconvert_exporter": "python",
   "pygments_lexer": "ipython3",
   "version": "3.11.7"
  }
 },
 "nbformat": 4,
 "nbformat_minor": 5
}
