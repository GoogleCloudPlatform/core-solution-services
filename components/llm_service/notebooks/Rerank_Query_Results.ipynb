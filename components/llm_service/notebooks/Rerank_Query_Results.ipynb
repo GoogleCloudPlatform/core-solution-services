{
 "cells": [
  {
   "cell_type": "code",
   "execution_count": 1,
   "id": "44c9db81",
   "metadata": {},
   "outputs": [],
   "source": [
    "PROJECT_ID = \"nasa-genie-dev\"\n",
    "REGION = \"us-central1\"\n",
    "import os\n",
    "os.environ[\"PROJECT_ID\"] = PROJECT_ID"
   ]
  },
  {
   "cell_type": "code",
   "execution_count": 2,
   "id": "6485508d",
   "metadata": {},
   "outputs": [],
   "source": [
    "import sys\n",
    "sys.path.append(\"../../common/src\")\n",
    "sys.path.append(\"../src\")"
   ]
  },
  {
   "cell_type": "code",
   "execution_count": 3,
   "id": "08365901",
   "metadata": {},
   "outputs": [
    {
     "name": "stderr",
     "output_type": "stream",
     "text": [
      "c:\\Users\\trishjam\\Documents\\trishjam\\projects\\05-nasa\\code\\core-solution-services2\\components\\llm_service\\.venv_llm3\\Lib\\site-packages\\tqdm\\auto.py:21: TqdmWarning: IProgress not found. Please update jupyter and ipywidgets. See https://ipywidgets.readthedocs.io/en/stable/user_install.html\n",
      "  from .autonotebook import tqdm as notebook_tqdm\n"
     ]
    },
    {
     "name": "stdout",
     "output_type": "stream",
     "text": [
      "INFO: [config/config.py:57 - <module>()] Namespace File not found, setting job namespace as default\n"
     ]
    },
    {
     "name": "stderr",
     "output_type": "stream",
     "text": [
      "c:\\Users\\trishjam\\Documents\\trishjam\\projects\\05-nasa\\code\\core-solution-services2\\components\\llm_service\\.venv_llm3\\Lib\\site-packages\\langchain_community\\llms\\__init__.py:166: LangChainDeprecationWarning: `` was deprecated in LangChain 0.0.22 and will be removed in 0.2. An updated version of the  exists in the langchain-community package and should be used instead. To use it run `pip install -U langchain-community` and import as `from langchain_community.chat_models import ChatDatabricks`.\n",
      "  warn_deprecated(\n",
      "c:\\Users\\trishjam\\Documents\\trishjam\\projects\\05-nasa\\code\\core-solution-services2\\components\\llm_service\\.venv_llm3\\Lib\\site-packages\\langchain_community\\llms\\__init__.py:329: LangChainDeprecationWarning: `` was deprecated in LangChain 0.0.22 and will be removed in 0.2. An updated version of the  exists in the langchain-community package and should be used instead. To use it run `pip install -U langchain-community` and import as `from langchain_community.chat_models import ChatMlflow`.\n",
      "  warn_deprecated(\n",
      "c:\\Users\\trishjam\\Documents\\trishjam\\projects\\05-nasa\\code\\core-solution-services2\\components\\llm_service\\.venv_llm3\\Lib\\site-packages\\langchain_community\\llms\\__init__.py:166: LangChainDeprecationWarning: `` was deprecated in LangChain 0.0.22 and will be removed in 0.2. An updated version of the  exists in the langchain-community package and should be used instead. To use it run `pip install -U langchain-community` and import as `from langchain_community.chat_models import ChatDatabricks`.\n",
      "  warn_deprecated(\n",
      "c:\\Users\\trishjam\\Documents\\trishjam\\projects\\05-nasa\\code\\core-solution-services2\\components\\llm_service\\.venv_llm3\\Lib\\site-packages\\langchain_community\\llms\\__init__.py:329: LangChainDeprecationWarning: `` was deprecated in LangChain 0.0.22 and will be removed in 0.2. An updated version of the  exists in the langchain-community package and should be used instead. To use it run `pip install -U langchain-community` and import as `from langchain_community.chat_models import ChatMlflow`.\n",
      "  warn_deprecated(\n",
      "c:\\Users\\trishjam\\Documents\\trishjam\\projects\\05-nasa\\code\\core-solution-services2\\components\\llm_service\\.venv_llm3\\Lib\\site-packages\\langchain_community\\llms\\__init__.py:166: LangChainDeprecationWarning: `` was deprecated in LangChain 0.0.22 and will be removed in 0.2. An updated version of the  exists in the langchain-community package and should be used instead. To use it run `pip install -U langchain-community` and import as `from langchain_community.chat_models import ChatDatabricks`.\n",
      "  warn_deprecated(\n",
      "c:\\Users\\trishjam\\Documents\\trishjam\\projects\\05-nasa\\code\\core-solution-services2\\components\\llm_service\\.venv_llm3\\Lib\\site-packages\\langchain_community\\llms\\__init__.py:329: LangChainDeprecationWarning: `` was deprecated in LangChain 0.0.22 and will be removed in 0.2. An updated version of the  exists in the langchain-community package and should be used instead. To use it run `pip install -U langchain-community` and import as `from langchain_community.chat_models import ChatMlflow`.\n",
      "  warn_deprecated(\n",
      "c:\\Users\\trishjam\\Documents\\trishjam\\projects\\05-nasa\\code\\core-solution-services2\\components\\llm_service\\.venv_llm3\\Lib\\site-packages\\langchain_community\\llms\\__init__.py:166: LangChainDeprecationWarning: `` was deprecated in LangChain 0.0.22 and will be removed in 0.2. An updated version of the  exists in the langchain-community package and should be used instead. To use it run `pip install -U langchain-community` and import as `from langchain_community.chat_models import ChatDatabricks`.\n",
      "  warn_deprecated(\n",
      "c:\\Users\\trishjam\\Documents\\trishjam\\projects\\05-nasa\\code\\core-solution-services2\\components\\llm_service\\.venv_llm3\\Lib\\site-packages\\langchain_community\\llms\\__init__.py:329: LangChainDeprecationWarning: `` was deprecated in LangChain 0.0.22 and will be removed in 0.2. An updated version of the  exists in the langchain-community package and should be used instead. To use it run `pip install -U langchain-community` and import as `from langchain_community.chat_models import ChatMlflow`.\n",
      "  warn_deprecated(\n",
      "c:\\Users\\trishjam\\Documents\\trishjam\\projects\\05-nasa\\code\\core-solution-services2\\components\\llm_service\\.venv_llm3\\Lib\\site-packages\\langchain_community\\llms\\__init__.py:166: LangChainDeprecationWarning: `` was deprecated in LangChain 0.0.22 and will be removed in 0.2. An updated version of the  exists in the langchain-community package and should be used instead. To use it run `pip install -U langchain-community` and import as `from langchain_community.chat_models import ChatDatabricks`.\n",
      "  warn_deprecated(\n",
      "c:\\Users\\trishjam\\Documents\\trishjam\\projects\\05-nasa\\code\\core-solution-services2\\components\\llm_service\\.venv_llm3\\Lib\\site-packages\\langchain_community\\llms\\__init__.py:329: LangChainDeprecationWarning: `` was deprecated in LangChain 0.0.22 and will be removed in 0.2. An updated version of the  exists in the langchain-community package and should be used instead. To use it run `pip install -U langchain-community` and import as `from langchain_community.chat_models import ChatMlflow`.\n",
      "  warn_deprecated(\n",
      "c:\\Users\\trishjam\\Documents\\trishjam\\projects\\05-nasa\\code\\core-solution-services2\\components\\llm_service\\.venv_llm3\\Lib\\site-packages\\langchain_community\\llms\\__init__.py:166: LangChainDeprecationWarning: `` was deprecated in LangChain 0.0.22 and will be removed in 0.2. An updated version of the  exists in the langchain-community package and should be used instead. To use it run `pip install -U langchain-community` and import as `from langchain_community.chat_models import ChatDatabricks`.\n",
      "  warn_deprecated(\n",
      "c:\\Users\\trishjam\\Documents\\trishjam\\projects\\05-nasa\\code\\core-solution-services2\\components\\llm_service\\.venv_llm3\\Lib\\site-packages\\langchain_community\\llms\\__init__.py:329: LangChainDeprecationWarning: `` was deprecated in LangChain 0.0.22 and will be removed in 0.2. An updated version of the  exists in the langchain-community package and should be used instead. To use it run `pip install -U langchain-community` and import as `from langchain_community.chat_models import ChatMlflow`.\n",
      "  warn_deprecated(\n"
     ]
    },
    {
     "name": "stdout",
     "output_type": "stream",
     "text": [
      "ERROR: [config/model_config.py:591 - instantiate_model_class()] Cannot load langchain model class ChatCohere\n",
      "WARNING: [config/model_config.py:341 - set_model_config()] Disabling model Cohere\n"
     ]
    },
    {
     "name": "stderr",
     "output_type": "stream",
     "text": [
      "c:\\Users\\trishjam\\Documents\\trishjam\\projects\\05-nasa\\code\\core-solution-services2\\components\\llm_service\\.venv_llm3\\Lib\\site-packages\\langchain_community\\llms\\__init__.py:166: LangChainDeprecationWarning: `` was deprecated in LangChain 0.0.22 and will be removed in 0.2. An updated version of the  exists in the langchain-community package and should be used instead. To use it run `pip install -U langchain-community` and import as `from langchain_community.chat_models import ChatDatabricks`.\n",
      "  warn_deprecated(\n",
      "c:\\Users\\trishjam\\Documents\\trishjam\\projects\\05-nasa\\code\\core-solution-services2\\components\\llm_service\\.venv_llm3\\Lib\\site-packages\\langchain_community\\llms\\__init__.py:329: LangChainDeprecationWarning: `` was deprecated in LangChain 0.0.22 and will be removed in 0.2. An updated version of the  exists in the langchain-community package and should be used instead. To use it run `pip install -U langchain-community` and import as `from langchain_community.chat_models import ChatMlflow`.\n",
      "  warn_deprecated(\n"
     ]
    },
    {
     "name": "stdout",
     "output_type": "stream",
     "text": [
      "INFO: [config/config.py:107 - <module>()] ENABLE_GOOGLE_LLM = True\n",
      "INFO: [config/config.py:108 - <module>()] ENABLE_OPENAI_LLM = True\n",
      "INFO: [config/config.py:109 - <module>()] ENABLE_COHERE_LLM = True\n",
      "INFO: [config/config.py:110 - <module>()] ENABLE_GOOGLE_MODEL_GARDEN = True\n",
      "INFO: [config/config.py:111 - <module>()] ENABLE_TRUSS_LLAMA2 = True\n",
      "INFO: [config/vector_store_config.py:40 - <module>()] Default vector store = [matching_engine]\n",
      "INFO: [config/vector_store_config.py:49 - <module>()] PG_HOST = [127.0.0.1]\n",
      "INFO: [config/vector_store_config.py:50 - <module>()] PG_DBNAME = [pgvector]\n",
      "ERROR: [config/vector_store_config.py:77 - <module>()] Cannot connect to pgvector instance at 127.0.0.1: (psycopg2.OperationalError) connection to server at \"127.0.0.1\", port 5432 failed: Connection refused (0x0000274D/10061)\n",
      "\tIs the server running on that host and accepting TCP/IP connections?\n",
      "\n",
      "(Background on this error at: https://sqlalche.me/e/20/e3q8)\n",
      "INFO: [config/onedrive_config.py:30 - <module>()] ONEDRIVE_CLIENT_ID = [None]\n",
      "INFO: [config/onedrive_config.py:31 - <module>()] ONEDRIVE_TENANT_ID = [None]\n",
      "INFO: [utils/text_helper.py:43 - <module>()] using default spacy model\n",
      "Loading default cross-encoder model for language en\n",
      "Warning: Model type could not be auto-mapped with the defaults list. Defaulting to TransformerRanker.\n",
      "If your model is NOT intended to be ran as a one-label cross-encoder, please reload it and specify the model_type! Otherwise, you may ignore this warning. You may specify `model_type='cross-encoder'` to suppress this warning in the future.\n",
      "Loading TransformerRanker model mixedbread-ai/mxbai-rerank-base-v1\n"
     ]
    }
   ],
   "source": [
    "from common.models import (UserQuery, QueryResult, QueryEngine, QueryDocument,\n",
    "                           QueryReference, QueryDocumentChunk)\n",
    "from services.query import query_service"
   ]
  },
  {
   "cell_type": "code",
   "execution_count": 27,
   "id": "98bad6b3-82ab-4436-80f9-f5940e913164",
   "metadata": {},
   "outputs": [],
   "source": [
    "user_id = \"bfrv1ifGrvAiJ9sWENHE\"\n",
    "\n",
    "qe_name = \"nasa-search-integrated-v2\"\n",
    "qe_name = \"nasa-search-gcs\"\n",
    "\n",
    "\n",
    "llm_type = \"Truss-Llama2-Chat\"\n",
    "llm_type = \"VertexAI-Chat\"\n",
    "\n",
    "q_result_id = \"sA9wKzhYWBOxVZTtKXLE\" # Artemis question\n",
    "q_result_id2 = \"tnBowGf5v9Ocbjeed51q\" # SLS question\n",
    "\n",
    "\n",
    "prompt = \"What is Artemis?\""
   ]
  },
  {
   "cell_type": "code",
   "execution_count": 5,
   "id": "08e4deab-bc6d-44e7-9242-1e1f49c9c244",
   "metadata": {},
   "outputs": [
    {
     "name": "stdout",
     "output_type": "stream",
     "text": [
      "Query engine nasa-search-gcs is id 6kcXnzQGxUkWHTcusn5j\n"
     ]
    }
   ],
   "source": [
    "qe = QueryEngine.find_by_name(qe_name)\n",
    "print(f\"Query engine {qe_name} is id {qe.id}\")"
   ]
  },
  {
   "cell_type": "code",
   "execution_count": 6,
   "id": "4c8678f7-d2cb-4deb-a0d7-9b45c006237d",
   "metadata": {},
   "outputs": [
    {
     "name": "stdout",
     "output_type": "stream",
     "text": [
      "Retrieved 101 docs\n"
     ]
    }
   ],
   "source": [
    "query_docs = QueryDocument.find_by_query_engine_id(qe.id)\n",
    "print(f\"Retrieved {len(query_docs)} docs\")"
   ]
  },
  {
   "cell_type": "code",
   "execution_count": 7,
   "id": "e6378d47",
   "metadata": {},
   "outputs": [],
   "source": [
    "def get_chunks(doc, num_chunks):\n",
    "    chunks = []\n",
    "    print(f\"[{doc.index_start}, {doc.index_end}] {doc.id} {doc.doc_url}\")\n",
    "    for i in range(doc.index_start, doc.index_end):\n",
    "        doc_chunk = QueryDocumentChunk.find_by_index(doc.query_engine_id, i)\n",
    "        chunks.append(doc_chunk)\n",
    "        # print(f\"{doc_chunk.index:8} {doc_chunk.query_document_id} {doc_chunk.clean_text}\")\n",
    "        if i - doc.index_start == num_chunks:\n",
    "            break\n",
    "    return chunks\n",
    "\n",
    "def show_chunks(chunks):\n",
    "    for c in chunks:\n",
    "        print(f\"{c.query_engine_id} {c.query_document_id} {c.id} {c.index} {c.text}\")\n"
   ]
  },
  {
   "cell_type": "code",
   "execution_count": 8,
   "id": "ec8a0854",
   "metadata": {},
   "outputs": [
    {
     "name": "stdout",
     "output_type": "stream",
     "text": [
      "[19438, 19705] N6HzPqe4lnSmgjrq60a2 /b/nasa-genie-dev-ntrs/o/Orion%2Ficcfd11_predictingOrionLaunchAbortAcoustics_v2.pdf\n",
      "6kcXnzQGxUkWHTcusn5j N6HzPqe4lnSmgjrq60a2 oSJ4G6izsJaEQp2zlAF6 19438 Eleventh International Conference onComputational Fluid Dynamics (ICCFD11),Maui, HI, USA, July 11-15, 2022ICCFD11-2022-xxxxPredicting Orion Launch Abort AcousticsFrancois Cadieux, Michael F. Barad, James C. Jensen, Jordan B. Angel, Cetin KirisCorresponding author: francois.cadieux@nasa.govNASA Ames Research Center, Moett Field, CA, USAAbstract:Computational uid dynamics (CFD) scale-resolving simulations were performed to help assess theOrion launch abort systems vibro-acoustic environment in collaboration with the Orion Loads andDynamics team at the Johnson Space Center (JSC).  The primary objectives are to establish bestpractices and to validate CFD predictions for surface uctuating pressure spectra with ground,wind tunnel, and ight test data. \n",
      "6kcXnzQGxUkWHTcusn5j N6HzPqe4lnSmgjrq60a2 mUkU0rULrsIuH5DRbyQz 19439 Eleventh International Conference onComputational Fluid Dynamics (ICCFD11),Maui, HI, USA, July 11-15, 2022ICCFD11-2022-xxxxPredicting Orion Launch Abort AcousticsFrancois Cadieux, Michael F. Barad, James C. Jensen, Jordan B. Angel, Cetin KirisCorresponding author: francois.cadieux@nasa.govNASA Ames Research Center, Moett Field, CA, USAAbstract:Computational uid dynamics (CFD) scale-resolving simulations were performed to help assess theOrion launch abort systems vibro-acoustic environment in collaboration with the Orion Loads andDynamics team at the Johnson Space Center (JSC).  The primary objectives are to establish bestpractices and to validate CFD predictions for surface uctuating pressure spectra with ground,wind tunnel, and ight test data.  Excellent agreement is obtained between CFD predictionsby the Cartesian adaptive mesh renement (AMR) module of the Launch, Ascent, and VehicleAerodynamics (LAVA) solver and measurements from a ground test representative of the startof a pad abort scenario, and with measurements from a wind tunnel test case corresponding toa transonic, high total angle of attack ascent abort scenario. \n",
      "6kcXnzQGxUkWHTcusn5j N6HzPqe4lnSmgjrq60a2 PnJISSMzk5YaQpCbEi97 19440 The primary objectives are to establish bestpractices and to validate CFD predictions for surface uctuating pressure spectra with ground,wind tunnel, and ight test data.  Excellent agreement is obtained between CFD predictionsby the Cartesian adaptive mesh renement (AMR) module of the Launch, Ascent, and VehicleAerodynamics (LAVA) solver and measurements from a ground test representative of the startof a pad abort scenario, and with measurements from a wind tunnel test case corresponding toa transonic, high total angle of attack ascent abort scenario.  A simplied (static and at rest)simulation of a pad abort ight test shows good agreement with the ight data, whereas a morecostly simulation where the vehicle is accelerating relative to the ground from rest to Mach 0.4shows consistent over-prediction of the spectra. \n",
      "6kcXnzQGxUkWHTcusn5j N6HzPqe4lnSmgjrq60a2 xNPJ1CX85lfHEzP50gAW 19441 Excellent agreement is obtained between CFD predictionsby the Cartesian adaptive mesh renement (AMR) module of the Launch, Ascent, and VehicleAerodynamics (LAVA) solver and measurements from a ground test representative of the startof a pad abort scenario, and with measurements from a wind tunnel test case corresponding toa transonic, high total angle of attack ascent abort scenario.  A simplied (static and at rest)simulation of a pad abort ight test shows good agreement with the ight data, whereas a morecostly simulation where the vehicle is accelerating relative to the ground from rest to Mach 0.4shows consistent over-prediction of the spectra.  Simulation results for a supersonic ascent abortighttestareinreasonableagreementwiththemeasurements, butshowlargerexcursionsinregionswhere non-linear interactions between the plume turbulence, shocks, and turbulent boundary layerare strongest  likely due to CFD modeling assumptions, the eect of which are discussed. \n",
      "6kcXnzQGxUkWHTcusn5j N6HzPqe4lnSmgjrq60a2 gZAaG3GlpfouwTwt1WPK 19442 A simplied (static and at rest)simulation of a pad abort ight test shows good agreement with the ight data, whereas a morecostly simulation where the vehicle is accelerating relative to the ground from rest to Mach 0.4shows consistent over-prediction of the spectra.  Simulation results for a supersonic ascent abortighttestareinreasonableagreementwiththemeasurements, butshowlargerexcursionsinregionswhere non-linear interactions between the plume turbulence, shocks, and turbulent boundary layerare strongest  likely due to CFD modeling assumptions, the eect of which are discussed.  Overall,the CFD results demonstrate that scale-resolving simulation methodologies like the one presentedcan help characterize full-scale launch abort vehicle near-eld noise and can complement windtunnel, ground and ight tests by providing trends and reducing uncertainty for scenarios thatcannot or are not planned to be tested.Keywords: Computational Fluid Dynamics, Aero-acoustics.1 IntroductionThe National Aeronautics and Space Administrations (NASA) Artemis missions plan to bring humans tothe Moon  and eventually Mars  and return them to Earth safely onboard the Orion spacecraft. \n",
      "6kcXnzQGxUkWHTcusn5j N6HzPqe4lnSmgjrq60a2 gyOgI15F2gnBJvEirXUN 19443 Simulation results for a supersonic ascent abortighttestareinreasonableagreementwiththemeasurements, butshowlargerexcursionsinregionswhere non-linear interactions between the plume turbulence, shocks, and turbulent boundary layerare strongest  likely due to CFD modeling assumptions, the eect of which are discussed.  Overall,the CFD results demonstrate that scale-resolving simulation methodologies like the one presentedcan help characterize full-scale launch abort vehicle near-eld noise and can complement windtunnel, ground and ight tests by providing trends and reducing uncertainty for scenarios thatcannot or are not planned to be tested.Keywords: Computational Fluid Dynamics, Aero-acoustics.1 IntroductionThe National Aeronautics and Space Administrations (NASA) Artemis missions plan to bring humans tothe Moon  and eventually Mars  and return them to Earth safely onboard the Orion spacecraft.  Orionwill be propelled into space by the powerful Space Launch System, shown in Figure 1 with the Orion crewmodule and its launch abort system  the focus of this work  outlined in red. \n"
     ]
    }
   ],
   "source": [
    "chunks = get_chunks(query_docs[0], 5)\n",
    "show_chunks(chunks)"
   ]
  },
  {
   "cell_type": "markdown",
   "id": "243d25da-890e-46f3-a268-5a5fcdf32369",
   "metadata": {
    "jp-MarkdownHeadingCollapsed": true
   },
   "source": [
    "## Reranking"
   ]
  },
  {
   "cell_type": "code",
   "execution_count": 9,
   "id": "974ec843-b931-4cfa-ac6d-3d2c29c20b81",
   "metadata": {},
   "outputs": [],
   "source": [
    "from rerankers import Reranker\n",
    "from bs4 import BeautifulSoup"
   ]
  },
  {
   "cell_type": "code",
   "execution_count": 10,
   "id": "ca7ab2d9-beb6-4424-8a9e-e93d82ec56f1",
   "metadata": {},
   "outputs": [
    {
     "name": "stdout",
     "output_type": "stream",
     "text": [
      "Loading default cross-encoder model for language en\n",
      "Warning: Model type could not be auto-mapped with the defaults list. Defaulting to TransformerRanker.\n",
      "If your model is NOT intended to be ran as a one-label cross-encoder, please reload it and specify the model_type! Otherwise, you may ignore this warning. You may specify `model_type='cross-encoder'` to suppress this warning in the future.\n",
      "Loading TransformerRanker model mixedbread-ai/mxbai-rerank-base-v1\n",
      "Loading default colbert model for language en\n",
      "Loading ColBERTRanker model colbert-ir/colbertv2.0\n"
     ]
    }
   ],
   "source": [
    "ENCODER_MODELS = {\n",
    "    \"cross-encoder\": Reranker('cross-encoder', verbose=0),\n",
    "    \"colbert\": Reranker('colbert', verbose=0)\n",
    "}"
   ]
  },
  {
   "cell_type": "code",
   "execution_count": 11,
   "id": "07170e73",
   "metadata": {},
   "outputs": [],
   "source": [
    "text = [c.text for c in chunks]\n",
    "ids = [c.id for c in chunks]"
   ]
  },
  {
   "cell_type": "code",
   "execution_count": 12,
   "id": "fb324646-6119-4119-871f-b5c4a855324a",
   "metadata": {},
   "outputs": [],
   "source": [
    "def rank_results(encoder, prompt, docs, doc_ids, top_k=10):\n",
    "    ranker = ENCODER_MODELS[encoder]\n",
    "    results = ranker.rank(query=prompt, docs=docs, doc_ids=doc_ids)\n",
    "    results = results.top_k(top_k)\n",
    "    return results\n",
    "\n",
    "def show_results(results):\n",
    "    for r in results:\n",
    "        print(f\"{r.doc_id}  {BeautifulSoup(r.text, 'html.parser').text}\")\n",
    "        # print(BeautifulSoup(r.text, \"html.parser\").text)"
   ]
  },
  {
   "cell_type": "code",
   "execution_count": 13,
   "id": "6421a0eb-5182-4d37-ba3d-f7a54f4e285a",
   "metadata": {},
   "outputs": [
    {
     "name": "stdout",
     "output_type": "stream",
     "text": [
      "CPU times: total: 11.4 s\n",
      "Wall time: 4.45 s\n"
     ]
    }
   ],
   "source": [
    "%%time\n",
    "res_ce = rank_results(\"cross-encoder\", prompt, text, ids)"
   ]
  },
  {
   "cell_type": "code",
   "execution_count": 14,
   "id": "6f6404a6",
   "metadata": {},
   "outputs": [
    {
     "name": "stdout",
     "output_type": "stream",
     "text": [
      "gyOgI15F2gnBJvEirXUN  Simulation results for a supersonic ascent abortighttestareinreasonableagreementwiththemeasurements, butshowlargerexcursionsinregionswhere non-linear interactions between the plume turbulence, shocks, and turbulent boundary layerare strongest  likely due to CFD modeling assumptions, the eect of which are discussed.  Overall,the CFD results demonstrate that scale-resolving simulation methodologies like the one presentedcan help characterize full-scale launch abort vehicle near-eld noise and can complement windtunnel, ground and ight tests by providing trends and reducing uncertainty for scenarios thatcannot or are not planned to be tested.Keywords: Computational Fluid Dynamics, Aero-acoustics.1 IntroductionThe National Aeronautics and Space Administrations (NASA) Artemis missions plan to bring humans tothe Moon  and eventually Mars  and return them to Earth safely onboard the Orion spacecraft.  Orionwill be propelled into space by the powerful Space Launch System, shown in Figure 1 with the Orion crewmodule and its launch abort system  the focus of this work  outlined in red. \n",
      "gZAaG3GlpfouwTwt1WPK  A simplied (static and at rest)simulation of a pad abort ight test shows good agreement with the ight data, whereas a morecostly simulation where the vehicle is accelerating relative to the ground from rest to Mach 0.4shows consistent over-prediction of the spectra.  Simulation results for a supersonic ascent abortighttestareinreasonableagreementwiththemeasurements, butshowlargerexcursionsinregionswhere non-linear interactions between the plume turbulence, shocks, and turbulent boundary layerare strongest  likely due to CFD modeling assumptions, the eect of which are discussed.  Overall,the CFD results demonstrate that scale-resolving simulation methodologies like the one presentedcan help characterize full-scale launch abort vehicle near-eld noise and can complement windtunnel, ground and ight tests by providing trends and reducing uncertainty for scenarios thatcannot or are not planned to be tested.Keywords: Computational Fluid Dynamics, Aero-acoustics.1 IntroductionThe National Aeronautics and Space Administrations (NASA) Artemis missions plan to bring humans tothe Moon  and eventually Mars  and return them to Earth safely onboard the Orion spacecraft. \n",
      "oSJ4G6izsJaEQp2zlAF6  Eleventh International Conference onComputational Fluid Dynamics (ICCFD11),Maui, HI, USA, July 11-15, 2022ICCFD11-2022-xxxxPredicting Orion Launch Abort AcousticsFrancois Cadieux, Michael F. Barad, James C. Jensen, Jordan B. Angel, Cetin KirisCorresponding author: francois.cadieux@nasa.govNASA Ames Research Center, Moett Field, CA, USAAbstract:Computational uid dynamics (CFD) scale-resolving simulations were performed to help assess theOrion launch abort systems vibro-acoustic environment in collaboration with the Orion Loads andDynamics team at the Johnson Space Center (JSC).  The primary objectives are to establish bestpractices and to validate CFD predictions for surface uctuating pressure spectra with ground,wind tunnel, and ight test data. \n",
      "mUkU0rULrsIuH5DRbyQz  Eleventh International Conference onComputational Fluid Dynamics (ICCFD11),Maui, HI, USA, July 11-15, 2022ICCFD11-2022-xxxxPredicting Orion Launch Abort AcousticsFrancois Cadieux, Michael F. Barad, James C. Jensen, Jordan B. Angel, Cetin KirisCorresponding author: francois.cadieux@nasa.govNASA Ames Research Center, Moett Field, CA, USAAbstract:Computational uid dynamics (CFD) scale-resolving simulations were performed to help assess theOrion launch abort systems vibro-acoustic environment in collaboration with the Orion Loads andDynamics team at the Johnson Space Center (JSC).  The primary objectives are to establish bestpractices and to validate CFD predictions for surface uctuating pressure spectra with ground,wind tunnel, and ight test data.  Excellent agreement is obtained between CFD predictionsby the Cartesian adaptive mesh renement (AMR) module of the Launch, Ascent, and VehicleAerodynamics (LAVA) solver and measurements from a ground test representative of the startof a pad abort scenario, and with measurements from a wind tunnel test case corresponding toa transonic, high total angle of attack ascent abort scenario. \n",
      "xNPJ1CX85lfHEzP50gAW  Excellent agreement is obtained between CFD predictionsby the Cartesian adaptive mesh renement (AMR) module of the Launch, Ascent, and VehicleAerodynamics (LAVA) solver and measurements from a ground test representative of the startof a pad abort scenario, and with measurements from a wind tunnel test case corresponding toa transonic, high total angle of attack ascent abort scenario.  A simplied (static and at rest)simulation of a pad abort ight test shows good agreement with the ight data, whereas a morecostly simulation where the vehicle is accelerating relative to the ground from rest to Mach 0.4shows consistent over-prediction of the spectra.  Simulation results for a supersonic ascent abortighttestareinreasonableagreementwiththemeasurements, butshowlargerexcursionsinregionswhere non-linear interactions between the plume turbulence, shocks, and turbulent boundary layerare strongest  likely due to CFD modeling assumptions, the eect of which are discussed. \n",
      "PnJISSMzk5YaQpCbEi97  The primary objectives are to establish bestpractices and to validate CFD predictions for surface uctuating pressure spectra with ground,wind tunnel, and ight test data.  Excellent agreement is obtained between CFD predictionsby the Cartesian adaptive mesh renement (AMR) module of the Launch, Ascent, and VehicleAerodynamics (LAVA) solver and measurements from a ground test representative of the startof a pad abort scenario, and with measurements from a wind tunnel test case corresponding toa transonic, high total angle of attack ascent abort scenario.  A simplied (static and at rest)simulation of a pad abort ight test shows good agreement with the ight data, whereas a morecostly simulation where the vehicle is accelerating relative to the ground from rest to Mach 0.4shows consistent over-prediction of the spectra. \n"
     ]
    }
   ],
   "source": [
    "show_results(res_ce)"
   ]
  },
  {
   "cell_type": "code",
   "execution_count": null,
   "id": "543f8e64-6b2a-47ea-bb98-f60187774701",
   "metadata": {},
   "outputs": [],
   "source": [
    "%%time\n",
    "res_col = rank_results(\"colbert\", prompt, text, ids)"
   ]
  },
  {
   "cell_type": "code",
   "execution_count": null,
   "id": "ca17d36f-0af4-4932-b3b0-0eb90a69216f",
   "metadata": {},
   "outputs": [],
   "source": [
    "show_results(res_col)"
   ]
  },
  {
   "cell_type": "code",
   "execution_count": null,
   "id": "0240908c-8c3c-4fb9-95ba-4e60241e84ef",
   "metadata": {},
   "outputs": [],
   "source": [
    "RERANK_MODEL_NAME = \"cross-encoder\"\n",
    "reranker = Reranker(RERANK_MODEL_NAME, verbose=0)"
   ]
  },
  {
   "cell_type": "code",
   "execution_count": null,
   "id": "a12e555a-dbed-45f9-8d09-2e0a58daef95",
   "metadata": {},
   "outputs": [],
   "source": [
    "ranked_results = reranker.rank(query=prompt_one, docs=query_ref_text, doc_ids=query_ref_ids)"
   ]
  },
  {
   "cell_type": "code",
   "execution_count": null,
   "id": "7527841e-e840-4328-b38c-283fb334f7bc",
   "metadata": {},
   "outputs": [],
   "source": [
    "ranked_query_ref_ids = [ r.doc_id for r in ranked_results.results ]\n",
    "ranked_query_ref_ids"
   ]
  },
  {
   "cell_type": "code",
   "execution_count": null,
   "id": "6bd6d1b7-0b99-46a8-867a-99cac8651a2d",
   "metadata": {},
   "outputs": [],
   "source": [
    "sort_order_dict = {x: i for i, x in enumerate(ranked_query_ref_ids)}\n",
    "sort_order_dict"
   ]
  },
  {
   "cell_type": "code",
   "execution_count": null,
   "id": "3a8eb594-5f4e-4814-8680-455278975795",
   "metadata": {},
   "outputs": [],
   "source": [
    "sort_order_list = [(qr, sort_order_dict[qr.id]) for qr in query_refs]\n",
    "sort_order_list\n",
    "sort_order_list.sort(key=lambda x: x[1])\n",
    "sort_order_list\n",
    "\n",
    "ranked_query_refs = [qr for qr, i in sort_order_list]\n",
    "\n",
    "print([qr.id for qr in ranked_query_refs])"
   ]
  },
  {
   "cell_type": "code",
   "execution_count": null,
   "id": "682e317e-1fec-499a-b11b-9ef97fe803d4",
   "metadata": {},
   "outputs": [],
   "source": [
    "def rank_references2(prompt: str,\n",
    "                     query_references: List[QueryReference]) -> List[QueryReference]:\n",
    "\n",
    "    query_ref_text = []\n",
    "    query_ref_ids = []\n",
    "\n",
    "    for query_ref in query_references:\n",
    "        # query_ref = QueryReference.find_by_id(query_ref_id)\n",
    "        query_doc_chunk = QueryDocumentChunk.find_by_id(query_ref.chunk_id)\n",
    "        # print(query_ref.id, query_ref_id, query_ref.chunk_id, query_doc_chunk.id)\n",
    "        query_ref_text.append(query_doc_chunk.clean_text)\n",
    "        query_ref_ids.append(query_ref.id)\n",
    "\n",
    "    ranked_results = reranker.rank(query=prompt, docs=query_ref_text, doc_ids=query_ref_ids)\n",
    "    # putting the references list in order by rank\n",
    "    ranked_query_ref_ids = [ r.doc_id for r in ranked_results.results ]\n",
    "    sort_dict = {x: i for i, x in enumerate(ranked_query_ref_ids)}\n",
    "    sort_list = [(qr, sort_dict[qr.id]) for qr in query_refs]\n",
    "    sort_list.sort(key=lambda x: x[1])\n",
    "\n",
    "    # just return the QueryReferences\n",
    "    ranked_query_refs = [qr for qr, i in sort_order_list]\n",
    "\n",
    "    return ranked_query_refs"
   ]
  },
  {
   "cell_type": "code",
   "execution_count": null,
   "id": "0a8896b6-f08e-4a40-b5d8-843f352b97ce",
   "metadata": {},
   "outputs": [],
   "source": [
    "query_result = QueryResult.find_by_id(\"0O5cJA8xJRXcSobdsZcJ\")\n",
    "query_ref_ids = query_result.query_refs\n",
    "\n",
    "query_refs = []\n",
    "for query_ref_id in query_ref_ids:\n",
    "    print(query_ref_id)\n",
    "    query_refs.append(QueryReference.find_by_id(query_ref_id))\n",
    "\n",
    "ranked_query_refs = rank_references2(prompt_one, query_refs)"
   ]
  },
  {
   "cell_type": "code",
   "execution_count": null,
   "id": "ba518268-3148-4e56-94d7-47fc97ac2e37",
   "metadata": {},
   "outputs": [],
   "source": [
    "for qr in ranked_query_refs:\n",
    "    print(qr.id)"
   ]
  },
  {
   "cell_type": "markdown",
   "id": "fa878348-c135-4e92-bbbd-294231743baa",
   "metadata": {},
   "source": [
    "## Test reranking function"
   ]
  },
  {
   "cell_type": "code",
   "execution_count": 28,
   "id": "c8f0e5cd-48f4-465e-b8ce-5ee49e777847",
   "metadata": {},
   "outputs": [
    {
     "name": "stdout",
     "output_type": "stream",
     "text": [
      "8\n",
      "8\n",
      "16\n"
     ]
    }
   ],
   "source": [
    "query_result = QueryResult.find_by_id(q_result_id)\n",
    "query_refs = [QueryReference.find_by_id(qrefid) for qrefid in query_result.query_refs]\n",
    "print(len(query_refs))\n",
    "\n",
    "query_result2 = QueryResult.find_by_id(q_result_id2)\n",
    "query_refs2 = [QueryReference.find_by_id(qrefid) for qrefid in query_result2.query_refs]\n",
    "print(len(query_refs2))\n",
    "\n",
    "query_refs.extend(query_refs2)\n",
    "print(len(query_refs))\n"
   ]
  },
  {
   "cell_type": "code",
   "execution_count": 29,
   "id": "807c498a",
   "metadata": {},
   "outputs": [
    {
     "name": "stdout",
     "output_type": "stream",
     "text": [
      "yggLj66WzIpB7De3h3oZ 6kcXnzQGxUkWHTcusn5j fuNXGYwIytDtfqlC9IA3 vFWiImOWMtAKE6VedXWg\n",
      "GYHOsft9ksRzUR4SPzuD 6kcXnzQGxUkWHTcusn5j L716wuSVYOgPLRpiMj4p QKfXGR0S53VgDJq4uVvZ\n",
      "PeMD2IEDWCiYCx6xas6r 6kcXnzQGxUkWHTcusn5j 8PYKN9uO5U13ZOojaKic xdJZmXrO1cJtzrfB60dK\n",
      "zVTeoILz69FwSZNJOmsR 6kcXnzQGxUkWHTcusn5j OeHEJm3ed75I8PHTkIvh eGPh6nrS8z57vhhrnsul\n",
      "6Uadrio22Tj6NelVkUIZ TipoSYVYOxrFg0Pfj0n2 a551TYXmipRPv2ImjY2E hojXTgVvasiSTKF1CsVK\n",
      "6qvKZLDj54rE1fIhn4Rb TipoSYVYOxrFg0Pfj0n2 dkWImjnWtpqTKrZOc8Z0 1IpG8otugMgRsZc6JTPq\n",
      "MW8uTdZp3oMLsPSVnhHt TipoSYVYOxrFg0Pfj0n2 a551TYXmipRPv2ImjY2E GoT15srL5OZ38nv8Fu8S\n",
      "Ol6md0Iut6WttJi3pdZ4 TipoSYVYOxrFg0Pfj0n2 a551TYXmipRPv2ImjY2E CgEKbPHcyK7leqPIvCSu\n",
      "B3xuzbOK4RMTYubEvzZR TipoSYVYOxrFg0Pfj0n2 O6gvudRlmC2SRttUrbWT tG5ybETlVn9V84K1q4TC\n",
      "XQIHjz7jJPn94C3f63rN TipoSYVYOxrFg0Pfj0n2 ine6Mu9l7om6cgie6PL4 88gqLBPdjmsT4tjqakBP\n",
      "hu8pQlH1yegILGSlHJ9n 6kcXnzQGxUkWHTcusn5j 3E4SAQ2wqP8vpacwyU6A T6vLiZpzJl8YjQ9Gt9ec\n",
      "9p1eOSzqBUYS4PCxd7wm TipoSYVYOxrFg0Pfj0n2 ine6Mu9l7om6cgie6PL4 d2lym9c8B96qY695OiEd\n",
      "F86g1vGccFfSrCfCZCQ9 TipoSYVYOxrFg0Pfj0n2 jJrgGIXJgfywkxjwXEt6 bitid72SQkgBhJMvqq3R\n",
      "otP4yiPZZlvLw8knWKDJ 6kcXnzQGxUkWHTcusn5j d5fHpq1YVc5CM16WM5Hb 7ejg9M5n0rriGAzAquxO\n",
      "JAX1obaZSlHiwa9dz7fo 6kcXnzQGxUkWHTcusn5j d5fHpq1YVc5CM16WM5Hb zY1hfsUgKCZbEY1r5ry2\n",
      "bShKFBbjUeNtBaDoHoBI 6kcXnzQGxUkWHTcusn5j d5fHpq1YVc5CM16WM5Hb v9vh9rTwwcMVxBLvr3Eg\n"
     ]
    }
   ],
   "source": [
    "for qr in query_refs:\n",
    "    print(qr.id, qr.query_engine_id, qr.document_id, qr.chunk_id)"
   ]
  },
  {
   "cell_type": "code",
   "execution_count": 30,
   "id": "45136cf0-6ade-450f-a609-ace2a403329b",
   "metadata": {},
   "outputs": [
    {
     "name": "stdout",
     "output_type": "stream",
     "text": [
      "INFO: [query/query_service.py:354 - rerank_references()] Reranking 16 references for query_prompt=[What is Artemis?]\n"
     ]
    }
   ],
   "source": [
    "ranked_query_refs = query_service.rerank_references(prompt, query_refs)"
   ]
  },
  {
   "cell_type": "code",
   "execution_count": 21,
   "id": "be923117-750f-4525-b14f-ff04c3ccf1ad",
   "metadata": {},
   "outputs": [
    {
     "name": "stdout",
     "output_type": "stream",
     "text": [
      "GR16Oizx8FLreILWj5fg 6kcXnzQGxUkWHTcusn5j LfDpMiesdSRXgPEm5uAp Omx3biz7ivsdOnyNnjJA This will be an uncrewed mission to test Orions capabilities in deep space.  Exploration Mission 2 (EM -2) is the follow -on Orion mission in 2021.  EM-2 will be Orions first crewed mission. \n",
      "GR16Oizx8FLreILWj5fg 6kcXnzQGxUkWHTcusn5j LfDpMiesdSRXgPEm5uAp Omx3biz7ivsdOnyNnjJA This will be an uncrewed mission to test Orions capabilities in deep space.  Exploration Mission 2 (EM -2) is the follow -on Orion mission in 2021.  EM-2 will be Orions first crewed mission. \n",
      "IR2OasUMVnTXKw3ZbzOH TipoSYVYOxrFg0Pfj0n2 pHn7feqcgQdU55Ru8OUt WBDvOgngYSrsUR6nN2By Exploration Mission 1, currently planned for launch in December 2017, will be the first mission to carry such payloads on the SLS.  INTRODUCTIONNASA has taken steps to increase the scientific and exploration capability of the Space Launch System by providing accommodations for cubesat class payloads on Exploration Mission (EM)-1.   This first launch of the fully developed Space Launch System (SLS) and the Orion Spacecraft is planned to fly along a trans-lunar trajectory and test the performance of the SLS and Orion systems for future missions.  \n",
      "IR2OasUMVnTXKw3ZbzOH TipoSYVYOxrFg0Pfj0n2 pHn7feqcgQdU55Ru8OUt WBDvOgngYSrsUR6nN2By Exploration Mission 1, currently planned for launch in December 2017, will be the first mission to carry such payloads on the SLS.  INTRODUCTIONNASA has taken steps to increase the scientific and exploration capability of the Space Launch System by providing accommodations for cubesat class payloads on Exploration Mission (EM)-1.   This first launch of the fully developed Space Launch System (SLS) and the Orion Spacecraft is planned to fly along a trans-lunar trajectory and test the performance of the SLS and Orion systems for future missions.  \n",
      "r0kkc8XvzVUzzKIBtcXm 6kcXnzQGxUkWHTcusn5j LfDpMiesdSRXgPEm5uAp 7qPJAFWjnpGalDygteXr Exploration Mission 1 (EM -1) is planned for t he 2018 timeframe.  This will be an uncrewed mission to test Orions capabilities in deep space.  Exploration Mission 2 (EM -2) is the follow -on Orion mission in 2021. \n",
      "r0kkc8XvzVUzzKIBtcXm 6kcXnzQGxUkWHTcusn5j LfDpMiesdSRXgPEm5uAp 7qPJAFWjnpGalDygteXr Exploration Mission 1 (EM -1) is planned for t he 2018 timeframe.  This will be an uncrewed mission to test Orions capabilities in deep space.  Exploration Mission 2 (EM -2) is the follow -on Orion mission in 2021. \n"
     ]
    }
   ],
   "source": [
    "for r in ranked_query_refs:\n",
    "    print(r.id, r.query_engine_id, r.document_id, r.chunk_id, r.document_text)"
   ]
  },
  {
   "cell_type": "code",
   "execution_count": null,
   "id": "0d8a0546-5873-4a52-9f7e-abf7a6f25333",
   "metadata": {},
   "outputs": [],
   "source": []
  }
 ],
 "metadata": {
  "kernelspec": {
   "display_name": "Python 3 (ipykernel)",
   "language": "python",
   "name": "python3"
  },
  "language_info": {
   "codemirror_mode": {
    "name": "ipython",
    "version": 3
   },
   "file_extension": ".py",
   "mimetype": "text/x-python",
   "name": "python",
   "nbconvert_exporter": "python",
   "pygments_lexer": "ipython3",
   "version": "3.11.7"
  }
 },
 "nbformat": 4,
 "nbformat_minor": 5
}
