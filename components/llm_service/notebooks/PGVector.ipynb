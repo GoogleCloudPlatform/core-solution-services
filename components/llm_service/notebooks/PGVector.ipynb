{
 "cells": [
  {
   "cell_type": "code",
   "execution_count": 1,
   "id": "c5dc8151-d542-46ae-a8f9-9c0daf48f85a",
   "metadata": {},
   "outputs": [],
   "source": [
    "import os\n",
    "import sys\n",
    "\n",
    "sys.path.append(\"../../common/src\")\n",
    "sys.path.append(\"../src\")"
   ]
  },
  {
   "cell_type": "code",
   "execution_count": 2,
   "id": "76dd863e-1e08-4512-8fa1-0cbf4f308e19",
   "metadata": {},
   "outputs": [],
   "source": [
    "!export PROJECT_ID=\"genie-demo-gdch\"\n",
    "project = \"genie-demo-gdch\"\n",
    "os.environ[\"PROJECT_ID\"] = project"
   ]
  },
  {
   "cell_type": "code",
   "execution_count": 3,
   "id": "80b82a2d-75e6-4a4e-a03d-3068b4a54bfa",
   "metadata": {},
   "outputs": [
    {
     "name": "stdout",
     "output_type": "stream",
     "text": [
      "INFO: [config/config.py:57 - <module>()] Namespace File not found, setting job namespace as default\n",
      "INFO: [config/config.py:107 - <module>()] ENABLE_GOOGLE_LLM = True\n",
      "INFO: [config/config.py:108 - <module>()] ENABLE_OPENAI_LLM = True\n",
      "INFO: [config/config.py:109 - <module>()] ENABLE_COHERE_LLM = True\n",
      "INFO: [config/config.py:110 - <module>()] ENABLE_GOOGLE_MODEL_GARDEN = True\n",
      "INFO: [config/config.py:111 - <module>()] ENABLE_TRUSS_LLAMA2 = True\n",
      "INFO: [config/vector_store_config.py:40 - <module>()] Default vector store = [matching_engine]\n",
      "INFO: [config/vector_store_config.py:49 - <module>()] PG_HOST = [10.89.0.2]\n",
      "INFO: [config/vector_store_config.py:50 - <module>()] PG_DBNAME = [pgvector]\n",
      "ERROR: [config/vector_store_config.py:77 - <module>()] Cannot connect to pgvector instance at 10.89.0.2: (psycopg2.OperationalError) connection to server at \"10.89.0.2\", port 5432 failed: Operation timed out\n",
      "\tIs the server running on that host and accepting TCP/IP connections?\n",
      "\n",
      "(Background on this error at: https://sqlalche.me/e/14/e3q8)\n"
     ]
    }
   ],
   "source": [
    "from config import DEFAULT_QUERY_EMBEDDING_MODEL"
   ]
  },
  {
   "cell_type": "code",
   "execution_count": 4,
   "id": "cbe0ad60-dc38-4ae7-a813-5d5597867fbf",
   "metadata": {},
   "outputs": [],
   "source": [
    "from services import embeddings "
   ]
  },
  {
   "cell_type": "code",
   "execution_count": 14,
   "id": "e12e465b-19c4-446a-9caf-6a0ab3bb2dbc",
   "metadata": {},
   "outputs": [],
   "source": [
    "from services.query import vector_store\n",
    "from common.models import QueryEngine\n",
    "from common.models.llm_query import (VECTOR_STORE_LANGCHAIN_PGVECTOR,\n",
    "                                     VECTOR_STORE_MATCHING_ENGINE)"
   ]
  },
  {
   "cell_type": "code",
   "execution_count": 11,
   "id": "42c76913-bd57-4be8-895f-39b8aeb27f31",
   "metadata": {},
   "outputs": [
    {
     "data": {
      "text/plain": [
       "<common.models.llm_query.QueryEngine at 0x1285fe1f0>"
      ]
     },
     "execution_count": 11,
     "metadata": {},
     "output_type": "execute_result"
    }
   ],
   "source": [
    "# create q_engine\n",
    "query_engine = \"pgv0\"\n",
    "doc_url = \"gs://genie-demo-gdch-qe1-data\"\n",
    "user_id = \"LJWLfvvAsEsTLy4QhaUH\"\n",
    "is_public=True\n",
    "llm_type = DEFAULT_QUERY_EMBEDDING_MODEL\n",
    "q_engine = QueryEngine(name=query_engine,\n",
    "                     created_by=user_id,\n",
    "                     llm_type=llm_type,\n",
    "                     is_public=is_public,\n",
    "                     vector_store = VECTOR_STORE_LANGCHAIN_PGVECTOR)\n",
    "q_engine.save()"
   ]
  },
  {
   "cell_type": "code",
   "execution_count": 13,
   "id": "6596fe49-859e-4dbd-b71b-3b5eed014036",
   "metadata": {},
   "outputs": [
    {
     "data": {
      "text/plain": [
       "{'name': 'pgv0',\n",
       " 'llm_type': 'VertexAI-Embedding',\n",
       " 'created_by': 'LJWLfvvAsEsTLy4QhaUH',\n",
       " 'is_public': True,\n",
       " 'index_id': None,\n",
       " 'index_name': None,\n",
       " 'endpoint': None,\n",
       " 'vector_store': 'matching_engine',\n",
       " 'created_time': DatetimeWithNanoseconds(2023, 11, 11, 23, 24, 47, 366768, tzinfo=datetime.timezone.utc),\n",
       " 'last_modified_time': DatetimeWithNanoseconds(2023, 11, 11, 23, 24, 47, 366768, tzinfo=datetime.timezone.utc),\n",
       " 'deleted_at_timestamp': None,\n",
       " 'deleted_by': '',\n",
       " 'archived_at_timestamp': None,\n",
       " 'archived_by': '',\n",
       " 'last_modified_by': '',\n",
       " 'id': 'd6lcuKC8rxe0OnSdj6aX'}"
      ]
     },
     "execution_count": 13,
     "metadata": {},
     "output_type": "execute_result"
    }
   ],
   "source": [
    "q_engine.get_fields()"
   ]
  },
  {
   "cell_type": "code",
   "execution_count": 16,
   "id": "df0b82e1-a40c-4d70-9931-914c14f9fa74",
   "metadata": {},
   "outputs": [
    {
     "data": {
      "text/plain": [
       "<common.models.llm_query.QueryEngine at 0x1285fe1f0>"
      ]
     },
     "execution_count": 16,
     "metadata": {},
     "output_type": "execute_result"
    }
   ],
   "source": [
    "q_engine.vector_store = VECTOR_STORE_LANGCHAIN_PGVECTOR\n",
    "q_engine.save()"
   ]
  },
  {
   "cell_type": "code",
   "execution_count": 17,
   "id": "755a95d3-04d7-4055-adfe-69aa55d1ba18",
   "metadata": {},
   "outputs": [],
   "source": [
    "pgvs = vector_store.from_query_engine(q_engine)"
   ]
  },
  {
   "cell_type": "code",
   "execution_count": 18,
   "id": "18ca6fd2-e783-4cc2-8fc3-6697ba6ccea0",
   "metadata": {},
   "outputs": [
    {
     "data": {
      "text/plain": [
       "<services.query.vector_store.LangChainVectorStore at 0x1285fed30>"
      ]
     },
     "execution_count": 18,
     "metadata": {},
     "output_type": "execute_result"
    }
   ],
   "source": [
    "pgvs"
   ]
  },
  {
   "cell_type": "code",
   "execution_count": null,
   "id": "5d55cea3-4089-456a-8faa-999be8f9d68b",
   "metadata": {},
   "outputs": [],
   "source": []
  }
 ],
 "metadata": {
  "kernelspec": {
   "display_name": "Python 3 (ipykernel)",
   "language": "python",
   "name": "python3"
  },
  "language_info": {
   "codemirror_mode": {
    "name": "ipython",
    "version": 3
   },
   "file_extension": ".py",
   "mimetype": "text/x-python",
   "name": "python",
   "nbconvert_exporter": "python",
   "pygments_lexer": "ipython3",
   "version": "3.9.13"
  }
 },
 "nbformat": 4,
 "nbformat_minor": 5
}
