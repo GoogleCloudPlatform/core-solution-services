{
 "cells": [
  {
   "cell_type": "code",
   "execution_count": 1,
   "id": "18679327-be5c-455c-95c5-bafaaf2bbfc0",
   "metadata": {},
   "outputs": [],
   "source": [
    "import os\n",
    "import sys\n",
    "import json\n",
    "import inspect\n",
    "\n",
    "sys.path.append(\"../../common/src\")\n",
    "sys.path.append(\"../src\")\n",
    "os.chdir(\"../src\")"
   ]
  },
  {
   "cell_type": "code",
   "execution_count": 2,
   "id": "dee693e9-6bb0-405f-8bbf-716b2b2bb3cb",
   "metadata": {},
   "outputs": [],
   "source": [
    "!export PROJECT_ID=\"gcp-mira-develop\"\n",
    "project = \"gcp-mira-develop\"\n",
    "os.environ[\"PROJECT_ID\"] = project"
   ]
  },
  {
   "cell_type": "code",
   "execution_count": 3,
   "id": "3d91fd7d-6ab3-4355-90e7-bfa51be58d5c",
   "metadata": {},
   "outputs": [
    {
     "name": "stdout",
     "output_type": "stream",
     "text": [
      "INFO: [config/config.py:55 - <module>()] Namespace File not found, setting job namespace as default\n",
      "INFO: [config/config.py:110 - <module>()] ENABLE_GOOGLE_LLM = True\n",
      "INFO: [config/config.py:111 - <module>()] ENABLE_OPENAI_LLM = True\n",
      "INFO: [config/config.py:112 - <module>()] ENABLE_COHERE_LLM = True\n",
      "INFO: [config/config.py:113 - <module>()] ENABLE_GOOGLE_MODEL_GARDEN = True\n",
      "INFO: [config/config.py:114 - <module>()] ENABLE_TRUSS_LLAMA2 = True\n",
      "INFO: [config/config.py:130 - <module>()] LLM types loaded ['VertexAI-Text', 'VertexAI-Chat-Palm2V2', 'VertexAI-Chat-Palm2V2-Langchain', 'VertexAI-Chat-Palm2-32k', 'VertexAI-Chat-Palm2-32k-Langchain', 'OpenAI-GPT4', 'OpenAI-GPT3.5', 'Cohere']\n",
      "INFO: [config/config.py:141 - <module>()] Embedding types loaded ['VertexAI-Embedding', 'OpenAI-Embedding']\n",
      "INFO: [config/vector_store_config.py:40 - <module>()] Default vector store = [langchain_pgvector]\n",
      "INFO: [config/vector_store_config.py:49 - <module>()] PG_HOST = [127.0.0.1]\n",
      "INFO: [config/vector_store_config.py:50 - <module>()] PG_DBNAME = [pgvector]\n"
     ]
    }
   ],
   "source": [
    "from config.model_config import ModelConfig"
   ]
  },
  {
   "cell_type": "code",
   "execution_count": null,
   "id": "8d72a529-2a4e-44e7-8450-c44f45eaf4d6",
   "metadata": {},
   "outputs": [],
   "source": [
    "model_config_path = os.path.join(\"config\", \"models.json\")\n",
    "model_config = ModelConfig(model_config_path)\n",
    "model_config.read_model_config()"
   ]
  },
  {
   "cell_type": "code",
   "execution_count": null,
   "id": "25a987f5-b796-492a-9b41-f37c117d3e87",
   "metadata": {},
   "outputs": [],
   "source": [
    "model_config.llm_models"
   ]
  },
  {
   "cell_type": "code",
   "execution_count": null,
   "id": "9d59ce3b-e8de-46d2-8af1-3e64b3345fe4",
   "metadata": {},
   "outputs": [],
   "source": [
    "model_config.llm_model_providers"
   ]
  },
  {
   "cell_type": "code",
   "execution_count": null,
   "id": "d3bd20ac-93bd-476d-a336-9eccd2ad4f03",
   "metadata": {},
   "outputs": [],
   "source": [
    "model_config.llm_embedding_models"
   ]
  },
  {
   "cell_type": "code",
   "execution_count": 4,
   "id": "c9c84257-d0e6-4b63-936a-0fa7b4907e5b",
   "metadata": {},
   "outputs": [],
   "source": [
    "from config import (VERTEX_AI_MODEL_GARDEN_LLAMA2_CHAT,\n",
    "                  KEY_MODEL_ENDPOINT, KEY_MODEL_PARAMS,\n",
    "                  KEY_IS_CHAT, KEY_ENABLED, KEY_PROVIDER,\n",
    "                  PROVIDER_MODEL_GARDEN,\n",
    "                  get_model_config, get_provider_value)\n",
    "TEST_MODEL_GARDEN_CONFIG = {    \n",
    "VERTEX_AI_MODEL_GARDEN_LLAMA2_CHAT: {\n",
    "    KEY_PROVIDER: PROVIDER_MODEL_GARDEN,\n",
    "    KEY_MODEL_ENDPOINT: \"fake-endpoint\",\n",
    "    KEY_IS_CHAT: True,\n",
    "    KEY_MODEL_PARAMS: {\n",
    "      \"temperature\": 0.2,\n",
    "      \"max_tokens\": 900,\n",
    "      \"top_p\": 1.0,\n",
    "      \"top_k\": 10\n",
    "    },\n",
    "    KEY_ENABLED: True\n",
    "  }\n",
    "}\n",
    "get_model_config().llm_model_providers = {\n",
    "PROVIDER_MODEL_GARDEN: TEST_MODEL_GARDEN_CONFIG\n",
    "}\n",
    "get_model_config().llm_models = TEST_MODEL_GARDEN_CONFIG"
   ]
  },
  {
   "cell_type": "code",
   "execution_count": 5,
   "id": "449d522c-b9ac-4a7e-af99-0b3fecd0b155",
   "metadata": {},
   "outputs": [
    {
     "data": {
      "text/plain": [
       "'fake-endpoint'"
      ]
     },
     "execution_count": 5,
     "metadata": {},
     "output_type": "execute_result"
    }
   ],
   "source": [
    "llm_type = VERTEX_AI_MODEL_GARDEN_LLAMA2_CHAT\n",
    "get_provider_value(PROVIDER_MODEL_GARDEN, KEY_MODEL_ENDPOINT, llm_type)"
   ]
  },
  {
   "cell_type": "code",
   "execution_count": 6,
   "id": "8bc48f60-bfd7-418b-a661-78ea15ca369b",
   "metadata": {},
   "outputs": [
    {
     "data": {
      "text/plain": [
       "{'temperature': 0.2, 'max_tokens': 900, 'top_p': 1.0, 'top_k': 10}"
      ]
     },
     "execution_count": 6,
     "metadata": {},
     "output_type": "execute_result"
    }
   ],
   "source": [
    "get_provider_value(PROVIDER_MODEL_GARDEN,\n",
    "      KEY_MODEL_PARAMS, llm_type)"
   ]
  },
  {
   "cell_type": "code",
   "execution_count": null,
   "id": "1534ac16-cab4-4f64-b945-3c479d8c484b",
   "metadata": {},
   "outputs": [],
   "source": []
  }
 ],
 "metadata": {
  "kernelspec": {
   "display_name": "Python 3 (ipykernel)",
   "language": "python",
   "name": "python3"
  },
  "language_info": {
   "codemirror_mode": {
    "name": "ipython",
    "version": 3
   },
   "file_extension": ".py",
   "mimetype": "text/x-python",
   "name": "python",
   "nbconvert_exporter": "python",
   "pygments_lexer": "ipython3",
   "version": "3.9.13"
  }
 },
 "nbformat": 4,
 "nbformat_minor": 5
}
