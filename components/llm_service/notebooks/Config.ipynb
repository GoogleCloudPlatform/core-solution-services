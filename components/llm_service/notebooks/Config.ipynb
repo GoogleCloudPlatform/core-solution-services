{
 "cells": [
  {
   "cell_type": "code",
   "execution_count": 1,
   "id": "18679327-be5c-455c-95c5-bafaaf2bbfc0",
   "metadata": {},
   "outputs": [],
   "source": [
    "import os\n",
    "import sys\n",
    "import json\n",
    "import inspect\n",
    "\n",
    "sys.path.append(\"../../common/src\")\n",
    "sys.path.append(\"../src\")\n",
    "os.chdir(\"../src\")"
   ]
  },
  {
   "cell_type": "code",
   "execution_count": 2,
   "id": "dee693e9-6bb0-405f-8bbf-716b2b2bb3cb",
   "metadata": {},
   "outputs": [],
   "source": [
    "!export PROJECT_ID=\"gcp-mira-develop\"\n",
    "project = \"gcp-mira-develop\"\n",
    "os.environ[\"PROJECT_ID\"] = project"
   ]
  },
  {
   "cell_type": "code",
   "execution_count": 3,
   "id": "3d91fd7d-6ab3-4355-90e7-bfa51be58d5c",
   "metadata": {},
   "outputs": [
    {
     "name": "stdout",
     "output_type": "stream",
     "text": [
      "INFO: [config/config.py:55 - <module>()] Namespace File not found, setting job namespace as default\n",
      "INFO: [config/config.py:103 - <module>()] ENABLE_GOOGLE_LLM = True\n",
      "INFO: [config/config.py:104 - <module>()] ENABLE_OPENAI_LLM = True\n",
      "INFO: [config/config.py:105 - <module>()] ENABLE_COHERE_LLM = True\n",
      "INFO: [config/config.py:106 - <module>()] ENABLE_GOOGLE_MODEL_GARDEN = True\n",
      "INFO: [config/config.py:107 - <module>()] ENABLE_TRUSS_LLAMA2 = True\n",
      "INFO: [config/config.py:124 - <module>()] LLM types loaded ['VertexAI-Text', 'VertexAI-Chat-Palm2V2', 'VertexAI-Chat-Palm2V2-Langchain', 'VertexAI-Chat-Palm2-32k', 'VertexAI-Chat-Palm2-32k-Langchain', 'OpenAI-GPT4', 'OpenAI-GPT3.5', 'Cohere']\n",
      "INFO: [config/config.py:135 - <module>()] Embedding types loaded ['VertexAI-Embedding', 'OpenAI-Embedding']\n",
      "INFO: [config/vector_store_config.py:40 - <module>()] Default vector store = [langchain_pgvector]\n",
      "INFO: [config/vector_store_config.py:49 - <module>()] PG_HOST = [127.0.0.1]\n",
      "INFO: [config/vector_store_config.py:50 - <module>()] PG_DBNAME = [pgvector]\n"
     ]
    }
   ],
   "source": [
    "from config.model_config import ModelConfig"
   ]
  },
  {
   "cell_type": "code",
   "execution_count": 4,
   "id": "8d72a529-2a4e-44e7-8450-c44f45eaf4d6",
   "metadata": {},
   "outputs": [],
   "source": [
    "model_config_path = os.path.join(\"config\", \"models.json\")\n",
    "model_config = ModelConfig(model_config_path)\n",
    "model_config.read_model_config()"
   ]
  },
  {
   "cell_type": "code",
   "execution_count": 5,
   "id": "25a987f5-b796-492a-9b41-f37c117d3e87",
   "metadata": {},
   "outputs": [
    {
     "data": {
      "text/plain": [
       "{'VertexAI-Text': {'is_chat': False,\n",
       "  'provider': 'Vertex',\n",
       "  'model_name': 'text-bison@002'},\n",
       " 'VertexAI-Chat-Palm2V2': {'is_chat': True,\n",
       "  'provider': 'Vertex',\n",
       "  'model_name': 'chat-bison@002'},\n",
       " 'VertexAI-Chat-Palm2V2-Langchain': {'is_chat': True,\n",
       "  'provider': 'Langchain',\n",
       "  'model_name': 'chat-bison@002',\n",
       "  'model_class': 'ChatVertexAI'},\n",
       " 'VertexAI-Chat-Palm2-32k': {'is_chat': True,\n",
       "  'provider': 'Vertex',\n",
       "  'model_name': 'chat-bison-32k'},\n",
       " 'VertexAI-Chat-Palm2-32k-Langchain': {'is_chat': True,\n",
       "  'provider': 'Langchain',\n",
       "  'model_name': 'chat-bison-32k',\n",
       "  'model_class': 'ChatVertexAI'},\n",
       " 'Truss-Llama2-Chat': {'model_endpoint': 'http://truss-llama2-7b-service:8080',\n",
       "  'is_chat': True,\n",
       "  'provider': 'Truss',\n",
       "  'enabled': False,\n",
       "  'model_params': {'temperature': 0.2,\n",
       "   'top_p': 0.95,\n",
       "   'top_k': 40,\n",
       "   'max_length': 2048}},\n",
       " 'VertexAI-ModelGarden-LLAMA2-Chat': {'is_chat': True,\n",
       "  'provider': 'ModelGarden',\n",
       "  'enabled': False,\n",
       "  'model_endpoint': 'xxx'},\n",
       " 'OpenAI-GPT4': {'vendor': 'OpenAI',\n",
       "  'is_chat': True,\n",
       "  'provider': 'Langchain',\n",
       "  'enabled': True,\n",
       "  'model_name': 'gpt-4',\n",
       "  'model_class': 'ChatOpenAI',\n",
       "  'model_params': {'temperature': 0}},\n",
       " 'OpenAI-GPT3.5': {'vendor': 'OpenAI',\n",
       "  'is_chat': True,\n",
       "  'provider': 'Langchain',\n",
       "  'enabled': True,\n",
       "  'model_name': 'gpt-3.5-turbo',\n",
       "  'model_class': 'ChatOpenAI',\n",
       "  'model_params': {'temperature': 0}},\n",
       " 'Cohere': {'vendor': 'Cohere',\n",
       "  'is_chat': True,\n",
       "  'provider': 'Langchain',\n",
       "  'enabled': True,\n",
       "  'model_class': 'ChatCohere'}}"
      ]
     },
     "execution_count": 5,
     "metadata": {},
     "output_type": "execute_result"
    }
   ],
   "source": [
    "model_config.llm_models"
   ]
  },
  {
   "cell_type": "code",
   "execution_count": null,
   "id": "9d59ce3b-e8de-46d2-8af1-3e64b3345fe4",
   "metadata": {},
   "outputs": [],
   "source": [
    "model_config.llm_model_providers"
   ]
  },
  {
   "cell_type": "code",
   "execution_count": null,
   "id": "d3bd20ac-93bd-476d-a336-9eccd2ad4f03",
   "metadata": {},
   "outputs": [],
   "source": [
    "model_config.llm_embedding_models"
   ]
  },
  {
   "cell_type": "code",
   "execution_count": null,
   "id": "c188ada5-a690-4557-b457-053d05419c91",
   "metadata": {},
   "outputs": [],
   "source": [
    "model_config.set_model_config()"
   ]
  },
  {
   "cell_type": "code",
   "execution_count": null,
   "id": "e3c66991-256d-411f-a197-1d12f3a1ed58",
   "metadata": {},
   "outputs": [],
   "source": [
    "from config import LLM_TYPES\n",
    "LLM_TYPES"
   ]
  },
  {
   "cell_type": "code",
   "execution_count": null,
   "id": "b7093626-e520-49ec-a170-0a30a4aa235c",
   "metadata": {},
   "outputs": [],
   "source": [
    "from config import VERTEX_LLM_TYPE_BISON_TEXT, PROVIDER_VERTEX, KEY_MODEL_NAME \n",
    "llm_type = VERTEX_LLM_TYPE_BISON_TEXT\n",
    "google_llm = model_config.get_provider_value(PROVIDER_VERTEX, KEY_MODEL_NAME, llm_type)"
   ]
  },
  {
   "cell_type": "code",
   "execution_count": null,
   "id": "11a37d28-3823-4595-9221-570fed018e7e",
   "metadata": {},
   "outputs": [],
   "source": [
    "google_llm"
   ]
  },
  {
   "cell_type": "code",
   "execution_count": null,
   "id": "c9c84257-d0e6-4b63-936a-0fa7b4907e5b",
   "metadata": {},
   "outputs": [],
   "source": []
  }
 ],
 "metadata": {
  "kernelspec": {
   "display_name": "Python 3 (ipykernel)",
   "language": "python",
   "name": "python3"
  },
  "language_info": {
   "codemirror_mode": {
    "name": "ipython",
    "version": 3
   },
   "file_extension": ".py",
   "mimetype": "text/x-python",
   "name": "python",
   "nbconvert_exporter": "python",
   "pygments_lexer": "ipython3",
   "version": "3.9.13"
  }
 },
 "nbformat": 4,
 "nbformat_minor": 5
}
