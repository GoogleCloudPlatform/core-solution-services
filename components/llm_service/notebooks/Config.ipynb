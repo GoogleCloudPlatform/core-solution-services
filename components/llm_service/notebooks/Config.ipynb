{
 "cells": [
  {
   "cell_type": "code",
   "execution_count": 1,
   "id": "18679327-be5c-455c-95c5-bafaaf2bbfc0",
   "metadata": {},
   "outputs": [],
   "source": [
    "import os\n",
    "import sys\n",
    "import json\n",
    "import inspect\n",
    "\n",
    "sys.path.append(\"../../common/src\")\n",
    "sys.path.append(\"../src\")\n",
    "os.chdir(\"../src\")"
   ]
  },
  {
   "cell_type": "code",
   "execution_count": 2,
   "id": "dee693e9-6bb0-405f-8bbf-716b2b2bb3cb",
   "metadata": {},
   "outputs": [],
   "source": [
    "!export PROJECT_ID=\"gcp-mira-develop\"\n",
    "project = \"gcp-mira-develop\"\n",
    "os.environ[\"PROJECT_ID\"] = project"
   ]
  },
  {
   "cell_type": "code",
   "execution_count": 3,
   "id": "3d91fd7d-6ab3-4355-90e7-bfa51be58d5c",
   "metadata": {},
   "outputs": [
    {
     "name": "stdout",
     "output_type": "stream",
     "text": [
      "INFO: [config/config.py:55 - <module>()] Namespace File not found, setting job namespace as default\n",
      "INFO: [utils/config.py:29 - get_environ_flag()] ENABLE_GOOGLE_LLM = True\n",
      "INFO: [utils/config.py:29 - get_environ_flag()] ENABLE_GOOGLE_MODEL_GARDEN = True\n",
      "INFO: [utils/config.py:29 - get_environ_flag()] ENABLE_LLAMA2CPP_LLM = True\n",
      "INFO: [utils/config.py:29 - get_environ_flag()] ENABLE_OPENAI_LLM = True\n",
      "INFO: [utils/config.py:29 - get_environ_flag()] ENABLE_COHERE_LLM = True\n",
      "INFO: [utils/config.py:29 - get_environ_flag()] ENABLE_TRUSS_LLAMA2 = True\n",
      "INFO: [config/config.py:152 - <module>()] llama2cpp model file = None\n"
     ]
    },
    {
     "ename": "InternalServerError",
     "evalue": "Failed to download llama2cpp model file 'NoneType' object has no attribute 'startswith'",
     "output_type": "error",
     "traceback": [
      "\u001b[0;31m---------------------------------------------------------------------------\u001b[0m",
      "\u001b[0;31mAttributeError\u001b[0m                            Traceback (most recent call last)",
      "File \u001b[0;32m~/work/ailp/lukmanr-gps-core-solution-services/components/llm_service/src/config/config.py:156\u001b[0m\n\u001b[1;32m    155\u001b[0m \u001b[38;5;28;01mtry\u001b[39;00m:\n\u001b[0;32m--> 156\u001b[0m   \u001b[38;5;28;01mif\u001b[39;00m \u001b[43mLLAMA2CPP_MODEL_FILE\u001b[49m\u001b[38;5;241;43m.\u001b[39;49m\u001b[43mstartswith\u001b[49m(\u001b[38;5;124m\"\u001b[39m\u001b[38;5;124mgs://\u001b[39m\u001b[38;5;124m\"\u001b[39m):\n\u001b[1;32m    157\u001b[0m     LLAMA2CPP_MODEL_PATH \u001b[38;5;241m=\u001b[39m \\\n\u001b[1;32m    158\u001b[0m         download_file_from_gcs(LLAMA2CPP_MODEL_FILE,\n\u001b[1;32m    159\u001b[0m                                destination_folder_path\u001b[38;5;241m=\u001b[39mmodels_dir)\n",
      "\u001b[0;31mAttributeError\u001b[0m: 'NoneType' object has no attribute 'startswith'",
      "\nThe above exception was the direct cause of the following exception:\n",
      "\u001b[0;31mInternalServerError\u001b[0m                       Traceback (most recent call last)",
      "Cell \u001b[0;32mIn[3], line 1\u001b[0m\n\u001b[0;32m----> 1\u001b[0m \u001b[38;5;28;01mfrom\u001b[39;00m \u001b[38;5;21;01mconfig\u001b[39;00m\u001b[38;5;21;01m.\u001b[39;00m\u001b[38;5;21;01mmodel_config\u001b[39;00m \u001b[38;5;28;01mimport\u001b[39;00m ModelConfig\n",
      "File \u001b[0;32m~/work/ailp/lukmanr-gps-core-solution-services/components/llm_service/src/config/__init__.py:17\u001b[0m\n\u001b[1;32m      1\u001b[0m \u001b[38;5;66;03m# Copyright 2023 Google LLC\u001b[39;00m\n\u001b[1;32m      2\u001b[0m \u001b[38;5;66;03m#\u001b[39;00m\n\u001b[1;32m      3\u001b[0m \u001b[38;5;66;03m# Licensed under the Apache License, Version 2.0 (the \"License\");\u001b[39;00m\n\u001b[0;32m   (...)\u001b[0m\n\u001b[1;32m     12\u001b[0m \u001b[38;5;66;03m# See the License for the specific language governing permissions and\u001b[39;00m\n\u001b[1;32m     13\u001b[0m \u001b[38;5;66;03m# limitations under the License.\u001b[39;00m\n\u001b[1;32m     14\u001b[0m \u001b[38;5;124;03m\"\"\"\u001b[39;00m\n\u001b[1;32m     15\u001b[0m \u001b[38;5;124;03mConfig for LLM service\u001b[39;00m\n\u001b[1;32m     16\u001b[0m \u001b[38;5;124;03m\"\"\"\u001b[39;00m\n\u001b[0;32m---> 17\u001b[0m \u001b[38;5;28;01mfrom\u001b[39;00m \u001b[38;5;21;01mconfig\u001b[39;00m\u001b[38;5;21;01m.\u001b[39;00m\u001b[38;5;21;01mconfig\u001b[39;00m \u001b[38;5;28;01mimport\u001b[39;00m (\n\u001b[1;32m     18\u001b[0m     \u001b[38;5;66;03m# platform config\u001b[39;00m\n\u001b[1;32m     19\u001b[0m     PROJECT_ID,\n\u001b[1;32m     20\u001b[0m     GCP_PROJECT,\n\u001b[1;32m     21\u001b[0m     REGION,\n\u001b[1;32m     22\u001b[0m     SKAFFOLD_NAMESPACE,\n\u001b[1;32m     23\u001b[0m     GKE_CLUSTER,\n\u001b[1;32m     24\u001b[0m     GCP_ZONE,\n\u001b[1;32m     25\u001b[0m     DATABASE_PREFIX,\n\u001b[1;32m     26\u001b[0m     USER_MANAGEMENT_BASE_URL,\n\u001b[1;32m     27\u001b[0m     RULES_ENGINE_BASE_URL,\n\u001b[1;32m     28\u001b[0m     SERVICES,\n\u001b[1;32m     29\u001b[0m \n\u001b[1;32m     30\u001b[0m     \u001b[38;5;66;03m# service config\u001b[39;00m\n\u001b[1;32m     31\u001b[0m     LLM_SERVICE_PATH,\n\u001b[1;32m     32\u001b[0m     PORT,\n\u001b[1;32m     33\u001b[0m     API_BASE_URL,\n\u001b[1;32m     34\u001b[0m     CONTAINER_NAME,\n\u001b[1;32m     35\u001b[0m     DEPLOYMENT_NAME,\n\u001b[1;32m     36\u001b[0m     SERVICE_NAME,\n\u001b[1;32m     37\u001b[0m     PAYLOAD_FILE_SIZE,\n\u001b[1;32m     38\u001b[0m     ERROR_RESPONSES,\n\u001b[1;32m     39\u001b[0m     JOB_NAMESPACE,\n\u001b[1;32m     40\u001b[0m     auth_client,\n\u001b[1;32m     41\u001b[0m \n\u001b[1;32m     42\u001b[0m     \u001b[38;5;66;03m# secrets\u001b[39;00m\n\u001b[1;32m     43\u001b[0m     LLM_BACKEND_ROBOT_USERNAME,\n\u001b[1;32m     44\u001b[0m     LLM_BACKEND_ROBOT_PASSWORD,\n\u001b[1;32m     45\u001b[0m \n\u001b[1;32m     46\u001b[0m     \u001b[38;5;66;03m# LLM types\u001b[39;00m\n\u001b[1;32m     47\u001b[0m     LLM_TYPES,\n\u001b[1;32m     48\u001b[0m     CHAT_LLM_TYPES,\n\u001b[1;32m     49\u001b[0m     OPENAI_LLM_TYPE_GPT3_5,\n\u001b[1;32m     50\u001b[0m     OPENAI_LLM_TYPE_GPT4,\n\u001b[1;32m     51\u001b[0m     COHERE_LLM_TYPE,\n\u001b[1;32m     52\u001b[0m     VERTEX_LLM_TYPE_BISON_TEXT,\n\u001b[1;32m     53\u001b[0m     VERTEX_LLM_TYPE_BISON_CHAT,\n\u001b[1;32m     54\u001b[0m     VERTEX_AI_MODEL_GARDEN_LLAMA2_CHAT,\n\u001b[1;32m     55\u001b[0m     TRUSS_LLM_LLAMA2_CHAT,\n\u001b[1;32m     56\u001b[0m \n\u001b[1;32m     57\u001b[0m     \u001b[38;5;66;03m# LLM config\u001b[39;00m\n\u001b[1;32m     58\u001b[0m     ENABLE_OPENAI_LLM,\n\u001b[1;32m     59\u001b[0m     ENABLE_COHERE_LLM,\n\u001b[1;32m     60\u001b[0m \n\u001b[1;32m     61\u001b[0m     \u001b[38;5;66;03m# LLM models and collections of models\u001b[39;00m\n\u001b[1;32m     62\u001b[0m     DEFAULT_QUERY_CHAT_MODEL,\n\u001b[1;32m     63\u001b[0m     DEFAULT_QUERY_EMBEDDING_MODEL,\n\u001b[1;32m     64\u001b[0m     GOOGLE_LLM,\n\u001b[1;32m     65\u001b[0m     LANGCHAIN_LLM,\n\u001b[1;32m     66\u001b[0m     EMBEDDING_MODELS,\n\u001b[1;32m     67\u001b[0m     LANGCHAIN_EMBEDDING_MODELS,\n\u001b[1;32m     68\u001b[0m     VERTEX_EMBEDDING_MODELS,\n\u001b[1;32m     69\u001b[0m     LLM_SERVICE_EMBEDDING_MODELS,\n\u001b[1;32m     70\u001b[0m     GOOGLE_MODEL_GARDEN,\n\u001b[1;32m     71\u001b[0m     LLM_SERVICE_MODELS,\n\u001b[1;32m     72\u001b[0m     LLM_TRUSS_MODELS,\n\u001b[1;32m     73\u001b[0m \n\u001b[1;32m     74\u001b[0m     \u001b[38;5;66;03m# Endpoints\u001b[39;00m\n\u001b[1;32m     75\u001b[0m     MODEL_GARDEN_LLAMA2_CHAT_ENDPOINT_ID,\n\u001b[1;32m     76\u001b[0m \n\u001b[1;32m     77\u001b[0m     \u001b[38;5;66;03m# agent config\u001b[39;00m\n\u001b[1;32m     78\u001b[0m     AGENT_CONFIG_PATH,\n\u001b[1;32m     79\u001b[0m     )\n\u001b[1;32m     81\u001b[0m \u001b[38;5;28;01mfrom\u001b[39;00m \u001b[38;5;21;01mconfig\u001b[39;00m\u001b[38;5;21;01m.\u001b[39;00m\u001b[38;5;21;01mvector_store_config\u001b[39;00m \u001b[38;5;28;01mimport\u001b[39;00m (\n\u001b[1;32m     82\u001b[0m   DEFAULT_VECTOR_STORE,\n\u001b[1;32m     83\u001b[0m   VECTOR_STORES\n\u001b[1;32m     84\u001b[0m   )\n",
      "File \u001b[0;32m~/work/ailp/lukmanr-gps-core-solution-services/components/llm_service/src/config/config.py:165\u001b[0m\n\u001b[1;32m    162\u001b[0m     LLAMA2CPP_MODEL_PATH \u001b[38;5;241m=\u001b[39m LLAMA2CPP_MODEL_FILE\n\u001b[1;32m    164\u001b[0m \u001b[38;5;28;01mexcept\u001b[39;00m \u001b[38;5;167;01mException\u001b[39;00m \u001b[38;5;28;01mas\u001b[39;00m e:\n\u001b[0;32m--> 165\u001b[0m   \u001b[38;5;28;01mraise\u001b[39;00m InternalServerError(\n\u001b[1;32m    166\u001b[0m       \u001b[38;5;124mf\u001b[39m\u001b[38;5;124m\"\u001b[39m\u001b[38;5;124mFailed to download llama2cpp model file \u001b[39m\u001b[38;5;132;01m{\u001b[39;00m\u001b[38;5;28mstr\u001b[39m(e)\u001b[38;5;132;01m}\u001b[39;00m\u001b[38;5;124m\"\u001b[39m) \u001b[38;5;28;01mfrom\u001b[39;00m \u001b[38;5;21;01me\u001b[39;00m\n\u001b[1;32m    168\u001b[0m Logger\u001b[38;5;241m.\u001b[39minfo(\u001b[38;5;124mf\u001b[39m\u001b[38;5;124m\"\u001b[39m\u001b[38;5;124mllama2cpp model path = \u001b[39m\u001b[38;5;132;01m{\u001b[39;00mLLAMA2CPP_MODEL_PATH\u001b[38;5;132;01m}\u001b[39;00m\u001b[38;5;124m\"\u001b[39m)\n\u001b[1;32m    170\u001b[0m LANGCHAIN_LLM\u001b[38;5;241m.\u001b[39mupdate({\n\u001b[1;32m    171\u001b[0m   LLAMA2CPP_LLM_TYPE: LlamaCpp(model_path\u001b[38;5;241m=\u001b[39mLLAMA2CPP_MODEL_PATH)\n\u001b[1;32m    172\u001b[0m })\n",
      "\u001b[0;31mInternalServerError\u001b[0m: Failed to download llama2cpp model file 'NoneType' object has no attribute 'startswith'"
     ]
    }
   ],
   "source": [
    "from config.model_config import ModelConfig"
   ]
  },
  {
   "cell_type": "code",
   "execution_count": null,
   "id": "8d72a529-2a4e-44e7-8450-c44f45eaf4d6",
   "metadata": {},
   "outputs": [],
   "source": []
  }
 ],
 "metadata": {
  "kernelspec": {
   "display_name": "Python 3 (ipykernel)",
   "language": "python",
   "name": "python3"
  },
  "language_info": {
   "codemirror_mode": {
    "name": "ipython",
    "version": 3
   },
   "file_extension": ".py",
   "mimetype": "text/x-python",
   "name": "python",
   "nbconvert_exporter": "python",
   "pygments_lexer": "ipython3",
   "version": "3.9.13"
  }
 },
 "nbformat": 4,
 "nbformat_minor": 5
}
