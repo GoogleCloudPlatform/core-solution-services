{
 "cells": [
  {
   "cell_type": "code",
   "execution_count": 1,
   "id": "3871933f-3cb0-4411-b529-76c1ca9c0553",
   "metadata": {},
   "outputs": [],
   "source": [
    "import os\n",
    "import sys\n",
    "sys.path.append(\"../../common/src\")\n",
    "sys.path.append(\"../src\")\n",
    "os.chdir(\"../src\")"
   ]
  },
  {
   "cell_type": "code",
   "execution_count": 2,
   "id": "be91a5ee-a71c-44f4-a6b7-efe0397af4d2",
   "metadata": {},
   "outputs": [
    {
     "name": "stdout",
     "output_type": "stream",
     "text": [
      "INFO: [config/config.py:54 - <module>()] Namespace File not found, setting job namespace as default\n",
      "INFO: [config/config.py:87 - get_environ_flag()] ENABLE_GOOGLE_LLM = True\n",
      "INFO: [config/config.py:87 - get_environ_flag()] ENABLE_GOOGLE_MODEL_GARDEN = True\n",
      "INFO: [config/config.py:87 - get_environ_flag()] ENABLE_LLAMA2CPP_LLM = False\n",
      "INFO: [config/config.py:87 - get_environ_flag()] ENABLE_OPENAI_LLM = True\n",
      "INFO: [config/config.py:87 - get_environ_flag()] ENABLE_COHERE_LLM = True\n",
      "INFO: [config/config.py:87 - get_environ_flag()] ENABLE_TRUSS_LLAMA2 = True\n",
      "INFO: [config/config.py:251 - <module>()] Can't load llm_service_models.json: 404 Secret [projects/877759600672/secrets/llm_service_password_Llama2cpp] not found or has no versions.\n",
      "INFO: [config/config.py:261 - <module>()] LLM types loaded ['OpenAI-GPT3.5', 'OpenAI-GPT4', 'Cohere', 'VertexAI-Text', 'VertexAI-Chat-V1', 'VertexAI-Chat', 'Truss-Llama2-Chat']\n",
      "INFO: [config/config.py:286 - <module>()] Embedding models loaded ['VertexAI-Embedding', 'OpenAI-Embeddings']\n",
      "INFO: [config/vector_store_config.py:38 - <module>()] Default vector store = [matching_engine]\n"
     ]
    }
   ],
   "source": [
    "from services.agents.db_agent import run_db_agent"
   ]
  },
  {
   "cell_type": "code",
   "execution_count": 3,
   "id": "6693bd14-1674-493b-913b-e75c51cb2db3",
   "metadata": {},
   "outputs": [],
   "source": [
    "prompt = \"Which CDT codes are medicaid approved?\""
   ]
  },
  {
   "cell_type": "code",
   "execution_count": 4,
   "id": "71c8f558-b70f-403c-810e-ea318b3439f1",
   "metadata": {},
   "outputs": [
    {
     "name": "stdout",
     "output_type": "stream",
     "text": [
      "\n",
      "\n",
      "\u001b[1m> Entering new AgentExecutor chain...\u001b[0m\n",
      "\u001b[32;1m\u001b[1;3mAction: sql_db_list_tables\n",
      "Action Input: \"\"\u001b[0m\n",
      "Observation: \u001b[38;5;200m\u001b[1;3mCdtCode, ClaimTransaction, FqhcProvider\u001b[0m\n",
      "Thought:\u001b[32;1m\u001b[1;3mThe tables CdtCode and ClaimTransaction seem to be the most relevant to the question. I should check their schemas to understand the structure of the data.\n",
      "Action: sql_db_schema\n",
      "Action Input: \"CdtCode, ClaimTransaction\"\u001b[0m\n",
      "Observation: \u001b[33;1m\u001b[1;3m\n",
      "CREATE TABLE `CdtCode` (\n",
      "\t`cdtCodeId` STRING, \n",
      "\t`codeDescription` STRING, \n",
      "\t`medicaidApproved` BOOL\n",
      ")\n",
      "\n",
      "/*\n",
      "3 rows from CdtCode table:\n",
      "cdtCodeId\tcodeDescription\tmedicaidApproved\n",
      "D0145\toral evaluation for a patient under three years of age and counseling with primary caregiver\tFalse\n",
      "D0171\tre-evaluation – post-operative office visit\tFalse\n",
      "D0190\tscreening of a patient\tFalse\n",
      "*/\n",
      "\n",
      "\n",
      "CREATE TABLE `ClaimTransaction` (\n",
      "\t`claimTransactionId` INT64, \n",
      "\t`fqhcProviderId` INT64, \n",
      "\t`cdtCodeId` STRING, \n",
      "\t`userId` INT64, \n",
      "\t`userEmail` STRING, \n",
      "\t`submitDateTime` TIMESTAMP\n",
      ")\n",
      "\n",
      "/*\n",
      "3 rows from ClaimTransaction table:\n",
      "claimTransactionId\tfqhcProviderId\tcdtCodeId\tuserId\tuserEmail\tsubmitDateTime\n",
      "85\t3801892\tD0120\t85\tashovlar2c@purevolume.com\t2022-01-23 03:46:03+00:00\n",
      "377\t3801892\tD0120\t377\tsspurdonag@ucla.edu\t2023-03-28 19:40:08+00:00\n",
      "761\t3801892\tD0120\t761\tacapperl4@scribd.com\t2022-09-09 02:15:01+00:00\n",
      "*/\u001b[0m\n",
      "Thought:\u001b[32;1m\u001b[1;3mThe CdtCode table has a column named 'medicaidApproved' which is likely to indicate whether a CDT code is approved by Medicaid or not. I will write a query to select the CDT codes that are approved by Medicaid.\n",
      "Action: sql_db_query_checker\n",
      "Action Input: \"SELECT cdtCodeId, codeDescription FROM CdtCode WHERE medicaidApproved = TRUE LIMIT 300\"\u001b[0m\n",
      "Observation: \u001b[36;1m\u001b[1;3mSELECT cdtCodeId, codeDescription FROM CdtCode WHERE medicaidApproved = TRUE LIMIT 300\u001b[0m\n",
      "Thought:\u001b[32;1m\u001b[1;3mThe query syntax is correct. Now I will execute the query to get the CDT codes that are approved by Medicaid.\n",
      "Action: sql_db_query\n",
      "Action Input: \"SELECT cdtCodeId, codeDescription FROM CdtCode WHERE medicaidApproved = TRUE LIMIT 300\"\u001b[0m\n",
      "Observation: \u001b[36;1m\u001b[1;3m[('D0120', 'periodic oral evaluation - established patient'), ('D0140', 'limited oral evaluation - problem focused'), ('D0150', 'comprehensive oral evaluation - new or established patient'), ('D0160', 'detailed and extensive oral evaluation - problem focused, by report'), ('D0170', 're-evaluation - limited, problem focused (established patient; not post-operative visit)'), ('D0180', 'comprehensive periodontal evaluation - new or established patient'), ('D0210', 'intraoral - complete series of radiographic images'), ('D0220', 'intraoral - periapical first radiographic image'), ('D0230', 'intraoral - periapical each additional radiographic image'), ('D0240', 'intraoral - occlusal radiographic image'), ('D0250', 'extra-oral – 2D projection radiographic image created using a stationary radiation source, and detector'), ('D0270', 'bitewing - single radiographic image'), ('D0320', 'temporomandibular joint arthrogram, including injection'), ('D0330', 'panoramic radiographic image'), ('D0340', '2D cephalometric radiographic image – acquisition, measurement and analysis'), ('D0350', '2D oral/facial photographic image obtained intra-orally or extra-orally'), ('D0370', 'maxillofacial ultrasound capture and interpretation'), ('D0380', 'cone beam CT image capture with limited field of view – less than one whole jaw')]\u001b[0m\n",
      "Thought:\u001b[32;1m\u001b[1;3mI now have the list of CDT codes that are approved by Medicaid. I will format this data into a JSON object as requested.\n",
      "Final Answer: \n",
      "{\n",
      "  \"columns\": [\"cdtCodeId\", \"codeDescription\"],\n",
      "  \"data\": [\n",
      "    [\"D0120\", \"periodic oral evaluation - established patient\"],\n",
      "    [\"D0140\", \"limited oral evaluation - problem focused\"],\n",
      "    [\"D0150\", \"comprehensive oral evaluation - new or established patient\"],\n",
      "    [\"D0160\", \"detailed and extensive oral evaluation - problem focused, by report\"],\n",
      "    [\"D0170\", \"re-evaluation - limited, problem focused (established patient; not post-operative visit)\"],\n",
      "    [\"D0180\", \"comprehensive periodontal evaluation - new or established patient\"],\n",
      "    [\"D0210\", \"intraoral - complete series of radiographic images\"],\n",
      "    [\"D0220\", \"intraoral - periapical first radiographic image\"],\n",
      "    [\"D0230\", \"intraoral - periapical each additional radiographic image\"],\n",
      "    [\"D0240\", \"intraoral - occlusal radiographic image\"],\n",
      "    [\"D0250\", \"extra-oral – 2D projection radiographic image created using a stationary radiation source, and detector\"],\n",
      "    [\"D0270\", \"bitewing - single radiographic image\"],\n",
      "    [\"D0320\", \"temporomandibular joint arthrogram, including injection\"],\n",
      "    [\"D0330\", \"panoramic radiographic image\"],\n",
      "    [\"D0340\", \"2D cephalometric radiographic image – acquisition, measurement and analysis\"],\n",
      "    [\"D0350\", \"2D oral/facial photographic image obtained intra-orally or extra-orally\"],\n",
      "    [\"D0370\", \"maxillofacial ultrasound capture and interpretation\"],\n",
      "    [\"D0380\", \"cone beam CT image capture with limited field of view – less than one whole jaw\"]\n",
      "  ]\n",
      "}\u001b[0m\n",
      "\n",
      "\u001b[1m> Finished chain.\u001b[0m\n"
     ]
    },
    {
     "data": {
      "text/plain": [
       "'{\\n  \"columns\": [\"cdtCodeId\", \"codeDescription\"],\\n  \"data\": [\\n    [\"D0120\", \"periodic oral evaluation - established patient\"],\\n    [\"D0140\", \"limited oral evaluation - problem focused\"],\\n    [\"D0150\", \"comprehensive oral evaluation - new or established patient\"],\\n    [\"D0160\", \"detailed and extensive oral evaluation - problem focused, by report\"],\\n    [\"D0170\", \"re-evaluation - limited, problem focused (established patient; not post-operative visit)\"],\\n    [\"D0180\", \"comprehensive periodontal evaluation - new or established patient\"],\\n    [\"D0210\", \"intraoral - complete series of radiographic images\"],\\n    [\"D0220\", \"intraoral - periapical first radiographic image\"],\\n    [\"D0230\", \"intraoral - periapical each additional radiographic image\"],\\n    [\"D0240\", \"intraoral - occlusal radiographic image\"],\\n    [\"D0250\", \"extra-oral – 2D projection radiographic image created using a stationary radiation source, and detector\"],\\n    [\"D0270\", \"bitewing - single radiographic image\"],\\n    [\"D0320\", \"temporomandibular joint arthrogram, including injection\"],\\n    [\"D0330\", \"panoramic radiographic image\"],\\n    [\"D0340\", \"2D cephalometric radiographic image – acquisition, measurement and analysis\"],\\n    [\"D0350\", \"2D oral/facial photographic image obtained intra-orally or extra-orally\"],\\n    [\"D0370\", \"maxillofacial ultrasound capture and interpretation\"],\\n    [\"D0380\", \"cone beam CT image capture with limited field of view – less than one whole jaw\"]\\n  ]\\n}'"
      ]
     },
     "execution_count": 4,
     "metadata": {},
     "output_type": "execute_result"
    }
   ],
   "source": [
    "run_db_agent(prompt)"
   ]
  },
  {
   "cell_type": "code",
   "execution_count": null,
   "id": "e6627e07-124d-4772-bfcc-d33308242cf4",
   "metadata": {},
   "outputs": [],
   "source": []
  }
 ],
 "metadata": {
  "kernelspec": {
   "display_name": "Python 3 (ipykernel)",
   "language": "python",
   "name": "python3"
  },
  "language_info": {
   "codemirror_mode": {
    "name": "ipython",
    "version": 3
   },
   "file_extension": ".py",
   "mimetype": "text/x-python",
   "name": "python",
   "nbconvert_exporter": "python",
   "pygments_lexer": "ipython3",
   "version": "3.9.13"
  }
 },
 "nbformat": 4,
 "nbformat_minor": 5
}
