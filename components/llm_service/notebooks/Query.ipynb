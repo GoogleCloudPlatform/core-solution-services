{
 "cells": [
  {
   "cell_type": "code",
   "execution_count": 1,
   "id": "44c9db81",
   "metadata": {},
   "outputs": [],
   "source": [
    "PROJECT_ID = \"lramsey-dev\"\n",
    "REGION = \"us-central1\"\n",
    "import os\n",
    "os.environ[\"PROJECT_ID\"] = PROJECT_ID"
   ]
  },
  {
   "cell_type": "code",
   "execution_count": 2,
   "id": "6485508d",
   "metadata": {},
   "outputs": [],
   "source": [
    "import sys\n",
    "sys.path.append(\"../../common/src\")\n",
    "sys.path.append(\"../src\")"
   ]
  },
  {
   "cell_type": "code",
   "execution_count": 3,
   "id": "08365901",
   "metadata": {},
   "outputs": [
    {
     "name": "stdout",
     "output_type": "stream",
     "text": [
      "INFO: [config/config.py:57 - <module>()] Namespace File not found, setting job namespace as default\n",
      "INFO: [config/config.py:107 - <module>()] ENABLE_GOOGLE_LLM = True\n",
      "INFO: [config/config.py:108 - <module>()] ENABLE_OPENAI_LLM = True\n",
      "INFO: [config/config.py:109 - <module>()] ENABLE_COHERE_LLM = True\n",
      "INFO: [config/config.py:110 - <module>()] ENABLE_GOOGLE_MODEL_GARDEN = True\n",
      "INFO: [config/config.py:111 - <module>()] ENABLE_TRUSS_LLAMA2 = True\n",
      "INFO: [config/vector_store_config.py:40 - <module>()] Default vector store = [matching_engine]\n",
      "INFO: [config/vector_store_config.py:49 - <module>()] PG_HOST = [127.0.0.1]\n",
      "INFO: [config/vector_store_config.py:50 - <module>()] PG_DBNAME = [pgvector]\n",
      "ERROR: [config/vector_store_config.py:77 - <module>()] Cannot connect to pgvector instance at 127.0.0.1: (psycopg2.OperationalError) connection to server at \"127.0.0.1\", port 5432 failed: Connection refused\n",
      "\tIs the server running on that host and accepting TCP/IP connections?\n",
      "\n",
      "(Background on this error at: https://sqlalche.me/e/14/e3q8)\n",
      "INFO: [utils/text_helper.py:43 - <module>()] using default spacy model\n"
     ]
    }
   ],
   "source": [
    "import tempfile\n",
    "import os\n",
    "from typing import List, Optional, Tuple, Dict\n",
    "from common.utils.logging_handler import Logger\n",
    "from common.models import (UserQuery, QueryResult, QueryEngine, QueryDocument,\n",
    "                           QueryReference, QueryDocumentChunk, BatchJobModel)\n",
    "from common.utils.errors import (ResourceNotFoundException,\n",
    "                                 ValidationError)\n",
    "from common.utils.http_exceptions import InternalServerError\n",
    "from utils.errors import NoDocumentsIndexedException\n",
    "from google.cloud import storage\n",
    "from services import llm_generate, embeddings\n",
    "from services.query import query_prompts\n",
    "from services.query.vector_store import VectorStore\n",
    "from services.query.data_source import DataSource\n",
    "from config import (PROJECT_ID, DEFAULT_QUERY_CHAT_MODEL,\n",
    "                        DEFAULT_QUERY_EMBEDDING_MODEL)\n",
    "from services.query.query_service import query_generate"
   ]
  },
  {
   "cell_type": "code",
   "execution_count": 5,
   "id": "98bad6b3-82ab-4436-80f9-f5940e913164",
   "metadata": {},
   "outputs": [],
   "source": [
    "storage_client = storage.Client(project=PROJECT_ID)"
   ]
  },
  {
   "cell_type": "code",
   "execution_count": 6,
   "id": "4dd71700",
   "metadata": {},
   "outputs": [],
   "source": [
    "query_engine = \"lukman-test-vs-8\"\n",
    "q_engine = QueryEngine.find_by_name(query_engine)\n",
    "user_id = \"epKVwPZeIBz1rrqcDm1B\""
   ]
  },
  {
   "cell_type": "code",
   "execution_count": 8,
   "id": "38fc9e19-0376-48a1-973b-3813f1505e1b",
   "metadata": {},
   "outputs": [],
   "source": [
    "query_result = QueryResult.find_by_id(\"JoRKnorOeLFWMQdeOGo2\")"
   ]
  },
  {
   "cell_type": "code",
   "execution_count": 9,
   "id": "b57a0a07",
   "metadata": {},
   "outputs": [],
   "source": [
    "query_references = [QueryReference.find_by_id(qrefid) for qrefid in query_result.query_refs]"
   ]
  },
  {
   "cell_type": "code",
   "execution_count": 11,
   "id": "aa7f834d-4187-4906-8f6d-c8fb1bca735c",
   "metadata": {},
   "outputs": [],
   "source": [
    "query_reference_dicts = [\n",
    "    ref.get_fields(reformat_datetime=True) for ref in query_references\n",
    "]"
   ]
  },
  {
   "cell_type": "code",
   "execution_count": 12,
   "id": "57716fae-d854-4b13-9cc4-a97a2ea2f566",
   "metadata": {},
   "outputs": [
    {
     "data": {
      "text/plain": [
       "[{'query_engine_id': 'urjshigECiGqhj90MjJx',\n",
       "  'query_engine': 'Test Vertex Search 8',\n",
       "  'document_id': 'geHFIudyXMUN8ODpsJ64',\n",
       "  'document_url': 'gs://lramsey-dev-downloads-test-vertex-search-8/cdl.html',\n",
       "  'chunk_id': None,\n",
       "  'document_text': '<b>CDL</b> Class and Restriction O Flowcharts <b>Commercial</b> Driver <b>License</b> Information (<b>CDL</b> 051) <b>Application</b> for <b>Commercial</b> Driving Privileges (<b>CDL</b> 002):English&nbsp;...',\n",
       "  'created_time': '2024-03-15 20:30:07.627561+00:00',\n",
       "  'last_modified_time': '2024-03-15 20:30:07.627561+00:00',\n",
       "  'deleted_at_timestamp': None,\n",
       "  'deleted_by': '',\n",
       "  'archived_at_timestamp': None,\n",
       "  'archived_by': '',\n",
       "  'created_by': '',\n",
       "  'last_modified_by': '',\n",
       "  'id': '0v5lkqCehiBWXa4fZQLg'},\n",
       " {'query_engine_id': 'urjshigECiGqhj90MjJx',\n",
       "  'query_engine': 'Test Vertex Search 8',\n",
       "  'document_id': '8ulJkCSvpTsAAfNNgOWo',\n",
       "  'document_url': 'gs://lramsey-dev-downloads-test-vertex-search-8/dmvforms.html',\n",
       "  'chunk_id': None,\n",
       "  'document_text': '... <b>license</b> or <b>registration</b> fees. Expand/Collapse All Form Categories Driver <b>License</b> Forms Visit <b>Commercial</b> Driver <b>Licensing</b> for <b>CDL</b> forms. <b>Applications Application</b>&nbsp;...',\n",
       "  'created_time': '2024-03-15 20:30:07.957730+00:00',\n",
       "  'last_modified_time': '2024-03-15 20:30:07.957730+00:00',\n",
       "  'deleted_at_timestamp': None,\n",
       "  'deleted_by': '',\n",
       "  'archived_at_timestamp': None,\n",
       "  'archived_by': '',\n",
       "  'created_by': '',\n",
       "  'last_modified_by': '',\n",
       "  'id': 'WgCapqyWmfxABivSTM5r'},\n",
       " {'query_engine_id': 'urjshigECiGqhj90MjJx',\n",
       "  'query_engine': 'Test Vertex Search 8',\n",
       "  'document_id': 'pmAHhRtl7eBrDMCdQNpI',\n",
       "  'document_url': 'gs://lramsey-dev-downloads-test-vertex-search-8/realid.html',\n",
       "  'chunk_id': None,\n",
       "  'document_text': '... <b>license</b>, $7.25 for an ID card or $12.25 for a <b>commercial license</b>. Other ... Will I need a Real ID <b>license</b> to <b>apply</b> for federal benefits or to <b>register</b> to vote?',\n",
       "  'created_time': '2024-03-15 20:30:08.107471+00:00',\n",
       "  'last_modified_time': '2024-03-15 20:30:08.107471+00:00',\n",
       "  'deleted_at_timestamp': None,\n",
       "  'deleted_by': '',\n",
       "  'archived_at_timestamp': None,\n",
       "  'archived_by': '',\n",
       "  'created_by': '',\n",
       "  'last_modified_by': '',\n",
       "  'id': 'ziVYKFB3Wn3387KNIW8V'},\n",
       " {'query_engine_id': 'urjshigECiGqhj90MjJx',\n",
       "  'query_engine': 'Test Vertex Search 8',\n",
       "  'document_id': 'R28xpRD8tVF62Jsmfprq',\n",
       "  'document_url': 'gs://lramsey-dev-downloads-test-vertex-search-8/nvdl.html',\n",
       "  'chunk_id': None,\n",
       "  'document_text': '... <b>license</b>, and what type of <b>license</b> or ID you <b>apply</b> for. First <b>License</b> Renewal ... <b>commercial license</b> or ID card or $12.25 for a <b>commercial license</b>. Visit&nbsp;...',\n",
       "  'created_time': '2024-03-15 20:30:08.262522+00:00',\n",
       "  'last_modified_time': '2024-03-15 20:30:08.262522+00:00',\n",
       "  'deleted_at_timestamp': None,\n",
       "  'deleted_by': '',\n",
       "  'archived_at_timestamp': None,\n",
       "  'archived_by': '',\n",
       "  'created_by': '',\n",
       "  'last_modified_by': '',\n",
       "  'id': 'i3JvTcb3EHCpdpNiEHKa'},\n",
       " {'query_engine_id': 'urjshigECiGqhj90MjJx',\n",
       "  'query_engine': 'Test Vertex Search 8',\n",
       "  'document_id': 'Vf7oz8zsRDdm8HSDLV0z',\n",
       "  'document_url': 'gs://lramsey-dev-downloads-test-vertex-search-8/dltesting.html',\n",
       "  'chunk_id': None,\n",
       "  'document_text': '... <b>applicants</b> for a driver&#39;s <b>license</b> take a vision test. Beginning drivers must ... <b>commercial</b> driver&#39;s <b>license</b>, driver authorization card or instruction <b>permit</b>.',\n",
       "  'created_time': '2024-03-15 20:30:08.398215+00:00',\n",
       "  'last_modified_time': '2024-03-15 20:30:08.398215+00:00',\n",
       "  'deleted_at_timestamp': None,\n",
       "  'deleted_by': '',\n",
       "  'archived_at_timestamp': None,\n",
       "  'archived_by': '',\n",
       "  'created_by': '',\n",
       "  'last_modified_by': '',\n",
       "  'id': 'nZbq6AOZ9cv93hcroAwg'},\n",
       " {'query_engine_id': 'urjshigECiGqhj90MjJx',\n",
       "  'query_engine': 'Test Vertex Search 8',\n",
       "  'document_id': 'kF0FrKZfqvQITMH4CtXd',\n",
       "  'document_url': 'gs://lramsey-dev-downloads-test-vertex-search-8/dlduplicate.html',\n",
       "  'chunk_id': None,\n",
       "  'document_text': '<b>Commercial license</b> duplicates must be ordered in-person at a <b>CDL</b> Office ... The fee exemption does not <b>apply</b> to: New residents obtaining a Nevada <b>license</b> or&nbsp;...',\n",
       "  'created_time': '2024-03-15 20:30:08.549772+00:00',\n",
       "  'last_modified_time': '2024-03-15 20:30:08.549772+00:00',\n",
       "  'deleted_at_timestamp': None,\n",
       "  'deleted_by': '',\n",
       "  'archived_at_timestamp': None,\n",
       "  'archived_by': '',\n",
       "  'created_by': '',\n",
       "  'last_modified_by': '',\n",
       "  'id': 'BMlbTI2PyfQ6xQuYqYXr'},\n",
       " {'query_engine_id': 'urjshigECiGqhj90MjJx',\n",
       "  'query_engine': 'Test Vertex Search 8',\n",
       "  'document_id': 'z670fxqVuNXldG1hlj7q',\n",
       "  'document_url': 'gs://lramsey-dev-downloads-test-vertex-search-8/addchange.html',\n",
       "  'chunk_id': None,\n",
       "  'document_text': 'Address changes on <b>Commercial</b> Driver <b>Licenses</b> must be completed in person. Why Is This Important? Nevada law requires motorists to notify DMV of a change of&nbsp;...',\n",
       "  'created_time': '2024-03-15 20:30:08.691331+00:00',\n",
       "  'last_modified_time': '2024-03-15 20:30:08.691331+00:00',\n",
       "  'deleted_at_timestamp': None,\n",
       "  'deleted_by': '',\n",
       "  'archived_at_timestamp': None,\n",
       "  'archived_by': '',\n",
       "  'created_by': '',\n",
       "  'last_modified_by': '',\n",
       "  'id': 'O8vTKf7bjCE8UizbWNHf'},\n",
       " {'query_engine_id': 'urjshigECiGqhj90MjJx',\n",
       "  'query_engine': 'Test Vertex Search 8',\n",
       "  'document_id': 'vlT68WXz0yRYqSTQ0srl',\n",
       "  'document_url': 'gs://lramsey-dev-downloads-test-vertex-search-8/dlrenewal.html',\n",
       "  'chunk_id': None,\n",
       "  'document_text': 'Who is not eligible Age 71 and older Instruction permits <b>Commercial licenses</b> ... Late Renewal A $10 late fee may <b>apply</b> if your <b>license</b> has been expired 30 days or&nbsp;...',\n",
       "  'created_time': '2024-03-15 20:30:08.851390+00:00',\n",
       "  'last_modified_time': '2024-03-15 20:30:08.851390+00:00',\n",
       "  'deleted_at_timestamp': None,\n",
       "  'deleted_by': '',\n",
       "  'archived_at_timestamp': None,\n",
       "  'archived_by': '',\n",
       "  'created_by': '',\n",
       "  'last_modified_by': '',\n",
       "  'id': 'IsEk0j4Ecook0zWjpqoC'},\n",
       " {'query_engine_id': 'urjshigECiGqhj90MjJx',\n",
       "  'query_engine': 'Test Vertex Search 8',\n",
       "  'document_id': 'TDorlcMX25HK4JkfFz6U',\n",
       "  'document_url': 'gs://lramsey-dev-downloads-test-vertex-search-8/platesveterans.html',\n",
       "  'chunk_id': None,\n",
       "  'document_text': '... <b>License</b> Plate <b>Application</b> (SP 33). All <b>applicants</b> must complete the SP 33 ... <b>commercial license</b> or ID card or $12.25 for a <b>commercial license</b>. There is&nbsp;...',\n",
       "  'created_time': '2024-03-15 20:30:08.988196+00:00',\n",
       "  'last_modified_time': '2024-03-15 20:30:08.988196+00:00',\n",
       "  'deleted_at_timestamp': None,\n",
       "  'deleted_by': '',\n",
       "  'archived_at_timestamp': None,\n",
       "  'archived_by': '',\n",
       "  'created_by': '',\n",
       "  'last_modified_by': '',\n",
       "  'id': 'LjtZLBWcbICPuNNb3chQ'},\n",
       " {'query_engine_id': 'urjshigECiGqhj90MjJx',\n",
       "  'query_engine': 'Test Vertex Search 8',\n",
       "  'document_id': 'gJy3v2qGMFxdoRsuNelb',\n",
       "  'document_url': 'gs://lramsey-dev-downloads-test-vertex-search-8/newresident.html',\n",
       "  'chunk_id': None,\n",
       "  'document_text': '... <b>apply</b>. Drivers who have never been ... Our technicians process non-<b>commercial</b> driver&#39;s <b>license</b> and <b>registration</b> transactions at the same time in a single visit.',\n",
       "  'created_time': '2024-03-15 20:30:09.126758+00:00',\n",
       "  'last_modified_time': '2024-03-15 20:30:09.126758+00:00',\n",
       "  'deleted_at_timestamp': None,\n",
       "  'deleted_by': '',\n",
       "  'archived_at_timestamp': None,\n",
       "  'archived_by': '',\n",
       "  'created_by': '',\n",
       "  'last_modified_by': '',\n",
       "  'id': 'nIhpB6z3ZvZjlFkcoAsV'}]"
      ]
     },
     "execution_count": 12,
     "metadata": {},
     "output_type": "execute_result"
    }
   ],
   "source": [
    "query_reference_dicts"
   ]
  },
  {
   "cell_type": "code",
   "execution_count": 13,
   "id": "00e5f28a-2308-4240-8ae7-8be9e6a4f5fd",
   "metadata": {},
   "outputs": [],
   "source": [
    "user_query = UserQuery.find_by_id(\"IBorI8Hxbs0ogTwT5JQF\")"
   ]
  },
  {
   "cell_type": "code",
   "execution_count": 14,
   "id": "0f49eb74-db6c-4f6a-afa6-edce8dcfbfc8",
   "metadata": {},
   "outputs": [],
   "source": [
    "prompt = \"How do I apply for a commercial license\"\n",
    "question_response = \"I do not know the answer to this question.\""
   ]
  },
  {
   "cell_type": "code",
   "execution_count": 15,
   "id": "a8d997dc-2162-479f-81c6-576ff90a7d1d",
   "metadata": {},
   "outputs": [],
   "source": [
    "user_query.update_history(prompt, question_response, query_reference_dicts)"
   ]
  },
  {
   "cell_type": "code",
   "execution_count": null,
   "id": "de91f7e0-945d-40f7-af35-9f4299a92ce6",
   "metadata": {},
   "outputs": [],
   "source": []
  }
 ],
 "metadata": {
  "kernelspec": {
   "display_name": "Python 3 (ipykernel)",
   "language": "python",
   "name": "python3"
  },
  "language_info": {
   "codemirror_mode": {
    "name": "ipython",
    "version": 3
   },
   "file_extension": ".py",
   "mimetype": "text/x-python",
   "name": "python",
   "nbconvert_exporter": "python",
   "pygments_lexer": "ipython3",
   "version": "3.9.13"
  }
 },
 "nbformat": 4,
 "nbformat_minor": 5
}
