{
 "cells": [
  {
   "cell_type": "code",
   "execution_count": 1,
   "id": "44c9db81",
   "metadata": {},
   "outputs": [],
   "source": [
    "PROJECT_ID = \"lramsey-dev\"\n",
    "REGION = \"us-central1\"\n",
    "import os\n",
    "os.environ[\"PROJECT_ID\"] = PROJECT_ID\n",
    "os.environ[\"PG_HOST\"] = \"\""
   ]
  },
  {
   "cell_type": "code",
   "execution_count": 2,
   "id": "6485508d",
   "metadata": {},
   "outputs": [],
   "source": [
    "import sys\n",
    "sys.path.append(\"../../common/src\")\n",
    "sys.path.append(\"../src\")"
   ]
  },
  {
   "cell_type": "code",
   "execution_count": 3,
   "id": "08365901",
   "metadata": {},
   "outputs": [
    {
     "name": "stdout",
     "output_type": "stream",
     "text": [
      "INFO: [config/config.py:61 - <module>()] Namespace File not found, setting job namespace as default\n"
     ]
    },
    {
     "name": "stderr",
     "output_type": "stream",
     "text": [
      "/Users/lramsey/work/ailp/lukmanr-gps-core-solution-services/components/llm_service/notebooks/.venv/lib/python3.9/site-packages/langchain_community/llms/__init__.py:173: LangChainDeprecationWarning: `` was deprecated in LangChain 0.0.22 and will be removed in 0.2. An updated version of the  exists in the langchain-community package and should be used instead. To use it run `pip install -U langchain-community` and import as `from langchain_community.chat_models import ChatDatabricks`.\n",
      "  warn_deprecated(\n",
      "/Users/lramsey/work/ailp/lukmanr-gps-core-solution-services/components/llm_service/notebooks/.venv/lib/python3.9/site-packages/langchain_community/llms/__init__.py:343: LangChainDeprecationWarning: `` was deprecated in LangChain 0.0.22 and will be removed in 0.2. An updated version of the  exists in the langchain-community package and should be used instead. To use it run `pip install -U langchain-community` and import as `from langchain_community.chat_models import ChatMlflow`.\n",
      "  warn_deprecated(\n",
      "/Users/lramsey/work/ailp/lukmanr-gps-core-solution-services/components/llm_service/notebooks/.venv/lib/python3.9/site-packages/langchain_community/llms/__init__.py:173: LangChainDeprecationWarning: `` was deprecated in LangChain 0.0.22 and will be removed in 0.2. An updated version of the  exists in the langchain-community package and should be used instead. To use it run `pip install -U langchain-community` and import as `from langchain_community.chat_models import ChatDatabricks`.\n",
      "  warn_deprecated(\n",
      "/Users/lramsey/work/ailp/lukmanr-gps-core-solution-services/components/llm_service/notebooks/.venv/lib/python3.9/site-packages/langchain_community/llms/__init__.py:343: LangChainDeprecationWarning: `` was deprecated in LangChain 0.0.22 and will be removed in 0.2. An updated version of the  exists in the langchain-community package and should be used instead. To use it run `pip install -U langchain-community` and import as `from langchain_community.chat_models import ChatMlflow`.\n",
      "  warn_deprecated(\n",
      "/Users/lramsey/work/ailp/lukmanr-gps-core-solution-services/components/llm_service/notebooks/.venv/lib/python3.9/site-packages/langchain_community/llms/__init__.py:173: LangChainDeprecationWarning: `` was deprecated in LangChain 0.0.22 and will be removed in 0.2. An updated version of the  exists in the langchain-community package and should be used instead. To use it run `pip install -U langchain-community` and import as `from langchain_community.chat_models import ChatDatabricks`.\n",
      "  warn_deprecated(\n",
      "/Users/lramsey/work/ailp/lukmanr-gps-core-solution-services/components/llm_service/notebooks/.venv/lib/python3.9/site-packages/langchain_community/llms/__init__.py:343: LangChainDeprecationWarning: `` was deprecated in LangChain 0.0.22 and will be removed in 0.2. An updated version of the  exists in the langchain-community package and should be used instead. To use it run `pip install -U langchain-community` and import as `from langchain_community.chat_models import ChatMlflow`.\n",
      "  warn_deprecated(\n",
      "/Users/lramsey/work/ailp/lukmanr-gps-core-solution-services/components/llm_service/notebooks/.venv/lib/python3.9/site-packages/langchain_community/llms/__init__.py:173: LangChainDeprecationWarning: `` was deprecated in LangChain 0.0.22 and will be removed in 0.2. An updated version of the  exists in the langchain-community package and should be used instead. To use it run `pip install -U langchain-community` and import as `from langchain_community.chat_models import ChatDatabricks`.\n",
      "  warn_deprecated(\n",
      "/Users/lramsey/work/ailp/lukmanr-gps-core-solution-services/components/llm_service/notebooks/.venv/lib/python3.9/site-packages/langchain_community/llms/__init__.py:343: LangChainDeprecationWarning: `` was deprecated in LangChain 0.0.22 and will be removed in 0.2. An updated version of the  exists in the langchain-community package and should be used instead. To use it run `pip install -U langchain-community` and import as `from langchain_community.chat_models import ChatMlflow`.\n",
      "  warn_deprecated(\n",
      "/Users/lramsey/work/ailp/lukmanr-gps-core-solution-services/components/llm_service/notebooks/.venv/lib/python3.9/site-packages/langchain_community/llms/__init__.py:173: LangChainDeprecationWarning: `` was deprecated in LangChain 0.0.22 and will be removed in 0.2. An updated version of the  exists in the langchain-community package and should be used instead. To use it run `pip install -U langchain-community` and import as `from langchain_community.chat_models import ChatDatabricks`.\n",
      "  warn_deprecated(\n",
      "/Users/lramsey/work/ailp/lukmanr-gps-core-solution-services/components/llm_service/notebooks/.venv/lib/python3.9/site-packages/langchain_community/llms/__init__.py:343: LangChainDeprecationWarning: `` was deprecated in LangChain 0.0.22 and will be removed in 0.2. An updated version of the  exists in the langchain-community package and should be used instead. To use it run `pip install -U langchain-community` and import as `from langchain_community.chat_models import ChatMlflow`.\n",
      "  warn_deprecated(\n",
      "/Users/lramsey/work/ailp/lukmanr-gps-core-solution-services/components/llm_service/notebooks/.venv/lib/python3.9/site-packages/langchain_community/llms/__init__.py:173: LangChainDeprecationWarning: `` was deprecated in LangChain 0.0.22 and will be removed in 0.2. An updated version of the  exists in the langchain-community package and should be used instead. To use it run `pip install -U langchain-community` and import as `from langchain_community.chat_models import ChatDatabricks`.\n",
      "  warn_deprecated(\n",
      "/Users/lramsey/work/ailp/lukmanr-gps-core-solution-services/components/llm_service/notebooks/.venv/lib/python3.9/site-packages/langchain_community/llms/__init__.py:343: LangChainDeprecationWarning: `` was deprecated in LangChain 0.0.22 and will be removed in 0.2. An updated version of the  exists in the langchain-community package and should be used instead. To use it run `pip install -U langchain-community` and import as `from langchain_community.chat_models import ChatMlflow`.\n",
      "  warn_deprecated(\n",
      "/Users/lramsey/work/ailp/lukmanr-gps-core-solution-services/components/llm_service/notebooks/.venv/lib/python3.9/site-packages/langchain_community/llms/__init__.py:173: LangChainDeprecationWarning: `` was deprecated in LangChain 0.0.22 and will be removed in 0.2. An updated version of the  exists in the langchain-community package and should be used instead. To use it run `pip install -U langchain-community` and import as `from langchain_community.chat_models import ChatDatabricks`.\n",
      "  warn_deprecated(\n",
      "/Users/lramsey/work/ailp/lukmanr-gps-core-solution-services/components/llm_service/notebooks/.venv/lib/python3.9/site-packages/langchain_community/llms/__init__.py:343: LangChainDeprecationWarning: `` was deprecated in LangChain 0.0.22 and will be removed in 0.2. An updated version of the  exists in the langchain-community package and should be used instead. To use it run `pip install -U langchain-community` and import as `from langchain_community.chat_models import ChatMlflow`.\n",
      "  warn_deprecated(\n",
      "/Users/lramsey/work/ailp/lukmanr-gps-core-solution-services/components/llm_service/notebooks/.venv/lib/python3.9/site-packages/langchain_core/_api/deprecation.py:119: LangChainDeprecationWarning: The class `ChatCohere` was deprecated in LangChain 0.0.30 and will be removed in 0.2.0. An updated version of the class exists in the langchain-cohere package and should be used instead. To use it run `pip install -U langchain-cohere` and import as `from langchain_cohere import ChatCohere`.\n",
      "  warn_deprecated(\n",
      "/Users/lramsey/work/ailp/lukmanr-gps-core-solution-services/components/llm_service/notebooks/.venv/lib/python3.9/site-packages/langchain_community/llms/__init__.py:173: LangChainDeprecationWarning: `` was deprecated in LangChain 0.0.22 and will be removed in 0.2. An updated version of the  exists in the langchain-community package and should be used instead. To use it run `pip install -U langchain-community` and import as `from langchain_community.chat_models import ChatDatabricks`.\n",
      "  warn_deprecated(\n",
      "/Users/lramsey/work/ailp/lukmanr-gps-core-solution-services/components/llm_service/notebooks/.venv/lib/python3.9/site-packages/langchain_community/llms/__init__.py:343: LangChainDeprecationWarning: `` was deprecated in LangChain 0.0.22 and will be removed in 0.2. An updated version of the  exists in the langchain-community package and should be used instead. To use it run `pip install -U langchain-community` and import as `from langchain_community.chat_models import ChatMlflow`.\n",
      "  warn_deprecated(\n"
     ]
    },
    {
     "name": "stdout",
     "output_type": "stream",
     "text": [
      "INFO: [config/config.py:112 - <module>()] ENABLE_GOOGLE_LLM = True\n",
      "INFO: [config/config.py:113 - <module>()] ENABLE_OPENAI_LLM = True\n",
      "INFO: [config/config.py:114 - <module>()] ENABLE_COHERE_LLM = True\n",
      "INFO: [config/config.py:115 - <module>()] ENABLE_GOOGLE_MODEL_GARDEN = True\n",
      "INFO: [config/config.py:116 - <module>()] ENABLE_TRUSS_LLAMA2 = False\n",
      "INFO: [config/config.py:117 - <module>()] ENABLE_VLLM_GEMMA = True\n",
      "INFO: [config/vector_store_config.py:40 - <module>()] Default vector store = [matching_engine]\n",
      "INFO: [config/vector_store_config.py:49 - <module>()] PG_HOST = [None]\n",
      "INFO: [config/vector_store_config.py:50 - <module>()] PG_DBNAME = [pgvector]\n",
      "INFO: [config/vector_store_config.py:79 - <module>()] PG_HOST is set to [None], not connecting to pgvector\n",
      "INFO: [config/onedrive_config.py:30 - <module>()] ONEDRIVE_CLIENT_ID = [None]\n",
      "INFO: [config/onedrive_config.py:31 - <module>()] ONEDRIVE_TENANT_ID = [None]\n",
      "WARNING: [config/onedrive_config.py:42 - <module>()] Can't access onedrive client secret\n",
      "WARNING: [config/onedrive_config.py:48 - <module>()] Can't access onedrive principle name\n",
      "INFO: [utils/text_helper.py:43 - <module>()] using default spacy model\n",
      "Loading default colbert model for language en\n",
      "Loading ColBERTRanker model colbert-ir/colbertv2.0\n"
     ]
    }
   ],
   "source": [
    "import tempfile\n",
    "import os\n",
    "from typing import List, Optional, Tuple, Dict\n",
    "from common.utils.logging_handler import Logger\n",
    "from common.models import (UserQuery, QueryResult, QueryEngine, QueryDocument,\n",
    "                           QueryReference, QueryDocumentChunk, BatchJobModel)\n",
    "from common.utils.errors import (ResourceNotFoundException,\n",
    "                                 ValidationError)\n",
    "from common.utils.http_exceptions import InternalServerError\n",
    "from utils.errors import NoDocumentsIndexedException\n",
    "from google.cloud import storage\n",
    "from services import llm_generate, embeddings\n",
    "from services.query import query_prompts\n",
    "from services.query.vector_store import VectorStore\n",
    "from services.query.data_source import DataSource\n",
    "from config import (PROJECT_ID, DEFAULT_QUERY_CHAT_MODEL,\n",
    "                        DEFAULT_QUERY_EMBEDDING_MODEL)\n",
    "from services.query.query_service import query_generate"
   ]
  },
  {
   "cell_type": "code",
   "execution_count": 4,
   "id": "98bad6b3-82ab-4436-80f9-f5940e913164",
   "metadata": {},
   "outputs": [],
   "source": [
    "storage_client = storage.Client(project=PROJECT_ID)"
   ]
  },
  {
   "cell_type": "code",
   "execution_count": 5,
   "id": "f84647c8-d9a2-4762-b1ed-1418bb8be4c8",
   "metadata": {},
   "outputs": [
    {
     "data": {
      "text/plain": [
       "[('Test LLM Service 2', 'JmKH0Rnt6khHCaRfuSG7'),\n",
       " ('Test LLM Service 1', 'SaLOGu4JCvStmK7RFCMD'),\n",
       " ('Test Vertex Search 8', 'urjshigECiGqhj90MjJx'),\n",
       " ('Test Vertex Search 7', 'BY5hPEunjRYutJVD7DQa'),\n",
       " ('Test Vertex Search 6', 'vnoCpT38aKjEZlDjmhVs'),\n",
       " ('Test Vertex Search 5', 'WRDCFzLMqJFy8cvDh2WA'),\n",
       " ('APG Provider Manual', 'TXfYVDTqotmlF3thAx0O'),\n",
       " ('CHCANYS Conference web page from NYSDOH site', 'ZCfGNtk9WuIxgp8wLc6h'),\n",
       " ('FQHC Dental Policies from NYSDOH web site', 'x6UkpTjcgVZxCB8kucqU'),\n",
       " ('Medicaid dental billing policies', 'dwQL5Ir0iXDpMW4kUEM4')]"
      ]
     },
     "execution_count": 5,
     "metadata": {},
     "output_type": "execute_result"
    }
   ],
   "source": [
    "qe_list = QueryEngine.fetch_all()\n",
    "[(qe.name, qe.id) for qe in qe_list]"
   ]
  },
  {
   "cell_type": "code",
   "execution_count": 6,
   "id": "4dd71700",
   "metadata": {},
   "outputs": [],
   "source": [
    "query_engine = \"Test LLM Service 2\"\n",
    "q_engine = QueryEngine.find_by_name(query_engine)\n",
    "user_id = \"epKVwPZeIBz1rrqcDm1B\""
   ]
  },
  {
   "cell_type": "code",
   "execution_count": 7,
   "id": "e9b95635-afa4-4716-b9c5-56bbe7d60ddb",
   "metadata": {},
   "outputs": [
    {
     "data": {
      "text/plain": [
       "{'name': 'Test LLM Service 2',\n",
       " 'query_engine_type': 'qe_llm_service',\n",
       " 'description': '',\n",
       " 'llm_type': 'VertexAI-Chat',\n",
       " 'embedding_type': 'VertexAI-Embedding',\n",
       " 'vector_store': 'langchain_pgvector',\n",
       " 'created_by': 'Z4lrklOGmEUFc8o6KFYavpoROV43',\n",
       " 'is_public': True,\n",
       " 'index_id': None,\n",
       " 'index_name': None,\n",
       " 'endpoint': None,\n",
       " 'doc_url': 'https://dmv.nv.gov/',\n",
       " 'agents': [''],\n",
       " 'parent_engine_id': None,\n",
       " 'params': {'depth_limit': 1, 'agents': ''},\n",
       " 'created_time': DatetimeWithNanoseconds(2024, 3, 17, 15, 33, 33, 918691, tzinfo=datetime.timezone.utc),\n",
       " 'last_modified_time': DatetimeWithNanoseconds(2024, 3, 17, 15, 33, 34, 51883, tzinfo=datetime.timezone.utc),\n",
       " 'deleted_at_timestamp': None,\n",
       " 'deleted_by': '',\n",
       " 'archived_at_timestamp': None,\n",
       " 'archived_by': '',\n",
       " 'last_modified_by': '',\n",
       " 'id': 'JmKH0Rnt6khHCaRfuSG7'}"
      ]
     },
     "execution_count": 7,
     "metadata": {},
     "output_type": "execute_result"
    }
   ],
   "source": [
    "q_engine.get_fields()"
   ]
  },
  {
   "cell_type": "code",
   "execution_count": 8,
   "id": "c65326a5-7253-49b7-acf6-dad8908ced56",
   "metadata": {},
   "outputs": [],
   "source": [
    "prompt = \"how do I apply for a commercial license\""
   ]
  },
  {
   "cell_type": "code",
   "execution_count": 10,
   "id": "3568c752-3afb-4f7a-bfab-136513b79fec",
   "metadata": {},
   "outputs": [
    {
     "name": "stdout",
     "output_type": "stream",
     "text": [
      "INFO: [services/embeddings.py:65 - get_embeddings()] generating embeddings with VertexAI-Embedding\n",
      "INFO: [services/embeddings.py:149 - generate_embeddings()] generating embeddings for embedding type VertexAI-Embedding\n",
      "INFO: [config/model_config.py:483 - get_provider_value()] Get provider value:\n",
      "INFO: [config/model_config.py:484 - get_provider_value()] provider_id=Vertex\n",
      "INFO: [config/model_config.py:485 - get_provider_value()] model_id=VertexAI-Embedding\n",
      "INFO: [services/embeddings.py:208 - get_vertex_embeddings()] generating Vertex embeddings for 1 chunk(s) embedding model text-embedding-004\n"
     ]
    }
   ],
   "source": [
    "_, embeddings = await embeddings.get_embeddings([prompt], q_engine.embedding_type)"
   ]
  },
  {
   "cell_type": "code",
   "execution_count": 11,
   "id": "73db7266-3566-4f2b-87b0-d77c0ee2d86c",
   "metadata": {},
   "outputs": [
    {
     "data": {
      "text/plain": [
       "array([-2.35764664e-02,  3.82136740e-02,  3.40655185e-02, -3.70504707e-03,\n",
       "        2.45017521e-02,  2.19221245e-02,  6.38145804e-02,  7.36327097e-03,\n",
       "        4.91844639e-02,  4.90183644e-02, -2.25496870e-02,  1.85602903e-02,\n",
       "       -1.37316398e-02,  2.21355148e-02, -3.84428687e-02, -3.92883122e-02,\n",
       "       -5.87003343e-02,  1.37411542e-02, -1.54102713e-01, -6.28443584e-02,\n",
       "        4.73594153e-03,  1.92725826e-02, -6.82127327e-02, -3.02298628e-02,\n",
       "        5.05838916e-02, -4.05319734e-03,  6.60265908e-02, -6.76689968e-02,\n",
       "        1.99233857e-03, -6.41971603e-02, -2.54400726e-03,  3.74183096e-02,\n",
       "       -3.03676724e-02,  6.96961209e-03,  8.84275045e-03,  1.64558962e-02,\n",
       "        2.57458780e-02, -1.08271493e-02,  2.95430943e-02, -6.82244226e-02,\n",
       "       -6.03051409e-02,  3.15777548e-02, -4.40741889e-03,  3.80443670e-02,\n",
       "       -7.58454157e-03, -3.67716178e-02, -4.32687812e-03,  8.78752209e-03,\n",
       "       -6.83041289e-02, -5.71168214e-03,  1.07218862e-01,  1.30796246e-02,\n",
       "       -2.52754260e-02,  2.71327514e-02,  2.45309267e-02,  3.31990374e-03,\n",
       "        5.50296903e-03, -8.37032944e-02,  6.48165541e-03,  3.06119695e-02,\n",
       "        1.32024614e-03, -2.31406018e-02, -1.35736382e-02,  6.74959421e-02,\n",
       "       -1.01564340e-02,  4.38690977e-03,  4.22630124e-02, -3.82685773e-02,\n",
       "       -5.39562516e-02, -2.27187276e-02,  1.06669301e-02,  3.00750099e-02,\n",
       "        2.85745668e-03, -1.72197577e-02,  2.87104715e-02, -3.76570933e-02,\n",
       "        2.32986710e-03, -4.58937250e-02,  2.92592645e-02,  9.35585201e-02,\n",
       "       -1.99369881e-02,  5.70174195e-02,  2.38447487e-02,  7.61019737e-02,\n",
       "        7.41999149e-02, -3.48047204e-02,  5.06067537e-02, -5.96945174e-02,\n",
       "       -4.48158048e-02, -5.78560354e-03,  4.42091748e-02,  7.87482038e-03,\n",
       "       -4.79559461e-03,  4.83600982e-03, -1.55209620e-02, -7.51310959e-02,\n",
       "       -1.05945796e-01, -3.54264118e-02,  2.23185383e-02, -3.24855596e-02,\n",
       "       -3.21744345e-02,  3.82875763e-02, -2.04578582e-02, -1.77392662e-02,\n",
       "        3.79887111e-02,  3.28458548e-02,  1.23876883e-02,  2.24874374e-02,\n",
       "       -1.34367077e-02,  6.21320754e-02,  3.72404568e-02, -6.68874104e-03,\n",
       "        3.67735466e-03, -9.49668512e-03, -3.56060229e-02, -7.55754113e-02,\n",
       "       -4.49513085e-02,  1.04868673e-02, -2.77963988e-02, -5.81691414e-03,\n",
       "        1.09702908e-02,  3.71698290e-02, -7.21388729e-03,  3.62987295e-02,\n",
       "        1.86571814e-02,  8.19336697e-02,  3.05392258e-02, -3.56095657e-02,\n",
       "       -2.14124424e-03, -6.08842522e-02, -2.18480285e-02, -6.61843270e-02,\n",
       "       -3.09777521e-02,  3.69666740e-02, -1.01378122e-02, -9.26067471e-04,\n",
       "        3.81529965e-02,  2.69482341e-02,  2.01710761e-02,  1.01310462e-02,\n",
       "       -4.78393072e-03, -3.48389931e-02, -5.10422140e-02,  2.76204534e-02,\n",
       "       -1.94394812e-02, -1.64302383e-02,  1.20316073e-02,  6.61566854e-02,\n",
       "        1.13800457e-02,  1.45029118e-02,  8.61632230e-04, -2.48838179e-02,\n",
       "        1.79127790e-02, -5.65678664e-02, -5.39383572e-03, -5.59739545e-02,\n",
       "        2.26227455e-02, -1.47901429e-02,  4.03148076e-03, -2.99285389e-02,\n",
       "        1.07795289e-02, -1.33362121e-03, -4.64470033e-03,  1.52645605e-02,\n",
       "        4.68411222e-02, -3.49530876e-02, -6.56303018e-03, -1.31794577e-02,\n",
       "       -3.14082913e-02,  2.92960480e-02,  3.97798792e-03, -4.44576470e-03,\n",
       "        3.34889404e-02, -8.58488083e-02,  3.84171940e-02, -1.52381239e-02,\n",
       "       -1.57880671e-02,  1.27900131e-02, -1.17905699e-02, -6.47648945e-02,\n",
       "        5.93265928e-02,  6.99945912e-02, -7.27167204e-02, -1.48023386e-02,\n",
       "       -2.48966292e-02,  4.57645133e-02, -1.04523279e-01,  7.86110759e-02,\n",
       "        4.00422513e-03, -3.01815066e-02,  2.02083625e-02, -2.29557827e-02,\n",
       "        2.35465681e-03, -3.71648967e-02, -4.18114895e-03, -2.69915462e-02,\n",
       "       -1.93546321e-02, -2.36402005e-02,  5.41423894e-02, -3.95585299e-02,\n",
       "        2.04422921e-02,  1.05861118e-02, -2.78541055e-02, -1.98664963e-02,\n",
       "        8.85092001e-03,  3.72019000e-02, -9.35903098e-03, -2.30805017e-02,\n",
       "        1.70120143e-03,  9.47714318e-03, -1.14364000e-02, -9.55969517e-05,\n",
       "       -5.34571074e-02, -2.64819004e-02, -2.32008286e-02,  2.80152522e-02,\n",
       "        5.13766445e-02, -3.68705345e-03, -3.66107784e-02, -6.34969547e-02,\n",
       "       -6.57822413e-04, -2.42278557e-02,  7.08603486e-02, -5.25909141e-02,\n",
       "       -6.41206163e-04,  7.76713639e-02, -3.43641080e-03, -3.29612978e-02,\n",
       "        4.56159189e-02, -2.10665762e-02,  1.00255599e-02,  8.41324311e-03,\n",
       "       -3.35589349e-02,  1.36415465e-02, -9.43340883e-02,  3.50224078e-02,\n",
       "        1.32464040e-02,  1.26901334e-02,  5.59069812e-02,  6.44743070e-03,\n",
       "        1.09991476e-01, -5.12559228e-02,  4.36584018e-02, -7.62556121e-03,\n",
       "        4.21123207e-02,  1.19501809e-02, -4.30541448e-02, -1.58785284e-02,\n",
       "        2.38276809e-03, -4.74682748e-02,  1.12812659e-02, -3.98310181e-03,\n",
       "       -2.21537538e-02, -1.50085092e-02,  2.35768072e-02,  1.45212410e-03,\n",
       "        3.18732932e-02, -4.40722443e-02, -5.89964390e-02, -3.62121612e-02,\n",
       "        3.75674218e-02,  1.19403023e-02, -1.26450527e-02, -2.27236142e-03,\n",
       "        1.43191041e-02, -7.94450641e-02, -2.74644848e-02, -5.36454767e-02,\n",
       "        6.81098667e-04, -3.76128815e-02,  2.13297009e-02, -3.35456841e-02,\n",
       "       -3.14072110e-02, -2.95383018e-02, -1.57989673e-02, -1.81903522e-02,\n",
       "       -6.71758736e-03,  1.01419501e-02,  1.16639724e-02, -5.30722030e-02,\n",
       "        5.67488484e-02,  4.00666147e-02,  5.12767136e-02, -5.12775453e-03,\n",
       "       -2.03453302e-02, -2.01516561e-02,  1.04707927e-02,  5.68711460e-02,\n",
       "        1.76643431e-02, -7.66674202e-05,  4.20488277e-03, -3.49997655e-02,\n",
       "       -1.50640691e-02,  4.32552211e-02, -1.96347944e-02,  1.60859246e-02,\n",
       "       -1.77878719e-02, -7.51816034e-02, -5.34397503e-03,  2.66889838e-04,\n",
       "       -1.02884108e-02,  6.26584841e-03, -7.39169307e-03, -2.83198934e-02,\n",
       "       -5.44757955e-02, -3.58337425e-02, -3.38675715e-02, -2.57923920e-02,\n",
       "        3.73376929e-03,  3.14663686e-02,  4.67512844e-04, -1.36001408e-03,\n",
       "        4.56100621e-04, -2.99414829e-03, -2.10866369e-02, -1.35916388e-02,\n",
       "       -4.27070372e-02,  5.03262244e-02,  5.16425539e-03, -5.07910550e-02,\n",
       "        2.69948840e-02, -2.24535516e-03, -3.59879993e-02,  2.81844176e-02,\n",
       "       -8.09651427e-03,  4.95229568e-03, -7.22579611e-03,  6.46682875e-03,\n",
       "        7.87003040e-02, -8.48272443e-03,  6.02323515e-03,  1.55728394e-02,\n",
       "        5.05475048e-03, -6.10339530e-02, -2.38006469e-03,  3.50331739e-02,\n",
       "       -8.43515620e-02, -1.78717747e-02, -2.65583601e-02,  2.14242376e-02,\n",
       "        1.91977601e-02, -1.35220203e-03,  2.57839169e-02, -3.19123305e-02,\n",
       "        3.30431527e-03, -2.05052570e-02,  4.95949108e-03,  2.41974629e-02,\n",
       "       -4.34614085e-02, -4.33543622e-02,  4.54059169e-02,  5.12214899e-02,\n",
       "       -7.33723398e-03, -1.62202921e-02, -1.18739428e-02, -1.86607968e-02,\n",
       "       -3.08415983e-02,  3.06307916e-02,  2.13705190e-02, -5.95532432e-02,\n",
       "        3.90536971e-02, -4.86228056e-02, -5.56956753e-02,  2.15262230e-02,\n",
       "        4.15468914e-03,  4.81374823e-02, -1.05200452e-03,  5.77406725e-03,\n",
       "       -2.59971358e-02, -9.42091364e-03, -7.48973293e-03, -5.03649935e-02,\n",
       "        7.71041773e-03,  7.18118716e-03,  3.57910395e-02, -7.07462057e-03,\n",
       "       -6.01739474e-02, -5.20052679e-04, -6.67001633e-03, -6.14478588e-02,\n",
       "       -2.57629137e-02,  2.47848276e-02, -3.59235541e-03, -2.67325900e-02,\n",
       "       -3.47136930e-02, -2.29068063e-02, -6.86303005e-02, -2.12122537e-02,\n",
       "        6.25162647e-05, -1.83563586e-02, -4.05488349e-02,  5.33234444e-04,\n",
       "       -3.98512371e-03,  4.69186977e-02, -8.55607633e-03,  2.04507783e-02,\n",
       "       -1.54928127e-02,  2.72447001e-02,  1.82720402e-03,  1.01732863e-02,\n",
       "       -1.35368332e-02, -5.21531887e-02,  6.15808442e-02, -8.18591416e-02,\n",
       "       -5.78565756e-03,  1.49235260e-02,  4.09146622e-02,  2.94570886e-02,\n",
       "       -1.37134399e-02,  2.39726938e-02, -1.34326955e-02,  1.59740802e-02,\n",
       "       -4.25370969e-03,  1.91533230e-02,  1.90668888e-02, -1.11046135e-02,\n",
       "        2.46114582e-02, -2.49180589e-02,  1.48554184e-02,  5.30415494e-03,\n",
       "        5.57394363e-02, -7.13600172e-03,  5.78443222e-02, -2.53268629e-02,\n",
       "        1.22353695e-02, -5.07133491e-02,  1.31696314e-02, -2.97754202e-02,\n",
       "        2.47410662e-03,  1.88789470e-03,  5.20195886e-02, -7.44861457e-03,\n",
       "       -1.93577781e-02, -2.63794828e-02, -1.79876592e-02,  6.95938319e-02,\n",
       "        8.32027383e-03, -9.14485287e-03, -6.98109949e-03, -1.00567332e-03,\n",
       "       -2.78090518e-02, -2.56322566e-02, -5.37820756e-02, -1.81512551e-05,\n",
       "       -4.32469696e-02,  1.09788418e-01,  7.76929734e-03,  4.14891243e-02,\n",
       "       -2.06593163e-02, -4.89514805e-02,  3.63115221e-02, -4.49259430e-02,\n",
       "        4.30872515e-02, -3.64024192e-02, -6.36358559e-03,  3.93604822e-02,\n",
       "        7.73325339e-02, -5.23882136e-02, -1.02022011e-02, -2.18956564e-02,\n",
       "       -1.35248983e-02, -3.96335907e-02,  5.43731451e-02, -2.20564492e-02,\n",
       "       -3.74595523e-02,  4.87900572e-03, -1.30407210e-03, -2.58869864e-03,\n",
       "        6.51027588e-03,  3.64628769e-02,  2.57809348e-02,  5.17886989e-02,\n",
       "        1.47684878e-02, -6.62555033e-03, -7.77473003e-02, -6.46470115e-03,\n",
       "       -5.70847141e-03,  3.55201326e-02, -8.61660317e-02, -1.97891593e-02,\n",
       "       -3.42768505e-02, -1.06377071e-02,  1.57258436e-02, -1.10205039e-02,\n",
       "        6.08060434e-02,  2.31110379e-02,  2.05393862e-02,  3.03702578e-02,\n",
       "       -1.50952274e-02,  4.88900878e-02,  1.74718238e-02,  7.77142867e-02,\n",
       "       -7.15630651e-02, -1.48037020e-02, -2.16119923e-02, -2.55973842e-02,\n",
       "        4.34918143e-02, -3.76871484e-03, -4.03616987e-02,  1.84787735e-02,\n",
       "        6.28863275e-02,  6.92057386e-02, -6.07134774e-04, -3.62815633e-02,\n",
       "        5.66988485e-03, -2.84113083e-03, -2.55654082e-02,  5.87530388e-03,\n",
       "       -9.28571820e-02,  4.74962927e-02,  2.01015454e-02, -2.64210696e-03,\n",
       "        4.01373319e-02,  3.03225685e-02,  2.14569792e-02,  6.66701123e-02,\n",
       "       -3.39920148e-02,  7.31380424e-03,  1.66789424e-02,  7.10286126e-02,\n",
       "       -7.70686120e-02, -6.94253133e-04, -3.87700014e-02,  5.54277794e-03,\n",
       "       -3.88572477e-02,  2.06536017e-02,  8.20461661e-03, -1.01011759e-02,\n",
       "       -1.09071760e-02,  1.27776805e-02, -1.30947120e-02,  4.92424630e-02,\n",
       "        6.42053634e-02,  2.28857063e-02, -2.30940375e-02,  3.94661613e-02,\n",
       "        1.60948839e-02,  3.01251225e-02,  5.12880925e-03,  1.63867939e-02,\n",
       "        6.63431361e-02,  3.39829102e-02,  6.22380078e-02,  3.66475023e-02,\n",
       "        5.23415469e-02,  1.12647526e-02,  9.78741329e-03,  2.19823103e-02,\n",
       "       -1.22772362e-02,  3.41613144e-02, -7.85939395e-03,  1.03938521e-03,\n",
       "       -2.76899859e-02, -1.66979004e-02,  9.26538929e-03, -7.05934837e-02,\n",
       "       -9.26326029e-03, -1.47167873e-03, -3.22120823e-02,  3.12755890e-02,\n",
       "        2.97308359e-02,  1.18913185e-02,  2.44519189e-02,  3.89084872e-03,\n",
       "        3.91863883e-02,  7.57142603e-02,  4.71921973e-02, -1.47158438e-02,\n",
       "       -4.13530655e-02,  1.45446360e-02,  1.17186839e-02, -3.79011333e-02,\n",
       "       -3.20511758e-02, -2.32521375e-03,  7.13222995e-02,  7.54373195e-03,\n",
       "       -1.56473946e-02, -3.37888375e-02, -7.16937799e-03,  2.41513993e-03,\n",
       "       -8.21258686e-03,  7.22257048e-02,  1.12602793e-01,  2.87985516e-04,\n",
       "        6.64890856e-02, -3.39565193e-03, -6.82103029e-03, -3.07559669e-02,\n",
       "       -4.85112332e-02,  1.27170524e-02,  1.63848791e-02,  2.19420735e-02,\n",
       "       -1.78815592e-02, -2.02554353e-02, -1.39296483e-02,  2.05111355e-02,\n",
       "        2.50257310e-02,  2.82179564e-02,  2.75412314e-02, -7.04366527e-03,\n",
       "       -5.81906810e-02,  2.89651509e-02,  2.98996083e-02, -3.70155200e-02,\n",
       "       -2.91220248e-02, -2.77159791e-02,  3.44143286e-02, -2.56978301e-03,\n",
       "       -3.49341705e-02,  4.40318808e-02, -9.19883256e-04,  9.94672906e-03,\n",
       "       -3.41231786e-02, -6.76529706e-02, -5.51939048e-02, -4.37525585e-02,\n",
       "        4.80590202e-03,  6.49257842e-03, -1.47363478e-02, -3.78369354e-02,\n",
       "        3.86298262e-02, -7.78858438e-02, -1.63716692e-02, -3.63144022e-03,\n",
       "       -1.13253994e-02,  1.67936971e-03,  1.15832025e-02,  1.55095840e-02,\n",
       "       -1.28266010e-02,  4.26365472e-02,  9.36342578e-04,  1.92617401e-02,\n",
       "       -2.91011203e-02,  8.16940237e-03, -7.46012777e-02,  1.99285112e-02,\n",
       "       -3.47130857e-02,  2.64552571e-02, -2.97023505e-02, -2.97430009e-02,\n",
       "        1.47240015e-03, -2.80161425e-02,  5.62295392e-02, -1.69704650e-02,\n",
       "        1.98572190e-04,  6.82225525e-02,  8.33551809e-02, -3.91558819e-02,\n",
       "       -2.58987341e-02,  2.33823583e-02, -8.84529785e-04,  5.59427589e-02,\n",
       "       -2.29945965e-02,  7.00002834e-02, -6.12900220e-03,  3.17579061e-02,\n",
       "       -5.50326426e-03, -9.88974888e-03,  1.98946781e-02, -4.48562577e-03,\n",
       "        3.85127217e-02,  2.84994524e-02, -6.35536388e-02, -3.54986824e-02,\n",
       "        2.76968498e-02, -4.39130235e-04,  1.90516710e-02,  8.59160908e-03,\n",
       "        4.15547155e-02, -5.57154715e-02, -2.56444160e-02, -1.54884683e-03,\n",
       "       -3.09674349e-02, -8.99720937e-03,  1.60260741e-02, -9.79616940e-02,\n",
       "        1.14882656e-03,  1.72366053e-02, -1.88201219e-02,  1.59048494e-02,\n",
       "        6.49320940e-03,  8.97737027e-06, -2.16833651e-02, -1.75959431e-02,\n",
       "        1.43173058e-02,  5.44219427e-02,  1.51112303e-02,  1.23082660e-02,\n",
       "       -5.59645593e-02,  3.93309593e-02,  1.12945093e-02, -8.53783358e-03,\n",
       "        1.08680073e-02,  1.30966753e-02, -2.56858822e-02,  2.69520786e-02,\n",
       "       -2.29538362e-02, -3.26629728e-02, -6.38662837e-03, -2.33354652e-03,\n",
       "       -2.12428086e-02,  1.19819213e-02, -2.55586710e-02, -6.16352111e-02,\n",
       "        3.36820148e-02,  1.64062586e-02,  8.75283107e-02,  4.25304286e-03,\n",
       "        4.18634675e-02, -4.73340647e-03, -3.11934557e-02,  3.49538103e-02,\n",
       "        3.81708108e-02,  1.13045704e-02, -2.69414447e-02,  5.62074315e-03,\n",
       "       -7.32773589e-03, -1.36152143e-02,  1.80175677e-02, -2.00696103e-03,\n",
       "       -1.90724060e-03, -6.31630719e-02,  4.20845561e-02,  1.28794461e-02,\n",
       "        1.49316955e-02, -1.57209821e-02, -4.14572656e-02, -6.15040259e-03,\n",
       "       -1.62407830e-02,  7.13132247e-02, -1.76159560e-03,  1.70717891e-02,\n",
       "       -9.23886616e-03,  4.45727520e-02, -1.52397044e-02,  4.88879867e-02,\n",
       "       -6.20665844e-04, -5.40218987e-02,  4.44355570e-02,  2.32900921e-02,\n",
       "        6.54287189e-02, -4.27792072e-02,  9.68905818e-03, -5.97069263e-02,\n",
       "       -8.59747734e-03,  2.32366156e-02,  2.59327088e-02, -2.57647447e-02,\n",
       "        4.22312412e-03, -4.59876545e-02, -9.48916152e-02, -4.80300412e-02,\n",
       "        4.11935039e-02,  1.21782171e-02,  1.34106139e-02, -3.61471213e-02,\n",
       "        5.66141754e-02,  1.27308890e-02,  2.96638571e-02,  2.59965379e-03,\n",
       "        1.93573143e-02,  1.28042912e-02, -2.83600786e-03, -9.92869772e-03,\n",
       "        1.24972528e-02,  5.50008602e-02,  2.05655117e-02,  2.58420911e-02])"
      ]
     },
     "execution_count": 11,
     "metadata": {},
     "output_type": "execute_result"
    }
   ],
   "source": [
    "embeddings[0]"
   ]
  },
  {
   "cell_type": "code",
   "execution_count": 14,
   "id": "de91f7e0-945d-40f7-af35-9f4299a92ce6",
   "metadata": {},
   "outputs": [
    {
     "name": "stdout",
     "output_type": "stream",
     "text": [
      "INFO: [query/query_service.py:112 - query_generate()] Executing query: llm_type=[None], user_id=[epKVwPZeIBz1rrqcDm1B], prompt=[how do I apply for a commercial license], q_engine=[Test LLM Service 2], user_query=[None]\n",
      "INFO: [query/query_service.py:299 - query_search()] Retrieving doc references for q_engine=[Test LLM Service 2], query_prompt=[how do I apply for a commercial license]\n",
      "INFO: [services/embeddings.py:65 - get_embeddings()] generating embeddings with VertexAI-Embedding\n",
      "INFO: [services/embeddings.py:148 - generate_embeddings()] generating embeddings for embedding type VertexAI-Embedding\n",
      "INFO: [config/model_config.py:483 - get_provider_value()] Get provider value:\n",
      "INFO: [config/model_config.py:484 - get_provider_value()] provider_id=Vertex\n",
      "INFO: [config/model_config.py:485 - get_provider_value()] model_id=VertexAI-Embedding\n"
     ]
    },
    {
     "ename": "IndexError",
     "evalue": "list index out of range",
     "output_type": "error",
     "traceback": [
      "\u001b[0;31m---------------------------------------------------------------------------\u001b[0m",
      "\u001b[0;31mIndexError\u001b[0m                                Traceback (most recent call last)",
      "Cell \u001b[0;32mIn[14], line 1\u001b[0m\n\u001b[0;32m----> 1\u001b[0m result \u001b[38;5;241m=\u001b[39m \u001b[38;5;28;01mawait\u001b[39;00m query_generate(user_id, prompt, q_engine)\n",
      "File \u001b[0;32m~/work/ailp/lukmanr-gps-core-solution-services/components/llm_service/notebooks/../src/services/query/query_service.py:126\u001b[0m, in \u001b[0;36mquery_generate\u001b[0;34m(user_id, prompt, q_engine, llm_type, user_query, rank_sentences)\u001b[0m\n\u001b[1;32m    123\u001b[0m     llm_type \u001b[38;5;241m=\u001b[39m DEFAULT_QUERY_CHAT_MODEL\n\u001b[1;32m    125\u001b[0m \u001b[38;5;66;03m# perform retrieval\u001b[39;00m\n\u001b[0;32m--> 126\u001b[0m query_references \u001b[38;5;241m=\u001b[39m \u001b[38;5;28;01mawait\u001b[39;00m retrieve_references(prompt, q_engine, user_id,\n\u001b[1;32m    127\u001b[0m                                              rank_sentences)\n\u001b[1;32m    129\u001b[0m \u001b[38;5;66;03m# Rerank references. Only need to do this if performing integrated search\u001b[39;00m\n\u001b[1;32m    130\u001b[0m \u001b[38;5;66;03m# from multiple child engines.\u001b[39;00m\n\u001b[1;32m    131\u001b[0m \u001b[38;5;28;01mif\u001b[39;00m q_engine\u001b[38;5;241m.\u001b[39mquery_engine_type \u001b[38;5;241m==\u001b[39m QE_TYPE_INTEGRATED_SEARCH \u001b[38;5;129;01mand\u001b[39;00m \\\n\u001b[1;32m    132\u001b[0m     \u001b[38;5;28mlen\u001b[39m(query_references) \u001b[38;5;241m>\u001b[39m \u001b[38;5;241m1\u001b[39m:\n",
      "File \u001b[0;32m~/work/ailp/lukmanr-gps-core-solution-services/components/llm_service/notebooks/../src/services/query/query_service.py:280\u001b[0m, in \u001b[0;36mretrieve_references\u001b[0;34m(prompt, q_engine, user_id, rank_sentences)\u001b[0m\n\u001b[1;32m    276\u001b[0m     query_references \u001b[38;5;241m+\u001b[39m\u001b[38;5;241m=\u001b[39m child_query_references\n\u001b[1;32m    277\u001b[0m \u001b[38;5;28;01melif\u001b[39;00m q_engine\u001b[38;5;241m.\u001b[39mquery_engine_type \u001b[38;5;241m==\u001b[39m QE_TYPE_LLM_SERVICE \u001b[38;5;129;01mor\u001b[39;00m \\\n\u001b[1;32m    278\u001b[0m     \u001b[38;5;129;01mnot\u001b[39;00m q_engine\u001b[38;5;241m.\u001b[39mquery_engine_type:\n\u001b[1;32m    279\u001b[0m   \u001b[38;5;66;03m# default if type is not set to llm service query\u001b[39;00m\n\u001b[0;32m--> 280\u001b[0m   query_references \u001b[38;5;241m=\u001b[39m \u001b[38;5;28;01mawait\u001b[39;00m query_search(q_engine, prompt, rank_sentences)\n\u001b[1;32m    281\u001b[0m \u001b[38;5;28;01mreturn\u001b[39;00m query_references\n",
      "File \u001b[0;32m~/work/ailp/lukmanr-gps-core-solution-services/components/llm_service/notebooks/../src/services/query/query_service.py:304\u001b[0m, in \u001b[0;36mquery_search\u001b[0;34m(q_engine, query_prompt, rank_sentences)\u001b[0m\n\u001b[1;32m    301\u001b[0m \u001b[38;5;66;03m# generate embeddings for prompt\u001b[39;00m\n\u001b[1;32m    302\u001b[0m _, query_embeddings \u001b[38;5;241m=\u001b[39m \\\n\u001b[1;32m    303\u001b[0m     \u001b[38;5;28;01mawait\u001b[39;00m embeddings\u001b[38;5;241m.\u001b[39mget_embeddings([query_prompt], q_engine\u001b[38;5;241m.\u001b[39membedding_type)\n\u001b[0;32m--> 304\u001b[0m query_embedding \u001b[38;5;241m=\u001b[39m \u001b[43mquery_embeddings\u001b[49m\u001b[43m[\u001b[49m\u001b[38;5;241;43m0\u001b[39;49m\u001b[43m]\u001b[49m\n\u001b[1;32m    306\u001b[0m \u001b[38;5;66;03m# retrieve indexes of relevant document chunks from vector store\u001b[39;00m\n\u001b[1;32m    307\u001b[0m qe_vector_store \u001b[38;5;241m=\u001b[39m vector_store_from_query_engine(q_engine)\n",
      "\u001b[0;31mIndexError\u001b[0m: list index out of range"
     ]
    }
   ],
   "source": [
    "result = await query_generate(user_id, prompt, q_engine)"
   ]
  },
  {
   "cell_type": "code",
   "execution_count": null,
   "id": "ea2eeaff-c2da-4d06-b2ee-ea266c6069fc",
   "metadata": {},
   "outputs": [],
   "source": []
  }
 ],
 "metadata": {
  "kernelspec": {
   "display_name": "Python 3 (ipykernel)",
   "language": "python",
   "name": "python3"
  },
  "language_info": {
   "codemirror_mode": {
    "name": "ipython",
    "version": 3
   },
   "file_extension": ".py",
   "mimetype": "text/x-python",
   "name": "python",
   "nbconvert_exporter": "python",
   "pygments_lexer": "ipython3",
   "version": "3.9.13"
  }
 },
 "nbformat": 4,
 "nbformat_minor": 5
}
