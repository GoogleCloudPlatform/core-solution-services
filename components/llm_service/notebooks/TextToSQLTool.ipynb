{
 "cells": [
  {
   "cell_type": "code",
   "execution_count": 1,
   "id": "0e0b8f8e-774e-4d30-893c-c271b8aaf773",
   "metadata": {},
   "outputs": [],
   "source": [
    "import os\n",
    "import sys\n",
    "sys.path.append(\"../../common/src\")\n",
    "#sys.path.append(\"../../tools_service/src\")\n",
    "sys.path.append(\"../src\")\n",
    "os.chdir(\"../src\")"
   ]
  },
  {
   "cell_type": "code",
   "execution_count": 2,
   "id": "1e5bfdd1-1495-4000-9fca-3bd85d5d8862",
   "metadata": {},
   "outputs": [],
   "source": [
    "PROJECT_ID = os.environ[\"PROJECT_ID\"]"
   ]
  },
  {
   "cell_type": "code",
   "execution_count": 3,
   "id": "d1f1a5ed-584c-4f36-a71f-390193e1d0f3",
   "metadata": {},
   "outputs": [
    {
     "name": "stdout",
     "output_type": "stream",
     "text": [
      "INFO: [config/config.py:54 - <module>()] Namespace File not found, setting job namespace as default\n",
      "INFO: [config/config.py:87 - get_environ_flag()] ENABLE_GOOGLE_LLM = True\n",
      "INFO: [config/config.py:87 - get_environ_flag()] ENABLE_GOOGLE_MODEL_GARDEN = True\n",
      "INFO: [config/config.py:87 - get_environ_flag()] ENABLE_LLAMA2CPP_LLM = False\n",
      "INFO: [config/config.py:87 - get_environ_flag()] ENABLE_OPENAI_LLM = True\n",
      "INFO: [config/config.py:87 - get_environ_flag()] ENABLE_COHERE_LLM = True\n",
      "INFO: [config/config.py:87 - get_environ_flag()] ENABLE_TRUSS_LLAMA2 = True\n",
      "INFO: [config/config.py:249 - <module>()] Can't load llm_service_models.json: 404 Secret [projects/877759600672/secrets/llm_service_password_Llama2cpp] not found or has no versions.\n",
      "INFO: [config/config.py:261 - <module>()] LLM types loaded ['OpenAI-GPT3.5', 'OpenAI-GPT4', 'Cohere', 'VertexAI-Text', 'VertexAI-Chat-V1', 'VertexAI-Chat']\n",
      "INFO: [config/config.py:286 - <module>()] Embedding models loaded ['VertexAI-Embedding', 'OpenAI-Embeddings']\n",
      "INFO: [config/vector_store_config.py:38 - <module>()] Default vector store = [matching_engine]\n"
     ]
    }
   ],
   "source": [
    "from common import config \n",
    "from config import (VERTEX_LLM_TYPE_BISON_CHAT,\n",
    "                    VERTEX_LLM_TYPE_BISON_TEXT,\n",
    "                    VERTEX_AI_MODEL_GARDEN_LLAMA2_CHAT,\n",
    "                    OPENAI_LLM_TYPE_GPT3_5,\n",
    "                    OPENAI_LLM_TYPE_GPT4,\n",
    "                    LLM_BACKEND_ROBOT_USERNAME,\n",
    "                    LLM_BACKEND_ROBOT_PASSWORD,\n",
    "                    LANGCHAIN_LLM,\n",
    "                    REGION)\n",
    "from common.utils.token_handler import UserCredentials\n",
    "config.TOOLS_SERVICE_BASE_URL = f\"https://{PROJECT_ID}..cloudpssolutions.com/tools-service/api/v1\"\n",
    "config.auth_client = UserCredentials(LLM_BACKEND_ROBOT_USERNAME,\n",
    "                              LLM_BACKEND_ROBOT_PASSWORD,\n",
    "                              f\"https:/{PROJECT_ID}.cloudpssolutions.com\")"
   ]
  },
  {
   "cell_type": "code",
   "execution_count": 6,
   "id": "0e32c6fc-b85a-4d9d-b65b-eac32426f49b",
   "metadata": {},
   "outputs": [],
   "source": [
    "from common.utils.secrets import get_secret"
   ]
  },
  {
   "cell_type": "code",
   "execution_count": 7,
   "id": "1d844f20-ab62-4c85-9b94-72fea711a0be",
   "metadata": {},
   "outputs": [],
   "source": [
    "OPENAI_API_KEY = get_secret(\"openai-api-key\")"
   ]
  },
  {
   "cell_type": "code",
   "execution_count": 8,
   "id": "3c86b66b-d026-4475-aef0-d5b84afd0eb9",
   "metadata": {},
   "outputs": [],
   "source": [
    "from google.cloud import bigquery\n",
    "from sqlalchemy import *\n",
    "from sqlalchemy.engine import create_engine\n",
    "from sqlalchemy.schema import *\n",
    "from langchain.agents import create_sql_agent\n",
    "from langchain.agents.agent_toolkits import SQLDatabaseToolkit\n",
    "from langchain.sql_database import SQLDatabase\n",
    "from langchain.llms.openai import OpenAI\n",
    "from langchain.agents import AgentExecutor\n",
    "from langchain.chat_models import ChatVertexAI\n",
    "from langchain_experimental.sql import SQLDatabaseChain\n",
    "\n",
    "\n",
    "service_account_file = \"./data/gcp-mira-develop-gce-service-account.json\" # Change to where your service account key file is located\n",
    "\n",
    "dataset = \"fqhc_medical_transactions\"\n",
    "\n",
    "\n",
    "\n",
    "sqlalchemy_url = f'bigquery://{PROJECT_ID}/{dataset}?credentials_path={service_account_file}'"
   ]
  },
  {
   "cell_type": "code",
   "execution_count": 9,
   "id": "ba32e8df-ff48-49e3-a4a9-0936647c8367",
   "metadata": {},
   "outputs": [
    {
     "name": "stderr",
     "output_type": "stream",
     "text": [
      "/Users/sumeetvij/development/mira_v1/lib/python3.9/site-packages/google/cloud/bigquery/client.py:567: UserWarning: Cannot create BigQuery Storage client, the dependency google-cloud-bigquery-storage is not installed.\n",
      "  warnings.warn(\n"
     ]
    }
   ],
   "source": [
    "db = SQLDatabase.from_uri(sqlalchemy_url)"
   ]
  },
  {
   "cell_type": "code",
   "execution_count": 10,
   "id": "1c7c925c-6482-4093-9386-a9d618081fd3",
   "metadata": {},
   "outputs": [],
   "source": [
    "llm =  LANGCHAIN_LLM[OPENAI_LLM_TYPE_GPT4]"
   ]
  },
  {
   "cell_type": "code",
   "execution_count": 11,
   "id": "1daac950-112e-4e6a-9a88-c561e0e43b87",
   "metadata": {},
   "outputs": [],
   "source": [
    "#llm = OpenAI(temperature=0, openai_api_key=OPENAI_API_KEY)\n",
    "toolkit = SQLDatabaseToolkit(db=db, llm=llm)"
   ]
  },
  {
   "cell_type": "code",
   "execution_count": 12,
   "id": "bd2b2ed6-1d4a-47b6-b386-b4af9c8441ac",
   "metadata": {},
   "outputs": [],
   "source": [
    "agent_executor = create_sql_agent(\n",
    "                llm=llm,\n",
    "                toolkit=toolkit,\n",
    "                verbose=True,\n",
    "                top_k=300\n",
    ")"
   ]
  },
  {
   "cell_type": "code",
   "execution_count": 13,
   "id": "67b1cdec-9f62-4657-876d-3d084bb7086b",
   "metadata": {},
   "outputs": [
    {
     "name": "stdout",
     "output_type": "stream",
     "text": [
      "\n",
      "\n",
      "\u001b[1m> Entering new AgentExecutor chain...\u001b[0m\n",
      "\u001b[32;1m\u001b[1;3mAction: sql_db_list_tables\n",
      "Action Input: \"\"\u001b[0m\n",
      "Observation: \u001b[38;5;200m\u001b[1;3mCdtCode, ClaimTransaction, FqhcProvider\u001b[0m\n",
      "Thought:\u001b[32;1m\u001b[1;3mThe tables CdtCode and ClaimTransaction seem relevant to the question. I should check their schemas to understand the structure of the data.\n",
      "Action: sql_db_schema\n",
      "Action Input: CdtCode, ClaimTransaction\u001b[0m\n",
      "Observation: \u001b[33;1m\u001b[1;3m\n",
      "CREATE TABLE `CdtCode` (\n",
      "\t`cdtCodeId` STRING, \n",
      "\t`codeDescription` STRING, \n",
      "\t`medicaidApproved` BOOL\n",
      ")\n",
      "\n",
      "/*\n",
      "3 rows from CdtCode table:\n",
      "cdtCodeId\tcodeDescription\tmedicaidApproved\n",
      "D0145\toral evaluation for a patient under three years of age and counseling with primary caregiver\tFalse\n",
      "D0171\tre-evaluation – post-operative office visit\tFalse\n",
      "D0190\tscreening of a patient\tFalse\n",
      "*/\n",
      "\n",
      "\n",
      "CREATE TABLE `ClaimTransaction` (\n",
      "\t`claimTransactionId` INT64, \n",
      "\t`fqhcProviderId` INT64, \n",
      "\t`cdtCodeId` STRING, \n",
      "\t`userId` INT64, \n",
      "\t`userEmail` STRING, \n",
      "\t`submitDateTime` TIMESTAMP\n",
      ")\n",
      "\n",
      "/*\n",
      "3 rows from ClaimTransaction table:\n",
      "claimTransactionId\tfqhcProviderId\tcdtCodeId\tuserId\tuserEmail\tsubmitDateTime\n",
      "85\t3801892\tD0120\t85\tashovlar2c@purevolume.com\t2022-01-23 03:46:03+00:00\n",
      "377\t3801892\tD0120\t377\tsspurdonag@ucla.edu\t2023-03-28 19:40:08+00:00\n",
      "761\t3801892\tD0120\t761\tacapperl4@scribd.com\t2022-09-09 02:15:01+00:00\n",
      "*/\u001b[0m\n",
      "Thought:\u001b[32;1m\u001b[1;3mThe CdtCode table contains a column named 'medicaidApproved' which seems to be the one I need to check for Medicaid approval. I will write a query to select the CDT codes that are Medicaid approved.\n",
      "Action: sql_db_query_checker\n",
      "Action Input: SELECT cdtCodeId, codeDescription FROM CdtCode WHERE medicaidApproved = True LIMIT 300\u001b[0m\n",
      "Observation: \u001b[36;1m\u001b[1;3mSELECT cdtCodeId, codeDescription FROM CdtCode WHERE medicaidApproved = True LIMIT 300\u001b[0m\n",
      "Thought:\u001b[32;1m\u001b[1;3mThe query syntax is correct. Now I will execute the query to get the results.\n",
      "Action: sql_db_query\n",
      "Action Input: SELECT cdtCodeId, codeDescription FROM CdtCode WHERE medicaidApproved = True LIMIT 300\u001b[0m\n",
      "Observation: \u001b[36;1m\u001b[1;3m[('D0120', 'periodic oral evaluation - established patient'), ('D0140', 'limited oral evaluation - problem focused'), ('D0150', 'comprehensive oral evaluation - new or established patient'), ('D0160', 'detailed and extensive oral evaluation - problem focused, by report'), ('D0170', 're-evaluation - limited, problem focused (established patient; not post-operative visit)'), ('D0180', 'comprehensive periodontal evaluation - new or established patient'), ('D0210', 'intraoral - complete series of radiographic images'), ('D0220', 'intraoral - periapical first radiographic image'), ('D0230', 'intraoral - periapical each additional radiographic image'), ('D0240', 'intraoral - occlusal radiographic image'), ('D0250', 'extra-oral – 2D projection radiographic image created using a stationary radiation source, and detector'), ('D0270', 'bitewing - single radiographic image'), ('D0320', 'temporomandibular joint arthrogram, including injection'), ('D0330', 'panoramic radiographic image'), ('D0340', '2D cephalometric radiographic image – acquisition, measurement and analysis'), ('D0350', '2D oral/facial photographic image obtained intra-orally or extra-orally'), ('D0370', 'maxillofacial ultrasound capture and interpretation'), ('D0380', 'cone beam CT image capture with limited field of view – less than one whole jaw')]\u001b[0m\n",
      "Thought:\u001b[32;1m\u001b[1;3mI now have the results from the query. I will parse these results into a JSON object with the first value as columns that contains the names of all the columns, and the second value as data that contains the result of the SQL query.\n",
      "Final Answer: {\"columns\": [\"cdtCodeId\", \"codeDescription\"], \"data\": [[\"D0120\", \"periodic oral evaluation - established patient\"], [\"D0140\", \"limited oral evaluation - problem focused\"], [\"D0150\", \"comprehensive oral evaluation - new or established patient\"], [\"D0160\", \"detailed and extensive oral evaluation - problem focused, by report\"], [\"D0170\", \"re-evaluation - limited, problem focused (established patient; not post-operative visit)\"], [\"D0180\", \"comprehensive periodontal evaluation - new or established patient\"], [\"D0210\", \"intraoral - complete series of radiographic images\"], [\"D0220\", \"intraoral - periapical first radiographic image\"], [\"D0230\", \"intraoral - periapical each additional radiographic image\"], [\"D0240\", \"intraoral - occlusal radiographic image\"], [\"D0250\", \"extra-oral – 2D projection radiographic image created using a stationary radiation source, and detector\"], [\"D0270\", \"bitewing - single radiographic image\"], [\"D0320\", \"temporomandibular joint arthrogram, including injection\"], [\"D0330\", \"panoramic radiographic image\"], [\"D0340\", \"2D cephalometric radiographic image – acquisition, measurement and analysis\"], [\"D0350\", \"2D oral/facial photographic image obtained intra-orally or extra-orally\"], [\"D0370\", \"maxillofacial ultrasound capture and interpretation\"], [\"D0380\", \"cone beam CT image capture with limited field of view – less than one whole jaw\"]]}\u001b[0m\n",
      "\n",
      "\u001b[1m> Finished chain.\u001b[0m\n"
     ]
    }
   ],
   "source": [
    "# First query\n",
    "returnVal = agent_executor.run(\"Which CDT codes are medicaid approved? Parse the results into a JSON object with the first value as columns that contains the names of all the columns, and the second value as data that contains the result of the SQL query\")"
   ]
  },
  {
   "cell_type": "code",
   "execution_count": 14,
   "id": "ca22966a-518a-454f-8619-aea19855107b",
   "metadata": {},
   "outputs": [
    {
     "data": {
      "text/plain": [
       "'{\"columns\": [\"cdtCodeId\", \"codeDescription\"], \"data\": [[\"D0120\", \"periodic oral evaluation - established patient\"], [\"D0140\", \"limited oral evaluation - problem focused\"], [\"D0150\", \"comprehensive oral evaluation - new or established patient\"], [\"D0160\", \"detailed and extensive oral evaluation - problem focused, by report\"], [\"D0170\", \"re-evaluation - limited, problem focused (established patient; not post-operative visit)\"], [\"D0180\", \"comprehensive periodontal evaluation - new or established patient\"], [\"D0210\", \"intraoral - complete series of radiographic images\"], [\"D0220\", \"intraoral - periapical first radiographic image\"], [\"D0230\", \"intraoral - periapical each additional radiographic image\"], [\"D0240\", \"intraoral - occlusal radiographic image\"], [\"D0250\", \"extra-oral – 2D projection radiographic image created using a stationary radiation source, and detector\"], [\"D0270\", \"bitewing - single radiographic image\"], [\"D0320\", \"temporomandibular joint arthrogram, including injection\"], [\"D0330\", \"panoramic radiographic image\"], [\"D0340\", \"2D cephalometric radiographic image – acquisition, measurement and analysis\"], [\"D0350\", \"2D oral/facial photographic image obtained intra-orally or extra-orally\"], [\"D0370\", \"maxillofacial ultrasound capture and interpretation\"], [\"D0380\", \"cone beam CT image capture with limited field of view – less than one whole jaw\"]]}'"
      ]
     },
     "execution_count": 14,
     "metadata": {},
     "output_type": "execute_result"
    }
   ],
   "source": [
    "returnVal"
   ]
  },
  {
   "cell_type": "code",
   "execution_count": 15,
   "id": "ed489138-7f97-4f01-9281-1bb395ca4b72",
   "metadata": {},
   "outputs": [
    {
     "name": "stdout",
     "output_type": "stream",
     "text": [
      "\n",
      "\n",
      "\u001b[1m> Entering new AgentExecutor chain...\u001b[0m\n",
      "\u001b[32;1m\u001b[1;3mAction: sql_db_list_tables\n",
      "Action Input: \"\"\u001b[0m\n",
      "Observation: \u001b[38;5;200m\u001b[1;3mCdtCode, ClaimTransaction, FqhcProvider\u001b[0m\n",
      "Thought:\u001b[32;1m\u001b[1;3mThe tables CdtCode, ClaimTransaction, and FqhcProvider seem relevant to the question. I should check their schemas to understand their structure and the relationships between them.\n",
      "Action: sql_db_schema\n",
      "Action Input: \"CdtCode, ClaimTransaction, FqhcProvider\"\u001b[0m\n",
      "Observation: \u001b[33;1m\u001b[1;3m\n",
      "CREATE TABLE `CdtCode` (\n",
      "\t`cdtCodeId` STRING, \n",
      "\t`codeDescription` STRING, \n",
      "\t`medicaidApproved` BOOL\n",
      ")\n",
      "\n",
      "/*\n",
      "3 rows from CdtCode table:\n",
      "cdtCodeId\tcodeDescription\tmedicaidApproved\n",
      "D0145\toral evaluation for a patient under three years of age and counseling with primary caregiver\tFalse\n",
      "D0171\tre-evaluation – post-operative office visit\tFalse\n",
      "D0190\tscreening of a patient\tFalse\n",
      "*/\n",
      "\n",
      "\n",
      "CREATE TABLE `ClaimTransaction` (\n",
      "\t`claimTransactionId` INT64, \n",
      "\t`fqhcProviderId` INT64, \n",
      "\t`cdtCodeId` STRING, \n",
      "\t`userId` INT64, \n",
      "\t`userEmail` STRING, \n",
      "\t`submitDateTime` TIMESTAMP\n",
      ")\n",
      "\n",
      "/*\n",
      "3 rows from ClaimTransaction table:\n",
      "claimTransactionId\tfqhcProviderId\tcdtCodeId\tuserId\tuserEmail\tsubmitDateTime\n",
      "85\t3801892\tD0120\t85\tashovlar2c@purevolume.com\t2022-01-23 03:46:03+00:00\n",
      "377\t3801892\tD0120\t377\tsspurdonag@ucla.edu\t2023-03-28 19:40:08+00:00\n",
      "761\t3801892\tD0120\t761\tacapperl4@scribd.com\t2022-09-09 02:15:01+00:00\n",
      "*/\n",
      "\n",
      "\n",
      "CREATE TABLE `FqhcProvider` (\n",
      "\t`fqhcProviderId` INT64, \n",
      "\t`providerName` STRING, \n",
      "\t`providerEmail` STRING, \n",
      "\t`npi` INT64\n",
      ")\n",
      "\n",
      "/*\n",
      "3 rows from FqhcProvider table:\n",
      "fqhcProviderId\tproviderName\tproviderEmail\tnpi\n",
      "5260779\t121ST STREET FAMILY HEALTH CENTER\t5260779@example.com\t1710332911\n",
      "275085\tACCESS SUPPORTS FOR LIVING INC\t275085@example.com\t1528174976\n",
      "244564\tACKERMAN INST FAMILY THERAPY\t244564@example.com\t1467505792\n",
      "*/\u001b[0m\n",
      "Thought:\u001b[32;1m\u001b[1;3mThe ClaimTransaction table has a foreign key to the FqhcProvider table and the CdtCode table. I can join these tables on their respective keys. I can filter for invalid CDT codes by checking where medicaidApproved is False in the CdtCode table. I will write a query to get the FQHC id and names that had a Claim Transaction that used an invalid CDT code and group the results by FQHC ID. I will limit the results to 300 and order by FQHC ID for consistency.\n",
      "Action: sql_db_query_checker\n",
      "Action Input: \"SELECT FqhcProvider.fqhcProviderId, FqhcProvider.providerName FROM FqhcProvider JOIN ClaimTransaction ON FqhcProvider.fqhcProviderId = ClaimTransaction.fqhcProviderId JOIN CdtCode ON ClaimTransaction.cdtCodeId = CdtCode.cdtCodeId WHERE CdtCode.medicaidApproved = False GROUP BY FqhcProvider.fqhcProviderId, FqhcProvider.providerName ORDER BY FqhcProvider.fqhcProviderId LIMIT 300\"\u001b[0m\n",
      "Observation: \u001b[36;1m\u001b[1;3mSELECT FqhcProvider.fqhcProviderId, FqhcProvider.providerName \n",
      "FROM FqhcProvider \n",
      "JOIN ClaimTransaction ON FqhcProvider.fqhcProviderId = ClaimTransaction.fqhcProviderId \n",
      "JOIN CdtCode ON ClaimTransaction.cdtCodeId = CdtCode.cdtCodeId \n",
      "WHERE CdtCode.medicaidApproved = False \n",
      "GROUP BY FqhcProvider.fqhcProviderId, FqhcProvider.providerName \n",
      "ORDER BY FqhcProvider.fqhcProviderId \n",
      "LIMIT 300\u001b[0m\n",
      "Thought:\u001b[32;1m\u001b[1;3mThe query syntax is correct. Now I will execute the query to get the results.\n",
      "Action: sql_db_query\n",
      "Action Input: \"SELECT FqhcProvider.fqhcProviderId, FqhcProvider.providerName FROM FqhcProvider JOIN ClaimTransaction ON FqhcProvider.fqhcProviderId = ClaimTransaction.fqhcProviderId JOIN CdtCode ON ClaimTransaction.cdtCodeId = CdtCode.cdtCodeId WHERE CdtCode.medicaidApproved = False GROUP BY FqhcProvider.fqhcProviderId, FqhcProvider.providerName ORDER BY FqhcProvider.fqhcProviderId LIMIT 300\"\u001b[0m\n",
      "Observation: \u001b[36;1m\u001b[1;3m[(245029, 'ASTOR HOME FOR CHILDREN'), (275085, 'ACCESS SUPPORTS FOR LIVING INC'), (354114, 'ALICE HYDE MEDICAL CENTER'), (384969, 'ANTHONY L JORDAN HEALTH CTR'), (542567, 'ASTOR HOME FOR CHILDREN'), (730483, 'BED STUY FAMILY HLTH CTR'), (740423, 'ALLEGANY REHABILITATION ASSOC'), (1551555, 'AIDS CTR OF QUEENS COUNTY INC'), (1928569, 'AHRC HEALTH CARE INC'), (2977099, 'ALLEGANY REHABILITATION ASSOC INC'), (2994741, 'ALLEGANY REHABILITATION ASSOC'), (2994769, 'ASTOR HOME FOR CHILDREN'), (2996601, 'AIDS CENTER QUEENS COUNTY INC'), (3801892, 'ANTHONY L JORDAN HEALTH CENTER'), (4073630, 'ANTHONY L JORDAN HEALTH CENTER'), (5260779, '121ST STREET FAMILY HEALTH CENTER')]\u001b[0m\n",
      "Thought:\u001b[32;1m\u001b[1;3mI have the results from the query. Now I will parse the results into a JSON object with the first value as columns that contains the names of all the columns, and the second value as data that contains the result of the SQL query.\n",
      "Final Answer: {\"columns\": [\"fqhcProviderId\", \"providerName\"], \"data\": [[245029, \"ASTOR HOME FOR CHILDREN\"], [275085, \"ACCESS SUPPORTS FOR LIVING INC\"], [354114, \"ALICE HYDE MEDICAL CENTER\"], [384969, \"ANTHONY L JORDAN HEALTH CTR\"], [542567, \"ASTOR HOME FOR CHILDREN\"], [730483, \"BED STUY FAMILY HLTH CTR\"], [740423, \"ALLEGANY REHABILITATION ASSOC\"], [1551555, \"AIDS CTR OF QUEENS COUNTY INC\"], [1928569, \"AHRC HEALTH CARE INC\"], [2977099, \"ALLEGANY REHABILITATION ASSOC INC\"], [2994741, \"ALLEGANY REHABILITATION ASSOC\"], [2994769, \"ASTOR HOME FOR CHILDREN\"], [2996601, \"AIDS CENTER QUEENS COUNTY INC\"], [3801892, \"ANTHONY L JORDAN HEALTH CENTER\"], [4073630, \"ANTHONY L JORDAN HEALTH CENTER\"], [5260779, \"121ST STREET FAMILY HEALTH CENTER\"]]}\u001b[0m\n",
      "\n",
      "\u001b[1m> Finished chain.\u001b[0m\n"
     ]
    },
    {
     "data": {
      "text/plain": [
       "'{\"columns\": [\"fqhcProviderId\", \"providerName\"], \"data\": [[245029, \"ASTOR HOME FOR CHILDREN\"], [275085, \"ACCESS SUPPORTS FOR LIVING INC\"], [354114, \"ALICE HYDE MEDICAL CENTER\"], [384969, \"ANTHONY L JORDAN HEALTH CTR\"], [542567, \"ASTOR HOME FOR CHILDREN\"], [730483, \"BED STUY FAMILY HLTH CTR\"], [740423, \"ALLEGANY REHABILITATION ASSOC\"], [1551555, \"AIDS CTR OF QUEENS COUNTY INC\"], [1928569, \"AHRC HEALTH CARE INC\"], [2977099, \"ALLEGANY REHABILITATION ASSOC INC\"], [2994741, \"ALLEGANY REHABILITATION ASSOC\"], [2994769, \"ASTOR HOME FOR CHILDREN\"], [2996601, \"AIDS CENTER QUEENS COUNTY INC\"], [3801892, \"ANTHONY L JORDAN HEALTH CENTER\"], [4073630, \"ANTHONY L JORDAN HEALTH CENTER\"], [5260779, \"121ST STREET FAMILY HEALTH CENTER\"]]}'"
      ]
     },
     "execution_count": 15,
     "metadata": {},
     "output_type": "execute_result"
    }
   ],
   "source": [
    "# Second query\n",
    "agent_executor.run(\"\"\"Provide the FQHC id and names that had a Claim Transaction that used an invalide CDT code. \n",
    "Group the results by FQHC ID. Parse the results into a JSON object with the first value as columns that contains the names of all the columns, and the second value as data that contains the result of the SQL query \"\"\")"
   ]
  },
  {
   "cell_type": "code",
   "execution_count": null,
   "id": "9021accd-e959-4a68-8631-380f1f4c9376",
   "metadata": {},
   "outputs": [],
   "source": [
    "#use just SQLChain\n",
    "db_chain = SQLDatabaseChain.from_llm(llm, db, verbose=True)"
   ]
  },
  {
   "cell_type": "code",
   "execution_count": null,
   "id": "7c0a1a61-f9a6-4486-b7b9-f3f65268aaeb",
   "metadata": {},
   "outputs": [],
   "source": [
    "returnVal =db_chain.run(\"Which CDT codes are medicaid approved? \")"
   ]
  },
  {
   "cell_type": "code",
   "execution_count": null,
   "id": "0f43edcd-8425-4414-87f9-0920f04e9b22",
   "metadata": {},
   "outputs": [],
   "source": [
    "db_chain.run(\"\"\"Provide the FQHC id and names that had a Claim Transaction that used a CDT code that was not Medicaid approved. \n",
    "Group the results by FQHC ID.  \"\"\")"
   ]
  },
  {
   "cell_type": "code",
   "execution_count": null,
   "id": "2bf1e9f5-075f-4b8f-bba5-3a77bae31948",
   "metadata": {},
   "outputs": [],
   "source": [
    "#Use VertexAI"
   ]
  },
  {
   "cell_type": "code",
   "execution_count": null,
   "id": "2d54dad5-b5b5-4fb0-a6af-eae958488d2e",
   "metadata": {},
   "outputs": [],
   "source": [
    "#MODEL_NAME= VERTEX_LLM_TYPE_BISON_TEXT\n",
    "MODEL_NAME = \"codechat-bison\""
   ]
  },
  {
   "cell_type": "code",
   "execution_count": null,
   "id": "9ae41b1e-fb98-4f17-a779-23ac17873597",
   "metadata": {},
   "outputs": [],
   "source": [
    "llm =  LANGCHAIN_LLM[VERTEX_LLM_TYPE_BISON_CHAT]"
   ]
  },
  {
   "cell_type": "code",
   "execution_count": null,
   "id": "0ae70b26-70ab-47d0-91d0-3176b3ff963f",
   "metadata": {},
   "outputs": [],
   "source": [
    "llm = ChatVertexAI(project=PROJECT_ID, \n",
    "                   temperature=0.0, \n",
    "                   max_output_tokens=256)"
   ]
  },
  {
   "cell_type": "code",
   "execution_count": null,
   "id": "3d8bb401-621b-424b-ac01-8b1d2c5a9990",
   "metadata": {},
   "outputs": [],
   "source": [
    "toolkit = SQLDatabaseToolkit(db=db, llm=llm)"
   ]
  },
  {
   "cell_type": "code",
   "execution_count": null,
   "id": "7a6e7bd4-28b6-4a1b-8046-6d877826470f",
   "metadata": {},
   "outputs": [],
   "source": [
    "agent_executor = create_sql_agent(\n",
    "                llm=llm,\n",
    "                toolkit=toolkit,\n",
    "                verbose=True,\n",
    "                top_k=300\n",
    ")"
   ]
  },
  {
   "cell_type": "code",
   "execution_count": null,
   "id": "fb8bea31-007d-4361-84b6-e075503cbc23",
   "metadata": {},
   "outputs": [],
   "source": [
    "agent_executor.run(\"Which CDT codes are medicaid approved? \")\n"
   ]
  },
  {
   "cell_type": "code",
   "execution_count": null,
   "id": "38942f43-00f8-43c6-bb04-ea40d2205c6c",
   "metadata": {},
   "outputs": [],
   "source": []
  }
 ],
 "metadata": {
  "kernelspec": {
   "display_name": "Python 3 (ipykernel)",
   "language": "python",
   "name": "python3"
  },
  "language_info": {
   "codemirror_mode": {
    "name": "ipython",
    "version": 3
   },
   "file_extension": ".py",
   "mimetype": "text/x-python",
   "name": "python",
   "nbconvert_exporter": "python",
   "pygments_lexer": "ipython3",
   "version": "3.9.6"
  }
 },
 "nbformat": 4,
 "nbformat_minor": 5
}
