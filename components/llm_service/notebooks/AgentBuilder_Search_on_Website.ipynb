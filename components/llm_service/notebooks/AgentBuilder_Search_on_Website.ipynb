{
 "cells": [
  {
   "cell_type": "markdown",
   "id": "ca7befdb-3c2d-418d-af3a-acfc2ad3c404",
   "metadata": {},
   "source": [
    "[![Open In Colab](https://colab.research.google.com/assets/colab-badge.svg)](https://colab.research.google.com/github/GoogleCloudPlatform/core-solution-services/blob/main/components/llm_service/notebooks/AgentBuilder_Search_on_Website.ipynb)"
   ]
  },
  {
   "cell_type": "markdown",
   "id": "111a743a-3c1a-4e87-a095-176f6336c51f",
   "metadata": {},
   "source": [
    "## Set up environment variables\n",
    "Set PROJECT_ID to your project."
   ]
  },
  {
   "cell_type": "code",
   "execution_count": null,
   "id": "75bda2b0-da60-47ea-8430-175cf09a5c55",
   "metadata": {},
   "outputs": [],
   "source": [
    "import sys\n",
    "import os\n",
    "PROJECT_ID = \"your-project\"\n",
    "os.environ[\"PROJECT_ID\"] = PROJECT_ID"
   ]
  },
  {
   "cell_type": "markdown",
   "id": "7939a097-fdef-4abc-97af-0bdbdb3255d0",
   "metadata": {},
   "source": [
    "## Clone GENIE repository"
   ]
  },
  {
   "cell_type": "code",
   "execution_count": null,
   "id": "431fab4e-d65b-4a21-beec-c75327ad32a4",
   "metadata": {},
   "outputs": [],
   "source": [
    "!git clone https://github.com/GoogleCloudPlatform/core-solution-services\n",
    "!cd core-solution-services/components/llm_service"
   ]
  },
  {
   "cell_type": "markdown",
   "id": "2637852f-b21e-498a-bc9e-fc07277ef6d1",
   "metadata": {},
   "source": [
    "## Import GENIE code"
   ]
  },
  {
   "cell_type": "code",
   "execution_count": null,
   "id": "7e283e4f-4f19-4326-a722-14215919085b",
   "metadata": {},
   "outputs": [],
   "source": [
    "sys.path.append(\"../common/src\")\n",
    "sys.path.append(\"src\")\n",
    "from common.models import QueryEngine\n",
    "from services.query.web_datasource import WebDataSource"
   ]
  },
  {
   "cell_type": "markdown",
   "id": "125a206f-6342-4d9d-a1bd-325f9f608ef6",
   "metadata": {},
   "source": [
    "## Set web source url and create GENIE query engine\n",
    "Set `depth_limit` to the depth which you want to crawler to follow links in the site.  `depth_limit = 0` means only crawl the page pointed to in the URL, `depth_limit = 1` means crawl each link present in the page pointed to by the URL, `depth_limit = 2` means crawl each link in the pages linked to from the first page, etc."
   ]
  },
  {
   "cell_type": "code",
   "execution_count": null,
   "id": "8e20d1bf-83ab-4a04-a0ec-a59ead442bc8",
   "metadata": {},
   "outputs": [],
   "source": [
    "data_url = \"https://dmv.nv.gov/\"\n",
    "depth_limit = 1\n",
    "q_engine = QueryEngine(name=\"test web download\", doc_url=data_url, params={\"depth_limit\":depth_limit})"
   ]
  },
  {
   "cell_type": "markdown",
   "id": "99673690-32ad-4057-81f6-c5434737abd4",
   "metadata": {},
   "source": [
    "## Download files to bucket\n",
    "\n",
    "Files will be downloaded to `gs://$PROJECT_ID-downloads-{query engine name}`\n",
    "\n",
    "HTML files with the extension `.htm` will be renamed to `.html` in the bucket.  This is for convenience when building Vertex Search data sources."
   ]
  },
  {
   "cell_type": "code",
   "execution_count": null,
   "id": "8999a915-1308-4d0e-892c-334cb530019f",
   "metadata": {},
   "outputs": [],
   "source": [
    "import tempfile\n",
    "from google.cloud import storage\n",
    "\n",
    "storage_client = storage.Client(project=PROJECT_ID)\n",
    "bucket_name = WebDataSource.downloads_bucket_name(q_engine)\n",
    "web_datasource = WebDataSource(storage_client, bucket_name=bucket_name, depth_limit=depth_limit)\n",
    "with tempfile.TemporaryDirectory() as temp_dir:\n",
    "    data_source_files = web_datasource.download_documents(data_url, temp_dir)\n",
    "\n",
    "print(f\"Downloaded {len(data_source_files)} files to gs://{bucket_name}\")"
   ]
  },
  {
   "cell_type": "markdown",
   "id": "26dd68a5-46f0-4e23-bac9-e6822ca57d7c",
   "metadata": {},
   "source": [
    "## Build Vertex Agent Builder app and data source\n",
    "\n",
    "You can do this in the console too.  Make sure you have enabled Vertex Agent Builder in your project:\n",
    "\n",
    "https://console.cloud.google.com/gen-app-builder?project=$PROJECT_ID"
   ]
  },
  {
   "cell_type": "code",
   "execution_count": null,
   "id": "97ef0820-9cf7-4bd5-b4ed-d95808a4cb2b",
   "metadata": {},
   "outputs": [],
   "source": [
    "from services.query.vertex_search import build_vertex_search\n",
    "q_engine.save()\n",
    "build_vertex_search(q_engine)"
   ]
  }
 ],
 "metadata": {
  "kernelspec": {
   "display_name": "Python 3 (ipykernel)",
   "language": "python",
   "name": "python3"
  },
  "language_info": {
   "codemirror_mode": {
    "name": "ipython",
    "version": 3
   },
   "file_extension": ".py",
   "mimetype": "text/x-python",
   "name": "python",
   "nbconvert_exporter": "python",
   "pygments_lexer": "ipython3",
   "version": "3.9.13"
  }
 },
 "nbformat": 4,
 "nbformat_minor": 5
}
