{
 "cells": [
  {
   "cell_type": "markdown",
   "id": "111a743a-3c1a-4e87-a095-176f6336c51f",
   "metadata": {},
   "source": [
    "## Set up environment variables\n",
    "Set PROJECT_ID to your project."
   ]
  },
  {
   "cell_type": "code",
   "execution_count": 1,
   "id": "75bda2b0-da60-47ea-8430-175cf09a5c55",
   "metadata": {},
   "outputs": [],
   "source": [
    "import sys\n",
    "import os\n",
    "PROJECT_ID = \"genie-ui-dev\"\n",
    "os.environ[\"PROJECT_ID\"] = PROJECT_ID"
   ]
  },
  {
   "cell_type": "markdown",
   "id": "7939a097-fdef-4abc-97af-0bdbdb3255d0",
   "metadata": {},
   "source": [
    "## Clone GENIE repository"
   ]
  },
  {
   "cell_type": "code",
   "execution_count": 2,
   "id": "431fab4e-d65b-4a21-beec-c75327ad32a4",
   "metadata": {},
   "outputs": [],
   "source": [
    "#!git clone https://github.com/GoogleCloudPlatform/core-solution-services\n",
    "#!cd core-solution-services/components/llm_service/notebooks"
   ]
  },
  {
   "cell_type": "markdown",
   "id": "2637852f-b21e-498a-bc9e-fc07277ef6d1",
   "metadata": {},
   "source": [
    "## Import GENIE code"
   ]
  },
  {
   "cell_type": "code",
   "execution_count": 3,
   "id": "7e283e4f-4f19-4326-a722-14215919085b",
   "metadata": {},
   "outputs": [
    {
     "name": "stdout",
     "output_type": "stream",
     "text": [
      "INFO: [config/config.py:57 - <module>()] Namespace File not found, setting job namespace as default\n"
     ]
    },
    {
     "name": "stderr",
     "output_type": "stream",
     "text": [
      "/Users/lramsey/work/ailp/lukmanr-gps-core-solution-services/components/llm_service/notebooks/.venv/lib/python3.9/site-packages/langchain_community/llms/__init__.py:173: LangChainDeprecationWarning: `` was deprecated in LangChain 0.0.22 and will be removed in 0.2. An updated version of the  exists in the langchain-community package and should be used instead. To use it run `pip install -U langchain-community` and import as `from langchain_community.chat_models import ChatDatabricks`.\n",
      "  warn_deprecated(\n",
      "/Users/lramsey/work/ailp/lukmanr-gps-core-solution-services/components/llm_service/notebooks/.venv/lib/python3.9/site-packages/langchain_community/llms/__init__.py:343: LangChainDeprecationWarning: `` was deprecated in LangChain 0.0.22 and will be removed in 0.2. An updated version of the  exists in the langchain-community package and should be used instead. To use it run `pip install -U langchain-community` and import as `from langchain_community.chat_models import ChatMlflow`.\n",
      "  warn_deprecated(\n",
      "/Users/lramsey/work/ailp/lukmanr-gps-core-solution-services/components/llm_service/notebooks/.venv/lib/python3.9/site-packages/langchain_community/llms/__init__.py:173: LangChainDeprecationWarning: `` was deprecated in LangChain 0.0.22 and will be removed in 0.2. An updated version of the  exists in the langchain-community package and should be used instead. To use it run `pip install -U langchain-community` and import as `from langchain_community.chat_models import ChatDatabricks`.\n",
      "  warn_deprecated(\n",
      "/Users/lramsey/work/ailp/lukmanr-gps-core-solution-services/components/llm_service/notebooks/.venv/lib/python3.9/site-packages/langchain_community/llms/__init__.py:343: LangChainDeprecationWarning: `` was deprecated in LangChain 0.0.22 and will be removed in 0.2. An updated version of the  exists in the langchain-community package and should be used instead. To use it run `pip install -U langchain-community` and import as `from langchain_community.chat_models import ChatMlflow`.\n",
      "  warn_deprecated(\n",
      "/Users/lramsey/work/ailp/lukmanr-gps-core-solution-services/components/llm_service/notebooks/.venv/lib/python3.9/site-packages/langchain_community/llms/__init__.py:173: LangChainDeprecationWarning: `` was deprecated in LangChain 0.0.22 and will be removed in 0.2. An updated version of the  exists in the langchain-community package and should be used instead. To use it run `pip install -U langchain-community` and import as `from langchain_community.chat_models import ChatDatabricks`.\n",
      "  warn_deprecated(\n",
      "/Users/lramsey/work/ailp/lukmanr-gps-core-solution-services/components/llm_service/notebooks/.venv/lib/python3.9/site-packages/langchain_community/llms/__init__.py:343: LangChainDeprecationWarning: `` was deprecated in LangChain 0.0.22 and will be removed in 0.2. An updated version of the  exists in the langchain-community package and should be used instead. To use it run `pip install -U langchain-community` and import as `from langchain_community.chat_models import ChatMlflow`.\n",
      "  warn_deprecated(\n",
      "/Users/lramsey/work/ailp/lukmanr-gps-core-solution-services/components/llm_service/notebooks/.venv/lib/python3.9/site-packages/langchain_community/llms/__init__.py:173: LangChainDeprecationWarning: `` was deprecated in LangChain 0.0.22 and will be removed in 0.2. An updated version of the  exists in the langchain-community package and should be used instead. To use it run `pip install -U langchain-community` and import as `from langchain_community.chat_models import ChatDatabricks`.\n",
      "  warn_deprecated(\n",
      "/Users/lramsey/work/ailp/lukmanr-gps-core-solution-services/components/llm_service/notebooks/.venv/lib/python3.9/site-packages/langchain_community/llms/__init__.py:343: LangChainDeprecationWarning: `` was deprecated in LangChain 0.0.22 and will be removed in 0.2. An updated version of the  exists in the langchain-community package and should be used instead. To use it run `pip install -U langchain-community` and import as `from langchain_community.chat_models import ChatMlflow`.\n",
      "  warn_deprecated(\n",
      "/Users/lramsey/work/ailp/lukmanr-gps-core-solution-services/components/llm_service/notebooks/.venv/lib/python3.9/site-packages/langchain_community/llms/__init__.py:173: LangChainDeprecationWarning: `` was deprecated in LangChain 0.0.22 and will be removed in 0.2. An updated version of the  exists in the langchain-community package and should be used instead. To use it run `pip install -U langchain-community` and import as `from langchain_community.chat_models import ChatDatabricks`.\n",
      "  warn_deprecated(\n",
      "/Users/lramsey/work/ailp/lukmanr-gps-core-solution-services/components/llm_service/notebooks/.venv/lib/python3.9/site-packages/langchain_community/llms/__init__.py:343: LangChainDeprecationWarning: `` was deprecated in LangChain 0.0.22 and will be removed in 0.2. An updated version of the  exists in the langchain-community package and should be used instead. To use it run `pip install -U langchain-community` and import as `from langchain_community.chat_models import ChatMlflow`.\n",
      "  warn_deprecated(\n",
      "/Users/lramsey/work/ailp/lukmanr-gps-core-solution-services/components/llm_service/notebooks/.venv/lib/python3.9/site-packages/langchain_community/llms/__init__.py:173: LangChainDeprecationWarning: `` was deprecated in LangChain 0.0.22 and will be removed in 0.2. An updated version of the  exists in the langchain-community package and should be used instead. To use it run `pip install -U langchain-community` and import as `from langchain_community.chat_models import ChatDatabricks`.\n",
      "  warn_deprecated(\n",
      "/Users/lramsey/work/ailp/lukmanr-gps-core-solution-services/components/llm_service/notebooks/.venv/lib/python3.9/site-packages/langchain_community/llms/__init__.py:343: LangChainDeprecationWarning: `` was deprecated in LangChain 0.0.22 and will be removed in 0.2. An updated version of the  exists in the langchain-community package and should be used instead. To use it run `pip install -U langchain-community` and import as `from langchain_community.chat_models import ChatMlflow`.\n",
      "  warn_deprecated(\n",
      "/Users/lramsey/work/ailp/lukmanr-gps-core-solution-services/components/llm_service/notebooks/.venv/lib/python3.9/site-packages/langchain_community/llms/__init__.py:173: LangChainDeprecationWarning: `` was deprecated in LangChain 0.0.22 and will be removed in 0.2. An updated version of the  exists in the langchain-community package and should be used instead. To use it run `pip install -U langchain-community` and import as `from langchain_community.chat_models import ChatDatabricks`.\n",
      "  warn_deprecated(\n",
      "/Users/lramsey/work/ailp/lukmanr-gps-core-solution-services/components/llm_service/notebooks/.venv/lib/python3.9/site-packages/langchain_community/llms/__init__.py:343: LangChainDeprecationWarning: `` was deprecated in LangChain 0.0.22 and will be removed in 0.2. An updated version of the  exists in the langchain-community package and should be used instead. To use it run `pip install -U langchain-community` and import as `from langchain_community.chat_models import ChatMlflow`.\n",
      "  warn_deprecated(\n",
      "/Users/lramsey/work/ailp/lukmanr-gps-core-solution-services/components/llm_service/notebooks/.venv/lib/python3.9/site-packages/langchain_core/_api/deprecation.py:119: LangChainDeprecationWarning: The class `ChatCohere` was deprecated in LangChain 0.0.30 and will be removed in 0.2.0. An updated version of the class exists in the langchain-cohere package and should be used instead. To use it run `pip install -U langchain-cohere` and import as `from langchain_cohere import ChatCohere`.\n",
      "  warn_deprecated(\n",
      "/Users/lramsey/work/ailp/lukmanr-gps-core-solution-services/components/llm_service/notebooks/.venv/lib/python3.9/site-packages/langchain_community/llms/__init__.py:173: LangChainDeprecationWarning: `` was deprecated in LangChain 0.0.22 and will be removed in 0.2. An updated version of the  exists in the langchain-community package and should be used instead. To use it run `pip install -U langchain-community` and import as `from langchain_community.chat_models import ChatDatabricks`.\n",
      "  warn_deprecated(\n",
      "/Users/lramsey/work/ailp/lukmanr-gps-core-solution-services/components/llm_service/notebooks/.venv/lib/python3.9/site-packages/langchain_community/llms/__init__.py:343: LangChainDeprecationWarning: `` was deprecated in LangChain 0.0.22 and will be removed in 0.2. An updated version of the  exists in the langchain-community package and should be used instead. To use it run `pip install -U langchain-community` and import as `from langchain_community.chat_models import ChatMlflow`.\n",
      "  warn_deprecated(\n"
     ]
    },
    {
     "name": "stdout",
     "output_type": "stream",
     "text": [
      "INFO: [config/config.py:107 - <module>()] ENABLE_GOOGLE_LLM = True\n",
      "INFO: [config/config.py:108 - <module>()] ENABLE_OPENAI_LLM = True\n",
      "INFO: [config/config.py:109 - <module>()] ENABLE_COHERE_LLM = True\n",
      "INFO: [config/config.py:110 - <module>()] ENABLE_GOOGLE_MODEL_GARDEN = True\n",
      "INFO: [config/config.py:111 - <module>()] ENABLE_TRUSS_LLAMA2 = False\n",
      "INFO: [config/vector_store_config.py:40 - <module>()] Default vector store = [matching_engine]\n",
      "INFO: [config/vector_store_config.py:49 - <module>()] PG_HOST = [127.0.0.1]\n",
      "INFO: [config/vector_store_config.py:50 - <module>()] PG_DBNAME = [pgvector]\n",
      "ERROR: [config/vector_store_config.py:77 - <module>()] Cannot connect to pgvector instance at 127.0.0.1: (psycopg2.OperationalError) connection to server at \"127.0.0.1\", port 5432 failed: Connection refused\n",
      "\tIs the server running on that host and accepting TCP/IP connections?\n",
      "\n",
      "(Background on this error at: https://sqlalche.me/e/20/e3q8)\n",
      "INFO: [config/onedrive_config.py:30 - <module>()] ONEDRIVE_CLIENT_ID = [None]\n",
      "INFO: [config/onedrive_config.py:31 - <module>()] ONEDRIVE_TENANT_ID = [None]\n",
      "WARNING: [config/onedrive_config.py:42 - <module>()] Can't access onedrive client secret\n",
      "WARNING: [config/onedrive_config.py:48 - <module>()] Can't access onedrive principle name\n",
      "INFO: [utils/text_helper.py:43 - <module>()] using default spacy model\n"
     ]
    }
   ],
   "source": [
    "sys.path.append(\"../../common/src\")\n",
    "sys.path.append(\"../src\")\n",
    "from common.models import QueryEngine\n",
    "from services.query.web_datasource import WebDataSource\n",
    "from services.query.vertex_search import build_vertex_search"
   ]
  },
  {
   "cell_type": "markdown",
   "id": "125a206f-6342-4d9d-a1bd-325f9f608ef6",
   "metadata": {},
   "source": [
    "## Set web source url and create GENIE query engine\n",
    "Set `depth_limit` to the depth which you want to crawler to follow links in the site.  `depth_limit = 0` means only crawl the page pointed to in the URL, `depth_limit = 1` means crawl each link present in the page pointed to by the URL, `depth_limit = 2` means crawl each link in the pages linked to from the first page, etc."
   ]
  },
  {
   "cell_type": "code",
   "execution_count": 4,
   "id": "8e20d1bf-83ab-4a04-a0ec-a59ead442bc8",
   "metadata": {},
   "outputs": [],
   "source": [
    "data_url = \"https://dmv.nv.gov/\"\n",
    "depth_limit = 1\n",
    "q_engine = QueryEngine(name=\"test web download\", doc_url=data_url, params={\"depth_limit\":depth_limit})"
   ]
  },
  {
   "cell_type": "markdown",
   "id": "c4668101-b563-41bd-85b3-0bd9b722ed3c",
   "metadata": {},
   "source": [
    "## Download files to bucket"
   ]
  },
  {
   "cell_type": "code",
   "execution_count": 6,
   "id": "8999a915-1308-4d0e-892c-334cb530019f",
   "metadata": {},
   "outputs": [
    {
     "name": "stdout",
     "output_type": "stream",
     "text": [
      "INFO: [utils/gcs_helper.py:54 - create_bucket()] Bucket genie-ui-dev-downloads-test-web-download already exists.\n",
      "INFO: [utils/gcs_helper.py:30 - clear_bucket()] Deleting all objects from GCS bucket genie-ui-dev-downloads-test-web-download\n",
      "INFO: [utils/gcs_helper.py:37 - clear_bucket()] 39 files deleted\n",
      "INFO: [config/config.py:57 - <module>()] Namespace File not found, setting job namespace as default\n"
     ]
    },
    {
     "name": "stderr",
     "output_type": "stream",
     "text": [
      "/Users/lramsey/work/ailp/lukmanr-gps-core-solution-services/components/llm_service/notebooks/.venv/lib/python3.9/site-packages/langchain_community/llms/__init__.py:173: LangChainDeprecationWarning: `` was deprecated in LangChain 0.0.22 and will be removed in 0.2. An updated version of the  exists in the langchain-community package and should be used instead. To use it run `pip install -U langchain-community` and import as `from langchain_community.chat_models import ChatDatabricks`.\n",
      "  warn_deprecated(\n",
      "/Users/lramsey/work/ailp/lukmanr-gps-core-solution-services/components/llm_service/notebooks/.venv/lib/python3.9/site-packages/langchain_community/llms/__init__.py:343: LangChainDeprecationWarning: `` was deprecated in LangChain 0.0.22 and will be removed in 0.2. An updated version of the  exists in the langchain-community package and should be used instead. To use it run `pip install -U langchain-community` and import as `from langchain_community.chat_models import ChatMlflow`.\n",
      "  warn_deprecated(\n",
      "/Users/lramsey/work/ailp/lukmanr-gps-core-solution-services/components/llm_service/notebooks/.venv/lib/python3.9/site-packages/langchain_community/llms/__init__.py:173: LangChainDeprecationWarning: `` was deprecated in LangChain 0.0.22 and will be removed in 0.2. An updated version of the  exists in the langchain-community package and should be used instead. To use it run `pip install -U langchain-community` and import as `from langchain_community.chat_models import ChatDatabricks`.\n",
      "  warn_deprecated(\n",
      "/Users/lramsey/work/ailp/lukmanr-gps-core-solution-services/components/llm_service/notebooks/.venv/lib/python3.9/site-packages/langchain_community/llms/__init__.py:343: LangChainDeprecationWarning: `` was deprecated in LangChain 0.0.22 and will be removed in 0.2. An updated version of the  exists in the langchain-community package and should be used instead. To use it run `pip install -U langchain-community` and import as `from langchain_community.chat_models import ChatMlflow`.\n",
      "  warn_deprecated(\n",
      "/Users/lramsey/work/ailp/lukmanr-gps-core-solution-services/components/llm_service/notebooks/.venv/lib/python3.9/site-packages/langchain_community/llms/__init__.py:173: LangChainDeprecationWarning: `` was deprecated in LangChain 0.0.22 and will be removed in 0.2. An updated version of the  exists in the langchain-community package and should be used instead. To use it run `pip install -U langchain-community` and import as `from langchain_community.chat_models import ChatDatabricks`.\n",
      "  warn_deprecated(\n",
      "/Users/lramsey/work/ailp/lukmanr-gps-core-solution-services/components/llm_service/notebooks/.venv/lib/python3.9/site-packages/langchain_community/llms/__init__.py:343: LangChainDeprecationWarning: `` was deprecated in LangChain 0.0.22 and will be removed in 0.2. An updated version of the  exists in the langchain-community package and should be used instead. To use it run `pip install -U langchain-community` and import as `from langchain_community.chat_models import ChatMlflow`.\n",
      "  warn_deprecated(\n",
      "/Users/lramsey/work/ailp/lukmanr-gps-core-solution-services/components/llm_service/notebooks/.venv/lib/python3.9/site-packages/langchain_community/llms/__init__.py:173: LangChainDeprecationWarning: `` was deprecated in LangChain 0.0.22 and will be removed in 0.2. An updated version of the  exists in the langchain-community package and should be used instead. To use it run `pip install -U langchain-community` and import as `from langchain_community.chat_models import ChatDatabricks`.\n",
      "  warn_deprecated(\n",
      "/Users/lramsey/work/ailp/lukmanr-gps-core-solution-services/components/llm_service/notebooks/.venv/lib/python3.9/site-packages/langchain_community/llms/__init__.py:343: LangChainDeprecationWarning: `` was deprecated in LangChain 0.0.22 and will be removed in 0.2. An updated version of the  exists in the langchain-community package and should be used instead. To use it run `pip install -U langchain-community` and import as `from langchain_community.chat_models import ChatMlflow`.\n",
      "  warn_deprecated(\n",
      "/Users/lramsey/work/ailp/lukmanr-gps-core-solution-services/components/llm_service/notebooks/.venv/lib/python3.9/site-packages/langchain_community/llms/__init__.py:173: LangChainDeprecationWarning: `` was deprecated in LangChain 0.0.22 and will be removed in 0.2. An updated version of the  exists in the langchain-community package and should be used instead. To use it run `pip install -U langchain-community` and import as `from langchain_community.chat_models import ChatDatabricks`.\n",
      "  warn_deprecated(\n",
      "/Users/lramsey/work/ailp/lukmanr-gps-core-solution-services/components/llm_service/notebooks/.venv/lib/python3.9/site-packages/langchain_community/llms/__init__.py:343: LangChainDeprecationWarning: `` was deprecated in LangChain 0.0.22 and will be removed in 0.2. An updated version of the  exists in the langchain-community package and should be used instead. To use it run `pip install -U langchain-community` and import as `from langchain_community.chat_models import ChatMlflow`.\n",
      "  warn_deprecated(\n",
      "/Users/lramsey/work/ailp/lukmanr-gps-core-solution-services/components/llm_service/notebooks/.venv/lib/python3.9/site-packages/langchain_community/llms/__init__.py:173: LangChainDeprecationWarning: `` was deprecated in LangChain 0.0.22 and will be removed in 0.2. An updated version of the  exists in the langchain-community package and should be used instead. To use it run `pip install -U langchain-community` and import as `from langchain_community.chat_models import ChatDatabricks`.\n",
      "  warn_deprecated(\n",
      "/Users/lramsey/work/ailp/lukmanr-gps-core-solution-services/components/llm_service/notebooks/.venv/lib/python3.9/site-packages/langchain_community/llms/__init__.py:343: LangChainDeprecationWarning: `` was deprecated in LangChain 0.0.22 and will be removed in 0.2. An updated version of the  exists in the langchain-community package and should be used instead. To use it run `pip install -U langchain-community` and import as `from langchain_community.chat_models import ChatMlflow`.\n",
      "  warn_deprecated(\n",
      "/Users/lramsey/work/ailp/lukmanr-gps-core-solution-services/components/llm_service/notebooks/.venv/lib/python3.9/site-packages/langchain_community/llms/__init__.py:173: LangChainDeprecationWarning: `` was deprecated in LangChain 0.0.22 and will be removed in 0.2. An updated version of the  exists in the langchain-community package and should be used instead. To use it run `pip install -U langchain-community` and import as `from langchain_community.chat_models import ChatDatabricks`.\n",
      "  warn_deprecated(\n",
      "/Users/lramsey/work/ailp/lukmanr-gps-core-solution-services/components/llm_service/notebooks/.venv/lib/python3.9/site-packages/langchain_community/llms/__init__.py:343: LangChainDeprecationWarning: `` was deprecated in LangChain 0.0.22 and will be removed in 0.2. An updated version of the  exists in the langchain-community package and should be used instead. To use it run `pip install -U langchain-community` and import as `from langchain_community.chat_models import ChatMlflow`.\n",
      "  warn_deprecated(\n",
      "/Users/lramsey/work/ailp/lukmanr-gps-core-solution-services/components/llm_service/notebooks/.venv/lib/python3.9/site-packages/langchain_core/_api/deprecation.py:119: LangChainDeprecationWarning: The class `ChatCohere` was deprecated in LangChain 0.0.30 and will be removed in 0.2.0. An updated version of the class exists in the langchain-cohere package and should be used instead. To use it run `pip install -U langchain-cohere` and import as `from langchain_cohere import ChatCohere`.\n",
      "  warn_deprecated(\n",
      "/Users/lramsey/work/ailp/lukmanr-gps-core-solution-services/components/llm_service/notebooks/.venv/lib/python3.9/site-packages/langchain_community/llms/__init__.py:173: LangChainDeprecationWarning: `` was deprecated in LangChain 0.0.22 and will be removed in 0.2. An updated version of the  exists in the langchain-community package and should be used instead. To use it run `pip install -U langchain-community` and import as `from langchain_community.chat_models import ChatDatabricks`.\n",
      "  warn_deprecated(\n",
      "/Users/lramsey/work/ailp/lukmanr-gps-core-solution-services/components/llm_service/notebooks/.venv/lib/python3.9/site-packages/langchain_community/llms/__init__.py:343: LangChainDeprecationWarning: `` was deprecated in LangChain 0.0.22 and will be removed in 0.2. An updated version of the  exists in the langchain-community package and should be used instead. To use it run `pip install -U langchain-community` and import as `from langchain_community.chat_models import ChatMlflow`.\n",
      "  warn_deprecated(\n"
     ]
    },
    {
     "name": "stdout",
     "output_type": "stream",
     "text": [
      "INFO: [config/config.py:107 - <module>()] ENABLE_GOOGLE_LLM = True\n",
      "INFO: [config/config.py:108 - <module>()] ENABLE_OPENAI_LLM = True\n",
      "INFO: [config/config.py:109 - <module>()] ENABLE_COHERE_LLM = True\n",
      "INFO: [config/config.py:110 - <module>()] ENABLE_GOOGLE_MODEL_GARDEN = True\n",
      "INFO: [config/config.py:111 - <module>()] ENABLE_TRUSS_LLAMA2 = False\n",
      "INFO: [config/vector_store_config.py:40 - <module>()] Default vector store = [matching_engine]\n",
      "INFO: [config/vector_store_config.py:49 - <module>()] PG_HOST = [127.0.0.1]\n",
      "INFO: [config/vector_store_config.py:50 - <module>()] PG_DBNAME = [pgvector]\n",
      "ERROR: [config/vector_store_config.py:77 - <module>()] Cannot connect to pgvector instance at 127.0.0.1: (psycopg2.OperationalError) connection to server at \"127.0.0.1\", port 5432 failed: Connection refused\n",
      "\tIs the server running on that host and accepting TCP/IP connections?\n",
      "\n",
      "(Background on this error at: https://sqlalche.me/e/20/e3q8)\n",
      "INFO: [config/onedrive_config.py:30 - <module>()] ONEDRIVE_CLIENT_ID = [None]\n",
      "INFO: [config/onedrive_config.py:31 - <module>()] ONEDRIVE_TENANT_ID = [None]\n",
      "WARNING: [config/onedrive_config.py:42 - <module>()] Can't access onedrive client secret\n",
      "WARNING: [config/onedrive_config.py:48 - <module>()] Can't access onedrive principle name\n",
      "INFO: [utils/text_helper.py:43 - <module>()] using default spacy model\n"
     ]
    },
    {
     "name": "stderr",
     "output_type": "stream",
     "text": [
      "2024-04-26 08:15:51 [scrapy.utils.log] INFO: Scrapy 2.11.0 started (bot: scrapybot)\n",
      "2024-04-26 08:15:51 [scrapy.utils.log] INFO: Versions: lxml 5.2.1.0, libxml2 2.12.6, cssselect 1.2.0, parsel 1.9.1, w3lib 2.1.2, Twisted 22.10.0, Python 3.9.13 (v3.9.13:6de2ca5339, May 17 2022, 11:37:23) - [Clang 13.0.0 (clang-1300.0.29.30)], pyOpenSSL 24.1.0 (OpenSSL 3.2.1 30 Jan 2024), cryptography 42.0.5, Platform macOS-14.4.1-arm64-arm-64bit\n",
      "2024-04-26 08:15:51 [scrapy.addons] INFO: Enabled addons:\n",
      "[]\n",
      "2024-04-26 08:15:51 [py.warnings] WARNING: /Users/lramsey/work/ailp/lukmanr-gps-core-solution-services/components/llm_service/notebooks/.venv/lib/python3.9/site-packages/scrapy/utils/request.py:254: ScrapyDeprecationWarning: '2.6' is a deprecated value for the 'REQUEST_FINGERPRINTER_IMPLEMENTATION' setting.\n",
      "\n",
      "It is also the default value. In other words, it is normal to get this warning if you have not defined a value for the 'REQUEST_FINGERPRINTER_IMPLEMENTATION' setting. This is so for backward compatibility reasons, but it will change in a future version of Scrapy.\n",
      "\n",
      "See the documentation of the 'REQUEST_FINGERPRINTER_IMPLEMENTATION' setting for information on how to handle this deprecation.\n",
      "  return cls(crawler)\n",
      "\n",
      "2024-04-26 08:15:51 [scrapy.extensions.telnet] INFO: Telnet Password: b5e8d9eb5cf85a96\n",
      "2024-04-26 08:15:51 [scrapy.middleware] INFO: Enabled extensions:\n",
      "['scrapy.extensions.corestats.CoreStats',\n",
      " 'scrapy.extensions.telnet.TelnetConsole',\n",
      " 'scrapy.extensions.memusage.MemoryUsage',\n",
      " 'scrapy.extensions.logstats.LogStats']\n",
      "2024-04-26 08:15:51 [scrapy.crawler] INFO: Overridden settings:\n",
      "{'DEPTH_LIMIT': 1, 'LOG_LEVEL': 'INFO'}\n",
      "2024-04-26 08:15:51 [scrapy.middleware] INFO: Enabled downloader middlewares:\n",
      "['scrapy.downloadermiddlewares.httpauth.HttpAuthMiddleware',\n",
      " 'scrapy.downloadermiddlewares.downloadtimeout.DownloadTimeoutMiddleware',\n",
      " 'scrapy.downloadermiddlewares.defaultheaders.DefaultHeadersMiddleware',\n",
      " 'scrapy.downloadermiddlewares.useragent.UserAgentMiddleware',\n",
      " 'scrapy.downloadermiddlewares.retry.RetryMiddleware',\n",
      " 'scrapy.downloadermiddlewares.redirect.MetaRefreshMiddleware',\n",
      " 'scrapy.downloadermiddlewares.httpcompression.HttpCompressionMiddleware',\n",
      " 'scrapy.downloadermiddlewares.redirect.RedirectMiddleware',\n",
      " 'scrapy.downloadermiddlewares.cookies.CookiesMiddleware',\n",
      " 'scrapy.downloadermiddlewares.httpproxy.HttpProxyMiddleware',\n",
      " 'scrapy.downloadermiddlewares.stats.DownloaderStats']\n",
      "2024-04-26 08:15:51 [scrapy.middleware] INFO: Enabled spider middlewares:\n",
      "['scrapy.spidermiddlewares.httperror.HttpErrorMiddleware',\n",
      " 'scrapy.spidermiddlewares.offsite.OffsiteMiddleware',\n",
      " 'scrapy.spidermiddlewares.referer.RefererMiddleware',\n",
      " 'scrapy.spidermiddlewares.urllength.UrlLengthMiddleware',\n",
      " 'scrapy.spidermiddlewares.depth.DepthMiddleware']\n",
      "2024-04-26 08:15:51 [scrapy.middleware] INFO: Enabled item pipelines:\n",
      "[]\n",
      "2024-04-26 08:15:51 [scrapy.core.engine] INFO: Spider opened\n",
      "2024-04-26 08:15:51 [scrapy.extensions.logstats] INFO: Crawled 0 pages (at 0 pages/min), scraped 0 items (at 0 items/min)\n",
      "2024-04-26 08:15:51 [scrapy.extensions.telnet] INFO: Telnet console listening on 127.0.0.1:6023\n"
     ]
    },
    {
     "name": "stdout",
     "output_type": "stream",
     "text": [
      "INFO: [query/web_datasource.py:49 - save_content()] Saving .html to /var/folders/7s/s_wkt16s1_7cdm2p_ptskdl400dhhl/T/tmpn3wiedbw\n",
      "INFO: [query/web_datasource.py:53 - save_content()] 13353 bytes written\n",
      "INFO: [utils/gcs_helper.py:76 - upload_to_gcs()] Uploading /var/folders/7s/s_wkt16s1_7cdm2p_ptskdl400dhhl/T/tmpn3wiedbw/.html to GCS bucket genie-ui-dev-downloads-test-web-download\n"
     ]
    },
    {
     "name": "stderr",
     "output_type": "stream",
     "text": [
      "2024-04-26 08:15:52 [query/web_datasource.py] INFO: Saving .html to /var/folders/7s/s_wkt16s1_7cdm2p_ptskdl400dhhl/T/tmpn3wiedbw\n",
      "2024-04-26 08:15:52 [query/web_datasource.py] INFO: 13353 bytes written\n",
      "2024-04-26 08:15:52 [utils/gcs_helper.py] INFO: Uploading /var/folders/7s/s_wkt16s1_7cdm2p_ptskdl400dhhl/T/tmpn3wiedbw/.html to GCS bucket genie-ui-dev-downloads-test-web-download\n"
     ]
    },
    {
     "name": "stdout",
     "output_type": "stream",
     "text": [
      "INFO: [utils/gcs_helper.py:82 - upload_to_gcs()] Uploaded /var/folders/7s/s_wkt16s1_7cdm2p_ptskdl400dhhl/T/tmpn3wiedbw/.html to gs://genie-ui-dev-downloads-test-web-download/.html\n",
      "INFO: [query/web_datasource.py:224 - _item_scraped()] Downloaded Response URL: https://dmv.nv.gov/\n",
      "INFO: [query/web_datasource.py:49 - save_content()] Saving regoutofstate.htm to /var/folders/7s/s_wkt16s1_7cdm2p_ptskdl400dhhl/T/tmpn3wiedbw\n",
      "INFO: [query/web_datasource.py:53 - save_content()] 14110 bytes written\n",
      "INFO: [utils/gcs_helper.py:76 - upload_to_gcs()] Uploading /var/folders/7s/s_wkt16s1_7cdm2p_ptskdl400dhhl/T/tmpn3wiedbw/regoutofstate.html to GCS bucket genie-ui-dev-downloads-test-web-download\n"
     ]
    },
    {
     "name": "stderr",
     "output_type": "stream",
     "text": [
      "2024-04-26 08:15:52 [utils/gcs_helper.py] INFO: Uploaded /var/folders/7s/s_wkt16s1_7cdm2p_ptskdl400dhhl/T/tmpn3wiedbw/.html to gs://genie-ui-dev-downloads-test-web-download/.html\n",
      "2024-04-26 08:15:52 [query/web_datasource.py] INFO: Downloaded Response URL: https://dmv.nv.gov/\n",
      "2024-04-26 08:15:52 [query/web_datasource.py] INFO: Saving regoutofstate.htm to /var/folders/7s/s_wkt16s1_7cdm2p_ptskdl400dhhl/T/tmpn3wiedbw\n",
      "2024-04-26 08:15:52 [query/web_datasource.py] INFO: 14110 bytes written\n",
      "2024-04-26 08:15:52 [utils/gcs_helper.py] INFO: Uploading /var/folders/7s/s_wkt16s1_7cdm2p_ptskdl400dhhl/T/tmpn3wiedbw/regoutofstate.html to GCS bucket genie-ui-dev-downloads-test-web-download\n"
     ]
    },
    {
     "name": "stdout",
     "output_type": "stream",
     "text": [
      "INFO: [utils/gcs_helper.py:82 - upload_to_gcs()] Uploaded /var/folders/7s/s_wkt16s1_7cdm2p_ptskdl400dhhl/T/tmpn3wiedbw/regoutofstate.html to gs://genie-ui-dev-downloads-test-web-download/regoutofstate.html\n",
      "INFO: [query/web_datasource.py:224 - _item_scraped()] Downloaded Response URL: https://dmv.nv.gov/regoutofstate.htm\n",
      "INFO: [query/web_datasource.py:49 - save_content()] Saving regdealer.htm to /var/folders/7s/s_wkt16s1_7cdm2p_ptskdl400dhhl/T/tmpn3wiedbw\n",
      "INFO: [query/web_datasource.py:53 - save_content()] 18396 bytes written\n",
      "INFO: [utils/gcs_helper.py:76 - upload_to_gcs()] Uploading /var/folders/7s/s_wkt16s1_7cdm2p_ptskdl400dhhl/T/tmpn3wiedbw/regdealer.html to GCS bucket genie-ui-dev-downloads-test-web-download\n"
     ]
    },
    {
     "name": "stderr",
     "output_type": "stream",
     "text": [
      "2024-04-26 08:15:52 [utils/gcs_helper.py] INFO: Uploaded /var/folders/7s/s_wkt16s1_7cdm2p_ptskdl400dhhl/T/tmpn3wiedbw/regoutofstate.html to gs://genie-ui-dev-downloads-test-web-download/regoutofstate.html\n",
      "2024-04-26 08:15:52 [query/web_datasource.py] INFO: Downloaded Response URL: https://dmv.nv.gov/regoutofstate.htm\n",
      "2024-04-26 08:15:52 [query/web_datasource.py] INFO: Saving regdealer.htm to /var/folders/7s/s_wkt16s1_7cdm2p_ptskdl400dhhl/T/tmpn3wiedbw\n",
      "2024-04-26 08:15:52 [query/web_datasource.py] INFO: 18396 bytes written\n",
      "2024-04-26 08:15:52 [utils/gcs_helper.py] INFO: Uploading /var/folders/7s/s_wkt16s1_7cdm2p_ptskdl400dhhl/T/tmpn3wiedbw/regdealer.html to GCS bucket genie-ui-dev-downloads-test-web-download\n"
     ]
    },
    {
     "name": "stdout",
     "output_type": "stream",
     "text": [
      "INFO: [utils/gcs_helper.py:82 - upload_to_gcs()] Uploaded /var/folders/7s/s_wkt16s1_7cdm2p_ptskdl400dhhl/T/tmpn3wiedbw/regdealer.html to gs://genie-ui-dev-downloads-test-web-download/regdealer.html\n",
      "INFO: [query/web_datasource.py:224 - _item_scraped()] Downloaded Response URL: https://dmv.nv.gov/regdealer.htm\n",
      "INFO: [query/web_datasource.py:49 - save_content()] Saving nvreg.htm to /var/folders/7s/s_wkt16s1_7cdm2p_ptskdl400dhhl/T/tmpn3wiedbw\n",
      "INFO: [query/web_datasource.py:53 - save_content()] 15711 bytes written\n",
      "INFO: [utils/gcs_helper.py:76 - upload_to_gcs()] Uploading /var/folders/7s/s_wkt16s1_7cdm2p_ptskdl400dhhl/T/tmpn3wiedbw/nvreg.html to GCS bucket genie-ui-dev-downloads-test-web-download\n"
     ]
    },
    {
     "name": "stderr",
     "output_type": "stream",
     "text": [
      "2024-04-26 08:15:53 [utils/gcs_helper.py] INFO: Uploaded /var/folders/7s/s_wkt16s1_7cdm2p_ptskdl400dhhl/T/tmpn3wiedbw/regdealer.html to gs://genie-ui-dev-downloads-test-web-download/regdealer.html\n",
      "2024-04-26 08:15:53 [query/web_datasource.py] INFO: Downloaded Response URL: https://dmv.nv.gov/regdealer.htm\n",
      "2024-04-26 08:15:53 [query/web_datasource.py] INFO: Saving nvreg.htm to /var/folders/7s/s_wkt16s1_7cdm2p_ptskdl400dhhl/T/tmpn3wiedbw\n",
      "2024-04-26 08:15:53 [query/web_datasource.py] INFO: 15711 bytes written\n",
      "2024-04-26 08:15:53 [utils/gcs_helper.py] INFO: Uploading /var/folders/7s/s_wkt16s1_7cdm2p_ptskdl400dhhl/T/tmpn3wiedbw/nvreg.html to GCS bucket genie-ui-dev-downloads-test-web-download\n"
     ]
    },
    {
     "name": "stdout",
     "output_type": "stream",
     "text": [
      "INFO: [utils/gcs_helper.py:82 - upload_to_gcs()] Uploaded /var/folders/7s/s_wkt16s1_7cdm2p_ptskdl400dhhl/T/tmpn3wiedbw/nvreg.html to gs://genie-ui-dev-downloads-test-web-download/nvreg.html\n",
      "INFO: [query/web_datasource.py:224 - _item_scraped()] Downloaded Response URL: https://dmv.nv.gov/nvreg.htm\n",
      "INFO: [query/web_datasource.py:49 - save_content()] Saving nvregreq.htm to /var/folders/7s/s_wkt16s1_7cdm2p_ptskdl400dhhl/T/tmpn3wiedbw\n",
      "INFO: [query/web_datasource.py:53 - save_content()] 8372 bytes written\n",
      "INFO: [utils/gcs_helper.py:76 - upload_to_gcs()] Uploading /var/folders/7s/s_wkt16s1_7cdm2p_ptskdl400dhhl/T/tmpn3wiedbw/nvregreq.html to GCS bucket genie-ui-dev-downloads-test-web-download\n"
     ]
    },
    {
     "name": "stderr",
     "output_type": "stream",
     "text": [
      "2024-04-26 08:15:53 [utils/gcs_helper.py] INFO: Uploaded /var/folders/7s/s_wkt16s1_7cdm2p_ptskdl400dhhl/T/tmpn3wiedbw/nvreg.html to gs://genie-ui-dev-downloads-test-web-download/nvreg.html\n",
      "2024-04-26 08:15:53 [query/web_datasource.py] INFO: Downloaded Response URL: https://dmv.nv.gov/nvreg.htm\n",
      "2024-04-26 08:15:53 [query/web_datasource.py] INFO: Saving nvregreq.htm to /var/folders/7s/s_wkt16s1_7cdm2p_ptskdl400dhhl/T/tmpn3wiedbw\n",
      "2024-04-26 08:15:53 [query/web_datasource.py] INFO: 8372 bytes written\n",
      "2024-04-26 08:15:53 [utils/gcs_helper.py] INFO: Uploading /var/folders/7s/s_wkt16s1_7cdm2p_ptskdl400dhhl/T/tmpn3wiedbw/nvregreq.html to GCS bucket genie-ui-dev-downloads-test-web-download\n"
     ]
    },
    {
     "name": "stdout",
     "output_type": "stream",
     "text": [
      "INFO: [utils/gcs_helper.py:82 - upload_to_gcs()] Uploaded /var/folders/7s/s_wkt16s1_7cdm2p_ptskdl400dhhl/T/tmpn3wiedbw/nvregreq.html to gs://genie-ui-dev-downloads-test-web-download/nvregreq.html\n",
      "INFO: [query/web_datasource.py:224 - _item_scraped()] Downloaded Response URL: https://dmv.nv.gov/nvregreq.htm\n",
      "INFO: [query/web_datasource.py:49 - save_content()] Saving regprivate.htm to /var/folders/7s/s_wkt16s1_7cdm2p_ptskdl400dhhl/T/tmpn3wiedbw\n",
      "INFO: [query/web_datasource.py:53 - save_content()] 18085 bytes written\n",
      "INFO: [utils/gcs_helper.py:76 - upload_to_gcs()] Uploading /var/folders/7s/s_wkt16s1_7cdm2p_ptskdl400dhhl/T/tmpn3wiedbw/regprivate.html to GCS bucket genie-ui-dev-downloads-test-web-download\n"
     ]
    },
    {
     "name": "stderr",
     "output_type": "stream",
     "text": [
      "2024-04-26 08:15:53 [utils/gcs_helper.py] INFO: Uploaded /var/folders/7s/s_wkt16s1_7cdm2p_ptskdl400dhhl/T/tmpn3wiedbw/nvregreq.html to gs://genie-ui-dev-downloads-test-web-download/nvregreq.html\n",
      "2024-04-26 08:15:53 [query/web_datasource.py] INFO: Downloaded Response URL: https://dmv.nv.gov/nvregreq.htm\n",
      "2024-04-26 08:15:53 [query/web_datasource.py] INFO: Saving regprivate.htm to /var/folders/7s/s_wkt16s1_7cdm2p_ptskdl400dhhl/T/tmpn3wiedbw\n",
      "2024-04-26 08:15:53 [query/web_datasource.py] INFO: 18085 bytes written\n",
      "2024-04-26 08:15:53 [utils/gcs_helper.py] INFO: Uploading /var/folders/7s/s_wkt16s1_7cdm2p_ptskdl400dhhl/T/tmpn3wiedbw/regprivate.html to GCS bucket genie-ui-dev-downloads-test-web-download\n"
     ]
    },
    {
     "name": "stdout",
     "output_type": "stream",
     "text": [
      "INFO: [utils/gcs_helper.py:82 - upload_to_gcs()] Uploaded /var/folders/7s/s_wkt16s1_7cdm2p_ptskdl400dhhl/T/tmpn3wiedbw/regprivate.html to gs://genie-ui-dev-downloads-test-web-download/regprivate.html\n",
      "INFO: [query/web_datasource.py:224 - _item_scraped()] Downloaded Response URL: https://dmv.nv.gov/regprivate.htm\n",
      "INFO: [query/web_datasource.py:49 - save_content()] Saving platesveterans.htm to /var/folders/7s/s_wkt16s1_7cdm2p_ptskdl400dhhl/T/tmpn3wiedbw\n",
      "INFO: [query/web_datasource.py:53 - save_content()] 17018 bytes written\n",
      "INFO: [utils/gcs_helper.py:76 - upload_to_gcs()] Uploading /var/folders/7s/s_wkt16s1_7cdm2p_ptskdl400dhhl/T/tmpn3wiedbw/platesveterans.html to GCS bucket genie-ui-dev-downloads-test-web-download\n"
     ]
    },
    {
     "name": "stderr",
     "output_type": "stream",
     "text": [
      "2024-04-26 08:15:53 [utils/gcs_helper.py] INFO: Uploaded /var/folders/7s/s_wkt16s1_7cdm2p_ptskdl400dhhl/T/tmpn3wiedbw/regprivate.html to gs://genie-ui-dev-downloads-test-web-download/regprivate.html\n",
      "2024-04-26 08:15:53 [query/web_datasource.py] INFO: Downloaded Response URL: https://dmv.nv.gov/regprivate.htm\n",
      "2024-04-26 08:15:53 [query/web_datasource.py] INFO: Saving platesveterans.htm to /var/folders/7s/s_wkt16s1_7cdm2p_ptskdl400dhhl/T/tmpn3wiedbw\n",
      "2024-04-26 08:15:54 [query/web_datasource.py] INFO: 17018 bytes written\n",
      "2024-04-26 08:15:54 [utils/gcs_helper.py] INFO: Uploading /var/folders/7s/s_wkt16s1_7cdm2p_ptskdl400dhhl/T/tmpn3wiedbw/platesveterans.html to GCS bucket genie-ui-dev-downloads-test-web-download\n"
     ]
    },
    {
     "name": "stdout",
     "output_type": "stream",
     "text": [
      "INFO: [utils/gcs_helper.py:82 - upload_to_gcs()] Uploaded /var/folders/7s/s_wkt16s1_7cdm2p_ptskdl400dhhl/T/tmpn3wiedbw/platesveterans.html to gs://genie-ui-dev-downloads-test-web-download/platesveterans.html\n",
      "INFO: [query/web_datasource.py:224 - _item_scraped()] Downloaded Response URL: https://dmv.nv.gov/platesveterans.htm\n",
      "INFO: [query/web_datasource.py:49 - save_content()] Saving platesdisabled.htm to /var/folders/7s/s_wkt16s1_7cdm2p_ptskdl400dhhl/T/tmpn3wiedbw\n",
      "INFO: [query/web_datasource.py:53 - save_content()] 11584 bytes written\n",
      "INFO: [utils/gcs_helper.py:76 - upload_to_gcs()] Uploading /var/folders/7s/s_wkt16s1_7cdm2p_ptskdl400dhhl/T/tmpn3wiedbw/platesdisabled.html to GCS bucket genie-ui-dev-downloads-test-web-download\n"
     ]
    },
    {
     "name": "stderr",
     "output_type": "stream",
     "text": [
      "2024-04-26 08:15:54 [utils/gcs_helper.py] INFO: Uploaded /var/folders/7s/s_wkt16s1_7cdm2p_ptskdl400dhhl/T/tmpn3wiedbw/platesveterans.html to gs://genie-ui-dev-downloads-test-web-download/platesveterans.html\n",
      "2024-04-26 08:15:54 [query/web_datasource.py] INFO: Downloaded Response URL: https://dmv.nv.gov/platesveterans.htm\n",
      "2024-04-26 08:15:54 [query/web_datasource.py] INFO: Saving platesdisabled.htm to /var/folders/7s/s_wkt16s1_7cdm2p_ptskdl400dhhl/T/tmpn3wiedbw\n",
      "2024-04-26 08:15:54 [query/web_datasource.py] INFO: 11584 bytes written\n",
      "2024-04-26 08:15:54 [utils/gcs_helper.py] INFO: Uploading /var/folders/7s/s_wkt16s1_7cdm2p_ptskdl400dhhl/T/tmpn3wiedbw/platesdisabled.html to GCS bucket genie-ui-dev-downloads-test-web-download\n"
     ]
    },
    {
     "name": "stdout",
     "output_type": "stream",
     "text": [
      "INFO: [utils/gcs_helper.py:82 - upload_to_gcs()] Uploaded /var/folders/7s/s_wkt16s1_7cdm2p_ptskdl400dhhl/T/tmpn3wiedbw/platesdisabled.html to gs://genie-ui-dev-downloads-test-web-download/platesdisabled.html\n",
      "INFO: [query/web_datasource.py:224 - _item_scraped()] Downloaded Response URL: https://dmv.nv.gov/platesdisabled.htm\n",
      "INFO: [query/web_datasource.py:49 - save_content()] Saving former.htm to /var/folders/7s/s_wkt16s1_7cdm2p_ptskdl400dhhl/T/tmpn3wiedbw\n",
      "INFO: [query/web_datasource.py:53 - save_content()] 6345 bytes written\n",
      "INFO: [utils/gcs_helper.py:76 - upload_to_gcs()] Uploading /var/folders/7s/s_wkt16s1_7cdm2p_ptskdl400dhhl/T/tmpn3wiedbw/former.html to GCS bucket genie-ui-dev-downloads-test-web-download\n"
     ]
    },
    {
     "name": "stderr",
     "output_type": "stream",
     "text": [
      "2024-04-26 08:15:54 [utils/gcs_helper.py] INFO: Uploaded /var/folders/7s/s_wkt16s1_7cdm2p_ptskdl400dhhl/T/tmpn3wiedbw/platesdisabled.html to gs://genie-ui-dev-downloads-test-web-download/platesdisabled.html\n",
      "2024-04-26 08:15:54 [query/web_datasource.py] INFO: Downloaded Response URL: https://dmv.nv.gov/platesdisabled.htm\n",
      "2024-04-26 08:15:54 [query/web_datasource.py] INFO: Saving former.htm to /var/folders/7s/s_wkt16s1_7cdm2p_ptskdl400dhhl/T/tmpn3wiedbw\n",
      "2024-04-26 08:15:54 [query/web_datasource.py] INFO: 6345 bytes written\n",
      "2024-04-26 08:15:54 [utils/gcs_helper.py] INFO: Uploading /var/folders/7s/s_wkt16s1_7cdm2p_ptskdl400dhhl/T/tmpn3wiedbw/former.html to GCS bucket genie-ui-dev-downloads-test-web-download\n"
     ]
    },
    {
     "name": "stdout",
     "output_type": "stream",
     "text": [
      "INFO: [utils/gcs_helper.py:82 - upload_to_gcs()] Uploaded /var/folders/7s/s_wkt16s1_7cdm2p_ptskdl400dhhl/T/tmpn3wiedbw/former.html to gs://genie-ui-dev-downloads-test-web-download/former.html\n",
      "INFO: [query/web_datasource.py:224 - _item_scraped()] Downloaded Response URL: https://dmv.nv.gov/former.htm\n",
      "INFO: [query/web_datasource.py:49 - save_content()] Saving mchome.htm to /var/folders/7s/s_wkt16s1_7cdm2p_ptskdl400dhhl/T/tmpn3wiedbw\n",
      "INFO: [query/web_datasource.py:53 - save_content()] 5792 bytes written\n",
      "INFO: [utils/gcs_helper.py:76 - upload_to_gcs()] Uploading /var/folders/7s/s_wkt16s1_7cdm2p_ptskdl400dhhl/T/tmpn3wiedbw/mchome.html to GCS bucket genie-ui-dev-downloads-test-web-download\n"
     ]
    },
    {
     "name": "stderr",
     "output_type": "stream",
     "text": [
      "2024-04-26 08:15:54 [utils/gcs_helper.py] INFO: Uploaded /var/folders/7s/s_wkt16s1_7cdm2p_ptskdl400dhhl/T/tmpn3wiedbw/former.html to gs://genie-ui-dev-downloads-test-web-download/former.html\n",
      "2024-04-26 08:15:54 [query/web_datasource.py] INFO: Downloaded Response URL: https://dmv.nv.gov/former.htm\n",
      "2024-04-26 08:15:54 [query/web_datasource.py] INFO: Saving mchome.htm to /var/folders/7s/s_wkt16s1_7cdm2p_ptskdl400dhhl/T/tmpn3wiedbw\n",
      "2024-04-26 08:15:54 [query/web_datasource.py] INFO: 5792 bytes written\n",
      "2024-04-26 08:15:54 [utils/gcs_helper.py] INFO: Uploading /var/folders/7s/s_wkt16s1_7cdm2p_ptskdl400dhhl/T/tmpn3wiedbw/mchome.html to GCS bucket genie-ui-dev-downloads-test-web-download\n"
     ]
    },
    {
     "name": "stdout",
     "output_type": "stream",
     "text": [
      "INFO: [utils/gcs_helper.py:82 - upload_to_gcs()] Uploaded /var/folders/7s/s_wkt16s1_7cdm2p_ptskdl400dhhl/T/tmpn3wiedbw/mchome.html to gs://genie-ui-dev-downloads-test-web-download/mchome.html\n",
      "INFO: [query/web_datasource.py:224 - _item_scraped()] Downloaded Response URL: https://dmv.nv.gov/mchome.htm\n",
      "INFO: [query/web_datasource.py:49 - save_content()] Saving motorcycle.htm to /var/folders/7s/s_wkt16s1_7cdm2p_ptskdl400dhhl/T/tmpn3wiedbw\n",
      "INFO: [query/web_datasource.py:53 - save_content()] 14775 bytes written\n",
      "INFO: [utils/gcs_helper.py:76 - upload_to_gcs()] Uploading /var/folders/7s/s_wkt16s1_7cdm2p_ptskdl400dhhl/T/tmpn3wiedbw/motorcycle.html to GCS bucket genie-ui-dev-downloads-test-web-download\n"
     ]
    },
    {
     "name": "stderr",
     "output_type": "stream",
     "text": [
      "2024-04-26 08:15:54 [utils/gcs_helper.py] INFO: Uploaded /var/folders/7s/s_wkt16s1_7cdm2p_ptskdl400dhhl/T/tmpn3wiedbw/mchome.html to gs://genie-ui-dev-downloads-test-web-download/mchome.html\n",
      "2024-04-26 08:15:54 [query/web_datasource.py] INFO: Downloaded Response URL: https://dmv.nv.gov/mchome.htm\n",
      "2024-04-26 08:15:54 [query/web_datasource.py] INFO: Saving motorcycle.htm to /var/folders/7s/s_wkt16s1_7cdm2p_ptskdl400dhhl/T/tmpn3wiedbw\n",
      "2024-04-26 08:15:54 [query/web_datasource.py] INFO: 14775 bytes written\n",
      "2024-04-26 08:15:54 [utils/gcs_helper.py] INFO: Uploading /var/folders/7s/s_wkt16s1_7cdm2p_ptskdl400dhhl/T/tmpn3wiedbw/motorcycle.html to GCS bucket genie-ui-dev-downloads-test-web-download\n"
     ]
    },
    {
     "name": "stdout",
     "output_type": "stream",
     "text": [
      "INFO: [utils/gcs_helper.py:82 - upload_to_gcs()] Uploaded /var/folders/7s/s_wkt16s1_7cdm2p_ptskdl400dhhl/T/tmpn3wiedbw/motorcycle.html to gs://genie-ui-dev-downloads-test-web-download/motorcycle.html\n",
      "INFO: [query/web_datasource.py:224 - _item_scraped()] Downloaded Response URL: https://dmv.nv.gov/motorcycle.htm\n",
      "INFO: [query/web_datasource.py:49 - save_content()] Saving miloosres.htm to /var/folders/7s/s_wkt16s1_7cdm2p_ptskdl400dhhl/T/tmpn3wiedbw\n",
      "INFO: [query/web_datasource.py:53 - save_content()] 6163 bytes written\n",
      "INFO: [utils/gcs_helper.py:76 - upload_to_gcs()] Uploading /var/folders/7s/s_wkt16s1_7cdm2p_ptskdl400dhhl/T/tmpn3wiedbw/miloosres.html to GCS bucket genie-ui-dev-downloads-test-web-download\n"
     ]
    },
    {
     "name": "stderr",
     "output_type": "stream",
     "text": [
      "2024-04-26 08:15:55 [utils/gcs_helper.py] INFO: Uploaded /var/folders/7s/s_wkt16s1_7cdm2p_ptskdl400dhhl/T/tmpn3wiedbw/motorcycle.html to gs://genie-ui-dev-downloads-test-web-download/motorcycle.html\n",
      "2024-04-26 08:15:55 [query/web_datasource.py] INFO: Downloaded Response URL: https://dmv.nv.gov/motorcycle.htm\n",
      "2024-04-26 08:15:55 [query/web_datasource.py] INFO: Saving miloosres.htm to /var/folders/7s/s_wkt16s1_7cdm2p_ptskdl400dhhl/T/tmpn3wiedbw\n",
      "2024-04-26 08:15:55 [query/web_datasource.py] INFO: 6163 bytes written\n",
      "2024-04-26 08:15:55 [utils/gcs_helper.py] INFO: Uploading /var/folders/7s/s_wkt16s1_7cdm2p_ptskdl400dhhl/T/tmpn3wiedbw/miloosres.html to GCS bucket genie-ui-dev-downloads-test-web-download\n"
     ]
    },
    {
     "name": "stdout",
     "output_type": "stream",
     "text": [
      "INFO: [utils/gcs_helper.py:82 - upload_to_gcs()] Uploaded /var/folders/7s/s_wkt16s1_7cdm2p_ptskdl400dhhl/T/tmpn3wiedbw/miloosres.html to gs://genie-ui-dev-downloads-test-web-download/miloosres.html\n",
      "INFO: [query/web_datasource.py:224 - _item_scraped()] Downloaded Response URL: https://dmv.nv.gov/miloosres.htm\n",
      "INFO: [query/web_datasource.py:49 - save_content()] Saving newresident.htm to /var/folders/7s/s_wkt16s1_7cdm2p_ptskdl400dhhl/T/tmpn3wiedbw\n",
      "INFO: [query/web_datasource.py:53 - save_content()] 15238 bytes written\n",
      "INFO: [utils/gcs_helper.py:76 - upload_to_gcs()] Uploading /var/folders/7s/s_wkt16s1_7cdm2p_ptskdl400dhhl/T/tmpn3wiedbw/newresident.html to GCS bucket genie-ui-dev-downloads-test-web-download\n"
     ]
    },
    {
     "name": "stderr",
     "output_type": "stream",
     "text": [
      "2024-04-26 08:15:55 [utils/gcs_helper.py] INFO: Uploaded /var/folders/7s/s_wkt16s1_7cdm2p_ptskdl400dhhl/T/tmpn3wiedbw/miloosres.html to gs://genie-ui-dev-downloads-test-web-download/miloosres.html\n",
      "2024-04-26 08:15:55 [query/web_datasource.py] INFO: Downloaded Response URL: https://dmv.nv.gov/miloosres.htm\n",
      "2024-04-26 08:15:55 [query/web_datasource.py] INFO: Saving newresident.htm to /var/folders/7s/s_wkt16s1_7cdm2p_ptskdl400dhhl/T/tmpn3wiedbw\n",
      "2024-04-26 08:15:55 [query/web_datasource.py] INFO: 15238 bytes written\n",
      "2024-04-26 08:15:55 [utils/gcs_helper.py] INFO: Uploading /var/folders/7s/s_wkt16s1_7cdm2p_ptskdl400dhhl/T/tmpn3wiedbw/newresident.html to GCS bucket genie-ui-dev-downloads-test-web-download\n"
     ]
    },
    {
     "name": "stdout",
     "output_type": "stream",
     "text": [
      "INFO: [utils/gcs_helper.py:82 - upload_to_gcs()] Uploaded /var/folders/7s/s_wkt16s1_7cdm2p_ptskdl400dhhl/T/tmpn3wiedbw/newresident.html to gs://genie-ui-dev-downloads-test-web-download/newresident.html\n",
      "INFO: [query/web_datasource.py:224 - _item_scraped()] Downloaded Response URL: https://dmv.nv.gov/newresident.htm\n",
      "INFO: [query/web_datasource.py:49 - save_content()] Saving dltrafficlaws.htm to /var/folders/7s/s_wkt16s1_7cdm2p_ptskdl400dhhl/T/tmpn3wiedbw\n",
      "INFO: [query/web_datasource.py:53 - save_content()] 39455 bytes written\n",
      "INFO: [utils/gcs_helper.py:76 - upload_to_gcs()] Uploading /var/folders/7s/s_wkt16s1_7cdm2p_ptskdl400dhhl/T/tmpn3wiedbw/dltrafficlaws.html to GCS bucket genie-ui-dev-downloads-test-web-download\n"
     ]
    },
    {
     "name": "stderr",
     "output_type": "stream",
     "text": [
      "2024-04-26 08:15:55 [utils/gcs_helper.py] INFO: Uploaded /var/folders/7s/s_wkt16s1_7cdm2p_ptskdl400dhhl/T/tmpn3wiedbw/newresident.html to gs://genie-ui-dev-downloads-test-web-download/newresident.html\n",
      "2024-04-26 08:15:55 [query/web_datasource.py] INFO: Downloaded Response URL: https://dmv.nv.gov/newresident.htm\n",
      "2024-04-26 08:15:55 [query/web_datasource.py] INFO: Saving dltrafficlaws.htm to /var/folders/7s/s_wkt16s1_7cdm2p_ptskdl400dhhl/T/tmpn3wiedbw\n",
      "2024-04-26 08:15:55 [query/web_datasource.py] INFO: 39455 bytes written\n",
      "2024-04-26 08:15:55 [utils/gcs_helper.py] INFO: Uploading /var/folders/7s/s_wkt16s1_7cdm2p_ptskdl400dhhl/T/tmpn3wiedbw/dltrafficlaws.html to GCS bucket genie-ui-dev-downloads-test-web-download\n"
     ]
    },
    {
     "name": "stdout",
     "output_type": "stream",
     "text": [
      "INFO: [utils/gcs_helper.py:82 - upload_to_gcs()] Uploaded /var/folders/7s/s_wkt16s1_7cdm2p_ptskdl400dhhl/T/tmpn3wiedbw/dltrafficlaws.html to gs://genie-ui-dev-downloads-test-web-download/dltrafficlaws.html\n",
      "INFO: [query/web_datasource.py:224 - _item_scraped()] Downloaded Response URL: https://dmv.nv.gov/dltrafficlaws.htm\n",
      "INFO: [query/web_datasource.py:49 - save_content()] Saving codebook.htm to /var/folders/7s/s_wkt16s1_7cdm2p_ptskdl400dhhl/T/tmpn3wiedbw\n",
      "INFO: [query/web_datasource.py:53 - save_content()] 7932 bytes written\n",
      "INFO: [utils/gcs_helper.py:76 - upload_to_gcs()] Uploading /var/folders/7s/s_wkt16s1_7cdm2p_ptskdl400dhhl/T/tmpn3wiedbw/codebook.html to GCS bucket genie-ui-dev-downloads-test-web-download\n"
     ]
    },
    {
     "name": "stderr",
     "output_type": "stream",
     "text": [
      "2024-04-26 08:15:56 [utils/gcs_helper.py] INFO: Uploaded /var/folders/7s/s_wkt16s1_7cdm2p_ptskdl400dhhl/T/tmpn3wiedbw/dltrafficlaws.html to gs://genie-ui-dev-downloads-test-web-download/dltrafficlaws.html\n",
      "2024-04-26 08:15:56 [query/web_datasource.py] INFO: Downloaded Response URL: https://dmv.nv.gov/dltrafficlaws.htm\n",
      "2024-04-26 08:15:56 [query/web_datasource.py] INFO: Saving codebook.htm to /var/folders/7s/s_wkt16s1_7cdm2p_ptskdl400dhhl/T/tmpn3wiedbw\n",
      "2024-04-26 08:15:56 [query/web_datasource.py] INFO: 7932 bytes written\n",
      "2024-04-26 08:15:56 [utils/gcs_helper.py] INFO: Uploading /var/folders/7s/s_wkt16s1_7cdm2p_ptskdl400dhhl/T/tmpn3wiedbw/codebook.html to GCS bucket genie-ui-dev-downloads-test-web-download\n"
     ]
    },
    {
     "name": "stdout",
     "output_type": "stream",
     "text": [
      "INFO: [utils/gcs_helper.py:82 - upload_to_gcs()] Uploaded /var/folders/7s/s_wkt16s1_7cdm2p_ptskdl400dhhl/T/tmpn3wiedbw/codebook.html to gs://genie-ui-dev-downloads-test-web-download/codebook.html\n",
      "INFO: [query/web_datasource.py:224 - _item_scraped()] Downloaded Response URL: https://dmv.nv.gov/codebook.htm\n",
      "INFO: [query/web_datasource.py:49 - save_content()] Saving dlschools.htm to /var/folders/7s/s_wkt16s1_7cdm2p_ptskdl400dhhl/T/tmpn3wiedbw\n",
      "INFO: [query/web_datasource.py:53 - save_content()] 2793 bytes written\n",
      "INFO: [utils/gcs_helper.py:76 - upload_to_gcs()] Uploading /var/folders/7s/s_wkt16s1_7cdm2p_ptskdl400dhhl/T/tmpn3wiedbw/dlschools.html to GCS bucket genie-ui-dev-downloads-test-web-download\n"
     ]
    },
    {
     "name": "stderr",
     "output_type": "stream",
     "text": [
      "2024-04-26 08:15:57 [utils/gcs_helper.py] INFO: Uploaded /var/folders/7s/s_wkt16s1_7cdm2p_ptskdl400dhhl/T/tmpn3wiedbw/codebook.html to gs://genie-ui-dev-downloads-test-web-download/codebook.html\n",
      "2024-04-26 08:15:57 [query/web_datasource.py] INFO: Downloaded Response URL: https://dmv.nv.gov/codebook.htm\n",
      "2024-04-26 08:15:57 [query/web_datasource.py] INFO: Saving dlschools.htm to /var/folders/7s/s_wkt16s1_7cdm2p_ptskdl400dhhl/T/tmpn3wiedbw\n",
      "2024-04-26 08:15:57 [query/web_datasource.py] INFO: 2793 bytes written\n",
      "2024-04-26 08:15:57 [utils/gcs_helper.py] INFO: Uploading /var/folders/7s/s_wkt16s1_7cdm2p_ptskdl400dhhl/T/tmpn3wiedbw/dlschools.html to GCS bucket genie-ui-dev-downloads-test-web-download\n"
     ]
    },
    {
     "name": "stdout",
     "output_type": "stream",
     "text": [
      "INFO: [utils/gcs_helper.py:82 - upload_to_gcs()] Uploaded /var/folders/7s/s_wkt16s1_7cdm2p_ptskdl400dhhl/T/tmpn3wiedbw/dlschools.html to gs://genie-ui-dev-downloads-test-web-download/dlschools.html\n",
      "INFO: [query/web_datasource.py:224 - _item_scraped()] Downloaded Response URL: https://dmv.nv.gov/dlschools.htm\n",
      "INFO: [query/web_datasource.py:49 - save_content()] Saving dltesting.htm to /var/folders/7s/s_wkt16s1_7cdm2p_ptskdl400dhhl/T/tmpn3wiedbw\n",
      "INFO: [query/web_datasource.py:53 - save_content()] 10424 bytes written\n",
      "INFO: [utils/gcs_helper.py:76 - upload_to_gcs()] Uploading /var/folders/7s/s_wkt16s1_7cdm2p_ptskdl400dhhl/T/tmpn3wiedbw/dltesting.html to GCS bucket genie-ui-dev-downloads-test-web-download\n"
     ]
    },
    {
     "name": "stderr",
     "output_type": "stream",
     "text": [
      "2024-04-26 08:15:57 [utils/gcs_helper.py] INFO: Uploaded /var/folders/7s/s_wkt16s1_7cdm2p_ptskdl400dhhl/T/tmpn3wiedbw/dlschools.html to gs://genie-ui-dev-downloads-test-web-download/dlschools.html\n",
      "2024-04-26 08:15:57 [query/web_datasource.py] INFO: Downloaded Response URL: https://dmv.nv.gov/dlschools.htm\n",
      "2024-04-26 08:15:57 [query/web_datasource.py] INFO: Saving dltesting.htm to /var/folders/7s/s_wkt16s1_7cdm2p_ptskdl400dhhl/T/tmpn3wiedbw\n",
      "2024-04-26 08:15:57 [query/web_datasource.py] INFO: 10424 bytes written\n",
      "2024-04-26 08:15:57 [utils/gcs_helper.py] INFO: Uploading /var/folders/7s/s_wkt16s1_7cdm2p_ptskdl400dhhl/T/tmpn3wiedbw/dltesting.html to GCS bucket genie-ui-dev-downloads-test-web-download\n"
     ]
    },
    {
     "name": "stdout",
     "output_type": "stream",
     "text": [
      "INFO: [utils/gcs_helper.py:82 - upload_to_gcs()] Uploaded /var/folders/7s/s_wkt16s1_7cdm2p_ptskdl400dhhl/T/tmpn3wiedbw/dltesting.html to gs://genie-ui-dev-downloads-test-web-download/dltesting.html\n",
      "INFO: [query/web_datasource.py:224 - _item_scraped()] Downloaded Response URL: https://dmv.nv.gov/dltesting.htm\n",
      "INFO: [query/web_datasource.py:49 - save_content()] Saving dlhandbook.htm to /var/folders/7s/s_wkt16s1_7cdm2p_ptskdl400dhhl/T/tmpn3wiedbw\n",
      "INFO: [query/web_datasource.py:53 - save_content()] 7757 bytes written\n",
      "INFO: [utils/gcs_helper.py:76 - upload_to_gcs()] Uploading /var/folders/7s/s_wkt16s1_7cdm2p_ptskdl400dhhl/T/tmpn3wiedbw/dlhandbook.html to GCS bucket genie-ui-dev-downloads-test-web-download\n"
     ]
    },
    {
     "name": "stderr",
     "output_type": "stream",
     "text": [
      "2024-04-26 08:15:57 [utils/gcs_helper.py] INFO: Uploaded /var/folders/7s/s_wkt16s1_7cdm2p_ptskdl400dhhl/T/tmpn3wiedbw/dltesting.html to gs://genie-ui-dev-downloads-test-web-download/dltesting.html\n",
      "2024-04-26 08:15:57 [query/web_datasource.py] INFO: Downloaded Response URL: https://dmv.nv.gov/dltesting.htm\n",
      "2024-04-26 08:15:57 [query/web_datasource.py] INFO: Saving dlhandbook.htm to /var/folders/7s/s_wkt16s1_7cdm2p_ptskdl400dhhl/T/tmpn3wiedbw\n",
      "2024-04-26 08:15:57 [query/web_datasource.py] INFO: 7757 bytes written\n",
      "2024-04-26 08:15:57 [utils/gcs_helper.py] INFO: Uploading /var/folders/7s/s_wkt16s1_7cdm2p_ptskdl400dhhl/T/tmpn3wiedbw/dlhandbook.html to GCS bucket genie-ui-dev-downloads-test-web-download\n"
     ]
    },
    {
     "name": "stdout",
     "output_type": "stream",
     "text": [
      "INFO: [utils/gcs_helper.py:82 - upload_to_gcs()] Uploaded /var/folders/7s/s_wkt16s1_7cdm2p_ptskdl400dhhl/T/tmpn3wiedbw/dlhandbook.html to gs://genie-ui-dev-downloads-test-web-download/dlhandbook.html\n",
      "INFO: [query/web_datasource.py:224 - _item_scraped()] Downloaded Response URL: https://dmv.nv.gov/dlhandbook.htm\n",
      "INFO: [query/web_datasource.py:49 - save_content()] Saving nvdl.htm to /var/folders/7s/s_wkt16s1_7cdm2p_ptskdl400dhhl/T/tmpn3wiedbw\n",
      "INFO: [query/web_datasource.py:53 - save_content()] 9351 bytes written\n",
      "INFO: [utils/gcs_helper.py:76 - upload_to_gcs()] Uploading /var/folders/7s/s_wkt16s1_7cdm2p_ptskdl400dhhl/T/tmpn3wiedbw/nvdl.html to GCS bucket genie-ui-dev-downloads-test-web-download\n"
     ]
    },
    {
     "name": "stderr",
     "output_type": "stream",
     "text": [
      "2024-04-26 08:15:57 [utils/gcs_helper.py] INFO: Uploaded /var/folders/7s/s_wkt16s1_7cdm2p_ptskdl400dhhl/T/tmpn3wiedbw/dlhandbook.html to gs://genie-ui-dev-downloads-test-web-download/dlhandbook.html\n",
      "2024-04-26 08:15:57 [query/web_datasource.py] INFO: Downloaded Response URL: https://dmv.nv.gov/dlhandbook.htm\n",
      "2024-04-26 08:15:57 [query/web_datasource.py] INFO: Saving nvdl.htm to /var/folders/7s/s_wkt16s1_7cdm2p_ptskdl400dhhl/T/tmpn3wiedbw\n",
      "2024-04-26 08:15:57 [query/web_datasource.py] INFO: 9351 bytes written\n",
      "2024-04-26 08:15:57 [utils/gcs_helper.py] INFO: Uploading /var/folders/7s/s_wkt16s1_7cdm2p_ptskdl400dhhl/T/tmpn3wiedbw/nvdl.html to GCS bucket genie-ui-dev-downloads-test-web-download\n"
     ]
    },
    {
     "name": "stdout",
     "output_type": "stream",
     "text": [
      "INFO: [utils/gcs_helper.py:82 - upload_to_gcs()] Uploaded /var/folders/7s/s_wkt16s1_7cdm2p_ptskdl400dhhl/T/tmpn3wiedbw/nvdl.html to gs://genie-ui-dev-downloads-test-web-download/nvdl.html\n",
      "INFO: [query/web_datasource.py:224 - _item_scraped()] Downloaded Response URL: https://dmv.nv.gov/nvdl.htm\n"
     ]
    },
    {
     "name": "stderr",
     "output_type": "stream",
     "text": [
      "2024-04-26 08:15:57 [utils/gcs_helper.py] INFO: Uploaded /var/folders/7s/s_wkt16s1_7cdm2p_ptskdl400dhhl/T/tmpn3wiedbw/nvdl.html to gs://genie-ui-dev-downloads-test-web-download/nvdl.html\n",
      "2024-04-26 08:15:57 [query/web_datasource.py] INFO: Downloaded Response URL: https://dmv.nv.gov/nvdl.htm\n"
     ]
    },
    {
     "name": "stdout",
     "output_type": "stream",
     "text": [
      "INFO: [query/web_datasource.py:49 - save_content()] Saving assessor.htm to /var/folders/7s/s_wkt16s1_7cdm2p_ptskdl400dhhl/T/tmpn3wiedbw\n",
      "INFO: [query/web_datasource.py:53 - save_content()] 9182 bytes written\n",
      "INFO: [utils/gcs_helper.py:76 - upload_to_gcs()] Uploading /var/folders/7s/s_wkt16s1_7cdm2p_ptskdl400dhhl/T/tmpn3wiedbw/assessor.html to GCS bucket genie-ui-dev-downloads-test-web-download\n"
     ]
    },
    {
     "name": "stderr",
     "output_type": "stream",
     "text": [
      "2024-04-26 08:15:58 [query/web_datasource.py] INFO: Saving assessor.htm to /var/folders/7s/s_wkt16s1_7cdm2p_ptskdl400dhhl/T/tmpn3wiedbw\n",
      "2024-04-26 08:15:58 [query/web_datasource.py] INFO: 9182 bytes written\n",
      "2024-04-26 08:15:58 [utils/gcs_helper.py] INFO: Uploading /var/folders/7s/s_wkt16s1_7cdm2p_ptskdl400dhhl/T/tmpn3wiedbw/assessor.html to GCS bucket genie-ui-dev-downloads-test-web-download\n"
     ]
    },
    {
     "name": "stdout",
     "output_type": "stream",
     "text": [
      "INFO: [utils/gcs_helper.py:82 - upload_to_gcs()] Uploaded /var/folders/7s/s_wkt16s1_7cdm2p_ptskdl400dhhl/T/tmpn3wiedbw/assessor.html to gs://genie-ui-dev-downloads-test-web-download/assessor.html\n",
      "INFO: [query/web_datasource.py:224 - _item_scraped()] Downloaded Response URL: https://dmv.nv.gov/assessor.htm\n",
      "INFO: [query/web_datasource.py:49 - save_content()] Saving locat.htm to /var/folders/7s/s_wkt16s1_7cdm2p_ptskdl400dhhl/T/tmpn3wiedbw\n",
      "INFO: [query/web_datasource.py:53 - save_content()] 9457 bytes written\n",
      "INFO: [utils/gcs_helper.py:76 - upload_to_gcs()] Uploading /var/folders/7s/s_wkt16s1_7cdm2p_ptskdl400dhhl/T/tmpn3wiedbw/locat.html to GCS bucket genie-ui-dev-downloads-test-web-download\n"
     ]
    },
    {
     "name": "stderr",
     "output_type": "stream",
     "text": [
      "2024-04-26 08:15:58 [utils/gcs_helper.py] INFO: Uploaded /var/folders/7s/s_wkt16s1_7cdm2p_ptskdl400dhhl/T/tmpn3wiedbw/assessor.html to gs://genie-ui-dev-downloads-test-web-download/assessor.html\n",
      "2024-04-26 08:15:58 [query/web_datasource.py] INFO: Downloaded Response URL: https://dmv.nv.gov/assessor.htm\n",
      "2024-04-26 08:15:58 [query/web_datasource.py] INFO: Saving locat.htm to /var/folders/7s/s_wkt16s1_7cdm2p_ptskdl400dhhl/T/tmpn3wiedbw\n",
      "2024-04-26 08:15:58 [query/web_datasource.py] INFO: 9457 bytes written\n",
      "2024-04-26 08:15:58 [utils/gcs_helper.py] INFO: Uploading /var/folders/7s/s_wkt16s1_7cdm2p_ptskdl400dhhl/T/tmpn3wiedbw/locat.html to GCS bucket genie-ui-dev-downloads-test-web-download\n"
     ]
    },
    {
     "name": "stdout",
     "output_type": "stream",
     "text": [
      "INFO: [utils/gcs_helper.py:82 - upload_to_gcs()] Uploaded /var/folders/7s/s_wkt16s1_7cdm2p_ptskdl400dhhl/T/tmpn3wiedbw/locat.html to gs://genie-ui-dev-downloads-test-web-download/locat.html\n",
      "INFO: [query/web_datasource.py:224 - _item_scraped()] Downloaded Response URL: https://dmv.nv.gov/locat.htm\n",
      "INFO: [query/web_datasource.py:49 - save_content()] Saving cdl.htm to /var/folders/7s/s_wkt16s1_7cdm2p_ptskdl400dhhl/T/tmpn3wiedbw\n",
      "INFO: [query/web_datasource.py:53 - save_content()] 9725 bytes written\n",
      "INFO: [utils/gcs_helper.py:76 - upload_to_gcs()] Uploading /var/folders/7s/s_wkt16s1_7cdm2p_ptskdl400dhhl/T/tmpn3wiedbw/cdl.html to GCS bucket genie-ui-dev-downloads-test-web-download\n"
     ]
    },
    {
     "name": "stderr",
     "output_type": "stream",
     "text": [
      "2024-04-26 08:15:58 [utils/gcs_helper.py] INFO: Uploaded /var/folders/7s/s_wkt16s1_7cdm2p_ptskdl400dhhl/T/tmpn3wiedbw/locat.html to gs://genie-ui-dev-downloads-test-web-download/locat.html\n",
      "2024-04-26 08:15:58 [query/web_datasource.py] INFO: Downloaded Response URL: https://dmv.nv.gov/locat.htm\n",
      "2024-04-26 08:15:58 [query/web_datasource.py] INFO: Saving cdl.htm to /var/folders/7s/s_wkt16s1_7cdm2p_ptskdl400dhhl/T/tmpn3wiedbw\n",
      "2024-04-26 08:15:58 [query/web_datasource.py] INFO: 9725 bytes written\n",
      "2024-04-26 08:15:58 [utils/gcs_helper.py] INFO: Uploading /var/folders/7s/s_wkt16s1_7cdm2p_ptskdl400dhhl/T/tmpn3wiedbw/cdl.html to GCS bucket genie-ui-dev-downloads-test-web-download\n"
     ]
    },
    {
     "name": "stdout",
     "output_type": "stream",
     "text": [
      "INFO: [utils/gcs_helper.py:82 - upload_to_gcs()] Uploaded /var/folders/7s/s_wkt16s1_7cdm2p_ptskdl400dhhl/T/tmpn3wiedbw/cdl.html to gs://genie-ui-dev-downloads-test-web-download/cdl.html\n",
      "INFO: [query/web_datasource.py:224 - _item_scraped()] Downloaded Response URL: https://dmv.nv.gov/cdl.htm\n",
      "INFO: [query/web_datasource.py:49 - save_content()] Saving dlhistory.htm to /var/folders/7s/s_wkt16s1_7cdm2p_ptskdl400dhhl/T/tmpn3wiedbw\n",
      "INFO: [query/web_datasource.py:53 - save_content()] 4857 bytes written\n",
      "INFO: [utils/gcs_helper.py:76 - upload_to_gcs()] Uploading /var/folders/7s/s_wkt16s1_7cdm2p_ptskdl400dhhl/T/tmpn3wiedbw/dlhistory.html to GCS bucket genie-ui-dev-downloads-test-web-download\n"
     ]
    },
    {
     "name": "stderr",
     "output_type": "stream",
     "text": [
      "2024-04-26 08:15:59 [utils/gcs_helper.py] INFO: Uploaded /var/folders/7s/s_wkt16s1_7cdm2p_ptskdl400dhhl/T/tmpn3wiedbw/cdl.html to gs://genie-ui-dev-downloads-test-web-download/cdl.html\n",
      "2024-04-26 08:15:59 [query/web_datasource.py] INFO: Downloaded Response URL: https://dmv.nv.gov/cdl.htm\n",
      "2024-04-26 08:15:59 [query/web_datasource.py] INFO: Saving dlhistory.htm to /var/folders/7s/s_wkt16s1_7cdm2p_ptskdl400dhhl/T/tmpn3wiedbw\n",
      "2024-04-26 08:15:59 [query/web_datasource.py] INFO: 4857 bytes written\n",
      "2024-04-26 08:15:59 [utils/gcs_helper.py] INFO: Uploading /var/folders/7s/s_wkt16s1_7cdm2p_ptskdl400dhhl/T/tmpn3wiedbw/dlhistory.html to GCS bucket genie-ui-dev-downloads-test-web-download\n",
      "2024-04-26 08:15:59 [utils/gcs_helper.py] INFO: Uploaded /var/folders/7s/s_wkt16s1_7cdm2p_ptskdl400dhhl/T/tmpn3wiedbw/dlhistory.html to gs://genie-ui-dev-downloads-test-web-download/dlhistory.html\n",
      "2024-04-26 08:15:59 [query/web_datasource.py] INFO: Downloaded Response URL: https://dmv.nv.gov/dlhistory.htm\n",
      "2024-04-26 08:15:59 [query/web_datasource.py] INFO: Saving realid.htm to /var/folders/7s/s_wkt16s1_7cdm2p_ptskdl400dhhl/T/tmpn3wiedbw\n",
      "2024-04-26 08:15:59 [query/web_datasource.py] INFO: 16717 bytes written\n",
      "2024-04-26 08:15:59 [utils/gcs_helper.py] INFO: Uploading /var/folders/7s/s_wkt16s1_7cdm2p_ptskdl400dhhl/T/tmpn3wiedbw/realid.html to GCS bucket genie-ui-dev-downloads-test-web-download\n"
     ]
    },
    {
     "name": "stdout",
     "output_type": "stream",
     "text": [
      "INFO: [utils/gcs_helper.py:82 - upload_to_gcs()] Uploaded /var/folders/7s/s_wkt16s1_7cdm2p_ptskdl400dhhl/T/tmpn3wiedbw/dlhistory.html to gs://genie-ui-dev-downloads-test-web-download/dlhistory.html\n",
      "INFO: [query/web_datasource.py:224 - _item_scraped()] Downloaded Response URL: https://dmv.nv.gov/dlhistory.htm\n",
      "INFO: [query/web_datasource.py:49 - save_content()] Saving realid.htm to /var/folders/7s/s_wkt16s1_7cdm2p_ptskdl400dhhl/T/tmpn3wiedbw\n",
      "INFO: [query/web_datasource.py:53 - save_content()] 16717 bytes written\n",
      "INFO: [utils/gcs_helper.py:76 - upload_to_gcs()] Uploading /var/folders/7s/s_wkt16s1_7cdm2p_ptskdl400dhhl/T/tmpn3wiedbw/realid.html to GCS bucket genie-ui-dev-downloads-test-web-download\n",
      "INFO: [utils/gcs_helper.py:82 - upload_to_gcs()] Uploaded /var/folders/7s/s_wkt16s1_7cdm2p_ptskdl400dhhl/T/tmpn3wiedbw/realid.html to gs://genie-ui-dev-downloads-test-web-download/realid.html\n",
      "INFO: [query/web_datasource.py:224 - _item_scraped()] Downloaded Response URL: https://dmv.nv.gov/realid.htm\n",
      "INFO: [query/web_datasource.py:49 - save_content()] Saving canceldrive.htm to /var/folders/7s/s_wkt16s1_7cdm2p_ptskdl400dhhl/T/tmpn3wiedbw\n",
      "INFO: [query/web_datasource.py:53 - save_content()] 747 bytes written\n",
      "INFO: [utils/gcs_helper.py:76 - upload_to_gcs()] Uploading /var/folders/7s/s_wkt16s1_7cdm2p_ptskdl400dhhl/T/tmpn3wiedbw/canceldrive.html to GCS bucket genie-ui-dev-downloads-test-web-download\n"
     ]
    },
    {
     "name": "stderr",
     "output_type": "stream",
     "text": [
      "2024-04-26 08:15:59 [utils/gcs_helper.py] INFO: Uploaded /var/folders/7s/s_wkt16s1_7cdm2p_ptskdl400dhhl/T/tmpn3wiedbw/realid.html to gs://genie-ui-dev-downloads-test-web-download/realid.html\n",
      "2024-04-26 08:15:59 [query/web_datasource.py] INFO: Downloaded Response URL: https://dmv.nv.gov/realid.htm\n",
      "2024-04-26 08:15:59 [query/web_datasource.py] INFO: Saving canceldrive.htm to /var/folders/7s/s_wkt16s1_7cdm2p_ptskdl400dhhl/T/tmpn3wiedbw\n",
      "2024-04-26 08:15:59 [query/web_datasource.py] INFO: 747 bytes written\n",
      "2024-04-26 08:15:59 [utils/gcs_helper.py] INFO: Uploading /var/folders/7s/s_wkt16s1_7cdm2p_ptskdl400dhhl/T/tmpn3wiedbw/canceldrive.html to GCS bucket genie-ui-dev-downloads-test-web-download\n",
      "2024-04-26 08:15:59 [utils/gcs_helper.py] INFO: Uploaded /var/folders/7s/s_wkt16s1_7cdm2p_ptskdl400dhhl/T/tmpn3wiedbw/canceldrive.html to gs://genie-ui-dev-downloads-test-web-download/canceldrive.html\n",
      "2024-04-26 08:15:59 [query/web_datasource.py] INFO: Downloaded Response URL: https://dmv.nv.gov/canceldrive.htm\n",
      "2024-04-26 08:15:59 [query/web_datasource.py] INFO: Saving cdloffices.htm to /var/folders/7s/s_wkt16s1_7cdm2p_ptskdl400dhhl/T/tmpn3wiedbw\n",
      "2024-04-26 08:15:59 [query/web_datasource.py] INFO: 8036 bytes written\n",
      "2024-04-26 08:15:59 [utils/gcs_helper.py] INFO: Uploading /var/folders/7s/s_wkt16s1_7cdm2p_ptskdl400dhhl/T/tmpn3wiedbw/cdloffices.html to GCS bucket genie-ui-dev-downloads-test-web-download\n"
     ]
    },
    {
     "name": "stdout",
     "output_type": "stream",
     "text": [
      "INFO: [utils/gcs_helper.py:82 - upload_to_gcs()] Uploaded /var/folders/7s/s_wkt16s1_7cdm2p_ptskdl400dhhl/T/tmpn3wiedbw/canceldrive.html to gs://genie-ui-dev-downloads-test-web-download/canceldrive.html\n",
      "INFO: [query/web_datasource.py:224 - _item_scraped()] Downloaded Response URL: https://dmv.nv.gov/canceldrive.htm\n",
      "INFO: [query/web_datasource.py:49 - save_content()] Saving cdloffices.htm to /var/folders/7s/s_wkt16s1_7cdm2p_ptskdl400dhhl/T/tmpn3wiedbw\n",
      "INFO: [query/web_datasource.py:53 - save_content()] 8036 bytes written\n",
      "INFO: [utils/gcs_helper.py:76 - upload_to_gcs()] Uploading /var/folders/7s/s_wkt16s1_7cdm2p_ptskdl400dhhl/T/tmpn3wiedbw/cdloffices.html to GCS bucket genie-ui-dev-downloads-test-web-download\n",
      "INFO: [utils/gcs_helper.py:82 - upload_to_gcs()] Uploaded /var/folders/7s/s_wkt16s1_7cdm2p_ptskdl400dhhl/T/tmpn3wiedbw/cdloffices.html to gs://genie-ui-dev-downloads-test-web-download/cdloffices.html\n",
      "INFO: [query/web_datasource.py:224 - _item_scraped()] Downloaded Response URL: https://dmv.nv.gov/cdloffices.htm\n",
      "INFO: [query/web_datasource.py:49 - save_content()] Saving dmvforms.htm to /var/folders/7s/s_wkt16s1_7cdm2p_ptskdl400dhhl/T/tmpn3wiedbw\n",
      "INFO: [query/web_datasource.py:53 - save_content()] 24690 bytes written\n",
      "INFO: [utils/gcs_helper.py:76 - upload_to_gcs()] Uploading /var/folders/7s/s_wkt16s1_7cdm2p_ptskdl400dhhl/T/tmpn3wiedbw/dmvforms.html to GCS bucket genie-ui-dev-downloads-test-web-download\n"
     ]
    },
    {
     "name": "stderr",
     "output_type": "stream",
     "text": [
      "2024-04-26 08:15:59 [utils/gcs_helper.py] INFO: Uploaded /var/folders/7s/s_wkt16s1_7cdm2p_ptskdl400dhhl/T/tmpn3wiedbw/cdloffices.html to gs://genie-ui-dev-downloads-test-web-download/cdloffices.html\n",
      "2024-04-26 08:15:59 [query/web_datasource.py] INFO: Downloaded Response URL: https://dmv.nv.gov/cdloffices.htm\n",
      "2024-04-26 08:16:00 [query/web_datasource.py] INFO: Saving dmvforms.htm to /var/folders/7s/s_wkt16s1_7cdm2p_ptskdl400dhhl/T/tmpn3wiedbw\n",
      "2024-04-26 08:16:00 [query/web_datasource.py] INFO: 24690 bytes written\n",
      "2024-04-26 08:16:00 [utils/gcs_helper.py] INFO: Uploading /var/folders/7s/s_wkt16s1_7cdm2p_ptskdl400dhhl/T/tmpn3wiedbw/dmvforms.html to GCS bucket genie-ui-dev-downloads-test-web-download\n"
     ]
    },
    {
     "name": "stdout",
     "output_type": "stream",
     "text": [
      "INFO: [utils/gcs_helper.py:82 - upload_to_gcs()] Uploaded /var/folders/7s/s_wkt16s1_7cdm2p_ptskdl400dhhl/T/tmpn3wiedbw/dmvforms.html to gs://genie-ui-dev-downloads-test-web-download/dmvforms.html\n",
      "INFO: [query/web_datasource.py:224 - _item_scraped()] Downloaded Response URL: https://dmv.nv.gov/dmvforms.htm\n",
      "INFO: [query/web_datasource.py:49 - save_content()] Saving platesmain.htm to /var/folders/7s/s_wkt16s1_7cdm2p_ptskdl400dhhl/T/tmpn3wiedbw\n",
      "INFO: [query/web_datasource.py:53 - save_content()] 13089 bytes written\n",
      "INFO: [utils/gcs_helper.py:76 - upload_to_gcs()] Uploading /var/folders/7s/s_wkt16s1_7cdm2p_ptskdl400dhhl/T/tmpn3wiedbw/platesmain.html to GCS bucket genie-ui-dev-downloads-test-web-download\n"
     ]
    },
    {
     "name": "stderr",
     "output_type": "stream",
     "text": [
      "2024-04-26 08:16:00 [utils/gcs_helper.py] INFO: Uploaded /var/folders/7s/s_wkt16s1_7cdm2p_ptskdl400dhhl/T/tmpn3wiedbw/dmvforms.html to gs://genie-ui-dev-downloads-test-web-download/dmvforms.html\n",
      "2024-04-26 08:16:00 [query/web_datasource.py] INFO: Downloaded Response URL: https://dmv.nv.gov/dmvforms.htm\n",
      "2024-04-26 08:16:00 [query/web_datasource.py] INFO: Saving platesmain.htm to /var/folders/7s/s_wkt16s1_7cdm2p_ptskdl400dhhl/T/tmpn3wiedbw\n",
      "2024-04-26 08:16:00 [query/web_datasource.py] INFO: 13089 bytes written\n",
      "2024-04-26 08:16:00 [utils/gcs_helper.py] INFO: Uploading /var/folders/7s/s_wkt16s1_7cdm2p_ptskdl400dhhl/T/tmpn3wiedbw/platesmain.html to GCS bucket genie-ui-dev-downloads-test-web-download\n"
     ]
    },
    {
     "name": "stdout",
     "output_type": "stream",
     "text": [
      "INFO: [utils/gcs_helper.py:82 - upload_to_gcs()] Uploaded /var/folders/7s/s_wkt16s1_7cdm2p_ptskdl400dhhl/T/tmpn3wiedbw/platesmain.html to gs://genie-ui-dev-downloads-test-web-download/platesmain.html\n",
      "INFO: [query/web_datasource.py:224 - _item_scraped()] Downloaded Response URL: https://dmv.nv.gov/platesmain.htm\n",
      "INFO: [query/web_datasource.py:49 - save_content()] Saving floodvehicles.htm to /var/folders/7s/s_wkt16s1_7cdm2p_ptskdl400dhhl/T/tmpn3wiedbw\n",
      "INFO: [query/web_datasource.py:53 - save_content()] 3338 bytes written\n",
      "INFO: [utils/gcs_helper.py:76 - upload_to_gcs()] Uploading /var/folders/7s/s_wkt16s1_7cdm2p_ptskdl400dhhl/T/tmpn3wiedbw/floodvehicles.html to GCS bucket genie-ui-dev-downloads-test-web-download\n"
     ]
    },
    {
     "name": "stderr",
     "output_type": "stream",
     "text": [
      "2024-04-26 08:16:00 [utils/gcs_helper.py] INFO: Uploaded /var/folders/7s/s_wkt16s1_7cdm2p_ptskdl400dhhl/T/tmpn3wiedbw/platesmain.html to gs://genie-ui-dev-downloads-test-web-download/platesmain.html\n",
      "2024-04-26 08:16:00 [query/web_datasource.py] INFO: Downloaded Response URL: https://dmv.nv.gov/platesmain.htm\n",
      "2024-04-26 08:16:00 [query/web_datasource.py] INFO: Saving floodvehicles.htm to /var/folders/7s/s_wkt16s1_7cdm2p_ptskdl400dhhl/T/tmpn3wiedbw\n",
      "2024-04-26 08:16:00 [query/web_datasource.py] INFO: 3338 bytes written\n",
      "2024-04-26 08:16:00 [utils/gcs_helper.py] INFO: Uploading /var/folders/7s/s_wkt16s1_7cdm2p_ptskdl400dhhl/T/tmpn3wiedbw/floodvehicles.html to GCS bucket genie-ui-dev-downloads-test-web-download\n"
     ]
    },
    {
     "name": "stdout",
     "output_type": "stream",
     "text": [
      "INFO: [utils/gcs_helper.py:82 - upload_to_gcs()] Uploaded /var/folders/7s/s_wkt16s1_7cdm2p_ptskdl400dhhl/T/tmpn3wiedbw/floodvehicles.html to gs://genie-ui-dev-downloads-test-web-download/floodvehicles.html\n",
      "INFO: [query/web_datasource.py:224 - _item_scraped()] Downloaded Response URL: https://dmv.nv.gov/floodvehicles.htm\n",
      "INFO: [query/web_datasource.py:49 - save_content()] Saving salvage.htm to /var/folders/7s/s_wkt16s1_7cdm2p_ptskdl400dhhl/T/tmpn3wiedbw\n",
      "INFO: [query/web_datasource.py:53 - save_content()] 15303 bytes written\n",
      "INFO: [utils/gcs_helper.py:76 - upload_to_gcs()] Uploading /var/folders/7s/s_wkt16s1_7cdm2p_ptskdl400dhhl/T/tmpn3wiedbw/salvage.html to GCS bucket genie-ui-dev-downloads-test-web-download\n"
     ]
    },
    {
     "name": "stderr",
     "output_type": "stream",
     "text": [
      "2024-04-26 08:16:00 [utils/gcs_helper.py] INFO: Uploaded /var/folders/7s/s_wkt16s1_7cdm2p_ptskdl400dhhl/T/tmpn3wiedbw/floodvehicles.html to gs://genie-ui-dev-downloads-test-web-download/floodvehicles.html\n",
      "2024-04-26 08:16:00 [query/web_datasource.py] INFO: Downloaded Response URL: https://dmv.nv.gov/floodvehicles.htm\n",
      "2024-04-26 08:16:00 [query/web_datasource.py] INFO: Saving salvage.htm to /var/folders/7s/s_wkt16s1_7cdm2p_ptskdl400dhhl/T/tmpn3wiedbw\n",
      "2024-04-26 08:16:00 [query/web_datasource.py] INFO: 15303 bytes written\n",
      "2024-04-26 08:16:00 [utils/gcs_helper.py] INFO: Uploading /var/folders/7s/s_wkt16s1_7cdm2p_ptskdl400dhhl/T/tmpn3wiedbw/salvage.html to GCS bucket genie-ui-dev-downloads-test-web-download\n"
     ]
    },
    {
     "name": "stdout",
     "output_type": "stream",
     "text": [
      "INFO: [utils/gcs_helper.py:82 - upload_to_gcs()] Uploaded /var/folders/7s/s_wkt16s1_7cdm2p_ptskdl400dhhl/T/tmpn3wiedbw/salvage.html to gs://genie-ui-dev-downloads-test-web-download/salvage.html\n",
      "INFO: [query/web_datasource.py:224 - _item_scraped()] Downloaded Response URL: https://dmv.nv.gov/salvage.htm\n",
      "INFO: [query/web_datasource.py:49 - save_content()] Saving insurance.htm to /var/folders/7s/s_wkt16s1_7cdm2p_ptskdl400dhhl/T/tmpn3wiedbw\n",
      "INFO: [query/web_datasource.py:53 - save_content()] 29400 bytes written\n",
      "INFO: [utils/gcs_helper.py:76 - upload_to_gcs()] Uploading /var/folders/7s/s_wkt16s1_7cdm2p_ptskdl400dhhl/T/tmpn3wiedbw/insurance.html to GCS bucket genie-ui-dev-downloads-test-web-download\n"
     ]
    },
    {
     "name": "stderr",
     "output_type": "stream",
     "text": [
      "2024-04-26 08:16:00 [utils/gcs_helper.py] INFO: Uploaded /var/folders/7s/s_wkt16s1_7cdm2p_ptskdl400dhhl/T/tmpn3wiedbw/salvage.html to gs://genie-ui-dev-downloads-test-web-download/salvage.html\n",
      "2024-04-26 08:16:00 [query/web_datasource.py] INFO: Downloaded Response URL: https://dmv.nv.gov/salvage.htm\n",
      "2024-04-26 08:16:01 [query/web_datasource.py] INFO: Saving insurance.htm to /var/folders/7s/s_wkt16s1_7cdm2p_ptskdl400dhhl/T/tmpn3wiedbw\n",
      "2024-04-26 08:16:01 [query/web_datasource.py] INFO: 29400 bytes written\n",
      "2024-04-26 08:16:01 [utils/gcs_helper.py] INFO: Uploading /var/folders/7s/s_wkt16s1_7cdm2p_ptskdl400dhhl/T/tmpn3wiedbw/insurance.html to GCS bucket genie-ui-dev-downloads-test-web-download\n"
     ]
    },
    {
     "name": "stdout",
     "output_type": "stream",
     "text": [
      "INFO: [utils/gcs_helper.py:82 - upload_to_gcs()] Uploaded /var/folders/7s/s_wkt16s1_7cdm2p_ptskdl400dhhl/T/tmpn3wiedbw/insurance.html to gs://genie-ui-dev-downloads-test-web-download/insurance.html\n",
      "INFO: [query/web_datasource.py:224 - _item_scraped()] Downloaded Response URL: https://dmv.nv.gov/insurance.htm\n",
      "INFO: [query/web_datasource.py:49 - save_content()] Saving addchange.htm to /var/folders/7s/s_wkt16s1_7cdm2p_ptskdl400dhhl/T/tmpn3wiedbw\n",
      "INFO: [query/web_datasource.py:53 - save_content()] 4684 bytes written\n",
      "INFO: [utils/gcs_helper.py:76 - upload_to_gcs()] Uploading /var/folders/7s/s_wkt16s1_7cdm2p_ptskdl400dhhl/T/tmpn3wiedbw/addchange.html to GCS bucket genie-ui-dev-downloads-test-web-download\n"
     ]
    },
    {
     "name": "stderr",
     "output_type": "stream",
     "text": [
      "2024-04-26 08:16:01 [utils/gcs_helper.py] INFO: Uploaded /var/folders/7s/s_wkt16s1_7cdm2p_ptskdl400dhhl/T/tmpn3wiedbw/insurance.html to gs://genie-ui-dev-downloads-test-web-download/insurance.html\n",
      "2024-04-26 08:16:01 [query/web_datasource.py] INFO: Downloaded Response URL: https://dmv.nv.gov/insurance.htm\n",
      "2024-04-26 08:16:01 [query/web_datasource.py] INFO: Saving addchange.htm to /var/folders/7s/s_wkt16s1_7cdm2p_ptskdl400dhhl/T/tmpn3wiedbw\n",
      "2024-04-26 08:16:01 [query/web_datasource.py] INFO: 4684 bytes written\n",
      "2024-04-26 08:16:01 [utils/gcs_helper.py] INFO: Uploading /var/folders/7s/s_wkt16s1_7cdm2p_ptskdl400dhhl/T/tmpn3wiedbw/addchange.html to GCS bucket genie-ui-dev-downloads-test-web-download\n"
     ]
    },
    {
     "name": "stdout",
     "output_type": "stream",
     "text": [
      "INFO: [utils/gcs_helper.py:82 - upload_to_gcs()] Uploaded /var/folders/7s/s_wkt16s1_7cdm2p_ptskdl400dhhl/T/tmpn3wiedbw/addchange.html to gs://genie-ui-dev-downloads-test-web-download/addchange.html\n",
      "INFO: [query/web_datasource.py:224 - _item_scraped()] Downloaded Response URL: https://dmv.nv.gov/addchange.htm\n",
      "INFO: [query/web_datasource.py:49 - save_content()] Saving regfees.htm to /var/folders/7s/s_wkt16s1_7cdm2p_ptskdl400dhhl/T/tmpn3wiedbw\n",
      "INFO: [query/web_datasource.py:53 - save_content()] 8930 bytes written\n",
      "INFO: [utils/gcs_helper.py:76 - upload_to_gcs()] Uploading /var/folders/7s/s_wkt16s1_7cdm2p_ptskdl400dhhl/T/tmpn3wiedbw/regfees.html to GCS bucket genie-ui-dev-downloads-test-web-download\n"
     ]
    },
    {
     "name": "stderr",
     "output_type": "stream",
     "text": [
      "2024-04-26 08:16:01 [utils/gcs_helper.py] INFO: Uploaded /var/folders/7s/s_wkt16s1_7cdm2p_ptskdl400dhhl/T/tmpn3wiedbw/addchange.html to gs://genie-ui-dev-downloads-test-web-download/addchange.html\n",
      "2024-04-26 08:16:01 [query/web_datasource.py] INFO: Downloaded Response URL: https://dmv.nv.gov/addchange.htm\n",
      "2024-04-26 08:16:01 [query/web_datasource.py] INFO: Saving regfees.htm to /var/folders/7s/s_wkt16s1_7cdm2p_ptskdl400dhhl/T/tmpn3wiedbw\n",
      "2024-04-26 08:16:01 [query/web_datasource.py] INFO: 8930 bytes written\n",
      "2024-04-26 08:16:01 [utils/gcs_helper.py] INFO: Uploading /var/folders/7s/s_wkt16s1_7cdm2p_ptskdl400dhhl/T/tmpn3wiedbw/regfees.html to GCS bucket genie-ui-dev-downloads-test-web-download\n"
     ]
    },
    {
     "name": "stdout",
     "output_type": "stream",
     "text": [
      "INFO: [utils/gcs_helper.py:82 - upload_to_gcs()] Uploaded /var/folders/7s/s_wkt16s1_7cdm2p_ptskdl400dhhl/T/tmpn3wiedbw/regfees.html to gs://genie-ui-dev-downloads-test-web-download/regfees.html\n",
      "INFO: [query/web_datasource.py:224 - _item_scraped()] Downloaded Response URL: https://dmv.nv.gov/regfees.htm\n",
      "INFO: [query/web_datasource.py:49 - save_content()] Saving regpermits.htm to /var/folders/7s/s_wkt16s1_7cdm2p_ptskdl400dhhl/T/tmpn3wiedbw\n",
      "INFO: [query/web_datasource.py:53 - save_content()] 9292 bytes written\n",
      "INFO: [utils/gcs_helper.py:76 - upload_to_gcs()] Uploading /var/folders/7s/s_wkt16s1_7cdm2p_ptskdl400dhhl/T/tmpn3wiedbw/regpermits.html to GCS bucket genie-ui-dev-downloads-test-web-download\n"
     ]
    },
    {
     "name": "stderr",
     "output_type": "stream",
     "text": [
      "2024-04-26 08:16:01 [utils/gcs_helper.py] INFO: Uploaded /var/folders/7s/s_wkt16s1_7cdm2p_ptskdl400dhhl/T/tmpn3wiedbw/regfees.html to gs://genie-ui-dev-downloads-test-web-download/regfees.html\n",
      "2024-04-26 08:16:01 [query/web_datasource.py] INFO: Downloaded Response URL: https://dmv.nv.gov/regfees.htm\n",
      "2024-04-26 08:16:01 [query/web_datasource.py] INFO: Saving regpermits.htm to /var/folders/7s/s_wkt16s1_7cdm2p_ptskdl400dhhl/T/tmpn3wiedbw\n",
      "2024-04-26 08:16:01 [query/web_datasource.py] INFO: 9292 bytes written\n",
      "2024-04-26 08:16:01 [utils/gcs_helper.py] INFO: Uploading /var/folders/7s/s_wkt16s1_7cdm2p_ptskdl400dhhl/T/tmpn3wiedbw/regpermits.html to GCS bucket genie-ui-dev-downloads-test-web-download\n"
     ]
    },
    {
     "name": "stdout",
     "output_type": "stream",
     "text": [
      "INFO: [utils/gcs_helper.py:82 - upload_to_gcs()] Uploaded /var/folders/7s/s_wkt16s1_7cdm2p_ptskdl400dhhl/T/tmpn3wiedbw/regpermits.html to gs://genie-ui-dev-downloads-test-web-download/regpermits.html\n",
      "INFO: [query/web_datasource.py:224 - _item_scraped()] Downloaded Response URL: https://dmv.nv.gov/regpermits.htm\n",
      "INFO: [query/web_datasource.py:49 - save_content()] Saving title.htm to /var/folders/7s/s_wkt16s1_7cdm2p_ptskdl400dhhl/T/tmpn3wiedbw\n",
      "INFO: [query/web_datasource.py:53 - save_content()] 13125 bytes written\n",
      "INFO: [utils/gcs_helper.py:76 - upload_to_gcs()] Uploading /var/folders/7s/s_wkt16s1_7cdm2p_ptskdl400dhhl/T/tmpn3wiedbw/title.html to GCS bucket genie-ui-dev-downloads-test-web-download\n"
     ]
    },
    {
     "name": "stderr",
     "output_type": "stream",
     "text": [
      "2024-04-26 08:16:01 [utils/gcs_helper.py] INFO: Uploaded /var/folders/7s/s_wkt16s1_7cdm2p_ptskdl400dhhl/T/tmpn3wiedbw/regpermits.html to gs://genie-ui-dev-downloads-test-web-download/regpermits.html\n",
      "2024-04-26 08:16:01 [query/web_datasource.py] INFO: Downloaded Response URL: https://dmv.nv.gov/regpermits.htm\n",
      "2024-04-26 08:16:02 [query/web_datasource.py] INFO: Saving title.htm to /var/folders/7s/s_wkt16s1_7cdm2p_ptskdl400dhhl/T/tmpn3wiedbw\n",
      "2024-04-26 08:16:02 [query/web_datasource.py] INFO: 13125 bytes written\n",
      "2024-04-26 08:16:02 [utils/gcs_helper.py] INFO: Uploading /var/folders/7s/s_wkt16s1_7cdm2p_ptskdl400dhhl/T/tmpn3wiedbw/title.html to GCS bucket genie-ui-dev-downloads-test-web-download\n"
     ]
    },
    {
     "name": "stdout",
     "output_type": "stream",
     "text": [
      "INFO: [utils/gcs_helper.py:82 - upload_to_gcs()] Uploaded /var/folders/7s/s_wkt16s1_7cdm2p_ptskdl400dhhl/T/tmpn3wiedbw/title.html to gs://genie-ui-dev-downloads-test-web-download/title.html\n",
      "INFO: [query/web_datasource.py:224 - _item_scraped()] Downloaded Response URL: https://dmv.nv.gov/title.htm\n",
      "INFO: [query/web_datasource.py:49 - save_content()] Saving platesurrender.htm to /var/folders/7s/s_wkt16s1_7cdm2p_ptskdl400dhhl/T/tmpn3wiedbw\n",
      "INFO: [query/web_datasource.py:53 - save_content()] 9459 bytes written\n",
      "INFO: [utils/gcs_helper.py:76 - upload_to_gcs()] Uploading /var/folders/7s/s_wkt16s1_7cdm2p_ptskdl400dhhl/T/tmpn3wiedbw/platesurrender.html to GCS bucket genie-ui-dev-downloads-test-web-download\n"
     ]
    },
    {
     "name": "stderr",
     "output_type": "stream",
     "text": [
      "2024-04-26 08:16:02 [utils/gcs_helper.py] INFO: Uploaded /var/folders/7s/s_wkt16s1_7cdm2p_ptskdl400dhhl/T/tmpn3wiedbw/title.html to gs://genie-ui-dev-downloads-test-web-download/title.html\n",
      "2024-04-26 08:16:02 [query/web_datasource.py] INFO: Downloaded Response URL: https://dmv.nv.gov/title.htm\n",
      "2024-04-26 08:16:02 [query/web_datasource.py] INFO: Saving platesurrender.htm to /var/folders/7s/s_wkt16s1_7cdm2p_ptskdl400dhhl/T/tmpn3wiedbw\n",
      "2024-04-26 08:16:02 [query/web_datasource.py] INFO: 9459 bytes written\n",
      "2024-04-26 08:16:02 [utils/gcs_helper.py] INFO: Uploading /var/folders/7s/s_wkt16s1_7cdm2p_ptskdl400dhhl/T/tmpn3wiedbw/platesurrender.html to GCS bucket genie-ui-dev-downloads-test-web-download\n"
     ]
    },
    {
     "name": "stdout",
     "output_type": "stream",
     "text": [
      "INFO: [utils/gcs_helper.py:82 - upload_to_gcs()] Uploaded /var/folders/7s/s_wkt16s1_7cdm2p_ptskdl400dhhl/T/tmpn3wiedbw/platesurrender.html to gs://genie-ui-dev-downloads-test-web-download/platesurrender.html\n",
      "INFO: [query/web_datasource.py:224 - _item_scraped()] Downloaded Response URL: https://dmv.nv.gov/platesurrender.htm\n",
      "INFO: [query/web_datasource.py:49 - save_content()] Saving regrenewal.htm to /var/folders/7s/s_wkt16s1_7cdm2p_ptskdl400dhhl/T/tmpn3wiedbw\n",
      "INFO: [query/web_datasource.py:53 - save_content()] 19870 bytes written\n",
      "INFO: [utils/gcs_helper.py:76 - upload_to_gcs()] Uploading /var/folders/7s/s_wkt16s1_7cdm2p_ptskdl400dhhl/T/tmpn3wiedbw/regrenewal.html to GCS bucket genie-ui-dev-downloads-test-web-download\n"
     ]
    },
    {
     "name": "stderr",
     "output_type": "stream",
     "text": [
      "2024-04-26 08:16:02 [utils/gcs_helper.py] INFO: Uploaded /var/folders/7s/s_wkt16s1_7cdm2p_ptskdl400dhhl/T/tmpn3wiedbw/platesurrender.html to gs://genie-ui-dev-downloads-test-web-download/platesurrender.html\n",
      "2024-04-26 08:16:02 [query/web_datasource.py] INFO: Downloaded Response URL: https://dmv.nv.gov/platesurrender.htm\n",
      "2024-04-26 08:16:02 [query/web_datasource.py] INFO: Saving regrenewal.htm to /var/folders/7s/s_wkt16s1_7cdm2p_ptskdl400dhhl/T/tmpn3wiedbw\n",
      "2024-04-26 08:16:02 [query/web_datasource.py] INFO: 19870 bytes written\n",
      "2024-04-26 08:16:02 [utils/gcs_helper.py] INFO: Uploading /var/folders/7s/s_wkt16s1_7cdm2p_ptskdl400dhhl/T/tmpn3wiedbw/regrenewal.html to GCS bucket genie-ui-dev-downloads-test-web-download\n"
     ]
    },
    {
     "name": "stdout",
     "output_type": "stream",
     "text": [
      "INFO: [utils/gcs_helper.py:82 - upload_to_gcs()] Uploaded /var/folders/7s/s_wkt16s1_7cdm2p_ptskdl400dhhl/T/tmpn3wiedbw/regrenewal.html to gs://genie-ui-dev-downloads-test-web-download/regrenewal.html\n",
      "INFO: [query/web_datasource.py:224 - _item_scraped()] Downloaded Response URL: https://dmv.nv.gov/regrenewal.htm\n",
      "INFO: [query/web_datasource.py:49 - save_content()] Saving dlrenewal.htm to /var/folders/7s/s_wkt16s1_7cdm2p_ptskdl400dhhl/T/tmpn3wiedbw\n",
      "INFO: [query/web_datasource.py:53 - save_content()] 10039 bytes written\n",
      "INFO: [utils/gcs_helper.py:76 - upload_to_gcs()] Uploading /var/folders/7s/s_wkt16s1_7cdm2p_ptskdl400dhhl/T/tmpn3wiedbw/dlrenewal.html to GCS bucket genie-ui-dev-downloads-test-web-download\n"
     ]
    },
    {
     "name": "stderr",
     "output_type": "stream",
     "text": [
      "2024-04-26 08:16:02 [utils/gcs_helper.py] INFO: Uploaded /var/folders/7s/s_wkt16s1_7cdm2p_ptskdl400dhhl/T/tmpn3wiedbw/regrenewal.html to gs://genie-ui-dev-downloads-test-web-download/regrenewal.html\n",
      "2024-04-26 08:16:02 [query/web_datasource.py] INFO: Downloaded Response URL: https://dmv.nv.gov/regrenewal.htm\n",
      "2024-04-26 08:16:02 [query/web_datasource.py] INFO: Saving dlrenewal.htm to /var/folders/7s/s_wkt16s1_7cdm2p_ptskdl400dhhl/T/tmpn3wiedbw\n",
      "2024-04-26 08:16:02 [query/web_datasource.py] INFO: 10039 bytes written\n",
      "2024-04-26 08:16:02 [utils/gcs_helper.py] INFO: Uploading /var/folders/7s/s_wkt16s1_7cdm2p_ptskdl400dhhl/T/tmpn3wiedbw/dlrenewal.html to GCS bucket genie-ui-dev-downloads-test-web-download\n"
     ]
    },
    {
     "name": "stdout",
     "output_type": "stream",
     "text": [
      "INFO: [utils/gcs_helper.py:82 - upload_to_gcs()] Uploaded /var/folders/7s/s_wkt16s1_7cdm2p_ptskdl400dhhl/T/tmpn3wiedbw/dlrenewal.html to gs://genie-ui-dev-downloads-test-web-download/dlrenewal.html\n",
      "INFO: [query/web_datasource.py:224 - _item_scraped()] Downloaded Response URL: https://dmv.nv.gov/dlrenewal.htm\n",
      "INFO: [query/web_datasource.py:49 - save_content()] Saving dlduplicate.htm to /var/folders/7s/s_wkt16s1_7cdm2p_ptskdl400dhhl/T/tmpn3wiedbw\n",
      "INFO: [query/web_datasource.py:53 - save_content()] 6180 bytes written\n",
      "INFO: [utils/gcs_helper.py:76 - upload_to_gcs()] Uploading /var/folders/7s/s_wkt16s1_7cdm2p_ptskdl400dhhl/T/tmpn3wiedbw/dlduplicate.html to GCS bucket genie-ui-dev-downloads-test-web-download\n"
     ]
    },
    {
     "name": "stderr",
     "output_type": "stream",
     "text": [
      "2024-04-26 08:16:03 [utils/gcs_helper.py] INFO: Uploaded /var/folders/7s/s_wkt16s1_7cdm2p_ptskdl400dhhl/T/tmpn3wiedbw/dlrenewal.html to gs://genie-ui-dev-downloads-test-web-download/dlrenewal.html\n",
      "2024-04-26 08:16:03 [query/web_datasource.py] INFO: Downloaded Response URL: https://dmv.nv.gov/dlrenewal.htm\n",
      "2024-04-26 08:16:03 [query/web_datasource.py] INFO: Saving dlduplicate.htm to /var/folders/7s/s_wkt16s1_7cdm2p_ptskdl400dhhl/T/tmpn3wiedbw\n",
      "2024-04-26 08:16:03 [query/web_datasource.py] INFO: 6180 bytes written\n",
      "2024-04-26 08:16:03 [utils/gcs_helper.py] INFO: Uploading /var/folders/7s/s_wkt16s1_7cdm2p_ptskdl400dhhl/T/tmpn3wiedbw/dlduplicate.html to GCS bucket genie-ui-dev-downloads-test-web-download\n"
     ]
    },
    {
     "name": "stdout",
     "output_type": "stream",
     "text": [
      "INFO: [utils/gcs_helper.py:82 - upload_to_gcs()] Uploaded /var/folders/7s/s_wkt16s1_7cdm2p_ptskdl400dhhl/T/tmpn3wiedbw/dlduplicate.html to gs://genie-ui-dev-downloads-test-web-download/dlduplicate.html\n",
      "INFO: [query/web_datasource.py:224 - _item_scraped()] Downloaded Response URL: https://dmv.nv.gov/dlduplicate.htm\n"
     ]
    },
    {
     "name": "stderr",
     "output_type": "stream",
     "text": [
      "2024-04-26 08:16:03 [utils/gcs_helper.py] INFO: Uploaded /var/folders/7s/s_wkt16s1_7cdm2p_ptskdl400dhhl/T/tmpn3wiedbw/dlduplicate.html to gs://genie-ui-dev-downloads-test-web-download/dlduplicate.html\n",
      "2024-04-26 08:16:03 [query/web_datasource.py] INFO: Downloaded Response URL: https://dmv.nv.gov/dlduplicate.htm\n",
      "2024-04-26 08:16:03 [scrapy.core.engine] INFO: Closing spider (finished)\n",
      "2024-04-26 08:16:03 [scrapy.statscollectors] INFO: Dumping Scrapy stats:\n",
      "{'downloader/request_bytes': 10104,\n",
      " 'downloader/request_count': 40,\n",
      " 'downloader/request_method_count/GET': 40,\n",
      " 'downloader/response_bytes': 871443,\n",
      " 'downloader/response_count': 40,\n",
      " 'downloader/response_status_count/200': 40,\n",
      " 'dupefilter/filtered': 4,\n",
      " 'elapsed_time_seconds': 11.883224,\n",
      " 'finish_reason': 'finished',\n",
      " 'finish_time': datetime.datetime(2024, 4, 26, 12, 16, 3, 293522, tzinfo=datetime.timezone.utc),\n",
      " 'httpcompression/response_bytes': 122068,\n",
      " 'httpcompression/response_count': 4,\n",
      " 'item_scraped_count': 39,\n",
      " 'log_count/INFO': 205,\n",
      " 'log_count/WARNING': 1,\n",
      " 'memusage/max': 1392787456,\n",
      " 'memusage/startup': 1392787456,\n",
      " 'request_depth_max': 1,\n",
      " 'response_received_count': 40,\n",
      " 'scheduler/dequeued': 40,\n",
      " 'scheduler/dequeued/memory': 40,\n",
      " 'scheduler/enqueued': 40,\n",
      " 'scheduler/enqueued/memory': 40,\n",
      " 'start_time': datetime.datetime(2024, 4, 26, 12, 15, 51, 410298, tzinfo=datetime.timezone.utc)}\n",
      "2024-04-26 08:16:03 [scrapy.core.engine] INFO: Spider closed (finished)\n"
     ]
    },
    {
     "name": "stdout",
     "output_type": "stream",
     "text": [
      "finished\n",
      "https://dmv.nv.gov/\n",
      "https://dmv.nv.gov/regoutofstate.htm\n",
      "https://dmv.nv.gov/regdealer.htm\n",
      "https://dmv.nv.gov/nvreg.htm\n",
      "https://dmv.nv.gov/nvregreq.htm\n",
      "https://dmv.nv.gov/regprivate.htm\n",
      "https://dmv.nv.gov/platesveterans.htm\n",
      "https://dmv.nv.gov/platesdisabled.htm\n",
      "https://dmv.nv.gov/former.htm\n",
      "https://dmv.nv.gov/mchome.htm\n",
      "https://dmv.nv.gov/motorcycle.htm\n",
      "https://dmv.nv.gov/miloosres.htm\n",
      "https://dmv.nv.gov/newresident.htm\n",
      "https://dmv.nv.gov/dltrafficlaws.htm\n",
      "https://dmv.nv.gov/codebook.htm\n",
      "https://dmv.nv.gov/dlschools.htm\n",
      "https://dmv.nv.gov/dltesting.htm\n",
      "https://dmv.nv.gov/dlhandbook.htm\n",
      "https://dmv.nv.gov/nvdl.htm\n",
      "https://dmv.nv.gov/assessor.htm\n",
      "https://dmv.nv.gov/locat.htm\n",
      "https://dmv.nv.gov/cdl.htm\n",
      "https://dmv.nv.gov/dlhistory.htm\n",
      "https://dmv.nv.gov/realid.htm\n",
      "https://dmv.nv.gov/canceldrive.htm\n",
      "https://dmv.nv.gov/cdloffices.htm\n",
      "https://dmv.nv.gov/dmvforms.htm\n",
      "https://dmv.nv.gov/platesmain.htm\n",
      "https://dmv.nv.gov/floodvehicles.htm\n",
      "https://dmv.nv.gov/salvage.htm\n",
      "https://dmv.nv.gov/insurance.htm\n",
      "https://dmv.nv.gov/addchange.htm\n",
      "https://dmv.nv.gov/regfees.htm\n",
      "https://dmv.nv.gov/regpermits.htm\n",
      "https://dmv.nv.gov/title.htm\n",
      "https://dmv.nv.gov/platesurrender.htm\n",
      "https://dmv.nv.gov/regrenewal.htm\n",
      "https://dmv.nv.gov/dlrenewal.htm\n",
      "https://dmv.nv.gov/dlduplicate.htm\n"
     ]
    },
    {
     "name": "stderr",
     "output_type": "stream",
     "text": [
      "Program shutting down, attempting to send 353 queued log entries to Cloud Logging...\n",
      "Waiting up to 5 seconds.\n",
      "Failed to send 34 pending logs.\n"
     ]
    },
    {
     "name": "stdout",
     "output_type": "stream",
     "text": [
      "INFO: [query/web_datasource.py:276 - download_documents()] Scraped 39 links\n",
      "Downloaded 39 files to gs://genie-ui-dev-downloads-test-web-download\n"
     ]
    }
   ],
   "source": [
    "import tempfile\n",
    "from google.cloud import storage\n",
    "\n",
    "storage_client = storage.Client(project=PROJECT_ID)\n",
    "bucket_name = WebDataSource.downloads_bucket_name(q_engine)\n",
    "web_datasource = WebDataSource(storage_client, bucket_name=bucket_name, depth_limit=depth_limit)\n",
    "with tempfile.TemporaryDirectory() as temp_dir:\n",
    "    data_source_files = web_datasource.download_documents(data_url, temp_dir)\n",
    "\n",
    "print(f\"Downloaded {len(data_source_files)} files to gs://{bucket_name}\")"
   ]
  },
  {
   "cell_type": "markdown",
   "id": "72607c85-6886-4c7f-9291-812a1a7ace87",
   "metadata": {},
   "source": [
    "## Build Vertex Agent Builder app and data source\n",
    "\n",
    "Make sure you have enabled Vertex Agent Builder in your project:\n",
    "\n",
    "https://console.cloud.google.com/gen-app-builder?project=$PROJECT_ID"
   ]
  },
  {
   "cell_type": "code",
   "execution_count": 7,
   "id": "97ef0820-9cf7-4bd5-b4ed-d95808a4cb2b",
   "metadata": {},
   "outputs": [
    {
     "name": "stdout",
     "output_type": "stream",
     "text": [
      "INFO: [query/vertex_search.py:196 - build_vertex_search()] Building vertex search engine [test web download] [https://dmv.nv.gov/]\n",
      "INFO: [query/vertex_search.py:521 - download_web_docs()] downloading web docs to bucket [genie-ui-dev-downloads-test-web-download]\n",
      "INFO: [utils/gcs_helper.py:54 - create_bucket()] Bucket genie-ui-dev-downloads-test-web-download already exists.\n",
      "INFO: [utils/gcs_helper.py:30 - clear_bucket()] Deleting all objects from GCS bucket genie-ui-dev-downloads-test-web-download\n",
      "INFO: [utils/gcs_helper.py:37 - clear_bucket()] 39 files deleted\n",
      "INFO: [config/config.py:57 - <module>()] Namespace File not found, setting job namespace as default\n"
     ]
    },
    {
     "name": "stderr",
     "output_type": "stream",
     "text": [
      "/Users/lramsey/work/ailp/lukmanr-gps-core-solution-services/components/llm_service/notebooks/.venv/lib/python3.9/site-packages/langchain_community/llms/__init__.py:173: LangChainDeprecationWarning: `` was deprecated in LangChain 0.0.22 and will be removed in 0.2. An updated version of the  exists in the langchain-community package and should be used instead. To use it run `pip install -U langchain-community` and import as `from langchain_community.chat_models import ChatDatabricks`.\n",
      "  warn_deprecated(\n",
      "/Users/lramsey/work/ailp/lukmanr-gps-core-solution-services/components/llm_service/notebooks/.venv/lib/python3.9/site-packages/langchain_community/llms/__init__.py:343: LangChainDeprecationWarning: `` was deprecated in LangChain 0.0.22 and will be removed in 0.2. An updated version of the  exists in the langchain-community package and should be used instead. To use it run `pip install -U langchain-community` and import as `from langchain_community.chat_models import ChatMlflow`.\n",
      "  warn_deprecated(\n",
      "/Users/lramsey/work/ailp/lukmanr-gps-core-solution-services/components/llm_service/notebooks/.venv/lib/python3.9/site-packages/langchain_community/llms/__init__.py:173: LangChainDeprecationWarning: `` was deprecated in LangChain 0.0.22 and will be removed in 0.2. An updated version of the  exists in the langchain-community package and should be used instead. To use it run `pip install -U langchain-community` and import as `from langchain_community.chat_models import ChatDatabricks`.\n",
      "  warn_deprecated(\n",
      "/Users/lramsey/work/ailp/lukmanr-gps-core-solution-services/components/llm_service/notebooks/.venv/lib/python3.9/site-packages/langchain_community/llms/__init__.py:343: LangChainDeprecationWarning: `` was deprecated in LangChain 0.0.22 and will be removed in 0.2. An updated version of the  exists in the langchain-community package and should be used instead. To use it run `pip install -U langchain-community` and import as `from langchain_community.chat_models import ChatMlflow`.\n",
      "  warn_deprecated(\n",
      "/Users/lramsey/work/ailp/lukmanr-gps-core-solution-services/components/llm_service/notebooks/.venv/lib/python3.9/site-packages/langchain_community/llms/__init__.py:173: LangChainDeprecationWarning: `` was deprecated in LangChain 0.0.22 and will be removed in 0.2. An updated version of the  exists in the langchain-community package and should be used instead. To use it run `pip install -U langchain-community` and import as `from langchain_community.chat_models import ChatDatabricks`.\n",
      "  warn_deprecated(\n",
      "/Users/lramsey/work/ailp/lukmanr-gps-core-solution-services/components/llm_service/notebooks/.venv/lib/python3.9/site-packages/langchain_community/llms/__init__.py:343: LangChainDeprecationWarning: `` was deprecated in LangChain 0.0.22 and will be removed in 0.2. An updated version of the  exists in the langchain-community package and should be used instead. To use it run `pip install -U langchain-community` and import as `from langchain_community.chat_models import ChatMlflow`.\n",
      "  warn_deprecated(\n",
      "/Users/lramsey/work/ailp/lukmanr-gps-core-solution-services/components/llm_service/notebooks/.venv/lib/python3.9/site-packages/langchain_community/llms/__init__.py:173: LangChainDeprecationWarning: `` was deprecated in LangChain 0.0.22 and will be removed in 0.2. An updated version of the  exists in the langchain-community package and should be used instead. To use it run `pip install -U langchain-community` and import as `from langchain_community.chat_models import ChatDatabricks`.\n",
      "  warn_deprecated(\n",
      "/Users/lramsey/work/ailp/lukmanr-gps-core-solution-services/components/llm_service/notebooks/.venv/lib/python3.9/site-packages/langchain_community/llms/__init__.py:343: LangChainDeprecationWarning: `` was deprecated in LangChain 0.0.22 and will be removed in 0.2. An updated version of the  exists in the langchain-community package and should be used instead. To use it run `pip install -U langchain-community` and import as `from langchain_community.chat_models import ChatMlflow`.\n",
      "  warn_deprecated(\n",
      "/Users/lramsey/work/ailp/lukmanr-gps-core-solution-services/components/llm_service/notebooks/.venv/lib/python3.9/site-packages/langchain_community/llms/__init__.py:173: LangChainDeprecationWarning: `` was deprecated in LangChain 0.0.22 and will be removed in 0.2. An updated version of the  exists in the langchain-community package and should be used instead. To use it run `pip install -U langchain-community` and import as `from langchain_community.chat_models import ChatDatabricks`.\n",
      "  warn_deprecated(\n",
      "/Users/lramsey/work/ailp/lukmanr-gps-core-solution-services/components/llm_service/notebooks/.venv/lib/python3.9/site-packages/langchain_community/llms/__init__.py:343: LangChainDeprecationWarning: `` was deprecated in LangChain 0.0.22 and will be removed in 0.2. An updated version of the  exists in the langchain-community package and should be used instead. To use it run `pip install -U langchain-community` and import as `from langchain_community.chat_models import ChatMlflow`.\n",
      "  warn_deprecated(\n",
      "/Users/lramsey/work/ailp/lukmanr-gps-core-solution-services/components/llm_service/notebooks/.venv/lib/python3.9/site-packages/langchain_community/llms/__init__.py:173: LangChainDeprecationWarning: `` was deprecated in LangChain 0.0.22 and will be removed in 0.2. An updated version of the  exists in the langchain-community package and should be used instead. To use it run `pip install -U langchain-community` and import as `from langchain_community.chat_models import ChatDatabricks`.\n",
      "  warn_deprecated(\n",
      "/Users/lramsey/work/ailp/lukmanr-gps-core-solution-services/components/llm_service/notebooks/.venv/lib/python3.9/site-packages/langchain_community/llms/__init__.py:343: LangChainDeprecationWarning: `` was deprecated in LangChain 0.0.22 and will be removed in 0.2. An updated version of the  exists in the langchain-community package and should be used instead. To use it run `pip install -U langchain-community` and import as `from langchain_community.chat_models import ChatMlflow`.\n",
      "  warn_deprecated(\n",
      "/Users/lramsey/work/ailp/lukmanr-gps-core-solution-services/components/llm_service/notebooks/.venv/lib/python3.9/site-packages/langchain_community/llms/__init__.py:173: LangChainDeprecationWarning: `` was deprecated in LangChain 0.0.22 and will be removed in 0.2. An updated version of the  exists in the langchain-community package and should be used instead. To use it run `pip install -U langchain-community` and import as `from langchain_community.chat_models import ChatDatabricks`.\n",
      "  warn_deprecated(\n",
      "/Users/lramsey/work/ailp/lukmanr-gps-core-solution-services/components/llm_service/notebooks/.venv/lib/python3.9/site-packages/langchain_community/llms/__init__.py:343: LangChainDeprecationWarning: `` was deprecated in LangChain 0.0.22 and will be removed in 0.2. An updated version of the  exists in the langchain-community package and should be used instead. To use it run `pip install -U langchain-community` and import as `from langchain_community.chat_models import ChatMlflow`.\n",
      "  warn_deprecated(\n",
      "/Users/lramsey/work/ailp/lukmanr-gps-core-solution-services/components/llm_service/notebooks/.venv/lib/python3.9/site-packages/langchain_core/_api/deprecation.py:119: LangChainDeprecationWarning: The class `ChatCohere` was deprecated in LangChain 0.0.30 and will be removed in 0.2.0. An updated version of the class exists in the langchain-cohere package and should be used instead. To use it run `pip install -U langchain-cohere` and import as `from langchain_cohere import ChatCohere`.\n",
      "  warn_deprecated(\n",
      "/Users/lramsey/work/ailp/lukmanr-gps-core-solution-services/components/llm_service/notebooks/.venv/lib/python3.9/site-packages/langchain_community/llms/__init__.py:173: LangChainDeprecationWarning: `` was deprecated in LangChain 0.0.22 and will be removed in 0.2. An updated version of the  exists in the langchain-community package and should be used instead. To use it run `pip install -U langchain-community` and import as `from langchain_community.chat_models import ChatDatabricks`.\n",
      "  warn_deprecated(\n",
      "/Users/lramsey/work/ailp/lukmanr-gps-core-solution-services/components/llm_service/notebooks/.venv/lib/python3.9/site-packages/langchain_community/llms/__init__.py:343: LangChainDeprecationWarning: `` was deprecated in LangChain 0.0.22 and will be removed in 0.2. An updated version of the  exists in the langchain-community package and should be used instead. To use it run `pip install -U langchain-community` and import as `from langchain_community.chat_models import ChatMlflow`.\n",
      "  warn_deprecated(\n"
     ]
    },
    {
     "name": "stdout",
     "output_type": "stream",
     "text": [
      "INFO: [config/config.py:107 - <module>()] ENABLE_GOOGLE_LLM = True\n",
      "INFO: [config/config.py:108 - <module>()] ENABLE_OPENAI_LLM = True\n",
      "INFO: [config/config.py:109 - <module>()] ENABLE_COHERE_LLM = True\n",
      "INFO: [config/config.py:110 - <module>()] ENABLE_GOOGLE_MODEL_GARDEN = True\n",
      "INFO: [config/config.py:111 - <module>()] ENABLE_TRUSS_LLAMA2 = False\n",
      "INFO: [config/vector_store_config.py:40 - <module>()] Default vector store = [matching_engine]\n",
      "INFO: [config/vector_store_config.py:49 - <module>()] PG_HOST = [127.0.0.1]\n",
      "INFO: [config/vector_store_config.py:50 - <module>()] PG_DBNAME = [pgvector]\n",
      "ERROR: [config/vector_store_config.py:77 - <module>()] Cannot connect to pgvector instance at 127.0.0.1: (psycopg2.OperationalError) connection to server at \"127.0.0.1\", port 5432 failed: Connection refused\n",
      "\tIs the server running on that host and accepting TCP/IP connections?\n",
      "\n",
      "(Background on this error at: https://sqlalche.me/e/20/e3q8)\n",
      "INFO: [config/onedrive_config.py:30 - <module>()] ONEDRIVE_CLIENT_ID = [None]\n",
      "INFO: [config/onedrive_config.py:31 - <module>()] ONEDRIVE_TENANT_ID = [None]\n",
      "WARNING: [config/onedrive_config.py:42 - <module>()] Can't access onedrive client secret\n",
      "WARNING: [config/onedrive_config.py:48 - <module>()] Can't access onedrive principle name\n",
      "INFO: [utils/text_helper.py:43 - <module>()] using default spacy model\n"
     ]
    },
    {
     "name": "stderr",
     "output_type": "stream",
     "text": [
      "2024-04-26 08:16:37 [scrapy.utils.log] INFO: Scrapy 2.11.0 started (bot: scrapybot)\n",
      "2024-04-26 08:16:38 [scrapy.utils.log] INFO: Versions: lxml 5.2.1.0, libxml2 2.12.6, cssselect 1.2.0, parsel 1.9.1, w3lib 2.1.2, Twisted 22.10.0, Python 3.9.13 (v3.9.13:6de2ca5339, May 17 2022, 11:37:23) - [Clang 13.0.0 (clang-1300.0.29.30)], pyOpenSSL 24.1.0 (OpenSSL 3.2.1 30 Jan 2024), cryptography 42.0.5, Platform macOS-14.4.1-arm64-arm-64bit\n",
      "2024-04-26 08:16:38 [scrapy.addons] INFO: Enabled addons:\n",
      "[]\n",
      "2024-04-26 08:16:38 [py.warnings] WARNING: /Users/lramsey/work/ailp/lukmanr-gps-core-solution-services/components/llm_service/notebooks/.venv/lib/python3.9/site-packages/scrapy/utils/request.py:254: ScrapyDeprecationWarning: '2.6' is a deprecated value for the 'REQUEST_FINGERPRINTER_IMPLEMENTATION' setting.\n",
      "\n",
      "It is also the default value. In other words, it is normal to get this warning if you have not defined a value for the 'REQUEST_FINGERPRINTER_IMPLEMENTATION' setting. This is so for backward compatibility reasons, but it will change in a future version of Scrapy.\n",
      "\n",
      "See the documentation of the 'REQUEST_FINGERPRINTER_IMPLEMENTATION' setting for information on how to handle this deprecation.\n",
      "  return cls(crawler)\n",
      "\n",
      "2024-04-26 08:16:38 [scrapy.extensions.telnet] INFO: Telnet Password: 9df921972d15221d\n",
      "2024-04-26 08:16:38 [scrapy.middleware] INFO: Enabled extensions:\n",
      "['scrapy.extensions.corestats.CoreStats',\n",
      " 'scrapy.extensions.telnet.TelnetConsole',\n",
      " 'scrapy.extensions.memusage.MemoryUsage',\n",
      " 'scrapy.extensions.logstats.LogStats']\n",
      "2024-04-26 08:16:38 [scrapy.crawler] INFO: Overridden settings:\n",
      "{'DEPTH_LIMIT': 1, 'LOG_LEVEL': 'INFO'}\n",
      "2024-04-26 08:16:38 [scrapy.middleware] INFO: Enabled downloader middlewares:\n",
      "['scrapy.downloadermiddlewares.httpauth.HttpAuthMiddleware',\n",
      " 'scrapy.downloadermiddlewares.downloadtimeout.DownloadTimeoutMiddleware',\n",
      " 'scrapy.downloadermiddlewares.defaultheaders.DefaultHeadersMiddleware',\n",
      " 'scrapy.downloadermiddlewares.useragent.UserAgentMiddleware',\n",
      " 'scrapy.downloadermiddlewares.retry.RetryMiddleware',\n",
      " 'scrapy.downloadermiddlewares.redirect.MetaRefreshMiddleware',\n",
      " 'scrapy.downloadermiddlewares.httpcompression.HttpCompressionMiddleware',\n",
      " 'scrapy.downloadermiddlewares.redirect.RedirectMiddleware',\n",
      " 'scrapy.downloadermiddlewares.cookies.CookiesMiddleware',\n",
      " 'scrapy.downloadermiddlewares.httpproxy.HttpProxyMiddleware',\n",
      " 'scrapy.downloadermiddlewares.stats.DownloaderStats']\n",
      "2024-04-26 08:16:38 [scrapy.middleware] INFO: Enabled spider middlewares:\n",
      "['scrapy.spidermiddlewares.httperror.HttpErrorMiddleware',\n",
      " 'scrapy.spidermiddlewares.offsite.OffsiteMiddleware',\n",
      " 'scrapy.spidermiddlewares.referer.RefererMiddleware',\n",
      " 'scrapy.spidermiddlewares.urllength.UrlLengthMiddleware',\n",
      " 'scrapy.spidermiddlewares.depth.DepthMiddleware']\n",
      "2024-04-26 08:16:38 [scrapy.middleware] INFO: Enabled item pipelines:\n",
      "[]\n",
      "2024-04-26 08:16:38 [scrapy.core.engine] INFO: Spider opened\n",
      "2024-04-26 08:16:38 [scrapy.extensions.logstats] INFO: Crawled 0 pages (at 0 pages/min), scraped 0 items (at 0 items/min)\n",
      "2024-04-26 08:16:38 [scrapy.extensions.telnet] INFO: Telnet console listening on 127.0.0.1:6023\n"
     ]
    },
    {
     "name": "stdout",
     "output_type": "stream",
     "text": [
      "INFO: [query/web_datasource.py:49 - save_content()] Saving .html to /var/folders/7s/s_wkt16s1_7cdm2p_ptskdl400dhhl/T/tmpvjh8hhbw\n",
      "INFO: [query/web_datasource.py:53 - save_content()] 13353 bytes written\n",
      "INFO: [utils/gcs_helper.py:76 - upload_to_gcs()] Uploading /var/folders/7s/s_wkt16s1_7cdm2p_ptskdl400dhhl/T/tmpvjh8hhbw/.html to GCS bucket genie-ui-dev-downloads-test-web-download\n"
     ]
    },
    {
     "name": "stderr",
     "output_type": "stream",
     "text": [
      "2024-04-26 08:16:39 [query/web_datasource.py] INFO: Saving .html to /var/folders/7s/s_wkt16s1_7cdm2p_ptskdl400dhhl/T/tmpvjh8hhbw\n",
      "2024-04-26 08:16:39 [query/web_datasource.py] INFO: 13353 bytes written\n",
      "2024-04-26 08:16:39 [utils/gcs_helper.py] INFO: Uploading /var/folders/7s/s_wkt16s1_7cdm2p_ptskdl400dhhl/T/tmpvjh8hhbw/.html to GCS bucket genie-ui-dev-downloads-test-web-download\n"
     ]
    },
    {
     "name": "stdout",
     "output_type": "stream",
     "text": [
      "INFO: [utils/gcs_helper.py:82 - upload_to_gcs()] Uploaded /var/folders/7s/s_wkt16s1_7cdm2p_ptskdl400dhhl/T/tmpvjh8hhbw/.html to gs://genie-ui-dev-downloads-test-web-download/.html\n",
      "INFO: [query/web_datasource.py:224 - _item_scraped()] Downloaded Response URL: https://dmv.nv.gov/\n",
      "INFO: [query/web_datasource.py:49 - save_content()] Saving regoutofstate.htm to /var/folders/7s/s_wkt16s1_7cdm2p_ptskdl400dhhl/T/tmpvjh8hhbw\n",
      "INFO: [query/web_datasource.py:53 - save_content()] 14110 bytes written\n",
      "INFO: [utils/gcs_helper.py:76 - upload_to_gcs()] Uploading /var/folders/7s/s_wkt16s1_7cdm2p_ptskdl400dhhl/T/tmpvjh8hhbw/regoutofstate.html to GCS bucket genie-ui-dev-downloads-test-web-download\n"
     ]
    },
    {
     "name": "stderr",
     "output_type": "stream",
     "text": [
      "2024-04-26 08:16:39 [utils/gcs_helper.py] INFO: Uploaded /var/folders/7s/s_wkt16s1_7cdm2p_ptskdl400dhhl/T/tmpvjh8hhbw/.html to gs://genie-ui-dev-downloads-test-web-download/.html\n",
      "2024-04-26 08:16:39 [query/web_datasource.py] INFO: Downloaded Response URL: https://dmv.nv.gov/\n",
      "2024-04-26 08:16:39 [query/web_datasource.py] INFO: Saving regoutofstate.htm to /var/folders/7s/s_wkt16s1_7cdm2p_ptskdl400dhhl/T/tmpvjh8hhbw\n",
      "2024-04-26 08:16:39 [query/web_datasource.py] INFO: 14110 bytes written\n",
      "2024-04-26 08:16:39 [utils/gcs_helper.py] INFO: Uploading /var/folders/7s/s_wkt16s1_7cdm2p_ptskdl400dhhl/T/tmpvjh8hhbw/regoutofstate.html to GCS bucket genie-ui-dev-downloads-test-web-download\n"
     ]
    },
    {
     "name": "stdout",
     "output_type": "stream",
     "text": [
      "INFO: [utils/gcs_helper.py:82 - upload_to_gcs()] Uploaded /var/folders/7s/s_wkt16s1_7cdm2p_ptskdl400dhhl/T/tmpvjh8hhbw/regoutofstate.html to gs://genie-ui-dev-downloads-test-web-download/regoutofstate.html\n",
      "INFO: [query/web_datasource.py:224 - _item_scraped()] Downloaded Response URL: https://dmv.nv.gov/regoutofstate.htm\n",
      "INFO: [query/web_datasource.py:49 - save_content()] Saving regdealer.htm to /var/folders/7s/s_wkt16s1_7cdm2p_ptskdl400dhhl/T/tmpvjh8hhbw\n",
      "INFO: [query/web_datasource.py:53 - save_content()] 18396 bytes written\n",
      "INFO: [utils/gcs_helper.py:76 - upload_to_gcs()] Uploading /var/folders/7s/s_wkt16s1_7cdm2p_ptskdl400dhhl/T/tmpvjh8hhbw/regdealer.html to GCS bucket genie-ui-dev-downloads-test-web-download\n"
     ]
    },
    {
     "name": "stderr",
     "output_type": "stream",
     "text": [
      "2024-04-26 08:16:39 [utils/gcs_helper.py] INFO: Uploaded /var/folders/7s/s_wkt16s1_7cdm2p_ptskdl400dhhl/T/tmpvjh8hhbw/regoutofstate.html to gs://genie-ui-dev-downloads-test-web-download/regoutofstate.html\n",
      "2024-04-26 08:16:39 [query/web_datasource.py] INFO: Downloaded Response URL: https://dmv.nv.gov/regoutofstate.htm\n",
      "2024-04-26 08:16:39 [query/web_datasource.py] INFO: Saving regdealer.htm to /var/folders/7s/s_wkt16s1_7cdm2p_ptskdl400dhhl/T/tmpvjh8hhbw\n",
      "2024-04-26 08:16:39 [query/web_datasource.py] INFO: 18396 bytes written\n",
      "2024-04-26 08:16:39 [utils/gcs_helper.py] INFO: Uploading /var/folders/7s/s_wkt16s1_7cdm2p_ptskdl400dhhl/T/tmpvjh8hhbw/regdealer.html to GCS bucket genie-ui-dev-downloads-test-web-download\n"
     ]
    },
    {
     "name": "stdout",
     "output_type": "stream",
     "text": [
      "INFO: [utils/gcs_helper.py:82 - upload_to_gcs()] Uploaded /var/folders/7s/s_wkt16s1_7cdm2p_ptskdl400dhhl/T/tmpvjh8hhbw/regdealer.html to gs://genie-ui-dev-downloads-test-web-download/regdealer.html\n",
      "INFO: [query/web_datasource.py:224 - _item_scraped()] Downloaded Response URL: https://dmv.nv.gov/regdealer.htm\n",
      "INFO: [query/web_datasource.py:49 - save_content()] Saving nvregreq.htm to /var/folders/7s/s_wkt16s1_7cdm2p_ptskdl400dhhl/T/tmpvjh8hhbw\n",
      "INFO: [query/web_datasource.py:53 - save_content()] 8372 bytes written\n",
      "INFO: [utils/gcs_helper.py:76 - upload_to_gcs()] Uploading /var/folders/7s/s_wkt16s1_7cdm2p_ptskdl400dhhl/T/tmpvjh8hhbw/nvregreq.html to GCS bucket genie-ui-dev-downloads-test-web-download\n"
     ]
    },
    {
     "name": "stderr",
     "output_type": "stream",
     "text": [
      "2024-04-26 08:16:40 [utils/gcs_helper.py] INFO: Uploaded /var/folders/7s/s_wkt16s1_7cdm2p_ptskdl400dhhl/T/tmpvjh8hhbw/regdealer.html to gs://genie-ui-dev-downloads-test-web-download/regdealer.html\n",
      "2024-04-26 08:16:40 [query/web_datasource.py] INFO: Downloaded Response URL: https://dmv.nv.gov/regdealer.htm\n",
      "2024-04-26 08:16:40 [query/web_datasource.py] INFO: Saving nvregreq.htm to /var/folders/7s/s_wkt16s1_7cdm2p_ptskdl400dhhl/T/tmpvjh8hhbw\n",
      "2024-04-26 08:16:40 [query/web_datasource.py] INFO: 8372 bytes written\n",
      "2024-04-26 08:16:40 [utils/gcs_helper.py] INFO: Uploading /var/folders/7s/s_wkt16s1_7cdm2p_ptskdl400dhhl/T/tmpvjh8hhbw/nvregreq.html to GCS bucket genie-ui-dev-downloads-test-web-download\n"
     ]
    },
    {
     "name": "stdout",
     "output_type": "stream",
     "text": [
      "INFO: [utils/gcs_helper.py:82 - upload_to_gcs()] Uploaded /var/folders/7s/s_wkt16s1_7cdm2p_ptskdl400dhhl/T/tmpvjh8hhbw/nvregreq.html to gs://genie-ui-dev-downloads-test-web-download/nvregreq.html\n",
      "INFO: [query/web_datasource.py:224 - _item_scraped()] Downloaded Response URL: https://dmv.nv.gov/nvregreq.htm\n",
      "INFO: [query/web_datasource.py:49 - save_content()] Saving regprivate.htm to /var/folders/7s/s_wkt16s1_7cdm2p_ptskdl400dhhl/T/tmpvjh8hhbw\n",
      "INFO: [query/web_datasource.py:53 - save_content()] 18085 bytes written\n",
      "INFO: [utils/gcs_helper.py:76 - upload_to_gcs()] Uploading /var/folders/7s/s_wkt16s1_7cdm2p_ptskdl400dhhl/T/tmpvjh8hhbw/regprivate.html to GCS bucket genie-ui-dev-downloads-test-web-download\n"
     ]
    },
    {
     "name": "stderr",
     "output_type": "stream",
     "text": [
      "2024-04-26 08:16:40 [utils/gcs_helper.py] INFO: Uploaded /var/folders/7s/s_wkt16s1_7cdm2p_ptskdl400dhhl/T/tmpvjh8hhbw/nvregreq.html to gs://genie-ui-dev-downloads-test-web-download/nvregreq.html\n",
      "2024-04-26 08:16:40 [query/web_datasource.py] INFO: Downloaded Response URL: https://dmv.nv.gov/nvregreq.htm\n",
      "2024-04-26 08:16:40 [query/web_datasource.py] INFO: Saving regprivate.htm to /var/folders/7s/s_wkt16s1_7cdm2p_ptskdl400dhhl/T/tmpvjh8hhbw\n",
      "2024-04-26 08:16:40 [query/web_datasource.py] INFO: 18085 bytes written\n",
      "2024-04-26 08:16:40 [utils/gcs_helper.py] INFO: Uploading /var/folders/7s/s_wkt16s1_7cdm2p_ptskdl400dhhl/T/tmpvjh8hhbw/regprivate.html to GCS bucket genie-ui-dev-downloads-test-web-download\n"
     ]
    },
    {
     "name": "stdout",
     "output_type": "stream",
     "text": [
      "INFO: [utils/gcs_helper.py:82 - upload_to_gcs()] Uploaded /var/folders/7s/s_wkt16s1_7cdm2p_ptskdl400dhhl/T/tmpvjh8hhbw/regprivate.html to gs://genie-ui-dev-downloads-test-web-download/regprivate.html\n",
      "INFO: [query/web_datasource.py:224 - _item_scraped()] Downloaded Response URL: https://dmv.nv.gov/regprivate.htm\n",
      "INFO: [query/web_datasource.py:49 - save_content()] Saving former.htm to /var/folders/7s/s_wkt16s1_7cdm2p_ptskdl400dhhl/T/tmpvjh8hhbw\n",
      "INFO: [query/web_datasource.py:53 - save_content()] 6345 bytes written\n",
      "INFO: [utils/gcs_helper.py:76 - upload_to_gcs()] Uploading /var/folders/7s/s_wkt16s1_7cdm2p_ptskdl400dhhl/T/tmpvjh8hhbw/former.html to GCS bucket genie-ui-dev-downloads-test-web-download\n"
     ]
    },
    {
     "name": "stderr",
     "output_type": "stream",
     "text": [
      "2024-04-26 08:16:40 [utils/gcs_helper.py] INFO: Uploaded /var/folders/7s/s_wkt16s1_7cdm2p_ptskdl400dhhl/T/tmpvjh8hhbw/regprivate.html to gs://genie-ui-dev-downloads-test-web-download/regprivate.html\n",
      "2024-04-26 08:16:40 [query/web_datasource.py] INFO: Downloaded Response URL: https://dmv.nv.gov/regprivate.htm\n",
      "2024-04-26 08:16:40 [query/web_datasource.py] INFO: Saving former.htm to /var/folders/7s/s_wkt16s1_7cdm2p_ptskdl400dhhl/T/tmpvjh8hhbw\n",
      "2024-04-26 08:16:40 [query/web_datasource.py] INFO: 6345 bytes written\n",
      "2024-04-26 08:16:40 [utils/gcs_helper.py] INFO: Uploading /var/folders/7s/s_wkt16s1_7cdm2p_ptskdl400dhhl/T/tmpvjh8hhbw/former.html to GCS bucket genie-ui-dev-downloads-test-web-download\n"
     ]
    },
    {
     "name": "stdout",
     "output_type": "stream",
     "text": [
      "INFO: [utils/gcs_helper.py:82 - upload_to_gcs()] Uploaded /var/folders/7s/s_wkt16s1_7cdm2p_ptskdl400dhhl/T/tmpvjh8hhbw/former.html to gs://genie-ui-dev-downloads-test-web-download/former.html\n",
      "INFO: [query/web_datasource.py:224 - _item_scraped()] Downloaded Response URL: https://dmv.nv.gov/former.htm\n",
      "INFO: [query/web_datasource.py:49 - save_content()] Saving nvreg.htm to /var/folders/7s/s_wkt16s1_7cdm2p_ptskdl400dhhl/T/tmpvjh8hhbw\n",
      "INFO: [query/web_datasource.py:53 - save_content()] 15711 bytes written\n",
      "INFO: [utils/gcs_helper.py:76 - upload_to_gcs()] Uploading /var/folders/7s/s_wkt16s1_7cdm2p_ptskdl400dhhl/T/tmpvjh8hhbw/nvreg.html to GCS bucket genie-ui-dev-downloads-test-web-download\n"
     ]
    },
    {
     "name": "stderr",
     "output_type": "stream",
     "text": [
      "2024-04-26 08:16:40 [utils/gcs_helper.py] INFO: Uploaded /var/folders/7s/s_wkt16s1_7cdm2p_ptskdl400dhhl/T/tmpvjh8hhbw/former.html to gs://genie-ui-dev-downloads-test-web-download/former.html\n",
      "2024-04-26 08:16:40 [query/web_datasource.py] INFO: Downloaded Response URL: https://dmv.nv.gov/former.htm\n",
      "2024-04-26 08:16:40 [query/web_datasource.py] INFO: Saving nvreg.htm to /var/folders/7s/s_wkt16s1_7cdm2p_ptskdl400dhhl/T/tmpvjh8hhbw\n",
      "2024-04-26 08:16:40 [query/web_datasource.py] INFO: 15711 bytes written\n",
      "2024-04-26 08:16:40 [utils/gcs_helper.py] INFO: Uploading /var/folders/7s/s_wkt16s1_7cdm2p_ptskdl400dhhl/T/tmpvjh8hhbw/nvreg.html to GCS bucket genie-ui-dev-downloads-test-web-download\n"
     ]
    },
    {
     "name": "stdout",
     "output_type": "stream",
     "text": [
      "INFO: [utils/gcs_helper.py:82 - upload_to_gcs()] Uploaded /var/folders/7s/s_wkt16s1_7cdm2p_ptskdl400dhhl/T/tmpvjh8hhbw/nvreg.html to gs://genie-ui-dev-downloads-test-web-download/nvreg.html\n",
      "INFO: [query/web_datasource.py:224 - _item_scraped()] Downloaded Response URL: https://dmv.nv.gov/nvreg.htm\n",
      "INFO: [query/web_datasource.py:49 - save_content()] Saving platesveterans.htm to /var/folders/7s/s_wkt16s1_7cdm2p_ptskdl400dhhl/T/tmpvjh8hhbw\n",
      "INFO: [query/web_datasource.py:53 - save_content()] 17018 bytes written\n",
      "INFO: [utils/gcs_helper.py:76 - upload_to_gcs()] Uploading /var/folders/7s/s_wkt16s1_7cdm2p_ptskdl400dhhl/T/tmpvjh8hhbw/platesveterans.html to GCS bucket genie-ui-dev-downloads-test-web-download\n"
     ]
    },
    {
     "name": "stderr",
     "output_type": "stream",
     "text": [
      "2024-04-26 08:16:41 [utils/gcs_helper.py] INFO: Uploaded /var/folders/7s/s_wkt16s1_7cdm2p_ptskdl400dhhl/T/tmpvjh8hhbw/nvreg.html to gs://genie-ui-dev-downloads-test-web-download/nvreg.html\n",
      "2024-04-26 08:16:41 [query/web_datasource.py] INFO: Downloaded Response URL: https://dmv.nv.gov/nvreg.htm\n",
      "2024-04-26 08:16:41 [query/web_datasource.py] INFO: Saving platesveterans.htm to /var/folders/7s/s_wkt16s1_7cdm2p_ptskdl400dhhl/T/tmpvjh8hhbw\n",
      "2024-04-26 08:16:41 [query/web_datasource.py] INFO: 17018 bytes written\n",
      "2024-04-26 08:16:41 [utils/gcs_helper.py] INFO: Uploading /var/folders/7s/s_wkt16s1_7cdm2p_ptskdl400dhhl/T/tmpvjh8hhbw/platesveterans.html to GCS bucket genie-ui-dev-downloads-test-web-download\n"
     ]
    },
    {
     "name": "stdout",
     "output_type": "stream",
     "text": [
      "INFO: [utils/gcs_helper.py:82 - upload_to_gcs()] Uploaded /var/folders/7s/s_wkt16s1_7cdm2p_ptskdl400dhhl/T/tmpvjh8hhbw/platesveterans.html to gs://genie-ui-dev-downloads-test-web-download/platesveterans.html\n",
      "INFO: [query/web_datasource.py:224 - _item_scraped()] Downloaded Response URL: https://dmv.nv.gov/platesveterans.htm\n",
      "INFO: [query/web_datasource.py:49 - save_content()] Saving platesdisabled.htm to /var/folders/7s/s_wkt16s1_7cdm2p_ptskdl400dhhl/T/tmpvjh8hhbw\n",
      "INFO: [query/web_datasource.py:53 - save_content()] 11584 bytes written\n",
      "INFO: [utils/gcs_helper.py:76 - upload_to_gcs()] Uploading /var/folders/7s/s_wkt16s1_7cdm2p_ptskdl400dhhl/T/tmpvjh8hhbw/platesdisabled.html to GCS bucket genie-ui-dev-downloads-test-web-download\n"
     ]
    },
    {
     "name": "stderr",
     "output_type": "stream",
     "text": [
      "2024-04-26 08:16:41 [utils/gcs_helper.py] INFO: Uploaded /var/folders/7s/s_wkt16s1_7cdm2p_ptskdl400dhhl/T/tmpvjh8hhbw/platesveterans.html to gs://genie-ui-dev-downloads-test-web-download/platesveterans.html\n",
      "2024-04-26 08:16:41 [query/web_datasource.py] INFO: Downloaded Response URL: https://dmv.nv.gov/platesveterans.htm\n",
      "2024-04-26 08:16:41 [query/web_datasource.py] INFO: Saving platesdisabled.htm to /var/folders/7s/s_wkt16s1_7cdm2p_ptskdl400dhhl/T/tmpvjh8hhbw\n",
      "2024-04-26 08:16:41 [query/web_datasource.py] INFO: 11584 bytes written\n",
      "2024-04-26 08:16:41 [utils/gcs_helper.py] INFO: Uploading /var/folders/7s/s_wkt16s1_7cdm2p_ptskdl400dhhl/T/tmpvjh8hhbw/platesdisabled.html to GCS bucket genie-ui-dev-downloads-test-web-download\n"
     ]
    },
    {
     "name": "stdout",
     "output_type": "stream",
     "text": [
      "INFO: [utils/gcs_helper.py:82 - upload_to_gcs()] Uploaded /var/folders/7s/s_wkt16s1_7cdm2p_ptskdl400dhhl/T/tmpvjh8hhbw/platesdisabled.html to gs://genie-ui-dev-downloads-test-web-download/platesdisabled.html\n",
      "INFO: [query/web_datasource.py:224 - _item_scraped()] Downloaded Response URL: https://dmv.nv.gov/platesdisabled.htm\n",
      "INFO: [query/web_datasource.py:49 - save_content()] Saving mchome.htm to /var/folders/7s/s_wkt16s1_7cdm2p_ptskdl400dhhl/T/tmpvjh8hhbw\n",
      "INFO: [query/web_datasource.py:53 - save_content()] 5792 bytes written\n",
      "INFO: [utils/gcs_helper.py:76 - upload_to_gcs()] Uploading /var/folders/7s/s_wkt16s1_7cdm2p_ptskdl400dhhl/T/tmpvjh8hhbw/mchome.html to GCS bucket genie-ui-dev-downloads-test-web-download\n"
     ]
    },
    {
     "name": "stderr",
     "output_type": "stream",
     "text": [
      "2024-04-26 08:16:41 [utils/gcs_helper.py] INFO: Uploaded /var/folders/7s/s_wkt16s1_7cdm2p_ptskdl400dhhl/T/tmpvjh8hhbw/platesdisabled.html to gs://genie-ui-dev-downloads-test-web-download/platesdisabled.html\n",
      "2024-04-26 08:16:41 [query/web_datasource.py] INFO: Downloaded Response URL: https://dmv.nv.gov/platesdisabled.htm\n",
      "2024-04-26 08:16:41 [query/web_datasource.py] INFO: Saving mchome.htm to /var/folders/7s/s_wkt16s1_7cdm2p_ptskdl400dhhl/T/tmpvjh8hhbw\n",
      "2024-04-26 08:16:41 [query/web_datasource.py] INFO: 5792 bytes written\n",
      "2024-04-26 08:16:41 [utils/gcs_helper.py] INFO: Uploading /var/folders/7s/s_wkt16s1_7cdm2p_ptskdl400dhhl/T/tmpvjh8hhbw/mchome.html to GCS bucket genie-ui-dev-downloads-test-web-download\n"
     ]
    },
    {
     "name": "stdout",
     "output_type": "stream",
     "text": [
      "INFO: [utils/gcs_helper.py:82 - upload_to_gcs()] Uploaded /var/folders/7s/s_wkt16s1_7cdm2p_ptskdl400dhhl/T/tmpvjh8hhbw/mchome.html to gs://genie-ui-dev-downloads-test-web-download/mchome.html\n",
      "INFO: [query/web_datasource.py:224 - _item_scraped()] Downloaded Response URL: https://dmv.nv.gov/mchome.htm\n",
      "INFO: [query/web_datasource.py:49 - save_content()] Saving miloosres.htm to /var/folders/7s/s_wkt16s1_7cdm2p_ptskdl400dhhl/T/tmpvjh8hhbw\n",
      "INFO: [query/web_datasource.py:53 - save_content()] 6163 bytes written\n",
      "INFO: [utils/gcs_helper.py:76 - upload_to_gcs()] Uploading /var/folders/7s/s_wkt16s1_7cdm2p_ptskdl400dhhl/T/tmpvjh8hhbw/miloosres.html to GCS bucket genie-ui-dev-downloads-test-web-download\n"
     ]
    },
    {
     "name": "stderr",
     "output_type": "stream",
     "text": [
      "2024-04-26 08:16:41 [utils/gcs_helper.py] INFO: Uploaded /var/folders/7s/s_wkt16s1_7cdm2p_ptskdl400dhhl/T/tmpvjh8hhbw/mchome.html to gs://genie-ui-dev-downloads-test-web-download/mchome.html\n",
      "2024-04-26 08:16:41 [query/web_datasource.py] INFO: Downloaded Response URL: https://dmv.nv.gov/mchome.htm\n",
      "2024-04-26 08:16:41 [query/web_datasource.py] INFO: Saving miloosres.htm to /var/folders/7s/s_wkt16s1_7cdm2p_ptskdl400dhhl/T/tmpvjh8hhbw\n",
      "2024-04-26 08:16:41 [query/web_datasource.py] INFO: 6163 bytes written\n",
      "2024-04-26 08:16:41 [utils/gcs_helper.py] INFO: Uploading /var/folders/7s/s_wkt16s1_7cdm2p_ptskdl400dhhl/T/tmpvjh8hhbw/miloosres.html to GCS bucket genie-ui-dev-downloads-test-web-download\n"
     ]
    },
    {
     "name": "stdout",
     "output_type": "stream",
     "text": [
      "INFO: [utils/gcs_helper.py:82 - upload_to_gcs()] Uploaded /var/folders/7s/s_wkt16s1_7cdm2p_ptskdl400dhhl/T/tmpvjh8hhbw/miloosres.html to gs://genie-ui-dev-downloads-test-web-download/miloosres.html\n",
      "INFO: [query/web_datasource.py:224 - _item_scraped()] Downloaded Response URL: https://dmv.nv.gov/miloosres.htm\n",
      "INFO: [query/web_datasource.py:49 - save_content()] Saving motorcycle.htm to /var/folders/7s/s_wkt16s1_7cdm2p_ptskdl400dhhl/T/tmpvjh8hhbw\n",
      "INFO: [query/web_datasource.py:53 - save_content()] 14775 bytes written\n",
      "INFO: [utils/gcs_helper.py:76 - upload_to_gcs()] Uploading /var/folders/7s/s_wkt16s1_7cdm2p_ptskdl400dhhl/T/tmpvjh8hhbw/motorcycle.html to GCS bucket genie-ui-dev-downloads-test-web-download\n"
     ]
    },
    {
     "name": "stderr",
     "output_type": "stream",
     "text": [
      "2024-04-26 08:16:42 [utils/gcs_helper.py] INFO: Uploaded /var/folders/7s/s_wkt16s1_7cdm2p_ptskdl400dhhl/T/tmpvjh8hhbw/miloosres.html to gs://genie-ui-dev-downloads-test-web-download/miloosres.html\n",
      "2024-04-26 08:16:42 [query/web_datasource.py] INFO: Downloaded Response URL: https://dmv.nv.gov/miloosres.htm\n",
      "2024-04-26 08:16:42 [query/web_datasource.py] INFO: Saving motorcycle.htm to /var/folders/7s/s_wkt16s1_7cdm2p_ptskdl400dhhl/T/tmpvjh8hhbw\n",
      "2024-04-26 08:16:42 [query/web_datasource.py] INFO: 14775 bytes written\n",
      "2024-04-26 08:16:42 [utils/gcs_helper.py] INFO: Uploading /var/folders/7s/s_wkt16s1_7cdm2p_ptskdl400dhhl/T/tmpvjh8hhbw/motorcycle.html to GCS bucket genie-ui-dev-downloads-test-web-download\n"
     ]
    },
    {
     "name": "stdout",
     "output_type": "stream",
     "text": [
      "INFO: [utils/gcs_helper.py:82 - upload_to_gcs()] Uploaded /var/folders/7s/s_wkt16s1_7cdm2p_ptskdl400dhhl/T/tmpvjh8hhbw/motorcycle.html to gs://genie-ui-dev-downloads-test-web-download/motorcycle.html\n",
      "INFO: [query/web_datasource.py:224 - _item_scraped()] Downloaded Response URL: https://dmv.nv.gov/motorcycle.htm\n",
      "INFO: [query/web_datasource.py:49 - save_content()] Saving newresident.htm to /var/folders/7s/s_wkt16s1_7cdm2p_ptskdl400dhhl/T/tmpvjh8hhbw\n",
      "INFO: [query/web_datasource.py:53 - save_content()] 15238 bytes written\n",
      "INFO: [utils/gcs_helper.py:76 - upload_to_gcs()] Uploading /var/folders/7s/s_wkt16s1_7cdm2p_ptskdl400dhhl/T/tmpvjh8hhbw/newresident.html to GCS bucket genie-ui-dev-downloads-test-web-download\n"
     ]
    },
    {
     "name": "stderr",
     "output_type": "stream",
     "text": [
      "2024-04-26 08:16:42 [utils/gcs_helper.py] INFO: Uploaded /var/folders/7s/s_wkt16s1_7cdm2p_ptskdl400dhhl/T/tmpvjh8hhbw/motorcycle.html to gs://genie-ui-dev-downloads-test-web-download/motorcycle.html\n",
      "2024-04-26 08:16:42 [query/web_datasource.py] INFO: Downloaded Response URL: https://dmv.nv.gov/motorcycle.htm\n",
      "2024-04-26 08:16:42 [query/web_datasource.py] INFO: Saving newresident.htm to /var/folders/7s/s_wkt16s1_7cdm2p_ptskdl400dhhl/T/tmpvjh8hhbw\n",
      "2024-04-26 08:16:42 [query/web_datasource.py] INFO: 15238 bytes written\n",
      "2024-04-26 08:16:42 [utils/gcs_helper.py] INFO: Uploading /var/folders/7s/s_wkt16s1_7cdm2p_ptskdl400dhhl/T/tmpvjh8hhbw/newresident.html to GCS bucket genie-ui-dev-downloads-test-web-download\n"
     ]
    },
    {
     "name": "stdout",
     "output_type": "stream",
     "text": [
      "INFO: [utils/gcs_helper.py:82 - upload_to_gcs()] Uploaded /var/folders/7s/s_wkt16s1_7cdm2p_ptskdl400dhhl/T/tmpvjh8hhbw/newresident.html to gs://genie-ui-dev-downloads-test-web-download/newresident.html\n",
      "INFO: [query/web_datasource.py:224 - _item_scraped()] Downloaded Response URL: https://dmv.nv.gov/newresident.htm\n",
      "INFO: [query/web_datasource.py:49 - save_content()] Saving dltrafficlaws.htm to /var/folders/7s/s_wkt16s1_7cdm2p_ptskdl400dhhl/T/tmpvjh8hhbw\n",
      "INFO: [query/web_datasource.py:53 - save_content()] 39455 bytes written\n",
      "INFO: [utils/gcs_helper.py:76 - upload_to_gcs()] Uploading /var/folders/7s/s_wkt16s1_7cdm2p_ptskdl400dhhl/T/tmpvjh8hhbw/dltrafficlaws.html to GCS bucket genie-ui-dev-downloads-test-web-download\n"
     ]
    },
    {
     "name": "stderr",
     "output_type": "stream",
     "text": [
      "2024-04-26 08:16:42 [utils/gcs_helper.py] INFO: Uploaded /var/folders/7s/s_wkt16s1_7cdm2p_ptskdl400dhhl/T/tmpvjh8hhbw/newresident.html to gs://genie-ui-dev-downloads-test-web-download/newresident.html\n",
      "2024-04-26 08:16:42 [query/web_datasource.py] INFO: Downloaded Response URL: https://dmv.nv.gov/newresident.htm\n",
      "2024-04-26 08:16:42 [query/web_datasource.py] INFO: Saving dltrafficlaws.htm to /var/folders/7s/s_wkt16s1_7cdm2p_ptskdl400dhhl/T/tmpvjh8hhbw\n",
      "2024-04-26 08:16:42 [query/web_datasource.py] INFO: 39455 bytes written\n",
      "2024-04-26 08:16:42 [utils/gcs_helper.py] INFO: Uploading /var/folders/7s/s_wkt16s1_7cdm2p_ptskdl400dhhl/T/tmpvjh8hhbw/dltrafficlaws.html to GCS bucket genie-ui-dev-downloads-test-web-download\n"
     ]
    },
    {
     "name": "stdout",
     "output_type": "stream",
     "text": [
      "INFO: [utils/gcs_helper.py:82 - upload_to_gcs()] Uploaded /var/folders/7s/s_wkt16s1_7cdm2p_ptskdl400dhhl/T/tmpvjh8hhbw/dltrafficlaws.html to gs://genie-ui-dev-downloads-test-web-download/dltrafficlaws.html\n",
      "INFO: [query/web_datasource.py:224 - _item_scraped()] Downloaded Response URL: https://dmv.nv.gov/dltrafficlaws.htm\n",
      "INFO: [query/web_datasource.py:49 - save_content()] Saving codebook.htm to /var/folders/7s/s_wkt16s1_7cdm2p_ptskdl400dhhl/T/tmpvjh8hhbw\n",
      "INFO: [query/web_datasource.py:53 - save_content()] 7932 bytes written\n",
      "INFO: [utils/gcs_helper.py:76 - upload_to_gcs()] Uploading /var/folders/7s/s_wkt16s1_7cdm2p_ptskdl400dhhl/T/tmpvjh8hhbw/codebook.html to GCS bucket genie-ui-dev-downloads-test-web-download\n"
     ]
    },
    {
     "name": "stderr",
     "output_type": "stream",
     "text": [
      "2024-04-26 08:16:42 [utils/gcs_helper.py] INFO: Uploaded /var/folders/7s/s_wkt16s1_7cdm2p_ptskdl400dhhl/T/tmpvjh8hhbw/dltrafficlaws.html to gs://genie-ui-dev-downloads-test-web-download/dltrafficlaws.html\n",
      "2024-04-26 08:16:42 [query/web_datasource.py] INFO: Downloaded Response URL: https://dmv.nv.gov/dltrafficlaws.htm\n",
      "2024-04-26 08:16:42 [query/web_datasource.py] INFO: Saving codebook.htm to /var/folders/7s/s_wkt16s1_7cdm2p_ptskdl400dhhl/T/tmpvjh8hhbw\n",
      "2024-04-26 08:16:42 [query/web_datasource.py] INFO: 7932 bytes written\n",
      "2024-04-26 08:16:42 [utils/gcs_helper.py] INFO: Uploading /var/folders/7s/s_wkt16s1_7cdm2p_ptskdl400dhhl/T/tmpvjh8hhbw/codebook.html to GCS bucket genie-ui-dev-downloads-test-web-download\n"
     ]
    },
    {
     "name": "stdout",
     "output_type": "stream",
     "text": [
      "INFO: [utils/gcs_helper.py:82 - upload_to_gcs()] Uploaded /var/folders/7s/s_wkt16s1_7cdm2p_ptskdl400dhhl/T/tmpvjh8hhbw/codebook.html to gs://genie-ui-dev-downloads-test-web-download/codebook.html\n",
      "INFO: [query/web_datasource.py:224 - _item_scraped()] Downloaded Response URL: https://dmv.nv.gov/codebook.htm\n",
      "INFO: [query/web_datasource.py:49 - save_content()] Saving dlhandbook.htm to /var/folders/7s/s_wkt16s1_7cdm2p_ptskdl400dhhl/T/tmpvjh8hhbw\n",
      "INFO: [query/web_datasource.py:53 - save_content()] 7757 bytes written\n",
      "INFO: [utils/gcs_helper.py:76 - upload_to_gcs()] Uploading /var/folders/7s/s_wkt16s1_7cdm2p_ptskdl400dhhl/T/tmpvjh8hhbw/dlhandbook.html to GCS bucket genie-ui-dev-downloads-test-web-download\n"
     ]
    },
    {
     "name": "stderr",
     "output_type": "stream",
     "text": [
      "2024-04-26 08:16:43 [utils/gcs_helper.py] INFO: Uploaded /var/folders/7s/s_wkt16s1_7cdm2p_ptskdl400dhhl/T/tmpvjh8hhbw/codebook.html to gs://genie-ui-dev-downloads-test-web-download/codebook.html\n",
      "2024-04-26 08:16:43 [query/web_datasource.py] INFO: Downloaded Response URL: https://dmv.nv.gov/codebook.htm\n",
      "2024-04-26 08:16:43 [query/web_datasource.py] INFO: Saving dlhandbook.htm to /var/folders/7s/s_wkt16s1_7cdm2p_ptskdl400dhhl/T/tmpvjh8hhbw\n",
      "2024-04-26 08:16:43 [query/web_datasource.py] INFO: 7757 bytes written\n",
      "2024-04-26 08:16:43 [utils/gcs_helper.py] INFO: Uploading /var/folders/7s/s_wkt16s1_7cdm2p_ptskdl400dhhl/T/tmpvjh8hhbw/dlhandbook.html to GCS bucket genie-ui-dev-downloads-test-web-download\n"
     ]
    },
    {
     "name": "stdout",
     "output_type": "stream",
     "text": [
      "INFO: [utils/gcs_helper.py:82 - upload_to_gcs()] Uploaded /var/folders/7s/s_wkt16s1_7cdm2p_ptskdl400dhhl/T/tmpvjh8hhbw/dlhandbook.html to gs://genie-ui-dev-downloads-test-web-download/dlhandbook.html\n",
      "INFO: [query/web_datasource.py:224 - _item_scraped()] Downloaded Response URL: https://dmv.nv.gov/dlhandbook.htm\n",
      "INFO: [query/web_datasource.py:49 - save_content()] Saving dlschools.htm to /var/folders/7s/s_wkt16s1_7cdm2p_ptskdl400dhhl/T/tmpvjh8hhbw\n",
      "INFO: [query/web_datasource.py:53 - save_content()] 2793 bytes written\n",
      "INFO: [utils/gcs_helper.py:76 - upload_to_gcs()] Uploading /var/folders/7s/s_wkt16s1_7cdm2p_ptskdl400dhhl/T/tmpvjh8hhbw/dlschools.html to GCS bucket genie-ui-dev-downloads-test-web-download\n",
      "INFO: [utils/gcs_helper.py:82 - upload_to_gcs()] Uploaded /var/folders/7s/s_wkt16s1_7cdm2p_ptskdl400dhhl/T/tmpvjh8hhbw/dlschools.html to gs://genie-ui-dev-downloads-test-web-download/dlschools.html\n",
      "INFO: [query/web_datasource.py:224 - _item_scraped()] Downloaded Response URL: https://dmv.nv.gov/dlschools.htm\n"
     ]
    },
    {
     "name": "stderr",
     "output_type": "stream",
     "text": [
      "2024-04-26 08:16:43 [utils/gcs_helper.py] INFO: Uploaded /var/folders/7s/s_wkt16s1_7cdm2p_ptskdl400dhhl/T/tmpvjh8hhbw/dlhandbook.html to gs://genie-ui-dev-downloads-test-web-download/dlhandbook.html\n",
      "2024-04-26 08:16:43 [query/web_datasource.py] INFO: Downloaded Response URL: https://dmv.nv.gov/dlhandbook.htm\n",
      "2024-04-26 08:16:43 [query/web_datasource.py] INFO: Saving dlschools.htm to /var/folders/7s/s_wkt16s1_7cdm2p_ptskdl400dhhl/T/tmpvjh8hhbw\n",
      "2024-04-26 08:16:43 [query/web_datasource.py] INFO: 2793 bytes written\n",
      "2024-04-26 08:16:43 [utils/gcs_helper.py] INFO: Uploading /var/folders/7s/s_wkt16s1_7cdm2p_ptskdl400dhhl/T/tmpvjh8hhbw/dlschools.html to GCS bucket genie-ui-dev-downloads-test-web-download\n",
      "2024-04-26 08:16:43 [utils/gcs_helper.py] INFO: Uploaded /var/folders/7s/s_wkt16s1_7cdm2p_ptskdl400dhhl/T/tmpvjh8hhbw/dlschools.html to gs://genie-ui-dev-downloads-test-web-download/dlschools.html\n",
      "2024-04-26 08:16:43 [query/web_datasource.py] INFO: Downloaded Response URL: https://dmv.nv.gov/dlschools.htm\n"
     ]
    },
    {
     "name": "stdout",
     "output_type": "stream",
     "text": [
      "INFO: [query/web_datasource.py:49 - save_content()] Saving dltesting.htm to /var/folders/7s/s_wkt16s1_7cdm2p_ptskdl400dhhl/T/tmpvjh8hhbw\n",
      "INFO: [query/web_datasource.py:53 - save_content()] 10424 bytes written\n",
      "INFO: [utils/gcs_helper.py:76 - upload_to_gcs()] Uploading /var/folders/7s/s_wkt16s1_7cdm2p_ptskdl400dhhl/T/tmpvjh8hhbw/dltesting.html to GCS bucket genie-ui-dev-downloads-test-web-download\n"
     ]
    },
    {
     "name": "stderr",
     "output_type": "stream",
     "text": [
      "2024-04-26 08:16:43 [query/web_datasource.py] INFO: Saving dltesting.htm to /var/folders/7s/s_wkt16s1_7cdm2p_ptskdl400dhhl/T/tmpvjh8hhbw\n",
      "2024-04-26 08:16:43 [query/web_datasource.py] INFO: 10424 bytes written\n",
      "2024-04-26 08:16:43 [utils/gcs_helper.py] INFO: Uploading /var/folders/7s/s_wkt16s1_7cdm2p_ptskdl400dhhl/T/tmpvjh8hhbw/dltesting.html to GCS bucket genie-ui-dev-downloads-test-web-download\n"
     ]
    },
    {
     "name": "stdout",
     "output_type": "stream",
     "text": [
      "INFO: [utils/gcs_helper.py:82 - upload_to_gcs()] Uploaded /var/folders/7s/s_wkt16s1_7cdm2p_ptskdl400dhhl/T/tmpvjh8hhbw/dltesting.html to gs://genie-ui-dev-downloads-test-web-download/dltesting.html\n",
      "INFO: [query/web_datasource.py:224 - _item_scraped()] Downloaded Response URL: https://dmv.nv.gov/dltesting.htm\n"
     ]
    },
    {
     "name": "stderr",
     "output_type": "stream",
     "text": [
      "2024-04-26 08:16:43 [utils/gcs_helper.py] INFO: Uploaded /var/folders/7s/s_wkt16s1_7cdm2p_ptskdl400dhhl/T/tmpvjh8hhbw/dltesting.html to gs://genie-ui-dev-downloads-test-web-download/dltesting.html\n",
      "2024-04-26 08:16:43 [query/web_datasource.py] INFO: Downloaded Response URL: https://dmv.nv.gov/dltesting.htm\n"
     ]
    },
    {
     "name": "stdout",
     "output_type": "stream",
     "text": [
      "INFO: [query/web_datasource.py:49 - save_content()] Saving nvdl.htm to /var/folders/7s/s_wkt16s1_7cdm2p_ptskdl400dhhl/T/tmpvjh8hhbw\n",
      "INFO: [query/web_datasource.py:53 - save_content()] 9351 bytes written\n",
      "INFO: [utils/gcs_helper.py:76 - upload_to_gcs()] Uploading /var/folders/7s/s_wkt16s1_7cdm2p_ptskdl400dhhl/T/tmpvjh8hhbw/nvdl.html to GCS bucket genie-ui-dev-downloads-test-web-download\n"
     ]
    },
    {
     "name": "stderr",
     "output_type": "stream",
     "text": [
      "2024-04-26 08:16:44 [query/web_datasource.py] INFO: Saving nvdl.htm to /var/folders/7s/s_wkt16s1_7cdm2p_ptskdl400dhhl/T/tmpvjh8hhbw\n",
      "2024-04-26 08:16:44 [query/web_datasource.py] INFO: 9351 bytes written\n",
      "2024-04-26 08:16:44 [utils/gcs_helper.py] INFO: Uploading /var/folders/7s/s_wkt16s1_7cdm2p_ptskdl400dhhl/T/tmpvjh8hhbw/nvdl.html to GCS bucket genie-ui-dev-downloads-test-web-download\n"
     ]
    },
    {
     "name": "stdout",
     "output_type": "stream",
     "text": [
      "INFO: [utils/gcs_helper.py:82 - upload_to_gcs()] Uploaded /var/folders/7s/s_wkt16s1_7cdm2p_ptskdl400dhhl/T/tmpvjh8hhbw/nvdl.html to gs://genie-ui-dev-downloads-test-web-download/nvdl.html\n",
      "INFO: [query/web_datasource.py:224 - _item_scraped()] Downloaded Response URL: https://dmv.nv.gov/nvdl.htm\n",
      "INFO: [query/web_datasource.py:49 - save_content()] Saving cdl.htm to /var/folders/7s/s_wkt16s1_7cdm2p_ptskdl400dhhl/T/tmpvjh8hhbw\n",
      "INFO: [query/web_datasource.py:53 - save_content()] 9725 bytes written\n",
      "INFO: [utils/gcs_helper.py:76 - upload_to_gcs()] Uploading /var/folders/7s/s_wkt16s1_7cdm2p_ptskdl400dhhl/T/tmpvjh8hhbw/cdl.html to GCS bucket genie-ui-dev-downloads-test-web-download\n"
     ]
    },
    {
     "name": "stderr",
     "output_type": "stream",
     "text": [
      "2024-04-26 08:16:44 [utils/gcs_helper.py] INFO: Uploaded /var/folders/7s/s_wkt16s1_7cdm2p_ptskdl400dhhl/T/tmpvjh8hhbw/nvdl.html to gs://genie-ui-dev-downloads-test-web-download/nvdl.html\n",
      "2024-04-26 08:16:44 [query/web_datasource.py] INFO: Downloaded Response URL: https://dmv.nv.gov/nvdl.htm\n",
      "2024-04-26 08:16:44 [query/web_datasource.py] INFO: Saving cdl.htm to /var/folders/7s/s_wkt16s1_7cdm2p_ptskdl400dhhl/T/tmpvjh8hhbw\n",
      "2024-04-26 08:16:44 [query/web_datasource.py] INFO: 9725 bytes written\n",
      "2024-04-26 08:16:44 [utils/gcs_helper.py] INFO: Uploading /var/folders/7s/s_wkt16s1_7cdm2p_ptskdl400dhhl/T/tmpvjh8hhbw/cdl.html to GCS bucket genie-ui-dev-downloads-test-web-download\n"
     ]
    },
    {
     "name": "stdout",
     "output_type": "stream",
     "text": [
      "INFO: [utils/gcs_helper.py:82 - upload_to_gcs()] Uploaded /var/folders/7s/s_wkt16s1_7cdm2p_ptskdl400dhhl/T/tmpvjh8hhbw/cdl.html to gs://genie-ui-dev-downloads-test-web-download/cdl.html\n",
      "INFO: [query/web_datasource.py:224 - _item_scraped()] Downloaded Response URL: https://dmv.nv.gov/cdl.htm\n",
      "INFO: [query/web_datasource.py:49 - save_content()] Saving cdloffices.htm to /var/folders/7s/s_wkt16s1_7cdm2p_ptskdl400dhhl/T/tmpvjh8hhbw\n",
      "INFO: [query/web_datasource.py:53 - save_content()] 8036 bytes written\n",
      "INFO: [utils/gcs_helper.py:76 - upload_to_gcs()] Uploading /var/folders/7s/s_wkt16s1_7cdm2p_ptskdl400dhhl/T/tmpvjh8hhbw/cdloffices.html to GCS bucket genie-ui-dev-downloads-test-web-download\n"
     ]
    },
    {
     "name": "stderr",
     "output_type": "stream",
     "text": [
      "2024-04-26 08:16:44 [utils/gcs_helper.py] INFO: Uploaded /var/folders/7s/s_wkt16s1_7cdm2p_ptskdl400dhhl/T/tmpvjh8hhbw/cdl.html to gs://genie-ui-dev-downloads-test-web-download/cdl.html\n",
      "2024-04-26 08:16:44 [query/web_datasource.py] INFO: Downloaded Response URL: https://dmv.nv.gov/cdl.htm\n",
      "2024-04-26 08:16:44 [query/web_datasource.py] INFO: Saving cdloffices.htm to /var/folders/7s/s_wkt16s1_7cdm2p_ptskdl400dhhl/T/tmpvjh8hhbw\n",
      "2024-04-26 08:16:44 [query/web_datasource.py] INFO: 8036 bytes written\n",
      "2024-04-26 08:16:44 [utils/gcs_helper.py] INFO: Uploading /var/folders/7s/s_wkt16s1_7cdm2p_ptskdl400dhhl/T/tmpvjh8hhbw/cdloffices.html to GCS bucket genie-ui-dev-downloads-test-web-download\n"
     ]
    },
    {
     "name": "stdout",
     "output_type": "stream",
     "text": [
      "INFO: [utils/gcs_helper.py:82 - upload_to_gcs()] Uploaded /var/folders/7s/s_wkt16s1_7cdm2p_ptskdl400dhhl/T/tmpvjh8hhbw/cdloffices.html to gs://genie-ui-dev-downloads-test-web-download/cdloffices.html\n",
      "INFO: [query/web_datasource.py:224 - _item_scraped()] Downloaded Response URL: https://dmv.nv.gov/cdloffices.htm\n",
      "INFO: [query/web_datasource.py:49 - save_content()] Saving realid.htm to /var/folders/7s/s_wkt16s1_7cdm2p_ptskdl400dhhl/T/tmpvjh8hhbw\n",
      "INFO: [query/web_datasource.py:53 - save_content()] 16717 bytes written\n",
      "INFO: [utils/gcs_helper.py:76 - upload_to_gcs()] Uploading /var/folders/7s/s_wkt16s1_7cdm2p_ptskdl400dhhl/T/tmpvjh8hhbw/realid.html to GCS bucket genie-ui-dev-downloads-test-web-download\n"
     ]
    },
    {
     "name": "stderr",
     "output_type": "stream",
     "text": [
      "2024-04-26 08:16:44 [utils/gcs_helper.py] INFO: Uploaded /var/folders/7s/s_wkt16s1_7cdm2p_ptskdl400dhhl/T/tmpvjh8hhbw/cdloffices.html to gs://genie-ui-dev-downloads-test-web-download/cdloffices.html\n",
      "2024-04-26 08:16:44 [query/web_datasource.py] INFO: Downloaded Response URL: https://dmv.nv.gov/cdloffices.htm\n",
      "2024-04-26 08:16:44 [query/web_datasource.py] INFO: Saving realid.htm to /var/folders/7s/s_wkt16s1_7cdm2p_ptskdl400dhhl/T/tmpvjh8hhbw\n",
      "2024-04-26 08:16:44 [query/web_datasource.py] INFO: 16717 bytes written\n",
      "2024-04-26 08:16:44 [utils/gcs_helper.py] INFO: Uploading /var/folders/7s/s_wkt16s1_7cdm2p_ptskdl400dhhl/T/tmpvjh8hhbw/realid.html to GCS bucket genie-ui-dev-downloads-test-web-download\n"
     ]
    },
    {
     "name": "stdout",
     "output_type": "stream",
     "text": [
      "INFO: [utils/gcs_helper.py:82 - upload_to_gcs()] Uploaded /var/folders/7s/s_wkt16s1_7cdm2p_ptskdl400dhhl/T/tmpvjh8hhbw/realid.html to gs://genie-ui-dev-downloads-test-web-download/realid.html\n",
      "INFO: [query/web_datasource.py:224 - _item_scraped()] Downloaded Response URL: https://dmv.nv.gov/realid.htm\n",
      "INFO: [query/web_datasource.py:49 - save_content()] Saving assessor.htm to /var/folders/7s/s_wkt16s1_7cdm2p_ptskdl400dhhl/T/tmpvjh8hhbw\n",
      "INFO: [query/web_datasource.py:53 - save_content()] 9182 bytes written\n",
      "INFO: [utils/gcs_helper.py:76 - upload_to_gcs()] Uploading /var/folders/7s/s_wkt16s1_7cdm2p_ptskdl400dhhl/T/tmpvjh8hhbw/assessor.html to GCS bucket genie-ui-dev-downloads-test-web-download\n"
     ]
    },
    {
     "name": "stderr",
     "output_type": "stream",
     "text": [
      "2024-04-26 08:16:45 [utils/gcs_helper.py] INFO: Uploaded /var/folders/7s/s_wkt16s1_7cdm2p_ptskdl400dhhl/T/tmpvjh8hhbw/realid.html to gs://genie-ui-dev-downloads-test-web-download/realid.html\n",
      "2024-04-26 08:16:45 [query/web_datasource.py] INFO: Downloaded Response URL: https://dmv.nv.gov/realid.htm\n",
      "2024-04-26 08:16:45 [query/web_datasource.py] INFO: Saving assessor.htm to /var/folders/7s/s_wkt16s1_7cdm2p_ptskdl400dhhl/T/tmpvjh8hhbw\n",
      "2024-04-26 08:16:45 [query/web_datasource.py] INFO: 9182 bytes written\n",
      "2024-04-26 08:16:45 [utils/gcs_helper.py] INFO: Uploading /var/folders/7s/s_wkt16s1_7cdm2p_ptskdl400dhhl/T/tmpvjh8hhbw/assessor.html to GCS bucket genie-ui-dev-downloads-test-web-download\n"
     ]
    },
    {
     "name": "stdout",
     "output_type": "stream",
     "text": [
      "INFO: [utils/gcs_helper.py:82 - upload_to_gcs()] Uploaded /var/folders/7s/s_wkt16s1_7cdm2p_ptskdl400dhhl/T/tmpvjh8hhbw/assessor.html to gs://genie-ui-dev-downloads-test-web-download/assessor.html\n",
      "INFO: [query/web_datasource.py:224 - _item_scraped()] Downloaded Response URL: https://dmv.nv.gov/assessor.htm\n",
      "INFO: [query/web_datasource.py:49 - save_content()] Saving canceldrive.htm to /var/folders/7s/s_wkt16s1_7cdm2p_ptskdl400dhhl/T/tmpvjh8hhbw\n",
      "INFO: [query/web_datasource.py:53 - save_content()] 747 bytes written\n",
      "INFO: [utils/gcs_helper.py:76 - upload_to_gcs()] Uploading /var/folders/7s/s_wkt16s1_7cdm2p_ptskdl400dhhl/T/tmpvjh8hhbw/canceldrive.html to GCS bucket genie-ui-dev-downloads-test-web-download\n"
     ]
    },
    {
     "name": "stderr",
     "output_type": "stream",
     "text": [
      "2024-04-26 08:16:45 [utils/gcs_helper.py] INFO: Uploaded /var/folders/7s/s_wkt16s1_7cdm2p_ptskdl400dhhl/T/tmpvjh8hhbw/assessor.html to gs://genie-ui-dev-downloads-test-web-download/assessor.html\n",
      "2024-04-26 08:16:45 [query/web_datasource.py] INFO: Downloaded Response URL: https://dmv.nv.gov/assessor.htm\n",
      "2024-04-26 08:16:45 [query/web_datasource.py] INFO: Saving canceldrive.htm to /var/folders/7s/s_wkt16s1_7cdm2p_ptskdl400dhhl/T/tmpvjh8hhbw\n",
      "2024-04-26 08:16:45 [query/web_datasource.py] INFO: 747 bytes written\n",
      "2024-04-26 08:16:45 [utils/gcs_helper.py] INFO: Uploading /var/folders/7s/s_wkt16s1_7cdm2p_ptskdl400dhhl/T/tmpvjh8hhbw/canceldrive.html to GCS bucket genie-ui-dev-downloads-test-web-download\n"
     ]
    },
    {
     "name": "stdout",
     "output_type": "stream",
     "text": [
      "INFO: [utils/gcs_helper.py:82 - upload_to_gcs()] Uploaded /var/folders/7s/s_wkt16s1_7cdm2p_ptskdl400dhhl/T/tmpvjh8hhbw/canceldrive.html to gs://genie-ui-dev-downloads-test-web-download/canceldrive.html\n",
      "INFO: [query/web_datasource.py:224 - _item_scraped()] Downloaded Response URL: https://dmv.nv.gov/canceldrive.htm\n",
      "INFO: [query/web_datasource.py:49 - save_content()] Saving locat.htm to /var/folders/7s/s_wkt16s1_7cdm2p_ptskdl400dhhl/T/tmpvjh8hhbw\n",
      "INFO: [query/web_datasource.py:53 - save_content()] 9457 bytes written\n",
      "INFO: [utils/gcs_helper.py:76 - upload_to_gcs()] Uploading /var/folders/7s/s_wkt16s1_7cdm2p_ptskdl400dhhl/T/tmpvjh8hhbw/locat.html to GCS bucket genie-ui-dev-downloads-test-web-download\n"
     ]
    },
    {
     "name": "stderr",
     "output_type": "stream",
     "text": [
      "2024-04-26 08:16:45 [utils/gcs_helper.py] INFO: Uploaded /var/folders/7s/s_wkt16s1_7cdm2p_ptskdl400dhhl/T/tmpvjh8hhbw/canceldrive.html to gs://genie-ui-dev-downloads-test-web-download/canceldrive.html\n",
      "2024-04-26 08:16:45 [query/web_datasource.py] INFO: Downloaded Response URL: https://dmv.nv.gov/canceldrive.htm\n",
      "2024-04-26 08:16:45 [query/web_datasource.py] INFO: Saving locat.htm to /var/folders/7s/s_wkt16s1_7cdm2p_ptskdl400dhhl/T/tmpvjh8hhbw\n",
      "2024-04-26 08:16:45 [query/web_datasource.py] INFO: 9457 bytes written\n",
      "2024-04-26 08:16:45 [utils/gcs_helper.py] INFO: Uploading /var/folders/7s/s_wkt16s1_7cdm2p_ptskdl400dhhl/T/tmpvjh8hhbw/locat.html to GCS bucket genie-ui-dev-downloads-test-web-download\n"
     ]
    },
    {
     "name": "stdout",
     "output_type": "stream",
     "text": [
      "INFO: [utils/gcs_helper.py:82 - upload_to_gcs()] Uploaded /var/folders/7s/s_wkt16s1_7cdm2p_ptskdl400dhhl/T/tmpvjh8hhbw/locat.html to gs://genie-ui-dev-downloads-test-web-download/locat.html\n",
      "INFO: [query/web_datasource.py:224 - _item_scraped()] Downloaded Response URL: https://dmv.nv.gov/locat.htm\n",
      "INFO: [query/web_datasource.py:49 - save_content()] Saving dmvforms.htm to /var/folders/7s/s_wkt16s1_7cdm2p_ptskdl400dhhl/T/tmpvjh8hhbw\n",
      "INFO: [query/web_datasource.py:53 - save_content()] 24690 bytes written\n",
      "INFO: [utils/gcs_helper.py:76 - upload_to_gcs()] Uploading /var/folders/7s/s_wkt16s1_7cdm2p_ptskdl400dhhl/T/tmpvjh8hhbw/dmvforms.html to GCS bucket genie-ui-dev-downloads-test-web-download\n"
     ]
    },
    {
     "name": "stderr",
     "output_type": "stream",
     "text": [
      "2024-04-26 08:16:45 [utils/gcs_helper.py] INFO: Uploaded /var/folders/7s/s_wkt16s1_7cdm2p_ptskdl400dhhl/T/tmpvjh8hhbw/locat.html to gs://genie-ui-dev-downloads-test-web-download/locat.html\n",
      "2024-04-26 08:16:45 [query/web_datasource.py] INFO: Downloaded Response URL: https://dmv.nv.gov/locat.htm\n",
      "2024-04-26 08:16:46 [query/web_datasource.py] INFO: Saving dmvforms.htm to /var/folders/7s/s_wkt16s1_7cdm2p_ptskdl400dhhl/T/tmpvjh8hhbw\n",
      "2024-04-26 08:16:46 [query/web_datasource.py] INFO: 24690 bytes written\n",
      "2024-04-26 08:16:46 [utils/gcs_helper.py] INFO: Uploading /var/folders/7s/s_wkt16s1_7cdm2p_ptskdl400dhhl/T/tmpvjh8hhbw/dmvforms.html to GCS bucket genie-ui-dev-downloads-test-web-download\n"
     ]
    },
    {
     "name": "stdout",
     "output_type": "stream",
     "text": [
      "INFO: [utils/gcs_helper.py:82 - upload_to_gcs()] Uploaded /var/folders/7s/s_wkt16s1_7cdm2p_ptskdl400dhhl/T/tmpvjh8hhbw/dmvforms.html to gs://genie-ui-dev-downloads-test-web-download/dmvforms.html\n",
      "INFO: [query/web_datasource.py:224 - _item_scraped()] Downloaded Response URL: https://dmv.nv.gov/dmvforms.htm\n",
      "INFO: [query/web_datasource.py:49 - save_content()] Saving dlhistory.htm to /var/folders/7s/s_wkt16s1_7cdm2p_ptskdl400dhhl/T/tmpvjh8hhbw\n",
      "INFO: [query/web_datasource.py:53 - save_content()] 4857 bytes written\n",
      "INFO: [utils/gcs_helper.py:76 - upload_to_gcs()] Uploading /var/folders/7s/s_wkt16s1_7cdm2p_ptskdl400dhhl/T/tmpvjh8hhbw/dlhistory.html to GCS bucket genie-ui-dev-downloads-test-web-download\n"
     ]
    },
    {
     "name": "stderr",
     "output_type": "stream",
     "text": [
      "2024-04-26 08:16:46 [utils/gcs_helper.py] INFO: Uploaded /var/folders/7s/s_wkt16s1_7cdm2p_ptskdl400dhhl/T/tmpvjh8hhbw/dmvforms.html to gs://genie-ui-dev-downloads-test-web-download/dmvforms.html\n",
      "2024-04-26 08:16:46 [query/web_datasource.py] INFO: Downloaded Response URL: https://dmv.nv.gov/dmvforms.htm\n",
      "2024-04-26 08:16:46 [query/web_datasource.py] INFO: Saving dlhistory.htm to /var/folders/7s/s_wkt16s1_7cdm2p_ptskdl400dhhl/T/tmpvjh8hhbw\n",
      "2024-04-26 08:16:46 [query/web_datasource.py] INFO: 4857 bytes written\n",
      "2024-04-26 08:16:46 [utils/gcs_helper.py] INFO: Uploading /var/folders/7s/s_wkt16s1_7cdm2p_ptskdl400dhhl/T/tmpvjh8hhbw/dlhistory.html to GCS bucket genie-ui-dev-downloads-test-web-download\n"
     ]
    },
    {
     "name": "stdout",
     "output_type": "stream",
     "text": [
      "INFO: [utils/gcs_helper.py:82 - upload_to_gcs()] Uploaded /var/folders/7s/s_wkt16s1_7cdm2p_ptskdl400dhhl/T/tmpvjh8hhbw/dlhistory.html to gs://genie-ui-dev-downloads-test-web-download/dlhistory.html\n",
      "INFO: [query/web_datasource.py:224 - _item_scraped()] Downloaded Response URL: https://dmv.nv.gov/dlhistory.htm\n",
      "INFO: [query/web_datasource.py:49 - save_content()] Saving addchange.htm to /var/folders/7s/s_wkt16s1_7cdm2p_ptskdl400dhhl/T/tmpvjh8hhbw\n",
      "INFO: [query/web_datasource.py:53 - save_content()] 4684 bytes written\n",
      "INFO: [utils/gcs_helper.py:76 - upload_to_gcs()] Uploading /var/folders/7s/s_wkt16s1_7cdm2p_ptskdl400dhhl/T/tmpvjh8hhbw/addchange.html to GCS bucket genie-ui-dev-downloads-test-web-download\n"
     ]
    },
    {
     "name": "stderr",
     "output_type": "stream",
     "text": [
      "2024-04-26 08:16:46 [utils/gcs_helper.py] INFO: Uploaded /var/folders/7s/s_wkt16s1_7cdm2p_ptskdl400dhhl/T/tmpvjh8hhbw/dlhistory.html to gs://genie-ui-dev-downloads-test-web-download/dlhistory.html\n",
      "2024-04-26 08:16:46 [query/web_datasource.py] INFO: Downloaded Response URL: https://dmv.nv.gov/dlhistory.htm\n",
      "2024-04-26 08:16:46 [query/web_datasource.py] INFO: Saving addchange.htm to /var/folders/7s/s_wkt16s1_7cdm2p_ptskdl400dhhl/T/tmpvjh8hhbw\n",
      "2024-04-26 08:16:46 [query/web_datasource.py] INFO: 4684 bytes written\n",
      "2024-04-26 08:16:46 [utils/gcs_helper.py] INFO: Uploading /var/folders/7s/s_wkt16s1_7cdm2p_ptskdl400dhhl/T/tmpvjh8hhbw/addchange.html to GCS bucket genie-ui-dev-downloads-test-web-download\n"
     ]
    },
    {
     "name": "stdout",
     "output_type": "stream",
     "text": [
      "INFO: [utils/gcs_helper.py:82 - upload_to_gcs()] Uploaded /var/folders/7s/s_wkt16s1_7cdm2p_ptskdl400dhhl/T/tmpvjh8hhbw/addchange.html to gs://genie-ui-dev-downloads-test-web-download/addchange.html\n",
      "INFO: [query/web_datasource.py:224 - _item_scraped()] Downloaded Response URL: https://dmv.nv.gov/addchange.htm\n",
      "INFO: [query/web_datasource.py:49 - save_content()] Saving insurance.htm to /var/folders/7s/s_wkt16s1_7cdm2p_ptskdl400dhhl/T/tmpvjh8hhbw\n",
      "INFO: [query/web_datasource.py:53 - save_content()] 29400 bytes written\n",
      "INFO: [utils/gcs_helper.py:76 - upload_to_gcs()] Uploading /var/folders/7s/s_wkt16s1_7cdm2p_ptskdl400dhhl/T/tmpvjh8hhbw/insurance.html to GCS bucket genie-ui-dev-downloads-test-web-download\n"
     ]
    },
    {
     "name": "stderr",
     "output_type": "stream",
     "text": [
      "2024-04-26 08:16:46 [utils/gcs_helper.py] INFO: Uploaded /var/folders/7s/s_wkt16s1_7cdm2p_ptskdl400dhhl/T/tmpvjh8hhbw/addchange.html to gs://genie-ui-dev-downloads-test-web-download/addchange.html\n",
      "2024-04-26 08:16:46 [query/web_datasource.py] INFO: Downloaded Response URL: https://dmv.nv.gov/addchange.htm\n",
      "2024-04-26 08:16:47 [query/web_datasource.py] INFO: Saving insurance.htm to /var/folders/7s/s_wkt16s1_7cdm2p_ptskdl400dhhl/T/tmpvjh8hhbw\n",
      "2024-04-26 08:16:47 [query/web_datasource.py] INFO: 29400 bytes written\n",
      "2024-04-26 08:16:47 [utils/gcs_helper.py] INFO: Uploading /var/folders/7s/s_wkt16s1_7cdm2p_ptskdl400dhhl/T/tmpvjh8hhbw/insurance.html to GCS bucket genie-ui-dev-downloads-test-web-download\n"
     ]
    },
    {
     "name": "stdout",
     "output_type": "stream",
     "text": [
      "INFO: [utils/gcs_helper.py:82 - upload_to_gcs()] Uploaded /var/folders/7s/s_wkt16s1_7cdm2p_ptskdl400dhhl/T/tmpvjh8hhbw/insurance.html to gs://genie-ui-dev-downloads-test-web-download/insurance.html\n",
      "INFO: [query/web_datasource.py:224 - _item_scraped()] Downloaded Response URL: https://dmv.nv.gov/insurance.htm\n",
      "INFO: [query/web_datasource.py:49 - save_content()] Saving platesmain.htm to /var/folders/7s/s_wkt16s1_7cdm2p_ptskdl400dhhl/T/tmpvjh8hhbw\n",
      "INFO: [query/web_datasource.py:53 - save_content()] 13089 bytes written\n",
      "INFO: [utils/gcs_helper.py:76 - upload_to_gcs()] Uploading /var/folders/7s/s_wkt16s1_7cdm2p_ptskdl400dhhl/T/tmpvjh8hhbw/platesmain.html to GCS bucket genie-ui-dev-downloads-test-web-download\n"
     ]
    },
    {
     "name": "stderr",
     "output_type": "stream",
     "text": [
      "2024-04-26 08:16:47 [utils/gcs_helper.py] INFO: Uploaded /var/folders/7s/s_wkt16s1_7cdm2p_ptskdl400dhhl/T/tmpvjh8hhbw/insurance.html to gs://genie-ui-dev-downloads-test-web-download/insurance.html\n",
      "2024-04-26 08:16:47 [query/web_datasource.py] INFO: Downloaded Response URL: https://dmv.nv.gov/insurance.htm\n",
      "2024-04-26 08:16:47 [query/web_datasource.py] INFO: Saving platesmain.htm to /var/folders/7s/s_wkt16s1_7cdm2p_ptskdl400dhhl/T/tmpvjh8hhbw\n",
      "2024-04-26 08:16:47 [query/web_datasource.py] INFO: 13089 bytes written\n",
      "2024-04-26 08:16:47 [utils/gcs_helper.py] INFO: Uploading /var/folders/7s/s_wkt16s1_7cdm2p_ptskdl400dhhl/T/tmpvjh8hhbw/platesmain.html to GCS bucket genie-ui-dev-downloads-test-web-download\n"
     ]
    },
    {
     "name": "stdout",
     "output_type": "stream",
     "text": [
      "INFO: [utils/gcs_helper.py:82 - upload_to_gcs()] Uploaded /var/folders/7s/s_wkt16s1_7cdm2p_ptskdl400dhhl/T/tmpvjh8hhbw/platesmain.html to gs://genie-ui-dev-downloads-test-web-download/platesmain.html\n",
      "INFO: [query/web_datasource.py:224 - _item_scraped()] Downloaded Response URL: https://dmv.nv.gov/platesmain.htm\n",
      "INFO: [query/web_datasource.py:49 - save_content()] Saving regpermits.htm to /var/folders/7s/s_wkt16s1_7cdm2p_ptskdl400dhhl/T/tmpvjh8hhbw\n",
      "INFO: [query/web_datasource.py:53 - save_content()] 9292 bytes written\n",
      "INFO: [utils/gcs_helper.py:76 - upload_to_gcs()] Uploading /var/folders/7s/s_wkt16s1_7cdm2p_ptskdl400dhhl/T/tmpvjh8hhbw/regpermits.html to GCS bucket genie-ui-dev-downloads-test-web-download\n"
     ]
    },
    {
     "name": "stderr",
     "output_type": "stream",
     "text": [
      "2024-04-26 08:16:47 [utils/gcs_helper.py] INFO: Uploaded /var/folders/7s/s_wkt16s1_7cdm2p_ptskdl400dhhl/T/tmpvjh8hhbw/platesmain.html to gs://genie-ui-dev-downloads-test-web-download/platesmain.html\n",
      "2024-04-26 08:16:47 [query/web_datasource.py] INFO: Downloaded Response URL: https://dmv.nv.gov/platesmain.htm\n",
      "2024-04-26 08:16:47 [query/web_datasource.py] INFO: Saving regpermits.htm to /var/folders/7s/s_wkt16s1_7cdm2p_ptskdl400dhhl/T/tmpvjh8hhbw\n",
      "2024-04-26 08:16:47 [query/web_datasource.py] INFO: 9292 bytes written\n",
      "2024-04-26 08:16:47 [utils/gcs_helper.py] INFO: Uploading /var/folders/7s/s_wkt16s1_7cdm2p_ptskdl400dhhl/T/tmpvjh8hhbw/regpermits.html to GCS bucket genie-ui-dev-downloads-test-web-download\n"
     ]
    },
    {
     "name": "stdout",
     "output_type": "stream",
     "text": [
      "INFO: [utils/gcs_helper.py:82 - upload_to_gcs()] Uploaded /var/folders/7s/s_wkt16s1_7cdm2p_ptskdl400dhhl/T/tmpvjh8hhbw/regpermits.html to gs://genie-ui-dev-downloads-test-web-download/regpermits.html\n",
      "INFO: [query/web_datasource.py:224 - _item_scraped()] Downloaded Response URL: https://dmv.nv.gov/regpermits.htm\n",
      "INFO: [query/web_datasource.py:49 - save_content()] Saving floodvehicles.htm to /var/folders/7s/s_wkt16s1_7cdm2p_ptskdl400dhhl/T/tmpvjh8hhbw\n",
      "INFO: [query/web_datasource.py:53 - save_content()] 3338 bytes written\n",
      "INFO: [utils/gcs_helper.py:76 - upload_to_gcs()] Uploading /var/folders/7s/s_wkt16s1_7cdm2p_ptskdl400dhhl/T/tmpvjh8hhbw/floodvehicles.html to GCS bucket genie-ui-dev-downloads-test-web-download\n",
      "INFO: [utils/gcs_helper.py:82 - upload_to_gcs()] Uploaded /var/folders/7s/s_wkt16s1_7cdm2p_ptskdl400dhhl/T/tmpvjh8hhbw/floodvehicles.html to gs://genie-ui-dev-downloads-test-web-download/floodvehicles.html\n",
      "INFO: [query/web_datasource.py:224 - _item_scraped()] Downloaded Response URL: https://dmv.nv.gov/floodvehicles.htm\n"
     ]
    },
    {
     "name": "stderr",
     "output_type": "stream",
     "text": [
      "2024-04-26 08:16:47 [utils/gcs_helper.py] INFO: Uploaded /var/folders/7s/s_wkt16s1_7cdm2p_ptskdl400dhhl/T/tmpvjh8hhbw/regpermits.html to gs://genie-ui-dev-downloads-test-web-download/regpermits.html\n",
      "2024-04-26 08:16:47 [query/web_datasource.py] INFO: Downloaded Response URL: https://dmv.nv.gov/regpermits.htm\n",
      "2024-04-26 08:16:47 [query/web_datasource.py] INFO: Saving floodvehicles.htm to /var/folders/7s/s_wkt16s1_7cdm2p_ptskdl400dhhl/T/tmpvjh8hhbw\n",
      "2024-04-26 08:16:47 [query/web_datasource.py] INFO: 3338 bytes written\n",
      "2024-04-26 08:16:47 [utils/gcs_helper.py] INFO: Uploading /var/folders/7s/s_wkt16s1_7cdm2p_ptskdl400dhhl/T/tmpvjh8hhbw/floodvehicles.html to GCS bucket genie-ui-dev-downloads-test-web-download\n",
      "2024-04-26 08:16:47 [utils/gcs_helper.py] INFO: Uploaded /var/folders/7s/s_wkt16s1_7cdm2p_ptskdl400dhhl/T/tmpvjh8hhbw/floodvehicles.html to gs://genie-ui-dev-downloads-test-web-download/floodvehicles.html\n",
      "2024-04-26 08:16:47 [query/web_datasource.py] INFO: Downloaded Response URL: https://dmv.nv.gov/floodvehicles.htm\n"
     ]
    },
    {
     "name": "stdout",
     "output_type": "stream",
     "text": [
      "INFO: [query/web_datasource.py:49 - save_content()] Saving salvage.htm to /var/folders/7s/s_wkt16s1_7cdm2p_ptskdl400dhhl/T/tmpvjh8hhbw\n",
      "INFO: [query/web_datasource.py:53 - save_content()] 15303 bytes written\n",
      "INFO: [utils/gcs_helper.py:76 - upload_to_gcs()] Uploading /var/folders/7s/s_wkt16s1_7cdm2p_ptskdl400dhhl/T/tmpvjh8hhbw/salvage.html to GCS bucket genie-ui-dev-downloads-test-web-download\n"
     ]
    },
    {
     "name": "stderr",
     "output_type": "stream",
     "text": [
      "2024-04-26 08:16:47 [query/web_datasource.py] INFO: Saving salvage.htm to /var/folders/7s/s_wkt16s1_7cdm2p_ptskdl400dhhl/T/tmpvjh8hhbw\n",
      "2024-04-26 08:16:47 [query/web_datasource.py] INFO: 15303 bytes written\n",
      "2024-04-26 08:16:47 [utils/gcs_helper.py] INFO: Uploading /var/folders/7s/s_wkt16s1_7cdm2p_ptskdl400dhhl/T/tmpvjh8hhbw/salvage.html to GCS bucket genie-ui-dev-downloads-test-web-download\n"
     ]
    },
    {
     "name": "stdout",
     "output_type": "stream",
     "text": [
      "INFO: [utils/gcs_helper.py:82 - upload_to_gcs()] Uploaded /var/folders/7s/s_wkt16s1_7cdm2p_ptskdl400dhhl/T/tmpvjh8hhbw/salvage.html to gs://genie-ui-dev-downloads-test-web-download/salvage.html\n",
      "INFO: [query/web_datasource.py:224 - _item_scraped()] Downloaded Response URL: https://dmv.nv.gov/salvage.htm\n",
      "INFO: [query/web_datasource.py:49 - save_content()] Saving title.htm to /var/folders/7s/s_wkt16s1_7cdm2p_ptskdl400dhhl/T/tmpvjh8hhbw\n",
      "INFO: [query/web_datasource.py:53 - save_content()] 13125 bytes written\n",
      "INFO: [utils/gcs_helper.py:76 - upload_to_gcs()] Uploading /var/folders/7s/s_wkt16s1_7cdm2p_ptskdl400dhhl/T/tmpvjh8hhbw/title.html to GCS bucket genie-ui-dev-downloads-test-web-download\n"
     ]
    },
    {
     "name": "stderr",
     "output_type": "stream",
     "text": [
      "2024-04-26 08:16:48 [utils/gcs_helper.py] INFO: Uploaded /var/folders/7s/s_wkt16s1_7cdm2p_ptskdl400dhhl/T/tmpvjh8hhbw/salvage.html to gs://genie-ui-dev-downloads-test-web-download/salvage.html\n",
      "2024-04-26 08:16:48 [query/web_datasource.py] INFO: Downloaded Response URL: https://dmv.nv.gov/salvage.htm\n",
      "2024-04-26 08:16:48 [query/web_datasource.py] INFO: Saving title.htm to /var/folders/7s/s_wkt16s1_7cdm2p_ptskdl400dhhl/T/tmpvjh8hhbw\n",
      "2024-04-26 08:16:48 [query/web_datasource.py] INFO: 13125 bytes written\n",
      "2024-04-26 08:16:48 [utils/gcs_helper.py] INFO: Uploading /var/folders/7s/s_wkt16s1_7cdm2p_ptskdl400dhhl/T/tmpvjh8hhbw/title.html to GCS bucket genie-ui-dev-downloads-test-web-download\n"
     ]
    },
    {
     "name": "stdout",
     "output_type": "stream",
     "text": [
      "INFO: [utils/gcs_helper.py:82 - upload_to_gcs()] Uploaded /var/folders/7s/s_wkt16s1_7cdm2p_ptskdl400dhhl/T/tmpvjh8hhbw/title.html to gs://genie-ui-dev-downloads-test-web-download/title.html\n",
      "INFO: [query/web_datasource.py:224 - _item_scraped()] Downloaded Response URL: https://dmv.nv.gov/title.htm\n",
      "INFO: [query/web_datasource.py:49 - save_content()] Saving regfees.htm to /var/folders/7s/s_wkt16s1_7cdm2p_ptskdl400dhhl/T/tmpvjh8hhbw\n",
      "INFO: [query/web_datasource.py:53 - save_content()] 8930 bytes written\n",
      "INFO: [utils/gcs_helper.py:76 - upload_to_gcs()] Uploading /var/folders/7s/s_wkt16s1_7cdm2p_ptskdl400dhhl/T/tmpvjh8hhbw/regfees.html to GCS bucket genie-ui-dev-downloads-test-web-download\n"
     ]
    },
    {
     "name": "stderr",
     "output_type": "stream",
     "text": [
      "2024-04-26 08:16:48 [utils/gcs_helper.py] INFO: Uploaded /var/folders/7s/s_wkt16s1_7cdm2p_ptskdl400dhhl/T/tmpvjh8hhbw/title.html to gs://genie-ui-dev-downloads-test-web-download/title.html\n",
      "2024-04-26 08:16:48 [query/web_datasource.py] INFO: Downloaded Response URL: https://dmv.nv.gov/title.htm\n",
      "2024-04-26 08:16:48 [query/web_datasource.py] INFO: Saving regfees.htm to /var/folders/7s/s_wkt16s1_7cdm2p_ptskdl400dhhl/T/tmpvjh8hhbw\n",
      "2024-04-26 08:16:48 [query/web_datasource.py] INFO: 8930 bytes written\n",
      "2024-04-26 08:16:48 [utils/gcs_helper.py] INFO: Uploading /var/folders/7s/s_wkt16s1_7cdm2p_ptskdl400dhhl/T/tmpvjh8hhbw/regfees.html to GCS bucket genie-ui-dev-downloads-test-web-download\n"
     ]
    },
    {
     "name": "stdout",
     "output_type": "stream",
     "text": [
      "INFO: [utils/gcs_helper.py:82 - upload_to_gcs()] Uploaded /var/folders/7s/s_wkt16s1_7cdm2p_ptskdl400dhhl/T/tmpvjh8hhbw/regfees.html to gs://genie-ui-dev-downloads-test-web-download/regfees.html\n",
      "INFO: [query/web_datasource.py:224 - _item_scraped()] Downloaded Response URL: https://dmv.nv.gov/regfees.htm\n",
      "INFO: [query/web_datasource.py:49 - save_content()] Saving platesurrender.htm to /var/folders/7s/s_wkt16s1_7cdm2p_ptskdl400dhhl/T/tmpvjh8hhbw\n",
      "INFO: [query/web_datasource.py:53 - save_content()] 9459 bytes written\n",
      "INFO: [utils/gcs_helper.py:76 - upload_to_gcs()] Uploading /var/folders/7s/s_wkt16s1_7cdm2p_ptskdl400dhhl/T/tmpvjh8hhbw/platesurrender.html to GCS bucket genie-ui-dev-downloads-test-web-download\n"
     ]
    },
    {
     "name": "stderr",
     "output_type": "stream",
     "text": [
      "2024-04-26 08:16:48 [utils/gcs_helper.py] INFO: Uploaded /var/folders/7s/s_wkt16s1_7cdm2p_ptskdl400dhhl/T/tmpvjh8hhbw/regfees.html to gs://genie-ui-dev-downloads-test-web-download/regfees.html\n",
      "2024-04-26 08:16:48 [query/web_datasource.py] INFO: Downloaded Response URL: https://dmv.nv.gov/regfees.htm\n",
      "2024-04-26 08:16:48 [query/web_datasource.py] INFO: Saving platesurrender.htm to /var/folders/7s/s_wkt16s1_7cdm2p_ptskdl400dhhl/T/tmpvjh8hhbw\n",
      "2024-04-26 08:16:48 [query/web_datasource.py] INFO: 9459 bytes written\n",
      "2024-04-26 08:16:48 [utils/gcs_helper.py] INFO: Uploading /var/folders/7s/s_wkt16s1_7cdm2p_ptskdl400dhhl/T/tmpvjh8hhbw/platesurrender.html to GCS bucket genie-ui-dev-downloads-test-web-download\n"
     ]
    },
    {
     "name": "stdout",
     "output_type": "stream",
     "text": [
      "INFO: [utils/gcs_helper.py:82 - upload_to_gcs()] Uploaded /var/folders/7s/s_wkt16s1_7cdm2p_ptskdl400dhhl/T/tmpvjh8hhbw/platesurrender.html to gs://genie-ui-dev-downloads-test-web-download/platesurrender.html\n",
      "INFO: [query/web_datasource.py:224 - _item_scraped()] Downloaded Response URL: https://dmv.nv.gov/platesurrender.htm\n",
      "INFO: [query/web_datasource.py:49 - save_content()] Saving dlrenewal.htm to /var/folders/7s/s_wkt16s1_7cdm2p_ptskdl400dhhl/T/tmpvjh8hhbw\n",
      "INFO: [query/web_datasource.py:53 - save_content()] 10039 bytes written\n",
      "INFO: [utils/gcs_helper.py:76 - upload_to_gcs()] Uploading /var/folders/7s/s_wkt16s1_7cdm2p_ptskdl400dhhl/T/tmpvjh8hhbw/dlrenewal.html to GCS bucket genie-ui-dev-downloads-test-web-download\n"
     ]
    },
    {
     "name": "stderr",
     "output_type": "stream",
     "text": [
      "2024-04-26 08:16:49 [utils/gcs_helper.py] INFO: Uploaded /var/folders/7s/s_wkt16s1_7cdm2p_ptskdl400dhhl/T/tmpvjh8hhbw/platesurrender.html to gs://genie-ui-dev-downloads-test-web-download/platesurrender.html\n",
      "2024-04-26 08:16:49 [query/web_datasource.py] INFO: Downloaded Response URL: https://dmv.nv.gov/platesurrender.htm\n",
      "2024-04-26 08:16:49 [query/web_datasource.py] INFO: Saving dlrenewal.htm to /var/folders/7s/s_wkt16s1_7cdm2p_ptskdl400dhhl/T/tmpvjh8hhbw\n",
      "2024-04-26 08:16:49 [query/web_datasource.py] INFO: 10039 bytes written\n",
      "2024-04-26 08:16:49 [utils/gcs_helper.py] INFO: Uploading /var/folders/7s/s_wkt16s1_7cdm2p_ptskdl400dhhl/T/tmpvjh8hhbw/dlrenewal.html to GCS bucket genie-ui-dev-downloads-test-web-download\n"
     ]
    },
    {
     "name": "stdout",
     "output_type": "stream",
     "text": [
      "INFO: [utils/gcs_helper.py:82 - upload_to_gcs()] Uploaded /var/folders/7s/s_wkt16s1_7cdm2p_ptskdl400dhhl/T/tmpvjh8hhbw/dlrenewal.html to gs://genie-ui-dev-downloads-test-web-download/dlrenewal.html\n",
      "INFO: [query/web_datasource.py:224 - _item_scraped()] Downloaded Response URL: https://dmv.nv.gov/dlrenewal.htm\n",
      "INFO: [query/web_datasource.py:49 - save_content()] Saving regrenewal.htm to /var/folders/7s/s_wkt16s1_7cdm2p_ptskdl400dhhl/T/tmpvjh8hhbw\n",
      "INFO: [query/web_datasource.py:53 - save_content()] 19870 bytes written\n",
      "INFO: [utils/gcs_helper.py:76 - upload_to_gcs()] Uploading /var/folders/7s/s_wkt16s1_7cdm2p_ptskdl400dhhl/T/tmpvjh8hhbw/regrenewal.html to GCS bucket genie-ui-dev-downloads-test-web-download\n"
     ]
    },
    {
     "name": "stderr",
     "output_type": "stream",
     "text": [
      "2024-04-26 08:16:49 [utils/gcs_helper.py] INFO: Uploaded /var/folders/7s/s_wkt16s1_7cdm2p_ptskdl400dhhl/T/tmpvjh8hhbw/dlrenewal.html to gs://genie-ui-dev-downloads-test-web-download/dlrenewal.html\n",
      "2024-04-26 08:16:49 [query/web_datasource.py] INFO: Downloaded Response URL: https://dmv.nv.gov/dlrenewal.htm\n",
      "2024-04-26 08:16:49 [query/web_datasource.py] INFO: Saving regrenewal.htm to /var/folders/7s/s_wkt16s1_7cdm2p_ptskdl400dhhl/T/tmpvjh8hhbw\n",
      "2024-04-26 08:16:49 [query/web_datasource.py] INFO: 19870 bytes written\n",
      "2024-04-26 08:16:49 [utils/gcs_helper.py] INFO: Uploading /var/folders/7s/s_wkt16s1_7cdm2p_ptskdl400dhhl/T/tmpvjh8hhbw/regrenewal.html to GCS bucket genie-ui-dev-downloads-test-web-download\n"
     ]
    },
    {
     "name": "stdout",
     "output_type": "stream",
     "text": [
      "INFO: [utils/gcs_helper.py:82 - upload_to_gcs()] Uploaded /var/folders/7s/s_wkt16s1_7cdm2p_ptskdl400dhhl/T/tmpvjh8hhbw/regrenewal.html to gs://genie-ui-dev-downloads-test-web-download/regrenewal.html\n",
      "INFO: [query/web_datasource.py:224 - _item_scraped()] Downloaded Response URL: https://dmv.nv.gov/regrenewal.htm\n",
      "INFO: [query/web_datasource.py:49 - save_content()] Saving dlduplicate.htm to /var/folders/7s/s_wkt16s1_7cdm2p_ptskdl400dhhl/T/tmpvjh8hhbw\n",
      "INFO: [query/web_datasource.py:53 - save_content()] 6180 bytes written\n",
      "INFO: [utils/gcs_helper.py:76 - upload_to_gcs()] Uploading /var/folders/7s/s_wkt16s1_7cdm2p_ptskdl400dhhl/T/tmpvjh8hhbw/dlduplicate.html to GCS bucket genie-ui-dev-downloads-test-web-download\n"
     ]
    },
    {
     "name": "stderr",
     "output_type": "stream",
     "text": [
      "2024-04-26 08:16:49 [utils/gcs_helper.py] INFO: Uploaded /var/folders/7s/s_wkt16s1_7cdm2p_ptskdl400dhhl/T/tmpvjh8hhbw/regrenewal.html to gs://genie-ui-dev-downloads-test-web-download/regrenewal.html\n",
      "2024-04-26 08:16:49 [query/web_datasource.py] INFO: Downloaded Response URL: https://dmv.nv.gov/regrenewal.htm\n",
      "2024-04-26 08:16:49 [query/web_datasource.py] INFO: Saving dlduplicate.htm to /var/folders/7s/s_wkt16s1_7cdm2p_ptskdl400dhhl/T/tmpvjh8hhbw\n",
      "2024-04-26 08:16:49 [query/web_datasource.py] INFO: 6180 bytes written\n",
      "2024-04-26 08:16:49 [utils/gcs_helper.py] INFO: Uploading /var/folders/7s/s_wkt16s1_7cdm2p_ptskdl400dhhl/T/tmpvjh8hhbw/dlduplicate.html to GCS bucket genie-ui-dev-downloads-test-web-download\n"
     ]
    },
    {
     "name": "stdout",
     "output_type": "stream",
     "text": [
      "INFO: [utils/gcs_helper.py:82 - upload_to_gcs()] Uploaded /var/folders/7s/s_wkt16s1_7cdm2p_ptskdl400dhhl/T/tmpvjh8hhbw/dlduplicate.html to gs://genie-ui-dev-downloads-test-web-download/dlduplicate.html\n",
      "INFO: [query/web_datasource.py:224 - _item_scraped()] Downloaded Response URL: https://dmv.nv.gov/dlduplicate.htm\n"
     ]
    },
    {
     "name": "stderr",
     "output_type": "stream",
     "text": [
      "2024-04-26 08:16:49 [utils/gcs_helper.py] INFO: Uploaded /var/folders/7s/s_wkt16s1_7cdm2p_ptskdl400dhhl/T/tmpvjh8hhbw/dlduplicate.html to gs://genie-ui-dev-downloads-test-web-download/dlduplicate.html\n",
      "2024-04-26 08:16:49 [query/web_datasource.py] INFO: Downloaded Response URL: https://dmv.nv.gov/dlduplicate.htm\n",
      "2024-04-26 08:16:49 [scrapy.core.engine] INFO: Closing spider (finished)\n",
      "2024-04-26 08:16:49 [scrapy.statscollectors] INFO: Dumping Scrapy stats:\n",
      "{'downloader/request_bytes': 10104,\n",
      " 'downloader/request_count': 40,\n",
      " 'downloader/request_method_count/GET': 40,\n",
      " 'downloader/response_bytes': 842373,\n",
      " 'downloader/response_count': 40,\n",
      " 'downloader/response_status_count/200': 40,\n",
      " 'dupefilter/filtered': 4,\n",
      " 'elapsed_time_seconds': 11.513159,\n",
      " 'finish_reason': 'finished',\n",
      " 'finish_time': datetime.datetime(2024, 4, 26, 12, 16, 49, 914492, tzinfo=datetime.timezone.utc),\n",
      " 'httpcompression/response_bytes': 155947,\n",
      " 'httpcompression/response_count': 5,\n",
      " 'item_scraped_count': 39,\n",
      " 'log_count/INFO': 205,\n",
      " 'log_count/WARNING': 1,\n",
      " 'memusage/max': 1394065408,\n",
      " 'memusage/startup': 1394065408,\n",
      " 'request_depth_max': 1,\n",
      " 'response_received_count': 40,\n",
      " 'scheduler/dequeued': 40,\n",
      " 'scheduler/dequeued/memory': 40,\n",
      " 'scheduler/enqueued': 40,\n",
      " 'scheduler/enqueued/memory': 40,\n",
      " 'start_time': datetime.datetime(2024, 4, 26, 12, 16, 38, 401333, tzinfo=datetime.timezone.utc)}\n",
      "2024-04-26 08:16:49 [scrapy.core.engine] INFO: Spider closed (finished)\n"
     ]
    },
    {
     "name": "stdout",
     "output_type": "stream",
     "text": [
      "finished\n",
      "https://dmv.nv.gov/\n",
      "https://dmv.nv.gov/regoutofstate.htm\n",
      "https://dmv.nv.gov/regdealer.htm\n",
      "https://dmv.nv.gov/nvregreq.htm\n",
      "https://dmv.nv.gov/regprivate.htm\n",
      "https://dmv.nv.gov/former.htm\n",
      "https://dmv.nv.gov/nvreg.htm\n",
      "https://dmv.nv.gov/platesveterans.htm\n",
      "https://dmv.nv.gov/platesdisabled.htm\n",
      "https://dmv.nv.gov/mchome.htm\n",
      "https://dmv.nv.gov/miloosres.htm\n",
      "https://dmv.nv.gov/motorcycle.htm\n",
      "https://dmv.nv.gov/newresident.htm\n",
      "https://dmv.nv.gov/dltrafficlaws.htm\n",
      "https://dmv.nv.gov/codebook.htm\n",
      "https://dmv.nv.gov/dlhandbook.htm\n",
      "https://dmv.nv.gov/dlschools.htm\n",
      "https://dmv.nv.gov/dltesting.htm\n",
      "https://dmv.nv.gov/nvdl.htm\n",
      "https://dmv.nv.gov/cdl.htm\n",
      "https://dmv.nv.gov/cdloffices.htm\n",
      "https://dmv.nv.gov/realid.htm\n",
      "https://dmv.nv.gov/assessor.htm\n",
      "https://dmv.nv.gov/canceldrive.htm\n",
      "https://dmv.nv.gov/locat.htm\n",
      "https://dmv.nv.gov/dmvforms.htm\n",
      "https://dmv.nv.gov/dlhistory.htm\n",
      "https://dmv.nv.gov/addchange.htm\n",
      "https://dmv.nv.gov/insurance.htm\n",
      "https://dmv.nv.gov/platesmain.htm\n",
      "https://dmv.nv.gov/regpermits.htm\n",
      "https://dmv.nv.gov/floodvehicles.htm\n",
      "https://dmv.nv.gov/salvage.htm\n",
      "https://dmv.nv.gov/title.htm\n",
      "https://dmv.nv.gov/regfees.htm\n",
      "https://dmv.nv.gov/platesurrender.htm\n",
      "https://dmv.nv.gov/dlrenewal.htm\n",
      "https://dmv.nv.gov/regrenewal.htm\n",
      "https://dmv.nv.gov/dlduplicate.htm\n"
     ]
    },
    {
     "name": "stderr",
     "output_type": "stream",
     "text": [
      "Program shutting down, attempting to send 283 queued log entries to Cloud Logging...\n",
      "Waiting up to 5 seconds.\n",
      "Sent all pending logs.\n"
     ]
    },
    {
     "name": "stdout",
     "output_type": "stream",
     "text": [
      "INFO: [query/web_datasource.py:276 - download_documents()] Scraped 39 links\n",
      "INFO: [query/vertex_search.py:374 - import_documents_to_datastore()] Waiting for import operation to complete: projects/779118494750/locations/global/collections/default_collection/dataStores/test-web-download/branches/0/operations/import-documents-7749253967306633950\n",
      "INFO: [query/vertex_search.py:378 - import_documents_to_datastore()] document import result: <bound method PollingFuture.result of <google.api_core.operation.Operation object at 0x171174c70>>\n",
      "INFO: [query/vertex_search.py:384 - import_documents_to_datastore()] document metadata from import: create_time {\n",
      "  seconds: 1714133820\n",
      "  nanos: 537760000\n",
      "}\n",
      "update_time {\n",
      "  seconds: 1714134424\n",
      "  nanos: 393996000\n",
      "}\n",
      "success_count: 39\n",
      "total_count: 39\n",
      "\n",
      "INFO: [query/vertex_search.py:240 - build_vertex_search()] Created vertex search engine for test web download\n",
      "ERROR: [query/vertex_search.py:258 - build_vertex_search()] Error building vertex search query engine [Invalid key to update model \"QueryEngine\" ]\n",
      "ERROR: [query/vertex_search.py:259 - build_vertex_search()] None\n",
      "INFO: [query/vertex_search.py:455 - delete_vertex_search()] deleting vertex search query engine test web download\n",
      "INFO: [query/vertex_search.py:459 - delete_vertex_search()] deleting engine test web download\n"
     ]
    },
    {
     "name": "stderr",
     "output_type": "stream",
     "text": [
      "Traceback (most recent call last):\n",
      "  File \"/Users/lramsey/work/ailp/lukmanr-gps-core-solution-services/components/llm_service/notebooks/../src/services/query/vertex_search.py\", line 244, in build_vertex_search\n",
      "    q_engine.update()\n",
      "  File \"/Users/lramsey/work/ailp/lukmanr-gps-core-solution-services/components/llm_service/notebooks/../../common/src/common/models/base_model.py\", line 90, in update\n",
      "    return super().update(key, transaction, batch)\n",
      "  File \"/Users/lramsey/work/ailp/lukmanr-gps-core-solution-services/components/llm_service/notebooks/.venv/lib/python3.9/site-packages/fireo/models/model.py\", line 407, in update\n",
      "    raise InvalidKey(\n",
      "fireo.queries.errors.InvalidKey: Invalid key to update model \"QueryEngine\" \n"
     ]
    },
    {
     "name": "stdout",
     "output_type": "stream",
     "text": [
      "ERROR: [query/vertex_search.py:466 - delete_vertex_search()] Exception deleting datastore test-web-download: 400 Request contains an invalid argument.\n",
      "INFO: [query/vertex_search.py:470 - delete_vertex_search()] deleting datastore test-web-download\n",
      "ERROR: [query/vertex_search.py:477 - delete_vertex_search()] Exception deleting datastore test-web-download: 400 Request contains an invalid argument.\n"
     ]
    },
    {
     "ename": "InvalidKey",
     "evalue": "Invalid key to update model \"QueryEngine\" ",
     "output_type": "error",
     "traceback": [
      "\u001b[0;31m---------------------------------------------------------------------------\u001b[0m",
      "\u001b[0;31mInvalidKey\u001b[0m                                Traceback (most recent call last)",
      "Cell \u001b[0;32mIn[7], line 1\u001b[0m\n\u001b[0;32m----> 1\u001b[0m \u001b[43mbuild_vertex_search\u001b[49m\u001b[43m(\u001b[49m\u001b[43mq_engine\u001b[49m\u001b[43m)\u001b[49m\n",
      "File \u001b[0;32m~/work/ailp/lukmanr-gps-core-solution-services/components/llm_service/notebooks/../src/services/query/vertex_search.py:263\u001b[0m, in \u001b[0;36mbuild_vertex_search\u001b[0;34m(q_engine)\u001b[0m\n\u001b[1;32m    261\u001b[0m   \u001b[38;5;66;03m# on build error, delete any vertex search assets that were created\u001b[39;00m\n\u001b[1;32m    262\u001b[0m   delete_vertex_search(q_engine, data_store_id)\n\u001b[0;32m--> 263\u001b[0m   \u001b[38;5;28;01mraise\u001b[39;00m e\n\u001b[1;32m    265\u001b[0m \u001b[38;5;28;01mreturn\u001b[39;00m doc_models_processed, docs_not_processed\n",
      "File \u001b[0;32m~/work/ailp/lukmanr-gps-core-solution-services/components/llm_service/notebooks/../src/services/query/vertex_search.py:244\u001b[0m, in \u001b[0;36mbuild_vertex_search\u001b[0;34m(q_engine)\u001b[0m\n\u001b[1;32m    242\u001b[0m \u001b[38;5;66;03m# save metadata for datastore in query engine\u001b[39;00m\n\u001b[1;32m    243\u001b[0m q_engine\u001b[38;5;241m.\u001b[39mindex_id \u001b[38;5;241m=\u001b[39m data_store_id\n\u001b[0;32m--> 244\u001b[0m \u001b[43mq_engine\u001b[49m\u001b[38;5;241;43m.\u001b[39;49m\u001b[43mupdate\u001b[49m\u001b[43m(\u001b[49m\u001b[43m)\u001b[49m\n\u001b[1;32m    246\u001b[0m \u001b[38;5;66;03m# create QueryDocument models for processed documents\u001b[39;00m\n\u001b[1;32m    247\u001b[0m \u001b[38;5;28;01mfor\u001b[39;00m doc \u001b[38;5;129;01min\u001b[39;00m docs_processed:\n",
      "File \u001b[0;32m~/work/ailp/lukmanr-gps-core-solution-services/components/llm_service/notebooks/../../common/src/common/models/base_model.py:90\u001b[0m, in \u001b[0;36mBaseModel.update\u001b[0;34m(self, input_datetime, key, transaction, batch)\u001b[0m\n\u001b[1;32m     88\u001b[0m   date_timestamp \u001b[38;5;241m=\u001b[39m datetime\u001b[38;5;241m.\u001b[39mdatetime\u001b[38;5;241m.\u001b[39mutcnow()\n\u001b[1;32m     89\u001b[0m \u001b[38;5;28mself\u001b[39m\u001b[38;5;241m.\u001b[39mlast_modified_time \u001b[38;5;241m=\u001b[39m date_timestamp\n\u001b[0;32m---> 90\u001b[0m \u001b[38;5;28;01mreturn\u001b[39;00m \u001b[38;5;28;43msuper\u001b[39;49m\u001b[43m(\u001b[49m\u001b[43m)\u001b[49m\u001b[38;5;241;43m.\u001b[39;49m\u001b[43mupdate\u001b[49m\u001b[43m(\u001b[49m\u001b[43mkey\u001b[49m\u001b[43m,\u001b[49m\u001b[43m \u001b[49m\u001b[43mtransaction\u001b[49m\u001b[43m,\u001b[49m\u001b[43m \u001b[49m\u001b[43mbatch\u001b[49m\u001b[43m)\u001b[49m\n",
      "File \u001b[0;32m~/work/ailp/lukmanr-gps-core-solution-services/components/llm_service/notebooks/.venv/lib/python3.9/site-packages/fireo/models/model.py:407\u001b[0m, in \u001b[0;36mModel.update\u001b[0;34m(self, key, transaction, batch)\u001b[0m\n\u001b[1;32m    405\u001b[0m         \u001b[38;5;28msetattr\u001b[39m(\u001b[38;5;28mself\u001b[39m\u001b[38;5;241m.\u001b[39m_meta, \u001b[38;5;124m'\u001b[39m\u001b[38;5;124mid\u001b[39m\u001b[38;5;124m'\u001b[39m, (\u001b[38;5;124m'\u001b[39m\u001b[38;5;124mid\u001b[39m\u001b[38;5;124m'\u001b[39m, fields\u001b[38;5;241m.\u001b[39mIDField()))\n\u001b[1;32m    406\u001b[0m \u001b[38;5;28;01melif\u001b[39;00m \u001b[38;5;28mself\u001b[39m\u001b[38;5;241m.\u001b[39m_update_doc \u001b[38;5;129;01mis\u001b[39;00m \u001b[38;5;28;01mNone\u001b[39;00m \u001b[38;5;129;01mand\u001b[39;00m \u001b[38;5;124m'\u001b[39m\u001b[38;5;124m@temp_doc_id\u001b[39m\u001b[38;5;124m'\u001b[39m \u001b[38;5;129;01min\u001b[39;00m \u001b[38;5;28mself\u001b[39m\u001b[38;5;241m.\u001b[39mkey:\n\u001b[0;32m--> 407\u001b[0m     \u001b[38;5;28;01mraise\u001b[39;00m InvalidKey(\n\u001b[1;32m    408\u001b[0m         \u001b[38;5;124mf\u001b[39m\u001b[38;5;124m'\u001b[39m\u001b[38;5;124mInvalid key to update model \u001b[39m\u001b[38;5;124m\"\u001b[39m\u001b[38;5;132;01m{\u001b[39;00m\u001b[38;5;28mself\u001b[39m\u001b[38;5;241m.\u001b[39m\u001b[38;5;18m__class__\u001b[39m\u001b[38;5;241m.\u001b[39m\u001b[38;5;18m__name__\u001b[39m\u001b[38;5;132;01m}\u001b[39;00m\u001b[38;5;124m\"\u001b[39m\u001b[38;5;124m \u001b[39m\u001b[38;5;124m'\u001b[39m)\n\u001b[1;32m    410\u001b[0m \u001b[38;5;66;03m# Get the updated fields\u001b[39;00m\n\u001b[1;32m    411\u001b[0m updated_fields \u001b[38;5;241m=\u001b[39m {}\n",
      "\u001b[0;31mInvalidKey\u001b[0m: Invalid key to update model \"QueryEngine\" "
     ]
    }
   ],
   "source": [
    "build_vertex_search(q_engine)"
   ]
  },
  {
   "cell_type": "code",
   "execution_count": null,
   "id": "0bedf9b5-4a93-4d87-9456-6a1add8b7b0e",
   "metadata": {},
   "outputs": [],
   "source": []
  }
 ],
 "metadata": {
  "kernelspec": {
   "display_name": "Python 3 (ipykernel)",
   "language": "python",
   "name": "python3"
  },
  "language_info": {
   "codemirror_mode": {
    "name": "ipython",
    "version": 3
   },
   "file_extension": ".py",
   "mimetype": "text/x-python",
   "name": "python",
   "nbconvert_exporter": "python",
   "pygments_lexer": "ipython3",
   "version": "3.9.13"
  }
 },
 "nbformat": 4,
 "nbformat_minor": 5
}
