{
 "cells": [
  {
   "cell_type": "markdown",
   "metadata": {},
   "source": [
    "## LLama-Index"
   ]
  },
  {
   "cell_type": "code",
   "execution_count": null,
   "metadata": {},
   "outputs": [],
   "source": [
    "# !pip install llama-index\n",
    "# !pip install python-pptx"
   ]
  },
  {
   "cell_type": "code",
   "execution_count": 3,
   "metadata": {},
   "outputs": [
    {
     "name": "stdout",
     "output_type": "stream",
     "text": [
      "['c:\\\\Users\\\\trishjam\\\\Documents\\\\trishjam\\\\projects\\\\05-nasa\\\\code\\\\core-solution-services2\\\\components\\\\llm_service\\\\notebooks', 'C:\\\\Users\\\\trishjam\\\\AppData\\\\Local\\\\Programs\\\\Python\\\\Python311\\\\python311.zip', 'C:\\\\Users\\\\trishjam\\\\AppData\\\\Local\\\\Programs\\\\Python\\\\Python311\\\\DLLs', 'C:\\\\Users\\\\trishjam\\\\AppData\\\\Local\\\\Programs\\\\Python\\\\Python311\\\\Lib', 'C:\\\\Users\\\\trishjam\\\\AppData\\\\Local\\\\Programs\\\\Python\\\\Python311', 'c:\\\\Users\\\\trishjam\\\\Documents\\\\trishjam\\\\projects\\\\05-nasa\\\\code\\\\core-solution-services2\\\\components\\\\llm_service\\\\.venv_llm3', '', 'c:\\\\Users\\\\trishjam\\\\Documents\\\\trishjam\\\\projects\\\\05-nasa\\\\code\\\\core-solution-services2\\\\components\\\\llm_service\\\\.venv_llm3\\\\Lib\\\\site-packages', 'c:\\\\Users\\\\trishjam\\\\Documents\\\\trishjam\\\\projects\\\\05-nasa\\\\code\\\\core-solution-services2\\\\components\\\\llm_service\\\\.venv_llm3\\\\Lib\\\\site-packages\\\\win32', 'c:\\\\Users\\\\trishjam\\\\Documents\\\\trishjam\\\\projects\\\\05-nasa\\\\code\\\\core-solution-services2\\\\components\\\\llm_service\\\\.venv_llm3\\\\Lib\\\\site-packages\\\\win32\\\\lib', 'c:\\\\Users\\\\trishjam\\\\Documents\\\\trishjam\\\\projects\\\\05-nasa\\\\code\\\\core-solution-services2\\\\components\\\\llm_service\\\\.venv_llm3\\\\Lib\\\\site-packages\\\\Pythonwin', '../../common/src', '../src']\n"
     ]
    }
   ],
   "source": [
    "import sys\n",
    "sys.path.append(\"../../common/src\")\n",
    "sys.path.append(\"../src\")\n",
    "print(sys.path)"
   ]
  },
  {
   "cell_type": "code",
   "execution_count": 4,
   "metadata": {},
   "outputs": [],
   "source": [
    "import os\n",
    "from google.cloud import storage\n",
    "\n",
    "PROJECT_ID = \"nasa-genie-dev\"\n",
    "REGION = \"us-central1\"\n",
    "os.environ[\"PROJECT_ID\"] = PROJECT_ID\n",
    "storage_client = storage.Client(project=PROJECT_ID)"
   ]
  },
  {
   "cell_type": "code",
   "execution_count": 5,
   "metadata": {},
   "outputs": [],
   "source": [
    "from llama_index.core import SimpleDirectoryReader\n",
    "from llama_index.core.node_parser import SentenceWindowNodeParser\n",
    "from llama_index.core.node_parser import SentenceSplitter"
   ]
  },
  {
   "cell_type": "code",
   "execution_count": 6,
   "metadata": {},
   "outputs": [
    {
     "name": "stdout",
     "output_type": "stream",
     "text": [
      "INFO: [config/config.py:57 - <module>()] Namespace File not found, setting job namespace as default\n"
     ]
    },
    {
     "name": "stderr",
     "output_type": "stream",
     "text": [
      "c:\\Users\\trishjam\\Documents\\trishjam\\projects\\05-nasa\\code\\core-solution-services2\\components\\llm_service\\.venv_llm3\\Lib\\site-packages\\langchain_community\\llms\\__init__.py:166: LangChainDeprecationWarning: `` was deprecated in LangChain 0.0.22 and will be removed in 0.2. An updated version of the  exists in the langchain-community package and should be used instead. To use it run `pip install -U langchain-community` and import as `from langchain_community.chat_models import ChatDatabricks`.\n",
      "  warn_deprecated(\n",
      "c:\\Users\\trishjam\\Documents\\trishjam\\projects\\05-nasa\\code\\core-solution-services2\\components\\llm_service\\.venv_llm3\\Lib\\site-packages\\langchain_community\\llms\\__init__.py:329: LangChainDeprecationWarning: `` was deprecated in LangChain 0.0.22 and will be removed in 0.2. An updated version of the  exists in the langchain-community package and should be used instead. To use it run `pip install -U langchain-community` and import as `from langchain_community.chat_models import ChatMlflow`.\n",
      "  warn_deprecated(\n",
      "c:\\Users\\trishjam\\Documents\\trishjam\\projects\\05-nasa\\code\\core-solution-services2\\components\\llm_service\\.venv_llm3\\Lib\\site-packages\\langchain_community\\llms\\__init__.py:166: LangChainDeprecationWarning: `` was deprecated in LangChain 0.0.22 and will be removed in 0.2. An updated version of the  exists in the langchain-community package and should be used instead. To use it run `pip install -U langchain-community` and import as `from langchain_community.chat_models import ChatDatabricks`.\n",
      "  warn_deprecated(\n",
      "c:\\Users\\trishjam\\Documents\\trishjam\\projects\\05-nasa\\code\\core-solution-services2\\components\\llm_service\\.venv_llm3\\Lib\\site-packages\\langchain_community\\llms\\__init__.py:329: LangChainDeprecationWarning: `` was deprecated in LangChain 0.0.22 and will be removed in 0.2. An updated version of the  exists in the langchain-community package and should be used instead. To use it run `pip install -U langchain-community` and import as `from langchain_community.chat_models import ChatMlflow`.\n",
      "  warn_deprecated(\n",
      "c:\\Users\\trishjam\\Documents\\trishjam\\projects\\05-nasa\\code\\core-solution-services2\\components\\llm_service\\.venv_llm3\\Lib\\site-packages\\langchain_community\\llms\\__init__.py:166: LangChainDeprecationWarning: `` was deprecated in LangChain 0.0.22 and will be removed in 0.2. An updated version of the  exists in the langchain-community package and should be used instead. To use it run `pip install -U langchain-community` and import as `from langchain_community.chat_models import ChatDatabricks`.\n",
      "  warn_deprecated(\n",
      "c:\\Users\\trishjam\\Documents\\trishjam\\projects\\05-nasa\\code\\core-solution-services2\\components\\llm_service\\.venv_llm3\\Lib\\site-packages\\langchain_community\\llms\\__init__.py:329: LangChainDeprecationWarning: `` was deprecated in LangChain 0.0.22 and will be removed in 0.2. An updated version of the  exists in the langchain-community package and should be used instead. To use it run `pip install -U langchain-community` and import as `from langchain_community.chat_models import ChatMlflow`.\n",
      "  warn_deprecated(\n",
      "c:\\Users\\trishjam\\Documents\\trishjam\\projects\\05-nasa\\code\\core-solution-services2\\components\\llm_service\\.venv_llm3\\Lib\\site-packages\\langchain_community\\llms\\__init__.py:166: LangChainDeprecationWarning: `` was deprecated in LangChain 0.0.22 and will be removed in 0.2. An updated version of the  exists in the langchain-community package and should be used instead. To use it run `pip install -U langchain-community` and import as `from langchain_community.chat_models import ChatDatabricks`.\n",
      "  warn_deprecated(\n",
      "c:\\Users\\trishjam\\Documents\\trishjam\\projects\\05-nasa\\code\\core-solution-services2\\components\\llm_service\\.venv_llm3\\Lib\\site-packages\\langchain_community\\llms\\__init__.py:329: LangChainDeprecationWarning: `` was deprecated in LangChain 0.0.22 and will be removed in 0.2. An updated version of the  exists in the langchain-community package and should be used instead. To use it run `pip install -U langchain-community` and import as `from langchain_community.chat_models import ChatMlflow`.\n",
      "  warn_deprecated(\n",
      "c:\\Users\\trishjam\\Documents\\trishjam\\projects\\05-nasa\\code\\core-solution-services2\\components\\llm_service\\.venv_llm3\\Lib\\site-packages\\langchain_community\\llms\\__init__.py:166: LangChainDeprecationWarning: `` was deprecated in LangChain 0.0.22 and will be removed in 0.2. An updated version of the  exists in the langchain-community package and should be used instead. To use it run `pip install -U langchain-community` and import as `from langchain_community.chat_models import ChatDatabricks`.\n",
      "  warn_deprecated(\n",
      "c:\\Users\\trishjam\\Documents\\trishjam\\projects\\05-nasa\\code\\core-solution-services2\\components\\llm_service\\.venv_llm3\\Lib\\site-packages\\langchain_community\\llms\\__init__.py:329: LangChainDeprecationWarning: `` was deprecated in LangChain 0.0.22 and will be removed in 0.2. An updated version of the  exists in the langchain-community package and should be used instead. To use it run `pip install -U langchain-community` and import as `from langchain_community.chat_models import ChatMlflow`.\n",
      "  warn_deprecated(\n",
      "c:\\Users\\trishjam\\Documents\\trishjam\\projects\\05-nasa\\code\\core-solution-services2\\components\\llm_service\\.venv_llm3\\Lib\\site-packages\\langchain_community\\llms\\__init__.py:166: LangChainDeprecationWarning: `` was deprecated in LangChain 0.0.22 and will be removed in 0.2. An updated version of the  exists in the langchain-community package and should be used instead. To use it run `pip install -U langchain-community` and import as `from langchain_community.chat_models import ChatDatabricks`.\n",
      "  warn_deprecated(\n",
      "c:\\Users\\trishjam\\Documents\\trishjam\\projects\\05-nasa\\code\\core-solution-services2\\components\\llm_service\\.venv_llm3\\Lib\\site-packages\\langchain_community\\llms\\__init__.py:329: LangChainDeprecationWarning: `` was deprecated in LangChain 0.0.22 and will be removed in 0.2. An updated version of the  exists in the langchain-community package and should be used instead. To use it run `pip install -U langchain-community` and import as `from langchain_community.chat_models import ChatMlflow`.\n",
      "  warn_deprecated(\n"
     ]
    },
    {
     "name": "stdout",
     "output_type": "stream",
     "text": [
      "ERROR: [config/model_config.py:591 - instantiate_model_class()] Cannot load langchain model class ChatCohere\n",
      "WARNING: [config/model_config.py:341 - set_model_config()] Disabling model Cohere\n"
     ]
    },
    {
     "name": "stderr",
     "output_type": "stream",
     "text": [
      "c:\\Users\\trishjam\\Documents\\trishjam\\projects\\05-nasa\\code\\core-solution-services2\\components\\llm_service\\.venv_llm3\\Lib\\site-packages\\langchain_community\\llms\\__init__.py:166: LangChainDeprecationWarning: `` was deprecated in LangChain 0.0.22 and will be removed in 0.2. An updated version of the  exists in the langchain-community package and should be used instead. To use it run `pip install -U langchain-community` and import as `from langchain_community.chat_models import ChatDatabricks`.\n",
      "  warn_deprecated(\n",
      "c:\\Users\\trishjam\\Documents\\trishjam\\projects\\05-nasa\\code\\core-solution-services2\\components\\llm_service\\.venv_llm3\\Lib\\site-packages\\langchain_community\\llms\\__init__.py:329: LangChainDeprecationWarning: `` was deprecated in LangChain 0.0.22 and will be removed in 0.2. An updated version of the  exists in the langchain-community package and should be used instead. To use it run `pip install -U langchain-community` and import as `from langchain_community.chat_models import ChatMlflow`.\n",
      "  warn_deprecated(\n",
      "c:\\Users\\trishjam\\Documents\\trishjam\\projects\\05-nasa\\code\\core-solution-services2\\components\\llm_service\\.venv_llm3\\Lib\\site-packages\\tqdm\\auto.py:21: TqdmWarning: IProgress not found. Please update jupyter and ipywidgets. See https://ipywidgets.readthedocs.io/en/stable/user_install.html\n",
      "  from .autonotebook import tqdm as notebook_tqdm\n"
     ]
    },
    {
     "name": "stdout",
     "output_type": "stream",
     "text": [
      "INFO: [config/config.py:107 - <module>()] ENABLE_GOOGLE_LLM = True\n",
      "INFO: [config/config.py:108 - <module>()] ENABLE_OPENAI_LLM = True\n",
      "INFO: [config/config.py:109 - <module>()] ENABLE_COHERE_LLM = True\n",
      "INFO: [config/config.py:110 - <module>()] ENABLE_GOOGLE_MODEL_GARDEN = True\n",
      "INFO: [config/config.py:111 - <module>()] ENABLE_TRUSS_LLAMA2 = True\n",
      "INFO: [config/vector_store_config.py:40 - <module>()] Default vector store = [matching_engine]\n",
      "INFO: [config/vector_store_config.py:49 - <module>()] PG_HOST = [127.0.0.1]\n",
      "INFO: [config/vector_store_config.py:50 - <module>()] PG_DBNAME = [pgvector]\n",
      "ERROR: [config/vector_store_config.py:77 - <module>()] Cannot connect to pgvector instance at 127.0.0.1: (psycopg2.OperationalError) connection to server at \"127.0.0.1\", port 5432 failed: Connection refused (0x0000274D/10061)\n",
      "\tIs the server running on that host and accepting TCP/IP connections?\n",
      "\n",
      "(Background on this error at: https://sqlalche.me/e/20/e3q8)\n",
      "INFO: [config/onedrive_config.py:30 - <module>()] ONEDRIVE_CLIENT_ID = [None]\n",
      "INFO: [config/onedrive_config.py:31 - <module>()] ONEDRIVE_TENANT_ID = [None]\n",
      "INFO: [utils/text_helper.py:43 - <module>()] using default spacy model\n"
     ]
    }
   ],
   "source": [
    "from services.query import data_source"
   ]
  },
  {
   "cell_type": "markdown",
   "metadata": {},
   "source": [
    "# Test SimpleDirectoryReader"
   ]
  },
  {
   "cell_type": "code",
   "execution_count": 7,
   "metadata": {},
   "outputs": [],
   "source": [
    "# create the sentence window node parser w/ default settings\n",
    "node_parser = SentenceWindowNodeParser.from_defaults(\n",
    "    window_size=3,\n",
    "    include_metadata=True,\n",
    "    window_metadata_key=\"window\",\n",
    "    original_text_metadata_key=\"original_text\",\n",
    ")\n",
    "\n",
    "# base node parser is a sentence splitter\n",
    "text_splitter = SentenceSplitter()"
   ]
  },
  {
   "cell_type": "code",
   "execution_count": 8,
   "metadata": {},
   "outputs": [
    {
     "name": "stderr",
     "output_type": "stream",
     "text": [
      "c:\\Users\\trishjam\\Documents\\trishjam\\projects\\05-nasa\\code\\core-solution-services2\\components\\llm_service\\.venv_llm3\\Lib\\site-packages\\transformers\\models\\vit\\feature_extraction_vit.py:28: FutureWarning: The class ViTFeatureExtractor is deprecated and will be removed in version 5 of Transformers. Please use ViTImageProcessor instead.\n",
      "  warnings.warn(\n",
      "We strongly recommend passing in an `attention_mask` since your input_ids may be padded. See https://huggingface.co/docs/transformers/troubleshooting#incorrect-output-when-padding-tokens-arent-masked.\n",
      "You may ignore this warning if your `pad_token_id` (50256) is identical to the `bos_token_id` (50256), `eos_token_id` (50256), or the `sep_token_id` (None), and your input is not padded.\n"
     ]
    }
   ],
   "source": [
    "from llama_index.core import SimpleDirectoryReader\n",
    "\n",
    "documents = SimpleDirectoryReader(\n",
    "    input_dir=\"../../../../../data\"\n",
    ").load_data()\n"
   ]
  },
  {
   "cell_type": "code",
   "execution_count": 10,
   "metadata": {},
   "outputs": [
    {
     "name": "stdout",
     "output_type": "stream",
     "text": [
      "16\n",
      "{'file_path': 'c:\\\\Users\\\\trishjam\\\\Documents\\\\trishjam\\\\projects\\\\05-nasa\\\\data\\\\2020_ASCEND_SLS_Exergy_v01.1.pptx', 'file_name': '2020_ASCEND_SLS_Exergy_v01.1.pptx', 'file_size': 8831938, 'creation_date': '2024-04-12', 'last_modified_date': '2024-04-12'}\n",
      "{'page_label': '1', 'file_name': 'Artemis_19910008828.pdf', 'file_path': 'c:\\\\Users\\\\trishjam\\\\Documents\\\\trishjam\\\\projects\\\\05-nasa\\\\data\\\\Artemis_19910008828.pdf', 'file_type': 'application/pdf', 'file_size': 352848, 'creation_date': '2024-04-08', 'last_modified_date': '2024-04-08'}\n",
      "{'page_label': '2', 'file_name': 'Artemis_19910008828.pdf', 'file_path': 'c:\\\\Users\\\\trishjam\\\\Documents\\\\trishjam\\\\projects\\\\05-nasa\\\\data\\\\Artemis_19910008828.pdf', 'file_type': 'application/pdf', 'file_size': 352848, 'creation_date': '2024-04-08', 'last_modified_date': '2024-04-08'}\n",
      "{'page_label': '3', 'file_name': 'Artemis_19910008828.pdf', 'file_path': 'c:\\\\Users\\\\trishjam\\\\Documents\\\\trishjam\\\\projects\\\\05-nasa\\\\data\\\\Artemis_19910008828.pdf', 'file_type': 'application/pdf', 'file_size': 352848, 'creation_date': '2024-04-08', 'last_modified_date': '2024-04-08'}\n",
      "{'page_label': '4', 'file_name': 'Artemis_19910008828.pdf', 'file_path': 'c:\\\\Users\\\\trishjam\\\\Documents\\\\trishjam\\\\projects\\\\05-nasa\\\\data\\\\Artemis_19910008828.pdf', 'file_type': 'application/pdf', 'file_size': 352848, 'creation_date': '2024-04-08', 'last_modified_date': '2024-04-08'}\n",
      "{'page_label': '5', 'file_name': 'Artemis_19910008828.pdf', 'file_path': 'c:\\\\Users\\\\trishjam\\\\Documents\\\\trishjam\\\\projects\\\\05-nasa\\\\data\\\\Artemis_19910008828.pdf', 'file_type': 'application/pdf', 'file_size': 352848, 'creation_date': '2024-04-08', 'last_modified_date': '2024-04-08'}\n",
      "{'page_label': '6', 'file_name': 'Artemis_19910008828.pdf', 'file_path': 'c:\\\\Users\\\\trishjam\\\\Documents\\\\trishjam\\\\projects\\\\05-nasa\\\\data\\\\Artemis_19910008828.pdf', 'file_type': 'application/pdf', 'file_size': 352848, 'creation_date': '2024-04-08', 'last_modified_date': '2024-04-08'}\n",
      "{'page_label': '1', 'file_name': 'Artemis_2022 IEEE Aero Creech Artemis Overview V3.pdf', 'file_path': 'c:\\\\Users\\\\trishjam\\\\Documents\\\\trishjam\\\\projects\\\\05-nasa\\\\data\\\\Artemis_2022 IEEE Aero Creech Artemis Overview V3.pdf', 'file_type': 'application/pdf', 'file_size': 323322, 'creation_date': '2024-04-08', 'last_modified_date': '2024-04-08'}\n",
      "{'page_label': '2', 'file_name': 'Artemis_2022 IEEE Aero Creech Artemis Overview V3.pdf', 'file_path': 'c:\\\\Users\\\\trishjam\\\\Documents\\\\trishjam\\\\projects\\\\05-nasa\\\\data\\\\Artemis_2022 IEEE Aero Creech Artemis Overview V3.pdf', 'file_type': 'application/pdf', 'file_size': 323322, 'creation_date': '2024-04-08', 'last_modified_date': '2024-04-08'}\n",
      "{'page_label': '3', 'file_name': 'Artemis_2022 IEEE Aero Creech Artemis Overview V3.pdf', 'file_path': 'c:\\\\Users\\\\trishjam\\\\Documents\\\\trishjam\\\\projects\\\\05-nasa\\\\data\\\\Artemis_2022 IEEE Aero Creech Artemis Overview V3.pdf', 'file_type': 'application/pdf', 'file_size': 323322, 'creation_date': '2024-04-08', 'last_modified_date': '2024-04-08'}\n",
      "{'page_label': '4', 'file_name': 'Artemis_2022 IEEE Aero Creech Artemis Overview V3.pdf', 'file_path': 'c:\\\\Users\\\\trishjam\\\\Documents\\\\trishjam\\\\projects\\\\05-nasa\\\\data\\\\Artemis_2022 IEEE Aero Creech Artemis Overview V3.pdf', 'file_type': 'application/pdf', 'file_size': 323322, 'creation_date': '2024-04-08', 'last_modified_date': '2024-04-08'}\n",
      "{'page_label': '5', 'file_name': 'Artemis_2022 IEEE Aero Creech Artemis Overview V3.pdf', 'file_path': 'c:\\\\Users\\\\trishjam\\\\Documents\\\\trishjam\\\\projects\\\\05-nasa\\\\data\\\\Artemis_2022 IEEE Aero Creech Artemis Overview V3.pdf', 'file_type': 'application/pdf', 'file_size': 323322, 'creation_date': '2024-04-08', 'last_modified_date': '2024-04-08'}\n",
      "{'page_label': '6', 'file_name': 'Artemis_2022 IEEE Aero Creech Artemis Overview V3.pdf', 'file_path': 'c:\\\\Users\\\\trishjam\\\\Documents\\\\trishjam\\\\projects\\\\05-nasa\\\\data\\\\Artemis_2022 IEEE Aero Creech Artemis Overview V3.pdf', 'file_type': 'application/pdf', 'file_size': 323322, 'creation_date': '2024-04-08', 'last_modified_date': '2024-04-08'}\n",
      "{'page_label': '7', 'file_name': 'Artemis_2022 IEEE Aero Creech Artemis Overview V3.pdf', 'file_path': 'c:\\\\Users\\\\trishjam\\\\Documents\\\\trishjam\\\\projects\\\\05-nasa\\\\data\\\\Artemis_2022 IEEE Aero Creech Artemis Overview V3.pdf', 'file_type': 'application/pdf', 'file_size': 323322, 'creation_date': '2024-04-08', 'last_modified_date': '2024-04-08'}\n",
      "{'file_name': 'SLS Liftoff Loads SciTech_v3.docx', 'file_path': 'c:\\\\Users\\\\trishjam\\\\Documents\\\\trishjam\\\\projects\\\\05-nasa\\\\data\\\\SLS Liftoff Loads SciTech_v3.docx', 'file_size': 727743, 'creation_date': '2024-04-12', 'last_modified_date': '2024-04-12'}\n",
      "{'file_path': 'c:\\\\Users\\\\trishjam\\\\Documents\\\\trishjam\\\\projects\\\\05-nasa\\\\data\\\\test-html.html', 'file_name': 'test-html.html', 'file_type': 'text/html', 'file_size': 18322, 'creation_date': '2024-04-09', 'last_modified_date': '2024-04-09'}\n"
     ]
    }
   ],
   "source": [
    "print(len(documents))\n",
    "for d in documents:\n",
    "    print(d.metadata)"
   ]
  },
  {
   "cell_type": "code",
   "execution_count": 8,
   "metadata": {},
   "outputs": [],
   "source": [
    "filename = \"../../../../../data/2020_ASCEND_SLS_Exergy_v01.1.pptx\"\n",
    "filename = \"../../../../../data/SLS Liftoff Loads SciTech_v3.docx\"\n",
    "\n",
    "one_doc = SimpleDirectoryReader(\n",
    "    input_files=[filename]\n",
    ").load_data()\n"
   ]
  },
  {
   "cell_type": "code",
   "execution_count": 9,
   "metadata": {},
   "outputs": [
    {
     "name": "stdout",
     "output_type": "stream",
     "text": [
      "1\n",
      "{'file_name': 'SLS Liftoff Loads SciTech_v3.docx', 'file_path': '..\\\\..\\\\..\\\\..\\\\..\\\\data\\\\SLS Liftoff Loads SciTech_v3.docx', 'file_size': 727743, 'creation_date': '2024-04-12', 'last_modified_date': '2024-04-12'}\n"
     ]
    }
   ],
   "source": [
    "print(len(one_doc))\n",
    "print(one_doc[0].metadata)"
   ]
  },
  {
   "cell_type": "code",
   "execution_count": 10,
   "metadata": {},
   "outputs": [
    {
     "name": "stdout",
     "output_type": "stream",
     "text": [
      "Methodology and Development of SLS Liftoff Loads \n",
      "\n",
      "\n",
      "\n",
      "David Alldredge, Ben Jones,\n",
      "\n",
      "Dynamic Concepts, LLC, Huntsville, AL 35806\n",
      "\n",
      "Austin Decker,\n",
      "\n",
      "NASA, Marshall Space Flight Center, AL, 35812\n",
      "\n",
      "Ty Irwin, Skylar Taggart5\n",
      "\n",
      "Dynamic Concepts, LLC, Huntsville, AL 35806\n",
      "\n",
      "The methodologies and development of the loads experienced during liftoff of the NASA SLS Block I vehicle will be presented in this paper.  The liftoff loads analysis traditionally captures the dynamics of vehicle/pad separation after engine/booster ignition coupled with other launch day environments like wind, overpressure, and engine side loads. Additionally, the liftoff analysis includes an on-pad engine shutdown prior to booster ignition. The SLS liftoff analysis is performed using a Monte Carlo analysis and this paper will explore the Monte Carlo process and the statistical approach to calculating the limit loads.\n",
      "\n",
      "\t\tIntroduction\n",
      "\n",
      "\n",
      "\n",
      "The Space Launch System (SLS), composed of the Booster, Core Stage, Integrated Spacecraft and Payload Element,  is the first super-heavy launch vehicle developed by NASA since the Saturn V.  SLS, its accompanying Orion Multi-Purpose Crew Vehicle (MPCV) spacecraft, and the Mobile Launcher (ML) experience complex loading conditions during the liftoff event.  The nominal liftoff analysis was broken into two sub-events based on a Core Stage element request for results separated into before and after Booster ignition. The two sub events are designated Build Up (BU) for the period that spans Core Stage Engine (CSE) build up until T=0s and the Booster Ignition (IG) that spans T=0s to tower clearance (T=~7s).  The on-pad shutdown (SD) analysis was treated as a third sub-event and covers the scenario where the Core engines are started and commanded to stop at some point prior to Booster ignition. In this case, Booster ignition does not occur and so the vehicle stabilizer (VS) remains connected throughout the entire analysis.\n",
      "\n",
      "The liftoff analysis is performed using a Monte Carlo (MC) approach.  The BU and IG sub-events are performed with a 5000 case Monte Carlo.  For each MC case, the BU and IG portion represent one continuous liftoff case. The SD sub-event is performed with a separate 2000 case MC.  \n",
      "\n",
      "\t\n",
      "\n",
      "\t\tModeling\n",
      "\n",
      "\tThe integrated SLS Finite Element Models (FEMs) were produced by integrating the element Craig-Bampton (CB) reduced models within NASTRAN.  For the SLS liftoff analysis, the element models used were the ML, Solid Rocket Boosters (SRBs), the Core Stage (CS), the Launch Vehicle Stage Adapter (LVSA), the Interim Cryogenic Propulsion Stage (ICPS), the MPCV Stage Adapter (MSA), and the Orion MPCV.  These element models have all been validated through element level static and dynamic testing.  Each element model delivery also included Load Transformation Matrices (LTMs), and additional integrated vehicle LTMs were generated by the Integrated Vehicle Loads Team at Marshall Space Flight Center (MSFC).  \n",
      "\n",
      "\tOnce the integrated models have been produced, the Liftoff team processes the models for use in the liftoff Coupled Loads Analysis (CLA). A secondary model truncation process is performed in order to remove the high frequency normal modes that are included in the CB models.  Modal truncation with residual vector augmentation is used to reduce the CB models for use in the liftoff simulation.  In practice, the residual vectors are treated statically which essentially makes the process equivalent to the mode acceleration method.  The residual vector augmentation method is preferred to the mode acceleration method due to the ease of implementation in regard to the non-linear change in boundary conditions as the vehicle leaves the ML. \n",
      "\n",
      "\tTo simulate the vehicle leaving the ML during the IG portion of the analysis, the equations of motion for the ML and vehicle are integrated separately with the interface forces between the two bodies applied in an equal and opposite manner.  This allows the force to be set to zero when the simulation predicts the interface grids have lost contact.  This means that for the IG portion of the CLA, the vehicle and ML models are processed separately and that each model undergoes a separate secondary model reduction with residual vector augmentation.  The BU and SD models are handled differently than the models for IG.  During the BU and SD portion of the analysis, the vehicle remains in contact with the ML for the duration of the event.  This allows for the use of coupled vehicle/ML models which significantly decreases the simulation run time compared to the IG process.     \n",
      "\n",
      "\t\tInitial Conditions\n",
      "\n",
      "Initial conditions (ICs) for the BU and SD sub-events include both static and dynamic initial conditions.  Static ICs refer to displacements due to static forces (gravity and preloads) and dynamic ICs refer to both displacement and velocity ICs from a dynamic simulation.  For BU and SD, the dynamic portion of the ICs are derived from the wind analysis performed by the Prelaunch team.  The Prelaunch team uses the same liftoff CB model but uses a different secondary reduction in their analysis.  This requires that the CB displacement, velocity, and accelerations from the prelaunch wind analysis be converted into the liftoff modal coordinates. First, a pseudo-inverse is used to convert the acceleration and velocity by\n",
      "\n",
      "\n",
      "\n",
      "\n",
      "\n",
      "(1)\n",
      "\n",
      "\n",
      "\n",
      "\n",
      "\n",
      "\n",
      "\n",
      "(2)\n",
      "\n",
      "\n",
      "\n",
      "The initial modal displacement is then calculated using\n",
      "\n",
      "\n",
      "\n",
      "\n",
      "\n",
      "\n",
      "\n",
      "(3)\n",
      "\n",
      "\n",
      "\n",
      "where F is the applied forces, C is the equivalent modal damping, and M is the modal mass. For the IG sub-event, the initial conditions include only dynamic ICs that are converted from the BU sub-event.  The conversion is done in a similar manner to the wind ICs in BU using Equations 1-3.  The conversion is performed at T= -0.1s in order to have a small amount of overlap between the BU and IG simulations.  The overlap helps verify that the conversion was successful and allows the IG simulation to find the correct equilibrium if there are any small numerical inconsistencies at the conversion time.  \n",
      "\n",
      "\t\tExternal Environments\n",
      "\n",
      "\tExternally applied vehicle loads in this analysis included gravity, wind, thrust, CSE startup side loads, CSE hydrogen pop, CSE thrust oscillation, gimbal steering forces, overpressure, and dynamically released stacking and cryogenic preloads. The wind forcing functions are delivered as a set of force time histories for both the 1-hour wind (Ground Wind Gust—GWG) and the tuned vortex shedding (Wind Induced Oscillation—WIO) case. For each wind level, wind forcing functions are provided for wind directions from 0° to 330° in 30° increments.\n",
      "\n",
      "\tThrust forcing functions for both the SRBs and the CSE were used in the simulation.  The MODEL5V ballistics model is used to generate sea level booster thrust and absolute pressure at 17 discrete zones within the SRB motor.  A set of 5000 matched pairs were created using MODEL5V, and then converted to net thrust and gage pressure to be used in the liftoff analysis.  During this conversion, scaling is performed to match the net thrust, thrust imbalance, and expected motor stretch when the forcing function is applied to the SRB finite element model. An example of the booster thrust internal pressure transients are shown in Figure 1.\n",
      "\n",
      "\t\n",
      "\n",
      "Figure 1 Example SRB Internal Pressure Time Histories\n",
      "\n",
      "\t\n",
      "\n",
      "\t\n",
      "\n",
      "\tCSE thrust transient are also provided and applied to the engine gimbal points in the simulation.  Figure 2 below shows the four transients from one MC case.  The first engine starts at T = -6.36s and the other three fire with a 120ms stagger between each engine in order to reduce the total impulse into the thrust structure.  The engines then ramp to full power from T = 0s to approximately T = 1s.\n",
      "\n",
      "\t\n",
      "\n",
      "\t\n",
      "\n",
      "Figure 2 Example Core Stage Engine Thrust Transients\n",
      "\n",
      "\t\n",
      "\n",
      "\tIn addition to the CSE thrust, there were several environments induced by the CSE startup. First, CSE startup side loads result from unsteady flow dynamics during startup of a liquid engine.  The side loads result in a lateral reaction load on the nozzle bell that can be treated as a set of net loads acting on the gimbals. Forcing functions to represent the effects of this phenomenon, consisting of moments and lateral forces, were applied to the vehicle side of the engine gimbal locations during the BU analysis.  Second, a steep-fronted overpressure wave, termed hydrogen pop, is applied to the vehicle in the simulation. Core stage engines are fuel-lead engines meaning that free hydrogen exits the nozzle for 900ms nominally after the start command.  Long-throw pyrotechnic igniters near the exit plane of the nozzles are used to ignite the built-up hydrogen just prior to engine ignition which produces the steep-fronted overpressure wave.  An example of the hydrogen pop is shown in Figure 3. Finally, CSE thrust oscillation (TO) is applied in the simulation. CSE TO accounts for the low frequency (0-100 Hz) oscillatory thrust from the RS-25 CSE.  These forcing functions were derived from high-speed data captured during heritage Space Shuttle Main Engine (SSME) tests.  The CSE TO forcing functions were provided as Power Spectral Density (PSD) and converted to the time domain for use in the Monte Carlo analysis. \n",
      "\n",
      "\t\n",
      "\n",
      "\t\n",
      "\n",
      "Figure 3 Example of Hydrogen Pop Environment\n",
      "\n",
      "\t\n",
      "\n",
      "\tBoth the SRBs and CSEs are used to control the vehicle as it flies. Nozzle gimbaling due to guidance and control produces a thrust vector that is not aligned with the vehicle centerline. The resulting angle between the thrust vector and the vehicle centerline produces both lateral and axial forces that are contributors to liftoff loads. The lateral force produced by the nozzle gimbal is calculated by \n",
      "\n",
      "\t\n",
      "\n",
      "\t\n",
      "\n",
      "\t\n",
      "\n",
      "\t(4)\n",
      "\n",
      "\t\n",
      "\n",
      "\twhere T(t) is the total thrust force and α is the thrust vector angle.  Thrust vector angle commands are issued by the vehicle flight control system, which is incorporated as an integral part of the simulation dynamics.  Error sources, such as thrust vector misalignment (booster: DTV, core: CSE misalignment models), are then added as biases to the commanded angles to result in the total thrust vector angle, α. An example of the resulting gimbal angles, including the biases, is shown in Figure 4.\n",
      "\n",
      "\t\n",
      "\n",
      "\t\n",
      "\n",
      "Figure 4 Gimbal Angle Example\n",
      "\n",
      "\t\n",
      "\n",
      "\tIn addition to the nozzle gimbaling forces, both the SRBs and CSE ignition produce overpressure waves that impact the vehicle. Ignition overpressure is a fluid dynamic phenomenon caused by the rapid filling of a rocket exhaust plume into the exhaust duct during the ignition event.  A series of pressure waves are formed and then travel throughout and reflect in the exhaust duct and trench.  The waves superimpose and propagate out of the duct inlet and exit, impinging on the vehicle and surrounding structures.\n",
      "\n",
      "\tFinally, a set of preloads are used in the simulations.  Due to stacking procedures and environmental factors, the nominal geometry in the FEMs does not perfectly reflect the unloaded geometry of the vehicle.  In the model, the stabilizer and Booster aft attach struts are connected to the vehicle geometry under no load.  As a result, when gravity loads are applied to the prelaunch model, interface forces are created at the Booster aft attach and Stabilizer interfaces that should not be present.  The stacking procedures dictate that the aft attach struts and stabilizer struts are attached to the gravity deformed vehicle such that no load is carried by the struts.  There must therefore be some adjustment to the nominal strut lengths to eliminate these interface loads due to gravity after stacking. A set of preloads referred to as the untie loads are determined that adjust the nominal strut lengths such that there are no strut loads with gravity applied to the model.  Additional sources of preloads are due to booster toe-in during stacking and stacking tolerances, boundary condition changes upon crawler pickup, and core shrinkage due to cryogenic effects upon liquid hydrogen (LH2) fueling.\n",
      "\n",
      "\t\tResults\n",
      "\n",
      "\tThe results from the Monte Carlo analysis are used with ordered statistics to determine the loads with the desired enclosure level.  The Flight Readiness Analysis Cycle (FRAC) analysis recovered nearly 200,000 rows from the element provided LTMs.  A subset of the recoveries was used as Critical Load Indicators (CLI) to allow a timely assessment of the SLS vehicle structural health status with respect to the FRAC loads.  A summary of the FRAC results, and comparisons to the design loads captured in SLS-RQMT-045-01 Revision E, Cross Program Vehicle Design Environments, Integrated Vehicle Loads Volume 1: SLS Block 1, and the previous Verification Analysis Cycle 1 – Reintegration (VAC1R) results, is shown in Figure 5 thru Figure 10.\n",
      "\n",
      "\tThe liftoff FRAC results are similar to the VAC1R results and below the design loads for most of the vehicle.  In general, the liftoff loads only set design limits at the aft end of the vehicle.  This is the result of the eccentric loading due to engine stagger during BU and SD and is apparent in the Y and Z moment plots.  The remaining portions of the vehicle are generally driven by flight, or ascent, loads.    \n",
      "\n",
      "\t\n",
      "\n",
      "\t\n",
      "\n",
      "\t\n",
      "\n",
      "\t\n",
      "\n",
      "\t\n",
      "\n",
      "Figure 5 Axial Load Comparison\n",
      "\n",
      "\t\n",
      "\n",
      "\t\n",
      "\n",
      "\t\n",
      "\n",
      "\t\n",
      "\n",
      "\t\n",
      "\n",
      "\t\n",
      "\n",
      "\t\n",
      "\n",
      "Figure 6 Lateral Y Shear Comparison\n",
      "\n",
      "\t\n",
      "\n",
      "\t\n",
      "\n",
      "\t\n",
      "\n",
      "\t\n",
      "\n",
      "\t\n",
      "\n",
      "\t\n",
      "\n",
      "\t\n",
      "\n",
      "\t\n",
      "\n",
      "\t\n",
      "\n",
      "\t\n",
      "\n",
      "Figure 7 Lateral Z Shear Comparison\n",
      "\n",
      "\t\n",
      "\n",
      "\t\n",
      "\n",
      "\t\n",
      "\n",
      "\t\n",
      "\n",
      "\t\n",
      "\n",
      "\t\n",
      "\n",
      "\t\n",
      "\n",
      "Figure 8 Torque Comparison\n",
      "\n",
      "\t\n",
      "\n",
      "\t\n",
      "\n",
      "\t\n",
      "\n",
      "\t\n",
      "\n",
      "\t\n",
      "\n",
      "Figure 9 Lateral Y Bending Comparison\n",
      "\n",
      "\t\n",
      "\n",
      "\t\n",
      "\n",
      "\t\n",
      "\n",
      "\t\n",
      "\n",
      "\t\n",
      "\n",
      "\t\n",
      "\n",
      "Figure 10 Lateral Z Bending Comparison\n",
      "\n",
      "\t\n",
      "\n",
      "\t\n",
      "\n",
      "\t\n",
      "\n",
      "\t\tConclusion\n",
      "\n",
      "\tOverall, the liftoff analysis and modeling is appropriate for their intended purpose of supporting SLS/Orion Artemis I certification of flight readiness.  The test validated element models, test-derived forcing functions, and heritage data for the propulsion elements provide a high level of maturity, and the high fidelity of the analyses performed is appropriate for this phase of SLS/Orion development.\n",
      "\n",
      "\n",
      "\n",
      "\n",
      "\n",
      "1\n"
     ]
    }
   ],
   "source": [
    "print(one_doc[0].text)"
   ]
  },
  {
   "cell_type": "code",
   "execution_count": 14,
   "metadata": {},
   "outputs": [
    {
     "name": "stdout",
     "output_type": "stream",
     "text": [
      "13\n",
      "328\n",
      "20\n"
     ]
    }
   ],
   "source": [
    "nodes = node_parser.get_nodes_from_documents(documents)\n",
    "base_nodes = text_splitter.get_nodes_from_documents(documents)\n",
    "print(len(documents))\n",
    "print(len(nodes))\n",
    "print(len(base_nodes))\n"
   ]
  },
  {
   "cell_type": "markdown",
   "metadata": {},
   "source": [
    "# Test data source code"
   ]
  },
  {
   "cell_type": "code",
   "execution_count": 29,
   "metadata": {},
   "outputs": [],
   "source": [
    "storage_client = storage.Client(project=PROJECT_ID)\n",
    "ds = data_source.DataSource(storage_client)\n"
   ]
  },
  {
   "cell_type": "code",
   "execution_count": 34,
   "metadata": {},
   "outputs": [
    {
     "name": "stdout",
     "output_type": "stream",
     "text": [
      "INFO: [query/data_source.py:124 - chunk_document()] generating index data for test-html.html\n"
     ]
    }
   ],
   "source": [
    "\n",
    "filename = \"../../../../../data/2020_ASCEND_SLS_Exergy_v01.1.pptx\"\n",
    "filename = \"../../../../../data/Artemis_19910008828.pdf\"\n",
    "filename = \"../../../../../data/SLS Liftoff Loads SciTech_v3.docx\"\n",
    "filename = \"../../../../../data/test-html.html\"\n",
    "\n",
    "doc_name = os.path.basename(filename)\n",
    "doc_url = filename\n",
    "doc_filepath = filename\n",
    "\n",
    "chunks = ds.chunk_document(\n",
    "    doc_name, doc_url, doc_filepath\n",
    ")\n"
   ]
  },
  {
   "cell_type": "code",
   "execution_count": 35,
   "metadata": {},
   "outputs": [
    {
     "name": "stdout",
     "output_type": "stream",
     "text": [
      "41\n",
      "<!DOCTYPE html><html lang=\"en-us\">  <link rel=\"stylesheet\" type=\"text/css\" href=\"/css/cookieconsent.min.css\" /><script src=\"/js/cookieconsent.min.js\"></script><script>window.addEventListener(\"load\", function(){window.cookieconsent.initialise({  \"palette\": {    \"popup\": {      \"background\": \"#edeff5\",      \"text\": \"#838391\"    },    \"button\": {      \"background\": \"#939393\",      \"text\": \"#ffffff\"    }  },  \"theme\": \"edgeless\",  \"content\": {    \"href\": \"/privacy-policy/\"  }})});</script><head>  <link href=\"http://gmpg.org/xfn/11\" rel=\"profile\">  <meta http-equiv=\"X-UA-Compatible\" content=\"IE=edge\">  <meta http-equiv=\"content-type\" content=\"text/html; charset=utf-8\">  <script src=\"https://cdn.mathjax.org/mathjax/latest/MathJax.js?config=TeX-AMS-MML_HTMLorMML\" type=\"text/javascript\"></script>  <!-- Enable responsiveness on mobile devices-->  <meta name=\"viewport\" content=\"width=device-width, initial-scale=1.0, maximum-scale=1\">  <!-- Begin Jekyll SEO tag v2.8.0 --><meta name=\"generator\" content=\"Jekyll v4.3.1\" /><meta property=\"og:title\" content=\"Using Virtual Environments in Jupyter Notebook and Python\" /><meta name=\"author\" content=\"Nikolai Janakiev\" /><meta property=\"og:locale\" content=\"en_US\" /><meta name=\"description\" content=\"Are you working with Jupyter Notebook and Python?  Do you also want to benefit from virtual environments? \n"
     ]
    }
   ],
   "source": [
    "print(len(chunks))\n",
    "print(chunks[0])"
   ]
  },
  {
   "cell_type": "code",
   "execution_count": 37,
   "metadata": {},
   "outputs": [
    {
     "name": "stdout",
     "output_type": "stream",
     "text": [
      "<!DOCTYPE html><html lang=\"en-us\">  <link rel=\"stylesheet\" type=\"text/css\" href=\"/css/cookieconsent.min.css\" /><script src=\"/js/cookieconsent.min.js\"></script><script>window.addEventListener(\"load\", function(){window.cookieconsent.initialise({  \"palette\": {    \"popup\": {      \"background\": \"#edeff5\",      \"text\": \"#838391\"    },    \"button\": {      \"background\": \"#939393\",      \"text\": \"#ffffff\"    }  },  \"theme\": \"edgeless\",  \"content\": {    \"href\": \"/privacy-policy/\"  }})});</script><head>  <link href=\"http://gmpg.org/xfn/11\" rel=\"profile\">  <meta http-equiv=\"X-UA-Compatible\" content=\"IE=edge\">  <meta http-equiv=\"content-type\" content=\"text/html; charset=utf-8\">  <script src=\"https://cdn.mathjax.org/mathjax/latest/MathJax.js?config=TeX-AMS-MML_HTMLorMML\" type=\"text/javascript\"></script>  <!-- Enable responsiveness on mobile devices-->  <meta name=\"viewport\" content=\"width=device-width, initial-scale=1.0, maximum-scale=1\">  <!-- Begin Jekyll SEO tag v2.8.0 --><meta name=\"generator\" content=\"Jekyll v4.3.1\" /><meta property=\"og:title\" content=\"Using Virtual Environments in Jupyter Notebook and Python\" /><meta name=\"author\" content=\"Nikolai Janakiev\" /><meta property=\"og:locale\" content=\"en_US\" /><meta name=\"description\" content=\"Are you working with Jupyter Notebook and Python?  Do you also want to benefit from virtual environments? \n",
      "1354\n",
      "104\n",
      "<!DOCTYPE html><html lang=\"en-us\">  <link rel=\"stylesheet\" type=\"text/css\" href=\"/css/cookieconsent.min.css\" /><script src=\"/js/cookieconsent.min.js\"></script><script>window.addEventListener(\"load\", function(){window.cookieconsent.initialise({  \"palette\": {    \"popup\": {      \"background\": \"#edeff5\",      \"text\": \"#838391\"    },    \"button\": {      \"background\": \"#939393\",      \"text\": \"#ffffff\"    }  },  \"theme\": \"edgeless\",  \"content\": {    \"href\": \"/privacy-policy/\"  }})});</script><head>  <link href=\"http://gmpg.org/xfn/11\" rel=\"profile\">  <meta http-equiv=\"X-UA-Compatible\" content=\"IE=edge\">  <meta http-equiv=\"content-type\" content=\"text/html; charset=utf-8\">  <script src=\"https://cdn.mathjax.org/mathjax/latest/MathJax.js?config=TeX-AMS-MML_HTMLorMML\" type=\"text/javascript\"></script>  <!-- Enable responsiveness on mobile devices-->  <meta name=\"viewport\" content=\"width=device-width, initial-scale=1.0, maximum-scale=1\">  <!-- Begin Jekyll SEO tag v2.8.0 --><meta name=\"generator\" content=\"Jekyll v4.3.1\" /><meta property=\"og:title\" content=\"Using Virtual Environments in Jupyter Notebook and Python\" /><meta name=\"author\" content=\"Nikolai Janakiev\" /><meta property=\"og:locale\" content=\"en_US\" /><meta name=\"description\" content=\"Are you working with Jupyter Notebook and Python?  Do you also want to benefit from virtual environments?  In this tutorial you will see how to do just that with Anaconda or Virtualenv/venv.\" \n",
      "1440\n",
      "119\n",
      "Do you also want to benefit from virtual environments?  In this tutorial you will see how to do just that with Anaconda or Virtualenv/venv.\"  /><meta property=\"og:description\" content=\"Are you working with Jupyter Notebook and Python? \n",
      "235\n",
      "34\n",
      "In this tutorial you will see how to do just that with Anaconda or Virtualenv/venv.\"  /><meta property=\"og:description\" content=\"Are you working with Jupyter Notebook and Python?  Do you also want to benefit from virtual environments? \n",
      "235\n",
      "34\n",
      "/><meta property=\"og:description\" content=\"Are you working with Jupyter Notebook and Python?  Do you also want to benefit from virtual environments?  In this tutorial you will see how to do just that with Anaconda or Virtualenv/venv.\" \n",
      "235\n",
      "34\n",
      "Do you also want to benefit from virtual environments?  In this tutorial you will see how to do just that with Anaconda or Virtualenv/venv.\"  /><link rel=\"canonical\" href=\"https://janakiev.com/blog/jupyter-virtual-envs/\" /><meta property=\"og:url\" content=\"https://janakiev.com/blog/jupyter-virtual-envs/\" /><meta property=\"og:site_name\" content=\"njanakiev\" /><meta property=\"og:image\" content=\"https://janakiev.com/assets/jupyter-virtual-envs_files/LabTest_CHK300J_05-11_037.jpg\" /><meta property=\"og:type\" content=\"article\" /><meta property=\"article:published_time\" content=\"2019-02-02T00:00:00-06:00\" /><meta name=\"twitter:card\" content=\"summary_large_image\" /><meta property=\"twitter:image\" content=\"https://janakiev.com/assets/jupyter-virtual-envs_files/LabTest_CHK300J_05-11_037.jpg\" /><meta property=\"twitter:title\" content=\"Using Virtual Environments in Jupyter Notebook and Python\" /><meta name=\"twitter:site\" content=\"@njanakiev\" /><meta name=\"twitter:creator\" content=\"@njanakiev\" /><script type=\"application/ld+json\">{\"@context\":\"https://schema.org\",\"@type\":\"BlogPosting\",\"author\":{\"@type\":\"Person\",\"name\":\"Nikolai Janakiev\",\"url\":\"https://janakiev.com\"},\"dateModified\":\"2021-03-27T00:00:00-05:00\",\"datePublished\":\"2019-02-02T00:00:00-06:00\",\"description\":\"Are you working with Jupyter Notebook and Python? \n",
      "1318\n",
      "74\n",
      "In this tutorial you will see how to do just that with Anaconda or Virtualenv/venv.\"  /><link rel=\"canonical\" href=\"https://janakiev.com/blog/jupyter-virtual-envs/\" /><meta property=\"og:url\" content=\"https://janakiev.com/blog/jupyter-virtual-envs/\" /><meta property=\"og:site_name\" content=\"njanakiev\" /><meta property=\"og:image\" content=\"https://janakiev.com/assets/jupyter-virtual-envs_files/LabTest_CHK300J_05-11_037.jpg\" /><meta property=\"og:type\" content=\"article\" /><meta property=\"article:published_time\" content=\"2019-02-02T00:00:00-06:00\" /><meta name=\"twitter:card\" content=\"summary_large_image\" /><meta property=\"twitter:image\" content=\"https://janakiev.com/assets/jupyter-virtual-envs_files/LabTest_CHK300J_05-11_037.jpg\" /><meta property=\"twitter:title\" content=\"Using Virtual Environments in Jupyter Notebook and Python\" /><meta name=\"twitter:site\" content=\"@njanakiev\" /><meta name=\"twitter:creator\" content=\"@njanakiev\" /><script type=\"application/ld+json\">{\"@context\":\"https://schema.org\",\"@type\":\"BlogPosting\",\"author\":{\"@type\":\"Person\",\"name\":\"Nikolai Janakiev\",\"url\":\"https://janakiev.com\"},\"dateModified\":\"2021-03-27T00:00:00-05:00\",\"datePublished\":\"2019-02-02T00:00:00-06:00\",\"description\":\"Are you working with Jupyter Notebook and Python?  Do you also want to benefit from virtual environments? \n",
      "1318\n",
      "74\n",
      "/><link rel=\"canonical\" href=\"https://janakiev.com/blog/jupyter-virtual-envs/\" /><meta property=\"og:url\" content=\"https://janakiev.com/blog/jupyter-virtual-envs/\" /><meta property=\"og:site_name\" content=\"njanakiev\" /><meta property=\"og:image\" content=\"https://janakiev.com/assets/jupyter-virtual-envs_files/LabTest_CHK300J_05-11_037.jpg\" /><meta property=\"og:type\" content=\"article\" /><meta property=\"article:published_time\" content=\"2019-02-02T00:00:00-06:00\" /><meta name=\"twitter:card\" content=\"summary_large_image\" /><meta property=\"twitter:image\" content=\"https://janakiev.com/assets/jupyter-virtual-envs_files/LabTest_CHK300J_05-11_037.jpg\" /><meta property=\"twitter:title\" content=\"Using Virtual Environments in Jupyter Notebook and Python\" /><meta name=\"twitter:site\" content=\"@njanakiev\" /><meta name=\"twitter:creator\" content=\"@njanakiev\" /><script type=\"application/ld+json\">{\"@context\":\"https://schema.org\",\"@type\":\"BlogPosting\",\"author\":{\"@type\":\"Person\",\"name\":\"Nikolai Janakiev\",\"url\":\"https://janakiev.com\"},\"dateModified\":\"2021-03-27T00:00:00-05:00\",\"datePublished\":\"2019-02-02T00:00:00-06:00\",\"description\":\"Are you working with Jupyter Notebook and Python?  Do you also want to benefit from virtual environments?  In this tutorial you will see how to do just that with Anaconda or Virtualenv/venv.\n",
      "1316\n",
      "74\n",
      "Do you also want to benefit from virtual environments?  In this tutorial you will see how to do just that with Anaconda or Virtualenv/venv. \",\"headline\":\"Using Virtual Environments in Jupyter Notebook and Python\",\"image\":\"https://janakiev.com/assets/jupyter-virtual-envs_files/LabTest_CHK300J_05-11_037.jpg\",\"mainEntityOfPage\":{\"@type\":\"WebPage\",\"@id\":\"https://janakiev.com/blog/jupyter-virtual-envs/\"},\"url\":\"https://janakiev.com/blog/jupyter-virtual-envs/\"}</script><!-- End Jekyll SEO tag -->  <title>          Using Virtual Environments in Jupyter Notebook and Python - njanakiev      </title>  <!-- CSS -->  <link rel=\"stylesheet\" href=\"/css/poole.css\">  <link rel=\"stylesheet\" href=\"/css/syntax.css\">  <link rel=\"stylesheet\" href=\"/css/lanyon.css\">  <link rel=\"stylesheet\" href=\"/css/style.css\">  <link rel=\"icon\" href=\"/assets/favicon.ico\">  <link type=\"application/atom+xml\" rel=\"alternate\" href=\"https://janakiev.com/feed.xml\" title=\"njanakiev\" />    <script>    (function(i,s,o,g,r,a,m){i['GoogleAnalyticsObject']=r;i[r]=i[r]||function(){    (i[r].q=i[r].q||[]).push(arguments)},i[r].l=1*new Date();a=s.createElement(o),    m=s.getElementsByTagName(o)[0];a.async=1;a.src=g;m.parentNode.insertBefore(a,m)    })(window,document,'script','https://www.google-analytics.com/analytics.js','ga');    ga('create', 'UA-91241801-1', 'auto');    ga('set', 'anonymizeIp', true);    ga('send', 'pageview');  </script>    <!-- <script async src=\"https://media.ethicalads.io/media/client/ethicalads.min.js\"></script> --></head>  <body class=\"theme-base-10\">    <!-- Target for toggling the sidebar `.sidebar-checkbox` is for regular     styles, `#sidebar-checkbox` for behavior. \n",
      "1674\n",
      "109\n",
      "In this tutorial you will see how to do just that with Anaconda or Virtualenv/venv. \",\"headline\":\"Using Virtual Environments in Jupyter Notebook and Python\",\"image\":\"https://janakiev.com/assets/jupyter-virtual-envs_files/LabTest_CHK300J_05-11_037.jpg\",\"mainEntityOfPage\":{\"@type\":\"WebPage\",\"@id\":\"https://janakiev.com/blog/jupyter-virtual-envs/\"},\"url\":\"https://janakiev.com/blog/jupyter-virtual-envs/\"}</script><!-- End Jekyll SEO tag -->  <title>          Using Virtual Environments in Jupyter Notebook and Python - njanakiev      </title>  <!-- CSS -->  <link rel=\"stylesheet\" href=\"/css/poole.css\">  <link rel=\"stylesheet\" href=\"/css/syntax.css\">  <link rel=\"stylesheet\" href=\"/css/lanyon.css\">  <link rel=\"stylesheet\" href=\"/css/style.css\">  <link rel=\"icon\" href=\"/assets/favicon.ico\">  <link type=\"application/atom+xml\" rel=\"alternate\" href=\"https://janakiev.com/feed.xml\" title=\"njanakiev\" />    <script>    (function(i,s,o,g,r,a,m){i['GoogleAnalyticsObject']=r;i[r]=i[r]||function(){    (i[r].q=i[r].q||[]).push(arguments)},i[r].l=1*new Date();a=s.createElement(o),    m=s.getElementsByTagName(o)[0];a.async=1;a.src=g;m.parentNode.insertBefore(a,m)    })(window,document,'script','https://www.google-analytics.com/analytics.js','ga');    ga('create', 'UA-91241801-1', 'auto');    ga('set', 'anonymizeIp', true);    ga('send', 'pageview');  </script>    <!-- <script async src=\"https://media.ethicalads.io/media/client/ethicalads.min.js\"></script> --></head>  <body class=\"theme-base-10\">    <!-- Target for toggling the sidebar `.sidebar-checkbox` is for regular     styles, `#sidebar-checkbox` for behavior.  --><input type=\"checkbox\" class=\"sidebar-checkbox\" id=\"sidebar-checkbox\"><!-- Toggleable sidebar --><div class=\"sidebar\" id=\"sidebar\">  <div class=\"sidebar-item\">    <p>Nikolai Janakiev</p>    <p>Freelance Data Scientist and Data Engineer with a focus on Python, geospatial applications, routing, and all things data.</p>  </div>  <nav class=\"sidebar-nav\">    <a class=\"sidebar-nav-item\" href=\"/\">Home</a>        <a class=\"sidebar-nav-item\" href=\"/about\">About</a>    <a class=\"sidebar-nav-item\" href=\"/blog\">Blog</a>    <a class=\"sidebar-nav-item\" href=\"/projects\">Projects</a>    <!-- <a class=\"sidebar-nav-item\" href=\"https://contact.janakiev.com\">Contact</a> -->    <span class=\"sidebar-nav-item\"></span>    <a class=\"sidebar-nav-item\" href=\"https://github.com/njanakiev\">Github</a>    <a class=\"sidebar-nav-item\" href=\"https://twitter.com/njanakiev\">Twitter</a>    <a class=\"sidebar-nav-item\" href=\"https://www.linkedin.com/in/nikolai-janakiev/\">LinkedIn</a>    <span class=\"sidebar-nav-item\"></span>    <a class=\"sidebar-nav-item\" href=\"/imprint\">Imprint</a>    <a class=\"sidebar-nav-item\" href=\"/privacy-policy\">Privacy Policy</a>    <a class=\"sidebar-nav-item\" href=\"/archive\">Archive</a>  </nav>  <div class=\"sidebar-item\">    <p>      &copy; 2024. \n",
      "2877\n",
      "180\n",
      "\",\"headline\":\"Using Virtual Environments in Jupyter Notebook and Python\",\"image\":\"https://janakiev.com/assets/jupyter-virtual-envs_files/LabTest_CHK300J_05-11_037.jpg\",\"mainEntityOfPage\":{\"@type\":\"WebPage\",\"@id\":\"https://janakiev.com/blog/jupyter-virtual-envs/\"},\"url\":\"https://janakiev.com/blog/jupyter-virtual-envs/\"}</script><!-- End Jekyll SEO tag -->  <title>          Using Virtual Environments in Jupyter Notebook and Python - njanakiev      </title>  <!-- CSS -->  <link rel=\"stylesheet\" href=\"/css/poole.css\">  <link rel=\"stylesheet\" href=\"/css/syntax.css\">  <link rel=\"stylesheet\" href=\"/css/lanyon.css\">  <link rel=\"stylesheet\" href=\"/css/style.css\">  <link rel=\"icon\" href=\"/assets/favicon.ico\">  <link type=\"application/atom+xml\" rel=\"alternate\" href=\"https://janakiev.com/feed.xml\" title=\"njanakiev\" />    <script>    (function(i,s,o,g,r,a,m){i['GoogleAnalyticsObject']=r;i[r]=i[r]||function(){    (i[r].q=i[r].q||[]).push(arguments)},i[r].l=1*new Date();a=s.createElement(o),    m=s.getElementsByTagName(o)[0];a.async=1;a.src=g;m.parentNode.insertBefore(a,m)    })(window,document,'script','https://www.google-analytics.com/analytics.js','ga');    ga('create', 'UA-91241801-1', 'auto');    ga('set', 'anonymizeIp', true);    ga('send', 'pageview');  </script>    <!-- <script async src=\"https://media.ethicalads.io/media/client/ethicalads.min.js\"></script> --></head>  <body class=\"theme-base-10\">    <!-- Target for toggling the sidebar `.sidebar-checkbox` is for regular     styles, `#sidebar-checkbox` for behavior.  --><input type=\"checkbox\" class=\"sidebar-checkbox\" id=\"sidebar-checkbox\"><!-- Toggleable sidebar --><div class=\"sidebar\" id=\"sidebar\">  <div class=\"sidebar-item\">    <p>Nikolai Janakiev</p>    <p>Freelance Data Scientist and Data Engineer with a focus on Python, geospatial applications, routing, and all things data.</p>  </div>  <nav class=\"sidebar-nav\">    <a class=\"sidebar-nav-item\" href=\"/\">Home</a>        <a class=\"sidebar-nav-item\" href=\"/about\">About</a>    <a class=\"sidebar-nav-item\" href=\"/blog\">Blog</a>    <a class=\"sidebar-nav-item\" href=\"/projects\">Projects</a>    <!-- <a class=\"sidebar-nav-item\" href=\"https://contact.janakiev.com\">Contact</a> -->    <span class=\"sidebar-nav-item\"></span>    <a class=\"sidebar-nav-item\" href=\"https://github.com/njanakiev\">Github</a>    <a class=\"sidebar-nav-item\" href=\"https://twitter.com/njanakiev\">Twitter</a>    <a class=\"sidebar-nav-item\" href=\"https://www.linkedin.com/in/nikolai-janakiev/\">LinkedIn</a>    <span class=\"sidebar-nav-item\"></span>    <a class=\"sidebar-nav-item\" href=\"/imprint\">Imprint</a>    <a class=\"sidebar-nav-item\" href=\"/privacy-policy\">Privacy Policy</a>    <a class=\"sidebar-nav-item\" href=\"/archive\">Archive</a>  </nav>  <div class=\"sidebar-item\">    <p>      &copy; 2024.  All rights reserved.    \n",
      "2818\n",
      "168\n",
      "--><input type=\"checkbox\" class=\"sidebar-checkbox\" id=\"sidebar-checkbox\"><!-- Toggleable sidebar --><div class=\"sidebar\" id=\"sidebar\">  <div class=\"sidebar-item\">    <p>Nikolai Janakiev</p>    <p>Freelance Data Scientist and Data Engineer with a focus on Python, geospatial applications, routing, and all things data.</p>  </div>  <nav class=\"sidebar-nav\">    <a class=\"sidebar-nav-item\" href=\"/\">Home</a>        <a class=\"sidebar-nav-item\" href=\"/about\">About</a>    <a class=\"sidebar-nav-item\" href=\"/blog\">Blog</a>    <a class=\"sidebar-nav-item\" href=\"/projects\">Projects</a>    <!-- <a class=\"sidebar-nav-item\" href=\"https://contact.janakiev.com\">Contact</a> -->    <span class=\"sidebar-nav-item\"></span>    <a class=\"sidebar-nav-item\" href=\"https://github.com/njanakiev\">Github</a>    <a class=\"sidebar-nav-item\" href=\"https://twitter.com/njanakiev\">Twitter</a>    <a class=\"sidebar-nav-item\" href=\"https://www.linkedin.com/in/nikolai-janakiev/\">LinkedIn</a>    <span class=\"sidebar-nav-item\"></span>    <a class=\"sidebar-nav-item\" href=\"/imprint\">Imprint</a>    <a class=\"sidebar-nav-item\" href=\"/privacy-policy\">Privacy Policy</a>    <a class=\"sidebar-nav-item\" href=\"/archive\">Archive</a>  </nav>  <div class=\"sidebar-item\">    <p>      &copy; 2024.  All rights reserved.     </p>  </div></div>    <!-- Wrap is the content to shift when toggling the sidebar. \n",
      "1367\n",
      "96\n",
      "All rights reserved.     </p>  </div></div>    <!-- Wrap is the content to shift when toggling the sidebar.  We wrap the         content to avoid any CSS collisions with our real content. \n",
      "188\n",
      "29\n",
      "</p>  </div></div>    <!-- Wrap is the content to shift when toggling the sidebar.  We wrap the         content to avoid any CSS collisions with our real content.  -->    <div class=\"wrap\">      <div class=\"masthead\">        <div class=\"container\">          <h3 class=\"masthead-title\">            <a href=\"/\" title=\"Home\">home</a>            <span></span>            <a href=\"/about\" title=\"Home\">about</a>            <span></span>            <a href=\"/projects\" title=\"Home\">projects</a>          </h3>        </div>      </div>      <div class=\"container content\">        <div class=\"post\">      <img src=\"/assets/jupyter-virtual-envs_files/LabTest_CHK300J_05-11_037.jpg\">                  <span class=\"footnote\">Image from <a href=\"https://commons.wikimedia.org/wiki/File:LabTest_CHK300J_05-11_037.jpg\">Wikimedia Commons</a></span>                <h1 class=\"post-title\">Using Virtual Environments in Jupyter Notebook and Python</h1>  <span class=\"post-date\">02 Feb 2019</span>    <!-- Ethical Ads Image -->  <!-- <div data-ea-publisher=\"janakievcom\" data-ea-type=\"image\" data-ea-style=\"stickybox\"></div> -->  <h2>Table of Contents</h2>  <ul id=\"toc\" class=\"section-nav\"><li class=\"toc-entry toc-h1\"><a href=\"#create-virtual-environment-with-virtualenvvenv\">Create Virtual Environment with Virtualenv/venv</a></li><li class=\"toc-entry toc-h1\"><a href=\"#create-virtual-environment-with-anaconda\">Create Virtual Environment with Anaconda</a></li><li class=\"toc-entry toc-h1\"><a href=\"#add-virtual-environment-to-jupyter-notebook\">Add Virtual Environment to Jupyter Notebook</a></li><li class=\"toc-entry toc-h1\"><a href=\"#remove-virtual-environment-from-jupyter-notebook\">Remove Virtual Environment from Jupyter Notebook</a></li></ul><p>Are you working with Jupyter Notebook and Python? \n",
      "1786\n",
      "129\n",
      "We wrap the         content to avoid any CSS collisions with our real content.  -->    <div class=\"wrap\">      <div class=\"masthead\">        <div class=\"container\">          <h3 class=\"masthead-title\">            <a href=\"/\" title=\"Home\">home</a>            <span></span>            <a href=\"/about\" title=\"Home\">about</a>            <span></span>            <a href=\"/projects\" title=\"Home\">projects</a>          </h3>        </div>      </div>      <div class=\"container content\">        <div class=\"post\">      <img src=\"/assets/jupyter-virtual-envs_files/LabTest_CHK300J_05-11_037.jpg\">                  <span class=\"footnote\">Image from <a href=\"https://commons.wikimedia.org/wiki/File:LabTest_CHK300J_05-11_037.jpg\">Wikimedia Commons</a></span>                <h1 class=\"post-title\">Using Virtual Environments in Jupyter Notebook and Python</h1>  <span class=\"post-date\">02 Feb 2019</span>    <!-- Ethical Ads Image -->  <!-- <div data-ea-publisher=\"janakievcom\" data-ea-type=\"image\" data-ea-style=\"stickybox\"></div> -->  <h2>Table of Contents</h2>  <ul id=\"toc\" class=\"section-nav\"><li class=\"toc-entry toc-h1\"><a href=\"#create-virtual-environment-with-virtualenvvenv\">Create Virtual Environment with Virtualenv/venv</a></li><li class=\"toc-entry toc-h1\"><a href=\"#create-virtual-environment-with-anaconda\">Create Virtual Environment with Anaconda</a></li><li class=\"toc-entry toc-h1\"><a href=\"#add-virtual-environment-to-jupyter-notebook\">Add Virtual Environment to Jupyter Notebook</a></li><li class=\"toc-entry toc-h1\"><a href=\"#remove-virtual-environment-from-jupyter-notebook\">Remove Virtual Environment from Jupyter Notebook</a></li></ul><p>Are you working with Jupyter Notebook and Python?  Do you also want to benefit from virtual environments? \n",
      "1758\n",
      "125\n",
      "-->    <div class=\"wrap\">      <div class=\"masthead\">        <div class=\"container\">          <h3 class=\"masthead-title\">            <a href=\"/\" title=\"Home\">home</a>            <span></span>            <a href=\"/about\" title=\"Home\">about</a>            <span></span>            <a href=\"/projects\" title=\"Home\">projects</a>          </h3>        </div>      </div>      <div class=\"container content\">        <div class=\"post\">      <img src=\"/assets/jupyter-virtual-envs_files/LabTest_CHK300J_05-11_037.jpg\">                  <span class=\"footnote\">Image from <a href=\"https://commons.wikimedia.org/wiki/File:LabTest_CHK300J_05-11_037.jpg\">Wikimedia Commons</a></span>                <h1 class=\"post-title\">Using Virtual Environments in Jupyter Notebook and Python</h1>  <span class=\"post-date\">02 Feb 2019</span>    <!-- Ethical Ads Image -->  <!-- <div data-ea-publisher=\"janakievcom\" data-ea-type=\"image\" data-ea-style=\"stickybox\"></div> -->  <h2>Table of Contents</h2>  <ul id=\"toc\" class=\"section-nav\"><li class=\"toc-entry toc-h1\"><a href=\"#create-virtual-environment-with-virtualenvvenv\">Create Virtual Environment with Virtualenv/venv</a></li><li class=\"toc-entry toc-h1\"><a href=\"#create-virtual-environment-with-anaconda\">Create Virtual Environment with Anaconda</a></li><li class=\"toc-entry toc-h1\"><a href=\"#add-virtual-environment-to-jupyter-notebook\">Add Virtual Environment to Jupyter Notebook</a></li><li class=\"toc-entry toc-h1\"><a href=\"#remove-virtual-environment-from-jupyter-notebook\">Remove Virtual Environment from Jupyter Notebook</a></li></ul><p>Are you working with Jupyter Notebook and Python?  Do you also want to benefit from virtual environments?  In this tutorial you will see how to do just that with <a href=\"https://www.anaconda.com/\">Anaconda</a> or <a href=\"https://virtualenv.pypa.io/en/latest/\">Virtualenv</a>/<a href=\"https://docs.python.org/3/library/venv.html\">venv</a>.</p><p>Before we start, what is a virtual environment and why do you need it? \n",
      "1990\n",
      "143\n",
      "Do you also want to benefit from virtual environments?  In this tutorial you will see how to do just that with <a href=\"https://www.anaconda.com/\">Anaconda</a> or <a href=\"https://virtualenv.pypa.io/en/latest/\">Virtualenv</a>/<a href=\"https://docs.python.org/3/library/venv.html\">venv</a>.</p><p>Before we start, what is a virtual environment and why do you need it?  A virtual environment is an isolated working copy of Python. \n",
      "429\n",
      "50\n",
      "In this tutorial you will see how to do just that with <a href=\"https://www.anaconda.com/\">Anaconda</a> or <a href=\"https://virtualenv.pypa.io/en/latest/\">Virtualenv</a>/<a href=\"https://docs.python.org/3/library/venv.html\">venv</a>.</p><p>Before we start, what is a virtual environment and why do you need it?  A virtual environment is an isolated working copy of Python.  This means that each environment can have its own dependencies or even its own Python versions. \n",
      "470\n",
      "57\n",
      "A virtual environment is an isolated working copy of Python.  This means that each environment can have its own dependencies or even its own Python versions.  This is useful if you need different versions of Python or packages for different projects. \n",
      "251\n",
      "41\n",
      "This means that each environment can have its own dependencies or even its own Python versions.  This is useful if you need different versions of Python or packages for different projects.  This also keeps things tidy when testing packages and making sure your main Python installation stays healthy.</p><h1 id=\"create-virtual-environment-with-virtualenvvenv\"><a class=\"anchor\" href=\"#create-virtual-environment-with-virtualenvvenv\" aria-hidden=\"true\"><span class=\"octicon octicon-link\"></span></a>Create Virtual Environment with Virtualenv/venv</h1><p>A commonly used tool for virtual environments in Python is <a href=\"https://virtualenv.pypa.io/en/latest/\">virtualenv</a>. \n",
      "676\n",
      "69\n",
      "This is useful if you need different versions of Python or packages for different projects.  This also keeps things tidy when testing packages and making sure your main Python installation stays healthy.</p><h1 id=\"create-virtual-environment-with-virtualenvvenv\"><a class=\"anchor\" href=\"#create-virtual-environment-with-virtualenvvenv\" aria-hidden=\"true\"><span class=\"octicon octicon-link\"></span></a>Create Virtual Environment with Virtualenv/venv</h1><p>A commonly used tool for virtual environments in Python is <a href=\"https://virtualenv.pypa.io/en/latest/\">virtualenv</a>.  Since Python 3.3, a subset of virtualenv has been integrated in the Python standard library under the <a href=\"https://docs.python.org/3/library/venv.html\">venv</a> module. \n",
      "753\n",
      "73\n",
      "This also keeps things tidy when testing packages and making sure your main Python installation stays healthy.</p><h1 id=\"create-virtual-environment-with-virtualenvvenv\"><a class=\"anchor\" href=\"#create-virtual-environment-with-virtualenvvenv\" aria-hidden=\"true\"><span class=\"octicon octicon-link\"></span></a>Create Virtual Environment with Virtualenv/venv</h1><p>A commonly used tool for virtual environments in Python is <a href=\"https://virtualenv.pypa.io/en/latest/\">virtualenv</a>.  Since Python 3.3, a subset of virtualenv has been integrated in the Python standard library under the <a href=\"https://docs.python.org/3/library/venv.html\">venv</a> module.  If you are using Python 2, you can install virtualenv with:</p><div class=\"language-plaintext highlighter-rouge\"><div class=\"highlight\"><pre class=\"highlight\"><code>pip install --user virtualenv</code></pre></div></div><p>Now, you can create a virtual environment with:</p><div class=\"language-plaintext highlighter-rouge\"><div class=\"highlight\"><pre class=\"highlight\"><code>virtualenv myenv</code></pre></div></div><p>where <code class=\"language-plaintext highlighter-rouge\">myenv</code> can be replaced with the name you want for your virtual environment. \n",
      "1219\n",
      "103\n",
      "Since Python 3.3, a subset of virtualenv has been integrated in the Python standard library under the <a href=\"https://docs.python.org/3/library/venv.html\">venv</a> module.  If you are using Python 2, you can install virtualenv with:</p><div class=\"language-plaintext highlighter-rouge\"><div class=\"highlight\"><pre class=\"highlight\"><code>pip install --user virtualenv</code></pre></div></div><p>Now, you can create a virtual environment with:</p><div class=\"language-plaintext highlighter-rouge\"><div class=\"highlight\"><pre class=\"highlight\"><code>virtualenv myenv</code></pre></div></div><p>where <code class=\"language-plaintext highlighter-rouge\">myenv</code> can be replaced with the name you want for your virtual environment.  The virtual environment can be found in the <code class=\"language-plaintext highlighter-rouge\">myenv</code> folder. \n",
      "849\n",
      "77\n",
      "If you are using Python 2, you can install virtualenv with:</p><div class=\"language-plaintext highlighter-rouge\"><div class=\"highlight\"><pre class=\"highlight\"><code>pip install --user virtualenv</code></pre></div></div><p>Now, you can create a virtual environment with:</p><div class=\"language-plaintext highlighter-rouge\"><div class=\"highlight\"><pre class=\"highlight\"><code>virtualenv myenv</code></pre></div></div><p>where <code class=\"language-plaintext highlighter-rouge\">myenv</code> can be replaced with the name you want for your virtual environment.  The virtual environment can be found in the <code class=\"language-plaintext highlighter-rouge\">myenv</code> folder.  For Python &gt;= 3.3, you can create a virtual environment with:</p><div class=\"language-plaintext highlighter-rouge\"><div class=\"highlight\"><pre class=\"highlight\"><code>python -m venv myenv</code></pre></div></div><p>After you have created your virtual environment, you can activate the virtual environment with:</p><div class=\"language-plaintext highlighter-rouge\"><div class=\"highlight\"><pre class=\"highlight\"><code>source myenv/bin/activate</code></pre></div></div><p>To deactivate the virtual environment, you can run <code class=\"language-plaintext highlighter-rouge\">deactivate</code>. \n",
      "1269\n",
      "103\n",
      "The virtual environment can be found in the <code class=\"language-plaintext highlighter-rouge\">myenv</code> folder.  For Python &gt;= 3.3, you can create a virtual environment with:</p><div class=\"language-plaintext highlighter-rouge\"><div class=\"highlight\"><pre class=\"highlight\"><code>python -m venv myenv</code></pre></div></div><p>After you have created your virtual environment, you can activate the virtual environment with:</p><div class=\"language-plaintext highlighter-rouge\"><div class=\"highlight\"><pre class=\"highlight\"><code>source myenv/bin/activate</code></pre></div></div><p>To deactivate the virtual environment, you can run <code class=\"language-plaintext highlighter-rouge\">deactivate</code>.  To delete the virtual environment you just need to remove the folder with the virtual environment (e.g. \n",
      "815\n",
      "75\n",
      "For Python &gt;= 3.3, you can create a virtual environment with:</p><div class=\"language-plaintext highlighter-rouge\"><div class=\"highlight\"><pre class=\"highlight\"><code>python -m venv myenv</code></pre></div></div><p>After you have created your virtual environment, you can activate the virtual environment with:</p><div class=\"language-plaintext highlighter-rouge\"><div class=\"highlight\"><pre class=\"highlight\"><code>source myenv/bin/activate</code></pre></div></div><p>To deactivate the virtual environment, you can run <code class=\"language-plaintext highlighter-rouge\">deactivate</code>.  To delete the virtual environment you just need to remove the folder with the virtual environment (e.g.  <code class=\"language-plaintext highlighter-rouge\">rm -r myenv</code>). \n",
      "771\n",
      "68\n",
      "To delete the virtual environment you just need to remove the folder with the virtual environment (e.g.  <code class=\"language-plaintext highlighter-rouge\">rm -r myenv</code>).  For further information, have a read in the <a href=\"https://virtualenv.pypa.io/en/latest/\">virtualenv documentation</a> or <a href=\"https://docs.python.org/3/library/venv.html\">venv documentation</a>.</p><h1 id=\"create-virtual-environment-with-anaconda\"><a class=\"anchor\" href=\"#create-virtual-environment-with-anaconda\" aria-hidden=\"true\"><span class=\"octicon octicon-link\"></span></a>Create Virtual Environment with Anaconda</h1><p>Lets have a look how to create an virtual environment with <a href=\"https://www.anaconda.com/\">Anaconda</a>. \n",
      "722\n",
      "59\n",
      "<code class=\"language-plaintext highlighter-rouge\">rm -r myenv</code>).  For further information, have a read in the <a href=\"https://virtualenv.pypa.io/en/latest/\">virtualenv documentation</a> or <a href=\"https://docs.python.org/3/library/venv.html\">venv documentation</a>.</p><h1 id=\"create-virtual-environment-with-anaconda\"><a class=\"anchor\" href=\"#create-virtual-environment-with-anaconda\" aria-hidden=\"true\"><span class=\"octicon octicon-link\"></span></a>Create Virtual Environment with Anaconda</h1><p>Lets have a look how to create an virtual environment with <a href=\"https://www.anaconda.com/\">Anaconda</a>.  Anaconda is a Python (and R) distribution that has the goal to simplify package management and deployment for scientific computing. \n",
      "750\n",
      "62\n",
      "For further information, have a read in the <a href=\"https://virtualenv.pypa.io/en/latest/\">virtualenv documentation</a> or <a href=\"https://docs.python.org/3/library/venv.html\">venv documentation</a>.</p><h1 id=\"create-virtual-environment-with-anaconda\"><a class=\"anchor\" href=\"#create-virtual-environment-with-anaconda\" aria-hidden=\"true\"><span class=\"octicon octicon-link\"></span></a>Create Virtual Environment with Anaconda</h1><p>Lets have a look how to create an virtual environment with <a href=\"https://www.anaconda.com/\">Anaconda</a>.  Anaconda is a Python (and R) distribution that has the goal to simplify package management and deployment for scientific computing.  After the <a href=\"https://www.anaconda.com/distribution/\">installation</a> you can create the conda virtual environment with:</p><div class=\"language-plaintext highlighter-rouge\"><div class=\"highlight\"><pre class=\"highlight\"><code>conda create -n myenv</code></pre></div></div><p>where <code class=\"language-plaintext highlighter-rouge\">myenv</code> is the name of your new environment. \n",
      "1066\n",
      "86\n",
      "Anaconda is a Python (and R) distribution that has the goal to simplify package management and deployment for scientific computing.  After the <a href=\"https://www.anaconda.com/distribution/\">installation</a> you can create the conda virtual environment with:</p><div class=\"language-plaintext highlighter-rouge\"><div class=\"highlight\"><pre class=\"highlight\"><code>conda create -n myenv</code></pre></div></div><p>where <code class=\"language-plaintext highlighter-rouge\">myenv</code> is the name of your new environment.  If you want a specific Python version that is not your current version, you can type:</p><div class=\"language-plaintext highlighter-rouge\"><div class=\"highlight\"><pre class=\"highlight\"><code>conda create -n myenv python=3.6</code></pre></div></div><p>The environment is then stored in the <code class=\"language-plaintext highlighter-rouge\">envs</code> folder in your Anaconda directory. \n",
      "909\n",
      "87\n",
      "After the <a href=\"https://www.anaconda.com/distribution/\">installation</a> you can create the conda virtual environment with:</p><div class=\"language-plaintext highlighter-rouge\"><div class=\"highlight\"><pre class=\"highlight\"><code>conda create -n myenv</code></pre></div></div><p>where <code class=\"language-plaintext highlighter-rouge\">myenv</code> is the name of your new environment.  If you want a specific Python version that is not your current version, you can type:</p><div class=\"language-plaintext highlighter-rouge\"><div class=\"highlight\"><pre class=\"highlight\"><code>conda create -n myenv python=3.6</code></pre></div></div><p>The environment is then stored in the <code class=\"language-plaintext highlighter-rouge\">envs</code> folder in your Anaconda directory.  After you have created the enviroment, you can activate it by typing:</p><div class=\"language-plaintext highlighter-rouge\"><div class=\"highlight\"><pre class=\"highlight\"><code>conda activate myenv</code></pre></div></div><p>If you now run <code class=\"language-plaintext highlighter-rouge\">python</code>, youll see that you are in your freshly created virtual environment. \n",
      "1149\n",
      "102\n",
      "If you want a specific Python version that is not your current version, you can type:</p><div class=\"language-plaintext highlighter-rouge\"><div class=\"highlight\"><pre class=\"highlight\"><code>conda create -n myenv python=3.6</code></pre></div></div><p>The environment is then stored in the <code class=\"language-plaintext highlighter-rouge\">envs</code> folder in your Anaconda directory.  After you have created the enviroment, you can activate it by typing:</p><div class=\"language-plaintext highlighter-rouge\"><div class=\"highlight\"><pre class=\"highlight\"><code>conda activate myenv</code></pre></div></div><p>If you now run <code class=\"language-plaintext highlighter-rouge\">python</code>, youll see that you are in your freshly created virtual environment.  To deactivate the environment you can type <code class=\"language-plaintext highlighter-rouge\">conda deactivate</code> and you can list all the available environments on your machine with <code class=\"language-plaintext highlighter-rouge\">conda env list</code>. \n",
      "1022\n",
      "101\n",
      "After you have created the enviroment, you can activate it by typing:</p><div class=\"language-plaintext highlighter-rouge\"><div class=\"highlight\"><pre class=\"highlight\"><code>conda activate myenv</code></pre></div></div><p>If you now run <code class=\"language-plaintext highlighter-rouge\">python</code>, youll see that you are in your freshly created virtual environment.  To deactivate the environment you can type <code class=\"language-plaintext highlighter-rouge\">conda deactivate</code> and you can list all the available environments on your machine with <code class=\"language-plaintext highlighter-rouge\">conda env list</code>.  To remove an enviroment you can type:</p><div class=\"language-plaintext highlighter-rouge\"><div class=\"highlight\"><pre class=\"highlight\"><code>conda env remove -n myenv</code></pre></div></div><p>After creating your environment, you can install the packages you need besides the one already installed by conda. \n",
      "946\n",
      "95\n",
      "To deactivate the environment you can type <code class=\"language-plaintext highlighter-rouge\">conda deactivate</code> and you can list all the available environments on your machine with <code class=\"language-plaintext highlighter-rouge\">conda env list</code>.  To remove an enviroment you can type:</p><div class=\"language-plaintext highlighter-rouge\"><div class=\"highlight\"><pre class=\"highlight\"><code>conda env remove -n myenv</code></pre></div></div><p>After creating your environment, you can install the packages you need besides the one already installed by conda.  You can find more information on how to manage conda environments in this <a href=\"https://conda.io/docs/user-guide/tasks/manage-environments.html\">user guide</a>.</p><h1 id=\"add-virtual-environment-to-jupyter-notebook\"><a class=\"anchor\" href=\"#add-virtual-environment-to-jupyter-notebook\" aria-hidden=\"true\"><span class=\"octicon octicon-link\"></span></a>Add Virtual Environment to Jupyter Notebook</h1><p>Jupyter Notebook makes sure that the IPython kernel is available, but you have to manually add a kernel with a different version of Python or a virtual environment. \n",
      "1145\n",
      "114\n",
      "To remove an enviroment you can type:</p><div class=\"language-plaintext highlighter-rouge\"><div class=\"highlight\"><pre class=\"highlight\"><code>conda env remove -n myenv</code></pre></div></div><p>After creating your environment, you can install the packages you need besides the one already installed by conda.  You can find more information on how to manage conda environments in this <a href=\"https://conda.io/docs/user-guide/tasks/manage-environments.html\">user guide</a>.</p><h1 id=\"add-virtual-environment-to-jupyter-notebook\"><a class=\"anchor\" href=\"#add-virtual-environment-to-jupyter-notebook\" aria-hidden=\"true\"><span class=\"octicon octicon-link\"></span></a>Add Virtual Environment to Jupyter Notebook</h1><p>Jupyter Notebook makes sure that the IPython kernel is available, but you have to manually add a kernel with a different version of Python or a virtual environment.  First, make sure your environment is activated with <code class=\"language-plaintext highlighter-rouge\">conda activate myenv</code>. \n",
      "1016\n",
      "99\n",
      "You can find more information on how to manage conda environments in this <a href=\"https://conda.io/docs/user-guide/tasks/manage-environments.html\">user guide</a>.</p><h1 id=\"add-virtual-environment-to-jupyter-notebook\"><a class=\"anchor\" href=\"#add-virtual-environment-to-jupyter-notebook\" aria-hidden=\"true\"><span class=\"octicon octicon-link\"></span></a>Add Virtual Environment to Jupyter Notebook</h1><p>Jupyter Notebook makes sure that the IPython kernel is available, but you have to manually add a kernel with a different version of Python or a virtual environment.  First, make sure your environment is activated with <code class=\"language-plaintext highlighter-rouge\">conda activate myenv</code>.  Next, install <a href=\"https://github.com/ipython/ipykernel\">ipykernel</a> which provides the IPython kernel for Jupyter:</p><div class=\"language-plaintext highlighter-rouge\"><div class=\"highlight\"><pre class=\"highlight\"><code>pip install --user ipykernel</code></pre></div></div><p>Next you can add your virtual environment to Jupyter by typing:</p><div class=\"language-plaintext highlighter-rouge\"><div class=\"highlight\"><pre class=\"highlight\"><code>python -m ipykernel install --user --name=myenv</code></pre></div></div><p>This should print the following:</p><div class=\"language-plaintext highlighter-rouge\"><div class=\"highlight\"><pre class=\"highlight\"><code>Installed kernelspec myenv in /home/user/.local/share/jupyter/kernels/myenv</code></pre></div></div><p>In this folder you will find a <code class=\"language-plaintext highlighter-rouge\">kernel.json</code> file which should look the following way if you did everything correctly:</p><div class=\"language-plaintext highlighter-rouge\"><div class=\"highlight\"><pre class=\"highlight\"><code>{ \"argv\": [  \"/home/user/anaconda3/envs/myenv/bin/python\",  \"-m\",  \"ipykernel_launcher\",  \"-f\",  \"{connection_file}\" ], \"display_name\": \"myenv\", \"language\": \"python\"}</code></pre></div></div><p>Thats all to it! \n",
      "1964\n",
      "156\n",
      "First, make sure your environment is activated with <code class=\"language-plaintext highlighter-rouge\">conda activate myenv</code>.  Next, install <a href=\"https://github.com/ipython/ipykernel\">ipykernel</a> which provides the IPython kernel for Jupyter:</p><div class=\"language-plaintext highlighter-rouge\"><div class=\"highlight\"><pre class=\"highlight\"><code>pip install --user ipykernel</code></pre></div></div><p>Next you can add your virtual environment to Jupyter by typing:</p><div class=\"language-plaintext highlighter-rouge\"><div class=\"highlight\"><pre class=\"highlight\"><code>python -m ipykernel install --user --name=myenv</code></pre></div></div><p>This should print the following:</p><div class=\"language-plaintext highlighter-rouge\"><div class=\"highlight\"><pre class=\"highlight\"><code>Installed kernelspec myenv in /home/user/.local/share/jupyter/kernels/myenv</code></pre></div></div><p>In this folder you will find a <code class=\"language-plaintext highlighter-rouge\">kernel.json</code> file which should look the following way if you did everything correctly:</p><div class=\"language-plaintext highlighter-rouge\"><div class=\"highlight\"><pre class=\"highlight\"><code>{ \"argv\": [  \"/home/user/anaconda3/envs/myenv/bin/python\",  \"-m\",  \"ipykernel_launcher\",  \"-f\",  \"{connection_file}\" ], \"display_name\": \"myenv\", \"language\": \"python\"}</code></pre></div></div><p>Thats all to it!  Now you are able to choose the conda environment as a kernel in Jupyter. \n",
      "1466\n",
      "116\n",
      "Next, install <a href=\"https://github.com/ipython/ipykernel\">ipykernel</a> which provides the IPython kernel for Jupyter:</p><div class=\"language-plaintext highlighter-rouge\"><div class=\"highlight\"><pre class=\"highlight\"><code>pip install --user ipykernel</code></pre></div></div><p>Next you can add your virtual environment to Jupyter by typing:</p><div class=\"language-plaintext highlighter-rouge\"><div class=\"highlight\"><pre class=\"highlight\"><code>python -m ipykernel install --user --name=myenv</code></pre></div></div><p>This should print the following:</p><div class=\"language-plaintext highlighter-rouge\"><div class=\"highlight\"><pre class=\"highlight\"><code>Installed kernelspec myenv in /home/user/.local/share/jupyter/kernels/myenv</code></pre></div></div><p>In this folder you will find a <code class=\"language-plaintext highlighter-rouge\">kernel.json</code> file which should look the following way if you did everything correctly:</p><div class=\"language-plaintext highlighter-rouge\"><div class=\"highlight\"><pre class=\"highlight\"><code>{ \"argv\": [  \"/home/user/anaconda3/envs/myenv/bin/python\",  \"-m\",  \"ipykernel_launcher\",  \"-f\",  \"{connection_file}\" ], \"display_name\": \"myenv\", \"language\": \"python\"}</code></pre></div></div><p>Thats all to it!  Now you are able to choose the conda environment as a kernel in Jupyter.  Here is what that would look like in <a href=\"https://jupyterlab.readthedocs.io/en/stable/\">JupyterLab</a>:</p><p><img src=\"/assets/jupyter-virtual-envs_files/jupyter_venv.png\" alt=\"Jupyter Virtual Environment\"></p><h1 id=\"remove-virtual-environment-from-jupyter-notebook\"><a class=\"anchor\" href=\"#remove-virtual-environment-from-jupyter-notebook\" aria-hidden=\"true\"><span class=\"octicon octicon-link\"></span></a>Remove Virtual Environment from Jupyter Notebook</h1><p>After you deleted your virtual environment, youll want to remove it also from Jupyter. \n",
      "1890\n",
      "141\n",
      "Now you are able to choose the conda environment as a kernel in Jupyter.  Here is what that would look like in <a href=\"https://jupyterlab.readthedocs.io/en/stable/\">JupyterLab</a>:</p><p><img src=\"/assets/jupyter-virtual-envs_files/jupyter_venv.png\" alt=\"Jupyter Virtual Environment\"></p><h1 id=\"remove-virtual-environment-from-jupyter-notebook\"><a class=\"anchor\" href=\"#remove-virtual-environment-from-jupyter-notebook\" aria-hidden=\"true\"><span class=\"octicon octicon-link\"></span></a>Remove Virtual Environment from Jupyter Notebook</h1><p>After you deleted your virtual environment, youll want to remove it also from Jupyter.  Lets first see which kernels are available. \n",
      "675\n",
      "59\n",
      "Here is what that would look like in <a href=\"https://jupyterlab.readthedocs.io/en/stable/\">JupyterLab</a>:</p><p><img src=\"/assets/jupyter-virtual-envs_files/jupyter_venv.png\" alt=\"Jupyter Virtual Environment\"></p><h1 id=\"remove-virtual-environment-from-jupyter-notebook\"><a class=\"anchor\" href=\"#remove-virtual-environment-from-jupyter-notebook\" aria-hidden=\"true\"><span class=\"octicon octicon-link\"></span></a>Remove Virtual Environment from Jupyter Notebook</h1><p>After you deleted your virtual environment, youll want to remove it also from Jupyter.  Lets first see which kernels are available.  You can list them with:</p><div class=\"language-plaintext highlighter-rouge\"><div class=\"highlight\"><pre class=\"highlight\"><code>jupyter kernelspec list</code></pre></div></div><p>This should return something like:</p><div class=\"language-plaintext highlighter-rouge\"><div class=\"highlight\"><pre class=\"highlight\"><code>Available kernels:  myenv      /home/user/.local/share/jupyter/kernels/myenv  python3    /usr/local/share/jupyter/kernels/python3</code></pre></div></div><p>Now, to uninstall the kernel, you can type:</p><div class=\"language-plaintext highlighter-rouge\"><div class=\"highlight\"><pre class=\"highlight\"><code>jupyter kernelspec uninstall myenv</code></pre></div></div></div><div class=\"related\">  <h2>Related Posts</h2>  <ul class=\"related-posts\">        <li>      <h3>                                    <a href=\"/blog/python-venv/?ref=jupyter-virtual-envs\">          Virtual Environments in Python with venv<br>          <small>20 Jan 2023</small>        </a>              </h3>    </li>        <li>      <h3>                                                                                                                                                                                                                                                                                                <a href=\"/blog/jupyter-notebook-server/?ref=jupyter-virtual-envs\">          Installing and Running Jupyter on a Server<br>          <small>12 Feb 2019</small>        </a>              </h3>    </li>        <li>      <h3>                                                                                                                                                                                <a href=\"/blog/jupyter-systemd/?ref=jupyter-virtual-envs\">          Manage Jupyter Notebook and JupyterLab with Systemd<br>          <small>10 Nov 2020</small>        </a>              </h3>    </li>      </ul></div>      </div>    </div>    <label for=\"sidebar-checkbox\" class=\"sidebar-toggle\"></label>    <script>      (function(document) {        var toggle = document.querySelector('.sidebar-toggle');        var sidebar = document.querySelector('#sidebar');        var checkbox = document.querySelector('#sidebar-checkbox');        document.addEventListener('click', function(e) {          var target = e.target;          if(!checkbox.checked ||             sidebar.contains(target) ||             (target === checkbox || target === toggle)) return;          checkbox.checked = false;        }, false);      })(document);    </script>  </body></html>\n",
      "3169\n",
      "186\n",
      "Lets first see which kernels are available.  You can list them with:</p><div class=\"language-plaintext highlighter-rouge\"><div class=\"highlight\"><pre class=\"highlight\"><code>jupyter kernelspec list</code></pre></div></div><p>This should return something like:</p><div class=\"language-plaintext highlighter-rouge\"><div class=\"highlight\"><pre class=\"highlight\"><code>Available kernels:  myenv      /home/user/.local/share/jupyter/kernels/myenv  python3    /usr/local/share/jupyter/kernels/python3</code></pre></div></div><p>Now, to uninstall the kernel, you can type:</p><div class=\"language-plaintext highlighter-rouge\"><div class=\"highlight\"><pre class=\"highlight\"><code>jupyter kernelspec uninstall myenv</code></pre></div></div></div><div class=\"related\">  <h2>Related Posts</h2>  <ul class=\"related-posts\">        <li>      <h3>                                    <a href=\"/blog/python-venv/?ref=jupyter-virtual-envs\">          Virtual Environments in Python with venv<br>          <small>20 Jan 2023</small>        </a>              </h3>    </li>        <li>      <h3>                                                                                                                                                                                                                                                                                                <a href=\"/blog/jupyter-notebook-server/?ref=jupyter-virtual-envs\">          Installing and Running Jupyter on a Server<br>          <small>12 Feb 2019</small>        </a>              </h3>    </li>        <li>      <h3>                                                                                                                                                                                <a href=\"/blog/jupyter-systemd/?ref=jupyter-virtual-envs\">          Manage Jupyter Notebook and JupyterLab with Systemd<br>          <small>10 Nov 2020</small>        </a>              </h3>    </li>      </ul></div>      </div>    </div>    <label for=\"sidebar-checkbox\" class=\"sidebar-toggle\"></label>    <script>      (function(document) {        var toggle = document.querySelector('.sidebar-toggle');        var sidebar = document.querySelector('#sidebar');        var checkbox = document.querySelector('#sidebar-checkbox');        document.addEventListener('click', function(e) {          var target = e.target;          if(!checkbox.checked ||             sidebar.contains(target) ||             (target === checkbox || target === toggle)) return;          checkbox.checked = false;        }, false);      })(document);    </script>  </body></html>\n",
      "2612\n",
      "148\n"
     ]
    }
   ],
   "source": [
    "for c in chunks:\n",
    "    print(c)\n",
    "    print(len(c))\n",
    "    print(len(c.split()))\n"
   ]
  },
  {
   "cell_type": "code",
   "execution_count": null,
   "metadata": {},
   "outputs": [],
   "source": []
  }
 ],
 "metadata": {
  "kernelspec": {
   "display_name": ".venv",
   "language": "python",
   "name": "python3"
  },
  "language_info": {
   "codemirror_mode": {
    "name": "ipython",
    "version": 3
   },
   "file_extension": ".py",
   "mimetype": "text/x-python",
   "name": "python",
   "nbconvert_exporter": "python",
   "pygments_lexer": "ipython3",
   "version": "3.11.7"
  }
 },
 "nbformat": 4,
 "nbformat_minor": 2
}
