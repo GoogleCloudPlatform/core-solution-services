{
 "cells": [
  {
   "cell_type": "code",
   "execution_count": 1,
   "id": "8614bb5d-bffe-4b12-9dbd-2d93b9d41eb6",
   "metadata": {},
   "outputs": [],
   "source": [
    "import os\n",
    "import sys\n",
    "import json\n",
    "import inspect\n",
    "\n",
    "sys.path.append(\"../../common/src\")\n",
    "sys.path.append(\"../src\")\n",
    "os.chdir(\"../src\")"
   ]
  },
  {
   "cell_type": "code",
   "execution_count": 2,
   "id": "9676ee1a-fce5-430d-94a0-af5c1f8c964b",
   "metadata": {},
   "outputs": [],
   "source": [
    "!export PROJECT_ID=\"gcp-mira-develop\"\n",
    "project = \"gcp-mira-develop\"\n",
    "os.environ[\"PROJECT_ID\"] = project"
   ]
  },
  {
   "cell_type": "code",
   "execution_count": 3,
   "id": "e546519c-3e81-4c5a-ac53-711c0c3ecdb3",
   "metadata": {},
   "outputs": [],
   "source": [
    "from common.models import Agent\n",
    "from common.models.agent import AgentCapability"
   ]
  },
  {
   "cell_type": "code",
   "execution_count": 4,
   "id": "ed87d2b6-6f09-4bbd-b2e2-c3e6efc11ed5",
   "metadata": {},
   "outputs": [
    {
     "name": "stdout",
     "output_type": "stream",
     "text": [
      "INFO: [config/config.py:55 - <module>()] Namespace File not found, setting job namespace as default\n",
      "INFO: [config/config.py:105 - <module>()] ENABLE_GOOGLE_LLM = True\n",
      "INFO: [config/config.py:106 - <module>()] ENABLE_OPENAI_LLM = True\n",
      "INFO: [config/config.py:107 - <module>()] ENABLE_COHERE_LLM = True\n",
      "INFO: [config/config.py:108 - <module>()] ENABLE_GOOGLE_MODEL_GARDEN = True\n",
      "INFO: [config/config.py:109 - <module>()] ENABLE_TRUSS_LLAMA2 = True\n",
      "INFO: [config/vector_store_config.py:40 - <module>()] Default vector store = [langchain_pgvector]\n",
      "INFO: [config/vector_store_config.py:49 - <module>()] PG_HOST = [127.0.0.1]\n",
      "INFO: [config/vector_store_config.py:50 - <module>()] PG_DBNAME = [pgvector]\n"
     ]
    }
   ],
   "source": [
    "from services.agents.agent_tools import agent_tool_registry"
   ]
  },
  {
   "cell_type": "code",
   "execution_count": 6,
   "id": "5aa2435a-c7e6-460b-961a-da469b3eb820",
   "metadata": {},
   "outputs": [
    {
     "data": {
      "text/plain": [
       "{'ruleset_input_tool': StructuredTool(name='ruleset_input_tool', description=\"ruleset_input_tool(ruleset_name: str) -> dict - Get the list of required inputs to run a set of rules (a 'ruleset').\\n  The current available ruleset is a ruleset for medicaid eligibility.\\n  The output of this tool is a dict of input keys and corresponding data types.\", args_schema=<class 'pydantic.main.ruleset_input_toolSchemaSchema'>, func=<function ruleset_input_tool at 0x12ecbe670>),\n",
       " 'ruleset_execute_tool': StructuredTool(name='ruleset_execute_tool', description='ruleset_execute_tool(ruleset_name: str, rule_inputs: dict) -> dict - Run a business rules engine to make determinations about medicaid\\n  eligibility. Takes a dict of constituent attributes as input (such as\\n  income level, demographic data etc - the full set of input keys is\\n  retrieved using the ruleset_input_tool).  Outputs an eligibility decision.', args_schema=<class 'pydantic.main.ruleset_execute_toolSchemaSchema'>, func=<function ruleset_execute_tool at 0x12ecbe700>),\n",
       " 'gmail_tool': StructuredTool(name='gmail_tool', description='gmail_tool(recipients: List, subject: str, message: str) -> str - Send an email to a list of recipients', args_schema=<class 'pydantic.main.gmail_toolSchemaSchema'>, func=<function gmail_tool at 0x12ecbe820>),\n",
       " 'docs_tool': StructuredTool(name='docs_tool', description='docs_tool(recipients: List, content: str) -> Dict - Compose or create a document using Google Docs', args_schema=<class 'pydantic.main.docs_toolSchemaSchema'>, func=<function docs_tool at 0x12ecbe940>),\n",
       " 'calendar_tool': StructuredTool(name='calendar_tool', description='calendar_tool(date: str) -> str - Create and update meetings using Google Calendar', args_schema=<class 'pydantic.main.calendar_toolSchemaSchema'>, func=<function calendar_tool at 0x12ecbea60>),\n",
       " 'search_tool': StructuredTool(name='search_tool', description='search_tool(query: str) -> str - Perform an internet search.', args_schema=<class 'pydantic.main.search_toolSchemaSchema'>, func=<function search_tool at 0x12ecbeb80>),\n",
       " 'query_tool': StructuredTool(name='query_tool', description='query_tool(query: str) -> Dict - Perform a query and craft an answer using one of the available query engines.', args_schema=<class 'pydantic.main.query_toolSchemaSchema'>, func=<function query_tool at 0x12ecbeca0>),\n",
       " 'google_sheets_tool': StructuredTool(name='google_sheets_tool', description='google_sheets_tool(name: str, columns: list, rows: list, user_email: str = None) -> dict - Create a Google Sheet with the supplied data and return the sheet url and\\n  id', args_schema=<class 'pydantic.main.google_sheets_toolSchemaSchema'>, func=<function google_sheets_tool at 0x12ecbee50>),\n",
       " 'database_tool': StructuredTool(name='database_tool', description='database_tool(database_query: str) -> dict - Accepts a natural language question and queries a database to get definite\\n    answer', args_schema=<class 'pydantic.main.database_toolSchemaSchema'>, func=<function database_tool at 0x12ec18700>)}"
      ]
     },
     "execution_count": 6,
     "metadata": {},
     "output_type": "execute_result"
    }
   ],
   "source": [
    "agent_tool_registry"
   ]
  },
  {
   "cell_type": "code",
   "execution_count": 7,
   "id": "2ca3a493-b65b-4161-b78d-fe9858b40240",
   "metadata": {},
   "outputs": [],
   "source": [
    "from services.agents import agents as llmsvc_agents"
   ]
  },
  {
   "cell_type": "code",
   "execution_count": 8,
   "id": "3c30949b-8982-45df-a05a-ea7465d4944b",
   "metadata": {},
   "outputs": [],
   "source": [
    "from services.agents.agent_service import get_all_agents"
   ]
  },
  {
   "cell_type": "code",
   "execution_count": 9,
   "id": "6aa1ffb1-c76e-43f0-bb5c-ca1ea565d627",
   "metadata": {},
   "outputs": [
    {
     "data": {
      "text/plain": [
       "[{'MediKate': {'llm_type': 'OpenAI-GPT4',\n",
       "   'capabilities': ['Chat', 'Query', 'Plan', 'Route']}},\n",
       " {'Casey': {'llm_type': 'OpenAI-GPT4',\n",
       "   'capabilities': ['Chat', 'Query', 'Plan', 'Route']}},\n",
       " {'Chat': {'llm_type': 'VertexAI-Chat-Palm2V2-Langchain',\n",
       "   'capabilities': ['Chat', 'Query']}},\n",
       " {'Task': {'llm_type': 'OpenAI-GPT4',\n",
       "   'capabilities': ['Chat', 'Query', 'Task']}},\n",
       " {'Plan': {'llm_type': 'OpenAI-GPT4', 'capabilities': ['Plan']}},\n",
       " {'ModelGarden_LLAMA2': {'llm_type': 'VertexAi-ModelGarden-Chat',\n",
       "   'capabilities': ['Chat', 'Query']}}]"
      ]
     },
     "execution_count": 9,
     "metadata": {},
     "output_type": "execute_result"
    }
   ],
   "source": [
    "get_all_agents()"
   ]
  },
  {
   "cell_type": "code",
   "execution_count": 13,
   "id": "7f5fab0c-6cd9-4294-ad50-38f2eccf5f1e",
   "metadata": {},
   "outputs": [],
   "source": [
    "from services.agents.agents import BaseAgent\n",
    "from config.utils import get_agent_config"
   ]
  },
  {
   "cell_type": "code",
   "execution_count": 14,
   "id": "7325b9e7-642d-4a73-88a8-be9ae688762a",
   "metadata": {},
   "outputs": [
    {
     "data": {
      "text/plain": [
       "{'MediKate': {'llm_type': 'OpenAI-GPT4',\n",
       "  'agent_type': 'langchain_ZeroShot',\n",
       "  'agent_class': services.agents.agents.RoutingAgent,\n",
       "  'tools': 'search_tool,query_tool,rules_engine_execute_tool,ruleset_input_tool',\n",
       "  'capabilities': ['Chat', 'Query', 'Plan', 'Route']},\n",
       " 'Casey': {'llm_type': 'OpenAI-GPT4',\n",
       "  'agent_type': 'langchain_ZeroShot',\n",
       "  'agent_class': services.agents.agents.RoutingAgent,\n",
       "  'tools': 'ALL',\n",
       "  'datasets': 'fqhc_medical_transactions',\n",
       "  'capabilities': ['Chat', 'Query', 'Plan', 'Route']},\n",
       " 'Chat': {'llm_type': 'VertexAI-Chat-Palm2V2-Langchain',\n",
       "  'agent_type': 'langchain_Conversational',\n",
       "  'agent_class': services.agents.agents.ChatAgent,\n",
       "  'capabilities': ['Chat', 'Query']},\n",
       " 'Task': {'llm_type': 'OpenAI-GPT4',\n",
       "  'agent_type': 'langchain_StructuredChatAgent',\n",
       "  'agent_class': services.agents.agents.TaskAgent,\n",
       "  'capabilities': ['Chat', 'Query', 'Task']},\n",
       " 'Plan': {'llm_type': 'OpenAI-GPT4',\n",
       "  'agent_type': 'langchain_ZeroShot',\n",
       "  'agent_class': services.agents.agents.PlanAgent,\n",
       "  'capabilities': ['Plan']},\n",
       " 'ModelGarden_LLAMA2': {'llm_type': 'VertexAi-ModelGarden-Chat',\n",
       "  'agent_type': 'model_garden',\n",
       "  'agent_class': services.agents.agents.ChatAgent,\n",
       "  'capabilities': ['Chat', 'Query']}}"
      ]
     },
     "execution_count": 14,
     "metadata": {},
     "output_type": "execute_result"
    }
   ],
   "source": [
    "agent_config = get_agent_config()\n",
    "agent_config"
   ]
  },
  {
   "cell_type": "code",
   "execution_count": 11,
   "id": "844fd257-70b4-44b9-8e8c-cc61737f132a",
   "metadata": {},
   "outputs": [
    {
     "ename": "TypeError",
     "evalue": "__init__() takes 2 positional arguments but 3 were given",
     "output_type": "error",
     "traceback": [
      "\u001b[0;31m---------------------------------------------------------------------------\u001b[0m",
      "\u001b[0;31mTypeError\u001b[0m                                 Traceback (most recent call last)",
      "Cell \u001b[0;32mIn[11], line 1\u001b[0m\n\u001b[0;32m----> 1\u001b[0m agent \u001b[38;5;241m=\u001b[39m \u001b[43mBaseAgent\u001b[49m\u001b[38;5;241;43m.\u001b[39;49m\u001b[43mload_llm_service_agent\u001b[49m\u001b[43m(\u001b[49m\u001b[38;5;124;43m\"\u001b[39;49m\u001b[38;5;124;43mCasey\u001b[39;49m\u001b[38;5;124;43m\"\u001b[39;49m\u001b[43m)\u001b[49m\n",
      "File \u001b[0;32m~/work/ailp/lukmanr-gps-core-solution-services/components/llm_service/src/services/agents/agents.py:119\u001b[0m, in \u001b[0;36mBaseAgent.load_llm_service_agent\u001b[0;34m(cls, agent_name)\u001b[0m\n\u001b[1;32m    116\u001b[0m \u001b[38;5;129m@classmethod\u001b[39m\n\u001b[1;32m    117\u001b[0m \u001b[38;5;28;01mdef\u001b[39;00m \u001b[38;5;21mload_llm_service_agent\u001b[39m(\u001b[38;5;28mcls\u001b[39m, agent_name: \u001b[38;5;28mstr\u001b[39m):\n\u001b[1;32m    118\u001b[0m   agent_config \u001b[38;5;241m=\u001b[39m get_agent_config()[agent_name]\n\u001b[0;32m--> 119\u001b[0m   llm_service_agent \u001b[38;5;241m=\u001b[39m \u001b[43magent_config\u001b[49m\u001b[43m[\u001b[49m\u001b[38;5;124;43m\"\u001b[39;49m\u001b[38;5;124;43magent_class\u001b[39;49m\u001b[38;5;124;43m\"\u001b[39;49m\u001b[43m]\u001b[49m\u001b[43m(\u001b[49m\n\u001b[1;32m    120\u001b[0m \u001b[43m      \u001b[49m\u001b[43magent_config\u001b[49m\u001b[43m[\u001b[49m\u001b[38;5;124;43m\"\u001b[39;49m\u001b[38;5;124;43mllm_type\u001b[39;49m\u001b[38;5;124;43m\"\u001b[39;49m\u001b[43m]\u001b[49m\u001b[43m,\u001b[49m\n\u001b[1;32m    121\u001b[0m \u001b[43m      \u001b[49m\u001b[43magent_name\u001b[49m\n\u001b[1;32m    122\u001b[0m \u001b[43m      \u001b[49m\u001b[43m)\u001b[49m\n\u001b[1;32m    123\u001b[0m   \u001b[38;5;28;01mreturn\u001b[39;00m llm_service_agent\n",
      "\u001b[0;31mTypeError\u001b[0m: __init__() takes 2 positional arguments but 3 were given"
     ]
    }
   ],
   "source": [
    "agent = BaseAgent.load_llm_service_agent(\"Casey\")"
   ]
  },
  {
   "cell_type": "code",
   "execution_count": null,
   "id": "ddb1b621-5e5f-4028-9186-c16651ac64c0",
   "metadata": {},
   "outputs": [],
   "source": []
  },
  {
   "cell_type": "code",
   "execution_count": null,
   "id": "2953187a-84bf-4387-828b-4ac820e13a44",
   "metadata": {},
   "outputs": [],
   "source": []
  },
  {
   "cell_type": "code",
   "execution_count": null,
   "id": "5f5dc65d-24b2-4f89-bbee-9cc5b8c07eb9",
   "metadata": {},
   "outputs": [],
   "source": [
    "from services.agents.agent_service import run_agent, agent_plan"
   ]
  },
  {
   "cell_type": "code",
   "execution_count": null,
   "id": "3fb6af63-837d-4da1-8a89-bf06d7ebc65c",
   "metadata": {},
   "outputs": [],
   "source": [
    "run_agent(\"Chat\", \"how is the weather today?\")"
   ]
  },
  {
   "cell_type": "code",
   "execution_count": null,
   "id": "d2068ce5-4855-4d86-a8c0-45ce9155f9d2",
   "metadata": {},
   "outputs": [],
   "source": [
    "user_id = \"5nJrkPWa3D0yCKA853mD\"\n",
    "plan = agent_plan(\"Plan\", \"Send an email to my boss asking for a raise\", user_id)"
   ]
  },
  {
   "cell_type": "code",
   "execution_count": null,
   "id": "7ca4a668-58fc-4216-bb90-788d4e8e883a",
   "metadata": {},
   "outputs": [],
   "source": [
    "plan[0]"
   ]
  },
  {
   "cell_type": "code",
   "execution_count": null,
   "id": "60677fb7-ff35-4bbb-9dbe-e79b5ee0dd0a",
   "metadata": {},
   "outputs": [],
   "source": [
    "plan_steps = plan[1].plan_steps"
   ]
  },
  {
   "cell_type": "code",
   "execution_count": null,
   "id": "d85bfa7e-20ea-4537-9b6a-4e9fbe74eead",
   "metadata": {},
   "outputs": [],
   "source": [
    "plan_steps[0]."
   ]
  },
  {
   "cell_type": "code",
   "execution_count": null,
   "id": "9f3a6fb9-3915-44ab-ae8f-55ed7decb885",
   "metadata": {},
   "outputs": [],
   "source": []
  }
 ],
 "metadata": {
  "kernelspec": {
   "display_name": "Python 3 (ipykernel)",
   "language": "python",
   "name": "python3"
  },
  "language_info": {
   "codemirror_mode": {
    "name": "ipython",
    "version": 3
   },
   "file_extension": ".py",
   "mimetype": "text/x-python",
   "name": "python",
   "nbconvert_exporter": "python",
   "pygments_lexer": "ipython3",
   "version": "3.9.13"
  }
 },
 "nbformat": 4,
 "nbformat_minor": 5
}
