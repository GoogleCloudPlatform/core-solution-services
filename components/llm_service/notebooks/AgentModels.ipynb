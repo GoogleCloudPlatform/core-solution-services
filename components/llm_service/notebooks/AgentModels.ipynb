{
 "cells": [
  {
   "cell_type": "code",
   "execution_count": 1,
   "id": "8614bb5d-bffe-4b12-9dbd-2d93b9d41eb6",
   "metadata": {},
   "outputs": [],
   "source": [
    "import os\n",
    "import sys\n",
    "import json\n",
    "import inspect\n",
    "\n",
    "sys.path.append(\"../../common/src\")\n",
    "sys.path.append(\"../src\")\n",
    "os.chdir(\"../src\")"
   ]
  },
  {
   "cell_type": "code",
   "execution_count": 2,
   "id": "9676ee1a-fce5-430d-94a0-af5c1f8c964b",
   "metadata": {},
   "outputs": [],
   "source": [
    "!export PROJECT_ID=\"gcp-mira-demo\"\n",
    "project = \"gcp-mira-demo\"\n",
    "os.environ[\"PROJECT_ID\"] = project"
   ]
  },
  {
   "cell_type": "code",
   "execution_count": 3,
   "id": "e546519c-3e81-4c5a-ac53-711c0c3ecdb3",
   "metadata": {},
   "outputs": [],
   "source": [
    "from common.models import Agent\n",
    "from common.models.agent import AgentType\n",
    "from services.agents.agent_service import get_agent_config, get_task_agent_config, get_plan_agent_config, get_all_agents"
   ]
  },
  {
   "cell_type": "code",
   "execution_count": 4,
   "id": "5aa2435a-c7e6-460b-961a-da469b3eb820",
   "metadata": {},
   "outputs": [
    {
     "data": {
      "text/plain": "{'Chat': {'llm_type': 'VertexAI-Chat',\n  'agent_type': 'langchain_Conversational',\n  'agent_class': services.agents.agents.ChatAgent,\n  'capabilities': ['Chat', 'Query']},\n 'Task': {'llm_type': 'VertexAI-Chat',\n  'agent_type': 'langchain_Conversational',\n  'agent_class': services.agents.agents.TaskAgent,\n  'capabilities': ['Chat', 'Query', 'Task']},\n 'Plan': {'llm_type': 'OpenAI-GPT4',\n  'agent_type': 'langchain_ZeroShot',\n  'agent_class': services.agents.agents.PlanAgent,\n  'capabilities': ['Plan']}}"
     },
     "execution_count": 4,
     "metadata": {},
     "output_type": "execute_result"
    }
   ],
   "source": [
    "get_agent_config()"
   ]
  },
  {
   "cell_type": "code",
   "execution_count": 5,
   "id": "2ca3a493-b65b-4161-b78d-fe9858b40240",
   "metadata": {},
   "outputs": [
    {
     "data": {
      "text/plain": "{'Task': {'llm_type': 'VertexAI-Chat',\n  'agent_type': 'langchain_Conversational',\n  'agent_class': services.agents.agents.TaskAgent,\n  'capabilities': ['Chat', 'Query', 'Task']}}"
     },
     "execution_count": 5,
     "metadata": {},
     "output_type": "execute_result"
    }
   ],
   "source": [
    "get_task_agent_config()"
   ]
  },
  {
   "cell_type": "code",
   "execution_count": 6,
   "id": "3c30949b-8982-45df-a05a-ea7465d4944b",
   "metadata": {},
   "outputs": [
    {
     "data": {
      "text/plain": "[{'Chat': {'llm_type': 'VertexAI-Chat', 'capabilities': ['Chat', 'Query']}},\n {'Task': {'llm_type': 'VertexAI-Chat',\n   'capabilities': ['Chat', 'Query', 'Task']}},\n {'Plan': {'llm_type': 'OpenAI-GPT4', 'capabilities': ['Plan']}}]"
     },
     "execution_count": 6,
     "metadata": {},
     "output_type": "execute_result"
    }
   ],
   "source": [
    "get_all_agents()"
   ]
  },
  {
   "cell_type": "code",
   "execution_count": 7,
   "id": "5f5dc65d-24b2-4f89-bbee-9cc5b8c07eb9",
   "metadata": {},
   "outputs": [],
   "source": [
    "from services.agents.agent_service import run_agent, agent_plan"
   ]
  },
  {
   "cell_type": "code",
   "execution_count": 8,
   "id": "3fb6af63-837d-4da1-8a89-bf06d7ebc65c",
   "metadata": {},
   "outputs": [
    {
     "data": {
      "text/plain": [
       "'The weather today is expected to be sunny with a high of 75 degrees Fahrenheit. There is a slight chance of rain in the afternoon.'"
      ]
     },
     "execution_count": 8,
     "metadata": {},
     "output_type": "execute_result"
    }
   ],
   "source": [
    "run_agent(\"ChatAgent\", \"how is the weather today?\")"
   ]
  },
  {
   "cell_type": "code",
   "execution_count": 9,
   "id": "d2068ce5-4855-4d86-a8c0-45ce9155f9d2",
   "metadata": {},
   "outputs": [
    {
     "data": {
      "text/plain": [
       "('Task: Send an email to my boss asking for a raise\\n\\nThought: The task requires drafting and sending an email. This can be done using the gmail_tool. We should also consider what the user might want to include in the email such as reasons for the raise and examples of their work performance. \\n\\nPlan: \\n   1. Use [docs_tool] to [draft the email to your boss asking for a raise, making sure to include reasons for the raise and evidence of your work performance].\\n   2. Use [gmail_tool] to [send the drafted email to your boss].',\n",
       " <common.models.agent.UserPlan at 0x10bb3d5b0>)"
      ]
     },
     "execution_count": 9,
     "metadata": {},
     "output_type": "execute_result"
    }
   ],
   "source": [
    "user_id = \"5nJrkPWa3D0yCKA853mD\"\n",
    "agent_plan(\"Plan\", \"Send an email to my boss asking for a raise\", user_id)"
   ]
  },
  {
   "cell_type": "code",
   "execution_count": null,
   "id": "7ca4a668-58fc-4216-bb90-788d4e8e883a",
   "metadata": {},
   "outputs": [],
   "source": []
  }
 ],
 "metadata": {
  "kernelspec": {
   "display_name": "Python 3 (ipykernel)",
   "language": "python",
   "name": "python3"
  },
  "language_info": {
   "codemirror_mode": {
    "name": "ipython",
    "version": 3
   },
   "file_extension": ".py",
   "mimetype": "text/x-python",
   "name": "python",
   "nbconvert_exporter": "python",
   "pygments_lexer": "ipython3",
   "version": "3.9.13"
  }
 },
 "nbformat": 4,
 "nbformat_minor": 5
}
