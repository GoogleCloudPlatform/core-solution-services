{
 "cells": [
  {
   "cell_type": "code",
   "execution_count": 1,
   "id": "8614bb5d-bffe-4b12-9dbd-2d93b9d41eb6",
   "metadata": {},
   "outputs": [],
   "source": [
    "import os\n",
    "import sys\n",
    "\n",
    "sys.path.append(\"../../common/src\")\n",
    "sys.path.append(\"../src\")"
   ]
  },
  {
   "cell_type": "code",
   "execution_count": 2,
   "id": "e546519c-3e81-4c5a-ac53-711c0c3ecdb3",
   "metadata": {},
   "outputs": [],
   "source": [
    "from common.models import Agent\n",
    "from common.models.agent import AgentType"
   ]
  },
  {
   "cell_type": "code",
   "execution_count": 3,
   "id": "d16a6e28-b9aa-4589-ae0e-fa5b9a2f1324",
   "metadata": {},
   "outputs": [],
   "source": [
    "agent_type = AgentType.LANGCHAIN_CONVERSATIONAL"
   ]
  },
  {
   "cell_type": "code",
   "execution_count": 4,
   "id": "5aa2435a-c7e6-460b-961a-da469b3eb820",
   "metadata": {},
   "outputs": [],
   "source": [
    "agent_class = AgentType.langchain_class_from_agent_type(agent_type)"
   ]
  },
  {
   "cell_type": "code",
   "execution_count": 5,
   "id": "d125982a-b872-4412-ab34-163bbc04d8dc",
   "metadata": {},
   "outputs": [
    {
     "data": {
      "text/plain": [
       "langchain.agents.conversational.base.ConversationalAgent"
      ]
     },
     "execution_count": 5,
     "metadata": {},
     "output_type": "execute_result"
    }
   ],
   "source": [
    "agent_class"
   ]
  },
  {
   "cell_type": "code",
   "execution_count": null,
   "id": "ba886c60-d8cd-4dbe-803e-ba0ea119d7a2",
   "metadata": {},
   "outputs": [],
   "source": []
  }
 ],
 "metadata": {
  "kernelspec": {
   "display_name": "Python 3 (ipykernel)",
   "language": "python",
   "name": "python3"
  },
  "language_info": {
   "codemirror_mode": {
    "name": "ipython",
    "version": 3
   },
   "file_extension": ".py",
   "mimetype": "text/x-python",
   "name": "python",
   "nbconvert_exporter": "python",
   "pygments_lexer": "ipython3",
   "version": "3.9.13"
  }
 },
 "nbformat": 4,
 "nbformat_minor": 5
}
