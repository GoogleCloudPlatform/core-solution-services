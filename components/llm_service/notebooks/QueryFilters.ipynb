{
 "cells": [
  {
   "cell_type": "code",
   "execution_count": 1,
   "id": "ab3c1700-ac45-49d6-994a-de21f38b6ee3",
   "metadata": {},
   "outputs": [],
   "source": [
    "import os\n",
    "import sys\n",
    "\n",
    "sys.path.append(\"../../common/src\")\n",
    "sys.path.append(\"../src\")"
   ]
  },
  {
   "cell_type": "code",
   "execution_count": 2,
   "id": "84285f36-009d-4657-8a2e-b4a2e33fa160",
   "metadata": {},
   "outputs": [],
   "source": [
    "!export PROJECT_ID=\"nasa-genie-dev\"\n",
    "project = \"nasa-genie-dev\"\n",
    "os.environ[\"PROJECT_ID\"] = project\n",
    "os.environ[\"PG_HOST\"] = \"10.10.1.2\""
   ]
  },
  {
   "cell_type": "code",
   "execution_count": 4,
   "id": "4e2e9b21-af1c-4a39-8cbd-4de2ac39cf09",
   "metadata": {},
   "outputs": [],
   "source": [
    "from services.query.vector_store import PostgresVectorStore"
   ]
  },
  {
   "cell_type": "code",
   "execution_count": 5,
   "id": "475ef0d9-19fb-4f41-a432-84a862d597b0",
   "metadata": {},
   "outputs": [],
   "source": [
    "from common.models import (UserQuery, QueryResult, QueryEngine, QueryDocument,\n",
    "                           QueryReference, QueryDocumentChunk, BatchJobModel)"
   ]
  },
  {
   "cell_type": "code",
   "execution_count": 6,
   "id": "292e558c-309c-477d-8a20-35b8085de353",
   "metadata": {},
   "outputs": [
    {
     "data": {
      "text/plain": [
       "[('nasa-demo-rbac-qe', 'bAXnpVXD8Txh0Ri3fqes'),\n",
       " ('Test Manifest', '34KBiwqLDqHMG8RYf5kt'),\n",
       " ('nasa-demo-parent-qe', 'PNjLCtT9htwrH9jrvUR7'),\n",
       " ('nasa-demo-shpt', 'GGlB2In4OQnSkOwD9Dy4'),\n",
       " ('nasa-demo-gcs', 'k6A7rBXmEjtzRwaWySmn'),\n",
       " ('nasa-search-integrated-v8', 'fcYZwEthyVcclBwwLpmQ'),\n",
       " ('nasa-search-shpt-v7', 'qZaOrVSGl8rvOsDCjAoi'),\n",
       " ('nasa-search-gcs-v7', 'qqJkXMwHB2Kb0jiJRXEn'),\n",
       " ('nasa-search-integrated-v5', 'nqIU7Oi4qRIOgKllDqsY'),\n",
       " ('nasa-search-shpt-v5', 'bteIzSiaaCd3t8vjzDLw'),\n",
       " ('nasa-search-gcs-v5', 'FZnCyfyWNsk2gcHErMVR')]"
      ]
     },
     "execution_count": 6,
     "metadata": {},
     "output_type": "execute_result"
    }
   ],
   "source": [
    "qe_list = QueryEngine.fetch_all()\n",
    "[(qe.name, qe.id) for qe in qe_list]"
   ]
  },
  {
   "cell_type": "code",
   "execution_count": 7,
   "id": "3baaaca0-ad11-444d-a96d-95fa08c5320a",
   "metadata": {},
   "outputs": [],
   "source": [
    "q_engine = QueryEngine.find_by_name('Test Manifest')"
   ]
  },
  {
   "cell_type": "code",
   "execution_count": 8,
   "id": "d532a199-313e-4c77-a40f-de429a136d85",
   "metadata": {},
   "outputs": [],
   "source": [
    "langchain_vector_store = PostgresVectorStore(q_engine, q_engine.embedding_type)"
   ]
  },
  {
   "cell_type": "code",
   "execution_count": 9,
   "id": "dcc35d77-e55d-4c72-bbb7-2b31da13fe85",
   "metadata": {
    "scrolled": true
   },
   "outputs": [
    {
     "data": {
      "text/plain": [
       "{'topics': {'$contains': 'plasma'}}"
      ]
     },
     "execution_count": 9,
     "metadata": {},
     "output_type": "execute_result"
    }
   ],
   "source": [
    "# Example usage\n",
    "filter_str = \"{\\\"topics\\\": {\\\"$contains\\\":\\\"plasma\\\"}}\"\n",
    "parsed_filter = langchain_vector_store.parse_filter(filter_str)\n",
    "parsed_filter"
   ]
  },
  {
   "cell_type": "code",
   "execution_count": 36,
   "id": "dc059eaa-4f17-4fdc-bd3d-8b50a0888e18",
   "metadata": {},
   "outputs": [],
   "source": [
    "query_prompt = \"what is some recent research in cosmology?\""
   ]
  },
  {
   "cell_type": "code",
   "execution_count": 37,
   "id": "af8752e6-05b4-42a3-b548-1d649db61eea",
   "metadata": {},
   "outputs": [
    {
     "name": "stdout",
     "output_type": "stream",
     "text": [
      "INFO: [services/embeddings.py:65 - get_embeddings()] generating embeddings with VertexAI-Embedding\n",
      "INFO: [services/embeddings.py:149 - generate_embeddings()] generating embeddings for embedding type VertexAI-Embedding\n",
      "INFO: [config/model_config.py:488 - get_provider_value()] Get provider value:\n",
      "INFO: [config/model_config.py:489 - get_provider_value()] provider_id=Vertex\n",
      "INFO: [config/model_config.py:490 - get_provider_value()] model_id=VertexAI-Embedding\n",
      "INFO: [services/embeddings.py:208 - get_vertex_embeddings()] generating Vertex embeddings for 1 chunk(s) embedding model text-embedding-004\n"
     ]
    }
   ],
   "source": [
    "from services import embeddings\n",
    "_, query_embeddings = \\\n",
    "      await embeddings.get_embeddings([query_prompt], q_engine.embedding_type)"
   ]
  },
  {
   "cell_type": "code",
   "execution_count": 38,
   "id": "72b60aa4-adb6-4c1c-8d2a-672892ebc1b5",
   "metadata": {},
   "outputs": [],
   "source": [
    "query_embedding = query_embeddings[0]"
   ]
  },
  {
   "cell_type": "code",
   "execution_count": 39,
   "id": "817d4d36-5eed-4357-b2bb-17a5e68126c9",
   "metadata": {},
   "outputs": [],
   "source": [
    "match_indexes_list = langchain_vector_store.similarity_search(q_engine, query_embedding)"
   ]
  },
  {
   "cell_type": "code",
   "execution_count": 40,
   "id": "baeaa683-c2f2-4f4a-a4b9-8cd031b37f03",
   "metadata": {},
   "outputs": [
    {
     "data": {
      "text/plain": [
       "[1318, 1380, 700, 680, 1389]"
      ]
     },
     "execution_count": 40,
     "metadata": {},
     "output_type": "execute_result"
    }
   ],
   "source": [
    "match_indexes_list"
   ]
  },
  {
   "cell_type": "code",
   "execution_count": 41,
   "id": "480d0a10-fc3e-4829-86dd-3669940f53e0",
   "metadata": {},
   "outputs": [],
   "source": [
    "qdoc_chunks = [QueryDocumentChunk.find_by_index(q_engine.id, match) for match in match_indexes_list]"
   ]
  },
  {
   "cell_type": "code",
   "execution_count": 42,
   "id": "b74328ee-e1c8-4155-8030-83065a787455",
   "metadata": {},
   "outputs": [
    {
     "data": {
      "text/plain": [
       "[<common.models.llm_query.QueryDocumentChunk at 0x7f5f6b54b990>,\n",
       " <common.models.llm_query.QueryDocumentChunk at 0x7f5f6b531e10>,\n",
       " <common.models.llm_query.QueryDocumentChunk at 0x7f5f6b530850>,\n",
       " <common.models.llm_query.QueryDocumentChunk at 0x7f5f6b54b6d0>,\n",
       " <common.models.llm_query.QueryDocumentChunk at 0x7f5f6b542650>]"
      ]
     },
     "execution_count": 42,
     "metadata": {},
     "output_type": "execute_result"
    }
   ],
   "source": [
    "qdoc_chunks"
   ]
  },
  {
   "cell_type": "code",
   "execution_count": 43,
   "id": "a8b22e20-b2f0-4866-b2d6-1c3f5649e6e8",
   "metadata": {},
   "outputs": [],
   "source": [
    "qdocs = [QueryDocument.find_by_id(doc_chunk.query_document_id) for doc_chunk in qdoc_chunks]"
   ]
  },
  {
   "cell_type": "code",
   "execution_count": 44,
   "id": "91e18625-7e0d-423a-8051-c53c3b40d952",
   "metadata": {},
   "outputs": [
    {
     "data": {
      "text/plain": [
       "['https://storage.googleapis.com/nasa-genie-dev-source-docs-02/s11214-015-0150-2.pdf',\n",
       " 'https://storage.googleapis.com/nasa-genie-dev-source-docs-02/s11214-015-0150-2.pdf',\n",
       " 'https://storage.googleapis.com/nasa-genie-dev-source-docs-02/PhysRevLett.112.091302.pdf',\n",
       " 'https://storage.googleapis.com/nasa-genie-dev-source-docs-02/PhysRevLett.112.091302.pdf',\n",
       " 'https://storage.googleapis.com/nasa-genie-dev-source-docs-02/s11214-015-0150-2.pdf']"
      ]
     },
     "execution_count": 44,
     "metadata": {},
     "output_type": "execute_result"
    }
   ],
   "source": [
    "[qdoc.doc_url for qdoc in qdocs]"
   ]
  },
  {
   "cell_type": "code",
   "execution_count": 51,
   "id": "52e3c180-902f-46db-8764-1d18da831320",
   "metadata": {},
   "outputs": [
    {
     "data": {
      "text/plain": [
       "{'title': {'eq': 'Establishing the Context for Reconnection Diffusion Region Encounters and Strategies for the Capture and Transmission of Diffusion Region Burst Data by MMS'}}"
      ]
     },
     "execution_count": 51,
     "metadata": {},
     "output_type": "execute_result"
    }
   ],
   "source": [
    "filter_str = \"{\\\"title\\\": {\\\"eq\\\":\\\"Establishing the Context for Reconnection Diffusion Region Encounters and Strategies for the Capture and Transmission of Diffusion Region Burst Data by MMS\\\"}}\"\n",
    "#filter_str = \"{\\\"title\\\": \\\"Establishing the Context for Reconnection Diffusion Region Encounters and Strategies for the Capture and Transmission of Diffusion Region Burst Data by MMS\\\"}\"\n",
    "parsed_filter = langchain_vector_store.parse_filter(filter_str)\n",
    "parsed_filter"
   ]
  },
  {
   "cell_type": "code",
   "execution_count": 52,
   "id": "1171e905-b2ff-4258-97bc-de9e80a1bc99",
   "metadata": {},
   "outputs": [],
   "source": [
    "NUM_MATCH_RESULTS = 5\n",
    "match_list = langchain_vector_store.lc_vector_store.similarity_search_with_score_by_vector(\n",
    "        embedding=query_embedding,\n",
    "        k=NUM_MATCH_RESULTS,\n",
    "        filter=parsed_filter\n",
    "    )"
   ]
  },
  {
   "cell_type": "code",
   "execution_count": 53,
   "id": "2a9220c5-6a99-4f82-82e5-5305fb22528a",
   "metadata": {},
   "outputs": [
    {
     "data": {
      "text/plain": [
       "[(Document(page_content='Space Sci. ', metadata={'authors': ['T.D. Phan', 'M.A. Shay', 'J.P. Eastwood', 'V. Angelopoulos', 'M. Oieroset', 'M. Oka', 'M. Fujimoto'], 'title': 'Establishing the Context for Reconnection Diffusion Region Encounters and Strategies for the Capture and Transmission of Diffusion Region Burst Data by MMS', 'publish_date': '04/15/2015', 'topics': ['magnetic reconnection', 'diffusion region', 'magnetopause', 'magnetotail']}),\n",
       "  0.417557154015501,\n",
       "  '1380'),\n",
       " (Document(page_content='Space Sci. ', metadata={'authors': ['T.D. Phan', 'M.A. Shay', 'J.P. Eastwood', 'V. Angelopoulos', 'M. Oieroset', 'M. Oka', 'M. Fujimoto'], 'title': 'Establishing the Context for Reconnection Diffusion Region Encounters and Strategies for the Capture and Transmission of Diffusion Region Burst Data by MMS', 'publish_date': '04/15/2015', 'topics': ['magnetic reconnection', 'diffusion region', 'magnetopause', 'magnetotail']}),\n",
       "  0.417557154015501,\n",
       "  '1318'),\n",
       " (Document(page_content='Space Phys. ', metadata={'authors': ['T.D. Phan', 'M.A. Shay', 'J.P. Eastwood', 'V. Angelopoulos', 'M. Oieroset', 'M. Oka', 'M. Fujimoto'], 'title': 'Establishing the Context for Reconnection Diffusion Region Encounters and Strategies for the Capture and Transmission of Diffusion Region Burst Data by MMS', 'publish_date': '04/15/2015', 'topics': ['magnetic reconnection', 'diffusion region', 'magnetopause', 'magnetotail']}),\n",
       "  0.45323132695696666,\n",
       "  '1389'),\n",
       " (Document(page_content='Space Phys. ', metadata={'authors': ['T.D. Phan', 'M.A. Shay', 'J.P. Eastwood', 'V. Angelopoulos', 'M. Oieroset', 'M. Oka', 'M. Fujimoto'], 'title': 'Establishing the Context for Reconnection Diffusion Region Encounters and Strategies for the Capture and Transmission of Diffusion Region Burst Data by MMS', 'publish_date': '04/15/2015', 'topics': ['magnetic reconnection', 'diffusion region', 'magnetopause', 'magnetotail']}),\n",
       "  0.45323132695696666,\n",
       "  '1445'),\n",
       " (Document(page_content='Space Phys. ', metadata={'authors': ['T.D. Phan', 'M.A. Shay', 'J.P. Eastwood', 'V. Angelopoulos', 'M. Oieroset', 'M. Oka', 'M. Fujimoto'], 'title': 'Establishing the Context for Reconnection Diffusion Region Encounters and Strategies for the Capture and Transmission of Diffusion Region Burst Data by MMS', 'publish_date': '04/15/2015', 'topics': ['magnetic reconnection', 'diffusion region', 'magnetopause', 'magnetotail']}),\n",
       "  0.45323132695696666,\n",
       "  '1477')]"
      ]
     },
     "execution_count": 53,
     "metadata": {},
     "output_type": "execute_result"
    }
   ],
   "source": [
    "match_list"
   ]
  },
  {
   "cell_type": "code",
   "execution_count": 35,
   "id": "c92e09cf-57a5-4118-87f8-95a43debe94f",
   "metadata": {},
   "outputs": [
    {
     "data": {
      "text/plain": [
       "['https://storage.googleapis.com/nasa-genie-dev-source-docs-02/tc-11-2773-2017.pdf',\n",
       " 'https://storage.googleapis.com/nasa-genie-dev-source-docs-02/stz697.pdf',\n",
       " 'https://storage.googleapis.com/nasa-genie-dev-source-docs-02/stz640.pdf',\n",
       " 'https://storage.googleapis.com/nasa-genie-dev-source-docs-02/stz003.pdf',\n",
       " 'https://storage.googleapis.com/nasa-genie-dev-source-docs-02/s11214-015-0150-2.pdf',\n",
       " 'https://storage.googleapis.com/nasa-genie-dev-source-docs-02/PhysRevLett.112.091302.pdf',\n",
       " 'https://storage.googleapis.com/nasa-genie-dev-source-docs-02/JGR%20Solid%20Earth%20-%202015%20-%20Watkins%20-%20Improved%20methods%20for%20observing%20Earth%20s%20time%20variable%20mass%20distribution%20with%20GRACE%20using.pdf']"
      ]
     },
     "execution_count": 35,
     "metadata": {},
     "output_type": "execute_result"
    }
   ],
   "source": [
    "[doc.doc_url for doc in QueryDocument.find_by_query_engine_id(q_engine.id)]"
   ]
  },
  {
   "cell_type": "code",
   "execution_count": 55,
   "id": "1331689c-868b-4fab-94f7-1159ef24e932",
   "metadata": {},
   "outputs": [],
   "source": [
    "IN, NIN, BETWEEN, GT, LT, NE = \"in\", \"nin\", \"between\", \"gt\", \"lt\", \"ne\"\n",
    "EQ, LIKE, CONTAINS, OR, AND = \"eq\", \"like\", \"contains\", \"or\", \"and\""
   ]
  },
  {
   "cell_type": "code",
   "execution_count": 62,
   "id": "1b1814f7-4b64-48b4-8bba-1228c7076bfc",
   "metadata": {},
   "outputs": [
    {
     "data": {
      "text/plain": [
       "{'title': {'$eq': 'Establishing the Context for Reconnection Diffusion Region Encounters and Strategies for the Capture and Transmission of Diffusion Region Burst Data by MMS'}}"
      ]
     },
     "execution_count": 62,
     "metadata": {},
     "output_type": "execute_result"
    }
   ],
   "source": [
    "filter_str = \"{\\\"title\\\": {\\\"$eq\\\":\\\"Establishing the Context for Reconnection Diffusion Region Encounters and Strategies for the Capture and Transmission of Diffusion Region Burst Data by MMS\\\"}}\"\n",
    "#filter_str = \"{\\\"title\\\": \\\"Establishing the Context for Reconnection Diffusion Region Encounters and Strategies for the Capture and Transmission of Diffusion Region Burst Data by MMS\\\"}\"\n",
    "parsed_filter = langchain_vector_store.parse_filter(filter_str)\n",
    "parsed_filter"
   ]
  },
  {
   "cell_type": "code",
   "execution_count": 63,
   "id": "926d1f2e-425b-4a2d-93a8-5e0c7f7ef1a9",
   "metadata": {},
   "outputs": [],
   "source": [
    "value = parsed_filter['title']"
   ]
  },
  {
   "cell_type": "code",
   "execution_count": 64,
   "id": "2801be36-35c9-4433-8951-09fd765c9f39",
   "metadata": {},
   "outputs": [
    {
     "data": {
      "text/plain": [
       "False"
      ]
     },
     "execution_count": 64,
     "metadata": {},
     "output_type": "execute_result"
    }
   ],
   "source": [
    "IN in map(str.lower, value)"
   ]
  },
  {
   "cell_type": "code",
   "execution_count": 65,
   "id": "ce99fb6b-d921-40d2-91de-8be31cead668",
   "metadata": {},
   "outputs": [
    {
     "data": {
      "text/plain": [
       "False"
      ]
     },
     "execution_count": 65,
     "metadata": {},
     "output_type": "execute_result"
    }
   ],
   "source": [
    "EQ in map(str.lower, value)"
   ]
  },
  {
   "cell_type": "code",
   "execution_count": 66,
   "id": "709074fb-9db2-4a86-bcd1-5a4496b38060",
   "metadata": {},
   "outputs": [
    {
     "data": {
      "text/plain": [
       "{'$eq': 'Establishing the Context for Reconnection Diffusion Region Encounters and Strategies for the Capture and Transmission of Diffusion Region Burst Data by MMS'}"
      ]
     },
     "execution_count": 66,
     "metadata": {},
     "output_type": "execute_result"
    }
   ],
   "source": [
    "value"
   ]
  },
  {
   "cell_type": "code",
   "execution_count": null,
   "id": "8e400acf-49f0-418d-a779-ae30e80b7f3f",
   "metadata": {},
   "outputs": [],
   "source": []
  }
 ],
 "metadata": {
  "kernelspec": {
   "display_name": "Python 3 (ipykernel)",
   "language": "python",
   "name": "python3"
  },
  "language_info": {
   "codemirror_mode": {
    "name": "ipython",
    "version": 3
   },
   "file_extension": ".py",
   "mimetype": "text/x-python",
   "name": "python",
   "nbconvert_exporter": "python",
   "pygments_lexer": "ipython3",
   "version": "3.9.13"
  }
 },
 "nbformat": 4,
 "nbformat_minor": 5
}
