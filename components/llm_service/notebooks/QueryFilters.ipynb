{
 "cells": [
  {
   "cell_type": "code",
   "execution_count": 1,
   "id": "ab3c1700-ac45-49d6-994a-de21f38b6ee3",
   "metadata": {},
   "outputs": [],
   "source": [
    "import os\n",
    "import sys\n",
    "\n",
    "sys.path.append(\"../../common/src\")\n",
    "sys.path.append(\"../src\")"
   ]
  },
  {
   "cell_type": "code",
   "execution_count": 2,
   "id": "84285f36-009d-4657-8a2e-b4a2e33fa160",
   "metadata": {},
   "outputs": [],
   "source": [
    "!export PROJECT_ID=\"lramsey-dev\"\n",
    "project = \"lramsey-dev\"\n",
    "os.environ[\"PROJECT_ID\"] = project\n",
    "os.environ[\"PG_HOST\"] = \"\""
   ]
  },
  {
   "cell_type": "code",
   "execution_count": 3,
   "id": "4e2e9b21-af1c-4a39-8cbd-4de2ac39cf09",
   "metadata": {},
   "outputs": [
    {
     "name": "stdout",
     "output_type": "stream",
     "text": [
      "INFO: [config/config.py:61 - <module>()] Namespace File not found, setting job namespace as default\n"
     ]
    },
    {
     "name": "stderr",
     "output_type": "stream",
     "text": [
      "/Users/lramsey/work/ailp/lukmanr-gps-core-solution-services/components/llm_service/notebooks/.venv/lib/python3.9/site-packages/langchain_community/llms/__init__.py:173: LangChainDeprecationWarning: `` was deprecated in LangChain 0.0.22 and will be removed in 0.2. An updated version of the  exists in the langchain-community package and should be used instead. To use it run `pip install -U langchain-community` and import as `from langchain_community.chat_models import ChatDatabricks`.\n",
      "  warn_deprecated(\n",
      "/Users/lramsey/work/ailp/lukmanr-gps-core-solution-services/components/llm_service/notebooks/.venv/lib/python3.9/site-packages/langchain_community/llms/__init__.py:343: LangChainDeprecationWarning: `` was deprecated in LangChain 0.0.22 and will be removed in 0.2. An updated version of the  exists in the langchain-community package and should be used instead. To use it run `pip install -U langchain-community` and import as `from langchain_community.chat_models import ChatMlflow`.\n",
      "  warn_deprecated(\n",
      "/Users/lramsey/work/ailp/lukmanr-gps-core-solution-services/components/llm_service/notebooks/.venv/lib/python3.9/site-packages/langchain_community/llms/__init__.py:173: LangChainDeprecationWarning: `` was deprecated in LangChain 0.0.22 and will be removed in 0.2. An updated version of the  exists in the langchain-community package and should be used instead. To use it run `pip install -U langchain-community` and import as `from langchain_community.chat_models import ChatDatabricks`.\n",
      "  warn_deprecated(\n",
      "/Users/lramsey/work/ailp/lukmanr-gps-core-solution-services/components/llm_service/notebooks/.venv/lib/python3.9/site-packages/langchain_community/llms/__init__.py:343: LangChainDeprecationWarning: `` was deprecated in LangChain 0.0.22 and will be removed in 0.2. An updated version of the  exists in the langchain-community package and should be used instead. To use it run `pip install -U langchain-community` and import as `from langchain_community.chat_models import ChatMlflow`.\n",
      "  warn_deprecated(\n",
      "/Users/lramsey/work/ailp/lukmanr-gps-core-solution-services/components/llm_service/notebooks/.venv/lib/python3.9/site-packages/langchain_community/llms/__init__.py:173: LangChainDeprecationWarning: `` was deprecated in LangChain 0.0.22 and will be removed in 0.2. An updated version of the  exists in the langchain-community package and should be used instead. To use it run `pip install -U langchain-community` and import as `from langchain_community.chat_models import ChatDatabricks`.\n",
      "  warn_deprecated(\n",
      "/Users/lramsey/work/ailp/lukmanr-gps-core-solution-services/components/llm_service/notebooks/.venv/lib/python3.9/site-packages/langchain_community/llms/__init__.py:343: LangChainDeprecationWarning: `` was deprecated in LangChain 0.0.22 and will be removed in 0.2. An updated version of the  exists in the langchain-community package and should be used instead. To use it run `pip install -U langchain-community` and import as `from langchain_community.chat_models import ChatMlflow`.\n",
      "  warn_deprecated(\n",
      "/Users/lramsey/work/ailp/lukmanr-gps-core-solution-services/components/llm_service/notebooks/.venv/lib/python3.9/site-packages/langchain_community/llms/__init__.py:173: LangChainDeprecationWarning: `` was deprecated in LangChain 0.0.22 and will be removed in 0.2. An updated version of the  exists in the langchain-community package and should be used instead. To use it run `pip install -U langchain-community` and import as `from langchain_community.chat_models import ChatDatabricks`.\n",
      "  warn_deprecated(\n",
      "/Users/lramsey/work/ailp/lukmanr-gps-core-solution-services/components/llm_service/notebooks/.venv/lib/python3.9/site-packages/langchain_community/llms/__init__.py:343: LangChainDeprecationWarning: `` was deprecated in LangChain 0.0.22 and will be removed in 0.2. An updated version of the  exists in the langchain-community package and should be used instead. To use it run `pip install -U langchain-community` and import as `from langchain_community.chat_models import ChatMlflow`.\n",
      "  warn_deprecated(\n",
      "/Users/lramsey/work/ailp/lukmanr-gps-core-solution-services/components/llm_service/notebooks/.venv/lib/python3.9/site-packages/langchain_community/llms/__init__.py:173: LangChainDeprecationWarning: `` was deprecated in LangChain 0.0.22 and will be removed in 0.2. An updated version of the  exists in the langchain-community package and should be used instead. To use it run `pip install -U langchain-community` and import as `from langchain_community.chat_models import ChatDatabricks`.\n",
      "  warn_deprecated(\n",
      "/Users/lramsey/work/ailp/lukmanr-gps-core-solution-services/components/llm_service/notebooks/.venv/lib/python3.9/site-packages/langchain_community/llms/__init__.py:343: LangChainDeprecationWarning: `` was deprecated in LangChain 0.0.22 and will be removed in 0.2. An updated version of the  exists in the langchain-community package and should be used instead. To use it run `pip install -U langchain-community` and import as `from langchain_community.chat_models import ChatMlflow`.\n",
      "  warn_deprecated(\n",
      "/Users/lramsey/work/ailp/lukmanr-gps-core-solution-services/components/llm_service/notebooks/.venv/lib/python3.9/site-packages/langchain_community/llms/__init__.py:173: LangChainDeprecationWarning: `` was deprecated in LangChain 0.0.22 and will be removed in 0.2. An updated version of the  exists in the langchain-community package and should be used instead. To use it run `pip install -U langchain-community` and import as `from langchain_community.chat_models import ChatDatabricks`.\n",
      "  warn_deprecated(\n",
      "/Users/lramsey/work/ailp/lukmanr-gps-core-solution-services/components/llm_service/notebooks/.venv/lib/python3.9/site-packages/langchain_community/llms/__init__.py:343: LangChainDeprecationWarning: `` was deprecated in LangChain 0.0.22 and will be removed in 0.2. An updated version of the  exists in the langchain-community package and should be used instead. To use it run `pip install -U langchain-community` and import as `from langchain_community.chat_models import ChatMlflow`.\n",
      "  warn_deprecated(\n",
      "/Users/lramsey/work/ailp/lukmanr-gps-core-solution-services/components/llm_service/notebooks/.venv/lib/python3.9/site-packages/langchain_community/llms/__init__.py:173: LangChainDeprecationWarning: `` was deprecated in LangChain 0.0.22 and will be removed in 0.2. An updated version of the  exists in the langchain-community package and should be used instead. To use it run `pip install -U langchain-community` and import as `from langchain_community.chat_models import ChatDatabricks`.\n",
      "  warn_deprecated(\n",
      "/Users/lramsey/work/ailp/lukmanr-gps-core-solution-services/components/llm_service/notebooks/.venv/lib/python3.9/site-packages/langchain_community/llms/__init__.py:343: LangChainDeprecationWarning: `` was deprecated in LangChain 0.0.22 and will be removed in 0.2. An updated version of the  exists in the langchain-community package and should be used instead. To use it run `pip install -U langchain-community` and import as `from langchain_community.chat_models import ChatMlflow`.\n",
      "  warn_deprecated(\n",
      "/Users/lramsey/work/ailp/lukmanr-gps-core-solution-services/components/llm_service/notebooks/.venv/lib/python3.9/site-packages/langchain_core/_api/deprecation.py:119: LangChainDeprecationWarning: The class `ChatCohere` was deprecated in LangChain 0.0.30 and will be removed in 0.2.0. An updated version of the class exists in the langchain-cohere package and should be used instead. To use it run `pip install -U langchain-cohere` and import as `from langchain_cohere import ChatCohere`.\n",
      "  warn_deprecated(\n",
      "/Users/lramsey/work/ailp/lukmanr-gps-core-solution-services/components/llm_service/notebooks/.venv/lib/python3.9/site-packages/langchain_community/llms/__init__.py:173: LangChainDeprecationWarning: `` was deprecated in LangChain 0.0.22 and will be removed in 0.2. An updated version of the  exists in the langchain-community package and should be used instead. To use it run `pip install -U langchain-community` and import as `from langchain_community.chat_models import ChatDatabricks`.\n",
      "  warn_deprecated(\n",
      "/Users/lramsey/work/ailp/lukmanr-gps-core-solution-services/components/llm_service/notebooks/.venv/lib/python3.9/site-packages/langchain_community/llms/__init__.py:343: LangChainDeprecationWarning: `` was deprecated in LangChain 0.0.22 and will be removed in 0.2. An updated version of the  exists in the langchain-community package and should be used instead. To use it run `pip install -U langchain-community` and import as `from langchain_community.chat_models import ChatMlflow`.\n",
      "  warn_deprecated(\n"
     ]
    },
    {
     "name": "stdout",
     "output_type": "stream",
     "text": [
      "INFO: [config/config.py:112 - <module>()] ENABLE_GOOGLE_LLM = True\n",
      "INFO: [config/config.py:113 - <module>()] ENABLE_OPENAI_LLM = True\n",
      "INFO: [config/config.py:114 - <module>()] ENABLE_COHERE_LLM = True\n",
      "INFO: [config/config.py:115 - <module>()] ENABLE_GOOGLE_MODEL_GARDEN = True\n",
      "INFO: [config/config.py:116 - <module>()] ENABLE_TRUSS_LLAMA2 = False\n",
      "INFO: [config/config.py:117 - <module>()] ENABLE_VLLM_GEMMA = True\n",
      "INFO: [config/vector_store_config.py:40 - <module>()] Default vector store = [matching_engine]\n",
      "INFO: [config/vector_store_config.py:49 - <module>()] PG_HOST = [None]\n",
      "INFO: [config/vector_store_config.py:50 - <module>()] PG_DBNAME = [pgvector]\n",
      "INFO: [config/vector_store_config.py:79 - <module>()] PG_HOST is set to [None], not connecting to pgvector\n",
      "INFO: [config/onedrive_config.py:30 - <module>()] ONEDRIVE_CLIENT_ID = [None]\n",
      "INFO: [config/onedrive_config.py:31 - <module>()] ONEDRIVE_TENANT_ID = [None]\n",
      "WARNING: [config/onedrive_config.py:42 - <module>()] Can't access onedrive client secret\n",
      "WARNING: [config/onedrive_config.py:48 - <module>()] Can't access onedrive principle name\n"
     ]
    }
   ],
   "source": [
    "from services.query.vector_store import LangChainVectorStore"
   ]
  },
  {
   "cell_type": "code",
   "execution_count": 4,
   "id": "475ef0d9-19fb-4f41-a432-84a862d597b0",
   "metadata": {},
   "outputs": [],
   "source": [
    "from common.models import (UserQuery, QueryResult, QueryEngine, QueryDocument,\n",
    "                           QueryReference, QueryDocumentChunk, BatchJobModel)"
   ]
  },
  {
   "cell_type": "code",
   "execution_count": 5,
   "id": "292e558c-309c-477d-8a20-35b8085de353",
   "metadata": {},
   "outputs": [
    {
     "data": {
      "text/plain": [
       "[('Test LLM Service 2', 'JmKH0Rnt6khHCaRfuSG7'),\n",
       " ('Test LLM Service 1', 'SaLOGu4JCvStmK7RFCMD'),\n",
       " ('Test Vertex Search 8', 'urjshigECiGqhj90MjJx'),\n",
       " ('Test Vertex Search 7', 'BY5hPEunjRYutJVD7DQa'),\n",
       " ('Test Vertex Search 6', 'vnoCpT38aKjEZlDjmhVs'),\n",
       " ('Test Vertex Search 5', 'WRDCFzLMqJFy8cvDh2WA'),\n",
       " ('APG Provider Manual', 'TXfYVDTqotmlF3thAx0O'),\n",
       " ('CHCANYS Conference web page from NYSDOH site', 'ZCfGNtk9WuIxgp8wLc6h'),\n",
       " ('FQHC Dental Policies from NYSDOH web site', 'x6UkpTjcgVZxCB8kucqU'),\n",
       " ('Medicaid dental billing policies', 'dwQL5Ir0iXDpMW4kUEM4')]"
      ]
     },
     "execution_count": 5,
     "metadata": {},
     "output_type": "execute_result"
    }
   ],
   "source": [
    "qe_list = QueryEngine.fetch_all()\n",
    "[(qe.name, qe.id) for qe in qe_list]"
   ]
  },
  {
   "cell_type": "code",
   "execution_count": 6,
   "id": "3baaaca0-ad11-444d-a96d-95fa08c5320a",
   "metadata": {},
   "outputs": [],
   "source": [
    "q_engine = QueryEngine.find_by_name('FQHC Dental Policies from NYSDOH web site')"
   ]
  },
  {
   "cell_type": "code",
   "execution_count": 7,
   "id": "d532a199-313e-4c77-a40f-de429a136d85",
   "metadata": {},
   "outputs": [],
   "source": [
    "langchain_vector_store = LangChainVectorStore(q_engine)"
   ]
  },
  {
   "cell_type": "code",
   "execution_count": 8,
   "id": "dcc35d77-e55d-4c72-bbb7-2b31da13fe85",
   "metadata": {},
   "outputs": [
    {
     "ename": "AttributeError",
     "evalue": "'Forward' object has no attribute 'expandtabs'",
     "output_type": "error",
     "traceback": [
      "\u001b[0;31m---------------------------------------------------------------------------\u001b[0m",
      "\u001b[0;31mAttributeError\u001b[0m                            Traceback (most recent call last)",
      "Cell \u001b[0;32mIn[8], line 3\u001b[0m\n\u001b[1;32m      1\u001b[0m \u001b[38;5;66;03m# Example usage\u001b[39;00m\n\u001b[1;32m      2\u001b[0m expression \u001b[38;5;241m=\u001b[39m \u001b[38;5;124m'\u001b[39m\u001b[38;5;124mstatus: ANY (\u001b[39m\u001b[38;5;124m\"\u001b[39m\u001b[38;5;124mACTIVE\u001b[39m\u001b[38;5;124m\"\u001b[39m\u001b[38;5;124m, \u001b[39m\u001b[38;5;124m\"\u001b[39m\u001b[38;5;124mINACTIVE\u001b[39m\u001b[38;5;124m\"\u001b[39m\u001b[38;5;124m) AND score: IN (10, 20) OR price >= 100\u001b[39m\u001b[38;5;124m'\u001b[39m\n\u001b[0;32m----> 3\u001b[0m parsed_result \u001b[38;5;241m=\u001b[39m \u001b[43mlangchain_vector_store\u001b[49m\u001b[38;5;241;43m.\u001b[39;49m\u001b[43mparse_filter\u001b[49m\u001b[43m(\u001b[49m\u001b[43mexpression\u001b[49m\u001b[43m)\u001b[49m\n\u001b[1;32m      4\u001b[0m parsed_result\n",
      "File \u001b[0;32m~/work/ailp/lukmanr-gps-core-solution-services/components/llm_service/notebooks/../src/services/query/vector_store.py:157\u001b[0m, in \u001b[0;36mVectorStore.parse_filter\u001b[0;34m(self, filter_str)\u001b[0m\n\u001b[1;32m    154\u001b[0m \u001b[38;5;66;03m# Define the parser\u001b[39;00m\n\u001b[1;32m    155\u001b[0m filter_expr \u001b[38;5;241m=\u001b[39m OneOrMore(expression)\n\u001b[0;32m--> 157\u001b[0m parsed_expr \u001b[38;5;241m=\u001b[39m \u001b[43mfilter_expr\u001b[49m\u001b[38;5;241;43m.\u001b[39;49m\u001b[43mparseString\u001b[49m\u001b[43m(\u001b[49m\u001b[43mexpression\u001b[49m\u001b[43m,\u001b[49m\u001b[43m \u001b[49m\u001b[43mparseAll\u001b[49m\u001b[38;5;241;43m=\u001b[39;49m\u001b[38;5;28;43;01mTrue\u001b[39;49;00m\u001b[43m)\u001b[49m\n\u001b[1;32m    159\u001b[0m \u001b[38;5;28;01mreturn\u001b[39;00m parsed_expr\n",
      "File \u001b[0;32m~/work/ailp/lukmanr-gps-core-solution-services/components/llm_service/notebooks/.venv/lib/python3.9/site-packages/pyparsing/util.py:256\u001b[0m, in \u001b[0;36mreplaced_by_pep8.<locals>._inner\u001b[0;34m(self, *args, **kwargs)\u001b[0m\n\u001b[1;32m    251\u001b[0m \u001b[38;5;129m@wraps\u001b[39m(fn)\n\u001b[1;32m    252\u001b[0m \u001b[38;5;28;01mdef\u001b[39;00m \u001b[38;5;21m_inner\u001b[39m(\u001b[38;5;28mself\u001b[39m, \u001b[38;5;241m*\u001b[39margs, \u001b[38;5;241m*\u001b[39m\u001b[38;5;241m*\u001b[39mkwargs):\n\u001b[1;32m    253\u001b[0m     \u001b[38;5;66;03m# warnings.warn(\u001b[39;00m\n\u001b[1;32m    254\u001b[0m     \u001b[38;5;66;03m#     f\"Deprecated - use {fn.__name__}\", DeprecationWarning, stacklevel=2\u001b[39;00m\n\u001b[1;32m    255\u001b[0m     \u001b[38;5;66;03m# )\u001b[39;00m\n\u001b[0;32m--> 256\u001b[0m     \u001b[38;5;28;01mreturn\u001b[39;00m \u001b[43mfn\u001b[49m\u001b[43m(\u001b[49m\u001b[38;5;28;43mself\u001b[39;49m\u001b[43m,\u001b[49m\u001b[43m \u001b[49m\u001b[38;5;241;43m*\u001b[39;49m\u001b[43margs\u001b[49m\u001b[43m,\u001b[49m\u001b[43m \u001b[49m\u001b[38;5;241;43m*\u001b[39;49m\u001b[38;5;241;43m*\u001b[39;49m\u001b[43mkwargs\u001b[49m\u001b[43m)\u001b[49m\n",
      "File \u001b[0;32m~/work/ailp/lukmanr-gps-core-solution-services/components/llm_service/notebooks/.venv/lib/python3.9/site-packages/pyparsing/core.py:1188\u001b[0m, in \u001b[0;36mParserElement.parse_string\u001b[0;34m(self, instring, parse_all, parseAll)\u001b[0m\n\u001b[1;32m   1186\u001b[0m     e\u001b[38;5;241m.\u001b[39mstreamline()\n\u001b[1;32m   1187\u001b[0m \u001b[38;5;28;01mif\u001b[39;00m \u001b[38;5;129;01mnot\u001b[39;00m \u001b[38;5;28mself\u001b[39m\u001b[38;5;241m.\u001b[39mkeepTabs:\n\u001b[0;32m-> 1188\u001b[0m     instring \u001b[38;5;241m=\u001b[39m \u001b[43minstring\u001b[49m\u001b[38;5;241;43m.\u001b[39;49m\u001b[43mexpandtabs\u001b[49m()\n\u001b[1;32m   1189\u001b[0m \u001b[38;5;28;01mtry\u001b[39;00m:\n\u001b[1;32m   1190\u001b[0m     loc, tokens \u001b[38;5;241m=\u001b[39m \u001b[38;5;28mself\u001b[39m\u001b[38;5;241m.\u001b[39m_parse(instring, \u001b[38;5;241m0\u001b[39m)\n",
      "\u001b[0;31mAttributeError\u001b[0m: 'Forward' object has no attribute 'expandtabs'"
     ]
    }
   ],
   "source": [
    "# Example usage\n",
    "expression = 'status: ANY (\"ACTIVE\", \"INACTIVE\") AND score: IN (10, 20) OR price >= 100'\n",
    "parsed_result = langchain_vector_store.parse_filter(expression)\n",
    "parsed_result"
   ]
  },
  {
   "cell_type": "code",
   "execution_count": null,
   "id": "fdb7cead-7a87-4f5c-8eca-06b6e29c0691",
   "metadata": {},
   "outputs": [],
   "source": [
    "test_filters = [\n",
    "    'category:ANY(\"News\", \"Sports\") AND score:IN(*, 90.5e)',\n",
    "    'NOT (category:ANY(\"Opinion\") OR score < 50)',\n",
    "    'score >= 80i AND - category:ANY(\"Politics\")'\n",
    "]\n",
    "\n",
    "for filter_str in test_filters:\n",
    "    result = langchain_vector_store.parse_filter(filter_str)\n",
    "    print(f\"Parsed filter: {result}\")"
   ]
  },
  {
   "cell_type": "code",
   "execution_count": null,
   "id": "af8752e6-05b4-42a3-b548-1d649db61eea",
   "metadata": {},
   "outputs": [],
   "source": []
  }
 ],
 "metadata": {
  "kernelspec": {
   "display_name": "Python 3 (ipykernel)",
   "language": "python",
   "name": "python3"
  },
  "language_info": {
   "codemirror_mode": {
    "name": "ipython",
    "version": 3
   },
   "file_extension": ".py",
   "mimetype": "text/x-python",
   "name": "python",
   "nbconvert_exporter": "python",
   "pygments_lexer": "ipython3",
   "version": "3.9.13"
  }
 },
 "nbformat": 4,
 "nbformat_minor": 5
}
