{
 "cells": [
  {
   "cell_type": "code",
   "execution_count": null,
   "id": "c85dd84b",
   "metadata": {},
   "outputs": [],
   "source": [
    "import tempfile\n",
    "import os\n",
    "\n",
    "PROJECT_ID = \"gcp-mira-develop\"\n",
    "REGION = \"us-central1\"\n",
    "os.environ[\"PROJECT_ID\"] = PROJECT_ID\n",
    "os.environ[\"OPENAI_API_KEY\"] = \"\"\n",
    "\n",
    "import sys\n",
    "sys.path.append(\"../../common/src\")\n",
    "sys.path.append(\"../src\")\n",
    "\n",
    "from google.cloud import storage\n",
    "\n",
    "from services.query.query_service import datasource_from_url\n",
    "from services.query.data_source import DataSource\n",
    "\n",
    "storage_client = storage.Client(project=PROJECT_ID)\n",
    "\n",
    "# get datasource class for doc_url\n",
    "doc_url = \"gs://\"\n",
    "data_source = datasource_from_url(doc_url, None, storage_client)\n",
    "\n",
    "docs_processed = []\n",
    "with tempfile.TemporaryDirectory() as temp_dir:\n",
    "  data_source_files = data_source.download_documents(doc_url, temp_dir)\n",
    "\n",
    "  # counter for unique index ids\n",
    "  index_base = 0\n",
    "\n",
    "  for data_source_file in data_source_files:\n",
    "    doc_name = data_source_file.doc_name\n",
    "    index_doc_url = data_source_file.src_url\n",
    "    doc_filepath = data_source_file.local_path\n",
    "\n",
    "    print(f\"processing [{doc_name}]\")\n",
    "\n",
    "    # text_chunks = data_source.chunk_document(doc_name,\n",
    "    #                                           index_doc_url,\n",
    "    #                                           doc_filepath)\n",
    "    # print (text_chunks)\n",
    "\n",
    "    slide_chunks = data_source.chunk_pdf_slides(doc_name, index_doc_url, doc_filepath)\n",
    "    for slide in slide_chunks:\n",
    "      print(slide[\"text_chunks\"])\n",
    "      print(slide[\"image_b64\"][:700])\n",
    "    \n",
    "    # cleanup temp local file\n",
    "    os.remove(doc_filepath)"
   ]
  }
 ],
 "metadata": {
  "kernelspec": {
   "display_name": "Python 3 (ipykernel)",
   "language": "python",
   "name": "python3"
  },
  "language_info": {
   "codemirror_mode": {
    "name": "ipython",
    "version": 3
   },
   "file_extension": ".py",
   "mimetype": "text/x-python",
   "name": "python",
   "nbconvert_exporter": "python",
   "pygments_lexer": "ipython3",
   "version": "3.9.18"
  }
 },
 "nbformat": 4,
 "nbformat_minor": 5
}
