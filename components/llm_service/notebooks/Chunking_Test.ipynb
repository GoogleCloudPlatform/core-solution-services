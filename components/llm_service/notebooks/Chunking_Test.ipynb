{
 "cells": [
  {
   "cell_type": "code",
   "execution_count": null,
   "id": "c85dd84b",
   "metadata": {},
   "outputs": [],
   "source": [
    "import tempfile\n",
    "import os\n",
    "import base64\n",
    "\n",
    "DOC_URL = \"gs://bucket/file.pdf\"\n",
    "PROJECT_ID = \"aidt-genie\"\n",
    "REGION = \"us-central1\"\n",
    "os.environ[\"PROJECT_ID\"] = PROJECT_ID\n",
    "os.environ[\"OPENAI_API_KEY\"] = \"asdf\"\n",
    "\n",
    "import sys\n",
    "sys.path.append(\"../../common/src\")\n",
    "sys.path.append(\"../src\")\n",
    "\n",
    "from google.cloud import storage\n",
    "\n",
    "from services.query.query_service import datasource_from_url\n",
    "from services.query.data_source import DataSource\n",
    "\n",
    "storage_client = storage.Client(project=PROJECT_ID)\n",
    "\n",
    "# get datasource class for DOC_URL\n",
    "data_source = datasource_from_url(DOC_URL, None, storage_client)\n"
   ]
  },
  {
   "cell_type": "code",
   "execution_count": null,
   "id": "ba5f471e",
   "metadata": {},
   "outputs": [],
   "source": [
    "\n",
    "docs_processed = []\n",
    "with tempfile.TemporaryDirectory() as temp_dir:\n",
    "  data_source_files = data_source.download_documents(DOC_URL, temp_dir)\n",
    "\n",
    "  # counter for unique index ids\n",
    "  index_base = 0\n",
    "\n",
    "  for data_source_file in data_source_files:\n",
    "    doc_name = data_source_file.doc_name\n",
    "    index_doc_url = data_source_file.src_url\n",
    "    doc_filepath = data_source_file.local_path\n",
    "\n",
    "    print(f\"PROCESSING [{doc_name}]\")\n",
    "    print(index_doc_url)\n",
    "    print(doc_filepath)\n",
    "    \n",
    "    slide_chunks = data_source.chunk_document_multi(doc_name, index_doc_url, doc_filepath)\n",
    "    for slide in slide_chunks:\n",
    "      print(f\"image_url: {slide['image_url']}\")\n",
    "      if slide[\"image_b64\"]:\n",
    "        print(f\"image_b64: {True}\")\n",
    "      if slide[\"text_chunks\"]:\n",
    "        print(f\"text_chunks: {True}\")\n",
    "      # image_bytes = base64.b64decode(slide[\"image_b64\"])\n",
    "      # with open(\"image.png\", \"wb\") as f:\n",
    "      #     f.write(image_bytes)\n",
    "    \n",
    "    # # cleanup temp local file\n",
    "    # os.remove(doc_filepath)"
   ]
  }
 ],
 "metadata": {
  "kernelspec": {
   "display_name": "Python 3 (ipykernel)",
   "language": "python",
   "name": "python3"
  },
  "language_info": {
   "codemirror_mode": {
    "name": "ipython",
    "version": 3
   },
   "file_extension": ".py",
   "mimetype": "text/x-python",
   "name": "python",
   "nbconvert_exporter": "python",
   "pygments_lexer": "ipython3",
   "version": "3.9.18"
  }
 },
 "nbformat": 4,
 "nbformat_minor": 5
}
