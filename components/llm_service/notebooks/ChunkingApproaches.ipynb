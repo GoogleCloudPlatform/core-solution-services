{
 "cells": [
  {
   "cell_type": "markdown",
   "metadata": {},
   "source": [
    "## LLama-Index"
   ]
  },
  {
   "cell_type": "code",
   "execution_count": null,
   "metadata": {},
   "outputs": [],
   "source": [
    "# !pip install llama-index"
   ]
  },
  {
   "cell_type": "code",
   "execution_count": 10,
   "metadata": {},
   "outputs": [],
   "source": [
    "from llama_index.core.node_parser import SentenceWindowNodeParser\n",
    "from llama_index.core.node_parser import SentenceSplitter"
   ]
  },
  {
   "cell_type": "code",
   "execution_count": 11,
   "metadata": {},
   "outputs": [],
   "source": [
    "# create the sentence window node parser w/ default settings\n",
    "node_parser = SentenceWindowNodeParser.from_defaults(\n",
    "    window_size=3,\n",
    "    include_metadata=True,\n",
    "    window_metadata_key=\"window\",\n",
    "    original_text_metadata_key=\"original_text\",\n",
    ")\n",
    "\n",
    "# base node parser is a sentence splitter\n",
    "text_splitter = SentenceSplitter()"
   ]
  },
  {
   "cell_type": "code",
   "execution_count": 12,
   "metadata": {},
   "outputs": [],
   "source": [
    "from llama_index.core import SimpleDirectoryReader\n",
    "\n",
    "documents = SimpleDirectoryReader(\n",
    "    input_dir=\"../../../../../data\"\n",
    ").load_data()\n"
   ]
  },
  {
   "cell_type": "code",
   "execution_count": 13,
   "metadata": {},
   "outputs": [
    {
     "name": "stdout",
     "output_type": "stream",
     "text": [
      "13\n"
     ]
    }
   ],
   "source": [
    "print(len(documents))"
   ]
  },
  {
   "cell_type": "code",
   "execution_count": null,
   "metadata": {},
   "outputs": [],
   "source": [
    "print(documents[0].metadata)"
   ]
  },
  {
   "cell_type": "code",
   "execution_count": 14,
   "metadata": {},
   "outputs": [
    {
     "name": "stdout",
     "output_type": "stream",
     "text": [
      "13\n",
      "328\n",
      "20\n"
     ]
    }
   ],
   "source": [
    "nodes = node_parser.get_nodes_from_documents(documents)\n",
    "base_nodes = text_splitter.get_nodes_from_documents(documents)\n",
    "print(len(documents))\n",
    "print(len(nodes))\n",
    "print(len(base_nodes))\n"
   ]
  },
  {
   "cell_type": "code",
   "execution_count": null,
   "metadata": {},
   "outputs": [],
   "source": [
    "nodes[0].metadata"
   ]
  },
  {
   "cell_type": "code",
   "execution_count": 15,
   "metadata": {},
   "outputs": [
    {
     "name": "stdout",
     "output_type": "stream",
     "text": [
      "-----------------------------------\n",
      "WINDOW\n",
      "PROJECT ARTEMIS/?\n",
      " f,S'23\n",
      "N91-18141\n",
      "MASSAC.HUSETrS INSTIT[YrE OFTECHNOLOGY\n",
      "Nearly 30yearsafterJohnEKennedy expressed hisdesire\n",
      "foranexpansion ofthespaceprogram oftheU.SA.,wehave\n",
      "beengivenanevengreater oplx)rtunity.  President George\n",
      "Bush,inJuly1989,expressed hisdesiretoonceagainexpand\n",
      "thespaceprogram oftheU.S.,aswellasthatofothernations\n",
      "around theworld.  Thechallenge: \"Toreturn mantotheMoon,\n",
      "thistimetostay.\n",
      "\n",
      "ORIGINAL\n",
      "PROJECT ARTEMIS/?\n",
      "\n",
      "-----------------------------------\n",
      "WINDOW\n",
      "PROJECT ARTEMIS/?\n",
      " f,S'23\n",
      "N91-18141\n",
      "MASSAC.HUSETrS INSTIT[YrE OFTECHNOLOGY\n",
      "Nearly 30yearsafterJohnEKennedy expressed hisdesire\n",
      "foranexpansion ofthespaceprogram oftheU.SA.,wehave\n",
      "beengivenanevengreater oplx)rtunity.  President George\n",
      "Bush,inJuly1989,expressed hisdesiretoonceagainexpand\n",
      "thespaceprogram oftheU.S.,aswellasthatofothernations\n",
      "around theworld.  Thechallenge: \"Toreturn mantotheMoon,\n",
      "thistimetostay. \"Andthen,tojourney toanother planet--\n",
      "amanned mission toMars. \n",
      "\n",
      "ORIGINAL\n",
      "f,S'23\n",
      "N91-18141\n",
      "MASSAC.HUSETrS INSTIT[YrE OFTECHNOLOGY\n",
      "Nearly 30yearsafterJohnEKennedy expressed hisdesire\n",
      "foranexpansion ofthespaceprogram oftheU.SA.,wehave\n",
      "beengivenanevengreater oplx)rtunity. \n",
      "-----------------------------------\n",
      "WINDOW\n",
      "PROJECT ARTEMIS/?\n",
      " f,S'23\n",
      "N91-18141\n",
      "MASSAC.HUSETrS INSTIT[YrE OFTECHNOLOGY\n",
      "Nearly 30yearsafterJohnEKennedy expressed hisdesire\n",
      "foranexpansion ofthespaceprogram oftheU.SA.,wehave\n",
      "beengivenanevengreater oplx)rtunity.  President George\n",
      "Bush,inJuly1989,expressed hisdesiretoonceagainexpand\n",
      "thespaceprogram oftheU.S.,aswellasthatofothernations\n",
      "around theworld.  Thechallenge: \"Toreturn mantotheMoon,\n",
      "thistimetostay. \"Andthen,tojourney toanother planet--\n",
      "amanned mission toMars.  Certainly, thechallenge is\n",
      "tremendous, andtheobstacles great.However, prepared to\n",
      "achieve thisincredible goalisProject Artemis, theproject that\n",
      "whencomplete willturnthedream ofpermanent manned\n",
      "presence inspaceintoreality.\n",
      "\n",
      "\n",
      "ORIGINAL\n",
      "President George\n",
      "Bush,inJuly1989,expressed hisdesiretoonceagainexpand\n",
      "thespaceprogram oftheU.S.,aswellasthatofothernations\n",
      "around theworld. \n",
      "-----------------------------------\n",
      "WINDOW\n",
      "PROJECT ARTEMIS/?\n",
      " f,S'23\n",
      "N91-18141\n",
      "MASSAC.HUSETrS INSTIT[YrE OFTECHNOLOGY\n",
      "Nearly 30yearsafterJohnEKennedy expressed hisdesire\n",
      "foranexpansion ofthespaceprogram oftheU.SA.,wehave\n",
      "beengivenanevengreater oplx)rtunity.  President George\n",
      "Bush,inJuly1989,expressed hisdesiretoonceagainexpand\n",
      "thespaceprogram oftheU.S.,aswellasthatofothernations\n",
      "around theworld.  Thechallenge: \"Toreturn mantotheMoon,\n",
      "thistimetostay. \"Andthen,tojourney toanother planet--\n",
      "amanned mission toMars.  Certainly, thechallenge is\n",
      "tremendous, andtheobstacles great.However, prepared to\n",
      "achieve thisincredible goalisProject Artemis, theproject that\n",
      "whencomplete willturnthedream ofpermanent manned\n",
      "presence inspaceintoreality.\n",
      " Whyisthischallenge, withallitscomplexity, worth\n",
      "pursuing? \n",
      "\n",
      "ORIGINAL\n",
      "Thechallenge: \"Toreturn mantotheMoon,\n",
      "thistimetostay.\n",
      "-----------------------------------\n",
      "WINDOW\n",
      "f,S'23\n",
      "N91-18141\n",
      "MASSAC.HUSETrS INSTIT[YrE OFTECHNOLOGY\n",
      "Nearly 30yearsafterJohnEKennedy expressed hisdesire\n",
      "foranexpansion ofthespaceprogram oftheU.SA.,wehave\n",
      "beengivenanevengreater oplx)rtunity.  President George\n",
      "Bush,inJuly1989,expressed hisdesiretoonceagainexpand\n",
      "thespaceprogram oftheU.S.,aswellasthatofothernations\n",
      "around theworld.  Thechallenge: \"Toreturn mantotheMoon,\n",
      "thistimetostay. \"Andthen,tojourney toanother planet--\n",
      "amanned mission toMars.  Certainly, thechallenge is\n",
      "tremendous, andtheobstacles great.However, prepared to\n",
      "achieve thisincredible goalisProject Artemis, theproject that\n",
      "whencomplete willturnthedream ofpermanent manned\n",
      "presence inspaceintoreality.\n",
      " Whyisthischallenge, withallitscomplexity, worth\n",
      "pursuing?  Thelistofreasons begins withthefactthatthe\n",
      "expansion ofhuman presence inspaceisanexciting and\n",
      "intriguing opportunity. \n",
      "\n",
      "ORIGINAL\n",
      "\"Andthen,tojourney toanother planet--\n",
      "amanned mission toMars. \n",
      "-----------------------------------\n",
      "WINDOW\n",
      "President George\n",
      "Bush,inJuly1989,expressed hisdesiretoonceagainexpand\n",
      "thespaceprogram oftheU.S.,aswellasthatofothernations\n",
      "around theworld.  Thechallenge: \"Toreturn mantotheMoon,\n",
      "thistimetostay. \"Andthen,tojourney toanother planet--\n",
      "amanned mission toMars.  Certainly, thechallenge is\n",
      "tremendous, andtheobstacles great.However, prepared to\n",
      "achieve thisincredible goalisProject Artemis, theproject that\n",
      "whencomplete willturnthedream ofpermanent manned\n",
      "presence inspaceintoreality.\n",
      " Whyisthischallenge, withallitscomplexity, worth\n",
      "pursuing?  Thelistofreasons begins withthefactthatthe\n",
      "expansion ofhuman presence inspaceisanexciting and\n",
      "intriguing opportunity.  Inaddition, theopportunities for\n",
      "scientific andtechnological advancement aregreat,asarethe\n",
      "opportunities toexplore andinvestigate ourcloser neighbors\n",
      "inoursolarsystem. \n",
      "\n",
      "ORIGINAL\n",
      "Certainly, thechallenge is\n",
      "tremendous, andtheobstacles great.However, prepared to\n",
      "achieve thisincredible goalisProject Artemis, theproject that\n",
      "whencomplete willturnthedream ofpermanent manned\n",
      "presence inspaceintoreality.\n",
      "\n",
      "-----------------------------------\n",
      "WINDOW\n",
      "Thechallenge: \"Toreturn mantotheMoon,\n",
      "thistimetostay. \"Andthen,tojourney toanother planet--\n",
      "amanned mission toMars.  Certainly, thechallenge is\n",
      "tremendous, andtheobstacles great.However, prepared to\n",
      "achieve thisincredible goalisProject Artemis, theproject that\n",
      "whencomplete willturnthedream ofpermanent manned\n",
      "presence inspaceintoreality.\n",
      " Whyisthischallenge, withallitscomplexity, worth\n",
      "pursuing?  Thelistofreasons begins withthefactthatthe\n",
      "expansion ofhuman presence inspaceisanexciting and\n",
      "intriguing opportunity.  Inaddition, theopportunities for\n",
      "scientific andtechnological advancement aregreat,asarethe\n",
      "opportunities toexplore andinvestigate ourcloser neighbors\n",
      "inoursolarsystem.  Theeducational benefits andthenew\n",
      "employment positions necessary tosupport suchanextensive\n",
      "andlong-term project areinnumerable. \n",
      "\n",
      "ORIGINAL\n",
      "Whyisthischallenge, withallitscomplexity, worth\n",
      "pursuing? \n",
      "-----------------------------------\n",
      "WINDOW\n",
      "\"Andthen,tojourney toanother planet--\n",
      "amanned mission toMars.  Certainly, thechallenge is\n",
      "tremendous, andtheobstacles great.However, prepared to\n",
      "achieve thisincredible goalisProject Artemis, theproject that\n",
      "whencomplete willturnthedream ofpermanent manned\n",
      "presence inspaceintoreality.\n",
      " Whyisthischallenge, withallitscomplexity, worth\n",
      "pursuing?  Thelistofreasons begins withthefactthatthe\n",
      "expansion ofhuman presence inspaceisanexciting and\n",
      "intriguing opportunity.  Inaddition, theopportunities for\n",
      "scientific andtechnological advancement aregreat,asarethe\n",
      "opportunities toexplore andinvestigate ourcloser neighbors\n",
      "inoursolarsystem.  Theeducational benefits andthenew\n",
      "employment positions necessary tosupport suchanextensive\n",
      "andlong-term project areinnumerable.  There isalsothe\n",
      "potential todevelop andutilize theresources ofthebodies\n",
      "thatweexplore, possibly resulting ineconomic benefits for\n",
      "thenation asawhole. \n",
      "\n",
      "ORIGINAL\n",
      "Thelistofreasons begins withthefactthatthe\n",
      "expansion ofhuman presence inspaceisanexciting and\n",
      "intriguing opportunity. \n",
      "-----------------------------------\n",
      "WINDOW\n",
      "Certainly, thechallenge is\n",
      "tremendous, andtheobstacles great.However, prepared to\n",
      "achieve thisincredible goalisProject Artemis, theproject that\n",
      "whencomplete willturnthedream ofpermanent manned\n",
      "presence inspaceintoreality.\n",
      " Whyisthischallenge, withallitscomplexity, worth\n",
      "pursuing?  Thelistofreasons begins withthefactthatthe\n",
      "expansion ofhuman presence inspaceisanexciting and\n",
      "intriguing opportunity.  Inaddition, theopportunities for\n",
      "scientific andtechnological advancement aregreat,asarethe\n",
      "opportunities toexplore andinvestigate ourcloser neighbors\n",
      "inoursolarsystem.  Theeducational benefits andthenew\n",
      "employment positions necessary tosupport suchanextensive\n",
      "andlong-term project areinnumerable.  There isalsothe\n",
      "potential todevelop andutilize theresources ofthebodies\n",
      "thatweexplore, possibly resulting ineconomic benefits for\n",
      "thenation asawhole.  Finally, asanation, wehavemuchto\n",
      "gaininsecurity andprideinbeingthefirstcountry toestablish\n",
      "permanent human presence onanother celestial body.Meeting\n",
      "thiswillresultinbenefits thattheU.SA.andtheworldwill\n",
      "enjoyformanyyearstocome.\n",
      "\n",
      "\n",
      "ORIGINAL\n",
      "Inaddition, theopportunities for\n",
      "scientific andtechnological advancement aregreat,asarethe\n",
      "opportunities toexplore andinvestigate ourcloser neighbors\n",
      "inoursolarsystem. \n",
      "-----------------------------------\n",
      "WINDOW\n",
      "Whyisthischallenge, withallitscomplexity, worth\n",
      "pursuing?  Thelistofreasons begins withthefactthatthe\n",
      "expansion ofhuman presence inspaceisanexciting and\n",
      "intriguing opportunity.  Inaddition, theopportunities for\n",
      "scientific andtechnological advancement aregreat,asarethe\n",
      "opportunities toexplore andinvestigate ourcloser neighbors\n",
      "inoursolarsystem.  Theeducational benefits andthenew\n",
      "employment positions necessary tosupport suchanextensive\n",
      "andlong-term project areinnumerable.  There isalsothe\n",
      "potential todevelop andutilize theresources ofthebodies\n",
      "thatweexplore, possibly resulting ineconomic benefits for\n",
      "thenation asawhole.  Finally, asanation, wehavemuchto\n",
      "gaininsecurity andprideinbeingthefirstcountry toestablish\n",
      "permanent human presence onanother celestial body.Meeting\n",
      "thiswillresultinbenefits thattheU.SA.andtheworldwill\n",
      "enjoyformanyyearstocome.\n",
      " ThegoalsofProject Artemis aredesigned tomeetthe\n",
      "challenge putforthbyPresident Bush:Thefirstgoalofthe\n",
      "project istoestablish apermanent manned baseontheMoon\n",
      "forthepurposes ofscientific research andtechnological\n",
      "development. \n",
      "\n",
      "ORIGINAL\n",
      "Theeducational benefits andthenew\n",
      "employment positions necessary tosupport suchanextensive\n",
      "andlong-term project areinnumerable. \n",
      "-----------------------------------\n",
      "WINDOW\n",
      "Thelistofreasons begins withthefactthatthe\n",
      "expansion ofhuman presence inspaceisanexciting and\n",
      "intriguing opportunity.  Inaddition, theopportunities for\n",
      "scientific andtechnological advancement aregreat,asarethe\n",
      "opportunities toexplore andinvestigate ourcloser neighbors\n",
      "inoursolarsystem.  Theeducational benefits andthenew\n",
      "employment positions necessary tosupport suchanextensive\n",
      "andlong-term project areinnumerable.  There isalsothe\n",
      "potential todevelop andutilize theresources ofthebodies\n",
      "thatweexplore, possibly resulting ineconomic benefits for\n",
      "thenation asawhole.  Finally, asanation, wehavemuchto\n",
      "gaininsecurity andprideinbeingthefirstcountry toestablish\n",
      "permanent human presence onanother celestial body.Meeting\n",
      "thiswillresultinbenefits thattheU.SA.andtheworldwill\n",
      "enjoyformanyyearstocome.\n",
      " ThegoalsofProject Artemis aredesigned tomeetthe\n",
      "challenge putforthbyPresident Bush:Thefirstgoalofthe\n",
      "project istoestablish apermanent manned baseontheMoon\n",
      "forthepurposes ofscientific research andtechnological\n",
      "development.  Theknowledge gained fromtheestablishment\n",
      "andoperations ofthelunarbasewillthenbeusedtoachieve\n",
      "thesecond goalofProject Artemis: establishment ofamanned\n",
      "baseonthemartian surface. \n",
      "\n",
      "ORIGINAL\n",
      "There isalsothe\n",
      "potential todevelop andutilize theresources ofthebodies\n",
      "thatweexplore, possibly resulting ineconomic benefits for\n",
      "thenation asawhole. \n"
     ]
    }
   ],
   "source": [
    "def pnode(node):\n",
    "    print(\"-----------------------------------\")\n",
    "    print(f\"WINDOW\\n{node.metadata['window']}\")\n",
    "    print(f\"\\nORIGINAL\\n{node.metadata['original_text']}\")\n",
    "\n",
    "for i, n in enumerate(nodes):\n",
    "    pnode(n)\n",
    "    if i == 10:\n",
    "        break"
   ]
  },
  {
   "cell_type": "code",
   "execution_count": null,
   "metadata": {},
   "outputs": [],
   "source": [
    "for i, n in enumerate(base_nodes):\n",
    "    print(\"-----------------------------------\")\n",
    "    print(n)"
   ]
  },
  {
   "cell_type": "markdown",
   "metadata": {},
   "source": [
    "## Lang Chain"
   ]
  },
  {
   "cell_type": "code",
   "execution_count": null,
   "metadata": {},
   "outputs": [],
   "source": [
    "# !pip install langchain-community\n",
    "# !pip install langchain-text-splitters"
   ]
  },
  {
   "cell_type": "code",
   "execution_count": null,
   "metadata": {},
   "outputs": [],
   "source": [
    "from langchain_community.document_loaders import PyPDFLoader\n"
   ]
  },
  {
   "cell_type": "code",
   "execution_count": null,
   "metadata": {},
   "outputs": [],
   "source": [
    "loader = PyPDFLoader(\"../../../../../data/Artemis_19910008828.pdf\")\n",
    "\n",
    "pages = loader.load()\n",
    "chunks = loader.load_and_split()\n",
    "\n",
    "print(len(pages))\n",
    "print(len(chunks))\n"
   ]
  },
  {
   "cell_type": "code",
   "execution_count": null,
   "metadata": {},
   "outputs": [],
   "source": [
    "for p in pages:\n",
    "    print('-----------------------')\n",
    "    print(p.page_content)"
   ]
  },
  {
   "cell_type": "code",
   "execution_count": null,
   "metadata": {},
   "outputs": [],
   "source": [
    "chunks[0]"
   ]
  },
  {
   "cell_type": "markdown",
   "metadata": {},
   "source": [
    "## Testing"
   ]
  },
  {
   "cell_type": "code",
   "execution_count": 1,
   "metadata": {},
   "outputs": [
    {
     "name": "stdout",
     "output_type": "stream",
     "text": [
      "['c:\\\\Users\\\\trishjam\\\\Documents\\\\trishjam\\\\projects\\\\05-nasa\\\\code\\\\core-solution-services2\\\\components\\\\llm_service\\\\notebooks', 'C:\\\\Users\\\\trishjam\\\\AppData\\\\Local\\\\Programs\\\\Python\\\\Python311\\\\python311.zip', 'C:\\\\Users\\\\trishjam\\\\AppData\\\\Local\\\\Programs\\\\Python\\\\Python311\\\\DLLs', 'C:\\\\Users\\\\trishjam\\\\AppData\\\\Local\\\\Programs\\\\Python\\\\Python311\\\\Lib', 'C:\\\\Users\\\\trishjam\\\\AppData\\\\Local\\\\Programs\\\\Python\\\\Python311', 'c:\\\\Users\\\\trishjam\\\\Documents\\\\trishjam\\\\projects\\\\05-nasa\\\\code\\\\core-solution-services2\\\\components\\\\llm_service\\\\.venv_llm3', '', 'c:\\\\Users\\\\trishjam\\\\Documents\\\\trishjam\\\\projects\\\\05-nasa\\\\code\\\\core-solution-services2\\\\components\\\\llm_service\\\\.venv_llm3\\\\Lib\\\\site-packages', 'c:\\\\Users\\\\trishjam\\\\Documents\\\\trishjam\\\\projects\\\\05-nasa\\\\code\\\\core-solution-services2\\\\components\\\\llm_service\\\\.venv_llm3\\\\Lib\\\\site-packages\\\\win32', 'c:\\\\Users\\\\trishjam\\\\Documents\\\\trishjam\\\\projects\\\\05-nasa\\\\code\\\\core-solution-services2\\\\components\\\\llm_service\\\\.venv_llm3\\\\Lib\\\\site-packages\\\\win32\\\\lib', 'c:\\\\Users\\\\trishjam\\\\Documents\\\\trishjam\\\\projects\\\\05-nasa\\\\code\\\\core-solution-services2\\\\components\\\\llm_service\\\\.venv_llm3\\\\Lib\\\\site-packages\\\\Pythonwin', '../../common/src', '../src']\n"
     ]
    }
   ],
   "source": [
    "import sys\n",
    "sys.path.append(\"../../common/src\")\n",
    "sys.path.append(\"../src\")\n",
    "print(sys.path)"
   ]
  },
  {
   "cell_type": "code",
   "execution_count": 2,
   "metadata": {},
   "outputs": [],
   "source": [
    "import os\n",
    "from google.cloud import storage\n",
    "\n",
    "PROJECT_ID = \"nasa-genie-dev\"\n",
    "REGION = \"us-central1\"\n",
    "os.environ[\"PROJECT_ID\"] = PROJECT_ID\n",
    "\n",
    "storage_client = storage.Client(project=PROJECT_ID)"
   ]
  },
  {
   "cell_type": "code",
   "execution_count": 3,
   "metadata": {},
   "outputs": [
    {
     "name": "stdout",
     "output_type": "stream",
     "text": [
      "INFO: [config/config.py:57 - <module>()] Namespace File not found, setting job namespace as default\n"
     ]
    },
    {
     "name": "stderr",
     "output_type": "stream",
     "text": [
      "c:\\Users\\trishjam\\Documents\\trishjam\\projects\\05-nasa\\code\\core-solution-services2\\components\\llm_service\\.venv_llm3\\Lib\\site-packages\\langchain_community\\llms\\__init__.py:166: LangChainDeprecationWarning: `` was deprecated in LangChain 0.0.22 and will be removed in 0.2. An updated version of the  exists in the langchain-community package and should be used instead. To use it run `pip install -U langchain-community` and import as `from langchain_community.chat_models import ChatDatabricks`.\n",
      "  warn_deprecated(\n",
      "c:\\Users\\trishjam\\Documents\\trishjam\\projects\\05-nasa\\code\\core-solution-services2\\components\\llm_service\\.venv_llm3\\Lib\\site-packages\\langchain_community\\llms\\__init__.py:329: LangChainDeprecationWarning: `` was deprecated in LangChain 0.0.22 and will be removed in 0.2. An updated version of the  exists in the langchain-community package and should be used instead. To use it run `pip install -U langchain-community` and import as `from langchain_community.chat_models import ChatMlflow`.\n",
      "  warn_deprecated(\n",
      "c:\\Users\\trishjam\\Documents\\trishjam\\projects\\05-nasa\\code\\core-solution-services2\\components\\llm_service\\.venv_llm3\\Lib\\site-packages\\langchain_community\\llms\\__init__.py:166: LangChainDeprecationWarning: `` was deprecated in LangChain 0.0.22 and will be removed in 0.2. An updated version of the  exists in the langchain-community package and should be used instead. To use it run `pip install -U langchain-community` and import as `from langchain_community.chat_models import ChatDatabricks`.\n",
      "  warn_deprecated(\n",
      "c:\\Users\\trishjam\\Documents\\trishjam\\projects\\05-nasa\\code\\core-solution-services2\\components\\llm_service\\.venv_llm3\\Lib\\site-packages\\langchain_community\\llms\\__init__.py:329: LangChainDeprecationWarning: `` was deprecated in LangChain 0.0.22 and will be removed in 0.2. An updated version of the  exists in the langchain-community package and should be used instead. To use it run `pip install -U langchain-community` and import as `from langchain_community.chat_models import ChatMlflow`.\n",
      "  warn_deprecated(\n",
      "c:\\Users\\trishjam\\Documents\\trishjam\\projects\\05-nasa\\code\\core-solution-services2\\components\\llm_service\\.venv_llm3\\Lib\\site-packages\\langchain_community\\llms\\__init__.py:166: LangChainDeprecationWarning: `` was deprecated in LangChain 0.0.22 and will be removed in 0.2. An updated version of the  exists in the langchain-community package and should be used instead. To use it run `pip install -U langchain-community` and import as `from langchain_community.chat_models import ChatDatabricks`.\n",
      "  warn_deprecated(\n",
      "c:\\Users\\trishjam\\Documents\\trishjam\\projects\\05-nasa\\code\\core-solution-services2\\components\\llm_service\\.venv_llm3\\Lib\\site-packages\\langchain_community\\llms\\__init__.py:329: LangChainDeprecationWarning: `` was deprecated in LangChain 0.0.22 and will be removed in 0.2. An updated version of the  exists in the langchain-community package and should be used instead. To use it run `pip install -U langchain-community` and import as `from langchain_community.chat_models import ChatMlflow`.\n",
      "  warn_deprecated(\n",
      "c:\\Users\\trishjam\\Documents\\trishjam\\projects\\05-nasa\\code\\core-solution-services2\\components\\llm_service\\.venv_llm3\\Lib\\site-packages\\langchain_community\\llms\\__init__.py:166: LangChainDeprecationWarning: `` was deprecated in LangChain 0.0.22 and will be removed in 0.2. An updated version of the  exists in the langchain-community package and should be used instead. To use it run `pip install -U langchain-community` and import as `from langchain_community.chat_models import ChatDatabricks`.\n",
      "  warn_deprecated(\n",
      "c:\\Users\\trishjam\\Documents\\trishjam\\projects\\05-nasa\\code\\core-solution-services2\\components\\llm_service\\.venv_llm3\\Lib\\site-packages\\langchain_community\\llms\\__init__.py:329: LangChainDeprecationWarning: `` was deprecated in LangChain 0.0.22 and will be removed in 0.2. An updated version of the  exists in the langchain-community package and should be used instead. To use it run `pip install -U langchain-community` and import as `from langchain_community.chat_models import ChatMlflow`.\n",
      "  warn_deprecated(\n",
      "c:\\Users\\trishjam\\Documents\\trishjam\\projects\\05-nasa\\code\\core-solution-services2\\components\\llm_service\\.venv_llm3\\Lib\\site-packages\\langchain_community\\llms\\__init__.py:166: LangChainDeprecationWarning: `` was deprecated in LangChain 0.0.22 and will be removed in 0.2. An updated version of the  exists in the langchain-community package and should be used instead. To use it run `pip install -U langchain-community` and import as `from langchain_community.chat_models import ChatDatabricks`.\n",
      "  warn_deprecated(\n",
      "c:\\Users\\trishjam\\Documents\\trishjam\\projects\\05-nasa\\code\\core-solution-services2\\components\\llm_service\\.venv_llm3\\Lib\\site-packages\\langchain_community\\llms\\__init__.py:329: LangChainDeprecationWarning: `` was deprecated in LangChain 0.0.22 and will be removed in 0.2. An updated version of the  exists in the langchain-community package and should be used instead. To use it run `pip install -U langchain-community` and import as `from langchain_community.chat_models import ChatMlflow`.\n",
      "  warn_deprecated(\n",
      "c:\\Users\\trishjam\\Documents\\trishjam\\projects\\05-nasa\\code\\core-solution-services2\\components\\llm_service\\.venv_llm3\\Lib\\site-packages\\langchain_community\\llms\\__init__.py:166: LangChainDeprecationWarning: `` was deprecated in LangChain 0.0.22 and will be removed in 0.2. An updated version of the  exists in the langchain-community package and should be used instead. To use it run `pip install -U langchain-community` and import as `from langchain_community.chat_models import ChatDatabricks`.\n",
      "  warn_deprecated(\n",
      "c:\\Users\\trishjam\\Documents\\trishjam\\projects\\05-nasa\\code\\core-solution-services2\\components\\llm_service\\.venv_llm3\\Lib\\site-packages\\langchain_community\\llms\\__init__.py:329: LangChainDeprecationWarning: `` was deprecated in LangChain 0.0.22 and will be removed in 0.2. An updated version of the  exists in the langchain-community package and should be used instead. To use it run `pip install -U langchain-community` and import as `from langchain_community.chat_models import ChatMlflow`.\n",
      "  warn_deprecated(\n"
     ]
    },
    {
     "name": "stdout",
     "output_type": "stream",
     "text": [
      "ERROR: [config/model_config.py:591 - instantiate_model_class()] Cannot load langchain model class ChatCohere\n",
      "WARNING: [config/model_config.py:341 - set_model_config()] Disabling model Cohere\n"
     ]
    },
    {
     "name": "stderr",
     "output_type": "stream",
     "text": [
      "c:\\Users\\trishjam\\Documents\\trishjam\\projects\\05-nasa\\code\\core-solution-services2\\components\\llm_service\\.venv_llm3\\Lib\\site-packages\\langchain_community\\llms\\__init__.py:166: LangChainDeprecationWarning: `` was deprecated in LangChain 0.0.22 and will be removed in 0.2. An updated version of the  exists in the langchain-community package and should be used instead. To use it run `pip install -U langchain-community` and import as `from langchain_community.chat_models import ChatDatabricks`.\n",
      "  warn_deprecated(\n",
      "c:\\Users\\trishjam\\Documents\\trishjam\\projects\\05-nasa\\code\\core-solution-services2\\components\\llm_service\\.venv_llm3\\Lib\\site-packages\\langchain_community\\llms\\__init__.py:329: LangChainDeprecationWarning: `` was deprecated in LangChain 0.0.22 and will be removed in 0.2. An updated version of the  exists in the langchain-community package and should be used instead. To use it run `pip install -U langchain-community` and import as `from langchain_community.chat_models import ChatMlflow`.\n",
      "  warn_deprecated(\n",
      "c:\\Users\\trishjam\\Documents\\trishjam\\projects\\05-nasa\\code\\core-solution-services2\\components\\llm_service\\.venv_llm3\\Lib\\site-packages\\tqdm\\auto.py:21: TqdmWarning: IProgress not found. Please update jupyter and ipywidgets. See https://ipywidgets.readthedocs.io/en/stable/user_install.html\n",
      "  from .autonotebook import tqdm as notebook_tqdm\n"
     ]
    },
    {
     "name": "stdout",
     "output_type": "stream",
     "text": [
      "INFO: [config/config.py:107 - <module>()] ENABLE_GOOGLE_LLM = True\n",
      "INFO: [config/config.py:108 - <module>()] ENABLE_OPENAI_LLM = True\n",
      "INFO: [config/config.py:109 - <module>()] ENABLE_COHERE_LLM = True\n",
      "INFO: [config/config.py:110 - <module>()] ENABLE_GOOGLE_MODEL_GARDEN = True\n",
      "INFO: [config/config.py:111 - <module>()] ENABLE_TRUSS_LLAMA2 = True\n",
      "INFO: [config/vector_store_config.py:40 - <module>()] Default vector store = [matching_engine]\n",
      "INFO: [config/vector_store_config.py:49 - <module>()] PG_HOST = [127.0.0.1]\n",
      "INFO: [config/vector_store_config.py:50 - <module>()] PG_DBNAME = [pgvector]\n",
      "ERROR: [config/vector_store_config.py:77 - <module>()] Cannot connect to pgvector instance at 127.0.0.1: (psycopg2.OperationalError) connection to server at \"127.0.0.1\", port 5432 failed: Connection refused (0x0000274D/10061)\n",
      "\tIs the server running on that host and accepting TCP/IP connections?\n",
      "\n",
      "(Background on this error at: https://sqlalche.me/e/20/e3q8)\n",
      "INFO: [config/onedrive_config.py:30 - <module>()] ONEDRIVE_CLIENT_ID = [None]\n",
      "INFO: [config/onedrive_config.py:31 - <module>()] ONEDRIVE_TENANT_ID = [None]\n",
      "INFO: [utils/text_helper.py:43 - <module>()] using default spacy model\n"
     ]
    }
   ],
   "source": [
    "from services.query import data_source"
   ]
  },
  {
   "cell_type": "code",
   "execution_count": 4,
   "metadata": {},
   "outputs": [],
   "source": [
    "ds = data_source.DataSource(storage_client)"
   ]
  },
  {
   "cell_type": "code",
   "execution_count": 7,
   "metadata": {},
   "outputs": [
    {
     "name": "stdout",
     "output_type": "stream",
     "text": [
      "INFO: [query/data_source.py:124 - chunk_document()] generating index data for test-html.html\n"
     ]
    }
   ],
   "source": [
    "# doc_name = \"Artemis_19910008828.pdf\"\n",
    "doc_name = \"test-html.html\"\n",
    "doc_path = \"../../../../../data/\"\n",
    "\n",
    "text_chunks = ds.chunk_document(\n",
    "    doc_name,\n",
    "    \"remote path\",\n",
    "    doc_path + doc_name\n",
    ")"
   ]
  },
  {
   "cell_type": "code",
   "execution_count": 8,
   "metadata": {},
   "outputs": [
    {
     "name": "stdout",
     "output_type": "stream",
     "text": [
      "<!DOCTYPE html><html lang=\"en-us\">  <link rel=\"stylesheet\" type=\"text/css\" href=\"/css/cookieconsent.min.css\" /><script src=\"/js/cookieconsent.min.js\"></script><script>window.addEventListener(\"load\", function(){window.cookieconsent.initialise({  \"palette\": {    \"popup\": {      \"background\": \"#edeff5\",      \"text\": \"#838391\"    },    \"button\": {      \"background\": \"#939393\",      \"text\": \"#ffffff\"    }  },  \"theme\": \"edgeless\",  \"content\": {    \"href\": \"/privacy-policy/\"  }})});</script><head>  <link href=\"http://gmpg.org/xfn/11\" rel=\"profile\">  <meta http-equiv=\"X-UA-Compatible\" content=\"IE=edge\">  <meta http-equiv=\"content-type\" content=\"text/html; charset=utf-8\">  <script src=\"https://cdn.mathjax.org/mathjax/latest/MathJax.js?config=TeX-AMS-MML_HTMLorMML\" type=\"text/javascript\"></script>  <!-- Enable responsiveness on mobile devices-->  <meta name=\"viewport\" content=\"width=device-width, initial-scale=1.0, maximum-scale=1\">  <!-- Begin Jekyll SEO tag v2.8.0 --><meta name=\"generator\" content=\"Jekyll v4.3.1\" /><meta property=\"og:title\" content=\"Using Virtual Environments in Jupyter Notebook and Python\" /><meta name=\"author\" content=\"Nikolai Janakiev\" /><meta property=\"og:locale\" content=\"en_US\" /><meta name=\"description\" content=\"Are you working with Jupyter Notebook and Python?  Do you also want to benefit from virtual environments?  In this tutorial you will see how to do just that with Anaconda or Virtualenv/venv.\" \n",
      "1440 119\n",
      "<!DOCTYPE html><html lang=\"en-us\">  <link rel=\"stylesheet\" type=\"text/css\" href=\"/css/cookieconsent.min.css\" /><script src=\"/js/cookieconsent.min.js\"></script><script>window.addEventListener(\"load\", function(){window.cookieconsent.initialise({  \"palette\": {    \"popup\": {      \"background\": \"#edeff5\",      \"text\": \"#838391\"    },    \"button\": {      \"background\": \"#939393\",      \"text\": \"#ffffff\"    }  },  \"theme\": \"edgeless\",  \"content\": {    \"href\": \"/privacy-policy/\"  }})});</script><head>  <link href=\"http://gmpg.org/xfn/11\" rel=\"profile\">  <meta http-equiv=\"X-UA-Compatible\" content=\"IE=edge\">  <meta http-equiv=\"content-type\" content=\"text/html; charset=utf-8\">  <script src=\"https://cdn.mathjax.org/mathjax/latest/MathJax.js?config=TeX-AMS-MML_HTMLorMML\" type=\"text/javascript\"></script>  <!-- Enable responsiveness on mobile devices-->  <meta name=\"viewport\" content=\"width=device-width, initial-scale=1.0, maximum-scale=1\">  <!-- Begin Jekyll SEO tag v2.8.0 --><meta name=\"generator\" content=\"Jekyll v4.3.1\" /><meta property=\"og:title\" content=\"Using Virtual Environments in Jupyter Notebook and Python\" /><meta name=\"author\" content=\"Nikolai Janakiev\" /><meta property=\"og:locale\" content=\"en_US\" /><meta name=\"description\" content=\"Are you working with Jupyter Notebook and Python?  Do you also want to benefit from virtual environments?  In this tutorial you will see how to do just that with Anaconda or Virtualenv/venv.\"  /><meta property=\"og:description\" content=\"Are you working with Jupyter Notebook and Python? \n",
      "1534 129\n",
      "<!DOCTYPE html><html lang=\"en-us\">  <link rel=\"stylesheet\" type=\"text/css\" href=\"/css/cookieconsent.min.css\" /><script src=\"/js/cookieconsent.min.js\"></script><script>window.addEventListener(\"load\", function(){window.cookieconsent.initialise({  \"palette\": {    \"popup\": {      \"background\": \"#edeff5\",      \"text\": \"#838391\"    },    \"button\": {      \"background\": \"#939393\",      \"text\": \"#ffffff\"    }  },  \"theme\": \"edgeless\",  \"content\": {    \"href\": \"/privacy-policy/\"  }})});</script><head>  <link href=\"http://gmpg.org/xfn/11\" rel=\"profile\">  <meta http-equiv=\"X-UA-Compatible\" content=\"IE=edge\">  <meta http-equiv=\"content-type\" content=\"text/html; charset=utf-8\">  <script src=\"https://cdn.mathjax.org/mathjax/latest/MathJax.js?config=TeX-AMS-MML_HTMLorMML\" type=\"text/javascript\"></script>  <!-- Enable responsiveness on mobile devices-->  <meta name=\"viewport\" content=\"width=device-width, initial-scale=1.0, maximum-scale=1\">  <!-- Begin Jekyll SEO tag v2.8.0 --><meta name=\"generator\" content=\"Jekyll v4.3.1\" /><meta property=\"og:title\" content=\"Using Virtual Environments in Jupyter Notebook and Python\" /><meta name=\"author\" content=\"Nikolai Janakiev\" /><meta property=\"og:locale\" content=\"en_US\" /><meta name=\"description\" content=\"Are you working with Jupyter Notebook and Python?  Do you also want to benefit from virtual environments?  In this tutorial you will see how to do just that with Anaconda or Virtualenv/venv.\"  /><meta property=\"og:description\" content=\"Are you working with Jupyter Notebook and Python?  Do you also want to benefit from virtual environments? \n",
      "1590 138\n",
      "Do you also want to benefit from virtual environments?  In this tutorial you will see how to do just that with Anaconda or Virtualenv/venv.\"  /><meta property=\"og:description\" content=\"Are you working with Jupyter Notebook and Python?  Do you also want to benefit from virtual environments?  In this tutorial you will see how to do just that with Anaconda or Virtualenv/venv.\" \n",
      "377 58\n",
      "In this tutorial you will see how to do just that with Anaconda or Virtualenv/venv.\"  /><meta property=\"og:description\" content=\"Are you working with Jupyter Notebook and Python?  Do you also want to benefit from virtual environments?  In this tutorial you will see how to do just that with Anaconda or Virtualenv/venv.\"  /><link rel=\"canonical\" href=\"https://janakiev.com/blog/jupyter-virtual-envs/\" /><meta property=\"og:url\" content=\"https://janakiev.com/blog/jupyter-virtual-envs/\" /><meta property=\"og:site_name\" content=\"njanakiev\" /><meta property=\"og:image\" content=\"https://janakiev.com/assets/jupyter-virtual-envs_files/LabTest_CHK300J_05-11_037.jpg\" /><meta property=\"og:type\" content=\"article\" /><meta property=\"article:published_time\" content=\"2019-02-02T00:00:00-06:00\" /><meta name=\"twitter:card\" content=\"summary_large_image\" /><meta property=\"twitter:image\" content=\"https://janakiev.com/assets/jupyter-virtual-envs_files/LabTest_CHK300J_05-11_037.jpg\" /><meta property=\"twitter:title\" content=\"Using Virtual Environments in Jupyter Notebook and Python\" /><meta name=\"twitter:site\" content=\"@njanakiev\" /><meta name=\"twitter:creator\" content=\"@njanakiev\" /><script type=\"application/ld+json\">{\"@context\":\"https://schema.org\",\"@type\":\"BlogPosting\",\"author\":{\"@type\":\"Person\",\"name\":\"Nikolai Janakiev\",\"url\":\"https://janakiev.com\"},\"dateModified\":\"2021-03-27T00:00:00-05:00\",\"datePublished\":\"2019-02-02T00:00:00-06:00\",\"description\":\"Are you working with Jupyter Notebook and Python? \n",
      "1498 99\n",
      "/><meta property=\"og:description\" content=\"Are you working with Jupyter Notebook and Python?  Do you also want to benefit from virtual environments?  In this tutorial you will see how to do just that with Anaconda or Virtualenv/venv.\"  /><link rel=\"canonical\" href=\"https://janakiev.com/blog/jupyter-virtual-envs/\" /><meta property=\"og:url\" content=\"https://janakiev.com/blog/jupyter-virtual-envs/\" /><meta property=\"og:site_name\" content=\"njanakiev\" /><meta property=\"og:image\" content=\"https://janakiev.com/assets/jupyter-virtual-envs_files/LabTest_CHK300J_05-11_037.jpg\" /><meta property=\"og:type\" content=\"article\" /><meta property=\"article:published_time\" content=\"2019-02-02T00:00:00-06:00\" /><meta name=\"twitter:card\" content=\"summary_large_image\" /><meta property=\"twitter:image\" content=\"https://janakiev.com/assets/jupyter-virtual-envs_files/LabTest_CHK300J_05-11_037.jpg\" /><meta property=\"twitter:title\" content=\"Using Virtual Environments in Jupyter Notebook and Python\" /><meta name=\"twitter:site\" content=\"@njanakiev\" /><meta name=\"twitter:creator\" content=\"@njanakiev\" /><script type=\"application/ld+json\">{\"@context\":\"https://schema.org\",\"@type\":\"BlogPosting\",\"author\":{\"@type\":\"Person\",\"name\":\"Nikolai Janakiev\",\"url\":\"https://janakiev.com\"},\"dateModified\":\"2021-03-27T00:00:00-05:00\",\"datePublished\":\"2019-02-02T00:00:00-06:00\",\"description\":\"Are you working with Jupyter Notebook and Python?  Do you also want to benefit from virtual environments? \n",
      "1468 93\n",
      "Do you also want to benefit from virtual environments?  In this tutorial you will see how to do just that with Anaconda or Virtualenv/venv.\"  /><link rel=\"canonical\" href=\"https://janakiev.com/blog/jupyter-virtual-envs/\" /><meta property=\"og:url\" content=\"https://janakiev.com/blog/jupyter-virtual-envs/\" /><meta property=\"og:site_name\" content=\"njanakiev\" /><meta property=\"og:image\" content=\"https://janakiev.com/assets/jupyter-virtual-envs_files/LabTest_CHK300J_05-11_037.jpg\" /><meta property=\"og:type\" content=\"article\" /><meta property=\"article:published_time\" content=\"2019-02-02T00:00:00-06:00\" /><meta name=\"twitter:card\" content=\"summary_large_image\" /><meta property=\"twitter:image\" content=\"https://janakiev.com/assets/jupyter-virtual-envs_files/LabTest_CHK300J_05-11_037.jpg\" /><meta property=\"twitter:title\" content=\"Using Virtual Environments in Jupyter Notebook and Python\" /><meta name=\"twitter:site\" content=\"@njanakiev\" /><meta name=\"twitter:creator\" content=\"@njanakiev\" /><script type=\"application/ld+json\">{\"@context\":\"https://schema.org\",\"@type\":\"BlogPosting\",\"author\":{\"@type\":\"Person\",\"name\":\"Nikolai Janakiev\",\"url\":\"https://janakiev.com\"},\"dateModified\":\"2021-03-27T00:00:00-05:00\",\"datePublished\":\"2019-02-02T00:00:00-06:00\",\"description\":\"Are you working with Jupyter Notebook and Python?  Do you also want to benefit from virtual environments?  In this tutorial you will see how to do just that with Anaconda or Virtualenv/venv.\n",
      "1458 98\n",
      "In this tutorial you will see how to do just that with Anaconda or Virtualenv/venv.\"  /><link rel=\"canonical\" href=\"https://janakiev.com/blog/jupyter-virtual-envs/\" /><meta property=\"og:url\" content=\"https://janakiev.com/blog/jupyter-virtual-envs/\" /><meta property=\"og:site_name\" content=\"njanakiev\" /><meta property=\"og:image\" content=\"https://janakiev.com/assets/jupyter-virtual-envs_files/LabTest_CHK300J_05-11_037.jpg\" /><meta property=\"og:type\" content=\"article\" /><meta property=\"article:published_time\" content=\"2019-02-02T00:00:00-06:00\" /><meta name=\"twitter:card\" content=\"summary_large_image\" /><meta property=\"twitter:image\" content=\"https://janakiev.com/assets/jupyter-virtual-envs_files/LabTest_CHK300J_05-11_037.jpg\" /><meta property=\"twitter:title\" content=\"Using Virtual Environments in Jupyter Notebook and Python\" /><meta name=\"twitter:site\" content=\"@njanakiev\" /><meta name=\"twitter:creator\" content=\"@njanakiev\" /><script type=\"application/ld+json\">{\"@context\":\"https://schema.org\",\"@type\":\"BlogPosting\",\"author\":{\"@type\":\"Person\",\"name\":\"Nikolai Janakiev\",\"url\":\"https://janakiev.com\"},\"dateModified\":\"2021-03-27T00:00:00-05:00\",\"datePublished\":\"2019-02-02T00:00:00-06:00\",\"description\":\"Are you working with Jupyter Notebook and Python?  Do you also want to benefit from virtual environments?  In this tutorial you will see how to do just that with Anaconda or Virtualenv/venv. \",\"headline\":\"Using Virtual Environments in Jupyter Notebook and Python\",\"image\":\"https://janakiev.com/assets/jupyter-virtual-envs_files/LabTest_CHK300J_05-11_037.jpg\",\"mainEntityOfPage\":{\"@type\":\"WebPage\",\"@id\":\"https://janakiev.com/blog/jupyter-virtual-envs/\"},\"url\":\"https://janakiev.com/blog/jupyter-virtual-envs/\"}</script><!-- End Jekyll SEO tag -->  <title>          Using Virtual Environments in Jupyter Notebook and Python - njanakiev      </title>  <!-- CSS -->  <link rel=\"stylesheet\" href=\"/css/poole.css\">  <link rel=\"stylesheet\" href=\"/css/syntax.css\">  <link rel=\"stylesheet\" href=\"/css/lanyon.css\">  <link rel=\"stylesheet\" href=\"/css/style.css\">  <link rel=\"icon\" href=\"/assets/favicon.ico\">  <link type=\"application/atom+xml\" rel=\"alternate\" href=\"https://janakiev.com/feed.xml\" title=\"njanakiev\" />    <script>    (function(i,s,o,g,r,a,m){i['GoogleAnalyticsObject']=r;i[r]=i[r]||function(){    (i[r].q=i[r].q||[]).push(arguments)},i[r].l=1*new Date();a=s.createElement(o),    m=s.getElementsByTagName(o)[0];a.async=1;a.src=g;m.parentNode.insertBefore(a,m)    })(window,document,'script','https://www.google-analytics.com/analytics.js','ga');    ga('create', 'UA-91241801-1', 'auto');    ga('set', 'anonymizeIp', true);    ga('send', 'pageview');  </script>    <!-- <script async src=\"https://media.ethicalads.io/media/client/ethicalads.min.js\"></script> --></head>  <body class=\"theme-base-10\">    <!-- Target for toggling the sidebar `.sidebar-checkbox` is for regular     styles, `#sidebar-checkbox` for behavior. \n",
      "2937 174\n",
      "/><link rel=\"canonical\" href=\"https://janakiev.com/blog/jupyter-virtual-envs/\" /><meta property=\"og:url\" content=\"https://janakiev.com/blog/jupyter-virtual-envs/\" /><meta property=\"og:site_name\" content=\"njanakiev\" /><meta property=\"og:image\" content=\"https://janakiev.com/assets/jupyter-virtual-envs_files/LabTest_CHK300J_05-11_037.jpg\" /><meta property=\"og:type\" content=\"article\" /><meta property=\"article:published_time\" content=\"2019-02-02T00:00:00-06:00\" /><meta name=\"twitter:card\" content=\"summary_large_image\" /><meta property=\"twitter:image\" content=\"https://janakiev.com/assets/jupyter-virtual-envs_files/LabTest_CHK300J_05-11_037.jpg\" /><meta property=\"twitter:title\" content=\"Using Virtual Environments in Jupyter Notebook and Python\" /><meta name=\"twitter:site\" content=\"@njanakiev\" /><meta name=\"twitter:creator\" content=\"@njanakiev\" /><script type=\"application/ld+json\">{\"@context\":\"https://schema.org\",\"@type\":\"BlogPosting\",\"author\":{\"@type\":\"Person\",\"name\":\"Nikolai Janakiev\",\"url\":\"https://janakiev.com\"},\"dateModified\":\"2021-03-27T00:00:00-05:00\",\"datePublished\":\"2019-02-02T00:00:00-06:00\",\"description\":\"Are you working with Jupyter Notebook and Python?  Do you also want to benefit from virtual environments?  In this tutorial you will see how to do just that with Anaconda or Virtualenv/venv. \",\"headline\":\"Using Virtual Environments in Jupyter Notebook and Python\",\"image\":\"https://janakiev.com/assets/jupyter-virtual-envs_files/LabTest_CHK300J_05-11_037.jpg\",\"mainEntityOfPage\":{\"@type\":\"WebPage\",\"@id\":\"https://janakiev.com/blog/jupyter-virtual-envs/\"},\"url\":\"https://janakiev.com/blog/jupyter-virtual-envs/\"}</script><!-- End Jekyll SEO tag -->  <title>          Using Virtual Environments in Jupyter Notebook and Python - njanakiev      </title>  <!-- CSS -->  <link rel=\"stylesheet\" href=\"/css/poole.css\">  <link rel=\"stylesheet\" href=\"/css/syntax.css\">  <link rel=\"stylesheet\" href=\"/css/lanyon.css\">  <link rel=\"stylesheet\" href=\"/css/style.css\">  <link rel=\"icon\" href=\"/assets/favicon.ico\">  <link type=\"application/atom+xml\" rel=\"alternate\" href=\"https://janakiev.com/feed.xml\" title=\"njanakiev\" />    <script>    (function(i,s,o,g,r,a,m){i['GoogleAnalyticsObject']=r;i[r]=i[r]||function(){    (i[r].q=i[r].q||[]).push(arguments)},i[r].l=1*new Date();a=s.createElement(o),    m=s.getElementsByTagName(o)[0];a.async=1;a.src=g;m.parentNode.insertBefore(a,m)    })(window,document,'script','https://www.google-analytics.com/analytics.js','ga');    ga('create', 'UA-91241801-1', 'auto');    ga('set', 'anonymizeIp', true);    ga('send', 'pageview');  </script>    <!-- <script async src=\"https://media.ethicalads.io/media/client/ethicalads.min.js\"></script> --></head>  <body class=\"theme-base-10\">    <!-- Target for toggling the sidebar `.sidebar-checkbox` is for regular     styles, `#sidebar-checkbox` for behavior.  --><input type=\"checkbox\" class=\"sidebar-checkbox\" id=\"sidebar-checkbox\"><!-- Toggleable sidebar --><div class=\"sidebar\" id=\"sidebar\">  <div class=\"sidebar-item\">    <p>Nikolai Janakiev</p>    <p>Freelance Data Scientist and Data Engineer with a focus on Python, geospatial applications, routing, and all things data.</p>  </div>  <nav class=\"sidebar-nav\">    <a class=\"sidebar-nav-item\" href=\"/\">Home</a>        <a class=\"sidebar-nav-item\" href=\"/about\">About</a>    <a class=\"sidebar-nav-item\" href=\"/blog\">Blog</a>    <a class=\"sidebar-nav-item\" href=\"/projects\">Projects</a>    <!-- <a class=\"sidebar-nav-item\" href=\"https://contact.janakiev.com\">Contact</a> -->    <span class=\"sidebar-nav-item\"></span>    <a class=\"sidebar-nav-item\" href=\"https://github.com/njanakiev\">Github</a>    <a class=\"sidebar-nav-item\" href=\"https://twitter.com/njanakiev\">Twitter</a>    <a class=\"sidebar-nav-item\" href=\"https://www.linkedin.com/in/nikolai-janakiev/\">LinkedIn</a>    <span class=\"sidebar-nav-item\"></span>    <a class=\"sidebar-nav-item\" href=\"/imprint\">Imprint</a>    <a class=\"sidebar-nav-item\" href=\"/privacy-policy\">Privacy Policy</a>    <a class=\"sidebar-nav-item\" href=\"/archive\">Archive</a>  </nav>  <div class=\"sidebar-item\">    <p>      &copy; 2024. \n",
      "4110 239\n",
      "Do you also want to benefit from virtual environments?  In this tutorial you will see how to do just that with Anaconda or Virtualenv/venv. \",\"headline\":\"Using Virtual Environments in Jupyter Notebook and Python\",\"image\":\"https://janakiev.com/assets/jupyter-virtual-envs_files/LabTest_CHK300J_05-11_037.jpg\",\"mainEntityOfPage\":{\"@type\":\"WebPage\",\"@id\":\"https://janakiev.com/blog/jupyter-virtual-envs/\"},\"url\":\"https://janakiev.com/blog/jupyter-virtual-envs/\"}</script><!-- End Jekyll SEO tag -->  <title>          Using Virtual Environments in Jupyter Notebook and Python - njanakiev      </title>  <!-- CSS -->  <link rel=\"stylesheet\" href=\"/css/poole.css\">  <link rel=\"stylesheet\" href=\"/css/syntax.css\">  <link rel=\"stylesheet\" href=\"/css/lanyon.css\">  <link rel=\"stylesheet\" href=\"/css/style.css\">  <link rel=\"icon\" href=\"/assets/favicon.ico\">  <link type=\"application/atom+xml\" rel=\"alternate\" href=\"https://janakiev.com/feed.xml\" title=\"njanakiev\" />    <script>    (function(i,s,o,g,r,a,m){i['GoogleAnalyticsObject']=r;i[r]=i[r]||function(){    (i[r].q=i[r].q||[]).push(arguments)},i[r].l=1*new Date();a=s.createElement(o),    m=s.getElementsByTagName(o)[0];a.async=1;a.src=g;m.parentNode.insertBefore(a,m)    })(window,document,'script','https://www.google-analytics.com/analytics.js','ga');    ga('create', 'UA-91241801-1', 'auto');    ga('set', 'anonymizeIp', true);    ga('send', 'pageview');  </script>    <!-- <script async src=\"https://media.ethicalads.io/media/client/ethicalads.min.js\"></script> --></head>  <body class=\"theme-base-10\">    <!-- Target for toggling the sidebar `.sidebar-checkbox` is for regular     styles, `#sidebar-checkbox` for behavior.  --><input type=\"checkbox\" class=\"sidebar-checkbox\" id=\"sidebar-checkbox\"><!-- Toggleable sidebar --><div class=\"sidebar\" id=\"sidebar\">  <div class=\"sidebar-item\">    <p>Nikolai Janakiev</p>    <p>Freelance Data Scientist and Data Engineer with a focus on Python, geospatial applications, routing, and all things data.</p>  </div>  <nav class=\"sidebar-nav\">    <a class=\"sidebar-nav-item\" href=\"/\">Home</a>        <a class=\"sidebar-nav-item\" href=\"/about\">About</a>    <a class=\"sidebar-nav-item\" href=\"/blog\">Blog</a>    <a class=\"sidebar-nav-item\" href=\"/projects\">Projects</a>    <!-- <a class=\"sidebar-nav-item\" href=\"https://contact.janakiev.com\">Contact</a> -->    <span class=\"sidebar-nav-item\"></span>    <a class=\"sidebar-nav-item\" href=\"https://github.com/njanakiev\">Github</a>    <a class=\"sidebar-nav-item\" href=\"https://twitter.com/njanakiev\">Twitter</a>    <a class=\"sidebar-nav-item\" href=\"https://www.linkedin.com/in/nikolai-janakiev/\">LinkedIn</a>    <span class=\"sidebar-nav-item\"></span>    <a class=\"sidebar-nav-item\" href=\"/imprint\">Imprint</a>    <a class=\"sidebar-nav-item\" href=\"/privacy-policy\">Privacy Policy</a>    <a class=\"sidebar-nav-item\" href=\"/archive\">Archive</a>  </nav>  <div class=\"sidebar-item\">    <p>      &copy; 2024.  All rights reserved.    \n",
      "2958 192\n",
      "In this tutorial you will see how to do just that with Anaconda or Virtualenv/venv. \",\"headline\":\"Using Virtual Environments in Jupyter Notebook and Python\",\"image\":\"https://janakiev.com/assets/jupyter-virtual-envs_files/LabTest_CHK300J_05-11_037.jpg\",\"mainEntityOfPage\":{\"@type\":\"WebPage\",\"@id\":\"https://janakiev.com/blog/jupyter-virtual-envs/\"},\"url\":\"https://janakiev.com/blog/jupyter-virtual-envs/\"}</script><!-- End Jekyll SEO tag -->  <title>          Using Virtual Environments in Jupyter Notebook and Python - njanakiev      </title>  <!-- CSS -->  <link rel=\"stylesheet\" href=\"/css/poole.css\">  <link rel=\"stylesheet\" href=\"/css/syntax.css\">  <link rel=\"stylesheet\" href=\"/css/lanyon.css\">  <link rel=\"stylesheet\" href=\"/css/style.css\">  <link rel=\"icon\" href=\"/assets/favicon.ico\">  <link type=\"application/atom+xml\" rel=\"alternate\" href=\"https://janakiev.com/feed.xml\" title=\"njanakiev\" />    <script>    (function(i,s,o,g,r,a,m){i['GoogleAnalyticsObject']=r;i[r]=i[r]||function(){    (i[r].q=i[r].q||[]).push(arguments)},i[r].l=1*new Date();a=s.createElement(o),    m=s.getElementsByTagName(o)[0];a.async=1;a.src=g;m.parentNode.insertBefore(a,m)    })(window,document,'script','https://www.google-analytics.com/analytics.js','ga');    ga('create', 'UA-91241801-1', 'auto');    ga('set', 'anonymizeIp', true);    ga('send', 'pageview');  </script>    <!-- <script async src=\"https://media.ethicalads.io/media/client/ethicalads.min.js\"></script> --></head>  <body class=\"theme-base-10\">    <!-- Target for toggling the sidebar `.sidebar-checkbox` is for regular     styles, `#sidebar-checkbox` for behavior.  --><input type=\"checkbox\" class=\"sidebar-checkbox\" id=\"sidebar-checkbox\"><!-- Toggleable sidebar --><div class=\"sidebar\" id=\"sidebar\">  <div class=\"sidebar-item\">    <p>Nikolai Janakiev</p>    <p>Freelance Data Scientist and Data Engineer with a focus on Python, geospatial applications, routing, and all things data.</p>  </div>  <nav class=\"sidebar-nav\">    <a class=\"sidebar-nav-item\" href=\"/\">Home</a>        <a class=\"sidebar-nav-item\" href=\"/about\">About</a>    <a class=\"sidebar-nav-item\" href=\"/blog\">Blog</a>    <a class=\"sidebar-nav-item\" href=\"/projects\">Projects</a>    <!-- <a class=\"sidebar-nav-item\" href=\"https://contact.janakiev.com\">Contact</a> -->    <span class=\"sidebar-nav-item\"></span>    <a class=\"sidebar-nav-item\" href=\"https://github.com/njanakiev\">Github</a>    <a class=\"sidebar-nav-item\" href=\"https://twitter.com/njanakiev\">Twitter</a>    <a class=\"sidebar-nav-item\" href=\"https://www.linkedin.com/in/nikolai-janakiev/\">LinkedIn</a>    <span class=\"sidebar-nav-item\"></span>    <a class=\"sidebar-nav-item\" href=\"/imprint\">Imprint</a>    <a class=\"sidebar-nav-item\" href=\"/privacy-policy\">Privacy Policy</a>    <a class=\"sidebar-nav-item\" href=\"/archive\">Archive</a>  </nav>  <div class=\"sidebar-item\">    <p>      &copy; 2024.  All rights reserved.     </p>  </div></div>    <!-- Wrap is the content to shift when toggling the sidebar. \n",
      "2986 196\n",
      "\",\"headline\":\"Using Virtual Environments in Jupyter Notebook and Python\",\"image\":\"https://janakiev.com/assets/jupyter-virtual-envs_files/LabTest_CHK300J_05-11_037.jpg\",\"mainEntityOfPage\":{\"@type\":\"WebPage\",\"@id\":\"https://janakiev.com/blog/jupyter-virtual-envs/\"},\"url\":\"https://janakiev.com/blog/jupyter-virtual-envs/\"}</script><!-- End Jekyll SEO tag -->  <title>          Using Virtual Environments in Jupyter Notebook and Python - njanakiev      </title>  <!-- CSS -->  <link rel=\"stylesheet\" href=\"/css/poole.css\">  <link rel=\"stylesheet\" href=\"/css/syntax.css\">  <link rel=\"stylesheet\" href=\"/css/lanyon.css\">  <link rel=\"stylesheet\" href=\"/css/style.css\">  <link rel=\"icon\" href=\"/assets/favicon.ico\">  <link type=\"application/atom+xml\" rel=\"alternate\" href=\"https://janakiev.com/feed.xml\" title=\"njanakiev\" />    <script>    (function(i,s,o,g,r,a,m){i['GoogleAnalyticsObject']=r;i[r]=i[r]||function(){    (i[r].q=i[r].q||[]).push(arguments)},i[r].l=1*new Date();a=s.createElement(o),    m=s.getElementsByTagName(o)[0];a.async=1;a.src=g;m.parentNode.insertBefore(a,m)    })(window,document,'script','https://www.google-analytics.com/analytics.js','ga');    ga('create', 'UA-91241801-1', 'auto');    ga('set', 'anonymizeIp', true);    ga('send', 'pageview');  </script>    <!-- <script async src=\"https://media.ethicalads.io/media/client/ethicalads.min.js\"></script> --></head>  <body class=\"theme-base-10\">    <!-- Target for toggling the sidebar `.sidebar-checkbox` is for regular     styles, `#sidebar-checkbox` for behavior.  --><input type=\"checkbox\" class=\"sidebar-checkbox\" id=\"sidebar-checkbox\"><!-- Toggleable sidebar --><div class=\"sidebar\" id=\"sidebar\">  <div class=\"sidebar-item\">    <p>Nikolai Janakiev</p>    <p>Freelance Data Scientist and Data Engineer with a focus on Python, geospatial applications, routing, and all things data.</p>  </div>  <nav class=\"sidebar-nav\">    <a class=\"sidebar-nav-item\" href=\"/\">Home</a>        <a class=\"sidebar-nav-item\" href=\"/about\">About</a>    <a class=\"sidebar-nav-item\" href=\"/blog\">Blog</a>    <a class=\"sidebar-nav-item\" href=\"/projects\">Projects</a>    <!-- <a class=\"sidebar-nav-item\" href=\"https://contact.janakiev.com\">Contact</a> -->    <span class=\"sidebar-nav-item\"></span>    <a class=\"sidebar-nav-item\" href=\"https://github.com/njanakiev\">Github</a>    <a class=\"sidebar-nav-item\" href=\"https://twitter.com/njanakiev\">Twitter</a>    <a class=\"sidebar-nav-item\" href=\"https://www.linkedin.com/in/nikolai-janakiev/\">LinkedIn</a>    <span class=\"sidebar-nav-item\"></span>    <a class=\"sidebar-nav-item\" href=\"/imprint\">Imprint</a>    <a class=\"sidebar-nav-item\" href=\"/privacy-policy\">Privacy Policy</a>    <a class=\"sidebar-nav-item\" href=\"/archive\">Archive</a>  </nav>  <div class=\"sidebar-item\">    <p>      &copy; 2024.  All rights reserved.     </p>  </div></div>    <!-- Wrap is the content to shift when toggling the sidebar.  We wrap the         content to avoid any CSS collisions with our real content. \n",
      "2982 194\n",
      "--><input type=\"checkbox\" class=\"sidebar-checkbox\" id=\"sidebar-checkbox\"><!-- Toggleable sidebar --><div class=\"sidebar\" id=\"sidebar\">  <div class=\"sidebar-item\">    <p>Nikolai Janakiev</p>    <p>Freelance Data Scientist and Data Engineer with a focus on Python, geospatial applications, routing, and all things data.</p>  </div>  <nav class=\"sidebar-nav\">    <a class=\"sidebar-nav-item\" href=\"/\">Home</a>        <a class=\"sidebar-nav-item\" href=\"/about\">About</a>    <a class=\"sidebar-nav-item\" href=\"/blog\">Blog</a>    <a class=\"sidebar-nav-item\" href=\"/projects\">Projects</a>    <!-- <a class=\"sidebar-nav-item\" href=\"https://contact.janakiev.com\">Contact</a> -->    <span class=\"sidebar-nav-item\"></span>    <a class=\"sidebar-nav-item\" href=\"https://github.com/njanakiev\">Github</a>    <a class=\"sidebar-nav-item\" href=\"https://twitter.com/njanakiev\">Twitter</a>    <a class=\"sidebar-nav-item\" href=\"https://www.linkedin.com/in/nikolai-janakiev/\">LinkedIn</a>    <span class=\"sidebar-nav-item\"></span>    <a class=\"sidebar-nav-item\" href=\"/imprint\">Imprint</a>    <a class=\"sidebar-nav-item\" href=\"/privacy-policy\">Privacy Policy</a>    <a class=\"sidebar-nav-item\" href=\"/archive\">Archive</a>  </nav>  <div class=\"sidebar-item\">    <p>      &copy; 2024.  All rights reserved.     </p>  </div></div>    <!-- Wrap is the content to shift when toggling the sidebar.  We wrap the         content to avoid any CSS collisions with our real content.  -->    <div class=\"wrap\">      <div class=\"masthead\">        <div class=\"container\">          <h3 class=\"masthead-title\">            <a href=\"/\" title=\"Home\">home</a>            <span></span>            <a href=\"/about\" title=\"Home\">about</a>            <span></span>            <a href=\"/projects\" title=\"Home\">projects</a>          </h3>        </div>      </div>      <div class=\"container content\">        <div class=\"post\">      <img src=\"/assets/jupyter-virtual-envs_files/LabTest_CHK300J_05-11_037.jpg\">                  <span class=\"footnote\">Image from <a href=\"https://commons.wikimedia.org/wiki/File:LabTest_CHK300J_05-11_037.jpg\">Wikimedia Commons</a></span>                <h1 class=\"post-title\">Using Virtual Environments in Jupyter Notebook and Python</h1>  <span class=\"post-date\">02 Feb 2019</span>    <!-- Ethical Ads Image -->  <!-- <div data-ea-publisher=\"janakievcom\" data-ea-type=\"image\" data-ea-style=\"stickybox\"></div> -->  <h2>Table of Contents</h2>  <ul id=\"toc\" class=\"section-nav\"><li class=\"toc-entry toc-h1\"><a href=\"#create-virtual-environment-with-virtualenvvenv\">Create Virtual Environment with Virtualenv/venv</a></li><li class=\"toc-entry toc-h1\"><a href=\"#create-virtual-environment-with-anaconda\">Create Virtual Environment with Anaconda</a></li><li class=\"toc-entry toc-h1\"><a href=\"#add-virtual-environment-to-jupyter-notebook\">Add Virtual Environment to Jupyter Notebook</a></li><li class=\"toc-entry toc-h1\"><a href=\"#remove-virtual-environment-from-jupyter-notebook\">Remove Virtual Environment from Jupyter Notebook</a></li></ul><p>Are you working with Jupyter Notebook and Python? \n",
      "3070 212\n",
      "All rights reserved.     </p>  </div></div>    <!-- Wrap is the content to shift when toggling the sidebar.  We wrap the         content to avoid any CSS collisions with our real content.  -->    <div class=\"wrap\">      <div class=\"masthead\">        <div class=\"container\">          <h3 class=\"masthead-title\">            <a href=\"/\" title=\"Home\">home</a>            <span></span>            <a href=\"/about\" title=\"Home\">about</a>            <span></span>            <a href=\"/projects\" title=\"Home\">projects</a>          </h3>        </div>      </div>      <div class=\"container content\">        <div class=\"post\">      <img src=\"/assets/jupyter-virtual-envs_files/LabTest_CHK300J_05-11_037.jpg\">                  <span class=\"footnote\">Image from <a href=\"https://commons.wikimedia.org/wiki/File:LabTest_CHK300J_05-11_037.jpg\">Wikimedia Commons</a></span>                <h1 class=\"post-title\">Using Virtual Environments in Jupyter Notebook and Python</h1>  <span class=\"post-date\">02 Feb 2019</span>    <!-- Ethical Ads Image -->  <!-- <div data-ea-publisher=\"janakievcom\" data-ea-type=\"image\" data-ea-style=\"stickybox\"></div> -->  <h2>Table of Contents</h2>  <ul id=\"toc\" class=\"section-nav\"><li class=\"toc-entry toc-h1\"><a href=\"#create-virtual-environment-with-virtualenvvenv\">Create Virtual Environment with Virtualenv/venv</a></li><li class=\"toc-entry toc-h1\"><a href=\"#create-virtual-environment-with-anaconda\">Create Virtual Environment with Anaconda</a></li><li class=\"toc-entry toc-h1\"><a href=\"#add-virtual-environment-to-jupyter-notebook\">Add Virtual Environment to Jupyter Notebook</a></li><li class=\"toc-entry toc-h1\"><a href=\"#remove-virtual-environment-from-jupyter-notebook\">Remove Virtual Environment from Jupyter Notebook</a></li></ul><p>Are you working with Jupyter Notebook and Python?  Do you also want to benefit from virtual environments? \n",
      "1867 141\n",
      "</p>  </div></div>    <!-- Wrap is the content to shift when toggling the sidebar.  We wrap the         content to avoid any CSS collisions with our real content.  -->    <div class=\"wrap\">      <div class=\"masthead\">        <div class=\"container\">          <h3 class=\"masthead-title\">            <a href=\"/\" title=\"Home\">home</a>            <span></span>            <a href=\"/about\" title=\"Home\">about</a>            <span></span>            <a href=\"/projects\" title=\"Home\">projects</a>          </h3>        </div>      </div>      <div class=\"container content\">        <div class=\"post\">      <img src=\"/assets/jupyter-virtual-envs_files/LabTest_CHK300J_05-11_037.jpg\">                  <span class=\"footnote\">Image from <a href=\"https://commons.wikimedia.org/wiki/File:LabTest_CHK300J_05-11_037.jpg\">Wikimedia Commons</a></span>                <h1 class=\"post-title\">Using Virtual Environments in Jupyter Notebook and Python</h1>  <span class=\"post-date\">02 Feb 2019</span>    <!-- Ethical Ads Image -->  <!-- <div data-ea-publisher=\"janakievcom\" data-ea-type=\"image\" data-ea-style=\"stickybox\"></div> -->  <h2>Table of Contents</h2>  <ul id=\"toc\" class=\"section-nav\"><li class=\"toc-entry toc-h1\"><a href=\"#create-virtual-environment-with-virtualenvvenv\">Create Virtual Environment with Virtualenv/venv</a></li><li class=\"toc-entry toc-h1\"><a href=\"#create-virtual-environment-with-anaconda\">Create Virtual Environment with Anaconda</a></li><li class=\"toc-entry toc-h1\"><a href=\"#add-virtual-environment-to-jupyter-notebook\">Add Virtual Environment to Jupyter Notebook</a></li><li class=\"toc-entry toc-h1\"><a href=\"#remove-virtual-environment-from-jupyter-notebook\">Remove Virtual Environment from Jupyter Notebook</a></li></ul><p>Are you working with Jupyter Notebook and Python?  Do you also want to benefit from virtual environments?  In this tutorial you will see how to do just that with <a href=\"https://www.anaconda.com/\">Anaconda</a> or <a href=\"https://virtualenv.pypa.io/en/latest/\">Virtualenv</a>/<a href=\"https://docs.python.org/3/library/venv.html\">venv</a>.</p><p>Before we start, what is a virtual environment and why do you need it? \n",
      "2154 169\n",
      "We wrap the         content to avoid any CSS collisions with our real content.  -->    <div class=\"wrap\">      <div class=\"masthead\">        <div class=\"container\">          <h3 class=\"masthead-title\">            <a href=\"/\" title=\"Home\">home</a>            <span></span>            <a href=\"/about\" title=\"Home\">about</a>            <span></span>            <a href=\"/projects\" title=\"Home\">projects</a>          </h3>        </div>      </div>      <div class=\"container content\">        <div class=\"post\">      <img src=\"/assets/jupyter-virtual-envs_files/LabTest_CHK300J_05-11_037.jpg\">                  <span class=\"footnote\">Image from <a href=\"https://commons.wikimedia.org/wiki/File:LabTest_CHK300J_05-11_037.jpg\">Wikimedia Commons</a></span>                <h1 class=\"post-title\">Using Virtual Environments in Jupyter Notebook and Python</h1>  <span class=\"post-date\">02 Feb 2019</span>    <!-- Ethical Ads Image -->  <!-- <div data-ea-publisher=\"janakievcom\" data-ea-type=\"image\" data-ea-style=\"stickybox\"></div> -->  <h2>Table of Contents</h2>  <ul id=\"toc\" class=\"section-nav\"><li class=\"toc-entry toc-h1\"><a href=\"#create-virtual-environment-with-virtualenvvenv\">Create Virtual Environment with Virtualenv/venv</a></li><li class=\"toc-entry toc-h1\"><a href=\"#create-virtual-environment-with-anaconda\">Create Virtual Environment with Anaconda</a></li><li class=\"toc-entry toc-h1\"><a href=\"#add-virtual-environment-to-jupyter-notebook\">Add Virtual Environment to Jupyter Notebook</a></li><li class=\"toc-entry toc-h1\"><a href=\"#remove-virtual-environment-from-jupyter-notebook\">Remove Virtual Environment from Jupyter Notebook</a></li></ul><p>Are you working with Jupyter Notebook and Python?  Do you also want to benefit from virtual environments?  In this tutorial you will see how to do just that with <a href=\"https://www.anaconda.com/\">Anaconda</a> or <a href=\"https://virtualenv.pypa.io/en/latest/\">Virtualenv</a>/<a href=\"https://docs.python.org/3/library/venv.html\">venv</a>.</p><p>Before we start, what is a virtual environment and why do you need it?  A virtual environment is an isolated working copy of Python. \n",
      "2132 166\n",
      "-->    <div class=\"wrap\">      <div class=\"masthead\">        <div class=\"container\">          <h3 class=\"masthead-title\">            <a href=\"/\" title=\"Home\">home</a>            <span></span>            <a href=\"/about\" title=\"Home\">about</a>            <span></span>            <a href=\"/projects\" title=\"Home\">projects</a>          </h3>        </div>      </div>      <div class=\"container content\">        <div class=\"post\">      <img src=\"/assets/jupyter-virtual-envs_files/LabTest_CHK300J_05-11_037.jpg\">                  <span class=\"footnote\">Image from <a href=\"https://commons.wikimedia.org/wiki/File:LabTest_CHK300J_05-11_037.jpg\">Wikimedia Commons</a></span>                <h1 class=\"post-title\">Using Virtual Environments in Jupyter Notebook and Python</h1>  <span class=\"post-date\">02 Feb 2019</span>    <!-- Ethical Ads Image -->  <!-- <div data-ea-publisher=\"janakievcom\" data-ea-type=\"image\" data-ea-style=\"stickybox\"></div> -->  <h2>Table of Contents</h2>  <ul id=\"toc\" class=\"section-nav\"><li class=\"toc-entry toc-h1\"><a href=\"#create-virtual-environment-with-virtualenvvenv\">Create Virtual Environment with Virtualenv/venv</a></li><li class=\"toc-entry toc-h1\"><a href=\"#create-virtual-environment-with-anaconda\">Create Virtual Environment with Anaconda</a></li><li class=\"toc-entry toc-h1\"><a href=\"#add-virtual-environment-to-jupyter-notebook\">Add Virtual Environment to Jupyter Notebook</a></li><li class=\"toc-entry toc-h1\"><a href=\"#remove-virtual-environment-from-jupyter-notebook\">Remove Virtual Environment from Jupyter Notebook</a></li></ul><p>Are you working with Jupyter Notebook and Python?  Do you also want to benefit from virtual environments?  In this tutorial you will see how to do just that with <a href=\"https://www.anaconda.com/\">Anaconda</a> or <a href=\"https://virtualenv.pypa.io/en/latest/\">Virtualenv</a>/<a href=\"https://docs.python.org/3/library/venv.html\">venv</a>.</p><p>Before we start, what is a virtual environment and why do you need it?  A virtual environment is an isolated working copy of Python.  This means that each environment can have its own dependencies or even its own Python versions. \n",
      "2149 169\n",
      "Do you also want to benefit from virtual environments?  In this tutorial you will see how to do just that with <a href=\"https://www.anaconda.com/\">Anaconda</a> or <a href=\"https://virtualenv.pypa.io/en/latest/\">Virtualenv</a>/<a href=\"https://docs.python.org/3/library/venv.html\">venv</a>.</p><p>Before we start, what is a virtual environment and why do you need it?  A virtual environment is an isolated working copy of Python.  This means that each environment can have its own dependencies or even its own Python versions.  This is useful if you need different versions of Python or packages for different projects. \n",
      "619 81\n",
      "In this tutorial you will see how to do just that with <a href=\"https://www.anaconda.com/\">Anaconda</a> or <a href=\"https://virtualenv.pypa.io/en/latest/\">Virtualenv</a>/<a href=\"https://docs.python.org/3/library/venv.html\">venv</a>.</p><p>Before we start, what is a virtual environment and why do you need it?  A virtual environment is an isolated working copy of Python.  This means that each environment can have its own dependencies or even its own Python versions.  This is useful if you need different versions of Python or packages for different projects.  This also keeps things tidy when testing packages and making sure your main Python installation stays healthy.</p><h1 id=\"create-virtual-environment-with-virtualenvvenv\"><a class=\"anchor\" href=\"#create-virtual-environment-with-virtualenvvenv\" aria-hidden=\"true\"><span class=\"octicon octicon-link\"></span></a>Create Virtual Environment with Virtualenv/venv</h1><p>A commonly used tool for virtual environments in Python is <a href=\"https://virtualenv.pypa.io/en/latest/\">virtualenv</a>. \n",
      "1050 110\n",
      "A virtual environment is an isolated working copy of Python.  This means that each environment can have its own dependencies or even its own Python versions.  This is useful if you need different versions of Python or packages for different projects.  This also keeps things tidy when testing packages and making sure your main Python installation stays healthy.</p><h1 id=\"create-virtual-environment-with-virtualenvvenv\"><a class=\"anchor\" href=\"#create-virtual-environment-with-virtualenvvenv\" aria-hidden=\"true\"><span class=\"octicon octicon-link\"></span></a>Create Virtual Environment with Virtualenv/venv</h1><p>A commonly used tool for virtual environments in Python is <a href=\"https://virtualenv.pypa.io/en/latest/\">virtualenv</a>.  Since Python 3.3, a subset of virtualenv has been integrated in the Python standard library under the <a href=\"https://docs.python.org/3/library/venv.html\">venv</a> module. \n",
      "912 99\n",
      "This means that each environment can have its own dependencies or even its own Python versions.  This is useful if you need different versions of Python or packages for different projects.  This also keeps things tidy when testing packages and making sure your main Python installation stays healthy.</p><h1 id=\"create-virtual-environment-with-virtualenvvenv\"><a class=\"anchor\" href=\"#create-virtual-environment-with-virtualenvvenv\" aria-hidden=\"true\"><span class=\"octicon octicon-link\"></span></a>Create Virtual Environment with Virtualenv/venv</h1><p>A commonly used tool for virtual environments in Python is <a href=\"https://virtualenv.pypa.io/en/latest/\">virtualenv</a>.  Since Python 3.3, a subset of virtualenv has been integrated in the Python standard library under the <a href=\"https://docs.python.org/3/library/venv.html\">venv</a> module.  If you are using Python 2, you can install virtualenv with:</p><div class=\"language-plaintext highlighter-rouge\"><div class=\"highlight\"><pre class=\"highlight\"><code>pip install --user virtualenv</code></pre></div></div><p>Now, you can create a virtual environment with:</p><div class=\"language-plaintext highlighter-rouge\"><div class=\"highlight\"><pre class=\"highlight\"><code>virtualenv myenv</code></pre></div></div><p>where <code class=\"language-plaintext highlighter-rouge\">myenv</code> can be replaced with the name you want for your virtual environment. \n",
      "1409 134\n",
      "This is useful if you need different versions of Python or packages for different projects.  This also keeps things tidy when testing packages and making sure your main Python installation stays healthy.</p><h1 id=\"create-virtual-environment-with-virtualenvvenv\"><a class=\"anchor\" href=\"#create-virtual-environment-with-virtualenvvenv\" aria-hidden=\"true\"><span class=\"octicon octicon-link\"></span></a>Create Virtual Environment with Virtualenv/venv</h1><p>A commonly used tool for virtual environments in Python is <a href=\"https://virtualenv.pypa.io/en/latest/\">virtualenv</a>.  Since Python 3.3, a subset of virtualenv has been integrated in the Python standard library under the <a href=\"https://docs.python.org/3/library/venv.html\">venv</a> module.  If you are using Python 2, you can install virtualenv with:</p><div class=\"language-plaintext highlighter-rouge\"><div class=\"highlight\"><pre class=\"highlight\"><code>pip install --user virtualenv</code></pre></div></div><p>Now, you can create a virtual environment with:</p><div class=\"language-plaintext highlighter-rouge\"><div class=\"highlight\"><pre class=\"highlight\"><code>virtualenv myenv</code></pre></div></div><p>where <code class=\"language-plaintext highlighter-rouge\">myenv</code> can be replaced with the name you want for your virtual environment.  The virtual environment can be found in the <code class=\"language-plaintext highlighter-rouge\">myenv</code> folder. \n",
      "1429 130\n",
      "This also keeps things tidy when testing packages and making sure your main Python installation stays healthy.</p><h1 id=\"create-virtual-environment-with-virtualenvvenv\"><a class=\"anchor\" href=\"#create-virtual-environment-with-virtualenvvenv\" aria-hidden=\"true\"><span class=\"octicon octicon-link\"></span></a>Create Virtual Environment with Virtualenv/venv</h1><p>A commonly used tool for virtual environments in Python is <a href=\"https://virtualenv.pypa.io/en/latest/\">virtualenv</a>.  Since Python 3.3, a subset of virtualenv has been integrated in the Python standard library under the <a href=\"https://docs.python.org/3/library/venv.html\">venv</a> module.  If you are using Python 2, you can install virtualenv with:</p><div class=\"language-plaintext highlighter-rouge\"><div class=\"highlight\"><pre class=\"highlight\"><code>pip install --user virtualenv</code></pre></div></div><p>Now, you can create a virtual environment with:</p><div class=\"language-plaintext highlighter-rouge\"><div class=\"highlight\"><pre class=\"highlight\"><code>virtualenv myenv</code></pre></div></div><p>where <code class=\"language-plaintext highlighter-rouge\">myenv</code> can be replaced with the name you want for your virtual environment.  The virtual environment can be found in the <code class=\"language-plaintext highlighter-rouge\">myenv</code> folder.  For Python &gt;= 3.3, you can create a virtual environment with:</p><div class=\"language-plaintext highlighter-rouge\"><div class=\"highlight\"><pre class=\"highlight\"><code>python -m venv myenv</code></pre></div></div><p>After you have created your virtual environment, you can activate the virtual environment with:</p><div class=\"language-plaintext highlighter-rouge\"><div class=\"highlight\"><pre class=\"highlight\"><code>source myenv/bin/activate</code></pre></div></div><p>To deactivate the virtual environment, you can run <code class=\"language-plaintext highlighter-rouge\">deactivate</code>. \n",
      "1930 161\n",
      "Since Python 3.3, a subset of virtualenv has been integrated in the Python standard library under the <a href=\"https://docs.python.org/3/library/venv.html\">venv</a> module.  If you are using Python 2, you can install virtualenv with:</p><div class=\"language-plaintext highlighter-rouge\"><div class=\"highlight\"><pre class=\"highlight\"><code>pip install --user virtualenv</code></pre></div></div><p>Now, you can create a virtual environment with:</p><div class=\"language-plaintext highlighter-rouge\"><div class=\"highlight\"><pre class=\"highlight\"><code>virtualenv myenv</code></pre></div></div><p>where <code class=\"language-plaintext highlighter-rouge\">myenv</code> can be replaced with the name you want for your virtual environment.  The virtual environment can be found in the <code class=\"language-plaintext highlighter-rouge\">myenv</code> folder.  For Python &gt;= 3.3, you can create a virtual environment with:</p><div class=\"language-plaintext highlighter-rouge\"><div class=\"highlight\"><pre class=\"highlight\"><code>python -m venv myenv</code></pre></div></div><p>After you have created your virtual environment, you can activate the virtual environment with:</p><div class=\"language-plaintext highlighter-rouge\"><div class=\"highlight\"><pre class=\"highlight\"><code>source myenv/bin/activate</code></pre></div></div><p>To deactivate the virtual environment, you can run <code class=\"language-plaintext highlighter-rouge\">deactivate</code>.  To delete the virtual environment you just need to remove the folder with the virtual environment (e.g. \n",
      "1548 140\n",
      "If you are using Python 2, you can install virtualenv with:</p><div class=\"language-plaintext highlighter-rouge\"><div class=\"highlight\"><pre class=\"highlight\"><code>pip install --user virtualenv</code></pre></div></div><p>Now, you can create a virtual environment with:</p><div class=\"language-plaintext highlighter-rouge\"><div class=\"highlight\"><pre class=\"highlight\"><code>virtualenv myenv</code></pre></div></div><p>where <code class=\"language-plaintext highlighter-rouge\">myenv</code> can be replaced with the name you want for your virtual environment.  The virtual environment can be found in the <code class=\"language-plaintext highlighter-rouge\">myenv</code> folder.  For Python &gt;= 3.3, you can create a virtual environment with:</p><div class=\"language-plaintext highlighter-rouge\"><div class=\"highlight\"><pre class=\"highlight\"><code>python -m venv myenv</code></pre></div></div><p>After you have created your virtual environment, you can activate the virtual environment with:</p><div class=\"language-plaintext highlighter-rouge\"><div class=\"highlight\"><pre class=\"highlight\"><code>source myenv/bin/activate</code></pre></div></div><p>To deactivate the virtual environment, you can run <code class=\"language-plaintext highlighter-rouge\">deactivate</code>.  To delete the virtual environment you just need to remove the folder with the virtual environment (e.g.  <code class=\"language-plaintext highlighter-rouge\">rm -r myenv</code>). \n",
      "1447 125\n",
      "The virtual environment can be found in the <code class=\"language-plaintext highlighter-rouge\">myenv</code> folder.  For Python &gt;= 3.3, you can create a virtual environment with:</p><div class=\"language-plaintext highlighter-rouge\"><div class=\"highlight\"><pre class=\"highlight\"><code>python -m venv myenv</code></pre></div></div><p>After you have created your virtual environment, you can activate the virtual environment with:</p><div class=\"language-plaintext highlighter-rouge\"><div class=\"highlight\"><pre class=\"highlight\"><code>source myenv/bin/activate</code></pre></div></div><p>To deactivate the virtual environment, you can run <code class=\"language-plaintext highlighter-rouge\">deactivate</code>.  To delete the virtual environment you just need to remove the folder with the virtual environment (e.g.  <code class=\"language-plaintext highlighter-rouge\">rm -r myenv</code>).  For further information, have a read in the <a href=\"https://virtualenv.pypa.io/en/latest/\">virtualenv documentation</a> or <a href=\"https://docs.python.org/3/library/venv.html\">venv documentation</a>.</p><h1 id=\"create-virtual-environment-with-anaconda\"><a class=\"anchor\" href=\"#create-virtual-environment-with-anaconda\" aria-hidden=\"true\"><span class=\"octicon octicon-link\"></span></a>Create Virtual Environment with Anaconda</h1><p>Lets have a look how to create an virtual environment with <a href=\"https://www.anaconda.com/\">Anaconda</a>. \n",
      "1433 117\n",
      "For Python &gt;= 3.3, you can create a virtual environment with:</p><div class=\"language-plaintext highlighter-rouge\"><div class=\"highlight\"><pre class=\"highlight\"><code>python -m venv myenv</code></pre></div></div><p>After you have created your virtual environment, you can activate the virtual environment with:</p><div class=\"language-plaintext highlighter-rouge\"><div class=\"highlight\"><pre class=\"highlight\"><code>source myenv/bin/activate</code></pre></div></div><p>To deactivate the virtual environment, you can run <code class=\"language-plaintext highlighter-rouge\">deactivate</code>.  To delete the virtual environment you just need to remove the folder with the virtual environment (e.g.  <code class=\"language-plaintext highlighter-rouge\">rm -r myenv</code>).  For further information, have a read in the <a href=\"https://virtualenv.pypa.io/en/latest/\">virtualenv documentation</a> or <a href=\"https://docs.python.org/3/library/venv.html\">venv documentation</a>.</p><h1 id=\"create-virtual-environment-with-anaconda\"><a class=\"anchor\" href=\"#create-virtual-environment-with-anaconda\" aria-hidden=\"true\"><span class=\"octicon octicon-link\"></span></a>Create Virtual Environment with Anaconda</h1><p>Lets have a look how to create an virtual environment with <a href=\"https://www.anaconda.com/\">Anaconda</a>.  Anaconda is a Python (and R) distribution that has the goal to simplify package management and deployment for scientific computing. \n",
      "1449 125\n",
      "To delete the virtual environment you just need to remove the folder with the virtual environment (e.g.  <code class=\"language-plaintext highlighter-rouge\">rm -r myenv</code>).  For further information, have a read in the <a href=\"https://virtualenv.pypa.io/en/latest/\">virtualenv documentation</a> or <a href=\"https://docs.python.org/3/library/venv.html\">venv documentation</a>.</p><h1 id=\"create-virtual-environment-with-anaconda\"><a class=\"anchor\" href=\"#create-virtual-environment-with-anaconda\" aria-hidden=\"true\"><span class=\"octicon octicon-link\"></span></a>Create Virtual Environment with Anaconda</h1><p>Lets have a look how to create an virtual environment with <a href=\"https://www.anaconda.com/\">Anaconda</a>.  Anaconda is a Python (and R) distribution that has the goal to simplify package management and deployment for scientific computing.  After the <a href=\"https://www.anaconda.com/distribution/\">installation</a> you can create the conda virtual environment with:</p><div class=\"language-plaintext highlighter-rouge\"><div class=\"highlight\"><pre class=\"highlight\"><code>conda create -n myenv</code></pre></div></div><p>where <code class=\"language-plaintext highlighter-rouge\">myenv</code> is the name of your new environment. \n",
      "1244 108\n",
      "<code class=\"language-plaintext highlighter-rouge\">rm -r myenv</code>).  For further information, have a read in the <a href=\"https://virtualenv.pypa.io/en/latest/\">virtualenv documentation</a> or <a href=\"https://docs.python.org/3/library/venv.html\">venv documentation</a>.</p><h1 id=\"create-virtual-environment-with-anaconda\"><a class=\"anchor\" href=\"#create-virtual-environment-with-anaconda\" aria-hidden=\"true\"><span class=\"octicon octicon-link\"></span></a>Create Virtual Environment with Anaconda</h1><p>Lets have a look how to create an virtual environment with <a href=\"https://www.anaconda.com/\">Anaconda</a>.  Anaconda is a Python (and R) distribution that has the goal to simplify package management and deployment for scientific computing.  After the <a href=\"https://www.anaconda.com/distribution/\">installation</a> you can create the conda virtual environment with:</p><div class=\"language-plaintext highlighter-rouge\"><div class=\"highlight\"><pre class=\"highlight\"><code>conda create -n myenv</code></pre></div></div><p>where <code class=\"language-plaintext highlighter-rouge\">myenv</code> is the name of your new environment.  If you want a specific Python version that is not your current version, you can type:</p><div class=\"language-plaintext highlighter-rouge\"><div class=\"highlight\"><pre class=\"highlight\"><code>conda create -n myenv python=3.6</code></pre></div></div><p>The environment is then stored in the <code class=\"language-plaintext highlighter-rouge\">envs</code> folder in your Anaconda directory. \n",
      "1527 129\n",
      "For further information, have a read in the <a href=\"https://virtualenv.pypa.io/en/latest/\">virtualenv documentation</a> or <a href=\"https://docs.python.org/3/library/venv.html\">venv documentation</a>.</p><h1 id=\"create-virtual-environment-with-anaconda\"><a class=\"anchor\" href=\"#create-virtual-environment-with-anaconda\" aria-hidden=\"true\"><span class=\"octicon octicon-link\"></span></a>Create Virtual Environment with Anaconda</h1><p>Lets have a look how to create an virtual environment with <a href=\"https://www.anaconda.com/\">Anaconda</a>.  Anaconda is a Python (and R) distribution that has the goal to simplify package management and deployment for scientific computing.  After the <a href=\"https://www.anaconda.com/distribution/\">installation</a> you can create the conda virtual environment with:</p><div class=\"language-plaintext highlighter-rouge\"><div class=\"highlight\"><pre class=\"highlight\"><code>conda create -n myenv</code></pre></div></div><p>where <code class=\"language-plaintext highlighter-rouge\">myenv</code> is the name of your new environment.  If you want a specific Python version that is not your current version, you can type:</p><div class=\"language-plaintext highlighter-rouge\"><div class=\"highlight\"><pre class=\"highlight\"><code>conda create -n myenv python=3.6</code></pre></div></div><p>The environment is then stored in the <code class=\"language-plaintext highlighter-rouge\">envs</code> folder in your Anaconda directory.  After you have created the enviroment, you can activate it by typing:</p><div class=\"language-plaintext highlighter-rouge\"><div class=\"highlight\"><pre class=\"highlight\"><code>conda activate myenv</code></pre></div></div><p>If you now run <code class=\"language-plaintext highlighter-rouge\">python</code>, youll see that you are in your freshly created virtual environment. \n",
      "1827 159\n",
      "Anaconda is a Python (and R) distribution that has the goal to simplify package management and deployment for scientific computing.  After the <a href=\"https://www.anaconda.com/distribution/\">installation</a> you can create the conda virtual environment with:</p><div class=\"language-plaintext highlighter-rouge\"><div class=\"highlight\"><pre class=\"highlight\"><code>conda create -n myenv</code></pre></div></div><p>where <code class=\"language-plaintext highlighter-rouge\">myenv</code> is the name of your new environment.  If you want a specific Python version that is not your current version, you can type:</p><div class=\"language-plaintext highlighter-rouge\"><div class=\"highlight\"><pre class=\"highlight\"><code>conda create -n myenv python=3.6</code></pre></div></div><p>The environment is then stored in the <code class=\"language-plaintext highlighter-rouge\">envs</code> folder in your Anaconda directory.  After you have created the enviroment, you can activate it by typing:</p><div class=\"language-plaintext highlighter-rouge\"><div class=\"highlight\"><pre class=\"highlight\"><code>conda activate myenv</code></pre></div></div><p>If you now run <code class=\"language-plaintext highlighter-rouge\">python</code>, youll see that you are in your freshly created virtual environment.  To deactivate the environment you can type <code class=\"language-plaintext highlighter-rouge\">conda deactivate</code> and you can list all the available environments on your machine with <code class=\"language-plaintext highlighter-rouge\">conda env list</code>. \n",
      "1544 150\n",
      "After the <a href=\"https://www.anaconda.com/distribution/\">installation</a> you can create the conda virtual environment with:</p><div class=\"language-plaintext highlighter-rouge\"><div class=\"highlight\"><pre class=\"highlight\"><code>conda create -n myenv</code></pre></div></div><p>where <code class=\"language-plaintext highlighter-rouge\">myenv</code> is the name of your new environment.  If you want a specific Python version that is not your current version, you can type:</p><div class=\"language-plaintext highlighter-rouge\"><div class=\"highlight\"><pre class=\"highlight\"><code>conda create -n myenv python=3.6</code></pre></div></div><p>The environment is then stored in the <code class=\"language-plaintext highlighter-rouge\">envs</code> folder in your Anaconda directory.  After you have created the enviroment, you can activate it by typing:</p><div class=\"language-plaintext highlighter-rouge\"><div class=\"highlight\"><pre class=\"highlight\"><code>conda activate myenv</code></pre></div></div><p>If you now run <code class=\"language-plaintext highlighter-rouge\">python</code>, youll see that you are in your freshly created virtual environment.  To deactivate the environment you can type <code class=\"language-plaintext highlighter-rouge\">conda deactivate</code> and you can list all the available environments on your machine with <code class=\"language-plaintext highlighter-rouge\">conda env list</code>.  To remove an enviroment you can type:</p><div class=\"language-plaintext highlighter-rouge\"><div class=\"highlight\"><pre class=\"highlight\"><code>conda env remove -n myenv</code></pre></div></div><p>After creating your environment, you can install the packages you need besides the one already installed by conda. \n",
      "1723 162\n",
      "If you want a specific Python version that is not your current version, you can type:</p><div class=\"language-plaintext highlighter-rouge\"><div class=\"highlight\"><pre class=\"highlight\"><code>conda create -n myenv python=3.6</code></pre></div></div><p>The environment is then stored in the <code class=\"language-plaintext highlighter-rouge\">envs</code> folder in your Anaconda directory.  After you have created the enviroment, you can activate it by typing:</p><div class=\"language-plaintext highlighter-rouge\"><div class=\"highlight\"><pre class=\"highlight\"><code>conda activate myenv</code></pre></div></div><p>If you now run <code class=\"language-plaintext highlighter-rouge\">python</code>, youll see that you are in your freshly created virtual environment.  To deactivate the environment you can type <code class=\"language-plaintext highlighter-rouge\">conda deactivate</code> and you can list all the available environments on your machine with <code class=\"language-plaintext highlighter-rouge\">conda env list</code>.  To remove an enviroment you can type:</p><div class=\"language-plaintext highlighter-rouge\"><div class=\"highlight\"><pre class=\"highlight\"><code>conda env remove -n myenv</code></pre></div></div><p>After creating your environment, you can install the packages you need besides the one already installed by conda.  You can find more information on how to manage conda environments in this <a href=\"https://conda.io/docs/user-guide/tasks/manage-environments.html\">user guide</a>.</p><h1 id=\"add-virtual-environment-to-jupyter-notebook\"><a class=\"anchor\" href=\"#add-virtual-environment-to-jupyter-notebook\" aria-hidden=\"true\"><span class=\"octicon octicon-link\"></span></a>Add Virtual Environment to Jupyter Notebook</h1><p>Jupyter Notebook makes sure that the IPython kernel is available, but you have to manually add a kernel with a different version of Python or a virtual environment. \n",
      "1906 187\n",
      "After you have created the enviroment, you can activate it by typing:</p><div class=\"language-plaintext highlighter-rouge\"><div class=\"highlight\"><pre class=\"highlight\"><code>conda activate myenv</code></pre></div></div><p>If you now run <code class=\"language-plaintext highlighter-rouge\">python</code>, youll see that you are in your freshly created virtual environment.  To deactivate the environment you can type <code class=\"language-plaintext highlighter-rouge\">conda deactivate</code> and you can list all the available environments on your machine with <code class=\"language-plaintext highlighter-rouge\">conda env list</code>.  To remove an enviroment you can type:</p><div class=\"language-plaintext highlighter-rouge\"><div class=\"highlight\"><pre class=\"highlight\"><code>conda env remove -n myenv</code></pre></div></div><p>After creating your environment, you can install the packages you need besides the one already installed by conda.  You can find more information on how to manage conda environments in this <a href=\"https://conda.io/docs/user-guide/tasks/manage-environments.html\">user guide</a>.</p><h1 id=\"add-virtual-environment-to-jupyter-notebook\"><a class=\"anchor\" href=\"#add-virtual-environment-to-jupyter-notebook\" aria-hidden=\"true\"><span class=\"octicon octicon-link\"></span></a>Add Virtual Environment to Jupyter Notebook</h1><p>Jupyter Notebook makes sure that the IPython kernel is available, but you have to manually add a kernel with a different version of Python or a virtual environment.  First, make sure your environment is activated with <code class=\"language-plaintext highlighter-rouge\">conda activate myenv</code>. \n",
      "1651 162\n",
      "To deactivate the environment you can type <code class=\"language-plaintext highlighter-rouge\">conda deactivate</code> and you can list all the available environments on your machine with <code class=\"language-plaintext highlighter-rouge\">conda env list</code>.  To remove an enviroment you can type:</p><div class=\"language-plaintext highlighter-rouge\"><div class=\"highlight\"><pre class=\"highlight\"><code>conda env remove -n myenv</code></pre></div></div><p>After creating your environment, you can install the packages you need besides the one already installed by conda.  You can find more information on how to manage conda environments in this <a href=\"https://conda.io/docs/user-guide/tasks/manage-environments.html\">user guide</a>.</p><h1 id=\"add-virtual-environment-to-jupyter-notebook\"><a class=\"anchor\" href=\"#add-virtual-environment-to-jupyter-notebook\" aria-hidden=\"true\"><span class=\"octicon octicon-link\"></span></a>Add Virtual Environment to Jupyter Notebook</h1><p>Jupyter Notebook makes sure that the IPython kernel is available, but you have to manually add a kernel with a different version of Python or a virtual environment.  First, make sure your environment is activated with <code class=\"language-plaintext highlighter-rouge\">conda activate myenv</code>.  Next, install <a href=\"https://github.com/ipython/ipykernel\">ipykernel</a> which provides the IPython kernel for Jupyter:</p><div class=\"language-plaintext highlighter-rouge\"><div class=\"highlight\"><pre class=\"highlight\"><code>pip install --user ipykernel</code></pre></div></div><p>Next you can add your virtual environment to Jupyter by typing:</p><div class=\"language-plaintext highlighter-rouge\"><div class=\"highlight\"><pre class=\"highlight\"><code>python -m ipykernel install --user --name=myenv</code></pre></div></div><p>This should print the following:</p><div class=\"language-plaintext highlighter-rouge\"><div class=\"highlight\"><pre class=\"highlight\"><code>Installed kernelspec myenv in /home/user/.local/share/jupyter/kernels/myenv</code></pre></div></div><p>In this folder you will find a <code class=\"language-plaintext highlighter-rouge\">kernel.json</code> file which should look the following way if you did everything correctly:</p><div class=\"language-plaintext highlighter-rouge\"><div class=\"highlight\"><pre class=\"highlight\"><code>{ \"argv\": [  \"/home/user/anaconda3/envs/myenv/bin/python\",  \"-m\",  \"ipykernel_launcher\",  \"-f\",  \"{connection_file}\" ], \"display_name\": \"myenv\", \"language\": \"python\"}</code></pre></div></div><p>Thats all to it! \n",
      "2538 216\n",
      "To remove an enviroment you can type:</p><div class=\"language-plaintext highlighter-rouge\"><div class=\"highlight\"><pre class=\"highlight\"><code>conda env remove -n myenv</code></pre></div></div><p>After creating your environment, you can install the packages you need besides the one already installed by conda.  You can find more information on how to manage conda environments in this <a href=\"https://conda.io/docs/user-guide/tasks/manage-environments.html\">user guide</a>.</p><h1 id=\"add-virtual-environment-to-jupyter-notebook\"><a class=\"anchor\" href=\"#add-virtual-environment-to-jupyter-notebook\" aria-hidden=\"true\"><span class=\"octicon octicon-link\"></span></a>Add Virtual Environment to Jupyter Notebook</h1><p>Jupyter Notebook makes sure that the IPython kernel is available, but you have to manually add a kernel with a different version of Python or a virtual environment.  First, make sure your environment is activated with <code class=\"language-plaintext highlighter-rouge\">conda activate myenv</code>.  Next, install <a href=\"https://github.com/ipython/ipykernel\">ipykernel</a> which provides the IPython kernel for Jupyter:</p><div class=\"language-plaintext highlighter-rouge\"><div class=\"highlight\"><pre class=\"highlight\"><code>pip install --user ipykernel</code></pre></div></div><p>Next you can add your virtual environment to Jupyter by typing:</p><div class=\"language-plaintext highlighter-rouge\"><div class=\"highlight\"><pre class=\"highlight\"><code>python -m ipykernel install --user --name=myenv</code></pre></div></div><p>This should print the following:</p><div class=\"language-plaintext highlighter-rouge\"><div class=\"highlight\"><pre class=\"highlight\"><code>Installed kernelspec myenv in /home/user/.local/share/jupyter/kernels/myenv</code></pre></div></div><p>In this folder you will find a <code class=\"language-plaintext highlighter-rouge\">kernel.json</code> file which should look the following way if you did everything correctly:</p><div class=\"language-plaintext highlighter-rouge\"><div class=\"highlight\"><pre class=\"highlight\"><code>{ \"argv\": [  \"/home/user/anaconda3/envs/myenv/bin/python\",  \"-m\",  \"ipykernel_launcher\",  \"-f\",  \"{connection_file}\" ], \"display_name\": \"myenv\", \"language\": \"python\"}</code></pre></div></div><p>Thats all to it!  Now you are able to choose the conda environment as a kernel in Jupyter. \n",
      "2350 202\n",
      "You can find more information on how to manage conda environments in this <a href=\"https://conda.io/docs/user-guide/tasks/manage-environments.html\">user guide</a>.</p><h1 id=\"add-virtual-environment-to-jupyter-notebook\"><a class=\"anchor\" href=\"#add-virtual-environment-to-jupyter-notebook\" aria-hidden=\"true\"><span class=\"octicon octicon-link\"></span></a>Add Virtual Environment to Jupyter Notebook</h1><p>Jupyter Notebook makes sure that the IPython kernel is available, but you have to manually add a kernel with a different version of Python or a virtual environment.  First, make sure your environment is activated with <code class=\"language-plaintext highlighter-rouge\">conda activate myenv</code>.  Next, install <a href=\"https://github.com/ipython/ipykernel\">ipykernel</a> which provides the IPython kernel for Jupyter:</p><div class=\"language-plaintext highlighter-rouge\"><div class=\"highlight\"><pre class=\"highlight\"><code>pip install --user ipykernel</code></pre></div></div><p>Next you can add your virtual environment to Jupyter by typing:</p><div class=\"language-plaintext highlighter-rouge\"><div class=\"highlight\"><pre class=\"highlight\"><code>python -m ipykernel install --user --name=myenv</code></pre></div></div><p>This should print the following:</p><div class=\"language-plaintext highlighter-rouge\"><div class=\"highlight\"><pre class=\"highlight\"><code>Installed kernelspec myenv in /home/user/.local/share/jupyter/kernels/myenv</code></pre></div></div><p>In this folder you will find a <code class=\"language-plaintext highlighter-rouge\">kernel.json</code> file which should look the following way if you did everything correctly:</p><div class=\"language-plaintext highlighter-rouge\"><div class=\"highlight\"><pre class=\"highlight\"><code>{ \"argv\": [  \"/home/user/anaconda3/envs/myenv/bin/python\",  \"-m\",  \"ipykernel_launcher\",  \"-f\",  \"{connection_file}\" ], \"display_name\": \"myenv\", \"language\": \"python\"}</code></pre></div></div><p>Thats all to it!  Now you are able to choose the conda environment as a kernel in Jupyter.  Here is what that would look like in <a href=\"https://jupyterlab.readthedocs.io/en/stable/\">JupyterLab</a>:</p><p><img src=\"/assets/jupyter-virtual-envs_files/jupyter_venv.png\" alt=\"Jupyter Virtual Environment\"></p><h1 id=\"remove-virtual-environment-from-jupyter-notebook\"><a class=\"anchor\" href=\"#remove-virtual-environment-from-jupyter-notebook\" aria-hidden=\"true\"><span class=\"octicon octicon-link\"></span></a>Remove Virtual Environment from Jupyter Notebook</h1><p>After you deleted your virtual environment, youll want to remove it also from Jupyter. \n",
      "2595 208\n",
      "First, make sure your environment is activated with <code class=\"language-plaintext highlighter-rouge\">conda activate myenv</code>.  Next, install <a href=\"https://github.com/ipython/ipykernel\">ipykernel</a> which provides the IPython kernel for Jupyter:</p><div class=\"language-plaintext highlighter-rouge\"><div class=\"highlight\"><pre class=\"highlight\"><code>pip install --user ipykernel</code></pre></div></div><p>Next you can add your virtual environment to Jupyter by typing:</p><div class=\"language-plaintext highlighter-rouge\"><div class=\"highlight\"><pre class=\"highlight\"><code>python -m ipykernel install --user --name=myenv</code></pre></div></div><p>This should print the following:</p><div class=\"language-plaintext highlighter-rouge\"><div class=\"highlight\"><pre class=\"highlight\"><code>Installed kernelspec myenv in /home/user/.local/share/jupyter/kernels/myenv</code></pre></div></div><p>In this folder you will find a <code class=\"language-plaintext highlighter-rouge\">kernel.json</code> file which should look the following way if you did everything correctly:</p><div class=\"language-plaintext highlighter-rouge\"><div class=\"highlight\"><pre class=\"highlight\"><code>{ \"argv\": [  \"/home/user/anaconda3/envs/myenv/bin/python\",  \"-m\",  \"ipykernel_launcher\",  \"-f\",  \"{connection_file}\" ], \"display_name\": \"myenv\", \"language\": \"python\"}</code></pre></div></div><p>Thats all to it!  Now you are able to choose the conda environment as a kernel in Jupyter.  Here is what that would look like in <a href=\"https://jupyterlab.readthedocs.io/en/stable/\">JupyterLab</a>:</p><p><img src=\"/assets/jupyter-virtual-envs_files/jupyter_venv.png\" alt=\"Jupyter Virtual Environment\"></p><h1 id=\"remove-virtual-environment-from-jupyter-notebook\"><a class=\"anchor\" href=\"#remove-virtual-environment-from-jupyter-notebook\" aria-hidden=\"true\"><span class=\"octicon octicon-link\"></span></a>Remove Virtual Environment from Jupyter Notebook</h1><p>After you deleted your virtual environment, youll want to remove it also from Jupyter.  Lets first see which kernels are available. \n",
      "2068 161\n",
      "Next, install <a href=\"https://github.com/ipython/ipykernel\">ipykernel</a> which provides the IPython kernel for Jupyter:</p><div class=\"language-plaintext highlighter-rouge\"><div class=\"highlight\"><pre class=\"highlight\"><code>pip install --user ipykernel</code></pre></div></div><p>Next you can add your virtual environment to Jupyter by typing:</p><div class=\"language-plaintext highlighter-rouge\"><div class=\"highlight\"><pre class=\"highlight\"><code>python -m ipykernel install --user --name=myenv</code></pre></div></div><p>This should print the following:</p><div class=\"language-plaintext highlighter-rouge\"><div class=\"highlight\"><pre class=\"highlight\"><code>Installed kernelspec myenv in /home/user/.local/share/jupyter/kernels/myenv</code></pre></div></div><p>In this folder you will find a <code class=\"language-plaintext highlighter-rouge\">kernel.json</code> file which should look the following way if you did everything correctly:</p><div class=\"language-plaintext highlighter-rouge\"><div class=\"highlight\"><pre class=\"highlight\"><code>{ \"argv\": [  \"/home/user/anaconda3/envs/myenv/bin/python\",  \"-m\",  \"ipykernel_launcher\",  \"-f\",  \"{connection_file}\" ], \"display_name\": \"myenv\", \"language\": \"python\"}</code></pre></div></div><p>Thats all to it!  Now you are able to choose the conda environment as a kernel in Jupyter.  Here is what that would look like in <a href=\"https://jupyterlab.readthedocs.io/en/stable/\">JupyterLab</a>:</p><p><img src=\"/assets/jupyter-virtual-envs_files/jupyter_venv.png\" alt=\"Jupyter Virtual Environment\"></p><h1 id=\"remove-virtual-environment-from-jupyter-notebook\"><a class=\"anchor\" href=\"#remove-virtual-environment-from-jupyter-notebook\" aria-hidden=\"true\"><span class=\"octicon octicon-link\"></span></a>Remove Virtual Environment from Jupyter Notebook</h1><p>After you deleted your virtual environment, youll want to remove it also from Jupyter.  Lets first see which kernels are available.  You can list them with:</p><div class=\"language-plaintext highlighter-rouge\"><div class=\"highlight\"><pre class=\"highlight\"><code>jupyter kernelspec list</code></pre></div></div><p>This should return something like:</p><div class=\"language-plaintext highlighter-rouge\"><div class=\"highlight\"><pre class=\"highlight\"><code>Available kernels:  myenv      /home/user/.local/share/jupyter/kernels/myenv  python3    /usr/local/share/jupyter/kernels/python3</code></pre></div></div><p>Now, to uninstall the kernel, you can type:</p><div class=\"language-plaintext highlighter-rouge\"><div class=\"highlight\"><pre class=\"highlight\"><code>jupyter kernelspec uninstall myenv</code></pre></div></div></div><div class=\"related\">  <h2>Related Posts</h2>  <ul class=\"related-posts\">        <li>      <h3>                                    <a href=\"/blog/python-venv/?ref=jupyter-virtual-envs\">          Virtual Environments in Python with venv<br>          <small>20 Jan 2023</small>        </a>              </h3>    </li>        <li>      <h3>                                                                                                                                                                                                                                                                                                <a href=\"/blog/jupyter-notebook-server/?ref=jupyter-virtual-envs\">          Installing and Running Jupyter on a Server<br>          <small>12 Feb 2019</small>        </a>              </h3>    </li>        <li>      <h3>                                                                                                                                                                                <a href=\"/blog/jupyter-systemd/?ref=jupyter-virtual-envs\">          Manage Jupyter Notebook and JupyterLab with Systemd<br>          <small>10 Nov 2020</small>        </a>              </h3>    </li>      </ul></div>      </div>    </div>    <label for=\"sidebar-checkbox\" class=\"sidebar-toggle\"></label>    <script>      (function(document) {        var toggle = document.querySelector('.sidebar-toggle');        var sidebar = document.querySelector('#sidebar');        var checkbox = document.querySelector('#sidebar-checkbox');        document.addEventListener('click', function(e) {          var target = e.target;          if(!checkbox.checked ||             sidebar.contains(target) ||             (target === checkbox || target === toggle)) return;          checkbox.checked = false;        }, false);      })(document);    </script>  </body></html>\n",
      "4503 289\n",
      "Now you are able to choose the conda environment as a kernel in Jupyter.  Here is what that would look like in <a href=\"https://jupyterlab.readthedocs.io/en/stable/\">JupyterLab</a>:</p><p><img src=\"/assets/jupyter-virtual-envs_files/jupyter_venv.png\" alt=\"Jupyter Virtual Environment\"></p><h1 id=\"remove-virtual-environment-from-jupyter-notebook\"><a class=\"anchor\" href=\"#remove-virtual-environment-from-jupyter-notebook\" aria-hidden=\"true\"><span class=\"octicon octicon-link\"></span></a>Remove Virtual Environment from Jupyter Notebook</h1><p>After you deleted your virtual environment, youll want to remove it also from Jupyter.  Lets first see which kernels are available.  You can list them with:</p><div class=\"language-plaintext highlighter-rouge\"><div class=\"highlight\"><pre class=\"highlight\"><code>jupyter kernelspec list</code></pre></div></div><p>This should return something like:</p><div class=\"language-plaintext highlighter-rouge\"><div class=\"highlight\"><pre class=\"highlight\"><code>Available kernels:  myenv      /home/user/.local/share/jupyter/kernels/myenv  python3    /usr/local/share/jupyter/kernels/python3</code></pre></div></div><p>Now, to uninstall the kernel, you can type:</p><div class=\"language-plaintext highlighter-rouge\"><div class=\"highlight\"><pre class=\"highlight\"><code>jupyter kernelspec uninstall myenv</code></pre></div></div></div><div class=\"related\">  <h2>Related Posts</h2>  <ul class=\"related-posts\">        <li>      <h3>                                    <a href=\"/blog/python-venv/?ref=jupyter-virtual-envs\">          Virtual Environments in Python with venv<br>          <small>20 Jan 2023</small>        </a>              </h3>    </li>        <li>      <h3>                                                                                                                                                                                                                                                                                                <a href=\"/blog/jupyter-notebook-server/?ref=jupyter-virtual-envs\">          Installing and Running Jupyter on a Server<br>          <small>12 Feb 2019</small>        </a>              </h3>    </li>        <li>      <h3>                                                                                                                                                                                <a href=\"/blog/jupyter-systemd/?ref=jupyter-virtual-envs\">          Manage Jupyter Notebook and JupyterLab with Systemd<br>          <small>10 Nov 2020</small>        </a>              </h3>    </li>      </ul></div>      </div>    </div>    <label for=\"sidebar-checkbox\" class=\"sidebar-toggle\"></label>    <script>      (function(document) {        var toggle = document.querySelector('.sidebar-toggle');        var sidebar = document.querySelector('#sidebar');        var checkbox = document.querySelector('#sidebar-checkbox');        document.addEventListener('click', function(e) {          var target = e.target;          if(!checkbox.checked ||             sidebar.contains(target) ||             (target === checkbox || target === toggle)) return;          checkbox.checked = false;        }, false);      })(document);    </script>  </body></html>\n",
      "3243 200\n",
      "Here is what that would look like in <a href=\"https://jupyterlab.readthedocs.io/en/stable/\">JupyterLab</a>:</p><p><img src=\"/assets/jupyter-virtual-envs_files/jupyter_venv.png\" alt=\"Jupyter Virtual Environment\"></p><h1 id=\"remove-virtual-environment-from-jupyter-notebook\"><a class=\"anchor\" href=\"#remove-virtual-environment-from-jupyter-notebook\" aria-hidden=\"true\"><span class=\"octicon octicon-link\"></span></a>Remove Virtual Environment from Jupyter Notebook</h1><p>After you deleted your virtual environment, youll want to remove it also from Jupyter.  Lets first see which kernels are available.  You can list them with:</p><div class=\"language-plaintext highlighter-rouge\"><div class=\"highlight\"><pre class=\"highlight\"><code>jupyter kernelspec list</code></pre></div></div><p>This should return something like:</p><div class=\"language-plaintext highlighter-rouge\"><div class=\"highlight\"><pre class=\"highlight\"><code>Available kernels:  myenv      /home/user/.local/share/jupyter/kernels/myenv  python3    /usr/local/share/jupyter/kernels/python3</code></pre></div></div><p>Now, to uninstall the kernel, you can type:</p><div class=\"language-plaintext highlighter-rouge\"><div class=\"highlight\"><pre class=\"highlight\"><code>jupyter kernelspec uninstall myenv</code></pre></div></div></div><div class=\"related\">  <h2>Related Posts</h2>  <ul class=\"related-posts\">        <li>      <h3>                                    <a href=\"/blog/python-venv/?ref=jupyter-virtual-envs\">          Virtual Environments in Python with venv<br>          <small>20 Jan 2023</small>        </a>              </h3>    </li>        <li>      <h3>                                                                                                                                                                                                                                                                                                <a href=\"/blog/jupyter-notebook-server/?ref=jupyter-virtual-envs\">          Installing and Running Jupyter on a Server<br>          <small>12 Feb 2019</small>        </a>              </h3>    </li>        <li>      <h3>                                                                                                                                                                                <a href=\"/blog/jupyter-systemd/?ref=jupyter-virtual-envs\">          Manage Jupyter Notebook and JupyterLab with Systemd<br>          <small>10 Nov 2020</small>        </a>              </h3>    </li>      </ul></div>      </div>    </div>    <label for=\"sidebar-checkbox\" class=\"sidebar-toggle\"></label>    <script>      (function(document) {        var toggle = document.querySelector('.sidebar-toggle');        var sidebar = document.querySelector('#sidebar');        var checkbox = document.querySelector('#sidebar-checkbox');        document.addEventListener('click', function(e) {          var target = e.target;          if(!checkbox.checked ||             sidebar.contains(target) ||             (target === checkbox || target === toggle)) return;          checkbox.checked = false;        }, false);      })(document);    </script>  </body></html>\n",
      "3169 186\n"
     ]
    }
   ],
   "source": [
    "for t in text_chunks:\n",
    "    print(t)\n",
    "    print(len(t), len(t.split()))"
   ]
  },
  {
   "cell_type": "code",
   "execution_count": null,
   "metadata": {},
   "outputs": [],
   "source": []
  }
 ],
 "metadata": {
  "kernelspec": {
   "display_name": ".venv",
   "language": "python",
   "name": "python3"
  },
  "language_info": {
   "codemirror_mode": {
    "name": "ipython",
    "version": 3
   },
   "file_extension": ".py",
   "mimetype": "text/x-python",
   "name": "python",
   "nbconvert_exporter": "python",
   "pygments_lexer": "ipython3",
   "version": "3.11.7"
  }
 },
 "nbformat": 4,
 "nbformat_minor": 2
}
