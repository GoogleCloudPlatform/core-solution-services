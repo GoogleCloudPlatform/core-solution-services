{
 "cells": [
  {
   "cell_type": "code",
   "execution_count": 1,
   "id": "44c9db81",
   "metadata": {},
   "outputs": [],
   "source": [
    "PROJECT_ID = \"lramsey-dev\"\n",
    "REGION = \"us-central1\"\n",
    "import os\n",
    "os.environ[\"PROJECT_ID\"] = PROJECT_ID"
   ]
  },
  {
   "cell_type": "code",
   "execution_count": 2,
   "id": "249e427d",
   "metadata": {},
   "outputs": [],
   "source": [
    "#! gcloud auth login"
   ]
  },
  {
   "cell_type": "code",
   "execution_count": 3,
   "id": "6485508d",
   "metadata": {},
   "outputs": [],
   "source": [
    "import sys\n",
    "sys.path.append(\"../../common/src\")\n",
    "sys.path.append(\"../src\")"
   ]
  },
  {
   "cell_type": "code",
   "execution_count": 4,
   "id": "08365901",
   "metadata": {},
   "outputs": [
    {
     "name": "stdout",
     "output_type": "stream",
     "text": [
      "INFO: [config/config.py:57 - <module>()] Namespace File not found, setting job namespace as default\n",
      "INFO: [config/config.py:107 - <module>()] ENABLE_GOOGLE_LLM = True\n",
      "INFO: [config/config.py:108 - <module>()] ENABLE_OPENAI_LLM = True\n",
      "INFO: [config/config.py:109 - <module>()] ENABLE_COHERE_LLM = True\n",
      "INFO: [config/config.py:110 - <module>()] ENABLE_GOOGLE_MODEL_GARDEN = True\n",
      "INFO: [config/config.py:111 - <module>()] ENABLE_TRUSS_LLAMA2 = True\n",
      "INFO: [config/vector_store_config.py:40 - <module>()] Default vector store = [matching_engine]\n",
      "INFO: [config/vector_store_config.py:49 - <module>()] PG_HOST = [localhost]\n",
      "INFO: [config/vector_store_config.py:50 - <module>()] PG_DBNAME = [pgvector]\n",
      "ERROR: [config/vector_store_config.py:77 - <module>()] Cannot connect to pgvector instance at localhost: (psycopg2.OperationalError) connection to server at \"localhost\" (::1), port 5432 failed: FATAL:  database \"pgvector\" does not exist\n",
      "\n",
      "(Background on this error at: https://sqlalche.me/e/14/e3q8)\n",
      "INFO: [utils/text_helper.py:43 - <module>()] using default spacy model\n"
     ]
    }
   ],
   "source": [
    "import tempfile\n",
    "import os\n",
    "from typing import List, Optional, Tuple, Dict\n",
    "from common.utils.logging_handler import Logger\n",
    "from common.models import (UserQuery, QueryResult, QueryEngine, QueryDocument,\n",
    "                           QueryReference, QueryDocumentChunk, BatchJobModel)\n",
    "from common.utils.errors import (ResourceNotFoundException,\n",
    "                                 ValidationError)\n",
    "from common.utils.http_exceptions import InternalServerError\n",
    "from utils.errors import NoDocumentsIndexedException\n",
    "from google.cloud import storage\n",
    "from google.cloud import storage\n",
    "from services import llm_generate, embeddings\n",
    "from services.query import query_prompts\n",
    "from services.query.vector_store import VectorStore\n",
    "from services.query.data_source import DataSource\n",
    "    \n",
    "from config import (PROJECT_ID, DEFAULT_QUERY_CHAT_MODEL,\n",
    "                        DEFAULT_QUERY_EMBEDDING_MODEL)\n",
    "import spacy"
   ]
  },
  {
   "cell_type": "code",
   "execution_count": 5,
   "id": "98bad6b3-82ab-4436-80f9-f5940e913164",
   "metadata": {},
   "outputs": [],
   "source": [
    "# do this once per vm environment\n",
    "#!python -m spacy download en_core_web_sm\n",
    "\n",
    "#nlp = spacy.load(\"en_core_web_sm\")"
   ]
  },
  {
   "cell_type": "code",
   "execution_count": 6,
   "id": "4dd71700",
   "metadata": {},
   "outputs": [],
   "source": [
    "query_engine = \"lukman-test-vs\"\n",
    "doc_url = \"gs://lramsey-dev-mira-demo-docs\"\n",
    "user_id = \"epKVwPZeIBz1rrqcDm1B\"\n",
    "is_public=True\n",
    "storage_client = storage.Client(project=PROJECT_ID)\n",
    "query_description=\"test vertex search\""
   ]
  },
  {
   "cell_type": "code",
   "execution_count": 7,
   "id": "c1c39234-2751-4589-adf8-67b03370af7e",
   "metadata": {},
   "outputs": [],
   "source": [
    "#query_engine = \"lukman-test-html\"\n",
    "#doc_url = \"https://health.ny.gov/health_care/medicaid/rates/manual/apg_provider_manual_december.htm\"\n",
    "#user_id = \"epKVwPZeIBz1rrqcDm1B\"\n",
    "#query_description=\"test depth limit\"\n",
    "#storage_client = storage.Client(project=PROJECT_ID)"
   ]
  },
  {
   "cell_type": "code",
   "execution_count": 8,
   "id": "53ab43bd-8cca-4009-a1ea-9bac3dbeb8f0",
   "metadata": {},
   "outputs": [],
   "source": [
    "from common.models.llm_query import QE_TYPE_VERTEX_SEARCH, QE_TYPE_LLM_SERVICE"
   ]
  },
  {
   "cell_type": "code",
   "execution_count": 9,
   "id": "8632d1ef",
   "metadata": {},
   "outputs": [
    {
     "data": {
      "text/plain": [
       "<common.models.llm_query.QueryEngine at 0x130e16460>"
      ]
     },
     "execution_count": 9,
     "metadata": {},
     "output_type": "execute_result"
    }
   ],
   "source": [
    "# create q_engine\n",
    "params = {\"depth_limit\": 1}\n",
    "query_engine_type = QE_TYPE_VERTEX_SEARCH\n",
    "embedding_type = DEFAULT_QUERY_EMBEDDING_MODEL\n",
    "llm_type = DEFAULT_QUERY_EMBEDDING_MODEL\n",
    "vector_store_type = \"langchain_pgvector\"\n",
    "q_engine = QueryEngine(name=query_engine,\n",
    "                     created_by=user_id,\n",
    "                     query_engine_type=QE_TYPE_VERTEX_SEARCH,\n",
    "                     llm_type=llm_type,\n",
    "                     description=query_description,\n",
    "                     embedding_type=embedding_type,\n",
    "                     vector_store=vector_store_type,\n",
    "                     params=params,\n",
    "                     doc_url=doc_url)\n",
    "q_engine.save()"
   ]
  },
  {
   "cell_type": "code",
   "execution_count": 10,
   "id": "2388b0ca-6da9-48d2-b14b-93e0e1ac48fb",
   "metadata": {},
   "outputs": [],
   "source": [
    "from google.api_core.client_options import ClientOptions\n",
    "from google.cloud import discoveryengine_v1 as discoveryengine\n"
   ]
  },
  {
   "cell_type": "code",
   "execution_count": 11,
   "id": "90b441fb-8fa3-42eb-8a44-e7af8300b1c0",
   "metadata": {},
   "outputs": [],
   "source": [
    "#!pip install google-cloud-discoveryengine==0.11.1"
   ]
  },
  {
   "cell_type": "code",
   "execution_count": 12,
   "id": "fced373a-9ff9-42b0-abc5-7767e268462c",
   "metadata": {},
   "outputs": [],
   "source": [
    "from services.query.vertex_search import create_client, import_documents_gcs"
   ]
  },
  {
   "cell_type": "code",
   "execution_count": 13,
   "id": "20a17da4-6bad-44c5-8569-67ea377a5915",
   "metadata": {},
   "outputs": [],
   "source": [
    "location = \"global\"\n",
    "data_store_id = q_engine.name"
   ]
  },
  {
   "cell_type": "code",
   "execution_count": 14,
   "id": "b886e751-cb82-48e1-8ded-14a9b6e3b20c",
   "metadata": {},
   "outputs": [],
   "source": [
    "client,parent = create_client(PROJECT_ID, location, data_store_id)"
   ]
  },
  {
   "cell_type": "code",
   "execution_count": 15,
   "id": "1989a0ac-bad3-4e16-839c-c6f9d4af192d",
   "metadata": {},
   "outputs": [
    {
     "ename": "NotFound",
     "evalue": "404 Data store projects/944045413892/locations/global/collections/default_collection/dataStores/lukman-test-vs not found.",
     "output_type": "error",
     "traceback": [
      "\u001b[0;31m---------------------------------------------------------------------------\u001b[0m",
      "\u001b[0;31m_InactiveRpcError\u001b[0m                         Traceback (most recent call last)",
      "File \u001b[0;32m~/work/ailp/lukmanr-gps-core-solution-services/components/llm_service/notebooks/.venv/lib/python3.9/site-packages/google/api_core/grpc_helpers.py:72\u001b[0m, in \u001b[0;36m_wrap_unary_errors.<locals>.error_remapped_callable\u001b[0;34m(*args, **kwargs)\u001b[0m\n\u001b[1;32m     71\u001b[0m \u001b[38;5;28;01mtry\u001b[39;00m:\n\u001b[0;32m---> 72\u001b[0m     \u001b[38;5;28;01mreturn\u001b[39;00m \u001b[43mcallable_\u001b[49m\u001b[43m(\u001b[49m\u001b[38;5;241;43m*\u001b[39;49m\u001b[43margs\u001b[49m\u001b[43m,\u001b[49m\u001b[43m \u001b[49m\u001b[38;5;241;43m*\u001b[39;49m\u001b[38;5;241;43m*\u001b[39;49m\u001b[43mkwargs\u001b[49m\u001b[43m)\u001b[49m\n\u001b[1;32m     73\u001b[0m \u001b[38;5;28;01mexcept\u001b[39;00m grpc\u001b[38;5;241m.\u001b[39mRpcError \u001b[38;5;28;01mas\u001b[39;00m exc:\n",
      "File \u001b[0;32m~/work/ailp/lukmanr-gps-core-solution-services/components/llm_service/notebooks/.venv/lib/python3.9/site-packages/grpc/_channel.py:1160\u001b[0m, in \u001b[0;36m_UnaryUnaryMultiCallable.__call__\u001b[0;34m(self, request, timeout, metadata, credentials, wait_for_ready, compression)\u001b[0m\n\u001b[1;32m   1154\u001b[0m (\n\u001b[1;32m   1155\u001b[0m     state,\n\u001b[1;32m   1156\u001b[0m     call,\n\u001b[1;32m   1157\u001b[0m ) \u001b[38;5;241m=\u001b[39m \u001b[38;5;28mself\u001b[39m\u001b[38;5;241m.\u001b[39m_blocking(\n\u001b[1;32m   1158\u001b[0m     request, timeout, metadata, credentials, wait_for_ready, compression\n\u001b[1;32m   1159\u001b[0m )\n\u001b[0;32m-> 1160\u001b[0m \u001b[38;5;28;01mreturn\u001b[39;00m \u001b[43m_end_unary_response_blocking\u001b[49m\u001b[43m(\u001b[49m\u001b[43mstate\u001b[49m\u001b[43m,\u001b[49m\u001b[43m \u001b[49m\u001b[43mcall\u001b[49m\u001b[43m,\u001b[49m\u001b[43m \u001b[49m\u001b[38;5;28;43;01mFalse\u001b[39;49;00m\u001b[43m,\u001b[49m\u001b[43m \u001b[49m\u001b[38;5;28;43;01mNone\u001b[39;49;00m\u001b[43m)\u001b[49m\n",
      "File \u001b[0;32m~/work/ailp/lukmanr-gps-core-solution-services/components/llm_service/notebooks/.venv/lib/python3.9/site-packages/grpc/_channel.py:1003\u001b[0m, in \u001b[0;36m_end_unary_response_blocking\u001b[0;34m(state, call, with_call, deadline)\u001b[0m\n\u001b[1;32m   1002\u001b[0m \u001b[38;5;28;01melse\u001b[39;00m:\n\u001b[0;32m-> 1003\u001b[0m     \u001b[38;5;28;01mraise\u001b[39;00m _InactiveRpcError(state)\n",
      "\u001b[0;31m_InactiveRpcError\u001b[0m: <_InactiveRpcError of RPC that terminated with:\n\tstatus = StatusCode.NOT_FOUND\n\tdetails = \"Data store projects/944045413892/locations/global/collections/default_collection/dataStores/lukman-test-vs not found.\"\n\tdebug_error_string = \"UNKNOWN:Error received from peer ipv4:142.250.64.74:443 {grpc_message:\"Data store projects/944045413892/locations/global/collections/default_collection/dataStores/lukman-test-vs not found.\", grpc_status:5, created_time:\"2024-02-11T09:32:02.332795-05:00\"}\"\n>",
      "\nThe above exception was the direct cause of the following exception:\n",
      "\u001b[0;31mNotFound\u001b[0m                                  Traceback (most recent call last)",
      "Cell \u001b[0;32mIn[15], line 1\u001b[0m\n\u001b[0;32m----> 1\u001b[0m operation \u001b[38;5;241m=\u001b[39m \u001b[43mimport_documents_gcs\u001b[49m\u001b[43m(\u001b[49m\u001b[43mdoc_url\u001b[49m\u001b[43m,\u001b[49m\u001b[43m \u001b[49m\u001b[43mclient\u001b[49m\u001b[43m,\u001b[49m\u001b[43m \u001b[49m\u001b[43mparent\u001b[49m\u001b[43m)\u001b[49m\n",
      "File \u001b[0;32m~/work/ailp/lukmanr-gps-core-solution-services/components/llm_service/notebooks/../src/services/query/vertex_search.py:212\u001b[0m, in \u001b[0;36mimport_documents_gcs\u001b[0;34m(gcs_uri, client, parent)\u001b[0m\n\u001b[1;32m    202\u001b[0m request \u001b[38;5;241m=\u001b[39m discoveryengine\u001b[38;5;241m.\u001b[39mImportDocumentsRequest(\n\u001b[1;32m    203\u001b[0m     parent\u001b[38;5;241m=\u001b[39mparent,\n\u001b[1;32m    204\u001b[0m     gcs_source\u001b[38;5;241m=\u001b[39mdiscoveryengine\u001b[38;5;241m.\u001b[39mGcsSource(\n\u001b[0;32m   (...)\u001b[0m\n\u001b[1;32m    208\u001b[0m     reconciliation_mode\u001b[38;5;241m=\u001b[39mdiscoveryengine\u001b[38;5;241m.\u001b[39mImportDocumentsRequest\u001b[38;5;241m.\u001b[39mReconciliationMode\u001b[38;5;241m.\u001b[39mINCREMENTAL,\n\u001b[1;32m    209\u001b[0m )\n\u001b[1;32m    211\u001b[0m \u001b[38;5;66;03m# Make the request\u001b[39;00m\n\u001b[0;32m--> 212\u001b[0m operation \u001b[38;5;241m=\u001b[39m \u001b[43mclient\u001b[49m\u001b[38;5;241;43m.\u001b[39;49m\u001b[43mimport_documents\u001b[49m\u001b[43m(\u001b[49m\u001b[43mrequest\u001b[49m\u001b[38;5;241;43m=\u001b[39;49m\u001b[43mrequest\u001b[49m\u001b[43m)\u001b[49m\n\u001b[1;32m    214\u001b[0m \u001b[38;5;28;01mreturn\u001b[39;00m operation\n",
      "File \u001b[0;32m~/work/ailp/lukmanr-gps-core-solution-services/components/llm_service/notebooks/.venv/lib/python3.9/site-packages/google/cloud/discoveryengine_v1/services/document_service/client.py:1148\u001b[0m, in \u001b[0;36mDocumentServiceClient.import_documents\u001b[0;34m(self, request, retry, timeout, metadata)\u001b[0m\n\u001b[1;32m   1143\u001b[0m metadata \u001b[38;5;241m=\u001b[39m \u001b[38;5;28mtuple\u001b[39m(metadata) \u001b[38;5;241m+\u001b[39m (\n\u001b[1;32m   1144\u001b[0m     gapic_v1\u001b[38;5;241m.\u001b[39mrouting_header\u001b[38;5;241m.\u001b[39mto_grpc_metadata(((\u001b[38;5;124m\"\u001b[39m\u001b[38;5;124mparent\u001b[39m\u001b[38;5;124m\"\u001b[39m, request\u001b[38;5;241m.\u001b[39mparent),)),\n\u001b[1;32m   1145\u001b[0m )\n\u001b[1;32m   1147\u001b[0m \u001b[38;5;66;03m# Send the request.\u001b[39;00m\n\u001b[0;32m-> 1148\u001b[0m response \u001b[38;5;241m=\u001b[39m \u001b[43mrpc\u001b[49m\u001b[43m(\u001b[49m\n\u001b[1;32m   1149\u001b[0m \u001b[43m    \u001b[49m\u001b[43mrequest\u001b[49m\u001b[43m,\u001b[49m\n\u001b[1;32m   1150\u001b[0m \u001b[43m    \u001b[49m\u001b[43mretry\u001b[49m\u001b[38;5;241;43m=\u001b[39;49m\u001b[43mretry\u001b[49m\u001b[43m,\u001b[49m\n\u001b[1;32m   1151\u001b[0m \u001b[43m    \u001b[49m\u001b[43mtimeout\u001b[49m\u001b[38;5;241;43m=\u001b[39;49m\u001b[43mtimeout\u001b[49m\u001b[43m,\u001b[49m\n\u001b[1;32m   1152\u001b[0m \u001b[43m    \u001b[49m\u001b[43mmetadata\u001b[49m\u001b[38;5;241;43m=\u001b[39;49m\u001b[43mmetadata\u001b[49m\u001b[43m,\u001b[49m\n\u001b[1;32m   1153\u001b[0m \u001b[43m\u001b[49m\u001b[43m)\u001b[49m\n\u001b[1;32m   1155\u001b[0m \u001b[38;5;66;03m# Wrap the response in an operation future.\u001b[39;00m\n\u001b[1;32m   1156\u001b[0m response \u001b[38;5;241m=\u001b[39m operation\u001b[38;5;241m.\u001b[39mfrom_gapic(\n\u001b[1;32m   1157\u001b[0m     response,\n\u001b[1;32m   1158\u001b[0m     \u001b[38;5;28mself\u001b[39m\u001b[38;5;241m.\u001b[39m_transport\u001b[38;5;241m.\u001b[39moperations_client,\n\u001b[1;32m   1159\u001b[0m     import_config\u001b[38;5;241m.\u001b[39mImportDocumentsResponse,\n\u001b[1;32m   1160\u001b[0m     metadata_type\u001b[38;5;241m=\u001b[39mimport_config\u001b[38;5;241m.\u001b[39mImportDocumentsMetadata,\n\u001b[1;32m   1161\u001b[0m )\n",
      "File \u001b[0;32m~/work/ailp/lukmanr-gps-core-solution-services/components/llm_service/notebooks/.venv/lib/python3.9/site-packages/google/api_core/gapic_v1/method.py:113\u001b[0m, in \u001b[0;36m_GapicCallable.__call__\u001b[0;34m(self, timeout, retry, *args, **kwargs)\u001b[0m\n\u001b[1;32m    110\u001b[0m     metadata\u001b[38;5;241m.\u001b[39mextend(\u001b[38;5;28mself\u001b[39m\u001b[38;5;241m.\u001b[39m_metadata)\n\u001b[1;32m    111\u001b[0m     kwargs[\u001b[38;5;124m\"\u001b[39m\u001b[38;5;124mmetadata\u001b[39m\u001b[38;5;124m\"\u001b[39m] \u001b[38;5;241m=\u001b[39m metadata\n\u001b[0;32m--> 113\u001b[0m \u001b[38;5;28;01mreturn\u001b[39;00m \u001b[43mwrapped_func\u001b[49m\u001b[43m(\u001b[49m\u001b[38;5;241;43m*\u001b[39;49m\u001b[43margs\u001b[49m\u001b[43m,\u001b[49m\u001b[43m \u001b[49m\u001b[38;5;241;43m*\u001b[39;49m\u001b[38;5;241;43m*\u001b[39;49m\u001b[43mkwargs\u001b[49m\u001b[43m)\u001b[49m\n",
      "File \u001b[0;32m~/work/ailp/lukmanr-gps-core-solution-services/components/llm_service/notebooks/.venv/lib/python3.9/site-packages/google/api_core/retry.py:349\u001b[0m, in \u001b[0;36mRetry.__call__.<locals>.retry_wrapped_func\u001b[0;34m(*args, **kwargs)\u001b[0m\n\u001b[1;32m    345\u001b[0m target \u001b[38;5;241m=\u001b[39m functools\u001b[38;5;241m.\u001b[39mpartial(func, \u001b[38;5;241m*\u001b[39margs, \u001b[38;5;241m*\u001b[39m\u001b[38;5;241m*\u001b[39mkwargs)\n\u001b[1;32m    346\u001b[0m sleep_generator \u001b[38;5;241m=\u001b[39m exponential_sleep_generator(\n\u001b[1;32m    347\u001b[0m     \u001b[38;5;28mself\u001b[39m\u001b[38;5;241m.\u001b[39m_initial, \u001b[38;5;28mself\u001b[39m\u001b[38;5;241m.\u001b[39m_maximum, multiplier\u001b[38;5;241m=\u001b[39m\u001b[38;5;28mself\u001b[39m\u001b[38;5;241m.\u001b[39m_multiplier\n\u001b[1;32m    348\u001b[0m )\n\u001b[0;32m--> 349\u001b[0m \u001b[38;5;28;01mreturn\u001b[39;00m \u001b[43mretry_target\u001b[49m\u001b[43m(\u001b[49m\n\u001b[1;32m    350\u001b[0m \u001b[43m    \u001b[49m\u001b[43mtarget\u001b[49m\u001b[43m,\u001b[49m\n\u001b[1;32m    351\u001b[0m \u001b[43m    \u001b[49m\u001b[38;5;28;43mself\u001b[39;49m\u001b[38;5;241;43m.\u001b[39;49m\u001b[43m_predicate\u001b[49m\u001b[43m,\u001b[49m\n\u001b[1;32m    352\u001b[0m \u001b[43m    \u001b[49m\u001b[43msleep_generator\u001b[49m\u001b[43m,\u001b[49m\n\u001b[1;32m    353\u001b[0m \u001b[43m    \u001b[49m\u001b[38;5;28;43mself\u001b[39;49m\u001b[38;5;241;43m.\u001b[39;49m\u001b[43m_timeout\u001b[49m\u001b[43m,\u001b[49m\n\u001b[1;32m    354\u001b[0m \u001b[43m    \u001b[49m\u001b[43mon_error\u001b[49m\u001b[38;5;241;43m=\u001b[39;49m\u001b[43mon_error\u001b[49m\u001b[43m,\u001b[49m\n\u001b[1;32m    355\u001b[0m \u001b[43m\u001b[49m\u001b[43m)\u001b[49m\n",
      "File \u001b[0;32m~/work/ailp/lukmanr-gps-core-solution-services/components/llm_service/notebooks/.venv/lib/python3.9/site-packages/google/api_core/retry.py:191\u001b[0m, in \u001b[0;36mretry_target\u001b[0;34m(target, predicate, sleep_generator, timeout, on_error, **kwargs)\u001b[0m\n\u001b[1;32m    189\u001b[0m \u001b[38;5;28;01mfor\u001b[39;00m sleep \u001b[38;5;129;01min\u001b[39;00m sleep_generator:\n\u001b[1;32m    190\u001b[0m     \u001b[38;5;28;01mtry\u001b[39;00m:\n\u001b[0;32m--> 191\u001b[0m         \u001b[38;5;28;01mreturn\u001b[39;00m \u001b[43mtarget\u001b[49m\u001b[43m(\u001b[49m\u001b[43m)\u001b[49m\n\u001b[1;32m    193\u001b[0m     \u001b[38;5;66;03m# pylint: disable=broad-except\u001b[39;00m\n\u001b[1;32m    194\u001b[0m     \u001b[38;5;66;03m# This function explicitly must deal with broad exceptions.\u001b[39;00m\n\u001b[1;32m    195\u001b[0m     \u001b[38;5;28;01mexcept\u001b[39;00m \u001b[38;5;167;01mException\u001b[39;00m \u001b[38;5;28;01mas\u001b[39;00m exc:\n",
      "File \u001b[0;32m~/work/ailp/lukmanr-gps-core-solution-services/components/llm_service/notebooks/.venv/lib/python3.9/site-packages/google/api_core/timeout.py:120\u001b[0m, in \u001b[0;36mTimeToDeadlineTimeout.__call__.<locals>.func_with_timeout\u001b[0;34m(*args, **kwargs)\u001b[0m\n\u001b[1;32m    117\u001b[0m     \u001b[38;5;66;03m# Avoid setting negative timeout\u001b[39;00m\n\u001b[1;32m    118\u001b[0m     kwargs[\u001b[38;5;124m\"\u001b[39m\u001b[38;5;124mtimeout\u001b[39m\u001b[38;5;124m\"\u001b[39m] \u001b[38;5;241m=\u001b[39m \u001b[38;5;28mmax\u001b[39m(\u001b[38;5;241m0\u001b[39m, \u001b[38;5;28mself\u001b[39m\u001b[38;5;241m.\u001b[39m_timeout \u001b[38;5;241m-\u001b[39m time_since_first_attempt)\n\u001b[0;32m--> 120\u001b[0m \u001b[38;5;28;01mreturn\u001b[39;00m \u001b[43mfunc\u001b[49m\u001b[43m(\u001b[49m\u001b[38;5;241;43m*\u001b[39;49m\u001b[43margs\u001b[49m\u001b[43m,\u001b[49m\u001b[43m \u001b[49m\u001b[38;5;241;43m*\u001b[39;49m\u001b[38;5;241;43m*\u001b[39;49m\u001b[43mkwargs\u001b[49m\u001b[43m)\u001b[49m\n",
      "File \u001b[0;32m~/work/ailp/lukmanr-gps-core-solution-services/components/llm_service/notebooks/.venv/lib/python3.9/site-packages/google/api_core/grpc_helpers.py:74\u001b[0m, in \u001b[0;36m_wrap_unary_errors.<locals>.error_remapped_callable\u001b[0;34m(*args, **kwargs)\u001b[0m\n\u001b[1;32m     72\u001b[0m     \u001b[38;5;28;01mreturn\u001b[39;00m callable_(\u001b[38;5;241m*\u001b[39margs, \u001b[38;5;241m*\u001b[39m\u001b[38;5;241m*\u001b[39mkwargs)\n\u001b[1;32m     73\u001b[0m \u001b[38;5;28;01mexcept\u001b[39;00m grpc\u001b[38;5;241m.\u001b[39mRpcError \u001b[38;5;28;01mas\u001b[39;00m exc:\n\u001b[0;32m---> 74\u001b[0m     \u001b[38;5;28;01mraise\u001b[39;00m exceptions\u001b[38;5;241m.\u001b[39mfrom_grpc_error(exc) \u001b[38;5;28;01mfrom\u001b[39;00m \u001b[38;5;21;01mexc\u001b[39;00m\n",
      "\u001b[0;31mNotFound\u001b[0m: 404 Data store projects/944045413892/locations/global/collections/default_collection/dataStores/lukman-test-vs not found."
     ]
    }
   ],
   "source": [
    "operation = import_documents_gcs(doc_url, client, parent)"
   ]
  },
  {
   "cell_type": "code",
   "execution_count": null,
   "id": "38fc9e19-0376-48a1-973b-3813f1505e1b",
   "metadata": {},
   "outputs": [],
   "source": [
    "from services import llm_generate, embeddings\n",
    "from services.query import query_prompts\n",
    "from services.query.vector_store import VectorStore\n",
    "from services.query.data_source import DataSource\n",
    "from services.query.query_service import datasource_from_url\n",
    "from config import (PROJECT_ID, DEFAULT_QUERY_CHAT_MODEL,\n",
    "                    DEFAULT_QUERY_EMBEDDING_MODEL)\n",
    "import spacy"
   ]
  },
  {
   "cell_type": "code",
   "execution_count": null,
   "id": "0c4e6791-ac94-4eec-a696-13ce558bbf2b",
   "metadata": {},
   "outputs": [],
   "source": [
    "doc_name, index_doc_url, doc_filepath = doc_filepaths[0]"
   ]
  },
  {
   "cell_type": "code",
   "execution_count": null,
   "id": "fd3d59d5-f67a-4c74-80c7-c8c76cb0d7c3",
   "metadata": {},
   "outputs": [],
   "source": [
    "text_chunks = data_source.chunk_document(doc_name, index_doc_url, doc_filepath)"
   ]
  },
  {
   "cell_type": "code",
   "execution_count": null,
   "id": "bb7ee7d3-e42d-4f12-8867-bb5ba1af0e4c",
   "metadata": {},
   "outputs": [],
   "source": [
    "len(text_chunks)"
   ]
  },
  {
   "cell_type": "code",
   "execution_count": null,
   "id": "be8d7b02-90d2-404e-b9ad-69ed59f49231",
   "metadata": {},
   "outputs": [],
   "source": [
    "text_chunks[8]"
   ]
  },
  {
   "cell_type": "code",
   "execution_count": null,
   "id": "cc7d1c02-3290-4e23-8a9b-09193f7926f8",
   "metadata": {},
   "outputs": [],
   "source": [
    "data_source.text_to_sentence_list(text_chunks[6])"
   ]
  },
  {
   "cell_type": "code",
   "execution_count": null,
   "id": "5cc27aab-3a54-4f63-a618-8ceecf3606a1",
   "metadata": {},
   "outputs": [],
   "source": []
  },
  {
   "cell_type": "code",
   "execution_count": null,
   "id": "721d1a9f-3f54-4a84-ae2f-ac8dd1c2ca7e",
   "metadata": {},
   "outputs": [],
   "source": [
    "embeddings.get_embeddings(text_chunks, embedding_type)"
   ]
  },
  {
   "cell_type": "code",
   "execution_count": null,
   "id": "d133415e-7ccf-417a-bdbf-a87b70b65ad5",
   "metadata": {},
   "outputs": [],
   "source": [
    "from utils.html_helper import html_to_text, html_to_sentence_list\n",
    "query_description = \"Policies and guidance on billing for dental procedures using CDT codes for Federally Qualified Health Centers (FQHC).  Includes information on state agency reporting of billing against current dental terminology (CDT) codes.  Also includes information on billing, coding and other guidelines that support the implementation of the CY 2023 Medicare Physician Fee Schedule Final Rule on Dental Services.\""
   ]
  },
  {
   "cell_type": "code",
   "execution_count": null,
   "id": "53022cfc",
   "metadata": {},
   "outputs": [],
   "source": [
    "from services.query.query_service import process_documents, vector_store_from_query_engine\n",
    "\n",
    "vector_store = vector_store_from_query_engine(q_engine)"
   ]
  },
  {
   "cell_type": "code",
   "execution_count": null,
   "id": "a30808a8-f22f-40b1-a83b-e8f5959b77f9",
   "metadata": {},
   "outputs": [],
   "source": [
    "text_chunks"
   ]
  },
  {
   "cell_type": "code",
   "execution_count": null,
   "id": "50bc9023-f81a-4435-91d5-3185c6f8aee0",
   "metadata": {},
   "outputs": [],
   "source": [
    "from w3lib.html import replace_escape_chars\n",
    "import re\n",
    "\n",
    "def clean_text(text):\n",
    "  # Replace specific unprocessable characters\n",
    "  cleaned_text = text.replace(\"\\x00\", \"\")\n",
    "\n",
    "  # replace escape characters\n",
    "  cleaned_text = replace_escape_chars(cleaned_text)\n",
    "\n",
    "  # remove all non-printable characters\n",
    "  cleaned_text = re.sub(r\"[^\\x20-\\x7E]\", \"\", cleaned_text)\n",
    "\n",
    "  return cleaned_text"
   ]
  },
  {
   "cell_type": "code",
   "execution_count": null,
   "id": "7db7f83a-26b3-41bd-a0df-aed459da8699",
   "metadata": {},
   "outputs": [],
   "source": [
    "text_chunks = [clean_text(x) for x in text_chunks]"
   ]
  },
  {
   "cell_type": "code",
   "execution_count": null,
   "id": "b6fe36b0-9da5-4ce9-8952-b47fddbab969",
   "metadata": {},
   "outputs": [],
   "source": [
    "text_chunks"
   ]
  },
  {
   "cell_type": "code",
   "execution_count": null,
   "id": "5b9589a5-f2d8-4111-b26c-56216a4a2b28",
   "metadata": {},
   "outputs": [],
   "source": [
    "QueryEngine.delete_by_id(q_engine.id)"
   ]
  },
  {
   "cell_type": "code",
   "execution_count": null,
   "id": "7552f95b-03bd-4334-aa11-10f70f974cca",
   "metadata": {},
   "outputs": [],
   "source": [
    "for i in range(0, len(text_chunks)):\n",
    "  clean_text = html_to_text(text_chunks[i])\n",
    "  sentences = html_to_sentence_list(text_chunks[i])\n",
    "  query_doc_chunk = QueryDocumentChunk(\n",
    "                        query_engine_id=q_engine.id,\n",
    "                        query_document_id=query_doc.id,\n",
    "                        index=i+index_base,\n",
    "                        text=text_chunks[i],\n",
    "                        clean_text=clean_text,\n",
    "                        sentences=sentences)"
   ]
  },
  {
   "cell_type": "code",
   "execution_count": null,
   "id": "5c0aa493",
   "metadata": {},
   "outputs": [],
   "source": [
    "storage_client = storage.Client(project=PROJECT_ID)\n",
    "\n",
    "vector_store = VectorStore(q_engine)"
   ]
  },
  {
   "cell_type": "code",
   "execution_count": null,
   "id": "c690bd12",
   "metadata": {},
   "outputs": [],
   "source": [
    "docs_processed"
   ]
  },
  {
   "cell_type": "code",
   "execution_count": null,
   "id": "39886494",
   "metadata": {},
   "outputs": [],
   "source": [
    "docs_not_processed"
   ]
  },
  {
   "cell_type": "code",
   "execution_count": null,
   "id": "b57a0a07",
   "metadata": {},
   "outputs": [],
   "source": []
  }
 ],
 "metadata": {
  "kernelspec": {
   "display_name": "Python 3 (ipykernel)",
   "language": "python",
   "name": "python3"
  },
  "language_info": {
   "codemirror_mode": {
    "name": "ipython",
    "version": 3
   },
   "file_extension": ".py",
   "mimetype": "text/x-python",
   "name": "python",
   "nbconvert_exporter": "python",
   "pygments_lexer": "ipython3",
   "version": "3.9.13"
  }
 },
 "nbformat": 4,
 "nbformat_minor": 5
}
