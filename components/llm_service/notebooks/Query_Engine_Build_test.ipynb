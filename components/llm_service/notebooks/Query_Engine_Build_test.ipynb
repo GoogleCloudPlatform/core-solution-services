{
 "cells": [
  {
   "cell_type": "code",
   "execution_count": 1,
   "id": "44c9db81",
   "metadata": {},
   "outputs": [],
   "source": [
    "PROJECT_ID = \"gcp-mira-develop\"\n",
    "REGION = \"us-central1\"\n",
    "import os\n",
    "os.environ[\"PROJECT_ID\"] = PROJECT_ID"
   ]
  },
  {
   "cell_type": "code",
   "execution_count": 2,
   "id": "249e427d",
   "metadata": {},
   "outputs": [],
   "source": [
    "#! gcloud auth login"
   ]
  },
  {
   "cell_type": "code",
   "execution_count": 3,
   "id": "6485508d",
   "metadata": {},
   "outputs": [],
   "source": [
    "import sys\n",
    "sys.path.append(\"../../common/src\")\n",
    "sys.path.append(\"../src\")"
   ]
  },
  {
   "cell_type": "code",
   "execution_count": 4,
   "id": "08365901",
   "metadata": {},
   "outputs": [
    {
     "name": "stdout",
     "output_type": "stream",
     "text": [
      "INFO: [config/config.py:55 - <module>()] Namespace File not found, setting job namespace as default\n",
      "INFO: [config/config.py:105 - <module>()] ENABLE_GOOGLE_LLM = True\n",
      "INFO: [config/config.py:106 - <module>()] ENABLE_OPENAI_LLM = True\n",
      "INFO: [config/config.py:107 - <module>()] ENABLE_COHERE_LLM = True\n",
      "INFO: [config/config.py:108 - <module>()] ENABLE_GOOGLE_MODEL_GARDEN = True\n",
      "INFO: [config/config.py:109 - <module>()] ENABLE_TRUSS_LLAMA2 = True\n",
      "INFO: [config/vector_store_config.py:40 - <module>()] Default vector store = [langchain_pgvector]\n",
      "INFO: [config/vector_store_config.py:49 - <module>()] PG_HOST = [127.0.0.1]\n",
      "INFO: [config/vector_store_config.py:50 - <module>()] PG_DBNAME = [pgvector]\n"
     ]
    }
   ],
   "source": [
    "import tempfile\n",
    "import os\n",
    "from typing import List, Optional, Tuple, Dict\n",
    "from common.utils.logging_handler import Logger\n",
    "from common.models import (UserQuery, QueryResult, QueryEngine, QueryDocument,\n",
    "                           QueryReference, QueryDocumentChunk, BatchJobModel)\n",
    "from common.utils.errors import (ResourceNotFoundException,\n",
    "                                 ValidationError)\n",
    "from common.utils.http_exceptions import InternalServerError\n",
    "from utils.errors import NoDocumentsIndexedException\n",
    "from google.cloud import storage\n",
    "from services import llm_generate, embeddings\n",
    "from services.query import query_prompts\n",
    "from services.query.vector_store import VectorStore\n",
    "from services.query.data_source import DataSource\n",
    "\n",
    "from config import (PROJECT_ID, DEFAULT_QUERY_CHAT_MODEL,\n",
    "                    DEFAULT_QUERY_EMBEDDING_MODEL)\n",
    "import spacy"
   ]
  },
  {
   "cell_type": "code",
   "execution_count": 5,
   "id": "bc9f861a-a9d0-4872-8a63-0399b1fecc57",
   "metadata": {},
   "outputs": [
    {
     "data": {
      "text/plain": [
       "<spacy.pipeline.sentencizer.Sentencizer at 0x13526d900>"
      ]
     },
     "execution_count": 5,
     "metadata": {},
     "output_type": "execute_result"
    }
   ],
   "source": [
    "from spacy.lang.en import English\n",
    "\n",
    "nlp_en = English()\n",
    "nlp_en.add_pipe(\"sentencizer\")"
   ]
  },
  {
   "cell_type": "code",
   "execution_count": 6,
   "id": "98bad6b3-82ab-4436-80f9-f5940e913164",
   "metadata": {},
   "outputs": [],
   "source": [
    "# do this once per vm environment\n",
    "#!python -m spacy download en_core_web_sm\n",
    "\n",
    "nlp = spacy.load(\"en_core_web_sm\")"
   ]
  },
  {
   "cell_type": "code",
   "execution_count": 7,
   "id": "4dd71700",
   "metadata": {},
   "outputs": [],
   "source": [
    "query_engine = \"lukman-test-gs\"\n",
    "doc_url = \"gs://mira-demo-docs\"\n",
    "user_id = \"RkRwdej4IlTvdHdZWCie\"\n",
    "is_public=True\n",
    "storage_client = storage.Client(project=PROJECT_ID)"
   ]
  },
  {
   "cell_type": "code",
   "execution_count": 8,
   "id": "0b308339-c839-40a4-83bd-fd76113c074d",
   "metadata": {},
   "outputs": [],
   "source": [
    "from services.query.query_service import datasource_from_url"
   ]
  },
  {
   "cell_type": "code",
   "execution_count": 9,
   "id": "cf5bafc5-0a4c-4e73-b2cb-2800b4437ed7",
   "metadata": {},
   "outputs": [],
   "source": [
    "data_source = datasource_from_url(doc_url, storage_client)"
   ]
  },
  {
   "cell_type": "code",
   "execution_count": 10,
   "id": "626981d5-0318-40bd-9364-fe2c6a56a01b",
   "metadata": {},
   "outputs": [
    {
     "name": "stdout",
     "output_type": "stream",
     "text": [
      "INFO: [query/data_source.py:57 - download_documents()] downloading gs://mira-demo-docs from bucket mira-demo-docs\n"
     ]
    }
   ],
   "source": [
    "temp_dir = \"/tmp\"\n",
    "doc_filepaths = data_source.download_documents(doc_url, temp_dir)"
   ]
  },
  {
   "cell_type": "code",
   "execution_count": 11,
   "id": "0c4e6791-ac94-4eec-a696-13ce558bbf2b",
   "metadata": {},
   "outputs": [],
   "source": [
    "doc_name, index_doc_url, doc_filepath = doc_filepaths[0]"
   ]
  },
  {
   "cell_type": "code",
   "execution_count": 12,
   "id": "fd3d59d5-f67a-4c74-80c7-c8c76cb0d7c3",
   "metadata": {},
   "outputs": [
    {
     "name": "stdout",
     "output_type": "stream",
     "text": [
      "INFO: [query/data_source.py:91 - chunk_document()] generating index data for A59449_20240106.pdf\n",
      "INFO: [query/data_source.py:171 - read_doc()] Reading pdf file A59449_20240106.pdf with 9 pages\n",
      "INFO: [query/data_source.py:174 - read_doc()] Finished reading pdf file A59449_20240106.pdf\n"
     ]
    }
   ],
   "source": [
    "text_chunks = data_source.chunk_document(doc_name, index_doc_url, doc_filepath)"
   ]
  },
  {
   "cell_type": "code",
   "execution_count": 13,
   "id": "bb7ee7d3-e42d-4f12-8867-bb5ba1af0e4c",
   "metadata": {},
   "outputs": [
    {
     "data": {
      "text/plain": [
       "9"
      ]
     },
     "execution_count": 13,
     "metadata": {},
     "output_type": "execute_result"
    }
   ],
   "source": [
    "len(text_chunks)"
   ]
  },
  {
   "cell_type": "code",
   "execution_count": 14,
   "id": "be8d7b02-90d2-404e-b9ad-69ed59f49231",
   "metadata": {},
   "outputs": [
    {
     "data": {
      "text/plain": [
       "'REVISION HISTORY DATE REVISION HISTORY NUMBER REVISION HISTORY EXPLANATIONAssociated DocumentsRelated Local Coverage DocumentsN/ARelated National Coverage DocumentsN/AStatutory Requirements URLsN/ARules and Regulations URLsN/ACMS Manual Explanations URLsN/AOther URLsN/APublic VersionsUPDATED ON EFFECTIVE DATES STATUS06/01/2023 06/08/2023 - N/A Currently in Effect (This Version)KeywordsDental ServicesCreated on 01/06/2024. Page 9 of 9'"
      ]
     },
     "execution_count": 14,
     "metadata": {},
     "output_type": "execute_result"
    }
   ],
   "source": [
    "text_chunks[8]"
   ]
  },
  {
   "cell_type": "code",
   "execution_count": 15,
   "id": "cc7d1c02-3290-4e23-8a9b-09193f7926f8",
   "metadata": {},
   "outputs": [
    {
     "data": {
      "text/plain": [
       "['If a dentist believes that Medicare will deny some or all the services or items because of medical necessity or an inextricable link may not be present, an Advance Beneficiary Notice of Noncoverage (ABN) should be issued in writing to the Medicare beneficiary.',\n",
       " 'The ABN is optional when Medicare never covers a service, for example, a benefit category denial, but should be used if Medicare does cover the service for some diagnoses, but the dentist believes it will not be covered for a particular situation.',\n",
       " 'To learn more about the ABN process, visit this A/B MACs website at Interactive ABN (palmettogba.com)',\n",
       " '.This billing and coding article is not to be construed nor imply coverage of dental screening services, dental prophylaxis, treatment of simple dental caries, routine tooth extractions, dental prosthetics/splints/dentures/oral appliances, nor definitive reconstruction or restoration of dental structures because of the removal of identified infection and/or the source.',\n",
       " 'The expansion of potentially payable dental services does NOT apply to dental services performed AFTER the respective inextricably linked medical procedure/service.',\n",
       " 'When an excluded service is the primary procedure involved, it is not covered regardless of its complexity or difficulty.',\n",
       " 'The hospitalization or non-hospitalization of a patient has no direct bearing on the coverage or exclusion of a given dental procedure.',\n",
       " 'Should the dental services provided fail to demonstrate inextricable linkage and thus fall under the Medicare Dental Exclusion, the claim may be denied as a benefit category denial subject to beneficiary liability.',\n",
       " 'Coding InformationCPT/HCPCS CodesN/ACPT/HCPCS ModifiersN/AICD-10-CM Codes that Support Medical NecessityGroup 1 Paragraph: The ICD-10-CM codes listed below are not an all-inclusive list.',\n",
       " 'ICD-10-CM codes in the primary and secondary positions related to the dental service(s) provided should be submitted for efficient claims processing.',\n",
       " 'Group 1 Codes:  (2 Codes)CODE DESCRIPTIONZ01.818*',\n",
       " 'Encounter for other preprocedural examinationZ76.82* Awaiting organ transplant statusGroup 1 Medical Necessity ICD-10-CM Codes Asterisk Explanation: Created on 01/06/2024.',\n",
       " 'Page 7 of 9']"
      ]
     },
     "execution_count": 15,
     "metadata": {},
     "output_type": "execute_result"
    }
   ],
   "source": [
    "data_source.text_to_sentence_list(text_chunks[6])"
   ]
  },
  {
   "cell_type": "code",
   "execution_count": null,
   "id": "a4595371-c3f1-4d2d-a309-98618e49e393",
   "metadata": {},
   "outputs": [],
   "source": []
  },
  {
   "cell_type": "code",
   "execution_count": null,
   "id": "8153d799-171c-4462-ba7e-1042e662bc37",
   "metadata": {},
   "outputs": [],
   "source": []
  },
  {
   "cell_type": "code",
   "execution_count": null,
   "id": "5cc27aab-3a54-4f63-a618-8ceecf3606a1",
   "metadata": {},
   "outputs": [],
   "source": []
  },
  {
   "cell_type": "code",
   "execution_count": null,
   "id": "721d1a9f-3f54-4a84-ae2f-ac8dd1c2ca7e",
   "metadata": {},
   "outputs": [],
   "source": [
    "embedding_type = DEFAULT_QUERY_EMBEDDING_MODEL\n",
    "embeddings.get_embeddings(text_chunks, embedding_type)"
   ]
  },
  {
   "cell_type": "code",
   "execution_count": null,
   "id": "d133415e-7ccf-417a-bdbf-a87b70b65ad5",
   "metadata": {},
   "outputs": [],
   "source": [
    "from utils.html_helper import html_to_text, html_to_sentence_list\n",
    "query_description = \"Policies and guidance on billing for dental procedures using CDT codes for Federally Qualified Health Centers (FQHC).  Includes information on state agency reporting of billing against current dental terminology (CDT) codes.  Also includes information on billing, coding and other guidelines that support the implementation of the CY 2023 Medicare Physician Fee Schedule Final Rule on Dental Services.\""
   ]
  },
  {
   "cell_type": "code",
   "execution_count": null,
   "id": "8632d1ef",
   "metadata": {},
   "outputs": [],
   "source": [
    "# create q_engine\n",
    "llm_type = DEFAULT_QUERY_EMBEDDING_MODEL\n",
    "vector_store_type = \"langchain_pgvector\"\n",
    "q_engine = QueryEngine(name=query_engine,\n",
    "                     created_by=user_id,\n",
    "                     llm_type=llm_type,\n",
    "                     description=query_description,\n",
    "                     embedding_type=embedding_type,\n",
    "                     vector_store=vector_store_type,\n",
    "                     is_public=is_public,\n",
    "                     doc_url=doc_url)\n",
    "q_engine.save()"
   ]
  },
  {
   "cell_type": "code",
   "execution_count": null,
   "id": "53022cfc",
   "metadata": {},
   "outputs": [],
   "source": [
    "from services.query.query_service import process_documents, vector_store_from_query_engine\n",
    "\n",
    "vector_store = vector_store_from_query_engine(q_engine)"
   ]
  },
  {
   "cell_type": "code",
   "execution_count": null,
   "id": "a30808a8-f22f-40b1-a83b-e8f5959b77f9",
   "metadata": {},
   "outputs": [],
   "source": [
    "text_chunks"
   ]
  },
  {
   "cell_type": "code",
   "execution_count": null,
   "id": "50bc9023-f81a-4435-91d5-3185c6f8aee0",
   "metadata": {},
   "outputs": [],
   "source": [
    "from w3lib.html import replace_escape_chars\n",
    "import re\n",
    "\n",
    "def clean_text(text):\n",
    "  # Replace specific unprocessable characters\n",
    "  cleaned_text = text.replace(\"\\x00\", \"\")\n",
    "\n",
    "  # replace escape characters\n",
    "  cleaned_text = replace_escape_chars(cleaned_text)\n",
    "\n",
    "  # remove all non-printable characters\n",
    "  cleaned_text = re.sub(r\"[^\\x20-\\x7E]\", \"\", cleaned_text)\n",
    "\n",
    "  return cleaned_text"
   ]
  },
  {
   "cell_type": "code",
   "execution_count": null,
   "id": "7db7f83a-26b3-41bd-a0df-aed459da8699",
   "metadata": {},
   "outputs": [],
   "source": [
    "text_chunks = [clean_text(x) for x in text_chunks]"
   ]
  },
  {
   "cell_type": "code",
   "execution_count": null,
   "id": "b6fe36b0-9da5-4ce9-8952-b47fddbab969",
   "metadata": {},
   "outputs": [],
   "source": [
    "text_chunks"
   ]
  },
  {
   "cell_type": "code",
   "execution_count": null,
   "id": "5b9589a5-f2d8-4111-b26c-56216a4a2b28",
   "metadata": {},
   "outputs": [],
   "source": [
    "QueryEngine.delete_by_id(q_engine.id)"
   ]
  },
  {
   "cell_type": "code",
   "execution_count": null,
   "id": "7552f95b-03bd-4334-aa11-10f70f974cca",
   "metadata": {},
   "outputs": [],
   "source": [
    "for i in range(0, len(text_chunks)):\n",
    "  clean_text = html_to_text(text_chunks[i])\n",
    "  sentences = html_to_sentence_list(text_chunks[i])\n",
    "  query_doc_chunk = QueryDocumentChunk(\n",
    "                        query_engine_id=q_engine.id,\n",
    "                        query_document_id=query_doc.id,\n",
    "                        index=i+index_base,\n",
    "                        text=text_chunks[i],\n",
    "                        clean_text=clean_text,\n",
    "                        sentences=sentences)"
   ]
  },
  {
   "cell_type": "code",
   "execution_count": null,
   "id": "5c0aa493",
   "metadata": {},
   "outputs": [],
   "source": [
    "storage_client = storage.Client(project=PROJECT_ID)\n",
    "\n",
    "vector_store = VectorStore(q_engine)"
   ]
  },
  {
   "cell_type": "code",
   "execution_count": null,
   "id": "c690bd12",
   "metadata": {},
   "outputs": [],
   "source": [
    "docs_processed"
   ]
  },
  {
   "cell_type": "code",
   "execution_count": null,
   "id": "39886494",
   "metadata": {},
   "outputs": [],
   "source": [
    "docs_not_processed"
   ]
  },
  {
   "cell_type": "code",
   "execution_count": null,
   "id": "b57a0a07",
   "metadata": {},
   "outputs": [],
   "source": []
  }
 ],
 "metadata": {
  "kernelspec": {
   "display_name": "Python 3 (ipykernel)",
   "language": "python",
   "name": "python3"
  },
  "language_info": {
   "codemirror_mode": {
    "name": "ipython",
    "version": 3
   },
   "file_extension": ".py",
   "mimetype": "text/x-python",
   "name": "python",
   "nbconvert_exporter": "python",
   "pygments_lexer": "ipython3",
   "version": "3.9.13"
  }
 },
 "nbformat": 4,
 "nbformat_minor": 5
}
