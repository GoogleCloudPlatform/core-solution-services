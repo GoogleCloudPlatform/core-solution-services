{
 "cells": [
  {
   "cell_type": "code",
   "execution_count": 1,
   "id": "44c9db81",
   "metadata": {},
   "outputs": [],
   "source": [
    "PROJECT_ID = \"genie-ui-dev\"\n",
    "REGION = \"us-central1\"\n",
    "import os\n",
    "os.environ[\"PROJECT_ID\"] = PROJECT_ID\n",
    "os.environ[\"PG_HOST\"] = \"\""
   ]
  },
  {
   "cell_type": "code",
   "execution_count": 2,
   "id": "6485508d",
   "metadata": {},
   "outputs": [],
   "source": [
    "import sys\n",
    "sys.path.append(\"../../common/src\")\n",
    "sys.path.append(\"../src\")"
   ]
  },
  {
   "cell_type": "code",
   "execution_count": 3,
   "id": "08365901",
   "metadata": {},
   "outputs": [
    {
     "name": "stdout",
     "output_type": "stream",
     "text": [
      "INFO: [config/config.py:61 - <module>()] Namespace File not found, setting job namespace as default\n",
      "INFO: [config/model_config.py:341 - set_model_config()] Provider [Vertex] enablement status [True]\n",
      "INFO: [config/model_config.py:361 - set_model_config()] Model [VertexAI-Text] enablement status [True]\n",
      "INFO: [config/model_config.py:341 - set_model_config()] Provider [Vertex] enablement status [True]\n",
      "INFO: [config/model_config.py:361 - set_model_config()] Model [VertexAI-Chat] enablement status [True]\n",
      "INFO: [config/model_config.py:341 - set_model_config()] Provider [Vertex] enablement status [True]\n",
      "INFO: [config/model_config.py:361 - set_model_config()] Model [VertexAI-Chat-Palm2] enablement status [True]\n",
      "INFO: [config/model_config.py:341 - set_model_config()] Provider [Vertex] enablement status [True]\n",
      "INFO: [config/model_config.py:361 - set_model_config()] Model [VertexAI-Chat-Palm2-V2] enablement status [True]\n",
      "INFO: [config/model_config.py:341 - set_model_config()] Provider [Vertex] enablement status [True]\n",
      "INFO: [config/model_config.py:361 - set_model_config()] Model [VertexAI-Gemini-Pro] enablement status [True]\n",
      "INFO: [config/model_config.py:341 - set_model_config()] Provider [Vertex] enablement status [True]\n",
      "INFO: [config/model_config.py:361 - set_model_config()] Model [VertexAI-Gemini-Pro-Vision] enablement status [True]\n",
      "INFO: [config/model_config.py:341 - set_model_config()] Provider [Langchain] enablement status [True]\n",
      "INFO: [config/model_config.py:361 - set_model_config()] Model [VertexAI-Chat-Palm2V2-Langchain] enablement status [True]\n"
     ]
    },
    {
     "name": "stderr",
     "output_type": "stream",
     "text": [
      "/Users/lramsey/work/ailp/lukmanr-gps-core-solution-services/components/llm_service/notebooks/.venv/lib/python3.9/site-packages/langchain_community/llms/__init__.py:173: LangChainDeprecationWarning: `` was deprecated in LangChain 0.0.22 and will be removed in 0.2. An updated version of the  exists in the langchain-community package and should be used instead. To use it run `pip install -U langchain-community` and import as `from langchain_community.chat_models import ChatDatabricks`.\n",
      "  warn_deprecated(\n",
      "/Users/lramsey/work/ailp/lukmanr-gps-core-solution-services/components/llm_service/notebooks/.venv/lib/python3.9/site-packages/langchain_community/llms/__init__.py:343: LangChainDeprecationWarning: `` was deprecated in LangChain 0.0.22 and will be removed in 0.2. An updated version of the  exists in the langchain-community package and should be used instead. To use it run `pip install -U langchain-community` and import as `from langchain_community.chat_models import ChatMlflow`.\n",
      "  warn_deprecated(\n"
     ]
    },
    {
     "name": "stdout",
     "output_type": "stream",
     "text": [
      "INFO: [config/model_config.py:341 - set_model_config()] Provider [Vertex] enablement status [True]\n",
      "INFO: [config/model_config.py:361 - set_model_config()] Model [VertexAI-Chat-Palm2-32k] enablement status [True]\n",
      "INFO: [config/model_config.py:341 - set_model_config()] Provider [Langchain] enablement status [True]\n",
      "INFO: [config/model_config.py:361 - set_model_config()] Model [VertexAI-Chat-Palm2-32k-Langchain] enablement status [True]\n"
     ]
    },
    {
     "name": "stderr",
     "output_type": "stream",
     "text": [
      "/Users/lramsey/work/ailp/lukmanr-gps-core-solution-services/components/llm_service/notebooks/.venv/lib/python3.9/site-packages/langchain_community/llms/__init__.py:173: LangChainDeprecationWarning: `` was deprecated in LangChain 0.0.22 and will be removed in 0.2. An updated version of the  exists in the langchain-community package and should be used instead. To use it run `pip install -U langchain-community` and import as `from langchain_community.chat_models import ChatDatabricks`.\n",
      "  warn_deprecated(\n",
      "/Users/lramsey/work/ailp/lukmanr-gps-core-solution-services/components/llm_service/notebooks/.venv/lib/python3.9/site-packages/langchain_community/llms/__init__.py:343: LangChainDeprecationWarning: `` was deprecated in LangChain 0.0.22 and will be removed in 0.2. An updated version of the  exists in the langchain-community package and should be used instead. To use it run `pip install -U langchain-community` and import as `from langchain_community.chat_models import ChatMlflow`.\n",
      "  warn_deprecated(\n"
     ]
    },
    {
     "name": "stdout",
     "output_type": "stream",
     "text": [
      "INFO: [config/model_config.py:341 - set_model_config()] Provider [Langchain] enablement status [True]\n",
      "INFO: [config/model_config.py:361 - set_model_config()] Model [VertexAI-Chat-Gemini-Pro-Langchain] enablement status [True]\n",
      "INFO: [config/model_config.py:341 - set_model_config()] Provider [Truss] enablement status [False]\n",
      "INFO: [config/model_config.py:361 - set_model_config()] Model [Truss-Llama2-Chat] enablement status [False]\n",
      "INFO: [config/model_config.py:341 - set_model_config()] Provider [vLLM] enablement status [True]\n",
      "INFO: [config/model_config.py:361 - set_model_config()] Model [vLLM-Gemma-Chat] enablement status [False]\n",
      "INFO: [config/model_config.py:341 - set_model_config()] Provider [ModelGarden] enablement status [True]\n",
      "INFO: [config/model_config.py:361 - set_model_config()] Model [VertexAI-ModelGarden-LLAMA2-Chat] enablement status [False]\n",
      "INFO: [config/model_config.py:341 - set_model_config()] Provider [Langchain] enablement status [True]\n"
     ]
    },
    {
     "name": "stderr",
     "output_type": "stream",
     "text": [
      "/Users/lramsey/work/ailp/lukmanr-gps-core-solution-services/components/llm_service/notebooks/.venv/lib/python3.9/site-packages/langchain_community/llms/__init__.py:173: LangChainDeprecationWarning: `` was deprecated in LangChain 0.0.22 and will be removed in 0.2. An updated version of the  exists in the langchain-community package and should be used instead. To use it run `pip install -U langchain-community` and import as `from langchain_community.chat_models import ChatDatabricks`.\n",
      "  warn_deprecated(\n",
      "/Users/lramsey/work/ailp/lukmanr-gps-core-solution-services/components/llm_service/notebooks/.venv/lib/python3.9/site-packages/langchain_community/llms/__init__.py:343: LangChainDeprecationWarning: `` was deprecated in LangChain 0.0.22 and will be removed in 0.2. An updated version of the  exists in the langchain-community package and should be used instead. To use it run `pip install -U langchain-community` and import as `from langchain_community.chat_models import ChatMlflow`.\n",
      "  warn_deprecated(\n"
     ]
    },
    {
     "name": "stdout",
     "output_type": "stream",
     "text": [
      "INFO: [config/model_config.py:361 - set_model_config()] Model [OpenAI-GPT4] enablement status [False]\n",
      "INFO: [config/model_config.py:341 - set_model_config()] Provider [Langchain] enablement status [True]\n",
      "INFO: [config/model_config.py:361 - set_model_config()] Model [OpenAI-GPT4-latest] enablement status [False]\n",
      "INFO: [config/model_config.py:341 - set_model_config()] Provider [Langchain] enablement status [True]\n",
      "INFO: [config/model_config.py:361 - set_model_config()] Model [OpenAI-GPT3.5] enablement status [False]\n",
      "INFO: [config/model_config.py:341 - set_model_config()] Provider [Langchain] enablement status [True]\n",
      "INFO: [config/model_config.py:361 - set_model_config()] Model [Cohere] enablement status [False]\n",
      "INFO: [config/model_config.py:341 - set_model_config()] Provider [LLMService] enablement status [False]\n",
      "INFO: [config/model_config.py:361 - set_model_config()] Model [Llama2cpp] enablement status [False]\n",
      "INFO: [config/model_config.py:341 - set_model_config()] Provider [Vertex] enablement status [True]\n",
      "INFO: [config/model_config.py:361 - set_model_config()] Model [VertexAI-Embedding] enablement status [True]\n",
      "INFO: [config/model_config.py:341 - set_model_config()] Provider [Vertex] enablement status [True]\n",
      "INFO: [config/model_config.py:361 - set_model_config()] Model [VertexAI-Embedding-Vision] enablement status [True]\n",
      "INFO: [config/model_config.py:341 - set_model_config()] Provider [Langchain] enablement status [True]\n",
      "INFO: [config/model_config.py:361 - set_model_config()] Model [OpenAI-Embedding] enablement status [True]\n",
      "INFO: [config/model_config.py:341 - set_model_config()] Provider [Langchain] enablement status [True]\n",
      "INFO: [config/model_config.py:361 - set_model_config()] Model [HuggingFaceEmbeddings] enablement status [True]\n"
     ]
    },
    {
     "name": "stderr",
     "output_type": "stream",
     "text": [
      "/Users/lramsey/work/ailp/lukmanr-gps-core-solution-services/components/llm_service/notebooks/.venv/lib/python3.9/site-packages/langchain_community/llms/__init__.py:173: LangChainDeprecationWarning: `` was deprecated in LangChain 0.0.22 and will be removed in 0.2. An updated version of the  exists in the langchain-community package and should be used instead. To use it run `pip install -U langchain-community` and import as `from langchain_community.chat_models import ChatDatabricks`.\n",
      "  warn_deprecated(\n",
      "/Users/lramsey/work/ailp/lukmanr-gps-core-solution-services/components/llm_service/notebooks/.venv/lib/python3.9/site-packages/langchain_community/llms/__init__.py:343: LangChainDeprecationWarning: `` was deprecated in LangChain 0.0.22 and will be removed in 0.2. An updated version of the  exists in the langchain-community package and should be used instead. To use it run `pip install -U langchain-community` and import as `from langchain_community.chat_models import ChatMlflow`.\n",
      "  warn_deprecated(\n"
     ]
    },
    {
     "name": "stdout",
     "output_type": "stream",
     "text": [
      "INFO: [config/config.py:112 - <module>()] ENABLE_GOOGLE_LLM = True\n",
      "INFO: [config/config.py:113 - <module>()] ENABLE_OPENAI_LLM = False\n",
      "INFO: [config/config.py:114 - <module>()] ENABLE_COHERE_LLM = False\n",
      "INFO: [config/config.py:115 - <module>()] ENABLE_GOOGLE_MODEL_GARDEN = True\n",
      "INFO: [config/config.py:116 - <module>()] ENABLE_TRUSS_LLAMA2 = False\n",
      "INFO: [config/config.py:117 - <module>()] ENABLE_VLLM_GEMMA = True\n",
      "INFO: [config/config.py:180 - <module>()] Loaded default manifest from /Users/lramsey/work/ailp/lukmanr-gps-core-solution-services/components/llm_service/notebooks/../src/config/document_manifest.json\n",
      "INFO: [config/vector_store_config.py:44 - <module>()] PG_HOST = [None]\n",
      "INFO: [config/vector_store_config.py:45 - <module>()] PG_DBNAME = [pgvector]\n",
      "INFO: [config/vector_store_config.py:74 - <module>()] PG_HOST is set to [None], not connecting to pgvector\n",
      "INFO: [config/vector_store_config.py:81 - <module>()] Default vector store = [matching_engine]\n",
      "INFO: [config/onedrive_config.py:30 - <module>()] ONEDRIVE_CLIENT_ID = [None]\n",
      "INFO: [config/onedrive_config.py:31 - <module>()] ONEDRIVE_TENANT_ID = [None]\n",
      "WARNING: [config/onedrive_config.py:42 - <module>()] Can't access onedrive client secret\n",
      "WARNING: [config/onedrive_config.py:48 - <module>()] Can't access onedrive principle name\n",
      "INFO: [utils/text_helper.py:43 - <module>()] using default spacy model\n"
     ]
    }
   ],
   "source": [
    "import tempfile\n",
    "import os\n",
    "from typing import List, Optional, Tuple, Dict\n",
    "from common.utils.logging_handler import Logger\n",
    "from common.models import (UserQuery, QueryResult, QueryEngine, QueryDocument,\n",
    "                           QueryReference, QueryDocumentChunk, BatchJobModel)\n",
    "from common.utils.errors import (ResourceNotFoundException,\n",
    "                                 ValidationError)\n",
    "from common.utils.http_exceptions import InternalServerError\n",
    "from utils.errors import NoDocumentsIndexedException\n",
    "from google.cloud import storage\n",
    "from services import llm_generate, embeddings\n",
    "from services.query import query_prompts\n",
    "from services.query.vector_store import VectorStore\n",
    "from services.query.data_source import DataSource\n",
    "    \n",
    "from config import (PROJECT_ID, DEFAULT_QUERY_CHAT_MODEL,\n",
    "                        DEFAULT_QUERY_EMBEDDING_MODEL)\n",
    "import spacy"
   ]
  },
  {
   "cell_type": "code",
   "execution_count": 6,
   "id": "98bad6b3-82ab-4436-80f9-f5940e913164",
   "metadata": {},
   "outputs": [
    {
     "name": "stdout",
     "output_type": "stream",
     "text": [
      "Collecting en-core-web-md==3.7.1\n",
      "  Downloading https://github.com/explosion/spacy-models/releases/download/en_core_web_md-3.7.1/en_core_web_md-3.7.1-py3-none-any.whl (42.8 MB)\n",
      "\u001b[2K     \u001b[90m━━━━━━━━━━━━━━━━━━━━━━━━━━━━━━━━━━━━━━━━\u001b[0m \u001b[32m42.8/42.8 MB\u001b[0m \u001b[31m12.2 MB/s\u001b[0m eta \u001b[36m0:00:00\u001b[0m00:01\u001b[0m00:01\u001b[0m\n",
      "\u001b[?25hRequirement already satisfied: spacy<3.8.0,>=3.7.2 in ./.venv/lib/python3.9/site-packages (from en-core-web-md==3.7.1) (3.7.2)\n",
      "Requirement already satisfied: cymem<2.1.0,>=2.0.2 in ./.venv/lib/python3.9/site-packages (from spacy<3.8.0,>=3.7.2->en-core-web-md==3.7.1) (2.0.8)\n",
      "Requirement already satisfied: requests<3.0.0,>=2.13.0 in ./.venv/lib/python3.9/site-packages (from spacy<3.8.0,>=3.7.2->en-core-web-md==3.7.1) (2.31.0)\n",
      "Requirement already satisfied: setuptools in ./.venv/lib/python3.9/site-packages (from spacy<3.8.0,>=3.7.2->en-core-web-md==3.7.1) (58.1.0)\n",
      "Requirement already satisfied: srsly<3.0.0,>=2.4.3 in ./.venv/lib/python3.9/site-packages (from spacy<3.8.0,>=3.7.2->en-core-web-md==3.7.1) (2.4.8)\n",
      "Requirement already satisfied: thinc<8.3.0,>=8.1.8 in ./.venv/lib/python3.9/site-packages (from spacy<3.8.0,>=3.7.2->en-core-web-md==3.7.1) (8.2.3)\n",
      "Requirement already satisfied: spacy-legacy<3.1.0,>=3.0.11 in ./.venv/lib/python3.9/site-packages (from spacy<3.8.0,>=3.7.2->en-core-web-md==3.7.1) (3.0.12)\n",
      "Requirement already satisfied: jinja2 in ./.venv/lib/python3.9/site-packages (from spacy<3.8.0,>=3.7.2->en-core-web-md==3.7.1) (3.1.3)\n",
      "Requirement already satisfied: numpy>=1.19.0 in ./.venv/lib/python3.9/site-packages (from spacy<3.8.0,>=3.7.2->en-core-web-md==3.7.1) (1.25.0)\n",
      "Requirement already satisfied: murmurhash<1.1.0,>=0.28.0 in ./.venv/lib/python3.9/site-packages (from spacy<3.8.0,>=3.7.2->en-core-web-md==3.7.1) (1.0.10)\n",
      "Requirement already satisfied: weasel<0.4.0,>=0.1.0 in ./.venv/lib/python3.9/site-packages (from spacy<3.8.0,>=3.7.2->en-core-web-md==3.7.1) (0.3.4)\n",
      "Requirement already satisfied: wasabi<1.2.0,>=0.9.1 in ./.venv/lib/python3.9/site-packages (from spacy<3.8.0,>=3.7.2->en-core-web-md==3.7.1) (1.1.2)\n",
      "Requirement already satisfied: smart-open<7.0.0,>=5.2.1 in ./.venv/lib/python3.9/site-packages (from spacy<3.8.0,>=3.7.2->en-core-web-md==3.7.1) (6.4.0)\n",
      "Requirement already satisfied: typer<0.10.0,>=0.3.0 in ./.venv/lib/python3.9/site-packages (from spacy<3.8.0,>=3.7.2->en-core-web-md==3.7.1) (0.9.4)\n",
      "Requirement already satisfied: packaging>=20.0 in ./.venv/lib/python3.9/site-packages (from spacy<3.8.0,>=3.7.2->en-core-web-md==3.7.1) (23.2)\n",
      "Requirement already satisfied: pydantic!=1.8,!=1.8.1,<3.0.0,>=1.7.4 in ./.venv/lib/python3.9/site-packages (from spacy<3.8.0,>=3.7.2->en-core-web-md==3.7.1) (1.10.15)\n",
      "Requirement already satisfied: preshed<3.1.0,>=3.0.2 in ./.venv/lib/python3.9/site-packages (from spacy<3.8.0,>=3.7.2->en-core-web-md==3.7.1) (3.0.9)\n",
      "Requirement already satisfied: tqdm<5.0.0,>=4.38.0 in ./.venv/lib/python3.9/site-packages (from spacy<3.8.0,>=3.7.2->en-core-web-md==3.7.1) (4.66.2)\n",
      "Requirement already satisfied: catalogue<2.1.0,>=2.0.6 in ./.venv/lib/python3.9/site-packages (from spacy<3.8.0,>=3.7.2->en-core-web-md==3.7.1) (2.0.10)\n",
      "Requirement already satisfied: spacy-loggers<2.0.0,>=1.0.0 in ./.venv/lib/python3.9/site-packages (from spacy<3.8.0,>=3.7.2->en-core-web-md==3.7.1) (1.0.5)\n",
      "Requirement already satisfied: langcodes<4.0.0,>=3.2.0 in ./.venv/lib/python3.9/site-packages (from spacy<3.8.0,>=3.7.2->en-core-web-md==3.7.1) (3.3.0)\n",
      "Requirement already satisfied: typing-extensions>=4.2.0 in ./.venv/lib/python3.9/site-packages (from pydantic!=1.8,!=1.8.1,<3.0.0,>=1.7.4->spacy<3.8.0,>=3.7.2->en-core-web-md==3.7.1) (4.11.0)\n",
      "Requirement already satisfied: urllib3<3,>=1.21.1 in ./.venv/lib/python3.9/site-packages (from requests<3.0.0,>=2.13.0->spacy<3.8.0,>=3.7.2->en-core-web-md==3.7.1) (2.2.1)\n",
      "Requirement already satisfied: certifi>=2017.4.17 in ./.venv/lib/python3.9/site-packages (from requests<3.0.0,>=2.13.0->spacy<3.8.0,>=3.7.2->en-core-web-md==3.7.1) (2024.2.2)\n",
      "Requirement already satisfied: charset-normalizer<4,>=2 in ./.venv/lib/python3.9/site-packages (from requests<3.0.0,>=2.13.0->spacy<3.8.0,>=3.7.2->en-core-web-md==3.7.1) (3.3.2)\n",
      "Requirement already satisfied: idna<4,>=2.5 in ./.venv/lib/python3.9/site-packages (from requests<3.0.0,>=2.13.0->spacy<3.8.0,>=3.7.2->en-core-web-md==3.7.1) (3.7)\n",
      "Requirement already satisfied: confection<1.0.0,>=0.0.1 in ./.venv/lib/python3.9/site-packages (from thinc<8.3.0,>=8.1.8->spacy<3.8.0,>=3.7.2->en-core-web-md==3.7.1) (0.1.4)\n",
      "Requirement already satisfied: blis<0.8.0,>=0.7.8 in ./.venv/lib/python3.9/site-packages (from thinc<8.3.0,>=8.1.8->spacy<3.8.0,>=3.7.2->en-core-web-md==3.7.1) (0.7.11)\n",
      "Requirement already satisfied: click<9.0.0,>=7.1.1 in ./.venv/lib/python3.9/site-packages (from typer<0.10.0,>=0.3.0->spacy<3.8.0,>=3.7.2->en-core-web-md==3.7.1) (8.1.7)\n",
      "Requirement already satisfied: cloudpathlib<0.17.0,>=0.7.0 in ./.venv/lib/python3.9/site-packages (from weasel<0.4.0,>=0.1.0->spacy<3.8.0,>=3.7.2->en-core-web-md==3.7.1) (0.16.0)\n",
      "Requirement already satisfied: MarkupSafe>=2.0 in ./.venv/lib/python3.9/site-packages (from jinja2->spacy<3.8.0,>=3.7.2->en-core-web-md==3.7.1) (2.1.5)\n",
      "Installing collected packages: en-core-web-md\n",
      "Successfully installed en-core-web-md-3.7.1\n",
      "\u001b[38;5;2m✔ Download and installation successful\u001b[0m\n",
      "You can now load the package via spacy.load('en_core_web_md')\n"
     ]
    }
   ],
   "source": [
    "# do this once per vm environment\n",
    "!python -m spacy download en_core_web_md\n",
    "\n",
    "nlp = spacy.load(\"en_core_web_md\")\n",
    "storage_client = storage.Client(project=PROJECT_ID)"
   ]
  },
  {
   "cell_type": "code",
   "execution_count": 7,
   "id": "e2904a8b-9398-441e-a425-c845b99437f2",
   "metadata": {},
   "outputs": [
    {
     "data": {
      "text/plain": [
       "[('Test QEAdmin Engine', '8wSqUJpSOXkwYyH8toH8'),\n",
       " ('NY Times', 'gdjbNCJaTFBI9VOQ5wea'),\n",
       " ('Eagle County Rental Assistance Program Integrated Search',\n",
       "  'bL8G7DTKs9mtf0FLkj5F'),\n",
       " ('Eagle County Residential Assistance Docs', 'rfdRfI2CF0o6PFzoERDH'),\n",
       " ('Eagle County Residential Assistance 2', 'zigHiOwtcmEYGEgHEPu9'),\n",
       " ('Eagle County Residential Assistance 3', 'eWxGPu2xDBZnYPDwez6Z'),\n",
       " ('Eagle County Residential Assistance', 'EXGzHlzbnRiE8zqfdQpp'),\n",
       " ('Princeton Web Site', 'jWgVRunaEkT85n6alm9E'),\n",
       " ('NYC DOE Site', 'my77xrKcW5s21MLk3RtS'),\n",
       " ('Covered CA Integrated', 'QDurLC0rIwbZRjcuH7jf'),\n",
       " ('Covered CA Docs', 'WFmXMhSQZpU2EQjGOwyd'),\n",
       " ('Covered CA Genie', '7ijUSBdrpyo6ldhFTQgs')]"
      ]
     },
     "execution_count": 7,
     "metadata": {},
     "output_type": "execute_result"
    }
   ],
   "source": [
    "qe_list = QueryEngine.fetch_all()\n",
    "[(qe.name, qe.id) for qe in qe_list]"
   ]
  },
  {
   "cell_type": "code",
   "execution_count": null,
   "id": "4dd71700",
   "metadata": {},
   "outputs": [],
   "source": [
    "query_engine = \"lukman-test-vs-6\"\n",
    "doc_url = \"gs://lramsey-dev-mira-demo-docs\"\n",
    "user_id = \"epKVwPZeIBz1rrqcDm1B\"\n",
    "is_public=True\n",
    "query_description=\"test vertex search\""
   ]
  },
  {
   "cell_type": "code",
   "execution_count": null,
   "id": "c1c39234-2751-4589-adf8-67b03370af7e",
   "metadata": {},
   "outputs": [],
   "source": [
    "#query_engine = \"lukman-test-html\"\n",
    "#doc_url = \"https://health.ny.gov/health_care/medicaid/rates/manual/apg_provider_manual_december.htm\"\n",
    "#user_id = \"epKVwPZeIBz1rrqcDm1B\"\n",
    "#query_description=\"test depth limit\"\n",
    "#storage_client = storage.Client(project=PROJECT_ID)"
   ]
  },
  {
   "cell_type": "code",
   "execution_count": null,
   "id": "53ab43bd-8cca-4009-a1ea-9bac3dbeb8f0",
   "metadata": {},
   "outputs": [],
   "source": [
    "from common.models.llm_query import QE_TYPE_VERTEX_SEARCH, QE_TYPE_LLM_SERVICE"
   ]
  },
  {
   "cell_type": "code",
   "execution_count": null,
   "id": "8632d1ef",
   "metadata": {},
   "outputs": [],
   "source": [
    "# create q_engine\n",
    "params = {\"depth_limit\": 1}\n",
    "query_engine_type = QE_TYPE_VERTEX_SEARCH\n",
    "embedding_type = DEFAULT_QUERY_EMBEDDING_MODEL\n",
    "llm_type = DEFAULT_QUERY_EMBEDDING_MODEL\n",
    "vector_store_type = \"langchain_pgvector\"\n",
    "q_engine = QueryEngine(name=query_engine,\n",
    "                     created_by=user_id,\n",
    "                     query_engine_type=QE_TYPE_VERTEX_SEARCH,\n",
    "                     llm_type=llm_type,\n",
    "                     description=query_description,\n",
    "                     embedding_type=embedding_type,\n",
    "                     vector_store=vector_store_type,\n",
    "                     params=params,\n",
    "                     doc_url=doc_url)\n",
    "q_engine.save()"
   ]
  },
  {
   "cell_type": "code",
   "execution_count": null,
   "id": "2388b0ca-6da9-48d2-b14b-93e0e1ac48fb",
   "metadata": {},
   "outputs": [],
   "source": [
    "from google.cloud import discoveryengine_v1alpha as discoveryengine"
   ]
  },
  {
   "cell_type": "code",
   "execution_count": null,
   "id": "20a17da4-6bad-44c5-8569-67ea377a5915",
   "metadata": {},
   "outputs": [],
   "source": [
    "location = \"global\"\n",
    "project_id = PROJECT_ID"
   ]
  },
  {
   "cell_type": "code",
   "execution_count": null,
   "id": "00a37aa8-5e1e-40e5-aab0-b7d05d58e06b",
   "metadata": {},
   "outputs": [],
   "source": [
    "parent = \"projects/lramsey-dev/locations/global/collections/default_collection\""
   ]
  },
  {
   "cell_type": "code",
   "execution_count": null,
   "id": "ed9f1624-3672-49c4-bea3-5175ef8197ba",
   "metadata": {},
   "outputs": [],
   "source": [
    "# Create a Data Store...\n",
    "data_store_id = q_engine.name\n",
    "\n",
    "dss_client = discoveryengine.DataStoreServiceClient()\n",
    "\n",
    "ds_parent = parent\n",
    "\n",
    "content_config = discoveryengine.DataStore.ContentConfig.CONTENT_REQUIRED\n",
    "data_store = discoveryengine.DataStore(display_name=q_engine.name,\n",
    "                                       industry_vertical=\"GENERIC\",\n",
    "                                       solution_types=[\"SOLUTION_TYPE_SEARCH\"],\n",
    "                                       content_config=content_config)"
   ]
  },
  {
   "cell_type": "code",
   "execution_count": null,
   "id": "80d179f1-ad95-4c32-a0b3-d989556ae11c",
   "metadata": {},
   "outputs": [],
   "source": [
    "data_store"
   ]
  },
  {
   "cell_type": "code",
   "execution_count": null,
   "id": "7fbf7b81-7397-427c-8dcb-bd501c59a1fb",
   "metadata": {},
   "outputs": [],
   "source": [
    "ds_request = discoveryengine.CreateDataStoreRequest(parent=ds_parent,\n",
    "                                                    data_store_id=data_store_id,\n",
    "                                                    data_store=data_store)\n",
    "\n",
    "operation = dss_client.create_data_store(request=ds_request)\n"
   ]
  },
  {
   "cell_type": "code",
   "execution_count": null,
   "id": "19957551-0981-4fbd-950b-50ba1d960c3f",
   "metadata": {},
   "outputs": [],
   "source": [
    "operation.done()"
   ]
  },
  {
   "cell_type": "code",
   "execution_count": null,
   "id": "cf266d2b-954e-4c85-b857-a12825a3c55d",
   "metadata": {},
   "outputs": [],
   "source": [
    "gcs_uri = doc_url\n",
    "\n",
    "ds_client = discoveryengine.DocumentServiceClient()\n",
    "\n",
    "parent = ds_client.branch_path(\n",
    "  project=project_id,\n",
    "  location=location,\n",
    "  data_store=data_store_id,\n",
    "  branch=\"default_branch\",\n",
    ")\n",
    "\n",
    "gcs_uris = [\n",
    "  f\"{gcs_uri}/*.pdf\",\n",
    "#  f\"{gcs_uri}/*.html\",\n",
    "]\n",
    "\n",
    "request = discoveryengine.ImportDocumentsRequest(\n",
    "  parent=parent,\n",
    "  gcs_source=discoveryengine.GcsSource(\n",
    "      input_uris=gcs_uris, data_schema=\"content\"\n",
    "  ),\n",
    "  # Options: `FULL`, `INCREMENTAL`\n",
    "  reconciliation_mode=discoveryengine.ImportDocumentsRequest.ReconciliationMode.INCREMENTAL,\n",
    ")\n",
    "\n",
    "# Make the request\n",
    "operation = ds_client.import_documents(request=request)"
   ]
  },
  {
   "cell_type": "code",
   "execution_count": null,
   "id": "93df558d-c8c0-45e0-acac-7479c3e2da5c",
   "metadata": {},
   "outputs": [],
   "source": [
    "response = operation.result()"
   ]
  },
  {
   "cell_type": "code",
   "execution_count": null,
   "id": "a5e8ea73-5611-407d-b62d-8be4c434d64b",
   "metadata": {},
   "outputs": [],
   "source": [
    "response"
   ]
  },
  {
   "cell_type": "code",
   "execution_count": null,
   "id": "5297f8d3-242e-469b-b07d-54b0a1f4e620",
   "metadata": {},
   "outputs": [],
   "source": [
    "metadata = discoveryengine.ImportDocumentsMetadata(operation.metadata)"
   ]
  },
  {
   "cell_type": "code",
   "execution_count": null,
   "id": "f4139375-4781-4b87-b3bb-2797d23bc4a2",
   "metadata": {},
   "outputs": [],
   "source": [
    "metadata"
   ]
  },
  {
   "cell_type": "code",
   "execution_count": null,
   "id": "fdfadaba-0ac8-48d8-8da7-19481c838e6f",
   "metadata": {},
   "outputs": [],
   "source": [
    "parent = f\"projects/{project_id}/locations/global/collections/default_collection\"\n",
    "engine = discoveryengine.Engine()\n",
    "engine.display_name = q_engine.name\n",
    "engine.solution_type = \"SOLUTION_TYPE_SEARCH\"\n",
    "engine.data_store_ids = [data_store_id]\n",
    "request = discoveryengine.CreateEngineRequest(parent=parent,\n",
    "                                            engine=engine,\n",
    "                                            engine_id=data_store_id)"
   ]
  },
  {
   "cell_type": "code",
   "execution_count": null,
   "id": "247d4917-e0ba-4a65-8ca0-d7da0b30b8d6",
   "metadata": {},
   "outputs": [],
   "source": [
    "es_client = discoveryengine.EngineServiceClient()\n",
    "operation = es_client.create_engine(request=request)"
   ]
  },
  {
   "cell_type": "code",
   "execution_count": null,
   "id": "1e8e9481-a741-4ceb-b215-a57d772a7a90",
   "metadata": {},
   "outputs": [],
   "source": [
    "operation.done()"
   ]
  },
  {
   "cell_type": "code",
   "execution_count": null,
   "id": "fced373a-9ff9-42b0-abc5-7767e268462c",
   "metadata": {},
   "outputs": [],
   "source": [
    "from services.query.vertex_search import create_client, import_documents_gcs"
   ]
  },
  {
   "cell_type": "code",
   "execution_count": null,
   "id": "b886e751-cb82-48e1-8ded-14a9b6e3b20c",
   "metadata": {},
   "outputs": [],
   "source": [
    "client,parent = create_client(PROJECT_ID, location, data_store_id)"
   ]
  },
  {
   "cell_type": "code",
   "execution_count": null,
   "id": "1dabecab-ced4-4bd7-813a-c457e546512c",
   "metadata": {},
   "outputs": [],
   "source": [
    "parent"
   ]
  },
  {
   "cell_type": "code",
   "execution_count": null,
   "id": "1989a0ac-bad3-4e16-839c-c6f9d4af192d",
   "metadata": {},
   "outputs": [],
   "source": [
    "operation = import_documents_gcs(doc_url, client, parent)"
   ]
  },
  {
   "cell_type": "code",
   "execution_count": null,
   "id": "38fc9e19-0376-48a1-973b-3813f1505e1b",
   "metadata": {},
   "outputs": [],
   "source": [
    "from services import llm_generate, embeddings\n",
    "from services.query import query_prompts\n",
    "from services.query.vector_store import VectorStore\n",
    "from services.query.data_source import DataSource\n",
    "from services.query.query_service import datasource_from_url\n",
    "from config import (PROJECT_ID, DEFAULT_QUERY_CHAT_MODEL,\n",
    "                    DEFAULT_QUERY_EMBEDDING_MODEL)\n",
    "import spacy"
   ]
  },
  {
   "cell_type": "code",
   "execution_count": null,
   "id": "0c4e6791-ac94-4eec-a696-13ce558bbf2b",
   "metadata": {},
   "outputs": [],
   "source": [
    "doc_name, index_doc_url, doc_filepath = doc_filepaths[0]"
   ]
  },
  {
   "cell_type": "code",
   "execution_count": null,
   "id": "fd3d59d5-f67a-4c74-80c7-c8c76cb0d7c3",
   "metadata": {},
   "outputs": [],
   "source": [
    "text_chunks = data_source.chunk_document(doc_name, index_doc_url, doc_filepath)"
   ]
  },
  {
   "cell_type": "code",
   "execution_count": null,
   "id": "bb7ee7d3-e42d-4f12-8867-bb5ba1af0e4c",
   "metadata": {},
   "outputs": [],
   "source": [
    "len(text_chunks)"
   ]
  },
  {
   "cell_type": "code",
   "execution_count": null,
   "id": "be8d7b02-90d2-404e-b9ad-69ed59f49231",
   "metadata": {},
   "outputs": [],
   "source": [
    "text_chunks[8]"
   ]
  },
  {
   "cell_type": "code",
   "execution_count": null,
   "id": "cc7d1c02-3290-4e23-8a9b-09193f7926f8",
   "metadata": {},
   "outputs": [],
   "source": [
    "data_source.text_to_sentence_list(text_chunks[6])"
   ]
  },
  {
   "cell_type": "code",
   "execution_count": null,
   "id": "5cc27aab-3a54-4f63-a618-8ceecf3606a1",
   "metadata": {},
   "outputs": [],
   "source": []
  },
  {
   "cell_type": "code",
   "execution_count": null,
   "id": "721d1a9f-3f54-4a84-ae2f-ac8dd1c2ca7e",
   "metadata": {},
   "outputs": [],
   "source": [
    "embeddings.get_embeddings(text_chunks, embedding_type)"
   ]
  },
  {
   "cell_type": "code",
   "execution_count": null,
   "id": "d133415e-7ccf-417a-bdbf-a87b70b65ad5",
   "metadata": {},
   "outputs": [],
   "source": [
    "from utils.html_helper import html_to_text, html_to_sentence_list\n",
    "query_description = \"Policies and guidance on billing for dental procedures using CDT codes for Federally Qualified Health Centers (FQHC).  Includes information on state agency reporting of billing against current dental terminology (CDT) codes.  Also includes information on billing, coding and other guidelines that support the implementation of the CY 2023 Medicare Physician Fee Schedule Final Rule on Dental Services.\""
   ]
  },
  {
   "cell_type": "code",
   "execution_count": null,
   "id": "53022cfc",
   "metadata": {},
   "outputs": [],
   "source": [
    "from services.query.query_service import process_documents, vector_store_from_query_engine\n",
    "\n",
    "vector_store = vector_store_from_query_engine(q_engine)"
   ]
  },
  {
   "cell_type": "code",
   "execution_count": null,
   "id": "a30808a8-f22f-40b1-a83b-e8f5959b77f9",
   "metadata": {},
   "outputs": [],
   "source": [
    "text_chunks"
   ]
  },
  {
   "cell_type": "code",
   "execution_count": null,
   "id": "50bc9023-f81a-4435-91d5-3185c6f8aee0",
   "metadata": {},
   "outputs": [],
   "source": [
    "from w3lib.html import replace_escape_chars\n",
    "import re\n",
    "\n",
    "def clean_text(text):\n",
    "  # Replace specific unprocessable characters\n",
    "  cleaned_text = text.replace(\"\\x00\", \"\")\n",
    "\n",
    "  # replace escape characters\n",
    "  cleaned_text = replace_escape_chars(cleaned_text)\n",
    "\n",
    "  # remove all non-printable characters\n",
    "  cleaned_text = re.sub(r\"[^\\x20-\\x7E]\", \"\", cleaned_text)\n",
    "\n",
    "  return cleaned_text"
   ]
  },
  {
   "cell_type": "code",
   "execution_count": null,
   "id": "7db7f83a-26b3-41bd-a0df-aed459da8699",
   "metadata": {},
   "outputs": [],
   "source": [
    "text_chunks = [clean_text(x) for x in text_chunks]"
   ]
  },
  {
   "cell_type": "code",
   "execution_count": null,
   "id": "b6fe36b0-9da5-4ce9-8952-b47fddbab969",
   "metadata": {},
   "outputs": [],
   "source": [
    "text_chunks"
   ]
  },
  {
   "cell_type": "code",
   "execution_count": null,
   "id": "5b9589a5-f2d8-4111-b26c-56216a4a2b28",
   "metadata": {},
   "outputs": [],
   "source": [
    "QueryEngine.delete_by_id(q_engine.id)"
   ]
  },
  {
   "cell_type": "code",
   "execution_count": null,
   "id": "7552f95b-03bd-4334-aa11-10f70f974cca",
   "metadata": {},
   "outputs": [],
   "source": [
    "for i in range(0, len(text_chunks)):\n",
    "  clean_text = html_to_text(text_chunks[i])\n",
    "  sentences = html_to_sentence_list(text_chunks[i])\n",
    "  query_doc_chunk = QueryDocumentChunk(\n",
    "                        query_engine_id=q_engine.id,\n",
    "                        query_document_id=query_doc.id,\n",
    "                        index=i+index_base,\n",
    "                        text=text_chunks[i],\n",
    "                        clean_text=clean_text,\n",
    "                        sentences=sentences)"
   ]
  },
  {
   "cell_type": "code",
   "execution_count": null,
   "id": "5c0aa493",
   "metadata": {},
   "outputs": [],
   "source": [
    "storage_client = storage.Client(project=PROJECT_ID)\n",
    "\n",
    "vector_store = VectorStore(q_engine)"
   ]
  },
  {
   "cell_type": "code",
   "execution_count": null,
   "id": "c690bd12",
   "metadata": {},
   "outputs": [],
   "source": [
    "docs_processed"
   ]
  },
  {
   "cell_type": "code",
   "execution_count": null,
   "id": "39886494",
   "metadata": {},
   "outputs": [],
   "source": [
    "docs_not_processed"
   ]
  },
  {
   "cell_type": "code",
   "execution_count": null,
   "id": "b57a0a07",
   "metadata": {},
   "outputs": [],
   "source": []
  }
 ],
 "metadata": {
  "kernelspec": {
   "display_name": "Python 3 (ipykernel)",
   "language": "python",
   "name": "python3"
  },
  "language_info": {
   "codemirror_mode": {
    "name": "ipython",
    "version": 3
   },
   "file_extension": ".py",
   "mimetype": "text/x-python",
   "name": "python",
   "nbconvert_exporter": "python",
   "pygments_lexer": "ipython3",
   "version": "3.9.13"
  }
 },
 "nbformat": 4,
 "nbformat_minor": 5
}
