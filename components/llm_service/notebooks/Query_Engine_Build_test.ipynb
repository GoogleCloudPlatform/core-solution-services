{
 "cells": [
  {
   "cell_type": "code",
   "execution_count": 1,
   "id": "44c9db81",
   "metadata": {},
   "outputs": [],
   "source": [
    "PROJECT_ID = \"gcp-mira-develop\"\n",
    "REGION = \"us-central1\"\n",
    "import os\n",
    "os.environ[\"PROJECT_ID\"] = PROJECT_ID"
   ]
  },
  {
   "cell_type": "code",
   "execution_count": 2,
   "id": "249e427d",
   "metadata": {},
   "outputs": [],
   "source": [
    "#! gcloud auth login"
   ]
  },
  {
   "cell_type": "code",
   "execution_count": 3,
   "id": "6485508d",
   "metadata": {},
   "outputs": [],
   "source": [
    "import sys\n",
    "sys.path.append(\"../../common/src\")\n",
    "sys.path.append(\"../src\")"
   ]
  },
  {
   "cell_type": "code",
   "execution_count": 5,
   "id": "08365901",
   "metadata": {},
   "outputs": [],
   "source": [
    "import tempfile\n",
    "import os\n",
    "from typing import List, Optional, Tuple, Dict\n",
    "from common.utils.logging_handler import Logger\n",
    "from common.models import (UserQuery, QueryResult, QueryEngine, QueryDocument,\n",
    "                           QueryReference, QueryDocumentChunk, BatchJobModel)\n",
    "from common.utils.errors import (ResourceNotFoundException,\n",
    "                                 ValidationError)\n",
    "from common.utils.http_exceptions import InternalServerError\n",
    "from utils.errors import NoDocumentsIndexedException\n",
    "from google.cloud import storage\n",
    "from services import llm_generate, embeddings\n",
    "from services.query import query_prompts\n",
    "from services.query.vector_store import VectorStore\n",
    "from services.query.data_source import DataSource\n",
    "\n",
    "from config import (PROJECT_ID, DEFAULT_QUERY_CHAT_MODEL,\n",
    "                    DEFAULT_QUERY_EMBEDDING_MODEL)"
   ]
  },
  {
   "cell_type": "code",
   "execution_count": 6,
   "id": "4dd71700",
   "metadata": {},
   "outputs": [],
   "source": [
    "query_engine = \"lukman-test\"\n",
    "doc_url = \"gs://mira-demo-docs\"\n",
    "user_id = \"RkRwdej4IlTvdHdZWCie\"\n",
    "is_public=True\n",
    "storage_client = storage.Client(project=PROJECT_ID)"
   ]
  },
  {
   "cell_type": "code",
   "execution_count": 7,
   "id": "0b308339-c839-40a4-83bd-fd76113c074d",
   "metadata": {},
   "outputs": [],
   "source": [
    "from services.query.query_service import datasource_from_url"
   ]
  },
  {
   "cell_type": "code",
   "execution_count": 8,
   "id": "cf5bafc5-0a4c-4e73-b2cb-2800b4437ed7",
   "metadata": {},
   "outputs": [],
   "source": [
    "data_source = datasource_from_url(doc_url, storage_client)"
   ]
  },
  {
   "cell_type": "code",
   "execution_count": 11,
   "id": "626981d5-0318-40bd-9364-fe2c6a56a01b",
   "metadata": {},
   "outputs": [
    {
     "name": "stdout",
     "output_type": "stream",
     "text": [
      "INFO: [query/data_source.py:55 - download_documents()] downloading gs://mira-demo-docs from bucket mira-demo-docs\n"
     ]
    }
   ],
   "source": [
    "temp_dir = \"/tmp\"\n",
    "doc_filepaths = data_source.download_documents(doc_url, temp_dir)"
   ]
  },
  {
   "cell_type": "code",
   "execution_count": 13,
   "id": "0c4e6791-ac94-4eec-a696-13ce558bbf2b",
   "metadata": {},
   "outputs": [],
   "source": [
    "doc_name, index_doc_url, doc_filepath = doc_filepaths[0]"
   ]
  },
  {
   "cell_type": "code",
   "execution_count": 41,
   "id": "fd3d59d5-f67a-4c74-80c7-c8c76cb0d7c3",
   "metadata": {},
   "outputs": [
    {
     "name": "stdout",
     "output_type": "stream",
     "text": [
      "INFO: [query/data_source.py:89 - chunk_document()] generating index data for A59449_20240106.pdf\n",
      "INFO: [query/data_source.py:148 - read_doc()] Reading pdf file A59449_20240106.pdf with 9 pages\n",
      "INFO: [query/data_source.py:151 - read_doc()] Finished reading pdf file A59449_20240106.pdf\n"
     ]
    }
   ],
   "source": [
    "text_chunks = data_source.chunk_document(doc_name, index_doc_url, doc_filepath)"
   ]
  },
  {
   "cell_type": "code",
   "execution_count": 16,
   "id": "bb7ee7d3-e42d-4f12-8867-bb5ba1af0e4c",
   "metadata": {},
   "outputs": [
    {
     "data": {
      "text/plain": [
       "9"
      ]
     },
     "execution_count": 16,
     "metadata": {},
     "output_type": "execute_result"
    }
   ],
   "source": [
    "len(text_chunks)"
   ]
  },
  {
   "cell_type": "code",
   "execution_count": 27,
   "id": "be8d7b02-90d2-404e-b9ad-69ed59f49231",
   "metadata": {},
   "outputs": [
    {
     "data": {
      "text/plain": [
       "'REVISION HISTORY DATE REVISION HISTORY NUMBER REVISION HISTORY EXPLANATION\\nAssociated Documents\\nRelated Local Coverage Documents\\nN/A\\nRelated National Coverage Documents\\nN/A\\nStatutory Requirements URLs\\nN/A\\nRules and Regulations URLs\\nN/A\\nCMS Manual Explanations URLs\\nN/A\\nOther URLs\\nN/A\\nPublic Versions\\nUPDATED ON EFFECTIVE DATES STATUS\\n06/01/2023 06/08/2023 - N/A Currently in Effect (This Version)\\nKeywords\\nDental Services•\\nCreated on 01/06/2024. Page 9 of \\n9'"
      ]
     },
     "execution_count": 27,
     "metadata": {},
     "output_type": "execute_result"
    }
   ],
   "source": [
    "text_chunks[8]"
   ]
  },
  {
   "cell_type": "code",
   "execution_count": 28,
   "id": "721d1a9f-3f54-4a84-ae2f-ac8dd1c2ca7e",
   "metadata": {},
   "outputs": [
    {
     "name": "stdout",
     "output_type": "stream",
     "text": [
      "INFO: [services/embeddings.py:59 - get_embeddings()] generating embeddings with VertexAI-Embedding\n",
      "INFO: [services/embeddings.py:116 - generate_embeddings()] generating embeddings for embedding type VertexAI-Embedding\n",
      "INFO: [services/embeddings.py:116 - generate_embeddings()] generating embeddings for embedding type VertexAI-Embedding\n"
     ]
    },
    {
     "data": {
      "text/plain": [
       "([True, True, True, True, True, True, True, True, True],\n",
       " array([[ 0.03835627, -0.06541958, -0.00505753, ...,  0.0473529 ,\n",
       "         -0.05531731, -0.00435076],\n",
       "        [ 0.04384657, -0.03203368, -0.02900794, ...,  0.02707246,\n",
       "         -0.03703633,  0.0042127 ],\n",
       "        [ 0.0202451 , -0.02688655, -0.02893464, ...,  0.06515977,\n",
       "         -0.07371525,  0.00849769],\n",
       "        ...,\n",
       "        [-0.00973345, -0.04267366, -0.02435035, ...,  0.0152466 ,\n",
       "         -0.05134102,  0.00717109],\n",
       "        [ 0.02009973, -0.05496827, -0.04531021, ...,  0.00680298,\n",
       "         -0.0600516 ,  0.0019963 ],\n",
       "        [ 0.05907924, -0.02999166, -0.03159067, ...,  0.01713085,\n",
       "         -0.04988874, -0.00134143]]))"
      ]
     },
     "execution_count": 28,
     "metadata": {},
     "output_type": "execute_result"
    }
   ],
   "source": [
    "embedding_type = DEFAULT_QUERY_EMBEDDING_MODEL\n",
    "embeddings.get_embeddings(text_chunks, embedding_type)"
   ]
  },
  {
   "cell_type": "code",
   "execution_count": 32,
   "id": "d133415e-7ccf-417a-bdbf-a87b70b65ad5",
   "metadata": {},
   "outputs": [],
   "source": [
    "from utils.html_helper import html_to_text, html_to_sentence_list\n",
    "query_description = \"Policies and guidance on billing for dental procedures using CDT codes for Federally Qualified Health Centers (FQHC).  Includes information on state agency reporting of billing against current dental terminology (CDT) codes.  Also includes information on billing, coding and other guidelines that support the implementation of the CY 2023 Medicare Physician Fee Schedule Final Rule on Dental Services.\""
   ]
  },
  {
   "cell_type": "code",
   "execution_count": 33,
   "id": "8632d1ef",
   "metadata": {},
   "outputs": [
    {
     "data": {
      "text/plain": [
       "<common.models.llm_query.QueryEngine at 0x136f52a90>"
      ]
     },
     "execution_count": 33,
     "metadata": {},
     "output_type": "execute_result"
    }
   ],
   "source": [
    "# create q_engine\n",
    "llm_type = DEFAULT_QUERY_EMBEDDING_MODEL\n",
    "vector_store_type = \"langchain_pgvector\"\n",
    "q_engine = QueryEngine(name=query_engine,\n",
    "                     created_by=user_id,\n",
    "                     llm_type=llm_type,\n",
    "                     description=query_description,\n",
    "                     embedding_type=embedding_type,\n",
    "                     vector_store=vector_store_type,\n",
    "                     is_public=is_public,\n",
    "                     doc_url=doc_url)\n",
    "q_engine.save()"
   ]
  },
  {
   "cell_type": "code",
   "execution_count": 34,
   "id": "53022cfc",
   "metadata": {},
   "outputs": [
    {
     "ename": "Exception",
     "evalue": "Failed to create vector extension: (psycopg2.OperationalError) connection to server at \"127.0.0.1\", port 5432 failed: FATAL:  database \"pgvector\" does not exist\n\n(Background on this error at: https://sqlalche.me/e/14/e3q8)",
     "output_type": "error",
     "traceback": [
      "\u001b[0;31m---------------------------------------------------------------------------\u001b[0m",
      "\u001b[0;31mOperationalError\u001b[0m                          Traceback (most recent call last)",
      "File \u001b[0;32m~/work/ailp/lukmanr-gps-core-solution-services/components/llm_service/notebooks/.venv/lib/python3.9/site-packages/sqlalchemy/engine/base.py:3371\u001b[0m, in \u001b[0;36mEngine._wrap_pool_connect\u001b[0;34m(self, fn, connection)\u001b[0m\n\u001b[1;32m   3370\u001b[0m \u001b[38;5;28;01mtry\u001b[39;00m:\n\u001b[0;32m-> 3371\u001b[0m     \u001b[38;5;28;01mreturn\u001b[39;00m \u001b[43mfn\u001b[49m\u001b[43m(\u001b[49m\u001b[43m)\u001b[49m\n\u001b[1;32m   3372\u001b[0m \u001b[38;5;28;01mexcept\u001b[39;00m dialect\u001b[38;5;241m.\u001b[39mdbapi\u001b[38;5;241m.\u001b[39mError \u001b[38;5;28;01mas\u001b[39;00m e:\n",
      "File \u001b[0;32m~/work/ailp/lukmanr-gps-core-solution-services/components/llm_service/notebooks/.venv/lib/python3.9/site-packages/sqlalchemy/pool/base.py:327\u001b[0m, in \u001b[0;36mPool.connect\u001b[0;34m(self)\u001b[0m\n\u001b[1;32m    320\u001b[0m \u001b[38;5;250m\u001b[39m\u001b[38;5;124;03m\"\"\"Return a DBAPI connection from the pool.\u001b[39;00m\n\u001b[1;32m    321\u001b[0m \n\u001b[1;32m    322\u001b[0m \u001b[38;5;124;03mThe connection is instrumented such that when its\u001b[39;00m\n\u001b[0;32m   (...)\u001b[0m\n\u001b[1;32m    325\u001b[0m \n\u001b[1;32m    326\u001b[0m \u001b[38;5;124;03m\"\"\"\u001b[39;00m\n\u001b[0;32m--> 327\u001b[0m \u001b[38;5;28;01mreturn\u001b[39;00m \u001b[43m_ConnectionFairy\u001b[49m\u001b[38;5;241;43m.\u001b[39;49m\u001b[43m_checkout\u001b[49m\u001b[43m(\u001b[49m\u001b[38;5;28;43mself\u001b[39;49m\u001b[43m)\u001b[49m\n",
      "File \u001b[0;32m~/work/ailp/lukmanr-gps-core-solution-services/components/llm_service/notebooks/.venv/lib/python3.9/site-packages/sqlalchemy/pool/base.py:894\u001b[0m, in \u001b[0;36m_ConnectionFairy._checkout\u001b[0;34m(cls, pool, threadconns, fairy)\u001b[0m\n\u001b[1;32m    893\u001b[0m \u001b[38;5;28;01mif\u001b[39;00m \u001b[38;5;129;01mnot\u001b[39;00m fairy:\n\u001b[0;32m--> 894\u001b[0m     fairy \u001b[38;5;241m=\u001b[39m \u001b[43m_ConnectionRecord\u001b[49m\u001b[38;5;241;43m.\u001b[39;49m\u001b[43mcheckout\u001b[49m\u001b[43m(\u001b[49m\u001b[43mpool\u001b[49m\u001b[43m)\u001b[49m\n\u001b[1;32m    896\u001b[0m     fairy\u001b[38;5;241m.\u001b[39m_pool \u001b[38;5;241m=\u001b[39m pool\n",
      "File \u001b[0;32m~/work/ailp/lukmanr-gps-core-solution-services/components/llm_service/notebooks/.venv/lib/python3.9/site-packages/sqlalchemy/pool/base.py:493\u001b[0m, in \u001b[0;36m_ConnectionRecord.checkout\u001b[0;34m(cls, pool)\u001b[0m\n\u001b[1;32m    491\u001b[0m \u001b[38;5;129m@classmethod\u001b[39m\n\u001b[1;32m    492\u001b[0m \u001b[38;5;28;01mdef\u001b[39;00m \u001b[38;5;21mcheckout\u001b[39m(\u001b[38;5;28mcls\u001b[39m, pool):\n\u001b[0;32m--> 493\u001b[0m     rec \u001b[38;5;241m=\u001b[39m \u001b[43mpool\u001b[49m\u001b[38;5;241;43m.\u001b[39;49m\u001b[43m_do_get\u001b[49m\u001b[43m(\u001b[49m\u001b[43m)\u001b[49m\n\u001b[1;32m    494\u001b[0m     \u001b[38;5;28;01mtry\u001b[39;00m:\n",
      "File \u001b[0;32m~/work/ailp/lukmanr-gps-core-solution-services/components/llm_service/notebooks/.venv/lib/python3.9/site-packages/sqlalchemy/pool/impl.py:146\u001b[0m, in \u001b[0;36mQueuePool._do_get\u001b[0;34m(self)\u001b[0m\n\u001b[1;32m    145\u001b[0m         \u001b[38;5;28;01mwith\u001b[39;00m util\u001b[38;5;241m.\u001b[39msafe_reraise():\n\u001b[0;32m--> 146\u001b[0m             \u001b[38;5;28mself\u001b[39m\u001b[38;5;241m.\u001b[39m_dec_overflow()\n\u001b[1;32m    147\u001b[0m \u001b[38;5;28;01melse\u001b[39;00m:\n",
      "File \u001b[0;32m~/work/ailp/lukmanr-gps-core-solution-services/components/llm_service/notebooks/.venv/lib/python3.9/site-packages/sqlalchemy/util/langhelpers.py:70\u001b[0m, in \u001b[0;36msafe_reraise.__exit__\u001b[0;34m(self, type_, value, traceback)\u001b[0m\n\u001b[1;32m     69\u001b[0m     \u001b[38;5;28;01mif\u001b[39;00m \u001b[38;5;129;01mnot\u001b[39;00m \u001b[38;5;28mself\u001b[39m\u001b[38;5;241m.\u001b[39mwarn_only:\n\u001b[0;32m---> 70\u001b[0m         \u001b[43mcompat\u001b[49m\u001b[38;5;241;43m.\u001b[39;49m\u001b[43mraise_\u001b[49m\u001b[43m(\u001b[49m\n\u001b[1;32m     71\u001b[0m \u001b[43m            \u001b[49m\u001b[43mexc_value\u001b[49m\u001b[43m,\u001b[49m\n\u001b[1;32m     72\u001b[0m \u001b[43m            \u001b[49m\u001b[43mwith_traceback\u001b[49m\u001b[38;5;241;43m=\u001b[39;49m\u001b[43mexc_tb\u001b[49m\u001b[43m,\u001b[49m\n\u001b[1;32m     73\u001b[0m \u001b[43m        \u001b[49m\u001b[43m)\u001b[49m\n\u001b[1;32m     74\u001b[0m \u001b[38;5;28;01melse\u001b[39;00m:\n",
      "File \u001b[0;32m~/work/ailp/lukmanr-gps-core-solution-services/components/llm_service/notebooks/.venv/lib/python3.9/site-packages/sqlalchemy/util/compat.py:211\u001b[0m, in \u001b[0;36mraise_\u001b[0;34m(***failed resolving arguments***)\u001b[0m\n\u001b[1;32m    210\u001b[0m \u001b[38;5;28;01mtry\u001b[39;00m:\n\u001b[0;32m--> 211\u001b[0m     \u001b[38;5;28;01mraise\u001b[39;00m exception\n\u001b[1;32m    212\u001b[0m \u001b[38;5;28;01mfinally\u001b[39;00m:\n\u001b[1;32m    213\u001b[0m     \u001b[38;5;66;03m# credit to\u001b[39;00m\n\u001b[1;32m    214\u001b[0m     \u001b[38;5;66;03m# https://cosmicpercolator.com/2016/01/13/exception-leaks-in-python-2-and-3/\u001b[39;00m\n\u001b[1;32m    215\u001b[0m     \u001b[38;5;66;03m# as the __traceback__ object creates a cycle\u001b[39;00m\n",
      "File \u001b[0;32m~/work/ailp/lukmanr-gps-core-solution-services/components/llm_service/notebooks/.venv/lib/python3.9/site-packages/sqlalchemy/pool/impl.py:143\u001b[0m, in \u001b[0;36mQueuePool._do_get\u001b[0;34m(self)\u001b[0m\n\u001b[1;32m    142\u001b[0m \u001b[38;5;28;01mtry\u001b[39;00m:\n\u001b[0;32m--> 143\u001b[0m     \u001b[38;5;28;01mreturn\u001b[39;00m \u001b[38;5;28;43mself\u001b[39;49m\u001b[38;5;241;43m.\u001b[39;49m\u001b[43m_create_connection\u001b[49m\u001b[43m(\u001b[49m\u001b[43m)\u001b[49m\n\u001b[1;32m    144\u001b[0m \u001b[38;5;28;01mexcept\u001b[39;00m:\n",
      "File \u001b[0;32m~/work/ailp/lukmanr-gps-core-solution-services/components/llm_service/notebooks/.venv/lib/python3.9/site-packages/sqlalchemy/pool/base.py:273\u001b[0m, in \u001b[0;36mPool._create_connection\u001b[0;34m(self)\u001b[0m\n\u001b[1;32m    271\u001b[0m \u001b[38;5;250m\u001b[39m\u001b[38;5;124;03m\"\"\"Called by subclasses to create a new ConnectionRecord.\"\"\"\u001b[39;00m\n\u001b[0;32m--> 273\u001b[0m \u001b[38;5;28;01mreturn\u001b[39;00m \u001b[43m_ConnectionRecord\u001b[49m\u001b[43m(\u001b[49m\u001b[38;5;28;43mself\u001b[39;49m\u001b[43m)\u001b[49m\n",
      "File \u001b[0;32m~/work/ailp/lukmanr-gps-core-solution-services/components/llm_service/notebooks/.venv/lib/python3.9/site-packages/sqlalchemy/pool/base.py:388\u001b[0m, in \u001b[0;36m_ConnectionRecord.__init__\u001b[0;34m(self, pool, connect)\u001b[0m\n\u001b[1;32m    387\u001b[0m \u001b[38;5;28;01mif\u001b[39;00m connect:\n\u001b[0;32m--> 388\u001b[0m     \u001b[38;5;28;43mself\u001b[39;49m\u001b[38;5;241;43m.\u001b[39;49m\u001b[43m__connect\u001b[49m\u001b[43m(\u001b[49m\u001b[43m)\u001b[49m\n\u001b[1;32m    389\u001b[0m \u001b[38;5;28mself\u001b[39m\u001b[38;5;241m.\u001b[39mfinalize_callback \u001b[38;5;241m=\u001b[39m deque()\n",
      "File \u001b[0;32m~/work/ailp/lukmanr-gps-core-solution-services/components/llm_service/notebooks/.venv/lib/python3.9/site-packages/sqlalchemy/pool/base.py:691\u001b[0m, in \u001b[0;36m_ConnectionRecord.__connect\u001b[0;34m(self)\u001b[0m\n\u001b[1;32m    690\u001b[0m     \u001b[38;5;28;01mwith\u001b[39;00m util\u001b[38;5;241m.\u001b[39msafe_reraise():\n\u001b[0;32m--> 691\u001b[0m         pool\u001b[38;5;241m.\u001b[39mlogger\u001b[38;5;241m.\u001b[39mdebug(\u001b[38;5;124m\"\u001b[39m\u001b[38;5;124mError on connect(): \u001b[39m\u001b[38;5;132;01m%s\u001b[39;00m\u001b[38;5;124m\"\u001b[39m, e)\n\u001b[1;32m    692\u001b[0m \u001b[38;5;28;01melse\u001b[39;00m:\n\u001b[1;32m    693\u001b[0m     \u001b[38;5;66;03m# in SQLAlchemy 1.4 the first_connect event is not used by\u001b[39;00m\n\u001b[1;32m    694\u001b[0m     \u001b[38;5;66;03m# the engine, so this will usually not be set\u001b[39;00m\n",
      "File \u001b[0;32m~/work/ailp/lukmanr-gps-core-solution-services/components/llm_service/notebooks/.venv/lib/python3.9/site-packages/sqlalchemy/util/langhelpers.py:70\u001b[0m, in \u001b[0;36msafe_reraise.__exit__\u001b[0;34m(self, type_, value, traceback)\u001b[0m\n\u001b[1;32m     69\u001b[0m     \u001b[38;5;28;01mif\u001b[39;00m \u001b[38;5;129;01mnot\u001b[39;00m \u001b[38;5;28mself\u001b[39m\u001b[38;5;241m.\u001b[39mwarn_only:\n\u001b[0;32m---> 70\u001b[0m         \u001b[43mcompat\u001b[49m\u001b[38;5;241;43m.\u001b[39;49m\u001b[43mraise_\u001b[49m\u001b[43m(\u001b[49m\n\u001b[1;32m     71\u001b[0m \u001b[43m            \u001b[49m\u001b[43mexc_value\u001b[49m\u001b[43m,\u001b[49m\n\u001b[1;32m     72\u001b[0m \u001b[43m            \u001b[49m\u001b[43mwith_traceback\u001b[49m\u001b[38;5;241;43m=\u001b[39;49m\u001b[43mexc_tb\u001b[49m\u001b[43m,\u001b[49m\n\u001b[1;32m     73\u001b[0m \u001b[43m        \u001b[49m\u001b[43m)\u001b[49m\n\u001b[1;32m     74\u001b[0m \u001b[38;5;28;01melse\u001b[39;00m:\n",
      "File \u001b[0;32m~/work/ailp/lukmanr-gps-core-solution-services/components/llm_service/notebooks/.venv/lib/python3.9/site-packages/sqlalchemy/util/compat.py:211\u001b[0m, in \u001b[0;36mraise_\u001b[0;34m(***failed resolving arguments***)\u001b[0m\n\u001b[1;32m    210\u001b[0m \u001b[38;5;28;01mtry\u001b[39;00m:\n\u001b[0;32m--> 211\u001b[0m     \u001b[38;5;28;01mraise\u001b[39;00m exception\n\u001b[1;32m    212\u001b[0m \u001b[38;5;28;01mfinally\u001b[39;00m:\n\u001b[1;32m    213\u001b[0m     \u001b[38;5;66;03m# credit to\u001b[39;00m\n\u001b[1;32m    214\u001b[0m     \u001b[38;5;66;03m# https://cosmicpercolator.com/2016/01/13/exception-leaks-in-python-2-and-3/\u001b[39;00m\n\u001b[1;32m    215\u001b[0m     \u001b[38;5;66;03m# as the __traceback__ object creates a cycle\u001b[39;00m\n",
      "File \u001b[0;32m~/work/ailp/lukmanr-gps-core-solution-services/components/llm_service/notebooks/.venv/lib/python3.9/site-packages/sqlalchemy/pool/base.py:686\u001b[0m, in \u001b[0;36m_ConnectionRecord.__connect\u001b[0;34m(self)\u001b[0m\n\u001b[1;32m    685\u001b[0m \u001b[38;5;28mself\u001b[39m\u001b[38;5;241m.\u001b[39mstarttime \u001b[38;5;241m=\u001b[39m time\u001b[38;5;241m.\u001b[39mtime()\n\u001b[0;32m--> 686\u001b[0m \u001b[38;5;28mself\u001b[39m\u001b[38;5;241m.\u001b[39mdbapi_connection \u001b[38;5;241m=\u001b[39m connection \u001b[38;5;241m=\u001b[39m \u001b[43mpool\u001b[49m\u001b[38;5;241;43m.\u001b[39;49m\u001b[43m_invoke_creator\u001b[49m\u001b[43m(\u001b[49m\u001b[38;5;28;43mself\u001b[39;49m\u001b[43m)\u001b[49m\n\u001b[1;32m    687\u001b[0m pool\u001b[38;5;241m.\u001b[39mlogger\u001b[38;5;241m.\u001b[39mdebug(\u001b[38;5;124m\"\u001b[39m\u001b[38;5;124mCreated new connection \u001b[39m\u001b[38;5;132;01m%r\u001b[39;00m\u001b[38;5;124m\"\u001b[39m, connection)\n",
      "File \u001b[0;32m~/work/ailp/lukmanr-gps-core-solution-services/components/llm_service/notebooks/.venv/lib/python3.9/site-packages/sqlalchemy/engine/create.py:574\u001b[0m, in \u001b[0;36mcreate_engine.<locals>.connect\u001b[0;34m(connection_record)\u001b[0m\n\u001b[1;32m    573\u001b[0m             \u001b[38;5;28;01mreturn\u001b[39;00m connection\n\u001b[0;32m--> 574\u001b[0m \u001b[38;5;28;01mreturn\u001b[39;00m \u001b[43mdialect\u001b[49m\u001b[38;5;241;43m.\u001b[39;49m\u001b[43mconnect\u001b[49m\u001b[43m(\u001b[49m\u001b[38;5;241;43m*\u001b[39;49m\u001b[43mcargs\u001b[49m\u001b[43m,\u001b[49m\u001b[43m \u001b[49m\u001b[38;5;241;43m*\u001b[39;49m\u001b[38;5;241;43m*\u001b[39;49m\u001b[43mcparams\u001b[49m\u001b[43m)\u001b[49m\n",
      "File \u001b[0;32m~/work/ailp/lukmanr-gps-core-solution-services/components/llm_service/notebooks/.venv/lib/python3.9/site-packages/sqlalchemy/engine/default.py:598\u001b[0m, in \u001b[0;36mDefaultDialect.connect\u001b[0;34m(self, *cargs, **cparams)\u001b[0m\n\u001b[1;32m    596\u001b[0m \u001b[38;5;28;01mdef\u001b[39;00m \u001b[38;5;21mconnect\u001b[39m(\u001b[38;5;28mself\u001b[39m, \u001b[38;5;241m*\u001b[39mcargs, \u001b[38;5;241m*\u001b[39m\u001b[38;5;241m*\u001b[39mcparams):\n\u001b[1;32m    597\u001b[0m     \u001b[38;5;66;03m# inherits the docstring from interfaces.Dialect.connect\u001b[39;00m\n\u001b[0;32m--> 598\u001b[0m     \u001b[38;5;28;01mreturn\u001b[39;00m \u001b[38;5;28;43mself\u001b[39;49m\u001b[38;5;241;43m.\u001b[39;49m\u001b[43mdbapi\u001b[49m\u001b[38;5;241;43m.\u001b[39;49m\u001b[43mconnect\u001b[49m\u001b[43m(\u001b[49m\u001b[38;5;241;43m*\u001b[39;49m\u001b[43mcargs\u001b[49m\u001b[43m,\u001b[49m\u001b[43m \u001b[49m\u001b[38;5;241;43m*\u001b[39;49m\u001b[38;5;241;43m*\u001b[39;49m\u001b[43mcparams\u001b[49m\u001b[43m)\u001b[49m\n",
      "File \u001b[0;32m~/work/ailp/lukmanr-gps-core-solution-services/components/llm_service/notebooks/.venv/lib/python3.9/site-packages/psycopg2/__init__.py:122\u001b[0m, in \u001b[0;36mconnect\u001b[0;34m(dsn, connection_factory, cursor_factory, **kwargs)\u001b[0m\n\u001b[1;32m    121\u001b[0m dsn \u001b[38;5;241m=\u001b[39m _ext\u001b[38;5;241m.\u001b[39mmake_dsn(dsn, \u001b[38;5;241m*\u001b[39m\u001b[38;5;241m*\u001b[39mkwargs)\n\u001b[0;32m--> 122\u001b[0m conn \u001b[38;5;241m=\u001b[39m \u001b[43m_connect\u001b[49m\u001b[43m(\u001b[49m\u001b[43mdsn\u001b[49m\u001b[43m,\u001b[49m\u001b[43m \u001b[49m\u001b[43mconnection_factory\u001b[49m\u001b[38;5;241;43m=\u001b[39;49m\u001b[43mconnection_factory\u001b[49m\u001b[43m,\u001b[49m\u001b[43m \u001b[49m\u001b[38;5;241;43m*\u001b[39;49m\u001b[38;5;241;43m*\u001b[39;49m\u001b[43mkwasync\u001b[49m\u001b[43m)\u001b[49m\n\u001b[1;32m    123\u001b[0m \u001b[38;5;28;01mif\u001b[39;00m cursor_factory \u001b[38;5;129;01mis\u001b[39;00m \u001b[38;5;129;01mnot\u001b[39;00m \u001b[38;5;28;01mNone\u001b[39;00m:\n",
      "\u001b[0;31mOperationalError\u001b[0m: connection to server at \"127.0.0.1\", port 5432 failed: FATAL:  database \"pgvector\" does not exist\n",
      "\nThe above exception was the direct cause of the following exception:\n",
      "\u001b[0;31mOperationalError\u001b[0m                          Traceback (most recent call last)",
      "File \u001b[0;32m~/work/ailp/lukmanr-gps-core-solution-services/components/llm_service/notebooks/.venv/lib/python3.9/site-packages/langchain_community/vectorstores/pgvector.py:246\u001b[0m, in \u001b[0;36mPGVector.create_vector_extension\u001b[0;34m(self)\u001b[0m\n\u001b[1;32m    240\u001b[0m statement \u001b[38;5;241m=\u001b[39m sqlalchemy\u001b[38;5;241m.\u001b[39mtext(\n\u001b[1;32m    241\u001b[0m     \u001b[38;5;124m\"\u001b[39m\u001b[38;5;124mBEGIN;\u001b[39m\u001b[38;5;124m\"\u001b[39m\n\u001b[1;32m    242\u001b[0m     \u001b[38;5;124m\"\u001b[39m\u001b[38;5;124mSELECT pg_advisory_xact_lock(1573678846307946496);\u001b[39m\u001b[38;5;124m\"\u001b[39m\n\u001b[1;32m    243\u001b[0m     \u001b[38;5;124m\"\u001b[39m\u001b[38;5;124mCREATE EXTENSION IF NOT EXISTS vector;\u001b[39m\u001b[38;5;124m\"\u001b[39m\n\u001b[1;32m    244\u001b[0m     \u001b[38;5;124m\"\u001b[39m\u001b[38;5;124mCOMMIT;\u001b[39m\u001b[38;5;124m\"\u001b[39m\n\u001b[1;32m    245\u001b[0m )\n\u001b[0;32m--> 246\u001b[0m \u001b[43msession\u001b[49m\u001b[38;5;241;43m.\u001b[39;49m\u001b[43mexecute\u001b[49m\u001b[43m(\u001b[49m\u001b[43mstatement\u001b[49m\u001b[43m)\u001b[49m\n\u001b[1;32m    247\u001b[0m session\u001b[38;5;241m.\u001b[39mcommit()\n",
      "File \u001b[0;32m~/work/ailp/lukmanr-gps-core-solution-services/components/llm_service/notebooks/.venv/lib/python3.9/site-packages/sqlalchemy/orm/session.py:1716\u001b[0m, in \u001b[0;36mSession.execute\u001b[0;34m(self, statement, params, execution_options, bind_arguments, _parent_execute_state, _add_event, **kw)\u001b[0m\n\u001b[1;32m   1715\u001b[0m \u001b[38;5;28;01melse\u001b[39;00m:\n\u001b[0;32m-> 1716\u001b[0m     conn \u001b[38;5;241m=\u001b[39m \u001b[38;5;28;43mself\u001b[39;49m\u001b[38;5;241;43m.\u001b[39;49m\u001b[43m_connection_for_bind\u001b[49m\u001b[43m(\u001b[49m\u001b[43mbind\u001b[49m\u001b[43m)\u001b[49m\n\u001b[1;32m   1717\u001b[0m result \u001b[38;5;241m=\u001b[39m conn\u001b[38;5;241m.\u001b[39m_execute_20(statement, params \u001b[38;5;129;01mor\u001b[39;00m {}, execution_options)\n",
      "File \u001b[0;32m~/work/ailp/lukmanr-gps-core-solution-services/components/llm_service/notebooks/.venv/lib/python3.9/site-packages/sqlalchemy/orm/session.py:1555\u001b[0m, in \u001b[0;36mSession._connection_for_bind\u001b[0;34m(self, engine, execution_options, **kw)\u001b[0m\n\u001b[1;32m   1554\u001b[0m \u001b[38;5;28;01mif\u001b[39;00m \u001b[38;5;28mself\u001b[39m\u001b[38;5;241m.\u001b[39m_transaction \u001b[38;5;129;01mis\u001b[39;00m \u001b[38;5;129;01mnot\u001b[39;00m \u001b[38;5;28;01mNone\u001b[39;00m \u001b[38;5;129;01mor\u001b[39;00m \u001b[38;5;28mself\u001b[39m\u001b[38;5;241m.\u001b[39m_autobegin():\n\u001b[0;32m-> 1555\u001b[0m     \u001b[38;5;28;01mreturn\u001b[39;00m \u001b[38;5;28;43mself\u001b[39;49m\u001b[38;5;241;43m.\u001b[39;49m\u001b[43m_transaction\u001b[49m\u001b[38;5;241;43m.\u001b[39;49m\u001b[43m_connection_for_bind\u001b[49m\u001b[43m(\u001b[49m\n\u001b[1;32m   1556\u001b[0m \u001b[43m        \u001b[49m\u001b[43mengine\u001b[49m\u001b[43m,\u001b[49m\u001b[43m \u001b[49m\u001b[43mexecution_options\u001b[49m\n\u001b[1;32m   1557\u001b[0m \u001b[43m    \u001b[49m\u001b[43m)\u001b[49m\n\u001b[1;32m   1559\u001b[0m \u001b[38;5;28;01massert\u001b[39;00m \u001b[38;5;28mself\u001b[39m\u001b[38;5;241m.\u001b[39m_transaction \u001b[38;5;129;01mis\u001b[39;00m \u001b[38;5;28;01mNone\u001b[39;00m\n",
      "File \u001b[0;32m~/work/ailp/lukmanr-gps-core-solution-services/components/llm_service/notebooks/.venv/lib/python3.9/site-packages/sqlalchemy/orm/session.py:750\u001b[0m, in \u001b[0;36mSessionTransaction._connection_for_bind\u001b[0;34m(self, bind, execution_options)\u001b[0m\n\u001b[1;32m    749\u001b[0m \u001b[38;5;28;01melse\u001b[39;00m:\n\u001b[0;32m--> 750\u001b[0m     conn \u001b[38;5;241m=\u001b[39m \u001b[43mbind\u001b[49m\u001b[38;5;241;43m.\u001b[39;49m\u001b[43mconnect\u001b[49m\u001b[43m(\u001b[49m\u001b[43m)\u001b[49m\n\u001b[1;32m    751\u001b[0m     local_connect \u001b[38;5;241m=\u001b[39m \u001b[38;5;28;01mTrue\u001b[39;00m\n",
      "File \u001b[0;32m~/work/ailp/lukmanr-gps-core-solution-services/components/llm_service/notebooks/.venv/lib/python3.9/site-packages/sqlalchemy/engine/base.py:3325\u001b[0m, in \u001b[0;36mEngine.connect\u001b[0;34m(self, close_with_result)\u001b[0m\n\u001b[1;32m   3311\u001b[0m \u001b[38;5;250m\u001b[39m\u001b[38;5;124;03m\"\"\"Return a new :class:`_engine.Connection` object.\u001b[39;00m\n\u001b[1;32m   3312\u001b[0m \n\u001b[1;32m   3313\u001b[0m \u001b[38;5;124;03mThe :class:`_engine.Connection` object is a facade that uses a DBAPI\u001b[39;00m\n\u001b[0;32m   (...)\u001b[0m\n\u001b[1;32m   3322\u001b[0m \n\u001b[1;32m   3323\u001b[0m \u001b[38;5;124;03m\"\"\"\u001b[39;00m\n\u001b[0;32m-> 3325\u001b[0m \u001b[38;5;28;01mreturn\u001b[39;00m \u001b[38;5;28;43mself\u001b[39;49m\u001b[38;5;241;43m.\u001b[39;49m\u001b[43m_connection_cls\u001b[49m\u001b[43m(\u001b[49m\u001b[38;5;28;43mself\u001b[39;49m\u001b[43m,\u001b[49m\u001b[43m \u001b[49m\u001b[43mclose_with_result\u001b[49m\u001b[38;5;241;43m=\u001b[39;49m\u001b[43mclose_with_result\u001b[49m\u001b[43m)\u001b[49m\n",
      "File \u001b[0;32m~/work/ailp/lukmanr-gps-core-solution-services/components/llm_service/notebooks/.venv/lib/python3.9/site-packages/sqlalchemy/engine/base.py:96\u001b[0m, in \u001b[0;36mConnection.__init__\u001b[0;34m(self, engine, connection, close_with_result, _branch_from, _execution_options, _dispatch, _has_events, _allow_revalidate)\u001b[0m\n\u001b[1;32m     92\u001b[0m \u001b[38;5;28;01melse\u001b[39;00m:\n\u001b[1;32m     93\u001b[0m     \u001b[38;5;28mself\u001b[39m\u001b[38;5;241m.\u001b[39m_dbapi_connection \u001b[38;5;241m=\u001b[39m (\n\u001b[1;32m     94\u001b[0m         connection\n\u001b[1;32m     95\u001b[0m         \u001b[38;5;28;01mif\u001b[39;00m connection \u001b[38;5;129;01mis\u001b[39;00m \u001b[38;5;129;01mnot\u001b[39;00m \u001b[38;5;28;01mNone\u001b[39;00m\n\u001b[0;32m---> 96\u001b[0m         \u001b[38;5;28;01melse\u001b[39;00m \u001b[43mengine\u001b[49m\u001b[38;5;241;43m.\u001b[39;49m\u001b[43mraw_connection\u001b[49m\u001b[43m(\u001b[49m\u001b[43m)\u001b[49m\n\u001b[1;32m     97\u001b[0m     )\n\u001b[1;32m     99\u001b[0m     \u001b[38;5;28mself\u001b[39m\u001b[38;5;241m.\u001b[39m_transaction \u001b[38;5;241m=\u001b[39m \u001b[38;5;28mself\u001b[39m\u001b[38;5;241m.\u001b[39m_nested_transaction \u001b[38;5;241m=\u001b[39m \u001b[38;5;28;01mNone\u001b[39;00m\n",
      "File \u001b[0;32m~/work/ailp/lukmanr-gps-core-solution-services/components/llm_service/notebooks/.venv/lib/python3.9/site-packages/sqlalchemy/engine/base.py:3404\u001b[0m, in \u001b[0;36mEngine.raw_connection\u001b[0;34m(self, _connection)\u001b[0m\n\u001b[1;32m   3383\u001b[0m \u001b[38;5;250m\u001b[39m\u001b[38;5;124;03m\"\"\"Return a \"raw\" DBAPI connection from the connection pool.\u001b[39;00m\n\u001b[1;32m   3384\u001b[0m \n\u001b[1;32m   3385\u001b[0m \u001b[38;5;124;03mThe returned object is a proxied version of the DBAPI\u001b[39;00m\n\u001b[0;32m   (...)\u001b[0m\n\u001b[1;32m   3402\u001b[0m \n\u001b[1;32m   3403\u001b[0m \u001b[38;5;124;03m\"\"\"\u001b[39;00m\n\u001b[0;32m-> 3404\u001b[0m \u001b[38;5;28;01mreturn\u001b[39;00m \u001b[38;5;28;43mself\u001b[39;49m\u001b[38;5;241;43m.\u001b[39;49m\u001b[43m_wrap_pool_connect\u001b[49m\u001b[43m(\u001b[49m\u001b[38;5;28;43mself\u001b[39;49m\u001b[38;5;241;43m.\u001b[39;49m\u001b[43mpool\u001b[49m\u001b[38;5;241;43m.\u001b[39;49m\u001b[43mconnect\u001b[49m\u001b[43m,\u001b[49m\u001b[43m \u001b[49m\u001b[43m_connection\u001b[49m\u001b[43m)\u001b[49m\n",
      "File \u001b[0;32m~/work/ailp/lukmanr-gps-core-solution-services/components/llm_service/notebooks/.venv/lib/python3.9/site-packages/sqlalchemy/engine/base.py:3374\u001b[0m, in \u001b[0;36mEngine._wrap_pool_connect\u001b[0;34m(self, fn, connection)\u001b[0m\n\u001b[1;32m   3373\u001b[0m \u001b[38;5;28;01mif\u001b[39;00m connection \u001b[38;5;129;01mis\u001b[39;00m \u001b[38;5;28;01mNone\u001b[39;00m:\n\u001b[0;32m-> 3374\u001b[0m     \u001b[43mConnection\u001b[49m\u001b[38;5;241;43m.\u001b[39;49m\u001b[43m_handle_dbapi_exception_noconnection\u001b[49m\u001b[43m(\u001b[49m\n\u001b[1;32m   3375\u001b[0m \u001b[43m        \u001b[49m\u001b[43me\u001b[49m\u001b[43m,\u001b[49m\u001b[43m \u001b[49m\u001b[43mdialect\u001b[49m\u001b[43m,\u001b[49m\u001b[43m \u001b[49m\u001b[38;5;28;43mself\u001b[39;49m\n\u001b[1;32m   3376\u001b[0m \u001b[43m    \u001b[49m\u001b[43m)\u001b[49m\n\u001b[1;32m   3377\u001b[0m \u001b[38;5;28;01melse\u001b[39;00m:\n",
      "File \u001b[0;32m~/work/ailp/lukmanr-gps-core-solution-services/components/llm_service/notebooks/.venv/lib/python3.9/site-packages/sqlalchemy/engine/base.py:2208\u001b[0m, in \u001b[0;36mConnection._handle_dbapi_exception_noconnection\u001b[0;34m(cls, e, dialect, engine)\u001b[0m\n\u001b[1;32m   2207\u001b[0m \u001b[38;5;28;01melif\u001b[39;00m should_wrap:\n\u001b[0;32m-> 2208\u001b[0m     \u001b[43mutil\u001b[49m\u001b[38;5;241;43m.\u001b[39;49m\u001b[43mraise_\u001b[49m\u001b[43m(\u001b[49m\n\u001b[1;32m   2209\u001b[0m \u001b[43m        \u001b[49m\u001b[43msqlalchemy_exception\u001b[49m\u001b[43m,\u001b[49m\u001b[43m \u001b[49m\u001b[43mwith_traceback\u001b[49m\u001b[38;5;241;43m=\u001b[39;49m\u001b[43mexc_info\u001b[49m\u001b[43m[\u001b[49m\u001b[38;5;241;43m2\u001b[39;49m\u001b[43m]\u001b[49m\u001b[43m,\u001b[49m\u001b[43m \u001b[49m\u001b[43mfrom_\u001b[49m\u001b[38;5;241;43m=\u001b[39;49m\u001b[43me\u001b[49m\n\u001b[1;32m   2210\u001b[0m \u001b[43m    \u001b[49m\u001b[43m)\u001b[49m\n\u001b[1;32m   2211\u001b[0m \u001b[38;5;28;01melse\u001b[39;00m:\n",
      "File \u001b[0;32m~/work/ailp/lukmanr-gps-core-solution-services/components/llm_service/notebooks/.venv/lib/python3.9/site-packages/sqlalchemy/util/compat.py:211\u001b[0m, in \u001b[0;36mraise_\u001b[0;34m(***failed resolving arguments***)\u001b[0m\n\u001b[1;32m    210\u001b[0m \u001b[38;5;28;01mtry\u001b[39;00m:\n\u001b[0;32m--> 211\u001b[0m     \u001b[38;5;28;01mraise\u001b[39;00m exception\n\u001b[1;32m    212\u001b[0m \u001b[38;5;28;01mfinally\u001b[39;00m:\n\u001b[1;32m    213\u001b[0m     \u001b[38;5;66;03m# credit to\u001b[39;00m\n\u001b[1;32m    214\u001b[0m     \u001b[38;5;66;03m# https://cosmicpercolator.com/2016/01/13/exception-leaks-in-python-2-and-3/\u001b[39;00m\n\u001b[1;32m    215\u001b[0m     \u001b[38;5;66;03m# as the __traceback__ object creates a cycle\u001b[39;00m\n",
      "File \u001b[0;32m~/work/ailp/lukmanr-gps-core-solution-services/components/llm_service/notebooks/.venv/lib/python3.9/site-packages/sqlalchemy/engine/base.py:3371\u001b[0m, in \u001b[0;36mEngine._wrap_pool_connect\u001b[0;34m(self, fn, connection)\u001b[0m\n\u001b[1;32m   3370\u001b[0m \u001b[38;5;28;01mtry\u001b[39;00m:\n\u001b[0;32m-> 3371\u001b[0m     \u001b[38;5;28;01mreturn\u001b[39;00m \u001b[43mfn\u001b[49m\u001b[43m(\u001b[49m\u001b[43m)\u001b[49m\n\u001b[1;32m   3372\u001b[0m \u001b[38;5;28;01mexcept\u001b[39;00m dialect\u001b[38;5;241m.\u001b[39mdbapi\u001b[38;5;241m.\u001b[39mError \u001b[38;5;28;01mas\u001b[39;00m e:\n",
      "File \u001b[0;32m~/work/ailp/lukmanr-gps-core-solution-services/components/llm_service/notebooks/.venv/lib/python3.9/site-packages/sqlalchemy/pool/base.py:327\u001b[0m, in \u001b[0;36mPool.connect\u001b[0;34m(self)\u001b[0m\n\u001b[1;32m    320\u001b[0m \u001b[38;5;250m\u001b[39m\u001b[38;5;124;03m\"\"\"Return a DBAPI connection from the pool.\u001b[39;00m\n\u001b[1;32m    321\u001b[0m \n\u001b[1;32m    322\u001b[0m \u001b[38;5;124;03mThe connection is instrumented such that when its\u001b[39;00m\n\u001b[0;32m   (...)\u001b[0m\n\u001b[1;32m    325\u001b[0m \n\u001b[1;32m    326\u001b[0m \u001b[38;5;124;03m\"\"\"\u001b[39;00m\n\u001b[0;32m--> 327\u001b[0m \u001b[38;5;28;01mreturn\u001b[39;00m \u001b[43m_ConnectionFairy\u001b[49m\u001b[38;5;241;43m.\u001b[39;49m\u001b[43m_checkout\u001b[49m\u001b[43m(\u001b[49m\u001b[38;5;28;43mself\u001b[39;49m\u001b[43m)\u001b[49m\n",
      "File \u001b[0;32m~/work/ailp/lukmanr-gps-core-solution-services/components/llm_service/notebooks/.venv/lib/python3.9/site-packages/sqlalchemy/pool/base.py:894\u001b[0m, in \u001b[0;36m_ConnectionFairy._checkout\u001b[0;34m(cls, pool, threadconns, fairy)\u001b[0m\n\u001b[1;32m    893\u001b[0m \u001b[38;5;28;01mif\u001b[39;00m \u001b[38;5;129;01mnot\u001b[39;00m fairy:\n\u001b[0;32m--> 894\u001b[0m     fairy \u001b[38;5;241m=\u001b[39m \u001b[43m_ConnectionRecord\u001b[49m\u001b[38;5;241;43m.\u001b[39;49m\u001b[43mcheckout\u001b[49m\u001b[43m(\u001b[49m\u001b[43mpool\u001b[49m\u001b[43m)\u001b[49m\n\u001b[1;32m    896\u001b[0m     fairy\u001b[38;5;241m.\u001b[39m_pool \u001b[38;5;241m=\u001b[39m pool\n",
      "File \u001b[0;32m~/work/ailp/lukmanr-gps-core-solution-services/components/llm_service/notebooks/.venv/lib/python3.9/site-packages/sqlalchemy/pool/base.py:493\u001b[0m, in \u001b[0;36m_ConnectionRecord.checkout\u001b[0;34m(cls, pool)\u001b[0m\n\u001b[1;32m    491\u001b[0m \u001b[38;5;129m@classmethod\u001b[39m\n\u001b[1;32m    492\u001b[0m \u001b[38;5;28;01mdef\u001b[39;00m \u001b[38;5;21mcheckout\u001b[39m(\u001b[38;5;28mcls\u001b[39m, pool):\n\u001b[0;32m--> 493\u001b[0m     rec \u001b[38;5;241m=\u001b[39m \u001b[43mpool\u001b[49m\u001b[38;5;241;43m.\u001b[39;49m\u001b[43m_do_get\u001b[49m\u001b[43m(\u001b[49m\u001b[43m)\u001b[49m\n\u001b[1;32m    494\u001b[0m     \u001b[38;5;28;01mtry\u001b[39;00m:\n",
      "File \u001b[0;32m~/work/ailp/lukmanr-gps-core-solution-services/components/llm_service/notebooks/.venv/lib/python3.9/site-packages/sqlalchemy/pool/impl.py:146\u001b[0m, in \u001b[0;36mQueuePool._do_get\u001b[0;34m(self)\u001b[0m\n\u001b[1;32m    145\u001b[0m         \u001b[38;5;28;01mwith\u001b[39;00m util\u001b[38;5;241m.\u001b[39msafe_reraise():\n\u001b[0;32m--> 146\u001b[0m             \u001b[38;5;28mself\u001b[39m\u001b[38;5;241m.\u001b[39m_dec_overflow()\n\u001b[1;32m    147\u001b[0m \u001b[38;5;28;01melse\u001b[39;00m:\n",
      "File \u001b[0;32m~/work/ailp/lukmanr-gps-core-solution-services/components/llm_service/notebooks/.venv/lib/python3.9/site-packages/sqlalchemy/util/langhelpers.py:70\u001b[0m, in \u001b[0;36msafe_reraise.__exit__\u001b[0;34m(self, type_, value, traceback)\u001b[0m\n\u001b[1;32m     69\u001b[0m     \u001b[38;5;28;01mif\u001b[39;00m \u001b[38;5;129;01mnot\u001b[39;00m \u001b[38;5;28mself\u001b[39m\u001b[38;5;241m.\u001b[39mwarn_only:\n\u001b[0;32m---> 70\u001b[0m         \u001b[43mcompat\u001b[49m\u001b[38;5;241;43m.\u001b[39;49m\u001b[43mraise_\u001b[49m\u001b[43m(\u001b[49m\n\u001b[1;32m     71\u001b[0m \u001b[43m            \u001b[49m\u001b[43mexc_value\u001b[49m\u001b[43m,\u001b[49m\n\u001b[1;32m     72\u001b[0m \u001b[43m            \u001b[49m\u001b[43mwith_traceback\u001b[49m\u001b[38;5;241;43m=\u001b[39;49m\u001b[43mexc_tb\u001b[49m\u001b[43m,\u001b[49m\n\u001b[1;32m     73\u001b[0m \u001b[43m        \u001b[49m\u001b[43m)\u001b[49m\n\u001b[1;32m     74\u001b[0m \u001b[38;5;28;01melse\u001b[39;00m:\n",
      "File \u001b[0;32m~/work/ailp/lukmanr-gps-core-solution-services/components/llm_service/notebooks/.venv/lib/python3.9/site-packages/sqlalchemy/util/compat.py:211\u001b[0m, in \u001b[0;36mraise_\u001b[0;34m(***failed resolving arguments***)\u001b[0m\n\u001b[1;32m    210\u001b[0m \u001b[38;5;28;01mtry\u001b[39;00m:\n\u001b[0;32m--> 211\u001b[0m     \u001b[38;5;28;01mraise\u001b[39;00m exception\n\u001b[1;32m    212\u001b[0m \u001b[38;5;28;01mfinally\u001b[39;00m:\n\u001b[1;32m    213\u001b[0m     \u001b[38;5;66;03m# credit to\u001b[39;00m\n\u001b[1;32m    214\u001b[0m     \u001b[38;5;66;03m# https://cosmicpercolator.com/2016/01/13/exception-leaks-in-python-2-and-3/\u001b[39;00m\n\u001b[1;32m    215\u001b[0m     \u001b[38;5;66;03m# as the __traceback__ object creates a cycle\u001b[39;00m\n",
      "File \u001b[0;32m~/work/ailp/lukmanr-gps-core-solution-services/components/llm_service/notebooks/.venv/lib/python3.9/site-packages/sqlalchemy/pool/impl.py:143\u001b[0m, in \u001b[0;36mQueuePool._do_get\u001b[0;34m(self)\u001b[0m\n\u001b[1;32m    142\u001b[0m \u001b[38;5;28;01mtry\u001b[39;00m:\n\u001b[0;32m--> 143\u001b[0m     \u001b[38;5;28;01mreturn\u001b[39;00m \u001b[38;5;28;43mself\u001b[39;49m\u001b[38;5;241;43m.\u001b[39;49m\u001b[43m_create_connection\u001b[49m\u001b[43m(\u001b[49m\u001b[43m)\u001b[49m\n\u001b[1;32m    144\u001b[0m \u001b[38;5;28;01mexcept\u001b[39;00m:\n",
      "File \u001b[0;32m~/work/ailp/lukmanr-gps-core-solution-services/components/llm_service/notebooks/.venv/lib/python3.9/site-packages/sqlalchemy/pool/base.py:273\u001b[0m, in \u001b[0;36mPool._create_connection\u001b[0;34m(self)\u001b[0m\n\u001b[1;32m    271\u001b[0m \u001b[38;5;250m\u001b[39m\u001b[38;5;124;03m\"\"\"Called by subclasses to create a new ConnectionRecord.\"\"\"\u001b[39;00m\n\u001b[0;32m--> 273\u001b[0m \u001b[38;5;28;01mreturn\u001b[39;00m \u001b[43m_ConnectionRecord\u001b[49m\u001b[43m(\u001b[49m\u001b[38;5;28;43mself\u001b[39;49m\u001b[43m)\u001b[49m\n",
      "File \u001b[0;32m~/work/ailp/lukmanr-gps-core-solution-services/components/llm_service/notebooks/.venv/lib/python3.9/site-packages/sqlalchemy/pool/base.py:388\u001b[0m, in \u001b[0;36m_ConnectionRecord.__init__\u001b[0;34m(self, pool, connect)\u001b[0m\n\u001b[1;32m    387\u001b[0m \u001b[38;5;28;01mif\u001b[39;00m connect:\n\u001b[0;32m--> 388\u001b[0m     \u001b[38;5;28;43mself\u001b[39;49m\u001b[38;5;241;43m.\u001b[39;49m\u001b[43m__connect\u001b[49m\u001b[43m(\u001b[49m\u001b[43m)\u001b[49m\n\u001b[1;32m    389\u001b[0m \u001b[38;5;28mself\u001b[39m\u001b[38;5;241m.\u001b[39mfinalize_callback \u001b[38;5;241m=\u001b[39m deque()\n",
      "File \u001b[0;32m~/work/ailp/lukmanr-gps-core-solution-services/components/llm_service/notebooks/.venv/lib/python3.9/site-packages/sqlalchemy/pool/base.py:691\u001b[0m, in \u001b[0;36m_ConnectionRecord.__connect\u001b[0;34m(self)\u001b[0m\n\u001b[1;32m    690\u001b[0m     \u001b[38;5;28;01mwith\u001b[39;00m util\u001b[38;5;241m.\u001b[39msafe_reraise():\n\u001b[0;32m--> 691\u001b[0m         pool\u001b[38;5;241m.\u001b[39mlogger\u001b[38;5;241m.\u001b[39mdebug(\u001b[38;5;124m\"\u001b[39m\u001b[38;5;124mError on connect(): \u001b[39m\u001b[38;5;132;01m%s\u001b[39;00m\u001b[38;5;124m\"\u001b[39m, e)\n\u001b[1;32m    692\u001b[0m \u001b[38;5;28;01melse\u001b[39;00m:\n\u001b[1;32m    693\u001b[0m     \u001b[38;5;66;03m# in SQLAlchemy 1.4 the first_connect event is not used by\u001b[39;00m\n\u001b[1;32m    694\u001b[0m     \u001b[38;5;66;03m# the engine, so this will usually not be set\u001b[39;00m\n",
      "File \u001b[0;32m~/work/ailp/lukmanr-gps-core-solution-services/components/llm_service/notebooks/.venv/lib/python3.9/site-packages/sqlalchemy/util/langhelpers.py:70\u001b[0m, in \u001b[0;36msafe_reraise.__exit__\u001b[0;34m(self, type_, value, traceback)\u001b[0m\n\u001b[1;32m     69\u001b[0m     \u001b[38;5;28;01mif\u001b[39;00m \u001b[38;5;129;01mnot\u001b[39;00m \u001b[38;5;28mself\u001b[39m\u001b[38;5;241m.\u001b[39mwarn_only:\n\u001b[0;32m---> 70\u001b[0m         \u001b[43mcompat\u001b[49m\u001b[38;5;241;43m.\u001b[39;49m\u001b[43mraise_\u001b[49m\u001b[43m(\u001b[49m\n\u001b[1;32m     71\u001b[0m \u001b[43m            \u001b[49m\u001b[43mexc_value\u001b[49m\u001b[43m,\u001b[49m\n\u001b[1;32m     72\u001b[0m \u001b[43m            \u001b[49m\u001b[43mwith_traceback\u001b[49m\u001b[38;5;241;43m=\u001b[39;49m\u001b[43mexc_tb\u001b[49m\u001b[43m,\u001b[49m\n\u001b[1;32m     73\u001b[0m \u001b[43m        \u001b[49m\u001b[43m)\u001b[49m\n\u001b[1;32m     74\u001b[0m \u001b[38;5;28;01melse\u001b[39;00m:\n",
      "File \u001b[0;32m~/work/ailp/lukmanr-gps-core-solution-services/components/llm_service/notebooks/.venv/lib/python3.9/site-packages/sqlalchemy/util/compat.py:211\u001b[0m, in \u001b[0;36mraise_\u001b[0;34m(***failed resolving arguments***)\u001b[0m\n\u001b[1;32m    210\u001b[0m \u001b[38;5;28;01mtry\u001b[39;00m:\n\u001b[0;32m--> 211\u001b[0m     \u001b[38;5;28;01mraise\u001b[39;00m exception\n\u001b[1;32m    212\u001b[0m \u001b[38;5;28;01mfinally\u001b[39;00m:\n\u001b[1;32m    213\u001b[0m     \u001b[38;5;66;03m# credit to\u001b[39;00m\n\u001b[1;32m    214\u001b[0m     \u001b[38;5;66;03m# https://cosmicpercolator.com/2016/01/13/exception-leaks-in-python-2-and-3/\u001b[39;00m\n\u001b[1;32m    215\u001b[0m     \u001b[38;5;66;03m# as the __traceback__ object creates a cycle\u001b[39;00m\n",
      "File \u001b[0;32m~/work/ailp/lukmanr-gps-core-solution-services/components/llm_service/notebooks/.venv/lib/python3.9/site-packages/sqlalchemy/pool/base.py:686\u001b[0m, in \u001b[0;36m_ConnectionRecord.__connect\u001b[0;34m(self)\u001b[0m\n\u001b[1;32m    685\u001b[0m \u001b[38;5;28mself\u001b[39m\u001b[38;5;241m.\u001b[39mstarttime \u001b[38;5;241m=\u001b[39m time\u001b[38;5;241m.\u001b[39mtime()\n\u001b[0;32m--> 686\u001b[0m \u001b[38;5;28mself\u001b[39m\u001b[38;5;241m.\u001b[39mdbapi_connection \u001b[38;5;241m=\u001b[39m connection \u001b[38;5;241m=\u001b[39m \u001b[43mpool\u001b[49m\u001b[38;5;241;43m.\u001b[39;49m\u001b[43m_invoke_creator\u001b[49m\u001b[43m(\u001b[49m\u001b[38;5;28;43mself\u001b[39;49m\u001b[43m)\u001b[49m\n\u001b[1;32m    687\u001b[0m pool\u001b[38;5;241m.\u001b[39mlogger\u001b[38;5;241m.\u001b[39mdebug(\u001b[38;5;124m\"\u001b[39m\u001b[38;5;124mCreated new connection \u001b[39m\u001b[38;5;132;01m%r\u001b[39;00m\u001b[38;5;124m\"\u001b[39m, connection)\n",
      "File \u001b[0;32m~/work/ailp/lukmanr-gps-core-solution-services/components/llm_service/notebooks/.venv/lib/python3.9/site-packages/sqlalchemy/engine/create.py:574\u001b[0m, in \u001b[0;36mcreate_engine.<locals>.connect\u001b[0;34m(connection_record)\u001b[0m\n\u001b[1;32m    573\u001b[0m             \u001b[38;5;28;01mreturn\u001b[39;00m connection\n\u001b[0;32m--> 574\u001b[0m \u001b[38;5;28;01mreturn\u001b[39;00m \u001b[43mdialect\u001b[49m\u001b[38;5;241;43m.\u001b[39;49m\u001b[43mconnect\u001b[49m\u001b[43m(\u001b[49m\u001b[38;5;241;43m*\u001b[39;49m\u001b[43mcargs\u001b[49m\u001b[43m,\u001b[49m\u001b[43m \u001b[49m\u001b[38;5;241;43m*\u001b[39;49m\u001b[38;5;241;43m*\u001b[39;49m\u001b[43mcparams\u001b[49m\u001b[43m)\u001b[49m\n",
      "File \u001b[0;32m~/work/ailp/lukmanr-gps-core-solution-services/components/llm_service/notebooks/.venv/lib/python3.9/site-packages/sqlalchemy/engine/default.py:598\u001b[0m, in \u001b[0;36mDefaultDialect.connect\u001b[0;34m(self, *cargs, **cparams)\u001b[0m\n\u001b[1;32m    596\u001b[0m \u001b[38;5;28;01mdef\u001b[39;00m \u001b[38;5;21mconnect\u001b[39m(\u001b[38;5;28mself\u001b[39m, \u001b[38;5;241m*\u001b[39mcargs, \u001b[38;5;241m*\u001b[39m\u001b[38;5;241m*\u001b[39mcparams):\n\u001b[1;32m    597\u001b[0m     \u001b[38;5;66;03m# inherits the docstring from interfaces.Dialect.connect\u001b[39;00m\n\u001b[0;32m--> 598\u001b[0m     \u001b[38;5;28;01mreturn\u001b[39;00m \u001b[38;5;28;43mself\u001b[39;49m\u001b[38;5;241;43m.\u001b[39;49m\u001b[43mdbapi\u001b[49m\u001b[38;5;241;43m.\u001b[39;49m\u001b[43mconnect\u001b[49m\u001b[43m(\u001b[49m\u001b[38;5;241;43m*\u001b[39;49m\u001b[43mcargs\u001b[49m\u001b[43m,\u001b[49m\u001b[43m \u001b[49m\u001b[38;5;241;43m*\u001b[39;49m\u001b[38;5;241;43m*\u001b[39;49m\u001b[43mcparams\u001b[49m\u001b[43m)\u001b[49m\n",
      "File \u001b[0;32m~/work/ailp/lukmanr-gps-core-solution-services/components/llm_service/notebooks/.venv/lib/python3.9/site-packages/psycopg2/__init__.py:122\u001b[0m, in \u001b[0;36mconnect\u001b[0;34m(dsn, connection_factory, cursor_factory, **kwargs)\u001b[0m\n\u001b[1;32m    121\u001b[0m dsn \u001b[38;5;241m=\u001b[39m _ext\u001b[38;5;241m.\u001b[39mmake_dsn(dsn, \u001b[38;5;241m*\u001b[39m\u001b[38;5;241m*\u001b[39mkwargs)\n\u001b[0;32m--> 122\u001b[0m conn \u001b[38;5;241m=\u001b[39m \u001b[43m_connect\u001b[49m\u001b[43m(\u001b[49m\u001b[43mdsn\u001b[49m\u001b[43m,\u001b[49m\u001b[43m \u001b[49m\u001b[43mconnection_factory\u001b[49m\u001b[38;5;241;43m=\u001b[39;49m\u001b[43mconnection_factory\u001b[49m\u001b[43m,\u001b[49m\u001b[43m \u001b[49m\u001b[38;5;241;43m*\u001b[39;49m\u001b[38;5;241;43m*\u001b[39;49m\u001b[43mkwasync\u001b[49m\u001b[43m)\u001b[49m\n\u001b[1;32m    123\u001b[0m \u001b[38;5;28;01mif\u001b[39;00m cursor_factory \u001b[38;5;129;01mis\u001b[39;00m \u001b[38;5;129;01mnot\u001b[39;00m \u001b[38;5;28;01mNone\u001b[39;00m:\n",
      "\u001b[0;31mOperationalError\u001b[0m: (psycopg2.OperationalError) connection to server at \"127.0.0.1\", port 5432 failed: FATAL:  database \"pgvector\" does not exist\n\n(Background on this error at: https://sqlalche.me/e/14/e3q8)",
      "\nThe above exception was the direct cause of the following exception:\n",
      "\u001b[0;31mException\u001b[0m                                 Traceback (most recent call last)",
      "Cell \u001b[0;32mIn[34], line 3\u001b[0m\n\u001b[1;32m      1\u001b[0m \u001b[38;5;28;01mfrom\u001b[39;00m \u001b[38;5;21;01mservices\u001b[39;00m\u001b[38;5;21;01m.\u001b[39;00m\u001b[38;5;21;01mquery\u001b[39;00m\u001b[38;5;21;01m.\u001b[39;00m\u001b[38;5;21;01mquery_service\u001b[39;00m \u001b[38;5;28;01mimport\u001b[39;00m process_documents, vector_store_from_query_engine\n\u001b[0;32m----> 3\u001b[0m vector_store \u001b[38;5;241m=\u001b[39m \u001b[43mvector_store_from_query_engine\u001b[49m\u001b[43m(\u001b[49m\u001b[43mq_engine\u001b[49m\u001b[43m)\u001b[49m\n",
      "File \u001b[0;32m~/work/ailp/lukmanr-gps-core-solution-services/components/llm_service/notebooks/../src/services/query/query_service.py:487\u001b[0m, in \u001b[0;36mvector_store_from_query_engine\u001b[0;34m(q_engine)\u001b[0m\n\u001b[1;32m    484\u001b[0m def vector_store_from_query_engine(q_engine: QueryEngine) -> VectorStore:\n\u001b[1;32m    485\u001b[0m   qe_vector_store_type = q_engine.vector_store\n\u001b[1;32m    486\u001b[0m   if qe_vector_store_type is None:\n\u001b[0;32m--> 487\u001b[0m     # set to default vector store\n\u001b[1;32m    488\u001b[0m     qe_vector_store_type = DEFAULT_VECTOR_STORE\n\u001b[1;32m    490\u001b[0m   qe_vector_store_class = VECTOR_STORES.get(qe_vector_store_type)\n",
      "File \u001b[0;32m~/work/ailp/lukmanr-gps-core-solution-services/components/llm_service/notebooks/../src/services/query/vector_store.py:303\u001b[0m, in \u001b[0;36mLangChainVectorStore.__init__\u001b[0;34m(self, q_engine, embedding_type)\u001b[0m\n\u001b[1;32m    301\u001b[0m \u001b[38;5;28;01mdef\u001b[39;00m \u001b[38;5;21m__init__\u001b[39m(\u001b[38;5;28mself\u001b[39m, q_engine: QueryEngine, embedding_type: \u001b[38;5;28mstr\u001b[39m \u001b[38;5;241m=\u001b[39m \u001b[38;5;28;01mNone\u001b[39;00m) \u001b[38;5;241m-\u001b[39m\u001b[38;5;241m>\u001b[39m \u001b[38;5;28;01mNone\u001b[39;00m:\n\u001b[1;32m    302\u001b[0m   \u001b[38;5;28msuper\u001b[39m()\u001b[38;5;241m.\u001b[39m\u001b[38;5;21m__init__\u001b[39m(q_engine, embedding_type)\n\u001b[0;32m--> 303\u001b[0m   \u001b[38;5;28mself\u001b[39m\u001b[38;5;241m.\u001b[39mlc_vector_store \u001b[38;5;241m=\u001b[39m \u001b[38;5;28;43mself\u001b[39;49m\u001b[38;5;241;43m.\u001b[39;49m\u001b[43m_get_langchain_vector_store\u001b[49m\u001b[43m(\u001b[49m\u001b[43m)\u001b[49m\n\u001b[1;32m    304\u001b[0m   \u001b[38;5;28mself\u001b[39m\u001b[38;5;241m.\u001b[39mindex_length \u001b[38;5;241m=\u001b[39m \u001b[38;5;241m0\u001b[39m\n",
      "File \u001b[0;32m~/work/ailp/lukmanr-gps-core-solution-services/components/llm_service/notebooks/../src/services/query/vector_store.py:414\u001b[0m, in \u001b[0;36mPostgresVectorStore._get_langchain_vector_store\u001b[0;34m(self)\u001b[0m\n\u001b[1;32m    411\u001b[0m collection_name \u001b[38;5;241m=\u001b[39m \u001b[38;5;28mself\u001b[39m\u001b[38;5;241m.\u001b[39mq_engine\u001b[38;5;241m.\u001b[39mname\n\u001b[1;32m    413\u001b[0m \u001b[38;5;66;03m# instantiate the langchain vector store object\u001b[39;00m\n\u001b[0;32m--> 414\u001b[0m langchain_vector_store \u001b[38;5;241m=\u001b[39m \u001b[43mLLMServicePGVector\u001b[49m\u001b[43m(\u001b[49m\n\u001b[1;32m    415\u001b[0m \u001b[43m    \u001b[49m\u001b[43membedding_function\u001b[49m\u001b[38;5;241;43m=\u001b[39;49m\u001b[43membeddings\u001b[49m\u001b[38;5;241;43m.\u001b[39;49m\u001b[43mLangchainEmbeddings\u001b[49m\u001b[43m,\u001b[49m\n\u001b[1;32m    416\u001b[0m \u001b[43m    \u001b[49m\u001b[43mconnection_string\u001b[49m\u001b[38;5;241;43m=\u001b[39;49m\u001b[43mconnection_string\u001b[49m\u001b[43m,\u001b[49m\n\u001b[1;32m    417\u001b[0m \u001b[43m    \u001b[49m\u001b[43mcollection_name\u001b[49m\u001b[38;5;241;43m=\u001b[39;49m\u001b[43mcollection_name\u001b[49m\n\u001b[1;32m    418\u001b[0m \u001b[43m    \u001b[49m\u001b[43m)\u001b[49m\n\u001b[1;32m    420\u001b[0m \u001b[38;5;28;01mreturn\u001b[39;00m langchain_vector_store\n",
      "File \u001b[0;32m~/work/ailp/lukmanr-gps-core-solution-services/components/llm_service/notebooks/.venv/lib/python3.9/site-packages/langchain_community/vectorstores/pgvector.py:207\u001b[0m, in \u001b[0;36mPGVector.__init__\u001b[0;34m(self, connection_string, embedding_function, collection_name, collection_metadata, distance_strategy, pre_delete_collection, logger, relevance_score_fn, connection, engine_args)\u001b[0m\n\u001b[1;32m    205\u001b[0m \u001b[38;5;28mself\u001b[39m\u001b[38;5;241m.\u001b[39mengine_args \u001b[38;5;241m=\u001b[39m engine_args \u001b[38;5;129;01mor\u001b[39;00m {}\n\u001b[1;32m    206\u001b[0m \u001b[38;5;28mself\u001b[39m\u001b[38;5;241m.\u001b[39m_bind \u001b[38;5;241m=\u001b[39m connection \u001b[38;5;28;01mif\u001b[39;00m connection \u001b[38;5;28;01melse\u001b[39;00m \u001b[38;5;28mself\u001b[39m\u001b[38;5;241m.\u001b[39m_create_engine()\n\u001b[0;32m--> 207\u001b[0m \u001b[38;5;28;43mself\u001b[39;49m\u001b[38;5;241;43m.\u001b[39;49m\u001b[43m__post_init__\u001b[49m\u001b[43m(\u001b[49m\u001b[43m)\u001b[49m\n",
      "File \u001b[0;32m~/work/ailp/lukmanr-gps-core-solution-services/components/llm_service/notebooks/.venv/lib/python3.9/site-packages/langchain_community/vectorstores/pgvector.py:213\u001b[0m, in \u001b[0;36mPGVector.__post_init__\u001b[0;34m(self)\u001b[0m\n\u001b[1;32m    209\u001b[0m \u001b[38;5;28;01mdef\u001b[39;00m \u001b[38;5;21m__post_init__\u001b[39m(\n\u001b[1;32m    210\u001b[0m     \u001b[38;5;28mself\u001b[39m,\n\u001b[1;32m    211\u001b[0m ) \u001b[38;5;241m-\u001b[39m\u001b[38;5;241m>\u001b[39m \u001b[38;5;28;01mNone\u001b[39;00m:\n\u001b[1;32m    212\u001b[0m \u001b[38;5;250m    \u001b[39m\u001b[38;5;124;03m\"\"\"Initialize the store.\"\"\"\u001b[39;00m\n\u001b[0;32m--> 213\u001b[0m     \u001b[38;5;28;43mself\u001b[39;49m\u001b[38;5;241;43m.\u001b[39;49m\u001b[43mcreate_vector_extension\u001b[49m\u001b[43m(\u001b[49m\u001b[43m)\u001b[49m\n\u001b[1;32m    215\u001b[0m     EmbeddingStore, CollectionStore \u001b[38;5;241m=\u001b[39m _get_embedding_collection_store()\n\u001b[1;32m    216\u001b[0m     \u001b[38;5;28mself\u001b[39m\u001b[38;5;241m.\u001b[39mCollectionStore \u001b[38;5;241m=\u001b[39m CollectionStore\n",
      "File \u001b[0;32m~/work/ailp/lukmanr-gps-core-solution-services/components/llm_service/notebooks/.venv/lib/python3.9/site-packages/langchain_community/vectorstores/pgvector.py:249\u001b[0m, in \u001b[0;36mPGVector.create_vector_extension\u001b[0;34m(self)\u001b[0m\n\u001b[1;32m    247\u001b[0m         session\u001b[38;5;241m.\u001b[39mcommit()\n\u001b[1;32m    248\u001b[0m \u001b[38;5;28;01mexcept\u001b[39;00m \u001b[38;5;167;01mException\u001b[39;00m \u001b[38;5;28;01mas\u001b[39;00m e:\n\u001b[0;32m--> 249\u001b[0m     \u001b[38;5;28;01mraise\u001b[39;00m \u001b[38;5;167;01mException\u001b[39;00m(\u001b[38;5;124mf\u001b[39m\u001b[38;5;124m\"\u001b[39m\u001b[38;5;124mFailed to create vector extension: \u001b[39m\u001b[38;5;132;01m{\u001b[39;00me\u001b[38;5;132;01m}\u001b[39;00m\u001b[38;5;124m\"\u001b[39m) \u001b[38;5;28;01mfrom\u001b[39;00m \u001b[38;5;21;01me\u001b[39;00m\n",
      "\u001b[0;31mException\u001b[0m: Failed to create vector extension: (psycopg2.OperationalError) connection to server at \"127.0.0.1\", port 5432 failed: FATAL:  database \"pgvector\" does not exist\n\n(Background on this error at: https://sqlalche.me/e/14/e3q8)"
     ]
    }
   ],
   "source": [
    "from services.query.query_service import process_documents, vector_store_from_query_engine\n",
    "\n",
    "vector_store = vector_store_from_query_engine(q_engine)"
   ]
  },
  {
   "cell_type": "code",
   "execution_count": 35,
   "id": "a30808a8-f22f-40b1-a83b-e8f5959b77f9",
   "metadata": {},
   "outputs": [
    {
     "data": {
      "text/plain": [
       "['Billing and Coding Article\\nArticle - Billing and Coding: Dental Services (A59449)\\nLinks in PDF documents are not guaranteed to work. To follow a web link, please use the MCD Website.\\nNOT AN LCD REFERENCE ARTICLE\\nThis article is not in direct support of an LCD. Learn more\\nContractor Information\\nCONTRACTOR NAME CONTRACT TYPE CONTRACT NUMBER JURISDICTION STATES\\nPalmetto GBA A and B MAC 10111 - MAC A J - J Alabama  \\nPalmetto GBA A and B MAC 10112 - MAC B J - J Alabama  \\nPalmetto GBA A and B MAC 10211 - MAC A J - J Georgia  \\nPalmetto GBA A and B MAC 10212 - MAC B J - J Georgia  \\nPalmetto GBA A and B MAC 10311 - MAC A J - J Tennessee  \\nPalmetto GBA A and B MAC 10312 - MAC B J - J Tennessee  \\nPalmetto GBA A and B and HHH MAC 11201 - MAC A J - M South Carolina  \\nPalmetto GBA A and B and HHH MAC 11202 - MAC B J - M South Carolina  \\nPalmetto GBA A and B and HHH MAC 11301 - MAC A J - M Virginia  \\nPalmetto GBA A and B and HHH MAC 11302 - MAC B J - M Virginia  \\nPalmetto GBA A and B and HHH MAC 11401 - MAC A J - M West Virginia  \\nPalmetto GBA A and B and HHH MAC 11402 - MAC B J - M West Virginia  \\nPalmetto GBA A and B and HHH MAC 11501 - MAC A J - M North Carolina  \\nPalmetto GBA A and B and HHH MAC 11502 - MAC B J - M North Carolina  \\nArticle Information\\nGeneral Information\\nArticle ID\\nA59449\\n \\nArticle Title\\nBilling and Coding: Dental Services\\n \\nArticle Type\\nBilling and Coding\\n AMA CPT / ADA CDT / AHA NUBC Copyright \\nStatement\\nCPT codes, descriptions and other data only are copyright 2023 American \\nMedical Association. All Rights Reserved. Applicable FARS/HHSARS apply.\\nFee schedules, relative value units, conversion factors and/or related \\ncomponents are not assigned by the AMA, are not part of CPT, and the \\nAMA is not recommending their use. The AMA does not directly or indirectly \\npractice medicine or dispense medical services. The AMA assumes no \\nliability for data contained or not contained herein.\\nCreated on 01/06/2024. Page 1 of \\n9',\n",
       " 'Original Effective Date\\n06/08/2023\\n \\nRevision Effective Date\\nN/A\\n \\nRevision Ending Date\\nN/A\\n \\nRetirement Date\\nN/ACurrent Dental Terminology © 2023 American Dental Association. All rights \\nreserved.\\nCopyright © 2023, the American Hospital Association, Chicago, Illinois. \\nReproduced with permission. No portion of the American Hospital \\nAssociation (AHA) copyrighted materials contained within this publication \\nmay be copied without the express written consent of the AHA. AHA \\ncopyrighted materials including the UB \\x0004 codes and descriptions may not \\nbe removed, copied, or utilized within any software, product, service, \\nsolution or derivative work without the written consent of the AHA. If an \\nentity wishes to utilize any AHA materials, please contact the AHA at 312 \\x00\\n893\\x006816.\\nMaking copies or utilizing the content of the UB \\x0004 Manual, including the \\ncodes and/or descriptions, for internal purposes, resale and/or to be used \\nin any product or publication; creating any modified or derivative work of \\nthe UB \\x0004 Manual and/or codes and descriptions; and/or making any \\ncommercial use of UB \\x0004 Manual or any portion thereof, including the \\ncodes and/or descriptions, is only authorized with an express license from \\nthe American Hospital Association. The American Hospital Association (the \\n\"AHA\") has not reviewed, and is not responsible for, the completeness or \\naccuracy of any information contained in this material, nor was the AHA or \\nany of its affiliates, involved in the preparation of this material, or the \\nanalysis of information provided in the material. The views and/or positions \\npresented in the material do not necessarily represent the views of the \\nAHA. CMS and its products and services are not endorsed by the AHA or \\nany of its affiliates.\\nCMS National Coverage Policy\\nTitle XVIII of the Social Security Act, §1833(e) prohibits Medicare payment for any claim which lacks the necessary \\ninformation to process the claim.\\nTitle XVIII of the Social Security Act, §1862(a)(1)(A) allows coverage and payment for only those services that are \\nconsidered to be reasonable and necessary for the diagnosis or treatment of illness or injury or to improve the \\nfunctioning of a malformed body member.\\nTitle XVIII of the Social Security Act, §1862(a)(7) excludes routine physical examinations.\\nTitle XVIII of the Social Security Act, §1862(a)(12) states no payment may be made for services in connection with \\nthe care, treatment, filling, removal, or replacement of teeth or structures directly supporting teeth, except that \\npayment may be made for inpatient hospital services because of underlying medical condition and clinical status or \\nbecause of the severity of the dental procedure, requires hospitalization in connection with the provision of such \\nservices.\\n42 CFR §410.26 services and supplies incident to a physician’s professional services: conditions.\\n42 CFR §411.15(a) routine physical checkups particular services excluded from coverage, and (i) states no payment \\nmay be made for dental services in connection with care, treatment filling, removal, or replacement of teeth, or \\nstructures directly supporting teeth, except for inpatient services in connection with dental procedures when \\nhospitalization is required because of an underlying medical condition and clinical status or the severity of the dental \\nprocedures.\\n42 CFR §440.100 defines dental services.\\nCreated on 01/06/2024. Page 2 of \\n9',\n",
       " 'CMS Internet-Only Manual, Pub . 100-01, Medicare General Information, Eligibility , and Entitlement Manual, Chapter  \\n4, §10.3 Certification for Hospital Admissions for Dental Services\\nCMS Internet-Only Manual, Pub . 100-01, Medicare General Information, Eligibility, and Entitlement Manual, Chapter  \\n5, §70 Physician Defined and §70.2 Dentists\\nCMS Internet-Only Manual, Pub . 100-02, Medicare Benefit Policy Manual, Chapter 1, §30 Drugs and Biologicals and  \\n§70 Inpatient Services in Connection With Dental Services\\nCMS Internet-Only Manual, Pub. 100-02, Medicare Benefit Policy Manual, Chapter 15, §60 Services and Supplies \\nFurnished Incident To a Physician’s/NPP’s Professional Service, §120C Dentures and §150 Dental Services\\nCMS Internet-Only Manual, Pub . 100-02, Medicare Benefit Policy Manual, Chapter 16, §140 Dental Services Exclusion\\nCMS Internet-Only Manual, Pub . 100-03, Medicare National Coverage Determinations (NCD) Manual, Chapter 1, Part \\n4, §260.6 Dental Examination Prior to Kidney Transplantation\\nCMS Internet-Only Manual, Pub. 100-08, Medicare Program Integrity Manual, Chapter 3, §3.6.2.2 Reasonable and \\nNecessary Criteria\\nArticle Guidance\\nArticle Text\\nThe information in this article contains billing, coding or other guidelines that support the implementation of the CY \\n2023 Medicare Physician Fee Schedule Final Rule on Dental Services.\\nIn addition, dental services that are inextricably linked to, and substantially related and integral to the clinical \\nsuccess of, a certain covered medical service are not excluded; payment may be made under Medicare Parts A and B \\nfor such services furnished in the inpatient or outpatient setting. Such services include, but are not limited to:\\nDental or oral examination performed as part of a comprehensive workup in either the inpatient or outpatient \\nsetting prior to Medicare-covered organ transplant, cardiac valve replacement, or valvuloplasty procedures; \\nand medically necessary diagnostic and treatment services to eliminate an oral or dental infection prior to, or \\ncontemporaneously with, the organ transplant, cardiac valve replacement, or valvuloplasty procedure.•\\nThe reconstruction of a dental ridge performed because of and at the same time as the surgical removal of a \\ntumor.•\\nThe stabilization or immobilization of teeth in connection with the reduction of a jaw fracture, and dental \\nsplints only when used in conjunction with covered treatment of a covered medical condition such as dislocated \\njaw joints.•\\nThe extraction of teeth to prepare the jaw for radiation treatment of neoplastic disease.•\\nAncillary services and supplies furnished incident to covered dental services are not excluded, and Medicare payment \\nmay be made under Part A or Part B, as applicable, whether the service is performed in the inpatient or outpatient \\nsetting, including, but not limited to the administration of anesthesia, diagnostic x-rays, use of operating room, and \\nCreated on 01/06/2024. Page 3 of \\n9',\n",
       " 'other related procedures.\\nMedicare payment may be made for services furnished incident to the professional medical or “inextricably linked” \\ndental services by auxiliary personnel, such as a dental hygienist, dental therapist, or registered nurse who is under \\nthe direct supervision of the furnishing dentist or other physician or practitioner, if they meet the requirements for \\n“incident to” services as described in 42 Code of Federal Regulations (CFR) §410.26.\\nDefinitions\\nAncillary Services : For the purposes of payment under this Billing and Coding article, “ancillary services” are services \\nthat include, but are not limited to, x-rays, administration of anesthesia, and the use of the operating room, and \\nother related procedures.\\nDental Services : For the purposes of payment under this Billing and Coding article, “dental services” refer to dental \\nand oral examinations and medically necessary diagnostic and treatment services, such as, but not limited to, the \\nelimination of an oral or dental infection.\\nDentist : For the purposes of payment under this Billing and Coding article, a “dentist” refers to a Doctor of Dental \\nMedicine or Dental Surgery, who is legally authorized to practice dentistry in the state or territory within which they \\nperform such function, and who is acting within the scope of their license.\\nInextricable Linkage : For the purposes of payment under this Billing and Coding article, for a dental service to be \\nconsidered “inextricably linked” to a covered primary medical procedure/service, evidence-based literature and/or \\nclinical standard of care must be demonstrated such that the provision of these dental services PRIOR TO a primary \\ncovered medical procedure/service if not performed would result in a material difference in terms of clinical outcomes \\nand success of the medical procedure/service.\\nClaim Submission Guidance\\nMedicare payment for dental services is generally precluded by statute. Please refer to Title XVIII of the Social \\nSecurity Act, §1862(a)(12) for non-covered services that are part of the dental exclusion. However, Medicare has \\npaid for dental services in a limited number of circumstances, when that service is an integral part of a specific \\ntreatment of a beneficiary’s primary medical condition.\\nFor dates of service January 1, 2023, and after, Medicare may pay for additional dental services that are “inextricably \\nlinked” to, and substantially related and integral to the clinical success of an otherwise covered medical service, such \\nas dental exams and necessary treatments to eradicate dental infection prior to, or contemporaneously with, organ \\nand hematopoietic stem cell transplants, cardiac valve replacements, and valvuloplasty procedures. If it is not \\nclinically appropriate to eradicate an infection within 1 visit prior to the planned medical service, Medicare can make \\npayment over multiple visits.\\nTo be eligible to bill and receive direct payment for professional services under Medicare Part B, the medical \\nprofessional and dentist would need to be enrolled in Medicare and meet all other requirements for billing under the \\nPhysician Fee Schedule. To learn how to enroll as a Medicare provider, visit the provider enrollment page on this A/B \\nMAC’s website at Jurisdiction J Part B - Provider Enrollment (palmettogba.com)  and Jurisdiction M Part B - Provider \\nEnrollment (palmettogba.com) .\\nUntil such time that this A/B MAC can accept the American Dental Association (ADA) Dental Claim form or the 837D \\nCreated on 01/06/2024. Page 4 of \\n9',\n",
       " 'electronically, please submit professional claims electronically on the X12 Health Care Claim: Professional (837P).\\nFor efficient claims processing, the following information should be submitted:\\nThe name and NPI number of the medical physician treating the covered medical condition/planned procedure.•\\nThe medical condition or surgical procedure linked to the dental services provided, and the estimated date of \\nthe planned procedure, if applicable.•\\nICD-10 Diagnosis code(s) in the primary and secondary positions related to the dental service(s) provided.•\\nICD-10 Diagnosis code(s) in the secondary positions related to the planned medical condition or surgical \\nprocedure that is considered “inextricably linked.”•\\nICD-10 Diagnosis code Z01.818 should be included to notify us when the patient needs the dental service to \\neradicate dental infection prior to, or contemporaneously with, a covered cardiac valve surgical procedure.•\\nICD-10 Diagnosis code Z76.82 should be included when the patient needs dental services to eradicate dental \\ninfection prior to, or contemporaneously with, organ or hematopoietic stem cell transplants.•\\nWhen selecting the procedure or service that accurately identifies the service performed, dentists should use the \\nmost accurate code. If the current dental terminology (CDT) code more accurately identifies the service, this should \\nbe used rather than the current procedural terminology (CPT) codes. In instances where there are overlapping CDT \\ncodes to describe durable medical equipment (DME) and supplies, we will make payment from the Medicare Durable \\nMedical Equipment, Prosthetics, Orthotics, & Supplies (DMEPOS) fee schedule. If the item or supply is not on the list \\nof codes payable by the Part B MAC, it would need to be billed to the DME MAC. To learn more about these DMEPOS \\ncoding policies please visit this A/B MAC’s website at Jurisdiction M Part B - DMEPOS (palmettogba.com) .\\nIf a dentist wants to submit a claim to produce a denial so that Medicaid or another third-party payer can make \\nprimary payment, the dentist may submit a claim with the appropriate healthcare common procedure coding system \\n(HCPCS) modifier so that Medicare does not pay the claim. To learn more about the specific modifiers, visit this A/B \\nMAC’s website at Jurisdiction M Part B - Modifier Lookup: Your Resource for Correct Claim Submission \\n(palmettogba.com) .\\nDocumentation Guidance\\nMedicare payment may be made when a dentist provided dental services that are considered “inextricably linked” to \\nand substantially related, and integral to the clinical success of an otherwise covered primary procedure or service \\nprovided by another physician or non-physician practitioner, treating the primary medical illness. If there is no \\nexchange of information or integration between the medical professional regarding the primary medical service, and \\nthe dentist regarding the dental services, then there would not be an inextricable link between the dental and \\ncovered medical services within the Centers for Medicare and Medicaid Services (CMS) regulation 42 CFR Part \\n411.15(i)(3).\\nWithout the integration between the medical and dental professionals, the dental services would not be covered \\nunder the Medicare Part B benefit as stated in Title XVIII of the Social Security Act, §1862(a)(12) since they would \\nbe in connection with care, treatment, filling, removal or replacement of teeth or structures directly supporting the \\nteeth. Integration between the medical and dental professionals can occur when these professionals coordinate care. \\nThis level of coordination includes, but is not limited to, a referral or exchange of information between the medical \\nprofessional and the dentist. The medical record should retain documentation that this integration has occurred. \\nExamples of integration or coordination include, but are not limited to, a notation in the medical record that a \\nconversation between the medical professional and dentist has occurred detailing the need for dental services prior \\nto the planned medical procedure, a copy of a written consultation between the 2 providers, or a copy of written \\ncorrespondence between the 2 providers.\\nCreated on 01/06/2024. Page 5 of \\n9',\n",
       " 'While submission of a claim containing dental services is considered a certification by the provider of compliance with \\napplicable payment policies and could be subject to normal post-pay review in accordance with Medicare policies, \\nthere may be instances when this A/B MAC will request documentation from the dentists to demonstrate that dental \\nservices rendered were “inextricably linked” to a covered medical service before payment is made. That \\ndocumentation might include:\\nDental records  should be legible and signed with the appropriate name and title of the provider of the service: 1. \\nEvaluations\\nComplete, periodic, or limited dental exam\\x00\\nConsultation and coordination between the dentist and another medical professional treating the \\nprimary medical illness\\x00\\nEvaluation at other locations than the service billed\\x00\\x00\\nAnesthesia\\nType of anesthesia\\x00\\nUnusual events occurring during the anesthetic monitoring period\\x00\\nTotal time under anesthesia\\x00\\nMedications provided to the patient including the dosage and time of administration\\x00\\nPain management prescribed post procedure\\x00\\x00\\nRadiographs\\nType of x-ray or other imaging\\x00\\nResults of x-ray or other imaging\\x00\\x00\\nTesting or diagnostic service\\x00\\nDocumentation of tooth (teeth) treated\\nUse standard identification of teeth approved by the ADA and CMS – alpha designation for primary \\nteeth, numeric for permanent teeth\\x00\\nTooth surface treated, if appropriate\\x00\\nMissing teeth documented in permanent record\\x00\\x00\\nType of treatment\\nTreatment of caries\\x00\\nEndodontic procedures\\x00\\nProsthetic services\\x00\\nPreventive services\\x00\\nTreatment of lesions and dental disease\\x00\\x00\\nLiterature  to support that the provision of certain dental services to treat a dental infection leads to improved \\nhealing, improved quality of surgery, or the reduced likelihood of readmission and/or surgical revisions. \\nExamples of literature could include relevant peer-reviewed medical and/or dental literature and research \\nstudies, or evidence of clinical guidelines or generally accepted standards of care.2. \\nClinical evidence  to support that certain dental services would result in significant improvements in clinical, \\nquality and safety outcomes related to the covered medical condition/procedure.3. \\nCreated on 01/06/2024. Page 6 of \\n9',\n",
       " 'If a dentist believes that Medicare will deny some or all the services or items because of medical necessity or an \\n“inextricable link” may not be present, an Advance Beneficiary Notice of Noncoverage (ABN) should be issued in \\nwriting to the Medicare beneficiary. The ABN is optional when Medicare never covers a service, for example, a benefit \\ncategory denial, but should be used if Medicare does cover the service for some diagnoses, but the dentist believes it \\nwill not be covered for a particular situation. To learn more about the ABN process, visit this A/B MAC’s website at \\nInteractive ABN (palmettogba.com) .\\nThis billing and coding article is not to be construed nor imply coverage of dental screening services, dental \\nprophylaxis, treatment of simple dental caries, routine tooth extractions, dental prosthetics/splints/dentures/oral \\nappliances, nor definitive reconstruction or restoration of dental structures because of the removal of identified \\ninfection and/or the source.\\nThe expansion of potentially payable dental services does NOT apply to dental services performed AFTER the \\nrespective “inextricably linked” medical procedure/service. When an excluded service is the primary procedure \\ninvolved, it is not covered regardless of its complexity or difficulty. The hospitalization or non-hospitalization of a \\npatient has no direct bearing on the coverage or exclusion of a given dental procedure. Should the dental services \\nprovided fail to demonstrate inextricable linkage and thus fall under the Medicare Dental Exclusion, the claim may be \\ndenied as a benefit category denial subject to beneficiary liability.\\nCoding Information\\nCPT/HCPCS Codes\\nN/A\\nCPT/HCPCS Modifiers\\nN/A\\nICD-10-CM Codes that Support Medical Necessity\\nGroup 1 Paragraph: \\nThe ICD-10-CM codes listed below are not an all-inclusive list. ICD-10-CM codes in the primary and secondary \\npositions related to the dental service(s) provided should be submitted for efficient claims processing.\\nGroup 1 Codes:  (2 Codes)\\nCODE DESCRIPTION\\nZ01.818* Encounter for other preprocedural examination\\nZ76.82* Awaiting organ transplant status\\nGroup 1 Medical Necessity ICD-10-CM Codes Asterisk Explanation: \\nCreated on 01/06/2024. Page 7 of \\n9',\n",
       " 'ICD-10 Diagnosis code Z01.818 should be included to notify this A/B MAC when the patient needs the dental \\nservice to eradicate dental infection prior to, or contemporaneously with, a covered cardiac valve surgical \\nprocedure.\\nICD-10 Diagnosis code Z76.82 should be included when the patient needs dental services to eradicate dental \\ninfection prior to, or contemporaneously with, organ or hematopoietic stem cell transplants.\\nICD-10-CM Codes that DO NOT Support Medical Necessity\\nN/A\\nICD-10-PCS Codes\\nN/A\\nAdditional ICD-10 Information\\nN/A\\nBill Type Codes\\nContractors may specify Bill Types to help providers identify those Bill Types typically used to report this service. \\nAbsence of a Bill Type does not guarantee that the article does not apply to that Bill Type. Complete absence of all \\nBill Types indicates that coverage is not influenced by Bill Type and the article should be assumed to apply equally \\nto all claims. \\nN/A\\nRevenue Codes\\nContractors may specify Revenue Codes to help providers identify those Revenue Codes typically used to report \\nthis service. In most instances Revenue Codes are purely advisory. Unless specified in the article, services \\nreported under other Revenue Codes are equally subject to this coverage determination. Complete absence of all \\nRevenue Codes indicates that coverage is not influenced by Revenue Code and the article should be assumed to \\napply equally to all Revenue Codes. \\nN/A\\nOther Coding Information\\nN/A\\nRevision History Information\\nCreated on 01/06/2024. Page 8 of \\n9',\n",
       " 'REVISION HISTORY DATE REVISION HISTORY NUMBER REVISION HISTORY EXPLANATION\\nAssociated Documents\\nRelated Local Coverage Documents\\nN/A\\nRelated National Coverage Documents\\nN/A\\nStatutory Requirements URLs\\nN/A\\nRules and Regulations URLs\\nN/A\\nCMS Manual Explanations URLs\\nN/A\\nOther URLs\\nN/A\\nPublic Versions\\nUPDATED ON EFFECTIVE DATES STATUS\\n06/01/2023 06/08/2023 - N/A Currently in Effect (This Version)\\nKeywords\\nDental Services•\\nCreated on 01/06/2024. Page 9 of \\n9']"
      ]
     },
     "execution_count": 35,
     "metadata": {},
     "output_type": "execute_result"
    }
   ],
   "source": [
    "text_chunks"
   ]
  },
  {
   "cell_type": "code",
   "execution_count": 40,
   "id": "50bc9023-f81a-4435-91d5-3185c6f8aee0",
   "metadata": {},
   "outputs": [],
   "source": [
    "from w3lib.html import replace_escape_chars\n",
    "import re\n",
    "\n",
    "def clean_text(text):\n",
    "  # Replace specific unprocessable characters\n",
    "  cleaned_text = text.replace(\"\\x00\", \"\")\n",
    "\n",
    "  # replace escape characters\n",
    "  cleaned_text = replace_escape_chars(cleaned_text)\n",
    "\n",
    "  # remove all non-printable characters\n",
    "  cleaned_text = re.sub(r\"[^\\x20-\\x7E]\", \"\", cleaned_text)\n",
    "\n",
    "  return cleaned_text"
   ]
  },
  {
   "cell_type": "code",
   "execution_count": 42,
   "id": "7db7f83a-26b3-41bd-a0df-aed459da8699",
   "metadata": {},
   "outputs": [],
   "source": [
    "text_chunks = [clean_text(x) for x in text_chunks]"
   ]
  },
  {
   "cell_type": "code",
   "execution_count": 43,
   "id": "b6fe36b0-9da5-4ce9-8952-b47fddbab969",
   "metadata": {},
   "outputs": [
    {
     "data": {
      "text/plain": [
       "['Billing and Coding ArticleArticle - Billing and Coding: Dental Services (A59449)Links in PDF documents are not guaranteed to work. To follow a web link, please use the MCD Website.NOT AN LCD REFERENCE ARTICLEThis article is not in direct support of an LCD. Learn moreContractor InformationCONTRACTOR NAME CONTRACT TYPE CONTRACT NUMBER JURISDICTION STATESPalmetto GBA A and B MAC 10111 - MAC A J - J Alabama  Palmetto GBA A and B MAC 10112 - MAC B J - J Alabama  Palmetto GBA A and B MAC 10211 - MAC A J - J Georgia  Palmetto GBA A and B MAC 10212 - MAC B J - J Georgia  Palmetto GBA A and B MAC 10311 - MAC A J - J Tennessee  Palmetto GBA A and B MAC 10312 - MAC B J - J Tennessee  Palmetto GBA A and B and HHH MAC 11201 - MAC A J - M South Carolina  Palmetto GBA A and B and HHH MAC 11202 - MAC B J - M South Carolina  Palmetto GBA A and B and HHH MAC 11301 - MAC A J - M Virginia  Palmetto GBA A and B and HHH MAC 11302 - MAC B J - M Virginia  Palmetto GBA A and B and HHH MAC 11401 - MAC A J - M West Virginia  Palmetto GBA A and B and HHH MAC 11402 - MAC B J - M West Virginia  Palmetto GBA A and B and HHH MAC 11501 - MAC A J - M North Carolina  Palmetto GBA A and B and HHH MAC 11502 - MAC B J - M North Carolina  Article InformationGeneral InformationArticle IDA59449 Article TitleBilling and Coding: Dental Services Article TypeBilling and Coding AMA CPT / ADA CDT / AHA NUBC Copyright StatementCPT codes, descriptions and other data only are copyright 2023 American Medical Association. All Rights Reserved. Applicable FARS/HHSARS apply.Fee schedules, relative value units, conversion factors and/or related components are not assigned by the AMA, are not part of CPT, and the AMA is not recommending their use. The AMA does not directly or indirectly practice medicine or dispense medical services. The AMA assumes no liability for data contained or not contained herein.Created on 01/06/2024. Page 1 of 9',\n",
       " 'Original Effective Date06/08/2023 Revision Effective DateN/A Revision Ending DateN/A Retirement DateN/ACurrent Dental Terminology  2023 American Dental Association. All rights reserved.Copyright  2023, the American Hospital Association, Chicago, Illinois. Reproduced with permission. No portion of the American Hospital Association (AHA) copyrighted materials contained within this publication may be copied without the express written consent of the AHA. AHA copyrighted materials including the UB 04 codes and descriptions may not be removed, copied, or utilized within any software, product, service, solution or derivative work without the written consent of the AHA. If an entity wishes to utilize any AHA materials, please contact the AHA at 312 8936816.Making copies or utilizing the content of the UB 04 Manual, including the codes and/or descriptions, for internal purposes, resale and/or to be used in any product or publication; creating any modified or derivative work of the UB 04 Manual and/or codes and descriptions; and/or making any commercial use of UB 04 Manual or any portion thereof, including the codes and/or descriptions, is only authorized with an express license from the American Hospital Association. The American Hospital Association (the \"AHA\") has not reviewed, and is not responsible for, the completeness or accuracy of any information contained in this material, nor was the AHA or any of its affiliates, involved in the preparation of this material, or the analysis of information provided in the material. The views and/or positions presented in the material do not necessarily represent the views of the AHA. CMS and its products and services are not endorsed by the AHA or any of its affiliates.CMS National Coverage PolicyTitle XVIII of the Social Security Act, 1833(e) prohibits Medicare payment for any claim which lacks the necessary information to process the claim.Title XVIII of the Social Security Act, 1862(a)(1)(A) allows coverage and payment for only those services that are considered to be reasonable and necessary for the diagnosis or treatment of illness or injury or to improve the functioning of a malformed body member.Title XVIII of the Social Security Act, 1862(a)(7) excludes routine physical examinations.Title XVIII of the Social Security Act, 1862(a)(12) states no payment may be made for services in connection with the care, treatment, filling, removal, or replacement of teeth or structures directly supporting teeth, except that payment may be made for inpatient hospital services because of underlying medical condition and clinical status or because of the severity of the dental procedure, requires hospitalization in connection with the provision of such services.42 CFR 410.26 services and supplies incident to a physicians professional services: conditions.42 CFR 411.15(a) routine physical checkups particular services excluded from coverage, and (i) states no payment may be made for dental services in connection with care, treatment filling, removal, or replacement of teeth, or structures directly supporting teeth, except for inpatient services in connection with dental procedures when hospitalization is required because of an underlying medical condition and clinical status or the severity of the dental procedures.42 CFR 440.100 defines dental services.Created on 01/06/2024. Page 2 of 9',\n",
       " 'CMS Internet-Only Manual, Pub . 100-01, Medicare General Information, Eligibility , and Entitlement Manual, Chapter  4, 10.3 Certification for Hospital Admissions for Dental ServicesCMS Internet-Only Manual, Pub . 100-01, Medicare General Information, Eligibility, and Entitlement Manual, Chapter  5, 70 Physician Defined and 70.2 DentistsCMS Internet-Only Manual, Pub . 100-02, Medicare Benefit Policy Manual, Chapter 1, 30 Drugs and Biologicals and  70 Inpatient Services in Connection With Dental ServicesCMS Internet-Only Manual, Pub. 100-02, Medicare Benefit Policy Manual, Chapter 15, 60 Services and Supplies Furnished Incident To a Physicians/NPPs Professional Service, 120C Dentures and 150 Dental ServicesCMS Internet-Only Manual, Pub . 100-02, Medicare Benefit Policy Manual, Chapter 16, 140 Dental Services ExclusionCMS Internet-Only Manual, Pub . 100-03, Medicare National Coverage Determinations (NCD) Manual, Chapter 1, Part 4, 260.6 Dental Examination Prior to Kidney TransplantationCMS Internet-Only Manual, Pub. 100-08, Medicare Program Integrity Manual, Chapter 3, 3.6.2.2 Reasonable and Necessary CriteriaArticle GuidanceArticle TextThe information in this article contains billing, coding or other guidelines that support the implementation of the CY 2023 Medicare Physician Fee Schedule Final Rule on Dental Services.In addition, dental services that are inextricably linked to, and substantially related and integral to the clinical success of, a certain covered medical service are not excluded; payment may be made under Medicare Parts A and B for such services furnished in the inpatient or outpatient setting. Such services include, but are not limited to:Dental or oral examination performed as part of a comprehensive workup in either the inpatient or outpatient setting prior to Medicare-covered organ transplant, cardiac valve replacement, or valvuloplasty procedures; and medically necessary diagnostic and treatment services to eliminate an oral or dental infection prior to, or contemporaneously with, the organ transplant, cardiac valve replacement, or valvuloplasty procedure.The reconstruction of a dental ridge performed because of and at the same time as the surgical removal of a tumor.The stabilization or immobilization of teeth in connection with the reduction of a jaw fracture, and dental splints only when used in conjunction with covered treatment of a covered medical condition such as dislocated jaw joints.The extraction of teeth to prepare the jaw for radiation treatment of neoplastic disease.Ancillary services and supplies furnished incident to covered dental services are not excluded, and Medicare payment may be made under Part A or Part B, as applicable, whether the service is performed in the inpatient or outpatient setting, including, but not limited to the administration of anesthesia, diagnostic x-rays, use of operating room, and Created on 01/06/2024. Page 3 of 9',\n",
       " 'other related procedures.Medicare payment may be made for services furnished incident to the professional medical or inextricably linked dental services by auxiliary personnel, such as a dental hygienist, dental therapist, or registered nurse who is under the direct supervision of the furnishing dentist or other physician or practitioner, if they meet the requirements for incident to services as described in 42 Code of Federal Regulations (CFR) 410.26.DefinitionsAncillary Services : For the purposes of payment under this Billing and Coding article, ancillary services are services that include, but are not limited to, x-rays, administration of anesthesia, and the use of the operating room, and other related procedures.Dental Services : For the purposes of payment under this Billing and Coding article, dental services refer to dental and oral examinations and medically necessary diagnostic and treatment services, such as, but not limited to, the elimination of an oral or dental infection.Dentist : For the purposes of payment under this Billing and Coding article, a dentist refers to a Doctor of Dental Medicine or Dental Surgery, who is legally authorized to practice dentistry in the state or territory within which they perform such function, and who is acting within the scope of their license.Inextricable Linkage : For the purposes of payment under this Billing and Coding article, for a dental service to be considered inextricably linked to a covered primary medical procedure/service, evidence-based literature and/or clinical standard of care must be demonstrated such that the provision of these dental services PRIOR TO a primary covered medical procedure/service if not performed would result in a material difference in terms of clinical outcomes and success of the medical procedure/service.Claim Submission GuidanceMedicare payment for dental services is generally precluded by statute. Please refer to Title XVIII of the Social Security Act, 1862(a)(12) for non-covered services that are part of the dental exclusion. However, Medicare has paid for dental services in a limited number of circumstances, when that service is an integral part of a specific treatment of a beneficiarys primary medical condition.For dates of service January 1, 2023, and after, Medicare may pay for additional dental services that are inextricably linked to, and substantially related and integral to the clinical success of an otherwise covered medical service, such as dental exams and necessary treatments to eradicate dental infection prior to, or contemporaneously with, organ and hematopoietic stem cell transplants, cardiac valve replacements, and valvuloplasty procedures. If it is not clinically appropriate to eradicate an infection within 1 visit prior to the planned medical service, Medicare can make payment over multiple visits.To be eligible to bill and receive direct payment for professional services under Medicare Part B, the medical professional and dentist would need to be enrolled in Medicare and meet all other requirements for billing under the Physician Fee Schedule. To learn how to enroll as a Medicare provider, visit the provider enrollment page on this A/B MACs website at Jurisdiction J Part B - Provider Enrollment (palmettogba.com)  and Jurisdiction M Part B - Provider Enrollment (palmettogba.com) .Until such time that this A/B MAC can accept the American Dental Association (ADA) Dental Claim form or the 837D Created on 01/06/2024. Page 4 of 9',\n",
       " 'electronically, please submit professional claims electronically on the X12 Health Care Claim: Professional (837P).For efficient claims processing, the following information should be submitted:The name and NPI number of the medical physician treating the covered medical condition/planned procedure.The medical condition or surgical procedure linked to the dental services provided, and the estimated date of the planned procedure, if applicable.ICD-10 Diagnosis code(s) in the primary and secondary positions related to the dental service(s) provided.ICD-10 Diagnosis code(s) in the secondary positions related to the planned medical condition or surgical procedure that is considered inextricably linked.ICD-10 Diagnosis code Z01.818 should be included to notify us when the patient needs the dental service to eradicate dental infection prior to, or contemporaneously with, a covered cardiac valve surgical procedure.ICD-10 Diagnosis code Z76.82 should be included when the patient needs dental services to eradicate dental infection prior to, or contemporaneously with, organ or hematopoietic stem cell transplants.When selecting the procedure or service that accurately identifies the service performed, dentists should use the most accurate code. If the current dental terminology (CDT) code more accurately identifies the service, this should be used rather than the current procedural terminology (CPT) codes. In instances where there are overlapping CDT codes to describe durable medical equipment (DME) and supplies, we will make payment from the Medicare Durable Medical Equipment, Prosthetics, Orthotics, & Supplies (DMEPOS) fee schedule. If the item or supply is not on the list of codes payable by the Part B MAC, it would need to be billed to the DME MAC. To learn more about these DMEPOS coding policies please visit this A/B MACs website at Jurisdiction M Part B - DMEPOS (palmettogba.com) .If a dentist wants to submit a claim to produce a denial so that Medicaid or another third-party payer can make primary payment, the dentist may submit a claim with the appropriate healthcare common procedure coding system (HCPCS) modifier so that Medicare does not pay the claim. To learn more about the specific modifiers, visit this A/B MACs website at Jurisdiction M Part B - Modifier Lookup: Your Resource for Correct Claim Submission (palmettogba.com) .Documentation GuidanceMedicare payment may be made when a dentist provided dental services that are considered inextricably linked to and substantially related, and integral to the clinical success of an otherwise covered primary procedure or service provided by another physician or non-physician practitioner, treating the primary medical illness. If there is no exchange of information or integration between the medical professional regarding the primary medical service, and the dentist regarding the dental services, then there would not be an inextricable link between the dental and covered medical services within the Centers for Medicare and Medicaid Services (CMS) regulation 42 CFR Part 411.15(i)(3).Without the integration between the medical and dental professionals, the dental services would not be covered under the Medicare Part B benefit as stated in Title XVIII of the Social Security Act, 1862(a)(12) since they would be in connection with care, treatment, filling, removal or replacement of teeth or structures directly supporting the teeth. Integration between the medical and dental professionals can occur when these professionals coordinate care. This level of coordination includes, but is not limited to, a referral or exchange of information between the medical professional and the dentist. The medical record should retain documentation that this integration has occurred. Examples of integration or coordination include, but are not limited to, a notation in the medical record that a conversation between the medical professional and dentist has occurred detailing the need for dental services prior to the planned medical procedure, a copy of a written consultation between the 2 providers, or a copy of written correspondence between the 2 providers.Created on 01/06/2024. Page 5 of 9',\n",
       " 'While submission of a claim containing dental services is considered a certification by the provider of compliance with applicable payment policies and could be subject to normal post-pay review in accordance with Medicare policies, there may be instances when this A/B MAC will request documentation from the dentists to demonstrate that dental services rendered were inextricably linked to a covered medical service before payment is made. That documentation might include:Dental records  should be legible and signed with the appropriate name and title of the provider of the service: 1. EvaluationsComplete, periodic, or limited dental examConsultation and coordination between the dentist and another medical professional treating the primary medical illnessEvaluation at other locations than the service billedAnesthesiaType of anesthesiaUnusual events occurring during the anesthetic monitoring periodTotal time under anesthesiaMedications provided to the patient including the dosage and time of administrationPain management prescribed post procedureRadiographsType of x-ray or other imagingResults of x-ray or other imagingTesting or diagnostic serviceDocumentation of tooth (teeth) treatedUse standard identification of teeth approved by the ADA and CMS  alpha designation for primary teeth, numeric for permanent teethTooth surface treated, if appropriateMissing teeth documented in permanent recordType of treatmentTreatment of cariesEndodontic proceduresProsthetic servicesPreventive servicesTreatment of lesions and dental diseaseLiterature  to support that the provision of certain dental services to treat a dental infection leads to improved healing, improved quality of surgery, or the reduced likelihood of readmission and/or surgical revisions. Examples of literature could include relevant peer-reviewed medical and/or dental literature and research studies, or evidence of clinical guidelines or generally accepted standards of care.2. Clinical evidence  to support that certain dental services would result in significant improvements in clinical, quality and safety outcomes related to the covered medical condition/procedure.3. Created on 01/06/2024. Page 6 of 9',\n",
       " 'If a dentist believes that Medicare will deny some or all the services or items because of medical necessity or an inextricable link may not be present, an Advance Beneficiary Notice of Noncoverage (ABN) should be issued in writing to the Medicare beneficiary. The ABN is optional when Medicare never covers a service, for example, a benefit category denial, but should be used if Medicare does cover the service for some diagnoses, but the dentist believes it will not be covered for a particular situation. To learn more about the ABN process, visit this A/B MACs website at Interactive ABN (palmettogba.com) .This billing and coding article is not to be construed nor imply coverage of dental screening services, dental prophylaxis, treatment of simple dental caries, routine tooth extractions, dental prosthetics/splints/dentures/oral appliances, nor definitive reconstruction or restoration of dental structures because of the removal of identified infection and/or the source.The expansion of potentially payable dental services does NOT apply to dental services performed AFTER the respective inextricably linked medical procedure/service. When an excluded service is the primary procedure involved, it is not covered regardless of its complexity or difficulty. The hospitalization or non-hospitalization of a patient has no direct bearing on the coverage or exclusion of a given dental procedure. Should the dental services provided fail to demonstrate inextricable linkage and thus fall under the Medicare Dental Exclusion, the claim may be denied as a benefit category denial subject to beneficiary liability.Coding InformationCPT/HCPCS CodesN/ACPT/HCPCS ModifiersN/AICD-10-CM Codes that Support Medical NecessityGroup 1 Paragraph: The ICD-10-CM codes listed below are not an all-inclusive list. ICD-10-CM codes in the primary and secondary positions related to the dental service(s) provided should be submitted for efficient claims processing.Group 1 Codes:  (2 Codes)CODE DESCRIPTIONZ01.818* Encounter for other preprocedural examinationZ76.82* Awaiting organ transplant statusGroup 1 Medical Necessity ICD-10-CM Codes Asterisk Explanation: Created on 01/06/2024. Page 7 of 9',\n",
       " 'ICD-10 Diagnosis code Z01.818 should be included to notify this A/B MAC when the patient needs the dental service to eradicate dental infection prior to, or contemporaneously with, a covered cardiac valve surgical procedure.ICD-10 Diagnosis code Z76.82 should be included when the patient needs dental services to eradicate dental infection prior to, or contemporaneously with, organ or hematopoietic stem cell transplants.ICD-10-CM Codes that DO NOT Support Medical NecessityN/AICD-10-PCS CodesN/AAdditional ICD-10 InformationN/ABill Type CodesContractors may specify Bill Types to help providers identify those Bill Types typically used to report this service. Absence of a Bill Type does not guarantee that the article does not apply to that Bill Type. Complete absence of all Bill Types indicates that coverage is not influenced by Bill Type and the article should be assumed to apply equally to all claims. N/ARevenue CodesContractors may specify Revenue Codes to help providers identify those Revenue Codes typically used to report this service. In most instances Revenue Codes are purely advisory. Unless specified in the article, services reported under other Revenue Codes are equally subject to this coverage determination. Complete absence of all Revenue Codes indicates that coverage is not influenced by Revenue Code and the article should be assumed to apply equally to all Revenue Codes. N/AOther Coding InformationN/ARevision History InformationCreated on 01/06/2024. Page 8 of 9',\n",
       " 'REVISION HISTORY DATE REVISION HISTORY NUMBER REVISION HISTORY EXPLANATIONAssociated DocumentsRelated Local Coverage DocumentsN/ARelated National Coverage DocumentsN/AStatutory Requirements URLsN/ARules and Regulations URLsN/ACMS Manual Explanations URLsN/AOther URLsN/APublic VersionsUPDATED ON EFFECTIVE DATES STATUS06/01/2023 06/08/2023 - N/A Currently in Effect (This Version)KeywordsDental ServicesCreated on 01/06/2024. Page 9 of 9']"
      ]
     },
     "execution_count": 43,
     "metadata": {},
     "output_type": "execute_result"
    }
   ],
   "source": [
    "text_chunks"
   ]
  },
  {
   "cell_type": "code",
   "execution_count": 44,
   "id": "5b9589a5-f2d8-4111-b26c-56216a4a2b28",
   "metadata": {},
   "outputs": [],
   "source": [
    "QueryEngine.delete_by_id(q_engine.id)"
   ]
  },
  {
   "cell_type": "code",
   "execution_count": 30,
   "id": "7552f95b-03bd-4334-aa11-10f70f974cca",
   "metadata": {},
   "outputs": [
    {
     "ename": "NameError",
     "evalue": "name 'q_engine' is not defined",
     "output_type": "error",
     "traceback": [
      "\u001b[0;31m---------------------------------------------------------------------------\u001b[0m",
      "\u001b[0;31mNameError\u001b[0m                                 Traceback (most recent call last)",
      "Cell \u001b[0;32mIn[30], line 5\u001b[0m\n\u001b[1;32m      2\u001b[0m clean_text \u001b[38;5;241m=\u001b[39m html_to_text(text_chunks[i])\n\u001b[1;32m      3\u001b[0m sentences \u001b[38;5;241m=\u001b[39m html_to_sentence_list(text_chunks[i])\n\u001b[1;32m      4\u001b[0m query_doc_chunk \u001b[38;5;241m=\u001b[39m QueryDocumentChunk(\n\u001b[0;32m----> 5\u001b[0m                       query_engine_id\u001b[38;5;241m=\u001b[39m\u001b[43mq_engine\u001b[49m\u001b[38;5;241m.\u001b[39mid,\n\u001b[1;32m      6\u001b[0m                       query_document_id\u001b[38;5;241m=\u001b[39mquery_doc\u001b[38;5;241m.\u001b[39mid,\n\u001b[1;32m      7\u001b[0m                       index\u001b[38;5;241m=\u001b[39mi\u001b[38;5;241m+\u001b[39mindex_base,\n\u001b[1;32m      8\u001b[0m                       text\u001b[38;5;241m=\u001b[39mtext_chunks[i],\n\u001b[1;32m      9\u001b[0m                       clean_text\u001b[38;5;241m=\u001b[39mclean_text,\n\u001b[1;32m     10\u001b[0m                       sentences\u001b[38;5;241m=\u001b[39msentences)\n",
      "\u001b[0;31mNameError\u001b[0m: name 'q_engine' is not defined"
     ]
    }
   ],
   "source": [
    "for i in range(0, len(text_chunks)):\n",
    "  clean_text = html_to_text(text_chunks[i])\n",
    "  sentences = html_to_sentence_list(text_chunks[i])\n",
    "  query_doc_chunk = QueryDocumentChunk(\n",
    "                        query_engine_id=q_engine.id,\n",
    "                        query_document_id=query_doc.id,\n",
    "                        index=i+index_base,\n",
    "                        text=text_chunks[i],\n",
    "                        clean_text=clean_text,\n",
    "                        sentences=sentences)"
   ]
  },
  {
   "cell_type": "code",
   "execution_count": 7,
   "id": "5c0aa493",
   "metadata": {},
   "outputs": [],
   "source": [
    "storage_client = storage.Client(project=PROJECT_ID)\n",
    "\n",
    "vector_store = VectorStore(q_engine)"
   ]
  },
  {
   "cell_type": "code",
   "execution_count": 10,
   "id": "c690bd12",
   "metadata": {},
   "outputs": [
    {
     "data": {
      "text/plain": [
       "[<common.models.llm_query.QueryDocument at 0x10b68c8e0>]"
      ]
     },
     "execution_count": 10,
     "metadata": {},
     "output_type": "execute_result"
    }
   ],
   "source": [
    "docs_processed"
   ]
  },
  {
   "cell_type": "code",
   "execution_count": 11,
   "id": "39886494",
   "metadata": {},
   "outputs": [
    {
     "data": {
      "text/plain": [
       "[]"
      ]
     },
     "execution_count": 11,
     "metadata": {},
     "output_type": "execute_result"
    }
   ],
   "source": [
    "docs_not_processed"
   ]
  },
  {
   "cell_type": "code",
   "execution_count": null,
   "id": "b57a0a07",
   "metadata": {},
   "outputs": [],
   "source": []
  }
 ],
 "metadata": {
  "kernelspec": {
   "display_name": "Python 3 (ipykernel)",
   "language": "python",
   "name": "python3"
  },
  "language_info": {
   "codemirror_mode": {
    "name": "ipython",
    "version": 3
   },
   "file_extension": ".py",
   "mimetype": "text/x-python",
   "name": "python",
   "nbconvert_exporter": "python",
   "pygments_lexer": "ipython3",
   "version": "3.9.13"
  }
 },
 "nbformat": 4,
 "nbformat_minor": 5
}
