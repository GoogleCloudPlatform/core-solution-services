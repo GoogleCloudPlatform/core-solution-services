{
 "cells": [
  {
   "cell_type": "code",
   "execution_count": 1,
   "id": "44c9db81",
   "metadata": {},
   "outputs": [],
   "source": [
    "PROJECT_ID = \"gcp-mira-demo\"\n",
    "REGION = \"us-central1\"\n",
    "import os\n",
    "os.environ[\"PROJECT_ID\"] = PROJECT_ID"
   ]
  },
  {
   "cell_type": "code",
   "execution_count": 2,
   "id": "249e427d",
   "metadata": {},
   "outputs": [],
   "source": [
    "#! gcloud auth login"
   ]
  },
  {
   "cell_type": "code",
   "execution_count": 3,
   "id": "6485508d",
   "metadata": {},
   "outputs": [],
   "source": [
    "import sys\n",
    "sys.path.append(\"../../common/src\")\n",
    "sys.path.append(\"../src\")"
   ]
  },
  {
   "cell_type": "code",
   "execution_count": 4,
   "id": "08365901",
   "metadata": {},
   "outputs": [],
   "source": [
    "import tempfile\n",
    "import os\n",
    "from typing import List, Optional, Tuple, Dict\n",
    "from common.utils.logging_handler import Logger\n",
    "from common.models import (UserQuery, QueryResult, QueryEngine, QueryDocument,\n",
    "                           QueryReference, QueryDocumentChunk, BatchJobModel)\n",
    "from common.utils.errors import (ResourceNotFoundException,\n",
    "                                 ValidationError)\n",
    "from common.utils.http_exceptions import InternalServerError\n",
    "from utils.errors import NoDocumentsIndexedException\n",
    "from google.cloud import storage\n",
    "from services import llm_generate\n",
    "from services.query import query_prompts, embeddings\n",
    "from services.query.vector_store import VectorStore\n",
    "from services.query.data_source import DataSource\n",
    "\n",
    "from config import (PROJECT_ID, DEFAULT_QUERY_CHAT_MODEL,\n",
    "                    DEFAULT_QUERY_EMBEDDING_MODEL)"
   ]
  },
  {
   "cell_type": "code",
   "execution_count": 5,
   "id": "4dd71700",
   "metadata": {},
   "outputs": [],
   "source": [
    "query_engine = \"lukman-test2\"\n",
    "doc_url = \"gs://gcp-mira-demo-llm-docs\"\n",
    "user_id = \"5nJrkPWa3D0yCKA853mD\"\n",
    "is_public=True"
   ]
  },
  {
   "cell_type": "code",
   "execution_count": 6,
   "id": "8632d1ef",
   "metadata": {},
   "outputs": [
    {
     "data": {
      "text/plain": [
       "<common.models.llm_query.QueryEngine at 0x10b6d68b0>"
      ]
     },
     "execution_count": 6,
     "metadata": {},
     "output_type": "execute_result"
    }
   ],
   "source": [
    "# create q_engine\n",
    "llm_type = DEFAULT_QUERY_EMBEDDING_MODEL\n",
    "q_engine = QueryEngine(name=query_engine,\n",
    "                     created_by=user_id,\n",
    "                     llm_type=llm_type,\n",
    "                     is_public=is_public)\n",
    "q_engine.save()"
   ]
  },
  {
   "cell_type": "code",
   "execution_count": 7,
   "id": "5c0aa493",
   "metadata": {},
   "outputs": [],
   "source": [
    "storage_client = storage.Client(project=PROJECT_ID)\n",
    "\n",
    "vector_store = VectorStore(q_engine)"
   ]
  },
  {
   "cell_type": "code",
   "execution_count": 9,
   "id": "53022cfc",
   "metadata": {},
   "outputs": [],
   "source": [
    "from services.query.query_service import process_documents\n",
    "\n",
    "docs_processed, docs_not_processed = process_documents(doc_url, vector_store, q_engine, storage_client)"
   ]
  },
  {
   "cell_type": "code",
   "execution_count": 10,
   "id": "c690bd12",
   "metadata": {},
   "outputs": [
    {
     "data": {
      "text/plain": [
       "[<common.models.llm_query.QueryDocument at 0x10b68c8e0>]"
      ]
     },
     "execution_count": 10,
     "metadata": {},
     "output_type": "execute_result"
    }
   ],
   "source": [
    "docs_processed"
   ]
  },
  {
   "cell_type": "code",
   "execution_count": 11,
   "id": "39886494",
   "metadata": {},
   "outputs": [
    {
     "data": {
      "text/plain": [
       "[]"
      ]
     },
     "execution_count": 11,
     "metadata": {},
     "output_type": "execute_result"
    }
   ],
   "source": [
    "docs_not_processed"
   ]
  },
  {
   "cell_type": "code",
   "execution_count": null,
   "id": "b57a0a07",
   "metadata": {},
   "outputs": [],
   "source": []
  }
 ],
 "metadata": {
  "kernelspec": {
   "display_name": "Python 3 (ipykernel)",
   "language": "python",
   "name": "python3"
  },
  "language_info": {
   "codemirror_mode": {
    "name": "ipython",
    "version": 3
   },
   "file_extension": ".py",
   "mimetype": "text/x-python",
   "name": "python",
   "nbconvert_exporter": "python",
   "pygments_lexer": "ipython3",
   "version": "3.9.13"
  }
 },
 "nbformat": 4,
 "nbformat_minor": 5
}
