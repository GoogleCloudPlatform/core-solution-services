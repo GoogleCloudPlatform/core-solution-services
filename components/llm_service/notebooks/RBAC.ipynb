{
 "cells": [
  {
   "cell_type": "markdown",
   "metadata": {},
   "source": [
    "## Install Firebase Admin SDK"
   ]
  },
  {
   "cell_type": "code",
   "execution_count": 1,
   "metadata": {},
   "outputs": [],
   "source": [
    "# !pip install firebase-admin\n",
    "\n",
    "import firebase_admin.auth as auth\n",
    "# only need to do this once\n",
    "import firebase_admin\n",
    "default_app = firebase_admin.initialize_app()"
   ]
  },
  {
   "cell_type": "code",
   "execution_count": 66,
   "metadata": {},
   "outputs": [],
   "source": [
    "# Valid Firebase ID token received after sign in\n",
    "TOKEN = \\\n",
    "\"eyJhbGciOiJSUzI1NiIsImtpZCI6ImRmOGIxNTFiY2Q5MGQ1YjMwMjBlNTNhMzYyZTRiMzA3NTYzMzdhNjEiLCJ0eXAiOiJKV1QifQ.eyJuYW1lIjoiVGVzdDEgTmFzYVVzZXIiLCJsZXZlbCI6MTIsImFjY2VzcyI6InJlYWQtb25seSIsImlzcyI6Imh0dHBzOi8vc2VjdXJldG9rZW4uZ29vZ2xlLmNvbS9uYXNhLWdlbmllLWRldiIsImF1ZCI6Im5hc2EtZ2VuaWUtZGV2IiwiYXV0aF90aW1lIjoxNzE4NDY1MjkyLCJ1c2VyX2lkIjoiY3pseDlydk14RFVmVVpQVWxQSFU5NWY0Y3N3MiIsInN1YiI6ImN6bHg5cnZNeERVZlVaUFVsUEhVOTVmNGNzdzIiLCJpYXQiOjE3MTg0NjUyOTIsImV4cCI6MTcxODQ2ODg5MiwiZW1haWwiOiJ0ZXN0MW5hc2F1c2VyQGdvb2dsZXB1YmxpY3NlY3Rvci5vbm1pY3Jvc29mdC5jb20iLCJlbWFpbF92ZXJpZmllZCI6ZmFsc2UsImZpcmViYXNlIjp7ImlkZW50aXRpZXMiOnsibWljcm9zb2Z0LmNvbSI6WyJjYTdjMGMxZC03ZTY1LTQzMTEtYjk2Yi1kN2U4YWUwMTcwOTkiXSwiZW1haWwiOlsidGVzdDFuYXNhdXNlckBnb29nbGVwdWJsaWNzZWN0b3Iub25taWNyb3NvZnQuY29tIl19LCJzaWduX2luX3Byb3ZpZGVyIjoibWljcm9zb2Z0LmNvbSJ9fQ.Tm-XQa_W1eAd0p7tVE02Y_FLAh2LxWER4rPo2Sxl2Nadu5AHG1HZNISE8iwOfhkjFUaWGJaQ2-c8VH18cSSqSuqVAr9VMHYUugHXnmC9GlzffeP-Fg52LGPSUB6V8c4c4Xva2uP4hVHoMLyjaFUTt-WNVqIu98ApwV0cg1uyuN5f-_9xaTW83GRzPNq-mZZIjoWV5ENn4Evp13oR-pYjuOvxxccFzaGb0dhfvPfxEBGbuSMPIwoPg43UNlDmHjeUJocscCQu7lyuDLRr_ZJOw0iKYp9SGMDPm9PIoor4x4iUFMTL2LHKAqk8VlRD_s5Z7rMUHy_CUfHX25gQ9qic2Q\""
   ]
  },
  {
   "cell_type": "code",
   "execution_count": 23,
   "metadata": {},
   "outputs": [],
   "source": [
    "# valid MS ID token after logging in\n",
    "MS_TOKEN = \\\n",
    "   \"eyJ0eXAiOiJKV1QiLCJhbGciOiJSUzI1NiIsImtpZCI6IkwxS2ZLRklfam5YYndXYzIyeFp4dzFzVUhIMCJ9.eyJhdWQiOiJiNzUzYmIzOS0wN2FlLTQ4MzgtOGQ4NC1mMTYzMDEyODAyOTciLCJpc3MiOiJodHRwczovL2xvZ2luLm1pY3Jvc29mdG9ubGluZS5jb20vZTJjY2NlYWUtMDZkOC00ZjZjLTg2MWEtZDAyOTJhNWZlMzJhL3YyLjAiLCJpYXQiOjE3MTg0NjQ5OTIsIm5iZiI6MTcxODQ2NDk5MiwiZXhwIjoxNzE4NDY4ODkyLCJhaW8iOiJBV1FBbS84WEFBQUFPWjMwRTRaSndZcHpjR21rcCtLNHVNQk53NTUvZ3hnckwzMXNuUFVmcHRkUEZJMU1jY08wMFE3WnRzSGZGWVFHWUZaU3MxSEM1Tkx0dVp2N20rUCtTVTZJMlAwS2VkeHBhc3Z6djZiS1VrLzF0OEsrOWpieG1aUUdBOWE0VG1PUyIsIm5hbWUiOiJUZXN0MSBOYXNhVXNlciIsIm9pZCI6ImNhN2MwYzFkLTdlNjUtNDMxMS1iOTZiLWQ3ZThhZTAxNzA5OSIsInByZWZlcnJlZF91c2VybmFtZSI6InRlc3QxbmFzYXVzZXJAZ29vZ2xlcHVibGljc2VjdG9yLm9ubWljcm9zb2Z0LmNvbSIsInJoIjoiMC5BY29BcnM3TTR0Z0diRS1HR3RBcEtsX2pLam03VTdldUJ6aElqWVR4WXdFb0FwZjZBQTguIiwicm9sZXMiOlsiMSJdLCJzdWIiOiJHOE9CV19GNFlqaDNOa0h4ZzdKTjA4NVMzMEE3eHRIVXBERDZ3VU5peC1VIiwidGlkIjoiZTJjY2NlYWUtMDZkOC00ZjZjLTg2MWEtZDAyOTJhNWZlMzJhIiwidXRpIjoiaUkzM3dsN0xaVXl4b1hfS1VKanNBQSIsInZlciI6IjIuMCIsIndpZHMiOlsiYjc5ZmJmNGQtM2VmOS00Njg5LTgxNDMtNzZiMTk0ZTg1NTA5Il19.emY601dUuBkP_Y_3cVyE5zUmMPJIi2jDa_FodonafeCpThug8XB9YZrfZkTmkWI4rkzw3Q5_ZSLskzu8Y9m8ZZa0jcfSTJuB0zZD_2KIW_8EkT46xXoZvTALQvoMJi8XpzxoJcnyijy0qeXeHoSko5WR1YBQAYUzilAijhzrfkkxbkkCKWOsER662u6wjUjfA3TCti8HEaFNrp7-rvMLkbWvHExGYcbvdqNWGJaqqvkJJuSM8MgvZdtl-RUI-dyypzdAZoDelDmAe4RtmeEODk7UH11jVRphOY_IyP0WTNOQqvGCV8thByx8uUkL54xa3OoMm-HWE8I4fhbkOtkq3g\""
   ]
  },
  {
   "cell_type": "code",
   "execution_count": 56,
   "metadata": {},
   "outputs": [
    {
     "name": "stdout",
     "output_type": "stream",
     "text": [
      "{'name': 'Test1 NasaUser', 'level': 12, 'access': 'read-only', 'iss': 'https://securetoken.google.com/nasa-genie-dev', 'aud': 'nasa-genie-dev', 'auth_time': 1718465292, 'user_id': 'czlx9rvMxDUfUZPUlPHU95f4csw2', 'sub': 'czlx9rvMxDUfUZPUlPHU95f4csw2', 'iat': 1718465292, 'exp': 1718468892, 'email': 'test1nasauser@googlepublicsector.onmicrosoft.com', 'email_verified': False, 'firebase': {'identities': {'microsoft.com': ['ca7c0c1d-7e65-4311-b96b-d7e8ae017099'], 'email': ['test1nasauser@googlepublicsector.onmicrosoft.com']}, 'sign_in_provider': 'microsoft.com'}, 'uid': 'czlx9rvMxDUfUZPUlPHU95f4csw2'}\n",
      "user_id  is czlx9rvMxDUfUZPUlPHU95f4csw2\n",
      "user email is test1nasauser@googlepublicsector.onmicrosoft.com\n"
     ]
    }
   ],
   "source": [
    "result = auth.verify_id_token(TOKEN)\n",
    "print(result)\n",
    "user_id = result['user_id']\n",
    "print(f\"user_id  is {user_id}\")\n",
    "user = auth.get_user(user_id)\n",
    "print(f\"user email is {user.email}\")"
   ]
  },
  {
   "cell_type": "code",
   "execution_count": 57,
   "metadata": {},
   "outputs": [],
   "source": [
    "def get_claims(user_id):\n",
    "    user = auth.get_user(user_id)\n",
    "    # The claims can be accessed on the user record.\n",
    "    if user.custom_claims:\n",
    "        print(user.custom_claims)\n",
    "        # print(user.custom_claims.get('level'))\n",
    "\n",
    "def set_claims(user_id, claims_obj):\n",
    "    auth.set_custom_user_claims(user_id, claims_obj)\n"
   ]
  },
  {
   "cell_type": "code",
   "execution_count": 58,
   "metadata": {},
   "outputs": [
    {
     "name": "stdout",
     "output_type": "stream",
     "text": [
      "{'level': 12, 'access': 'read-only'}\n",
      "{'level': 12}\n",
      "{'level': 12, 'access': 'read-only'}\n"
     ]
    }
   ],
   "source": [
    "get_claims(user_id)\n",
    "set_claims(user_id, {\"level\": 12})\n",
    "get_claims(user_id)\n",
    "set_claims(user_id, {\"level\": 12, \"access\": \"read-only\"})\n",
    "get_claims(user_id)\n"
   ]
  },
  {
   "cell_type": "code",
   "execution_count": 18,
   "metadata": {},
   "outputs": [
    {
     "name": "stdout",
     "output_type": "stream",
     "text": [
      "{'name': 'Test1 NasaUser', 'level': 12, 'access': 'read-only', 'iss': 'https://securetoken.google.com/nasa-genie-dev', 'aud': 'nasa-genie-dev', 'auth_time': 1718420409, 'user_id': 'czlx9rvMxDUfUZPUlPHU95f4csw2', 'sub': 'czlx9rvMxDUfUZPUlPHU95f4csw2', 'iat': 1718420409, 'exp': 1718424009, 'email': 'test1nasauser@googlepublicsector.onmicrosoft.com', 'email_verified': False, 'firebase': {'identities': {'microsoft.com': ['ca7c0c1d-7e65-4311-b96b-d7e8ae017099'], 'email': ['test1nasauser@googlepublicsector.onmicrosoft.com']}, 'sign_in_provider': 'microsoft.com'}, 'uid': 'czlx9rvMxDUfUZPUlPHU95f4csw2'}\n",
      "{'level': 12, 'access': 'read-only'}\n"
     ]
    }
   ],
   "source": [
    "result = auth.verify_id_token(TOKEN)\n",
    "print(dict(result))\n",
    "get_claims(user_id)\n"
   ]
  },
  {
   "cell_type": "code",
   "execution_count": 40,
   "metadata": {},
   "outputs": [],
   "source": [
    "set_claims(user_id, {})\n",
    "get_claims(user_id)"
   ]
  },
  {
   "cell_type": "code",
   "execution_count": 59,
   "metadata": {},
   "outputs": [],
   "source": [
    "import base64\n",
    "import json\n",
    "\n",
    "def decode_credential(cred_str):\n",
    "    payload = cred_str.split('.')[1]\n",
    "    # do not know why I need this for front end token, but only sometimes\n",
    "    # https://stackoverflow.com/questions/2941995/python-ignore-incorrect-padding-error-when-base64-decoding\n",
    "    decoded_payload = base64.b64decode(payload + '==')\n",
    "    token = json.loads(decoded_payload.decode())\n",
    "    return token\n"
   ]
  },
  {
   "cell_type": "markdown",
   "metadata": {},
   "source": [
    "## Microsoft token"
   ]
  },
  {
   "cell_type": "code",
   "execution_count": 60,
   "metadata": {},
   "outputs": [
    {
     "data": {
      "text/plain": [
       "{'name': 'Test1 NasaUser',\n",
       " 'level': 12,\n",
       " 'access': 'read-only',\n",
       " 'iss': 'https://securetoken.google.com/nasa-genie-dev',\n",
       " 'aud': 'nasa-genie-dev',\n",
       " 'auth_time': 1718465292,\n",
       " 'user_id': 'czlx9rvMxDUfUZPUlPHU95f4csw2',\n",
       " 'sub': 'czlx9rvMxDUfUZPUlPHU95f4csw2',\n",
       " 'iat': 1718465292,\n",
       " 'exp': 1718468892,\n",
       " 'email': 'test1nasauser@googlepublicsector.onmicrosoft.com',\n",
       " 'email_verified': False,\n",
       " 'firebase': {'identities': {'microsoft.com': ['ca7c0c1d-7e65-4311-b96b-d7e8ae017099'],\n",
       "   'email': ['test1nasauser@googlepublicsector.onmicrosoft.com']},\n",
       "  'sign_in_provider': 'microsoft.com'}}"
      ]
     },
     "execution_count": 60,
     "metadata": {},
     "output_type": "execute_result"
    }
   ],
   "source": [
    "decode_credential(TOKEN)\n",
    "\n",
    "# payload = TOKEN.split('.')[1]\n",
    "# print(payload)\n",
    "# decoded_payload = base64.b64decode(payload + '==')\n",
    "# token = json.loads(decoded_payload.decode())\n",
    "\n"
   ]
  },
  {
   "cell_type": "code",
   "execution_count": 61,
   "metadata": {},
   "outputs": [
    {
     "data": {
      "text/plain": [
       "{'aud': 'b753bb39-07ae-4838-8d84-f16301280297',\n",
       " 'iss': 'https://login.microsoftonline.com/e2ccceae-06d8-4f6c-861a-d0292a5fe32a/v2.0',\n",
       " 'iat': 1718422264,\n",
       " 'nbf': 1718422264,\n",
       " 'exp': 1718426164,\n",
       " 'aio': 'AWQAm/8XAAAAZSKbbWT+5+QQkg0nB22tM+InJkJmSeVpSJDBpxXE/e7yCMymEJ3Xvb8sCxF++U+9tS7PGoTOEpycVHOkb8oR8Svn8X44E/ytf/tan88RafgqYZ28zV5OH2gBjiiiHr5z',\n",
       " 'name': 'Test1 NasaUser',\n",
       " 'oid': 'ca7c0c1d-7e65-4311-b96b-d7e8ae017099',\n",
       " 'preferred_username': 'test1nasauser@googlepublicsector.onmicrosoft.com',\n",
       " 'rh': '0.AcoArs7M4tgGbE-GGtApKl_jKjm7U7euBzhIjYTxYwEoApf6AA8.',\n",
       " 'roles': ['1'],\n",
       " 'sub': 'G8OBW_F4Yjh3NkHxg7JN085S30A7xtHUpDD6wUNix-U',\n",
       " 'tid': 'e2ccceae-06d8-4f6c-861a-d0292a5fe32a',\n",
       " 'uti': 'JmdOvjb6yU-1STK-6fuzAA',\n",
       " 'ver': '2.0',\n",
       " 'wids': ['b79fbf4d-3ef9-4689-8143-76b194e85509']}"
      ]
     },
     "execution_count": 61,
     "metadata": {},
     "output_type": "execute_result"
    }
   ],
   "source": [
    "decode_credential(MS_TOKEN)"
   ]
  },
  {
   "cell_type": "markdown",
   "metadata": {},
   "source": [
    "## Call authorize endpoint"
   ]
  },
  {
   "cell_type": "code",
   "execution_count": 67,
   "metadata": {},
   "outputs": [],
   "source": [
    "\n",
    "import requests\n",
    "\n",
    "api_endpoint = f\"https://nasa-genie-dev.cloudpssolutions.com/authentication/api/v1/sign-in/authorize?provider_id_token={MS_TOKEN}\"\n",
    "# api_endpoint = f\"https://nasa-genie-dev.cloudpssolutions.com/authentication/api/v1/sign-in/authorize\"\n",
    "headers = {\n",
    "    \"Content-Type\": \"application/json\",\n",
    "    \"Authorization\": f\"Bearer ${TOKEN}\"\n",
    "}\n",
    "res = requests.post(\n",
    "    url=api_endpoint,\n",
    "    headers=headers,\n",
    "    # data=json.dumps({'provider_id_token': MS_TOKEN}),\n",
    "    timeout=60\n",
    ")"
   ]
  },
  {
   "cell_type": "code",
   "execution_count": 68,
   "metadata": {},
   "outputs": [
    {
     "data": {
      "text/plain": [
       "<Response [500]>"
      ]
     },
     "execution_count": 68,
     "metadata": {},
     "output_type": "execute_result"
    }
   ],
   "source": [
    "res"
   ]
  },
  {
   "cell_type": "code",
   "execution_count": 132,
   "metadata": {},
   "outputs": [
    {
     "data": {
      "text/plain": [
       "'{\"provider_id_token\": \"eyJ0eXAiOiJKV1QiLCJhbGciOiJSUzI1NiIsImtpZCI6InE3UDFOdnh1R1F3RE4yVGFpTW92alo4YVp3cyJ9.eyJhdWQiOiJiNzUzYmIzOS0wN2FlLTQ4MzgtOGQ4NC1mMTYzMDEyODAyOTciLCJpc3MiOiJodHRwczovL2xvZ2luLm1pY3Jvc29mdG9ubGluZS5jb20vZTJjY2NlYWUtMDZkOC00ZjZjLTg2MWEtZDAyOTJhNWZlMzJhL3YyLjAiLCJpYXQiOjE3MTg0MTI5NTEsIm5iZiI6MTcxODQxMjk1MSwiZXhwIjoxNzE4NDE2ODUxLCJhaW8iOiJBV1FBbS84WEFBQUFGbWI0NGVQMEs2dE1aY3ljcXdqcERkUUxGSDdsOXhFWGUzaitJTEZzbmxrUmdpWFgwbkVpUVlUMEUvZnJDM1h6T05SSkVOMUpXeS9wWVMwZktOWDZsL3Z1bXQxVXhQcjdZYmkwWVFFNG50ZTROajdLblFlZmh5WkpJMG5pOXAyVyIsImdyb3VwcyI6WyI0ZmMzZWQ5MC1kZmQ4LTQ4ZWEtYjEwOC1lN2U1ZDRlNGQyMzkiLCJlZTE2OGRkNC1lNTdjLTRlYTctYWFkNi0yZGU1ODAxZmZiNjUiXSwibmFtZSI6IlRyaWNpYSBKYW1pc29uIiwib2lkIjoiZjkyZWNjNDktODExMi00ZjE0LTgxNWEtMjk3ODEwOTY4ODYwIiwicHJlZmVycmVkX3VzZXJuYW1lIjoidHJpc2hqYW1AZ29vZ2xlcHVibGljc2VjdG9yLm9ubWljcm9zb2Z0LmNvbSIsInJoIjoiMC5BY29BcnM3TTR0Z0diRS1HR3RBcEtsX2pLam03VTdldUJ6aElqWVR4WXdFb0FwZjZBRTguIiwicm9sZXMiOlsiMyJdLCJzdWIiOiJjUnd2QnlHNUxyNzJOWU83WW9Cc3pmZHFkSXNxWWtEUnp2VVYyMDlQdmI4IiwidGlkIjoiZTJjY2NlYWUtMDZkOC00ZjZjLTg2MWEtZDAyOTJhNWZlMzJhIiwidXRpIjoiMk1DYkpkSFN2VS01NnY5VFZIZ1BBQSIsInZlciI6IjIuMCIsIndpZHMiOlsiMjkyMzJjZGYtOTMyMy00MmZkLWFkZTItMWQwOTdhZjNlNGRlIiwiNjJlOTAzOTQtNjlmNS00MjM3LTkxOTAtMDEyMTc3MTQ1ZTEwIiwiYjc5ZmJmNGQtM2VmOS00Njg5LTgxNDMtNzZiMTk0ZTg1NTA5Il19.MMcR5PLOspACmjhVVBjyyc2_BWqPMRx1eCEK4Sk9Tqxcpgt6GLqXjr26nFnpBofHnCfnzgsRjXpeLnsNpaKooLSEL_sundmAjt2L9iAIGeXEic-MHwbeD_QXIOkwfRSpD1yDonYDNdApeoNS0_5qOlB8HT3hxoSfzOkahObXp_Ws1J4LY1vH7qmgoACi4bWTNzjhdmSCg9RV2S2fbJim4zyUd-m7xaRkFmCkvoicFt2HXZn5d857uEcNMupN2Is3bKfsguKzM0bpaABpvrCyJza_t8SvQ5UJX74t1ZWkZd2SToVyvmW2CV-qD0IeEOIfEKDFvv37jNjB5fVayaFZWA\"}'"
      ]
     },
     "execution_count": 132,
     "metadata": {},
     "output_type": "execute_result"
    }
   ],
   "source": [
    "json.dumps({'provider_id_token': MS_TOKEN})"
   ]
  },
  {
   "cell_type": "code",
   "execution_count": null,
   "metadata": {},
   "outputs": [],
   "source": []
  }
 ],
 "metadata": {
  "kernelspec": {
   "display_name": ".v1",
   "language": "python",
   "name": "python3"
  },
  "language_info": {
   "codemirror_mode": {
    "name": "ipython",
    "version": 3
   },
   "file_extension": ".py",
   "mimetype": "text/x-python",
   "name": "python",
   "nbconvert_exporter": "python",
   "pygments_lexer": "ipython3",
   "version": "3.11.7"
  }
 },
 "nbformat": 4,
 "nbformat_minor": 2
}
