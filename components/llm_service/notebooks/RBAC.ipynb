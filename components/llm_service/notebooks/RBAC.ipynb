{
 "cells": [
  {
   "cell_type": "code",
   "execution_count": 1,
   "metadata": {},
   "outputs": [],
   "source": [
    "PROJECT_ID = \"nasa-genie-dev\"\n",
    "REGION = \"us-central1\"\n",
    "import os\n",
    "os.environ[\"PROJECT_ID\"] = PROJECT_ID"
   ]
  },
  {
   "cell_type": "code",
   "execution_count": 2,
   "metadata": {},
   "outputs": [],
   "source": [
    "import sys\n",
    "sys.path.append(\"../../common/src\")\n",
    "sys.path.append(\"../src\")"
   ]
  },
  {
   "cell_type": "code",
   "execution_count": 3,
   "metadata": {},
   "outputs": [
    {
     "name": "stdout",
     "output_type": "stream",
     "text": [
      "INFO: [config/config.py:63 - <module>()] Namespace File not found, setting job namespace as default\n",
      "INFO: [config/model_config.py:341 - set_model_config()] Provider [Vertex] enablement status [True]\n",
      "INFO: [config/model_config.py:361 - set_model_config()] Model [VertexAI-Text] enablement status [False]\n",
      "INFO: [config/model_config.py:341 - set_model_config()] Provider [Vertex] enablement status [True]\n",
      "INFO: [config/model_config.py:361 - set_model_config()] Model [VertexAI-Chat] enablement status [True]\n",
      "INFO: [config/model_config.py:341 - set_model_config()] Provider [Vertex] enablement status [True]\n",
      "INFO: [config/model_config.py:361 - set_model_config()] Model [VertexAI-Chat-Palm2] enablement status [True]\n",
      "INFO: [config/model_config.py:341 - set_model_config()] Provider [Vertex] enablement status [True]\n",
      "INFO: [config/model_config.py:361 - set_model_config()] Model [VertexAI-Chat-Palm2-V2] enablement status [False]\n",
      "INFO: [config/model_config.py:341 - set_model_config()] Provider [Vertex] enablement status [True]\n",
      "INFO: [config/model_config.py:361 - set_model_config()] Model [VertexAI-Gemini-Pro] enablement status [False]\n",
      "INFO: [config/model_config.py:341 - set_model_config()] Provider [Vertex] enablement status [True]\n",
      "INFO: [config/model_config.py:361 - set_model_config()] Model [VertexAI-Gemini-Pro-Vision] enablement status [True]\n",
      "INFO: [config/model_config.py:341 - set_model_config()] Provider [Langchain] enablement status [True]\n",
      "INFO: [config/model_config.py:361 - set_model_config()] Model [VertexAI-Chat-Palm2V2-Langchain] enablement status [False]\n",
      "INFO: [config/model_config.py:341 - set_model_config()] Provider [Vertex] enablement status [True]\n",
      "INFO: [config/model_config.py:361 - set_model_config()] Model [VertexAI-Chat-Palm2-32k] enablement status [False]\n",
      "INFO: [config/model_config.py:341 - set_model_config()] Provider [Langchain] enablement status [True]\n",
      "INFO: [config/model_config.py:361 - set_model_config()] Model [VertexAI-Chat-Palm2-32k-Langchain] enablement status [False]\n",
      "INFO: [config/model_config.py:341 - set_model_config()] Provider [Langchain] enablement status [True]\n",
      "INFO: [config/model_config.py:361 - set_model_config()] Model [VertexAI-Chat-Gemini-Pro-Langchain] enablement status [False]\n",
      "INFO: [config/model_config.py:341 - set_model_config()] Provider [Truss] enablement status [False]\n",
      "INFO: [config/model_config.py:361 - set_model_config()] Model [Truss-Llama2-Chat] enablement status [False]\n",
      "INFO: [config/model_config.py:341 - set_model_config()] Provider [vLLM] enablement status [True]\n",
      "INFO: [config/model_config.py:361 - set_model_config()] Model [vLLM-Gemma-Chat] enablement status [False]\n",
      "INFO: [config/model_config.py:341 - set_model_config()] Provider [ModelGarden] enablement status [True]\n",
      "INFO: [config/model_config.py:361 - set_model_config()] Model [VertexAI-ModelGarden-LLAMA2-Chat] enablement status [False]\n",
      "INFO: [config/model_config.py:341 - set_model_config()] Provider [Langchain] enablement status [True]\n",
      "INFO: [config/model_config.py:361 - set_model_config()] Model [OpenAI-GPT4] enablement status [False]\n",
      "INFO: [config/model_config.py:341 - set_model_config()] Provider [Langchain] enablement status [True]\n",
      "INFO: [config/model_config.py:361 - set_model_config()] Model [OpenAI-GPT4-latest] enablement status [False]\n",
      "INFO: [config/model_config.py:341 - set_model_config()] Provider [Langchain] enablement status [True]\n",
      "INFO: [config/model_config.py:361 - set_model_config()] Model [OpenAI-GPT3.5] enablement status [False]\n",
      "INFO: [config/model_config.py:341 - set_model_config()] Provider [Langchain] enablement status [True]\n",
      "INFO: [config/model_config.py:361 - set_model_config()] Model [Cohere] enablement status [False]\n",
      "INFO: [config/model_config.py:341 - set_model_config()] Provider [LLMService] enablement status [False]\n",
      "INFO: [config/model_config.py:361 - set_model_config()] Model [Llama2cpp] enablement status [False]\n",
      "INFO: [config/model_config.py:341 - set_model_config()] Provider [Vertex] enablement status [True]\n",
      "INFO: [config/model_config.py:361 - set_model_config()] Model [VertexAI-Embedding] enablement status [True]\n",
      "INFO: [config/model_config.py:341 - set_model_config()] Provider [Vertex] enablement status [True]\n",
      "INFO: [config/model_config.py:361 - set_model_config()] Model [VertexAI-Embedding-Vision] enablement status [True]\n",
      "INFO: [config/model_config.py:341 - set_model_config()] Provider [Langchain] enablement status [True]\n",
      "INFO: [config/model_config.py:361 - set_model_config()] Model [OpenAI-Embedding] enablement status [True]\n",
      "INFO: [config/model_config.py:341 - set_model_config()] Provider [Langchain] enablement status [True]\n",
      "INFO: [config/model_config.py:361 - set_model_config()] Model [HuggingFaceEmbeddings] enablement status [True]\n"
     ]
    },
    {
     "name": "stderr",
     "output_type": "stream",
     "text": [
      "c:\\Users\\trishjam\\Documents\\trishjam\\projects\\05-nasa\\code\\nasa-core-solution-services\\components\\llm_service\\.v1\\Lib\\site-packages\\langchain_community\\llms\\__init__.py:173: LangChainDeprecationWarning: `` was deprecated in LangChain 0.0.22 and will be removed in 0.3. An updated version of the  exists in the langchain-community package and should be used instead. To use it run `pip install -U langchain-community` and import as `from langchain_community.chat_models import ChatDatabricks`.\n",
      "  warn_deprecated(\n",
      "c:\\Users\\trishjam\\Documents\\trishjam\\projects\\05-nasa\\code\\nasa-core-solution-services\\components\\llm_service\\.v1\\Lib\\site-packages\\langchain_community\\llms\\__init__.py:343: LangChainDeprecationWarning: `` was deprecated in LangChain 0.0.22 and will be removed in 0.3. An updated version of the  exists in the langchain-community package and should be used instead. To use it run `pip install -U langchain-community` and import as `from langchain_community.chat_models import ChatMlflow`.\n",
      "  warn_deprecated(\n",
      "c:\\Users\\trishjam\\Documents\\trishjam\\projects\\05-nasa\\code\\nasa-core-solution-services\\components\\llm_service\\.v1\\Lib\\site-packages\\huggingface_hub\\file_download.py:1132: FutureWarning: `resume_download` is deprecated and will be removed in version 1.0.0. Downloads always resume when possible. If you want to force a new download, use `force_download=True`.\n",
      "  warnings.warn(\n"
     ]
    },
    {
     "name": "stdout",
     "output_type": "stream",
     "text": [
      "INFO: [config/config.py:114 - <module>()] ENABLE_GOOGLE_LLM = True\n",
      "INFO: [config/config.py:115 - <module>()] ENABLE_OPENAI_LLM = False\n",
      "INFO: [config/config.py:116 - <module>()] ENABLE_COHERE_LLM = False\n",
      "INFO: [config/config.py:117 - <module>()] ENABLE_GOOGLE_MODEL_GARDEN = True\n",
      "INFO: [config/config.py:118 - <module>()] ENABLE_TRUSS_LLAMA2 = False\n",
      "INFO: [config/config.py:119 - <module>()] ENABLE_VLLM_GEMMA = True\n"
     ]
    },
    {
     "name": "stderr",
     "output_type": "stream",
     "text": [
      "c:\\Users\\trishjam\\Documents\\trishjam\\projects\\05-nasa\\code\\nasa-core-solution-services\\components\\llm_service\\.v1\\Lib\\site-packages\\huggingface_hub\\file_download.py:1132: FutureWarning: `resume_download` is deprecated and will be removed in version 1.0.0. Downloads always resume when possible. If you want to force a new download, use `force_download=True`.\n",
      "  warnings.warn(\n"
     ]
    },
    {
     "name": "stdout",
     "output_type": "stream",
     "text": [
      "INFO: [config/vector_store_config.py:44 - <module>()] PG_HOST = [None]\n",
      "INFO: [config/vector_store_config.py:45 - <module>()] PG_DBNAME = [pgvector]\n",
      "INFO: [config/vector_store_config.py:74 - <module>()] PG_HOST is set to [None], not connecting to pgvector\n",
      "INFO: [config/vector_store_config.py:81 - <module>()] Default vector store = [matching_engine]\n",
      "INFO: [config/onedrive_config.py:30 - <module>()] ONEDRIVE_CLIENT_ID = [None]\n",
      "INFO: [config/onedrive_config.py:31 - <module>()] ONEDRIVE_TENANT_ID = [None]\n",
      "INFO: [utils/text_helper.py:43 - <module>()] using default spacy model\n",
      "Loading default colbert model for language en\n",
      "Loading ColBERTRanker model colbert-ir/colbertv2.0\n"
     ]
    },
    {
     "name": "stderr",
     "output_type": "stream",
     "text": [
      "c:\\Users\\trishjam\\Documents\\trishjam\\projects\\05-nasa\\code\\nasa-core-solution-services\\components\\llm_service\\.v1\\Lib\\site-packages\\huggingface_hub\\file_download.py:1132: FutureWarning: `resume_download` is deprecated and will be removed in version 1.0.0. Downloads always resume when possible. If you want to force a new download, use `force_download=True`.\n",
      "  warnings.warn(\n"
     ]
    }
   ],
   "source": [
    "\n",
    "from services.query import query_service\n",
    "from routes import query\n",
    "from common.models import (QueryEngine)\n"
   ]
  },
  {
   "cell_type": "markdown",
   "metadata": {},
   "source": [
    "## Install Firebase Admin SDK"
   ]
  },
  {
   "cell_type": "code",
   "execution_count": 4,
   "metadata": {},
   "outputs": [],
   "source": [
    "# !pip install firebase-admin\n",
    "\n",
    "import firebase_admin.auth as auth\n",
    "# only need to do this once\n",
    "# import firebase_admin\n",
    "# default_app = firebase_admin.initialize_app()"
   ]
  },
  {
   "cell_type": "markdown",
   "metadata": {},
   "source": [
    "## Token inputs "
   ]
  },
  {
   "cell_type": "code",
   "execution_count": 25,
   "metadata": {},
   "outputs": [],
   "source": [
    "# Valid Firebase ID token received after sign in\n",
    "TOKEN = \\\n",
    "\"eyJhbGciOiJSUzI1NiIsImtpZCI6ImYwOGU2ZTNmNzg4ZDYwMTk0MDA1ZGJiYzE5NDc0YmY5Mjg5ZDM5ZWEiLCJ0eXAiOiJKV1QifQ.eyJuYW1lIjoiVHJpY2lhIEphbWlzb24iLCJyb2xlcyI6WyIzIl0sImlzcyI6Imh0dHBzOi8vc2VjdXJldG9rZW4uZ29vZ2xlLmNvbS9uYXNhLWdlbmllLWRldiIsImF1ZCI6Im5hc2EtZ2VuaWUtZGV2IiwiYXV0aF90aW1lIjoxNzE5MjgxOTc5LCJ1c2VyX2lkIjoiQUVQTjNZem0yMFM0Z1N4ZEN3U0JIQ2VmZmJ2MSIsInN1YiI6IkFFUE4zWXptMjBTNGdTeGRDd1NCSENlZmZidjEiLCJpYXQiOjE3MTkyODE5NzksImV4cCI6MTcxOTI4NTU3OSwiZW1haWwiOiJ0cmlzaGphbUBnb29nbGVwdWJsaWNzZWN0b3Iub25taWNyb3NvZnQuY29tIiwiZW1haWxfdmVyaWZpZWQiOmZhbHNlLCJmaXJlYmFzZSI6eyJpZGVudGl0aWVzIjp7Im1pY3Jvc29mdC5jb20iOlsiZjkyZWNjNDktODExMi00ZjE0LTgxNWEtMjk3ODEwOTY4ODYwIl0sImVtYWlsIjpbInRyaXNoamFtQGdvb2dsZXB1YmxpY3NlY3Rvci5vbm1pY3Jvc29mdC5jb20iXX0sInNpZ25faW5fcHJvdmlkZXIiOiJtaWNyb3NvZnQuY29tIn19.hF9o-_mIpvc1jBlUXEGDqxnqLW2Gea6IoH4bG3S_2zq0y-QNNDbzI-50UZJDA1C-8ywqXyVmIRodhKM1pbXQUS95gARfQAvLjbvjMSwjZtkYP2-F726-aOvIzch-LlTfpDW1EZtNLUUQsrc7zUgr_ScDSyzYAtrqBW8H_whXAWQvZBkdOgfLbntDSobiQ44ji5uNAtSfExf0lIIKLAgTWniXAVIhL954MZhzu5FeARJPHzY5dTy_3PVPUKKdKdqKUTle6pYff5YxPLu-AAovz20gTGWrbWM4XQvv8K9wyzhJGF1LminYOOKEn0-HIjJgsXaH5iwerCEsNdzkP2cL0g\""
   ]
  },
  {
   "cell_type": "code",
   "execution_count": 26,
   "metadata": {},
   "outputs": [],
   "source": [
    "# valid MS ID token after logging in\n",
    "MS_TOKEN = \\\n",
    "\"eyJ0eXAiOiJKV1QiLCJhbGciOiJSUzI1NiIsImtpZCI6Ik1HTHFqOThWTkxvWGFGZnBKQ0JwZ0I0SmFLcyJ9.eyJhdWQiOiJiNzUzYmIzOS0wN2FlLTQ4MzgtOGQ4NC1mMTYzMDEyODAyOTciLCJpc3MiOiJodHRwczovL2xvZ2luLm1pY3Jvc29mdG9ubGluZS5jb20vZTJjY2NlYWUtMDZkOC00ZjZjLTg2MWEtZDAyOTJhNWZlMzJhL3YyLjAiLCJpYXQiOjE3MTkyODE2NzksIm5iZiI6MTcxOTI4MTY3OSwiZXhwIjoxNzE5Mjg1NTc5LCJhaW8iOiJBV1FBbS84WEFBQUF5cUdNL2tXK2VYMXJXNm4rdEhtUnRENE56elRhVjBuR2tybmE0NlN3NVI2MzZ6eU81RFBoMWpyWGl2Z040V1MrL0E5WC8yVEdyL1dka2JmQXJQSEVTRGE1VTd2VDd4R1hManJOMFZMM2RKaXk5cDZRRmlLTVd6Vjk4S3E5MHpsRSIsImdyb3VwcyI6WyI0ZmMzZWQ5MC1kZmQ4LTQ4ZWEtYjEwOC1lN2U1ZDRlNGQyMzkiLCJlZTE2OGRkNC1lNTdjLTRlYTctYWFkNi0yZGU1ODAxZmZiNjUiXSwibmFtZSI6IlRyaWNpYSBKYW1pc29uIiwib2lkIjoiZjkyZWNjNDktODExMi00ZjE0LTgxNWEtMjk3ODEwOTY4ODYwIiwicHJlZmVycmVkX3VzZXJuYW1lIjoidHJpc2hqYW1AZ29vZ2xlcHVibGljc2VjdG9yLm9ubWljcm9zb2Z0LmNvbSIsInJoIjoiMC5BY29BcnM3TTR0Z0diRS1HR3RBcEtsX2pLam03VTdldUJ6aElqWVR4WXdFb0FwZjZBRTguIiwicm9sZXMiOlsiMyJdLCJzdWIiOiJjUnd2QnlHNUxyNzJOWU83WW9Cc3pmZHFkSXNxWWtEUnp2VVYyMDlQdmI4IiwidGlkIjoiZTJjY2NlYWUtMDZkOC00ZjZjLTg2MWEtZDAyOTJhNWZlMzJhIiwidXRpIjoib1ZKTzdUWUFKMG00MlRjdEJFb0JBUSIsInZlciI6IjIuMCIsIndpZHMiOlsiMjkyMzJjZGYtOTMyMy00MmZkLWFkZTItMWQwOTdhZjNlNGRlIiwiNjJlOTAzOTQtNjlmNS00MjM3LTkxOTAtMDEyMTc3MTQ1ZTEwIiwiYjc5ZmJmNGQtM2VmOS00Njg5LTgxNDMtNzZiMTk0ZTg1NTA5Il19.XeKwnuODlL09NNUOuc4HX74diJOJgxJe9ec_9Jonn0aEzvT5Ky8p4XABDPg3lHc5M5yUxLuWHDkvj1I1FXw9a7DGwGesJpzqNyoM23y92GMLKrkSckuNlrNcQvghH9fWX-qegD3zG_Zgx1aZMpFzP1I3pXWtx66Xrxhbg3eM7vyZhfSFjmSmpdKBeraTeYr52_KYCaICSDyak0vmztoReTuegNlvXEDpnr0qQZ3_54E-wJh0MWYoAk7CqRcbcAjq1kl9uH5dY2b4sZsHYTDqCUN0tbik9s9oMjBpKN_w9yPej7UYfMVbviJrY-uzZyrGqdJ0FSeN6RY1JdhDOtEN4Q\""
   ]
  },
  {
   "cell_type": "markdown",
   "metadata": {},
   "source": [
    "## Custom claims"
   ]
  },
  {
   "cell_type": "code",
   "execution_count": 29,
   "metadata": {},
   "outputs": [
    {
     "name": "stdout",
     "output_type": "stream",
     "text": [
      "{'name': 'Tricia Jamison', 'roles': ['3'], 'iss': 'https://securetoken.google.com/nasa-genie-dev', 'aud': 'nasa-genie-dev', 'auth_time': 1719281979, 'user_id': 'AEPN3Yzm20S4gSxdCwSBHCeffbv1', 'sub': 'AEPN3Yzm20S4gSxdCwSBHCeffbv1', 'iat': 1719281979, 'exp': 1719285579, 'email': 'trishjam@googlepublicsector.onmicrosoft.com', 'email_verified': False, 'firebase': {'identities': {'microsoft.com': ['f92ecc49-8112-4f14-815a-297810968860'], 'email': ['trishjam@googlepublicsector.onmicrosoft.com']}, 'sign_in_provider': 'microsoft.com'}, 'uid': 'AEPN3Yzm20S4gSxdCwSBHCeffbv1'}\n",
      "user roles are ['3']\n",
      "user_id  is AEPN3Yzm20S4gSxdCwSBHCeffbv1\n",
      "user email is trishjam@googlepublicsector.onmicrosoft.com\n"
     ]
    }
   ],
   "source": [
    "result = auth.verify_id_token(TOKEN)\n",
    "print(result)\n",
    "user_id = result['user_id']\n",
    "print(f\"user roles are {result['roles']}\")\n",
    "print(f\"user_id  is {user_id}\")\n",
    "user = auth.get_user(user_id)\n",
    "print(f\"user email is {user.email}\")\n"
   ]
  },
  {
   "cell_type": "code",
   "execution_count": 8,
   "metadata": {},
   "outputs": [],
   "source": [
    "def get_claims(user_id):\n",
    "    user = auth.get_user(user_id)\n",
    "    # The claims can be accessed on the user record.\n",
    "    if user.custom_claims:\n",
    "        print(user.custom_claims)\n",
    "        # print(user.custom_claims.get('level'))\n",
    "\n",
    "def set_claims(user_id, claims_obj):\n",
    "    auth.set_custom_user_claims(user_id, claims_obj)\n"
   ]
  },
  {
   "cell_type": "code",
   "execution_count": 9,
   "metadata": {},
   "outputs": [
    {
     "name": "stdout",
     "output_type": "stream",
     "text": [
      "{'roles': ['3']}\n"
     ]
    }
   ],
   "source": [
    "get_claims(user_id)\n",
    "# set_claims(user_id, {\"level\": 12})\n",
    "# get_claims(user_id)\n",
    "# set_claims(user_id, {\"level\": 12, \"access\": \"read-only\"})\n",
    "# get_claims(user_id)\n"
   ]
  },
  {
   "cell_type": "code",
   "execution_count": 11,
   "metadata": {},
   "outputs": [
    {
     "name": "stdout",
     "output_type": "stream",
     "text": [
      "{'name': 'Tricia Jamison', 'roles': ['3'], 'iss': 'https://securetoken.google.com/nasa-genie-dev', 'aud': 'nasa-genie-dev', 'auth_time': 1719277703, 'user_id': 'AEPN3Yzm20S4gSxdCwSBHCeffbv1', 'sub': 'AEPN3Yzm20S4gSxdCwSBHCeffbv1', 'iat': 1719277703, 'exp': 1719281303, 'email': 'trishjam@googlepublicsector.onmicrosoft.com', 'email_verified': False, 'firebase': {'identities': {'microsoft.com': ['f92ecc49-8112-4f14-815a-297810968860'], 'email': ['trishjam@googlepublicsector.onmicrosoft.com']}, 'sign_in_provider': 'microsoft.com'}, 'uid': 'AEPN3Yzm20S4gSxdCwSBHCeffbv1'}\n",
      "{'roles': ['3']}\n"
     ]
    }
   ],
   "source": [
    "result = auth.verify_id_token(TOKEN)\n",
    "print(dict(result))\n",
    "get_claims(user_id)\n"
   ]
  },
  {
   "cell_type": "code",
   "execution_count": 40,
   "metadata": {},
   "outputs": [],
   "source": [
    "set_claims(user_id, {})\n",
    "get_claims(user_id)"
   ]
  },
  {
   "cell_type": "markdown",
   "metadata": {},
   "source": [
    "## Decode token"
   ]
  },
  {
   "cell_type": "code",
   "execution_count": 14,
   "metadata": {},
   "outputs": [],
   "source": [
    "import base64\n",
    "import json\n",
    "\n",
    "def decode_credential(cred_str):\n",
    "    payload = cred_str.split('.')[1]\n",
    "    # do not know why I need this for front end token, but only sometimes\n",
    "    # https://stackoverflow.com/questions/2941995/python-ignore-incorrect-padding-error-when-base64-decoding\n",
    "    decoded_payload = base64.b64decode(payload + '==')\n",
    "    token = json.loads(decoded_payload.decode())\n",
    "    return token\n"
   ]
  },
  {
   "cell_type": "code",
   "execution_count": 15,
   "metadata": {},
   "outputs": [
    {
     "name": "stdout",
     "output_type": "stream",
     "text": [
      "{'name': 'Tricia Jamison', 'roles': ['3'], 'iss': 'https://securetoken.google.com/nasa-genie-dev', 'aud': 'nasa-genie-dev', 'auth_time': 1719277703, 'user_id': 'AEPN3Yzm20S4gSxdCwSBHCeffbv1', 'sub': 'AEPN3Yzm20S4gSxdCwSBHCeffbv1', 'iat': 1719277703, 'exp': 1719281303, 'email': 'trishjam@googlepublicsector.onmicrosoft.com', 'email_verified': False, 'firebase': {'identities': {'microsoft.com': ['f92ecc49-8112-4f14-815a-297810968860'], 'email': ['trishjam@googlepublicsector.onmicrosoft.com']}, 'sign_in_provider': 'microsoft.com'}}\n",
      "AEPN3Yzm20S4gSxdCwSBHCeffbv1\n"
     ]
    }
   ],
   "source": [
    "decoded_fb_token = decode_credential(TOKEN)\n",
    "print(decoded_fb_token)\n",
    "user_id = decoded_fb_token['user_id']\n",
    "print(user_id)"
   ]
  },
  {
   "cell_type": "code",
   "execution_count": 16,
   "metadata": {},
   "outputs": [
    {
     "data": {
      "text/plain": [
       "{'aud': 'b753bb39-07ae-4838-8d84-f16301280297',\n",
       " 'iss': 'https://login.microsoftonline.com/e2ccceae-06d8-4f6c-861a-d0292a5fe32a/v2.0',\n",
       " 'iat': 1719277141,\n",
       " 'nbf': 1719277141,\n",
       " 'exp': 1719281041,\n",
       " 'aio': 'AWQAm/8XAAAAp8tM9CKJ7OoMQb48j6Jyi8hr2nAU+Eq3uLONF2KcTSbZLeOOes0XHQZHDXKW3BKxTHG86JiZ5mM7eiUpOfrgjwwl3nQrneqlrlYkpnBbjUoLaIozquTv7m8m5mNZktiD',\n",
       " 'groups': ['4fc3ed90-dfd8-48ea-b108-e7e5d4e4d239',\n",
       "  'ee168dd4-e57c-4ea7-aad6-2de5801ffb65'],\n",
       " 'name': 'Tricia Jamison',\n",
       " 'oid': 'f92ecc49-8112-4f14-815a-297810968860',\n",
       " 'preferred_username': 'trishjam@googlepublicsector.onmicrosoft.com',\n",
       " 'rh': '0.AcoArs7M4tgGbE-GGtApKl_jKjm7U7euBzhIjYTxYwEoApf6AE8.',\n",
       " 'roles': ['3'],\n",
       " 'sub': 'cRwvByG5Lr72NYO7YoBszfdqdIsqYkDRzvUV209Pvb8',\n",
       " 'tid': 'e2ccceae-06d8-4f6c-861a-d0292a5fe32a',\n",
       " 'uti': 'EG0flx3BQU23BC46Np0LAQ',\n",
       " 'ver': '2.0',\n",
       " 'wids': ['29232cdf-9323-42fd-ade2-1d097af3e4de',\n",
       "  '62e90394-69f5-4237-9190-012177145e10',\n",
       "  'b79fbf4d-3ef9-4689-8143-76b194e85509']}"
      ]
     },
     "execution_count": 16,
     "metadata": {},
     "output_type": "execute_result"
    }
   ],
   "source": [
    "decode_credential(MS_TOKEN)"
   ]
  },
  {
   "cell_type": "markdown",
   "metadata": {},
   "source": [
    "## Call endpoint to save roles from the provider token"
   ]
  },
  {
   "cell_type": "code",
   "execution_count": 17,
   "metadata": {},
   "outputs": [],
   "source": [
    "\n",
    "import requests\n",
    "\n",
    "api_endpoint = f\"https://nasa-genie-dev.cloudpssolutions.com/authentication/api/v1/sign-in/roles?provider_id_token={MS_TOKEN}\"\n",
    "# api_endpoint = f\"https://nasa-genie-dev.cloudpssolutions.com/authentication/api/v1/sign-in/authorize\"\n",
    "headers = {\n",
    "    \"Content-Type\": \"application/json\",\n",
    "    \"Authorization\": f\"Bearer {TOKEN}\"\n",
    "}\n",
    "res = requests.post(\n",
    "    url=api_endpoint,\n",
    "    headers=headers,\n",
    "    # data=f\"{MS_TOKEN}\",\n",
    "    # data=json.dumps({'provider_id_token': MS_TOKEN}),\n",
    "    timeout=60\n",
    ")"
   ]
  },
  {
   "cell_type": "code",
   "execution_count": 18,
   "metadata": {},
   "outputs": [
    {
     "data": {
      "text/plain": [
       "<Response [200]>"
      ]
     },
     "execution_count": 18,
     "metadata": {},
     "output_type": "execute_result"
    }
   ],
   "source": [
    "res"
   ]
  },
  {
   "cell_type": "code",
   "execution_count": 132,
   "metadata": {},
   "outputs": [
    {
     "data": {
      "text/plain": [
       "'{\"provider_id_token\": \"eyJ0eXAiOiJKV1QiLCJhbGciOiJSUzI1NiIsImtpZCI6InE3UDFOdnh1R1F3RE4yVGFpTW92alo4YVp3cyJ9.eyJhdWQiOiJiNzUzYmIzOS0wN2FlLTQ4MzgtOGQ4NC1mMTYzMDEyODAyOTciLCJpc3MiOiJodHRwczovL2xvZ2luLm1pY3Jvc29mdG9ubGluZS5jb20vZTJjY2NlYWUtMDZkOC00ZjZjLTg2MWEtZDAyOTJhNWZlMzJhL3YyLjAiLCJpYXQiOjE3MTg0MTI5NTEsIm5iZiI6MTcxODQxMjk1MSwiZXhwIjoxNzE4NDE2ODUxLCJhaW8iOiJBV1FBbS84WEFBQUFGbWI0NGVQMEs2dE1aY3ljcXdqcERkUUxGSDdsOXhFWGUzaitJTEZzbmxrUmdpWFgwbkVpUVlUMEUvZnJDM1h6T05SSkVOMUpXeS9wWVMwZktOWDZsL3Z1bXQxVXhQcjdZYmkwWVFFNG50ZTROajdLblFlZmh5WkpJMG5pOXAyVyIsImdyb3VwcyI6WyI0ZmMzZWQ5MC1kZmQ4LTQ4ZWEtYjEwOC1lN2U1ZDRlNGQyMzkiLCJlZTE2OGRkNC1lNTdjLTRlYTctYWFkNi0yZGU1ODAxZmZiNjUiXSwibmFtZSI6IlRyaWNpYSBKYW1pc29uIiwib2lkIjoiZjkyZWNjNDktODExMi00ZjE0LTgxNWEtMjk3ODEwOTY4ODYwIiwicHJlZmVycmVkX3VzZXJuYW1lIjoidHJpc2hqYW1AZ29vZ2xlcHVibGljc2VjdG9yLm9ubWljcm9zb2Z0LmNvbSIsInJoIjoiMC5BY29BcnM3TTR0Z0diRS1HR3RBcEtsX2pLam03VTdldUJ6aElqWVR4WXdFb0FwZjZBRTguIiwicm9sZXMiOlsiMyJdLCJzdWIiOiJjUnd2QnlHNUxyNzJOWU83WW9Cc3pmZHFkSXNxWWtEUnp2VVYyMDlQdmI4IiwidGlkIjoiZTJjY2NlYWUtMDZkOC00ZjZjLTg2MWEtZDAyOTJhNWZlMzJhIiwidXRpIjoiMk1DYkpkSFN2VS01NnY5VFZIZ1BBQSIsInZlciI6IjIuMCIsIndpZHMiOlsiMjkyMzJjZGYtOTMyMy00MmZkLWFkZTItMWQwOTdhZjNlNGRlIiwiNjJlOTAzOTQtNjlmNS00MjM3LTkxOTAtMDEyMTc3MTQ1ZTEwIiwiYjc5ZmJmNGQtM2VmOS00Njg5LTgxNDMtNzZiMTk0ZTg1NTA5Il19.MMcR5PLOspACmjhVVBjyyc2_BWqPMRx1eCEK4Sk9Tqxcpgt6GLqXjr26nFnpBofHnCfnzgsRjXpeLnsNpaKooLSEL_sundmAjt2L9iAIGeXEic-MHwbeD_QXIOkwfRSpD1yDonYDNdApeoNS0_5qOlB8HT3hxoSfzOkahObXp_Ws1J4LY1vH7qmgoACi4bWTNzjhdmSCg9RV2S2fbJim4zyUd-m7xaRkFmCkvoicFt2HXZn5d857uEcNMupN2Is3bKfsguKzM0bpaABpvrCyJza_t8SvQ5UJX74t1ZWkZd2SToVyvmW2CV-qD0IeEOIfEKDFvv37jNjB5fVayaFZWA\"}'"
      ]
     },
     "execution_count": 132,
     "metadata": {},
     "output_type": "execute_result"
    }
   ],
   "source": [
    "json.dumps({'provider_id_token': MS_TOKEN})"
   ]
  },
  {
   "cell_type": "markdown",
   "metadata": {},
   "source": [
    "## Retrieve references"
   ]
  },
  {
   "cell_type": "code",
   "execution_count": 30,
   "metadata": {},
   "outputs": [
    {
     "name": "stdout",
     "output_type": "stream",
     "text": [
      "{'name': 'Tricia Jamison', 'roles': ['3'], 'iss': 'https://securetoken.google.com/nasa-genie-dev', 'aud': 'nasa-genie-dev', 'auth_time': 1719281979, 'user_id': 'AEPN3Yzm20S4gSxdCwSBHCeffbv1', 'sub': 'AEPN3Yzm20S4gSxdCwSBHCeffbv1', 'iat': 1719281979, 'exp': 1719285579, 'email': 'trishjam@googlepublicsector.onmicrosoft.com', 'email_verified': False, 'firebase': {'identities': {'microsoft.com': ['f92ecc49-8112-4f14-815a-297810968860'], 'email': ['trishjam@googlepublicsector.onmicrosoft.com']}, 'sign_in_provider': 'microsoft.com'}, 'uid': 'AEPN3Yzm20S4gSxdCwSBHCeffbv1'}\n",
      "firebase ID token AEPN3Yzm20S4gSxdCwSBHCeffbv1 has roles: ['3']\n"
     ]
    },
    {
     "data": {
      "text/plain": [
       "['3']"
      ]
     },
     "execution_count": 30,
     "metadata": {},
     "output_type": "execute_result"
    }
   ],
   "source": [
    "result = auth.verify_id_token(TOKEN)\n",
    "\n",
    "query.get_roles(result)\n"
   ]
  },
  {
   "cell_type": "code",
   "execution_count": 20,
   "metadata": {},
   "outputs": [
    {
     "name": "stderr",
     "output_type": "stream",
     "text": [
      "c:\\Users\\trishjam\\Documents\\trishjam\\projects\\05-nasa\\code\\nasa-core-solution-services\\components\\llm_service\\.v1\\Lib\\site-packages\\google\\cloud\\firestore_v1\\base_collection.py:302: UserWarning: Detected filter using positional arguments. Prefer using the 'filter' keyword argument instead.\n",
      "  return query.where(field_path, op_string, value)\n",
      "c:\\Users\\trishjam\\Documents\\trishjam\\projects\\05-nasa\\code\\nasa-core-solution-services\\components\\llm_service\\.v1\\Lib\\site-packages\\fireo\\queries\\filter_query.py:257: UserWarning: Detected filter using positional arguments. Prefer using the 'filter' keyword argument instead.\n",
      "  ref = ref.where(*f)\n"
     ]
    }
   ],
   "source": [
    "# async def retrieve_references(prompt: str,\n",
    "#                               q_engine: QueryEngine,\n",
    "#                               user_id: str,\n",
    "#                               roles,\n",
    "#                               rank_sentences: bool = False,\n",
    "#                               query_filter: str = None)-> List[QueryReference]:\n",
    "\n",
    "PROMPT = \"Describe the Artemis missions?\"\n",
    "QUERY_ENGINE_NAME = \"Test Manifest\"\n",
    "USER_ID = user_id\n",
    "ROLES = [\"L1\"]\n",
    "\n",
    "qe = QueryEngine.find_by_name(QUERY_ENGINE_NAME)\n",
    "\n"
   ]
  },
  {
   "cell_type": "code",
   "execution_count": 21,
   "metadata": {},
   "outputs": [
    {
     "name": "stdout",
     "output_type": "stream",
     "text": [
      "INFO: [query/query_service.py:313 - query_search()] Retrieving doc references for q_engine=[Test Manifest], query_prompt=[Describe the Artemis missions?]\n",
      "INFO: [services/embeddings.py:65 - get_embeddings()] generating embeddings with VertexAI-Embedding\n",
      "INFO: [services/embeddings.py:149 - generate_embeddings()] generating embeddings for embedding type VertexAI-Embedding\n",
      "INFO: [config/model_config.py:488 - get_provider_value()] Get provider value:\n",
      "INFO: [config/model_config.py:489 - get_provider_value()] provider_id=Vertex\n",
      "INFO: [config/model_config.py:490 - get_provider_value()] model_id=VertexAI-Embedding\n",
      "INFO: [services/embeddings.py:208 - get_vertex_embeddings()] generating Vertex embeddings for 1 chunk(s) embedding model text-embedding-004\n"
     ]
    },
    {
     "name": "stderr",
     "output_type": "stream",
     "text": [
      "c:\\Users\\trishjam\\Documents\\trishjam\\projects\\05-nasa\\code\\nasa-core-solution-services\\components\\llm_service\\.v1\\Lib\\site-packages\\langchain_community\\vectorstores\\pgvector.py:322: LangChainPendingDeprecationWarning: Please use JSONB instead of JSON for metadata. This change will allow for more efficient querying that involves filtering based on metadata.Please note that filtering operators have been changed when using JSOB metadata to be prefixed with a $ sign to avoid name collisions with columns. If you're using an existing database, you will need to create adb migration for your metadata column to be JSONB and update your queries to use the new operators. \n",
      "  warn_deprecated(\n"
     ]
    },
    {
     "ename": "Exception",
     "evalue": "Failed to create vector extension: (psycopg2.OperationalError) could not translate host name \"None\" to address: No such host is known. \n\n(Background on this error at: https://sqlalche.me/e/20/e3q8)",
     "output_type": "error",
     "traceback": [
      "\u001b[1;31m---------------------------------------------------------------------------\u001b[0m",
      "\u001b[1;31mOperationalError\u001b[0m                          Traceback (most recent call last)",
      "File \u001b[1;32mc:\\Users\\trishjam\\Documents\\trishjam\\projects\\05-nasa\\code\\nasa-core-solution-services\\components\\llm_service\\.v1\\Lib\\site-packages\\sqlalchemy\\engine\\base.py:146\u001b[0m, in \u001b[0;36mConnection.__init__\u001b[1;34m(self, engine, connection, _has_events, _allow_revalidate, _allow_autobegin)\u001b[0m\n\u001b[0;32m    145\u001b[0m \u001b[38;5;28;01mtry\u001b[39;00m:\n\u001b[1;32m--> 146\u001b[0m     \u001b[38;5;28mself\u001b[39m\u001b[38;5;241m.\u001b[39m_dbapi_connection \u001b[38;5;241m=\u001b[39m \u001b[43mengine\u001b[49m\u001b[38;5;241;43m.\u001b[39;49m\u001b[43mraw_connection\u001b[49m\u001b[43m(\u001b[49m\u001b[43m)\u001b[49m\n\u001b[0;32m    147\u001b[0m \u001b[38;5;28;01mexcept\u001b[39;00m dialect\u001b[38;5;241m.\u001b[39mloaded_dbapi\u001b[38;5;241m.\u001b[39mError \u001b[38;5;28;01mas\u001b[39;00m err:\n",
      "File \u001b[1;32mc:\\Users\\trishjam\\Documents\\trishjam\\projects\\05-nasa\\code\\nasa-core-solution-services\\components\\llm_service\\.v1\\Lib\\site-packages\\sqlalchemy\\engine\\base.py:3300\u001b[0m, in \u001b[0;36mEngine.raw_connection\u001b[1;34m(self)\u001b[0m\n\u001b[0;32m   3279\u001b[0m \u001b[38;5;250m\u001b[39m\u001b[38;5;124;03m\"\"\"Return a \"raw\" DBAPI connection from the connection pool.\u001b[39;00m\n\u001b[0;32m   3280\u001b[0m \n\u001b[0;32m   3281\u001b[0m \u001b[38;5;124;03mThe returned object is a proxied version of the DBAPI\u001b[39;00m\n\u001b[1;32m   (...)\u001b[0m\n\u001b[0;32m   3298\u001b[0m \n\u001b[0;32m   3299\u001b[0m \u001b[38;5;124;03m\"\"\"\u001b[39;00m\n\u001b[1;32m-> 3300\u001b[0m \u001b[38;5;28;01mreturn\u001b[39;00m \u001b[38;5;28;43mself\u001b[39;49m\u001b[38;5;241;43m.\u001b[39;49m\u001b[43mpool\u001b[49m\u001b[38;5;241;43m.\u001b[39;49m\u001b[43mconnect\u001b[49m\u001b[43m(\u001b[49m\u001b[43m)\u001b[49m\n",
      "File \u001b[1;32mc:\\Users\\trishjam\\Documents\\trishjam\\projects\\05-nasa\\code\\nasa-core-solution-services\\components\\llm_service\\.v1\\Lib\\site-packages\\sqlalchemy\\pool\\base.py:449\u001b[0m, in \u001b[0;36mPool.connect\u001b[1;34m(self)\u001b[0m\n\u001b[0;32m    442\u001b[0m \u001b[38;5;250m\u001b[39m\u001b[38;5;124;03m\"\"\"Return a DBAPI connection from the pool.\u001b[39;00m\n\u001b[0;32m    443\u001b[0m \n\u001b[0;32m    444\u001b[0m \u001b[38;5;124;03mThe connection is instrumented such that when its\u001b[39;00m\n\u001b[1;32m   (...)\u001b[0m\n\u001b[0;32m    447\u001b[0m \n\u001b[0;32m    448\u001b[0m \u001b[38;5;124;03m\"\"\"\u001b[39;00m\n\u001b[1;32m--> 449\u001b[0m \u001b[38;5;28;01mreturn\u001b[39;00m \u001b[43m_ConnectionFairy\u001b[49m\u001b[38;5;241;43m.\u001b[39;49m\u001b[43m_checkout\u001b[49m\u001b[43m(\u001b[49m\u001b[38;5;28;43mself\u001b[39;49m\u001b[43m)\u001b[49m\n",
      "File \u001b[1;32mc:\\Users\\trishjam\\Documents\\trishjam\\projects\\05-nasa\\code\\nasa-core-solution-services\\components\\llm_service\\.v1\\Lib\\site-packages\\sqlalchemy\\pool\\base.py:1263\u001b[0m, in \u001b[0;36m_ConnectionFairy._checkout\u001b[1;34m(cls, pool, threadconns, fairy)\u001b[0m\n\u001b[0;32m   1262\u001b[0m \u001b[38;5;28;01mif\u001b[39;00m \u001b[38;5;129;01mnot\u001b[39;00m fairy:\n\u001b[1;32m-> 1263\u001b[0m     fairy \u001b[38;5;241m=\u001b[39m \u001b[43m_ConnectionRecord\u001b[49m\u001b[38;5;241;43m.\u001b[39;49m\u001b[43mcheckout\u001b[49m\u001b[43m(\u001b[49m\u001b[43mpool\u001b[49m\u001b[43m)\u001b[49m\n\u001b[0;32m   1265\u001b[0m     \u001b[38;5;28;01mif\u001b[39;00m threadconns \u001b[38;5;129;01mis\u001b[39;00m \u001b[38;5;129;01mnot\u001b[39;00m \u001b[38;5;28;01mNone\u001b[39;00m:\n",
      "File \u001b[1;32mc:\\Users\\trishjam\\Documents\\trishjam\\projects\\05-nasa\\code\\nasa-core-solution-services\\components\\llm_service\\.v1\\Lib\\site-packages\\sqlalchemy\\pool\\base.py:712\u001b[0m, in \u001b[0;36m_ConnectionRecord.checkout\u001b[1;34m(cls, pool)\u001b[0m\n\u001b[0;32m    711\u001b[0m \u001b[38;5;28;01melse\u001b[39;00m:\n\u001b[1;32m--> 712\u001b[0m     rec \u001b[38;5;241m=\u001b[39m \u001b[43mpool\u001b[49m\u001b[38;5;241;43m.\u001b[39;49m\u001b[43m_do_get\u001b[49m\u001b[43m(\u001b[49m\u001b[43m)\u001b[49m\n\u001b[0;32m    714\u001b[0m \u001b[38;5;28;01mtry\u001b[39;00m:\n",
      "File \u001b[1;32mc:\\Users\\trishjam\\Documents\\trishjam\\projects\\05-nasa\\code\\nasa-core-solution-services\\components\\llm_service\\.v1\\Lib\\site-packages\\sqlalchemy\\pool\\impl.py:179\u001b[0m, in \u001b[0;36mQueuePool._do_get\u001b[1;34m(self)\u001b[0m\n\u001b[0;32m    178\u001b[0m \u001b[38;5;28;01mexcept\u001b[39;00m:\n\u001b[1;32m--> 179\u001b[0m \u001b[43m    \u001b[49m\u001b[38;5;28;43;01mwith\u001b[39;49;00m\u001b[43m \u001b[49m\u001b[43mutil\u001b[49m\u001b[38;5;241;43m.\u001b[39;49m\u001b[43msafe_reraise\u001b[49m\u001b[43m(\u001b[49m\u001b[43m)\u001b[49m\u001b[43m:\u001b[49m\n\u001b[0;32m    180\u001b[0m \u001b[43m        \u001b[49m\u001b[38;5;28;43mself\u001b[39;49m\u001b[38;5;241;43m.\u001b[39;49m\u001b[43m_dec_overflow\u001b[49m\u001b[43m(\u001b[49m\u001b[43m)\u001b[49m\n",
      "File \u001b[1;32mc:\\Users\\trishjam\\Documents\\trishjam\\projects\\05-nasa\\code\\nasa-core-solution-services\\components\\llm_service\\.v1\\Lib\\site-packages\\sqlalchemy\\util\\langhelpers.py:146\u001b[0m, in \u001b[0;36msafe_reraise.__exit__\u001b[1;34m(self, type_, value, traceback)\u001b[0m\n\u001b[0;32m    145\u001b[0m     \u001b[38;5;28mself\u001b[39m\u001b[38;5;241m.\u001b[39m_exc_info \u001b[38;5;241m=\u001b[39m \u001b[38;5;28;01mNone\u001b[39;00m  \u001b[38;5;66;03m# remove potential circular references\u001b[39;00m\n\u001b[1;32m--> 146\u001b[0m     \u001b[38;5;28;01mraise\u001b[39;00m exc_value\u001b[38;5;241m.\u001b[39mwith_traceback(exc_tb)\n\u001b[0;32m    147\u001b[0m \u001b[38;5;28;01melse\u001b[39;00m:\n",
      "File \u001b[1;32mc:\\Users\\trishjam\\Documents\\trishjam\\projects\\05-nasa\\code\\nasa-core-solution-services\\components\\llm_service\\.v1\\Lib\\site-packages\\sqlalchemy\\pool\\impl.py:177\u001b[0m, in \u001b[0;36mQueuePool._do_get\u001b[1;34m(self)\u001b[0m\n\u001b[0;32m    176\u001b[0m \u001b[38;5;28;01mtry\u001b[39;00m:\n\u001b[1;32m--> 177\u001b[0m     \u001b[38;5;28;01mreturn\u001b[39;00m \u001b[38;5;28;43mself\u001b[39;49m\u001b[38;5;241;43m.\u001b[39;49m\u001b[43m_create_connection\u001b[49m\u001b[43m(\u001b[49m\u001b[43m)\u001b[49m\n\u001b[0;32m    178\u001b[0m \u001b[38;5;28;01mexcept\u001b[39;00m:\n",
      "File \u001b[1;32mc:\\Users\\trishjam\\Documents\\trishjam\\projects\\05-nasa\\code\\nasa-core-solution-services\\components\\llm_service\\.v1\\Lib\\site-packages\\sqlalchemy\\pool\\base.py:390\u001b[0m, in \u001b[0;36mPool._create_connection\u001b[1;34m(self)\u001b[0m\n\u001b[0;32m    388\u001b[0m \u001b[38;5;250m\u001b[39m\u001b[38;5;124;03m\"\"\"Called by subclasses to create a new ConnectionRecord.\"\"\"\u001b[39;00m\n\u001b[1;32m--> 390\u001b[0m \u001b[38;5;28;01mreturn\u001b[39;00m \u001b[43m_ConnectionRecord\u001b[49m\u001b[43m(\u001b[49m\u001b[38;5;28;43mself\u001b[39;49m\u001b[43m)\u001b[49m\n",
      "File \u001b[1;32mc:\\Users\\trishjam\\Documents\\trishjam\\projects\\05-nasa\\code\\nasa-core-solution-services\\components\\llm_service\\.v1\\Lib\\site-packages\\sqlalchemy\\pool\\base.py:674\u001b[0m, in \u001b[0;36m_ConnectionRecord.__init__\u001b[1;34m(self, pool, connect)\u001b[0m\n\u001b[0;32m    673\u001b[0m \u001b[38;5;28;01mif\u001b[39;00m connect:\n\u001b[1;32m--> 674\u001b[0m     \u001b[38;5;28;43mself\u001b[39;49m\u001b[38;5;241;43m.\u001b[39;49m\u001b[43m__connect\u001b[49m\u001b[43m(\u001b[49m\u001b[43m)\u001b[49m\n\u001b[0;32m    675\u001b[0m \u001b[38;5;28mself\u001b[39m\u001b[38;5;241m.\u001b[39mfinalize_callback \u001b[38;5;241m=\u001b[39m deque()\n",
      "File \u001b[1;32mc:\\Users\\trishjam\\Documents\\trishjam\\projects\\05-nasa\\code\\nasa-core-solution-services\\components\\llm_service\\.v1\\Lib\\site-packages\\sqlalchemy\\pool\\base.py:900\u001b[0m, in \u001b[0;36m_ConnectionRecord.__connect\u001b[1;34m(self)\u001b[0m\n\u001b[0;32m    899\u001b[0m \u001b[38;5;28;01mexcept\u001b[39;00m \u001b[38;5;167;01mBaseException\u001b[39;00m \u001b[38;5;28;01mas\u001b[39;00m e:\n\u001b[1;32m--> 900\u001b[0m \u001b[43m    \u001b[49m\u001b[38;5;28;43;01mwith\u001b[39;49;00m\u001b[43m \u001b[49m\u001b[43mutil\u001b[49m\u001b[38;5;241;43m.\u001b[39;49m\u001b[43msafe_reraise\u001b[49m\u001b[43m(\u001b[49m\u001b[43m)\u001b[49m\u001b[43m:\u001b[49m\n\u001b[0;32m    901\u001b[0m \u001b[43m        \u001b[49m\u001b[43mpool\u001b[49m\u001b[38;5;241;43m.\u001b[39;49m\u001b[43mlogger\u001b[49m\u001b[38;5;241;43m.\u001b[39;49m\u001b[43mdebug\u001b[49m\u001b[43m(\u001b[49m\u001b[38;5;124;43m\"\u001b[39;49m\u001b[38;5;124;43mError on connect(): \u001b[39;49m\u001b[38;5;132;43;01m%s\u001b[39;49;00m\u001b[38;5;124;43m\"\u001b[39;49m\u001b[43m,\u001b[49m\u001b[43m \u001b[49m\u001b[43me\u001b[49m\u001b[43m)\u001b[49m\n",
      "File \u001b[1;32mc:\\Users\\trishjam\\Documents\\trishjam\\projects\\05-nasa\\code\\nasa-core-solution-services\\components\\llm_service\\.v1\\Lib\\site-packages\\sqlalchemy\\util\\langhelpers.py:146\u001b[0m, in \u001b[0;36msafe_reraise.__exit__\u001b[1;34m(self, type_, value, traceback)\u001b[0m\n\u001b[0;32m    145\u001b[0m     \u001b[38;5;28mself\u001b[39m\u001b[38;5;241m.\u001b[39m_exc_info \u001b[38;5;241m=\u001b[39m \u001b[38;5;28;01mNone\u001b[39;00m  \u001b[38;5;66;03m# remove potential circular references\u001b[39;00m\n\u001b[1;32m--> 146\u001b[0m     \u001b[38;5;28;01mraise\u001b[39;00m exc_value\u001b[38;5;241m.\u001b[39mwith_traceback(exc_tb)\n\u001b[0;32m    147\u001b[0m \u001b[38;5;28;01melse\u001b[39;00m:\n",
      "File \u001b[1;32mc:\\Users\\trishjam\\Documents\\trishjam\\projects\\05-nasa\\code\\nasa-core-solution-services\\components\\llm_service\\.v1\\Lib\\site-packages\\sqlalchemy\\pool\\base.py:896\u001b[0m, in \u001b[0;36m_ConnectionRecord.__connect\u001b[1;34m(self)\u001b[0m\n\u001b[0;32m    895\u001b[0m \u001b[38;5;28mself\u001b[39m\u001b[38;5;241m.\u001b[39mstarttime \u001b[38;5;241m=\u001b[39m time\u001b[38;5;241m.\u001b[39mtime()\n\u001b[1;32m--> 896\u001b[0m \u001b[38;5;28mself\u001b[39m\u001b[38;5;241m.\u001b[39mdbapi_connection \u001b[38;5;241m=\u001b[39m connection \u001b[38;5;241m=\u001b[39m \u001b[43mpool\u001b[49m\u001b[38;5;241;43m.\u001b[39;49m\u001b[43m_invoke_creator\u001b[49m\u001b[43m(\u001b[49m\u001b[38;5;28;43mself\u001b[39;49m\u001b[43m)\u001b[49m\n\u001b[0;32m    897\u001b[0m pool\u001b[38;5;241m.\u001b[39mlogger\u001b[38;5;241m.\u001b[39mdebug(\u001b[38;5;124m\"\u001b[39m\u001b[38;5;124mCreated new connection \u001b[39m\u001b[38;5;132;01m%r\u001b[39;00m\u001b[38;5;124m\"\u001b[39m, connection)\n",
      "File \u001b[1;32mc:\\Users\\trishjam\\Documents\\trishjam\\projects\\05-nasa\\code\\nasa-core-solution-services\\components\\llm_service\\.v1\\Lib\\site-packages\\sqlalchemy\\engine\\create.py:643\u001b[0m, in \u001b[0;36mcreate_engine.<locals>.connect\u001b[1;34m(connection_record)\u001b[0m\n\u001b[0;32m    641\u001b[0m             \u001b[38;5;28;01mreturn\u001b[39;00m connection\n\u001b[1;32m--> 643\u001b[0m \u001b[38;5;28;01mreturn\u001b[39;00m \u001b[43mdialect\u001b[49m\u001b[38;5;241;43m.\u001b[39;49m\u001b[43mconnect\u001b[49m\u001b[43m(\u001b[49m\u001b[38;5;241;43m*\u001b[39;49m\u001b[43mcargs\u001b[49m\u001b[43m,\u001b[49m\u001b[43m \u001b[49m\u001b[38;5;241;43m*\u001b[39;49m\u001b[38;5;241;43m*\u001b[39;49m\u001b[43mcparams\u001b[49m\u001b[43m)\u001b[49m\n",
      "File \u001b[1;32mc:\\Users\\trishjam\\Documents\\trishjam\\projects\\05-nasa\\code\\nasa-core-solution-services\\components\\llm_service\\.v1\\Lib\\site-packages\\sqlalchemy\\engine\\default.py:620\u001b[0m, in \u001b[0;36mDefaultDialect.connect\u001b[1;34m(self, *cargs, **cparams)\u001b[0m\n\u001b[0;32m    618\u001b[0m \u001b[38;5;28;01mdef\u001b[39;00m \u001b[38;5;21mconnect\u001b[39m(\u001b[38;5;28mself\u001b[39m, \u001b[38;5;241m*\u001b[39mcargs, \u001b[38;5;241m*\u001b[39m\u001b[38;5;241m*\u001b[39mcparams):\n\u001b[0;32m    619\u001b[0m     \u001b[38;5;66;03m# inherits the docstring from interfaces.Dialect.connect\u001b[39;00m\n\u001b[1;32m--> 620\u001b[0m     \u001b[38;5;28;01mreturn\u001b[39;00m \u001b[38;5;28;43mself\u001b[39;49m\u001b[38;5;241;43m.\u001b[39;49m\u001b[43mloaded_dbapi\u001b[49m\u001b[38;5;241;43m.\u001b[39;49m\u001b[43mconnect\u001b[49m\u001b[43m(\u001b[49m\u001b[38;5;241;43m*\u001b[39;49m\u001b[43mcargs\u001b[49m\u001b[43m,\u001b[49m\u001b[43m \u001b[49m\u001b[38;5;241;43m*\u001b[39;49m\u001b[38;5;241;43m*\u001b[39;49m\u001b[43mcparams\u001b[49m\u001b[43m)\u001b[49m\n",
      "File \u001b[1;32mc:\\Users\\trishjam\\Documents\\trishjam\\projects\\05-nasa\\code\\nasa-core-solution-services\\components\\llm_service\\.v1\\Lib\\site-packages\\psycopg2\\__init__.py:122\u001b[0m, in \u001b[0;36mconnect\u001b[1;34m(dsn, connection_factory, cursor_factory, **kwargs)\u001b[0m\n\u001b[0;32m    121\u001b[0m dsn \u001b[38;5;241m=\u001b[39m _ext\u001b[38;5;241m.\u001b[39mmake_dsn(dsn, \u001b[38;5;241m*\u001b[39m\u001b[38;5;241m*\u001b[39mkwargs)\n\u001b[1;32m--> 122\u001b[0m conn \u001b[38;5;241m=\u001b[39m \u001b[43m_connect\u001b[49m\u001b[43m(\u001b[49m\u001b[43mdsn\u001b[49m\u001b[43m,\u001b[49m\u001b[43m \u001b[49m\u001b[43mconnection_factory\u001b[49m\u001b[38;5;241;43m=\u001b[39;49m\u001b[43mconnection_factory\u001b[49m\u001b[43m,\u001b[49m\u001b[43m \u001b[49m\u001b[38;5;241;43m*\u001b[39;49m\u001b[38;5;241;43m*\u001b[39;49m\u001b[43mkwasync\u001b[49m\u001b[43m)\u001b[49m\n\u001b[0;32m    123\u001b[0m \u001b[38;5;28;01mif\u001b[39;00m cursor_factory \u001b[38;5;129;01mis\u001b[39;00m \u001b[38;5;129;01mnot\u001b[39;00m \u001b[38;5;28;01mNone\u001b[39;00m:\n",
      "\u001b[1;31mOperationalError\u001b[0m: could not translate host name \"None\" to address: No such host is known. \n",
      "\nThe above exception was the direct cause of the following exception:\n",
      "\u001b[1;31mOperationalError\u001b[0m                          Traceback (most recent call last)",
      "File \u001b[1;32mc:\\Users\\trishjam\\Documents\\trishjam\\projects\\05-nasa\\code\\nasa-core-solution-services\\components\\llm_service\\.v1\\Lib\\site-packages\\langchain_community\\vectorstores\\pgvector.py:383\u001b[0m, in \u001b[0;36mPGVector.create_vector_extension\u001b[1;34m(self)\u001b[0m\n\u001b[0;32m    377\u001b[0m statement \u001b[38;5;241m=\u001b[39m sqlalchemy\u001b[38;5;241m.\u001b[39mtext(\n\u001b[0;32m    378\u001b[0m     \u001b[38;5;124m\"\u001b[39m\u001b[38;5;124mBEGIN;\u001b[39m\u001b[38;5;124m\"\u001b[39m\n\u001b[0;32m    379\u001b[0m     \u001b[38;5;124m\"\u001b[39m\u001b[38;5;124mSELECT pg_advisory_xact_lock(1573678846307946496);\u001b[39m\u001b[38;5;124m\"\u001b[39m\n\u001b[0;32m    380\u001b[0m     \u001b[38;5;124m\"\u001b[39m\u001b[38;5;124mCREATE EXTENSION IF NOT EXISTS vector;\u001b[39m\u001b[38;5;124m\"\u001b[39m\n\u001b[0;32m    381\u001b[0m     \u001b[38;5;124m\"\u001b[39m\u001b[38;5;124mCOMMIT;\u001b[39m\u001b[38;5;124m\"\u001b[39m\n\u001b[0;32m    382\u001b[0m )\n\u001b[1;32m--> 383\u001b[0m \u001b[43msession\u001b[49m\u001b[38;5;241;43m.\u001b[39;49m\u001b[43mexecute\u001b[49m\u001b[43m(\u001b[49m\u001b[43mstatement\u001b[49m\u001b[43m)\u001b[49m\n\u001b[0;32m    384\u001b[0m session\u001b[38;5;241m.\u001b[39mcommit()\n",
      "File \u001b[1;32mc:\\Users\\trishjam\\Documents\\trishjam\\projects\\05-nasa\\code\\nasa-core-solution-services\\components\\llm_service\\.v1\\Lib\\site-packages\\sqlalchemy\\orm\\session.py:2351\u001b[0m, in \u001b[0;36mSession.execute\u001b[1;34m(self, statement, params, execution_options, bind_arguments, _parent_execute_state, _add_event)\u001b[0m\n\u001b[0;32m   2300\u001b[0m \u001b[38;5;250m\u001b[39m\u001b[38;5;124mr\u001b[39m\u001b[38;5;124;03m\"\"\"Execute a SQL expression construct.\u001b[39;00m\n\u001b[0;32m   2301\u001b[0m \n\u001b[0;32m   2302\u001b[0m \u001b[38;5;124;03mReturns a :class:`_engine.Result` object representing\u001b[39;00m\n\u001b[1;32m   (...)\u001b[0m\n\u001b[0;32m   2349\u001b[0m \n\u001b[0;32m   2350\u001b[0m \u001b[38;5;124;03m\"\"\"\u001b[39;00m\n\u001b[1;32m-> 2351\u001b[0m \u001b[38;5;28;01mreturn\u001b[39;00m \u001b[38;5;28;43mself\u001b[39;49m\u001b[38;5;241;43m.\u001b[39;49m\u001b[43m_execute_internal\u001b[49m\u001b[43m(\u001b[49m\n\u001b[0;32m   2352\u001b[0m \u001b[43m    \u001b[49m\u001b[43mstatement\u001b[49m\u001b[43m,\u001b[49m\n\u001b[0;32m   2353\u001b[0m \u001b[43m    \u001b[49m\u001b[43mparams\u001b[49m\u001b[43m,\u001b[49m\n\u001b[0;32m   2354\u001b[0m \u001b[43m    \u001b[49m\u001b[43mexecution_options\u001b[49m\u001b[38;5;241;43m=\u001b[39;49m\u001b[43mexecution_options\u001b[49m\u001b[43m,\u001b[49m\n\u001b[0;32m   2355\u001b[0m \u001b[43m    \u001b[49m\u001b[43mbind_arguments\u001b[49m\u001b[38;5;241;43m=\u001b[39;49m\u001b[43mbind_arguments\u001b[49m\u001b[43m,\u001b[49m\n\u001b[0;32m   2356\u001b[0m \u001b[43m    \u001b[49m\u001b[43m_parent_execute_state\u001b[49m\u001b[38;5;241;43m=\u001b[39;49m\u001b[43m_parent_execute_state\u001b[49m\u001b[43m,\u001b[49m\n\u001b[0;32m   2357\u001b[0m \u001b[43m    \u001b[49m\u001b[43m_add_event\u001b[49m\u001b[38;5;241;43m=\u001b[39;49m\u001b[43m_add_event\u001b[49m\u001b[43m,\u001b[49m\n\u001b[0;32m   2358\u001b[0m \u001b[43m\u001b[49m\u001b[43m)\u001b[49m\n",
      "File \u001b[1;32mc:\\Users\\trishjam\\Documents\\trishjam\\projects\\05-nasa\\code\\nasa-core-solution-services\\components\\llm_service\\.v1\\Lib\\site-packages\\sqlalchemy\\orm\\session.py:2226\u001b[0m, in \u001b[0;36mSession._execute_internal\u001b[1;34m(self, statement, params, execution_options, bind_arguments, _parent_execute_state, _add_event, _scalar_result)\u001b[0m\n\u001b[0;32m   2224\u001b[0m bind \u001b[38;5;241m=\u001b[39m \u001b[38;5;28mself\u001b[39m\u001b[38;5;241m.\u001b[39mget_bind(\u001b[38;5;241m*\u001b[39m\u001b[38;5;241m*\u001b[39mbind_arguments)\n\u001b[1;32m-> 2226\u001b[0m conn \u001b[38;5;241m=\u001b[39m \u001b[38;5;28;43mself\u001b[39;49m\u001b[38;5;241;43m.\u001b[39;49m\u001b[43m_connection_for_bind\u001b[49m\u001b[43m(\u001b[49m\u001b[43mbind\u001b[49m\u001b[43m)\u001b[49m\n\u001b[0;32m   2228\u001b[0m \u001b[38;5;28;01mif\u001b[39;00m _scalar_result \u001b[38;5;129;01mand\u001b[39;00m \u001b[38;5;129;01mnot\u001b[39;00m compile_state_cls:\n",
      "File \u001b[1;32mc:\\Users\\trishjam\\Documents\\trishjam\\projects\\05-nasa\\code\\nasa-core-solution-services\\components\\llm_service\\.v1\\Lib\\site-packages\\sqlalchemy\\orm\\session.py:2095\u001b[0m, in \u001b[0;36mSession._connection_for_bind\u001b[1;34m(self, engine, execution_options, **kw)\u001b[0m\n\u001b[0;32m   2094\u001b[0m     trans \u001b[38;5;241m=\u001b[39m \u001b[38;5;28mself\u001b[39m\u001b[38;5;241m.\u001b[39m_autobegin_t()\n\u001b[1;32m-> 2095\u001b[0m \u001b[38;5;28;01mreturn\u001b[39;00m \u001b[43mtrans\u001b[49m\u001b[38;5;241;43m.\u001b[39;49m\u001b[43m_connection_for_bind\u001b[49m\u001b[43m(\u001b[49m\u001b[43mengine\u001b[49m\u001b[43m,\u001b[49m\u001b[43m \u001b[49m\u001b[43mexecution_options\u001b[49m\u001b[43m)\u001b[49m\n",
      "File \u001b[1;32m<string>:2\u001b[0m, in \u001b[0;36m_connection_for_bind\u001b[1;34m(self, bind, execution_options)\u001b[0m\n",
      "File \u001b[1;32mc:\\Users\\trishjam\\Documents\\trishjam\\projects\\05-nasa\\code\\nasa-core-solution-services\\components\\llm_service\\.v1\\Lib\\site-packages\\sqlalchemy\\orm\\state_changes.py:139\u001b[0m, in \u001b[0;36m_StateChange.declare_states.<locals>._go\u001b[1;34m(fn, self, *arg, **kw)\u001b[0m\n\u001b[0;32m    138\u001b[0m \u001b[38;5;28;01mtry\u001b[39;00m:\n\u001b[1;32m--> 139\u001b[0m     ret_value \u001b[38;5;241m=\u001b[39m \u001b[43mfn\u001b[49m\u001b[43m(\u001b[49m\u001b[38;5;28;43mself\u001b[39;49m\u001b[43m,\u001b[49m\u001b[43m \u001b[49m\u001b[38;5;241;43m*\u001b[39;49m\u001b[43marg\u001b[49m\u001b[43m,\u001b[49m\u001b[43m \u001b[49m\u001b[38;5;241;43m*\u001b[39;49m\u001b[38;5;241;43m*\u001b[39;49m\u001b[43mkw\u001b[49m\u001b[43m)\u001b[49m\n\u001b[0;32m    140\u001b[0m \u001b[38;5;28;01mexcept\u001b[39;00m:\n",
      "File \u001b[1;32mc:\\Users\\trishjam\\Documents\\trishjam\\projects\\05-nasa\\code\\nasa-core-solution-services\\components\\llm_service\\.v1\\Lib\\site-packages\\sqlalchemy\\orm\\session.py:1189\u001b[0m, in \u001b[0;36mSessionTransaction._connection_for_bind\u001b[1;34m(self, bind, execution_options)\u001b[0m\n\u001b[0;32m   1188\u001b[0m \u001b[38;5;28;01melse\u001b[39;00m:\n\u001b[1;32m-> 1189\u001b[0m     conn \u001b[38;5;241m=\u001b[39m \u001b[43mbind\u001b[49m\u001b[38;5;241;43m.\u001b[39;49m\u001b[43mconnect\u001b[49m\u001b[43m(\u001b[49m\u001b[43m)\u001b[49m\n\u001b[0;32m   1190\u001b[0m     local_connect \u001b[38;5;241m=\u001b[39m \u001b[38;5;28;01mTrue\u001b[39;00m\n",
      "File \u001b[1;32mc:\\Users\\trishjam\\Documents\\trishjam\\projects\\05-nasa\\code\\nasa-core-solution-services\\components\\llm_service\\.v1\\Lib\\site-packages\\sqlalchemy\\engine\\base.py:3276\u001b[0m, in \u001b[0;36mEngine.connect\u001b[1;34m(self)\u001b[0m\n\u001b[0;32m   3254\u001b[0m \u001b[38;5;250m\u001b[39m\u001b[38;5;124;03m\"\"\"Return a new :class:`_engine.Connection` object.\u001b[39;00m\n\u001b[0;32m   3255\u001b[0m \n\u001b[0;32m   3256\u001b[0m \u001b[38;5;124;03mThe :class:`_engine.Connection` acts as a Python context manager, so\u001b[39;00m\n\u001b[1;32m   (...)\u001b[0m\n\u001b[0;32m   3273\u001b[0m \n\u001b[0;32m   3274\u001b[0m \u001b[38;5;124;03m\"\"\"\u001b[39;00m\n\u001b[1;32m-> 3276\u001b[0m \u001b[38;5;28;01mreturn\u001b[39;00m \u001b[38;5;28;43mself\u001b[39;49m\u001b[38;5;241;43m.\u001b[39;49m\u001b[43m_connection_cls\u001b[49m\u001b[43m(\u001b[49m\u001b[38;5;28;43mself\u001b[39;49m\u001b[43m)\u001b[49m\n",
      "File \u001b[1;32mc:\\Users\\trishjam\\Documents\\trishjam\\projects\\05-nasa\\code\\nasa-core-solution-services\\components\\llm_service\\.v1\\Lib\\site-packages\\sqlalchemy\\engine\\base.py:148\u001b[0m, in \u001b[0;36mConnection.__init__\u001b[1;34m(self, engine, connection, _has_events, _allow_revalidate, _allow_autobegin)\u001b[0m\n\u001b[0;32m    147\u001b[0m \u001b[38;5;28;01mexcept\u001b[39;00m dialect\u001b[38;5;241m.\u001b[39mloaded_dbapi\u001b[38;5;241m.\u001b[39mError \u001b[38;5;28;01mas\u001b[39;00m err:\n\u001b[1;32m--> 148\u001b[0m     \u001b[43mConnection\u001b[49m\u001b[38;5;241;43m.\u001b[39;49m\u001b[43m_handle_dbapi_exception_noconnection\u001b[49m\u001b[43m(\u001b[49m\n\u001b[0;32m    149\u001b[0m \u001b[43m        \u001b[49m\u001b[43merr\u001b[49m\u001b[43m,\u001b[49m\u001b[43m \u001b[49m\u001b[43mdialect\u001b[49m\u001b[43m,\u001b[49m\u001b[43m \u001b[49m\u001b[43mengine\u001b[49m\n\u001b[0;32m    150\u001b[0m \u001b[43m    \u001b[49m\u001b[43m)\u001b[49m\n\u001b[0;32m    151\u001b[0m     \u001b[38;5;28;01mraise\u001b[39;00m\n",
      "File \u001b[1;32mc:\\Users\\trishjam\\Documents\\trishjam\\projects\\05-nasa\\code\\nasa-core-solution-services\\components\\llm_service\\.v1\\Lib\\site-packages\\sqlalchemy\\engine\\base.py:2440\u001b[0m, in \u001b[0;36mConnection._handle_dbapi_exception_noconnection\u001b[1;34m(cls, e, dialect, engine, is_disconnect, invalidate_pool_on_disconnect, is_pre_ping)\u001b[0m\n\u001b[0;32m   2439\u001b[0m     \u001b[38;5;28;01massert\u001b[39;00m sqlalchemy_exception \u001b[38;5;129;01mis\u001b[39;00m \u001b[38;5;129;01mnot\u001b[39;00m \u001b[38;5;28;01mNone\u001b[39;00m\n\u001b[1;32m-> 2440\u001b[0m     \u001b[38;5;28;01mraise\u001b[39;00m sqlalchemy_exception\u001b[38;5;241m.\u001b[39mwith_traceback(exc_info[\u001b[38;5;241m2\u001b[39m]) \u001b[38;5;28;01mfrom\u001b[39;00m \u001b[38;5;21;01me\u001b[39;00m\n\u001b[0;32m   2441\u001b[0m \u001b[38;5;28;01melse\u001b[39;00m:\n",
      "File \u001b[1;32mc:\\Users\\trishjam\\Documents\\trishjam\\projects\\05-nasa\\code\\nasa-core-solution-services\\components\\llm_service\\.v1\\Lib\\site-packages\\sqlalchemy\\engine\\base.py:146\u001b[0m, in \u001b[0;36mConnection.__init__\u001b[1;34m(self, engine, connection, _has_events, _allow_revalidate, _allow_autobegin)\u001b[0m\n\u001b[0;32m    145\u001b[0m \u001b[38;5;28;01mtry\u001b[39;00m:\n\u001b[1;32m--> 146\u001b[0m     \u001b[38;5;28mself\u001b[39m\u001b[38;5;241m.\u001b[39m_dbapi_connection \u001b[38;5;241m=\u001b[39m \u001b[43mengine\u001b[49m\u001b[38;5;241;43m.\u001b[39;49m\u001b[43mraw_connection\u001b[49m\u001b[43m(\u001b[49m\u001b[43m)\u001b[49m\n\u001b[0;32m    147\u001b[0m \u001b[38;5;28;01mexcept\u001b[39;00m dialect\u001b[38;5;241m.\u001b[39mloaded_dbapi\u001b[38;5;241m.\u001b[39mError \u001b[38;5;28;01mas\u001b[39;00m err:\n",
      "File \u001b[1;32mc:\\Users\\trishjam\\Documents\\trishjam\\projects\\05-nasa\\code\\nasa-core-solution-services\\components\\llm_service\\.v1\\Lib\\site-packages\\sqlalchemy\\engine\\base.py:3300\u001b[0m, in \u001b[0;36mEngine.raw_connection\u001b[1;34m(self)\u001b[0m\n\u001b[0;32m   3279\u001b[0m \u001b[38;5;250m\u001b[39m\u001b[38;5;124;03m\"\"\"Return a \"raw\" DBAPI connection from the connection pool.\u001b[39;00m\n\u001b[0;32m   3280\u001b[0m \n\u001b[0;32m   3281\u001b[0m \u001b[38;5;124;03mThe returned object is a proxied version of the DBAPI\u001b[39;00m\n\u001b[1;32m   (...)\u001b[0m\n\u001b[0;32m   3298\u001b[0m \n\u001b[0;32m   3299\u001b[0m \u001b[38;5;124;03m\"\"\"\u001b[39;00m\n\u001b[1;32m-> 3300\u001b[0m \u001b[38;5;28;01mreturn\u001b[39;00m \u001b[38;5;28;43mself\u001b[39;49m\u001b[38;5;241;43m.\u001b[39;49m\u001b[43mpool\u001b[49m\u001b[38;5;241;43m.\u001b[39;49m\u001b[43mconnect\u001b[49m\u001b[43m(\u001b[49m\u001b[43m)\u001b[49m\n",
      "File \u001b[1;32mc:\\Users\\trishjam\\Documents\\trishjam\\projects\\05-nasa\\code\\nasa-core-solution-services\\components\\llm_service\\.v1\\Lib\\site-packages\\sqlalchemy\\pool\\base.py:449\u001b[0m, in \u001b[0;36mPool.connect\u001b[1;34m(self)\u001b[0m\n\u001b[0;32m    442\u001b[0m \u001b[38;5;250m\u001b[39m\u001b[38;5;124;03m\"\"\"Return a DBAPI connection from the pool.\u001b[39;00m\n\u001b[0;32m    443\u001b[0m \n\u001b[0;32m    444\u001b[0m \u001b[38;5;124;03mThe connection is instrumented such that when its\u001b[39;00m\n\u001b[1;32m   (...)\u001b[0m\n\u001b[0;32m    447\u001b[0m \n\u001b[0;32m    448\u001b[0m \u001b[38;5;124;03m\"\"\"\u001b[39;00m\n\u001b[1;32m--> 449\u001b[0m \u001b[38;5;28;01mreturn\u001b[39;00m \u001b[43m_ConnectionFairy\u001b[49m\u001b[38;5;241;43m.\u001b[39;49m\u001b[43m_checkout\u001b[49m\u001b[43m(\u001b[49m\u001b[38;5;28;43mself\u001b[39;49m\u001b[43m)\u001b[49m\n",
      "File \u001b[1;32mc:\\Users\\trishjam\\Documents\\trishjam\\projects\\05-nasa\\code\\nasa-core-solution-services\\components\\llm_service\\.v1\\Lib\\site-packages\\sqlalchemy\\pool\\base.py:1263\u001b[0m, in \u001b[0;36m_ConnectionFairy._checkout\u001b[1;34m(cls, pool, threadconns, fairy)\u001b[0m\n\u001b[0;32m   1262\u001b[0m \u001b[38;5;28;01mif\u001b[39;00m \u001b[38;5;129;01mnot\u001b[39;00m fairy:\n\u001b[1;32m-> 1263\u001b[0m     fairy \u001b[38;5;241m=\u001b[39m \u001b[43m_ConnectionRecord\u001b[49m\u001b[38;5;241;43m.\u001b[39;49m\u001b[43mcheckout\u001b[49m\u001b[43m(\u001b[49m\u001b[43mpool\u001b[49m\u001b[43m)\u001b[49m\n\u001b[0;32m   1265\u001b[0m     \u001b[38;5;28;01mif\u001b[39;00m threadconns \u001b[38;5;129;01mis\u001b[39;00m \u001b[38;5;129;01mnot\u001b[39;00m \u001b[38;5;28;01mNone\u001b[39;00m:\n",
      "File \u001b[1;32mc:\\Users\\trishjam\\Documents\\trishjam\\projects\\05-nasa\\code\\nasa-core-solution-services\\components\\llm_service\\.v1\\Lib\\site-packages\\sqlalchemy\\pool\\base.py:712\u001b[0m, in \u001b[0;36m_ConnectionRecord.checkout\u001b[1;34m(cls, pool)\u001b[0m\n\u001b[0;32m    711\u001b[0m \u001b[38;5;28;01melse\u001b[39;00m:\n\u001b[1;32m--> 712\u001b[0m     rec \u001b[38;5;241m=\u001b[39m \u001b[43mpool\u001b[49m\u001b[38;5;241;43m.\u001b[39;49m\u001b[43m_do_get\u001b[49m\u001b[43m(\u001b[49m\u001b[43m)\u001b[49m\n\u001b[0;32m    714\u001b[0m \u001b[38;5;28;01mtry\u001b[39;00m:\n",
      "File \u001b[1;32mc:\\Users\\trishjam\\Documents\\trishjam\\projects\\05-nasa\\code\\nasa-core-solution-services\\components\\llm_service\\.v1\\Lib\\site-packages\\sqlalchemy\\pool\\impl.py:179\u001b[0m, in \u001b[0;36mQueuePool._do_get\u001b[1;34m(self)\u001b[0m\n\u001b[0;32m    178\u001b[0m \u001b[38;5;28;01mexcept\u001b[39;00m:\n\u001b[1;32m--> 179\u001b[0m \u001b[43m    \u001b[49m\u001b[38;5;28;43;01mwith\u001b[39;49;00m\u001b[43m \u001b[49m\u001b[43mutil\u001b[49m\u001b[38;5;241;43m.\u001b[39;49m\u001b[43msafe_reraise\u001b[49m\u001b[43m(\u001b[49m\u001b[43m)\u001b[49m\u001b[43m:\u001b[49m\n\u001b[0;32m    180\u001b[0m \u001b[43m        \u001b[49m\u001b[38;5;28;43mself\u001b[39;49m\u001b[38;5;241;43m.\u001b[39;49m\u001b[43m_dec_overflow\u001b[49m\u001b[43m(\u001b[49m\u001b[43m)\u001b[49m\n",
      "File \u001b[1;32mc:\\Users\\trishjam\\Documents\\trishjam\\projects\\05-nasa\\code\\nasa-core-solution-services\\components\\llm_service\\.v1\\Lib\\site-packages\\sqlalchemy\\util\\langhelpers.py:146\u001b[0m, in \u001b[0;36msafe_reraise.__exit__\u001b[1;34m(self, type_, value, traceback)\u001b[0m\n\u001b[0;32m    145\u001b[0m     \u001b[38;5;28mself\u001b[39m\u001b[38;5;241m.\u001b[39m_exc_info \u001b[38;5;241m=\u001b[39m \u001b[38;5;28;01mNone\u001b[39;00m  \u001b[38;5;66;03m# remove potential circular references\u001b[39;00m\n\u001b[1;32m--> 146\u001b[0m     \u001b[38;5;28;01mraise\u001b[39;00m exc_value\u001b[38;5;241m.\u001b[39mwith_traceback(exc_tb)\n\u001b[0;32m    147\u001b[0m \u001b[38;5;28;01melse\u001b[39;00m:\n",
      "File \u001b[1;32mc:\\Users\\trishjam\\Documents\\trishjam\\projects\\05-nasa\\code\\nasa-core-solution-services\\components\\llm_service\\.v1\\Lib\\site-packages\\sqlalchemy\\pool\\impl.py:177\u001b[0m, in \u001b[0;36mQueuePool._do_get\u001b[1;34m(self)\u001b[0m\n\u001b[0;32m    176\u001b[0m \u001b[38;5;28;01mtry\u001b[39;00m:\n\u001b[1;32m--> 177\u001b[0m     \u001b[38;5;28;01mreturn\u001b[39;00m \u001b[38;5;28;43mself\u001b[39;49m\u001b[38;5;241;43m.\u001b[39;49m\u001b[43m_create_connection\u001b[49m\u001b[43m(\u001b[49m\u001b[43m)\u001b[49m\n\u001b[0;32m    178\u001b[0m \u001b[38;5;28;01mexcept\u001b[39;00m:\n",
      "File \u001b[1;32mc:\\Users\\trishjam\\Documents\\trishjam\\projects\\05-nasa\\code\\nasa-core-solution-services\\components\\llm_service\\.v1\\Lib\\site-packages\\sqlalchemy\\pool\\base.py:390\u001b[0m, in \u001b[0;36mPool._create_connection\u001b[1;34m(self)\u001b[0m\n\u001b[0;32m    388\u001b[0m \u001b[38;5;250m\u001b[39m\u001b[38;5;124;03m\"\"\"Called by subclasses to create a new ConnectionRecord.\"\"\"\u001b[39;00m\n\u001b[1;32m--> 390\u001b[0m \u001b[38;5;28;01mreturn\u001b[39;00m \u001b[43m_ConnectionRecord\u001b[49m\u001b[43m(\u001b[49m\u001b[38;5;28;43mself\u001b[39;49m\u001b[43m)\u001b[49m\n",
      "File \u001b[1;32mc:\\Users\\trishjam\\Documents\\trishjam\\projects\\05-nasa\\code\\nasa-core-solution-services\\components\\llm_service\\.v1\\Lib\\site-packages\\sqlalchemy\\pool\\base.py:674\u001b[0m, in \u001b[0;36m_ConnectionRecord.__init__\u001b[1;34m(self, pool, connect)\u001b[0m\n\u001b[0;32m    673\u001b[0m \u001b[38;5;28;01mif\u001b[39;00m connect:\n\u001b[1;32m--> 674\u001b[0m     \u001b[38;5;28;43mself\u001b[39;49m\u001b[38;5;241;43m.\u001b[39;49m\u001b[43m__connect\u001b[49m\u001b[43m(\u001b[49m\u001b[43m)\u001b[49m\n\u001b[0;32m    675\u001b[0m \u001b[38;5;28mself\u001b[39m\u001b[38;5;241m.\u001b[39mfinalize_callback \u001b[38;5;241m=\u001b[39m deque()\n",
      "File \u001b[1;32mc:\\Users\\trishjam\\Documents\\trishjam\\projects\\05-nasa\\code\\nasa-core-solution-services\\components\\llm_service\\.v1\\Lib\\site-packages\\sqlalchemy\\pool\\base.py:900\u001b[0m, in \u001b[0;36m_ConnectionRecord.__connect\u001b[1;34m(self)\u001b[0m\n\u001b[0;32m    899\u001b[0m \u001b[38;5;28;01mexcept\u001b[39;00m \u001b[38;5;167;01mBaseException\u001b[39;00m \u001b[38;5;28;01mas\u001b[39;00m e:\n\u001b[1;32m--> 900\u001b[0m \u001b[43m    \u001b[49m\u001b[38;5;28;43;01mwith\u001b[39;49;00m\u001b[43m \u001b[49m\u001b[43mutil\u001b[49m\u001b[38;5;241;43m.\u001b[39;49m\u001b[43msafe_reraise\u001b[49m\u001b[43m(\u001b[49m\u001b[43m)\u001b[49m\u001b[43m:\u001b[49m\n\u001b[0;32m    901\u001b[0m \u001b[43m        \u001b[49m\u001b[43mpool\u001b[49m\u001b[38;5;241;43m.\u001b[39;49m\u001b[43mlogger\u001b[49m\u001b[38;5;241;43m.\u001b[39;49m\u001b[43mdebug\u001b[49m\u001b[43m(\u001b[49m\u001b[38;5;124;43m\"\u001b[39;49m\u001b[38;5;124;43mError on connect(): \u001b[39;49m\u001b[38;5;132;43;01m%s\u001b[39;49;00m\u001b[38;5;124;43m\"\u001b[39;49m\u001b[43m,\u001b[49m\u001b[43m \u001b[49m\u001b[43me\u001b[49m\u001b[43m)\u001b[49m\n",
      "File \u001b[1;32mc:\\Users\\trishjam\\Documents\\trishjam\\projects\\05-nasa\\code\\nasa-core-solution-services\\components\\llm_service\\.v1\\Lib\\site-packages\\sqlalchemy\\util\\langhelpers.py:146\u001b[0m, in \u001b[0;36msafe_reraise.__exit__\u001b[1;34m(self, type_, value, traceback)\u001b[0m\n\u001b[0;32m    145\u001b[0m     \u001b[38;5;28mself\u001b[39m\u001b[38;5;241m.\u001b[39m_exc_info \u001b[38;5;241m=\u001b[39m \u001b[38;5;28;01mNone\u001b[39;00m  \u001b[38;5;66;03m# remove potential circular references\u001b[39;00m\n\u001b[1;32m--> 146\u001b[0m     \u001b[38;5;28;01mraise\u001b[39;00m exc_value\u001b[38;5;241m.\u001b[39mwith_traceback(exc_tb)\n\u001b[0;32m    147\u001b[0m \u001b[38;5;28;01melse\u001b[39;00m:\n",
      "File \u001b[1;32mc:\\Users\\trishjam\\Documents\\trishjam\\projects\\05-nasa\\code\\nasa-core-solution-services\\components\\llm_service\\.v1\\Lib\\site-packages\\sqlalchemy\\pool\\base.py:896\u001b[0m, in \u001b[0;36m_ConnectionRecord.__connect\u001b[1;34m(self)\u001b[0m\n\u001b[0;32m    895\u001b[0m \u001b[38;5;28mself\u001b[39m\u001b[38;5;241m.\u001b[39mstarttime \u001b[38;5;241m=\u001b[39m time\u001b[38;5;241m.\u001b[39mtime()\n\u001b[1;32m--> 896\u001b[0m \u001b[38;5;28mself\u001b[39m\u001b[38;5;241m.\u001b[39mdbapi_connection \u001b[38;5;241m=\u001b[39m connection \u001b[38;5;241m=\u001b[39m \u001b[43mpool\u001b[49m\u001b[38;5;241;43m.\u001b[39;49m\u001b[43m_invoke_creator\u001b[49m\u001b[43m(\u001b[49m\u001b[38;5;28;43mself\u001b[39;49m\u001b[43m)\u001b[49m\n\u001b[0;32m    897\u001b[0m pool\u001b[38;5;241m.\u001b[39mlogger\u001b[38;5;241m.\u001b[39mdebug(\u001b[38;5;124m\"\u001b[39m\u001b[38;5;124mCreated new connection \u001b[39m\u001b[38;5;132;01m%r\u001b[39;00m\u001b[38;5;124m\"\u001b[39m, connection)\n",
      "File \u001b[1;32mc:\\Users\\trishjam\\Documents\\trishjam\\projects\\05-nasa\\code\\nasa-core-solution-services\\components\\llm_service\\.v1\\Lib\\site-packages\\sqlalchemy\\engine\\create.py:643\u001b[0m, in \u001b[0;36mcreate_engine.<locals>.connect\u001b[1;34m(connection_record)\u001b[0m\n\u001b[0;32m    641\u001b[0m             \u001b[38;5;28;01mreturn\u001b[39;00m connection\n\u001b[1;32m--> 643\u001b[0m \u001b[38;5;28;01mreturn\u001b[39;00m \u001b[43mdialect\u001b[49m\u001b[38;5;241;43m.\u001b[39;49m\u001b[43mconnect\u001b[49m\u001b[43m(\u001b[49m\u001b[38;5;241;43m*\u001b[39;49m\u001b[43mcargs\u001b[49m\u001b[43m,\u001b[49m\u001b[43m \u001b[49m\u001b[38;5;241;43m*\u001b[39;49m\u001b[38;5;241;43m*\u001b[39;49m\u001b[43mcparams\u001b[49m\u001b[43m)\u001b[49m\n",
      "File \u001b[1;32mc:\\Users\\trishjam\\Documents\\trishjam\\projects\\05-nasa\\code\\nasa-core-solution-services\\components\\llm_service\\.v1\\Lib\\site-packages\\sqlalchemy\\engine\\default.py:620\u001b[0m, in \u001b[0;36mDefaultDialect.connect\u001b[1;34m(self, *cargs, **cparams)\u001b[0m\n\u001b[0;32m    618\u001b[0m \u001b[38;5;28;01mdef\u001b[39;00m \u001b[38;5;21mconnect\u001b[39m(\u001b[38;5;28mself\u001b[39m, \u001b[38;5;241m*\u001b[39mcargs, \u001b[38;5;241m*\u001b[39m\u001b[38;5;241m*\u001b[39mcparams):\n\u001b[0;32m    619\u001b[0m     \u001b[38;5;66;03m# inherits the docstring from interfaces.Dialect.connect\u001b[39;00m\n\u001b[1;32m--> 620\u001b[0m     \u001b[38;5;28;01mreturn\u001b[39;00m \u001b[38;5;28;43mself\u001b[39;49m\u001b[38;5;241;43m.\u001b[39;49m\u001b[43mloaded_dbapi\u001b[49m\u001b[38;5;241;43m.\u001b[39;49m\u001b[43mconnect\u001b[49m\u001b[43m(\u001b[49m\u001b[38;5;241;43m*\u001b[39;49m\u001b[43mcargs\u001b[49m\u001b[43m,\u001b[49m\u001b[43m \u001b[49m\u001b[38;5;241;43m*\u001b[39;49m\u001b[38;5;241;43m*\u001b[39;49m\u001b[43mcparams\u001b[49m\u001b[43m)\u001b[49m\n",
      "File \u001b[1;32mc:\\Users\\trishjam\\Documents\\trishjam\\projects\\05-nasa\\code\\nasa-core-solution-services\\components\\llm_service\\.v1\\Lib\\site-packages\\psycopg2\\__init__.py:122\u001b[0m, in \u001b[0;36mconnect\u001b[1;34m(dsn, connection_factory, cursor_factory, **kwargs)\u001b[0m\n\u001b[0;32m    121\u001b[0m dsn \u001b[38;5;241m=\u001b[39m _ext\u001b[38;5;241m.\u001b[39mmake_dsn(dsn, \u001b[38;5;241m*\u001b[39m\u001b[38;5;241m*\u001b[39mkwargs)\n\u001b[1;32m--> 122\u001b[0m conn \u001b[38;5;241m=\u001b[39m \u001b[43m_connect\u001b[49m\u001b[43m(\u001b[49m\u001b[43mdsn\u001b[49m\u001b[43m,\u001b[49m\u001b[43m \u001b[49m\u001b[43mconnection_factory\u001b[49m\u001b[38;5;241;43m=\u001b[39;49m\u001b[43mconnection_factory\u001b[49m\u001b[43m,\u001b[49m\u001b[43m \u001b[49m\u001b[38;5;241;43m*\u001b[39;49m\u001b[38;5;241;43m*\u001b[39;49m\u001b[43mkwasync\u001b[49m\u001b[43m)\u001b[49m\n\u001b[0;32m    123\u001b[0m \u001b[38;5;28;01mif\u001b[39;00m cursor_factory \u001b[38;5;129;01mis\u001b[39;00m \u001b[38;5;129;01mnot\u001b[39;00m \u001b[38;5;28;01mNone\u001b[39;00m:\n",
      "\u001b[1;31mOperationalError\u001b[0m: (psycopg2.OperationalError) could not translate host name \"None\" to address: No such host is known. \n\n(Background on this error at: https://sqlalche.me/e/20/e3q8)",
      "\nThe above exception was the direct cause of the following exception:\n",
      "\u001b[1;31mException\u001b[0m                                 Traceback (most recent call last)",
      "Cell \u001b[1;32mIn[21], line 1\u001b[0m\n\u001b[1;32m----> 1\u001b[0m ret \u001b[38;5;241m=\u001b[39m \u001b[38;5;28;01mawait\u001b[39;00m query_service\u001b[38;5;241m.\u001b[39mretrieve_references(PROMPT, qe, USER_ID, ROLES)\n",
      "File \u001b[1;32mc:\\Users\\trishjam\\Documents\\trishjam\\projects\\05-nasa\\code\\nasa-core-solution-services\\components\\llm_service\\notebooks\\../src\\services\\query\\query_service.py:291\u001b[0m, in \u001b[0;36mretrieve_references\u001b[1;34m(prompt, q_engine, user_id, roles, rank_sentences, query_filter)\u001b[0m\n\u001b[0;32m    287\u001b[0m     query_references \u001b[38;5;241m+\u001b[39m\u001b[38;5;241m=\u001b[39m child_query_references\n\u001b[0;32m    288\u001b[0m \u001b[38;5;28;01melif\u001b[39;00m q_engine\u001b[38;5;241m.\u001b[39mquery_engine_type \u001b[38;5;241m==\u001b[39m QE_TYPE_LLM_SERVICE \u001b[38;5;129;01mor\u001b[39;00m \\\n\u001b[0;32m    289\u001b[0m     \u001b[38;5;129;01mnot\u001b[39;00m q_engine\u001b[38;5;241m.\u001b[39mquery_engine_type:\n\u001b[0;32m    290\u001b[0m   \u001b[38;5;66;03m# default if type is not set to llm service query\u001b[39;00m\n\u001b[1;32m--> 291\u001b[0m   query_references \u001b[38;5;241m=\u001b[39m \u001b[38;5;28;01mawait\u001b[39;00m query_search(q_engine, prompt,\n\u001b[0;32m    292\u001b[0m                                         rank_sentences, query_filter)\n\u001b[0;32m    293\u001b[0m \u001b[38;5;28;01mreturn\u001b[39;00m query_references\n",
      "File \u001b[1;32mc:\\Users\\trishjam\\Documents\\trishjam\\projects\\05-nasa\\code\\nasa-core-solution-services\\components\\llm_service\\notebooks\\../src\\services\\query\\query_service.py:321\u001b[0m, in \u001b[0;36mquery_search\u001b[1;34m(q_engine, query_prompt, roles, rank_sentences, query_filter)\u001b[0m\n\u001b[0;32m    318\u001b[0m query_embedding \u001b[38;5;241m=\u001b[39m query_embeddings[\u001b[38;5;241m0\u001b[39m]\n\u001b[0;32m    320\u001b[0m \u001b[38;5;66;03m# retrieve indexes of relevant document chunks from vector store\u001b[39;00m\n\u001b[1;32m--> 321\u001b[0m qe_vector_store \u001b[38;5;241m=\u001b[39m \u001b[43mvector_store_from_query_engine\u001b[49m\u001b[43m(\u001b[49m\u001b[43mq_engine\u001b[49m\u001b[43m)\u001b[49m\n\u001b[0;32m    322\u001b[0m match_indexes_list \u001b[38;5;241m=\u001b[39m qe_vector_store\u001b[38;5;241m.\u001b[39msimilarity_search(q_engine,\n\u001b[0;32m    323\u001b[0m                                                        query_embedding,\n\u001b[0;32m    324\u001b[0m                                                        query_filter)\n\u001b[0;32m    325\u001b[0m query_references \u001b[38;5;241m=\u001b[39m []\n",
      "File \u001b[1;32mc:\\Users\\trishjam\\Documents\\trishjam\\projects\\05-nasa\\code\\nasa-core-solution-services\\components\\llm_service\\notebooks\\../src\\services\\query\\query_service.py:867\u001b[0m, in \u001b[0;36mvector_store_from_query_engine\u001b[1;34m(q_engine)\u001b[0m\n\u001b[0;32m    863\u001b[0m \u001b[38;5;28;01mif\u001b[39;00m qe_vector_store_class \u001b[38;5;129;01mis\u001b[39;00m \u001b[38;5;28;01mNone\u001b[39;00m:\n\u001b[0;32m    864\u001b[0m   \u001b[38;5;28;01mraise\u001b[39;00m InternalServerError(\n\u001b[0;32m    865\u001b[0m      \u001b[38;5;124mf\u001b[39m\u001b[38;5;124m\"\u001b[39m\u001b[38;5;124mvector store class \u001b[39m\u001b[38;5;132;01m{\u001b[39;00mqe_vector_store_type\u001b[38;5;132;01m}\u001b[39;00m\u001b[38;5;124m not found in config\u001b[39m\u001b[38;5;124m\"\u001b[39m)\n\u001b[1;32m--> 867\u001b[0m qe_vector_store \u001b[38;5;241m=\u001b[39m \u001b[43mqe_vector_store_class\u001b[49m\u001b[43m(\u001b[49m\u001b[43mq_engine\u001b[49m\u001b[43m,\u001b[49m\u001b[43m \u001b[49m\u001b[43mq_engine\u001b[49m\u001b[38;5;241;43m.\u001b[39;49m\u001b[43membedding_type\u001b[49m\u001b[43m)\u001b[49m\n\u001b[0;32m    868\u001b[0m \u001b[38;5;28;01mreturn\u001b[39;00m qe_vector_store\n",
      "File \u001b[1;32mc:\\Users\\trishjam\\Documents\\trishjam\\projects\\05-nasa\\code\\nasa-core-solution-services\\components\\llm_service\\notebooks\\../src\\services\\query\\vector_store.py:395\u001b[0m, in \u001b[0;36mLangChainVectorStore.__init__\u001b[1;34m(self, q_engine, embedding_type)\u001b[0m\n\u001b[0;32m    393\u001b[0m \u001b[38;5;28;01mdef\u001b[39;00m \u001b[38;5;21m__init__\u001b[39m(\u001b[38;5;28mself\u001b[39m, q_engine: QueryEngine, embedding_type: \u001b[38;5;28mstr\u001b[39m \u001b[38;5;241m=\u001b[39m \u001b[38;5;28;01mNone\u001b[39;00m) \u001b[38;5;241m-\u001b[39m\u001b[38;5;241m>\u001b[39m \u001b[38;5;28;01mNone\u001b[39;00m:\n\u001b[0;32m    394\u001b[0m   \u001b[38;5;28msuper\u001b[39m()\u001b[38;5;241m.\u001b[39m\u001b[38;5;21m__init__\u001b[39m(q_engine, embedding_type)\n\u001b[1;32m--> 395\u001b[0m   \u001b[38;5;28mself\u001b[39m\u001b[38;5;241m.\u001b[39mlc_vector_store \u001b[38;5;241m=\u001b[39m \u001b[38;5;28;43mself\u001b[39;49m\u001b[38;5;241;43m.\u001b[39;49m\u001b[43m_get_langchain_vector_store\u001b[49m\u001b[43m(\u001b[49m\u001b[43m)\u001b[49m\n\u001b[0;32m    396\u001b[0m   \u001b[38;5;28mself\u001b[39m\u001b[38;5;241m.\u001b[39mindex_length \u001b[38;5;241m=\u001b[39m \u001b[38;5;241m0\u001b[39m\n",
      "File \u001b[1;32mc:\\Users\\trishjam\\Documents\\trishjam\\projects\\05-nasa\\code\\nasa-core-solution-services\\components\\llm_service\\notebooks\\../src\\services\\query\\vector_store.py:565\u001b[0m, in \u001b[0;36mPostgresVectorStore._get_langchain_vector_store\u001b[1;34m(self)\u001b[0m\n\u001b[0;32m    562\u001b[0m collection_name \u001b[38;5;241m=\u001b[39m \u001b[38;5;28mself\u001b[39m\u001b[38;5;241m.\u001b[39mq_engine\u001b[38;5;241m.\u001b[39mname\n\u001b[0;32m    564\u001b[0m \u001b[38;5;66;03m# instantiate the langchain vector store object\u001b[39;00m\n\u001b[1;32m--> 565\u001b[0m langchain_vector_store \u001b[38;5;241m=\u001b[39m \u001b[43mLLMServicePGVector\u001b[49m\u001b[43m(\u001b[49m\n\u001b[0;32m    566\u001b[0m \u001b[43m    \u001b[49m\u001b[43membedding_function\u001b[49m\u001b[38;5;241;43m=\u001b[39;49m\u001b[43membeddings\u001b[49m\u001b[38;5;241;43m.\u001b[39;49m\u001b[43mLangchainEmbeddings\u001b[49m\u001b[43m,\u001b[49m\n\u001b[0;32m    567\u001b[0m \u001b[43m    \u001b[49m\u001b[43mconnection_string\u001b[49m\u001b[38;5;241;43m=\u001b[39;49m\u001b[43mconnection_string\u001b[49m\u001b[43m,\u001b[49m\n\u001b[0;32m    568\u001b[0m \u001b[43m    \u001b[49m\u001b[43mcollection_name\u001b[49m\u001b[38;5;241;43m=\u001b[39;49m\u001b[43mcollection_name\u001b[49m\n\u001b[0;32m    569\u001b[0m \u001b[43m    \u001b[49m\u001b[43m)\u001b[49m\n\u001b[0;32m    571\u001b[0m \u001b[38;5;28;01mreturn\u001b[39;00m langchain_vector_store\n",
      "File \u001b[1;32mc:\\Users\\trishjam\\Documents\\trishjam\\projects\\05-nasa\\code\\nasa-core-solution-services\\components\\llm_service\\.v1\\Lib\\site-packages\\langchain_core\\_api\\deprecation.py:183\u001b[0m, in \u001b[0;36mdeprecated.<locals>.deprecate.<locals>.finalize.<locals>.warn_if_direct_instance\u001b[1;34m(self, *args, **kwargs)\u001b[0m\n\u001b[0;32m    181\u001b[0m     warned \u001b[38;5;241m=\u001b[39m \u001b[38;5;28;01mTrue\u001b[39;00m\n\u001b[0;32m    182\u001b[0m     emit_warning()\n\u001b[1;32m--> 183\u001b[0m \u001b[38;5;28;01mreturn\u001b[39;00m \u001b[43mwrapped\u001b[49m\u001b[43m(\u001b[49m\u001b[38;5;28;43mself\u001b[39;49m\u001b[43m,\u001b[49m\u001b[43m \u001b[49m\u001b[38;5;241;43m*\u001b[39;49m\u001b[43margs\u001b[49m\u001b[43m,\u001b[49m\u001b[43m \u001b[49m\u001b[38;5;241;43m*\u001b[39;49m\u001b[38;5;241;43m*\u001b[39;49m\u001b[43mkwargs\u001b[49m\u001b[43m)\u001b[49m\n",
      "File \u001b[1;32mc:\\Users\\trishjam\\Documents\\trishjam\\projects\\05-nasa\\code\\nasa-core-solution-services\\components\\llm_service\\.v1\\Lib\\site-packages\\langchain_community\\vectorstores\\pgvector.py:341\u001b[0m, in \u001b[0;36mPGVector.__init__\u001b[1;34m(self, connection_string, embedding_function, embedding_length, collection_name, collection_metadata, distance_strategy, pre_delete_collection, logger, relevance_score_fn, connection, engine_args, use_jsonb, create_extension)\u001b[0m\n\u001b[0;32m    320\u001b[0m \u001b[38;5;28;01mif\u001b[39;00m \u001b[38;5;129;01mnot\u001b[39;00m use_jsonb:\n\u001b[0;32m    321\u001b[0m     \u001b[38;5;66;03m# Replace with a deprecation warning.\u001b[39;00m\n\u001b[0;32m    322\u001b[0m     warn_deprecated(\n\u001b[0;32m    323\u001b[0m         \u001b[38;5;124m\"\u001b[39m\u001b[38;5;124m0.0.29\u001b[39m\u001b[38;5;124m\"\u001b[39m,\n\u001b[0;32m    324\u001b[0m         pending\u001b[38;5;241m=\u001b[39m\u001b[38;5;28;01mTrue\u001b[39;00m,\n\u001b[1;32m   (...)\u001b[0m\n\u001b[0;32m    339\u001b[0m         ),\n\u001b[0;32m    340\u001b[0m     )\n\u001b[1;32m--> 341\u001b[0m \u001b[38;5;28;43mself\u001b[39;49m\u001b[38;5;241;43m.\u001b[39;49m\u001b[43m__post_init__\u001b[49m\u001b[43m(\u001b[49m\u001b[43m)\u001b[49m\n",
      "File \u001b[1;32mc:\\Users\\trishjam\\Documents\\trishjam\\projects\\05-nasa\\code\\nasa-core-solution-services\\components\\llm_service\\.v1\\Lib\\site-packages\\langchain_community\\vectorstores\\pgvector.py:348\u001b[0m, in \u001b[0;36mPGVector.__post_init__\u001b[1;34m(self)\u001b[0m\n\u001b[0;32m    346\u001b[0m \u001b[38;5;250m\u001b[39m\u001b[38;5;124;03m\"\"\"Initialize the store.\"\"\"\u001b[39;00m\n\u001b[0;32m    347\u001b[0m \u001b[38;5;28;01mif\u001b[39;00m \u001b[38;5;28mself\u001b[39m\u001b[38;5;241m.\u001b[39mcreate_extension:\n\u001b[1;32m--> 348\u001b[0m     \u001b[38;5;28;43mself\u001b[39;49m\u001b[38;5;241;43m.\u001b[39;49m\u001b[43mcreate_vector_extension\u001b[49m\u001b[43m(\u001b[49m\u001b[43m)\u001b[49m\n\u001b[0;32m    350\u001b[0m EmbeddingStore, CollectionStore \u001b[38;5;241m=\u001b[39m _get_embedding_collection_store(\n\u001b[0;32m    351\u001b[0m     \u001b[38;5;28mself\u001b[39m\u001b[38;5;241m.\u001b[39m_embedding_length, use_jsonb\u001b[38;5;241m=\u001b[39m\u001b[38;5;28mself\u001b[39m\u001b[38;5;241m.\u001b[39muse_jsonb\n\u001b[0;32m    352\u001b[0m )\n\u001b[0;32m    353\u001b[0m \u001b[38;5;28mself\u001b[39m\u001b[38;5;241m.\u001b[39mCollectionStore \u001b[38;5;241m=\u001b[39m CollectionStore\n",
      "File \u001b[1;32mc:\\Users\\trishjam\\Documents\\trishjam\\projects\\05-nasa\\code\\nasa-core-solution-services\\components\\llm_service\\.v1\\Lib\\site-packages\\langchain_community\\vectorstores\\pgvector.py:386\u001b[0m, in \u001b[0;36mPGVector.create_vector_extension\u001b[1;34m(self)\u001b[0m\n\u001b[0;32m    384\u001b[0m         session\u001b[38;5;241m.\u001b[39mcommit()\n\u001b[0;32m    385\u001b[0m \u001b[38;5;28;01mexcept\u001b[39;00m \u001b[38;5;167;01mException\u001b[39;00m \u001b[38;5;28;01mas\u001b[39;00m e:\n\u001b[1;32m--> 386\u001b[0m     \u001b[38;5;28;01mraise\u001b[39;00m \u001b[38;5;167;01mException\u001b[39;00m(\u001b[38;5;124mf\u001b[39m\u001b[38;5;124m\"\u001b[39m\u001b[38;5;124mFailed to create vector extension: \u001b[39m\u001b[38;5;132;01m{\u001b[39;00me\u001b[38;5;132;01m}\u001b[39;00m\u001b[38;5;124m\"\u001b[39m) \u001b[38;5;28;01mfrom\u001b[39;00m \u001b[38;5;21;01me\u001b[39;00m\n",
      "\u001b[1;31mException\u001b[0m: Failed to create vector extension: (psycopg2.OperationalError) could not translate host name \"None\" to address: No such host is known. \n\n(Background on this error at: https://sqlalche.me/e/20/e3q8)"
     ]
    }
   ],
   "source": [
    "ret = await query_service.retrieve_references(PROMPT, qe, USER_ID, ROLES)"
   ]
  },
  {
   "cell_type": "code",
   "execution_count": null,
   "metadata": {},
   "outputs": [],
   "source": []
  }
 ],
 "metadata": {
  "kernelspec": {
   "display_name": ".v1",
   "language": "python",
   "name": "python3"
  },
  "language_info": {
   "codemirror_mode": {
    "name": "ipython",
    "version": 3
   },
   "file_extension": ".py",
   "mimetype": "text/x-python",
   "name": "python",
   "nbconvert_exporter": "python",
   "pygments_lexer": "ipython3",
   "version": "3.11.7"
  }
 },
 "nbformat": 4,
 "nbformat_minor": 2
}
