{
 "cells": [
  {
   "cell_type": "markdown",
   "metadata": {},
   "source": [
    "## Install Firebase Admin SDK"
   ]
  },
  {
   "cell_type": "code",
   "execution_count": null,
   "metadata": {},
   "outputs": [],
   "source": [
    "# !pip install firebase-admin\n",
    "\n",
    "import firebase_admin.auth as auth\n",
    "# only need to do this once\n",
    "import firebase_admin\n",
    "default_app = firebase_admin.initialize_app()"
   ]
  },
  {
   "cell_type": "code",
   "execution_count": 111,
   "metadata": {},
   "outputs": [],
   "source": [
    "# Valid Firebase ID token received after sign in\n",
    "TOKEN = \\\n",
    "    \"eyJhbGciOiJSUzI1NiIsImtpZCI6ImRmOGIxNTFiY2Q5MGQ1YjMwMjBlNTNhMzYyZTRiMzA3NTYzMzdhNjEiLCJ0eXAiOiJKV1QifQ.eyJuYW1lIjoiVHJpY2lhIEphbWlzb24iLCJsZXZlbCI6MTIsImFjY2VzcyI6InJlYWQtb25seSIsImlzcyI6Imh0dHBzOi8vc2VjdXJldG9rZW4uZ29vZ2xlLmNvbS9uYXNhLWdlbmllLWRldiIsImF1ZCI6Im5hc2EtZ2VuaWUtZGV2IiwiYXV0aF90aW1lIjoxNzE4NDEzMjUxLCJ1c2VyX2lkIjoiQUVQTjNZem0yMFM0Z1N4ZEN3U0JIQ2VmZmJ2MSIsInN1YiI6IkFFUE4zWXptMjBTNGdTeGRDd1NCSENlZmZidjEiLCJpYXQiOjE3MTg0MTMyNTEsImV4cCI6MTcxODQxNjg1MSwiZW1haWwiOiJ0cmlzaGphbUBnb29nbGVwdWJsaWNzZWN0b3Iub25taWNyb3NvZnQuY29tIiwiZW1haWxfdmVyaWZpZWQiOmZhbHNlLCJmaXJlYmFzZSI6eyJpZGVudGl0aWVzIjp7Im1pY3Jvc29mdC5jb20iOlsiZjkyZWNjNDktODExMi00ZjE0LTgxNWEtMjk3ODEwOTY4ODYwIl0sImVtYWlsIjpbInRyaXNoamFtQGdvb2dsZXB1YmxpY3NlY3Rvci5vbm1pY3Jvc29mdC5jb20iXX0sInNpZ25faW5fcHJvdmlkZXIiOiJtaWNyb3NvZnQuY29tIn19.k6QlAkmIu8JMIZGUjd5yASNbhMPOUELK_uKcROzJ1W2y5bVKIcm-ZApgK_fxmyIS6VFztwBGwBiOZAhru-awEc7X3xYyI2TLezM7UwFdYsUu4KZVZqSbWuXGWZ5C6jQPJ3GqqjNOqSMkCqz29eTC7blfXzchjavd1mnJKKGS2CrNAp6nNy88vmyem3A0PvsZVe9bTlbJicg6-yyx2Vryi2V5vhIae-UGADvDo-MJUFv9ZKrtrquqQHSwSVA3dwNn_h3n0iuVp6zyBgHHY0pRr7frNOZhN5zmYPnfQIywWChk65PEs7hfNCjQil7XxlgehYer_Efd_vQm0osS_3T_BA\""
   ]
  },
  {
   "cell_type": "code",
   "execution_count": 103,
   "metadata": {},
   "outputs": [
    {
     "name": "stdout",
     "output_type": "stream",
     "text": [
      "{'name': 'Tricia Jamison', 'admin': True, 'level': 8, 'iss': 'https://securetoken.google.com/nasa-genie-dev', 'aud': 'nasa-genie-dev', 'auth_time': 1718407845, 'user_id': 'AEPN3Yzm20S4gSxdCwSBHCeffbv1', 'sub': 'AEPN3Yzm20S4gSxdCwSBHCeffbv1', 'iat': 1718407845, 'exp': 1718411445, 'email': 'trishjam@googlepublicsector.onmicrosoft.com', 'email_verified': False, 'firebase': {'identities': {'microsoft.com': ['f92ecc49-8112-4f14-815a-297810968860'], 'email': ['trishjam@googlepublicsector.onmicrosoft.com']}, 'sign_in_provider': 'microsoft.com'}, 'uid': 'AEPN3Yzm20S4gSxdCwSBHCeffbv1'}\n",
      "user_id  is AEPN3Yzm20S4gSxdCwSBHCeffbv1\n",
      "user email is trishjam@googlepublicsector.onmicrosoft.com\n"
     ]
    }
   ],
   "source": [
    "result = auth.verify_id_token(TOKEN)\n",
    "print(result)\n",
    "user_id = result['user_id']\n",
    "print(f\"user_id  is {user_id}\")\n",
    "user = auth.get_user(user_id)\n",
    "print(f\"user email is {user.email}\")"
   ]
  },
  {
   "cell_type": "code",
   "execution_count": 74,
   "metadata": {},
   "outputs": [],
   "source": [
    "def get_claims(user_id):\n",
    "    user = auth.get_user(user_id)\n",
    "    # The claims can be accessed on the user record.\n",
    "    if user.custom_claims:\n",
    "        print(user.custom_claims)\n",
    "        # print(user.custom_claims.get('level'))\n",
    "\n",
    "def set_claims(user_id, claims_obj):\n",
    "    auth.set_custom_user_claims(user_id, claims_obj)\n"
   ]
  },
  {
   "cell_type": "code",
   "execution_count": 75,
   "metadata": {},
   "outputs": [
    {
     "name": "stdout",
     "output_type": "stream",
     "text": [
      "{'admin': True, 'level': 8}\n",
      "{'level': 12}\n",
      "{'level': 12, 'access': 'read-only'}\n"
     ]
    }
   ],
   "source": [
    "get_claims(user_id)\n",
    "set_claims(user_id, {\"level\": 12})\n",
    "get_claims(user_id)\n",
    "set_claims(user_id, {\"level\": 12, \"access\": \"read-only\"})\n",
    "get_claims(user_id)\n"
   ]
  },
  {
   "cell_type": "code",
   "execution_count": 76,
   "metadata": {},
   "outputs": [
    {
     "name": "stdout",
     "output_type": "stream",
     "text": [
      "{'name': 'Tricia Jamison', 'admin': True, 'level': 8, 'iss': 'https://securetoken.google.com/nasa-genie-dev', 'aud': 'nasa-genie-dev', 'auth_time': 1718407845, 'user_id': 'AEPN3Yzm20S4gSxdCwSBHCeffbv1', 'sub': 'AEPN3Yzm20S4gSxdCwSBHCeffbv1', 'iat': 1718407845, 'exp': 1718411445, 'email': 'trishjam@googlepublicsector.onmicrosoft.com', 'email_verified': False, 'firebase': {'identities': {'microsoft.com': ['f92ecc49-8112-4f14-815a-297810968860'], 'email': ['trishjam@googlepublicsector.onmicrosoft.com']}, 'sign_in_provider': 'microsoft.com'}, 'uid': 'AEPN3Yzm20S4gSxdCwSBHCeffbv1'}\n",
      "{'level': 12, 'access': 'read-only'}\n"
     ]
    }
   ],
   "source": [
    "result = auth.verify_id_token(TOKEN)\n",
    "print(dict(result))\n",
    "get_claims(user_id)\n"
   ]
  },
  {
   "cell_type": "code",
   "execution_count": 40,
   "metadata": {},
   "outputs": [],
   "source": [
    "set_claims(user_id, {})\n",
    "get_claims(user_id)"
   ]
  },
  {
   "cell_type": "code",
   "execution_count": 77,
   "metadata": {},
   "outputs": [],
   "source": [
    "import base64\n",
    "import json\n",
    "\n",
    "def decode_credential(cred_str):\n",
    "    payload = cred_str.split('.')[1]\n",
    "    decoded_payload = base64.b64decode(payload)\n",
    "    token = json.loads(decoded_payload.decode())\n",
    "    return token\n"
   ]
  },
  {
   "cell_type": "markdown",
   "metadata": {},
   "source": [
    "## Microsoft token"
   ]
  },
  {
   "cell_type": "code",
   "execution_count": 112,
   "metadata": {},
   "outputs": [],
   "source": [
    "# valid MS ID token after logging in\n",
    "MS_TOKEN = \\\n",
    "    \"eyJ0eXAiOiJKV1QiLCJhbGciOiJSUzI1NiIsImtpZCI6InE3UDFOdnh1R1F3RE4yVGFpTW92alo4YVp3cyJ9.eyJhdWQiOiJiNzUzYmIzOS0wN2FlLTQ4MzgtOGQ4NC1mMTYzMDEyODAyOTciLCJpc3MiOiJodHRwczovL2xvZ2luLm1pY3Jvc29mdG9ubGluZS5jb20vZTJjY2NlYWUtMDZkOC00ZjZjLTg2MWEtZDAyOTJhNWZlMzJhL3YyLjAiLCJpYXQiOjE3MTg0MTI5NTEsIm5iZiI6MTcxODQxMjk1MSwiZXhwIjoxNzE4NDE2ODUxLCJhaW8iOiJBV1FBbS84WEFBQUFGbWI0NGVQMEs2dE1aY3ljcXdqcERkUUxGSDdsOXhFWGUzaitJTEZzbmxrUmdpWFgwbkVpUVlUMEUvZnJDM1h6T05SSkVOMUpXeS9wWVMwZktOWDZsL3Z1bXQxVXhQcjdZYmkwWVFFNG50ZTROajdLblFlZmh5WkpJMG5pOXAyVyIsImdyb3VwcyI6WyI0ZmMzZWQ5MC1kZmQ4LTQ4ZWEtYjEwOC1lN2U1ZDRlNGQyMzkiLCJlZTE2OGRkNC1lNTdjLTRlYTctYWFkNi0yZGU1ODAxZmZiNjUiXSwibmFtZSI6IlRyaWNpYSBKYW1pc29uIiwib2lkIjoiZjkyZWNjNDktODExMi00ZjE0LTgxNWEtMjk3ODEwOTY4ODYwIiwicHJlZmVycmVkX3VzZXJuYW1lIjoidHJpc2hqYW1AZ29vZ2xlcHVibGljc2VjdG9yLm9ubWljcm9zb2Z0LmNvbSIsInJoIjoiMC5BY29BcnM3TTR0Z0diRS1HR3RBcEtsX2pLam03VTdldUJ6aElqWVR4WXdFb0FwZjZBRTguIiwicm9sZXMiOlsiMyJdLCJzdWIiOiJjUnd2QnlHNUxyNzJOWU83WW9Cc3pmZHFkSXNxWWtEUnp2VVYyMDlQdmI4IiwidGlkIjoiZTJjY2NlYWUtMDZkOC00ZjZjLTg2MWEtZDAyOTJhNWZlMzJhIiwidXRpIjoiMk1DYkpkSFN2VS01NnY5VFZIZ1BBQSIsInZlciI6IjIuMCIsIndpZHMiOlsiMjkyMzJjZGYtOTMyMy00MmZkLWFkZTItMWQwOTdhZjNlNGRlIiwiNjJlOTAzOTQtNjlmNS00MjM3LTkxOTAtMDEyMTc3MTQ1ZTEwIiwiYjc5ZmJmNGQtM2VmOS00Njg5LTgxNDMtNzZiMTk0ZTg1NTA5Il19.MMcR5PLOspACmjhVVBjyyc2_BWqPMRx1eCEK4Sk9Tqxcpgt6GLqXjr26nFnpBofHnCfnzgsRjXpeLnsNpaKooLSEL_sundmAjt2L9iAIGeXEic-MHwbeD_QXIOkwfRSpD1yDonYDNdApeoNS0_5qOlB8HT3hxoSfzOkahObXp_Ws1J4LY1vH7qmgoACi4bWTNzjhdmSCg9RV2S2fbJim4zyUd-m7xaRkFmCkvoicFt2HXZn5d857uEcNMupN2Is3bKfsguKzM0bpaABpvrCyJza_t8SvQ5UJX74t1ZWkZd2SToVyvmW2CV-qD0IeEOIfEKDFvv37jNjB5fVayaFZWA\""
   ]
  },
  {
   "cell_type": "code",
   "execution_count": 142,
   "metadata": {},
   "outputs": [
    {
     "data": {
      "text/plain": [
       "{'name': 'Tricia Jamison',\n",
       " 'level': 12,\n",
       " 'access': 'read-only',\n",
       " 'iss': 'https://securetoken.google.com/nasa-genie-dev',\n",
       " 'aud': 'nasa-genie-dev',\n",
       " 'auth_time': 1718413251,\n",
       " 'user_id': 'AEPN3Yzm20S4gSxdCwSBHCeffbv1',\n",
       " 'sub': 'AEPN3Yzm20S4gSxdCwSBHCeffbv1',\n",
       " 'iat': 1718413251,\n",
       " 'exp': 1718416851,\n",
       " 'email': 'trishjam@googlepublicsector.onmicrosoft.com',\n",
       " 'email_verified': False,\n",
       " 'firebase': {'identities': {'microsoft.com': ['f92ecc49-8112-4f14-815a-297810968860'],\n",
       "   'email': ['trishjam@googlepublicsector.onmicrosoft.com']},\n",
       "  'sign_in_provider': 'microsoft.com'}}"
      ]
     },
     "execution_count": 142,
     "metadata": {},
     "output_type": "execute_result"
    }
   ],
   "source": [
    "decode_credential(TOKEN)"
   ]
  },
  {
   "cell_type": "code",
   "execution_count": 141,
   "metadata": {},
   "outputs": [
    {
     "data": {
      "text/plain": [
       "{'aud': 'b753bb39-07ae-4838-8d84-f16301280297',\n",
       " 'iss': 'https://login.microsoftonline.com/e2ccceae-06d8-4f6c-861a-d0292a5fe32a/v2.0',\n",
       " 'iat': 1718412951,\n",
       " 'nbf': 1718412951,\n",
       " 'exp': 1718416851,\n",
       " 'aio': 'AWQAm/8XAAAAFmb44eP0K6tMZcycqwjpDdQLFH7l9xEXe3j+ILFsnlkRgiXX0nEiQYT0E/frC3XzONRJEN1JWy/pYS0fKNX6l/vumt1UxPr7Ybi0YQE4nte4Nj7KnQefhyZJI0ni9p2W',\n",
       " 'groups': ['4fc3ed90-dfd8-48ea-b108-e7e5d4e4d239',\n",
       "  'ee168dd4-e57c-4ea7-aad6-2de5801ffb65'],\n",
       " 'name': 'Tricia Jamison',\n",
       " 'oid': 'f92ecc49-8112-4f14-815a-297810968860',\n",
       " 'preferred_username': 'trishjam@googlepublicsector.onmicrosoft.com',\n",
       " 'rh': '0.AcoArs7M4tgGbE-GGtApKl_jKjm7U7euBzhIjYTxYwEoApf6AE8.',\n",
       " 'roles': ['3'],\n",
       " 'sub': 'cRwvByG5Lr72NYO7YoBszfdqdIsqYkDRzvUV209Pvb8',\n",
       " 'tid': 'e2ccceae-06d8-4f6c-861a-d0292a5fe32a',\n",
       " 'uti': '2MCbJdHSvU-56v9TVHgPAA',\n",
       " 'ver': '2.0',\n",
       " 'wids': ['29232cdf-9323-42fd-ade2-1d097af3e4de',\n",
       "  '62e90394-69f5-4237-9190-012177145e10',\n",
       "  'b79fbf4d-3ef9-4689-8143-76b194e85509']}"
      ]
     },
     "execution_count": 141,
     "metadata": {},
     "output_type": "execute_result"
    }
   ],
   "source": [
    "decode_credential(MS_TOKEN)"
   ]
  },
  {
   "cell_type": "markdown",
   "metadata": {},
   "source": [
    "## Call authorize endpoint"
   ]
  },
  {
   "cell_type": "code",
   "execution_count": 135,
   "metadata": {},
   "outputs": [],
   "source": [
    "\n",
    "import requests\n",
    "\n",
    "api_endpoint = f\"https://nasa-genie-dev.cloudpssolutions.com/authentication/api/v1/sign-in/authorize?provider_id_token={MS_TOKEN}\"\n",
    "# api_endpoint = f\"https://nasa-genie-dev.cloudpssolutions.com/authentication/api/v1/sign-in/authorize\"\n",
    "headers = {\n",
    "    \"Content-Type\": \"application/json\",\n",
    "    \"Authorization\": f\"Bearer ${TOKEN}\"\n",
    "}\n",
    "res = requests.post(\n",
    "    url=api_endpoint,\n",
    "    headers=headers,\n",
    "    # data=json.dumps({'provider_id_token': MS_TOKEN}),\n",
    "    timeout=60\n",
    ")"
   ]
  },
  {
   "cell_type": "code",
   "execution_count": 136,
   "metadata": {},
   "outputs": [
    {
     "data": {
      "text/plain": [
       "<Response [200]>"
      ]
     },
     "execution_count": 136,
     "metadata": {},
     "output_type": "execute_result"
    }
   ],
   "source": [
    "res"
   ]
  },
  {
   "cell_type": "code",
   "execution_count": 132,
   "metadata": {},
   "outputs": [
    {
     "data": {
      "text/plain": [
       "'{\"provider_id_token\": \"eyJ0eXAiOiJKV1QiLCJhbGciOiJSUzI1NiIsImtpZCI6InE3UDFOdnh1R1F3RE4yVGFpTW92alo4YVp3cyJ9.eyJhdWQiOiJiNzUzYmIzOS0wN2FlLTQ4MzgtOGQ4NC1mMTYzMDEyODAyOTciLCJpc3MiOiJodHRwczovL2xvZ2luLm1pY3Jvc29mdG9ubGluZS5jb20vZTJjY2NlYWUtMDZkOC00ZjZjLTg2MWEtZDAyOTJhNWZlMzJhL3YyLjAiLCJpYXQiOjE3MTg0MTI5NTEsIm5iZiI6MTcxODQxMjk1MSwiZXhwIjoxNzE4NDE2ODUxLCJhaW8iOiJBV1FBbS84WEFBQUFGbWI0NGVQMEs2dE1aY3ljcXdqcERkUUxGSDdsOXhFWGUzaitJTEZzbmxrUmdpWFgwbkVpUVlUMEUvZnJDM1h6T05SSkVOMUpXeS9wWVMwZktOWDZsL3Z1bXQxVXhQcjdZYmkwWVFFNG50ZTROajdLblFlZmh5WkpJMG5pOXAyVyIsImdyb3VwcyI6WyI0ZmMzZWQ5MC1kZmQ4LTQ4ZWEtYjEwOC1lN2U1ZDRlNGQyMzkiLCJlZTE2OGRkNC1lNTdjLTRlYTctYWFkNi0yZGU1ODAxZmZiNjUiXSwibmFtZSI6IlRyaWNpYSBKYW1pc29uIiwib2lkIjoiZjkyZWNjNDktODExMi00ZjE0LTgxNWEtMjk3ODEwOTY4ODYwIiwicHJlZmVycmVkX3VzZXJuYW1lIjoidHJpc2hqYW1AZ29vZ2xlcHVibGljc2VjdG9yLm9ubWljcm9zb2Z0LmNvbSIsInJoIjoiMC5BY29BcnM3TTR0Z0diRS1HR3RBcEtsX2pLam03VTdldUJ6aElqWVR4WXdFb0FwZjZBRTguIiwicm9sZXMiOlsiMyJdLCJzdWIiOiJjUnd2QnlHNUxyNzJOWU83WW9Cc3pmZHFkSXNxWWtEUnp2VVYyMDlQdmI4IiwidGlkIjoiZTJjY2NlYWUtMDZkOC00ZjZjLTg2MWEtZDAyOTJhNWZlMzJhIiwidXRpIjoiMk1DYkpkSFN2VS01NnY5VFZIZ1BBQSIsInZlciI6IjIuMCIsIndpZHMiOlsiMjkyMzJjZGYtOTMyMy00MmZkLWFkZTItMWQwOTdhZjNlNGRlIiwiNjJlOTAzOTQtNjlmNS00MjM3LTkxOTAtMDEyMTc3MTQ1ZTEwIiwiYjc5ZmJmNGQtM2VmOS00Njg5LTgxNDMtNzZiMTk0ZTg1NTA5Il19.MMcR5PLOspACmjhVVBjyyc2_BWqPMRx1eCEK4Sk9Tqxcpgt6GLqXjr26nFnpBofHnCfnzgsRjXpeLnsNpaKooLSEL_sundmAjt2L9iAIGeXEic-MHwbeD_QXIOkwfRSpD1yDonYDNdApeoNS0_5qOlB8HT3hxoSfzOkahObXp_Ws1J4LY1vH7qmgoACi4bWTNzjhdmSCg9RV2S2fbJim4zyUd-m7xaRkFmCkvoicFt2HXZn5d857uEcNMupN2Is3bKfsguKzM0bpaABpvrCyJza_t8SvQ5UJX74t1ZWkZd2SToVyvmW2CV-qD0IeEOIfEKDFvv37jNjB5fVayaFZWA\"}'"
      ]
     },
     "execution_count": 132,
     "metadata": {},
     "output_type": "execute_result"
    }
   ],
   "source": [
    "json.dumps({'provider_id_token': MS_TOKEN})"
   ]
  },
  {
   "cell_type": "code",
   "execution_count": null,
   "metadata": {},
   "outputs": [],
   "source": []
  }
 ],
 "metadata": {
  "kernelspec": {
   "display_name": ".v1",
   "language": "python",
   "name": "python3"
  },
  "language_info": {
   "codemirror_mode": {
    "name": "ipython",
    "version": 3
   },
   "file_extension": ".py",
   "mimetype": "text/x-python",
   "name": "python",
   "nbconvert_exporter": "python",
   "pygments_lexer": "ipython3",
   "version": "3.11.7"
  }
 },
 "nbformat": 4,
 "nbformat_minor": 2
}
