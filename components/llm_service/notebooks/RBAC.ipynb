{
 "cells": [
  {
   "cell_type": "markdown",
   "metadata": {},
   "source": [
    "## Install Firebase Admin SDK"
   ]
  },
  {
   "cell_type": "code",
   "execution_count": 1,
   "metadata": {},
   "outputs": [],
   "source": [
    "# !pip install firebase-admin\n",
    "\n",
    "import firebase_admin.auth as auth\n",
    "# only need to do this once\n",
    "import firebase_admin\n",
    "default_app = firebase_admin.initialize_app()"
   ]
  },
  {
   "cell_type": "code",
   "execution_count": 3,
   "metadata": {},
   "outputs": [],
   "source": [
    "# Valid Firebase ID token received after sign in\n",
    "TOKEN = \\\n",
    "    \"eyJhbGciOiJSUzI1NiIsImtpZCI6ImRmOGIxNTFiY2Q5MGQ1YjMwMjBlNTNhMzYyZTRiMzA3NTYzMzdhNjEiLCJ0eXAiOiJKV1QifQ.eyJuYW1lIjoiVGVzdDEgTmFzYVVzZXIiLCJsZXZlbCI6MTIsImFjY2VzcyI6InJlYWQtb25seSIsImlzcyI6Imh0dHBzOi8vc2VjdXJldG9rZW4uZ29vZ2xlLmNvbS9uYXNhLWdlbmllLWRldiIsImF1ZCI6Im5hc2EtZ2VuaWUtZGV2IiwiYXV0aF90aW1lIjoxNzE4NDIwNDA5LCJ1c2VyX2lkIjoiY3pseDlydk14RFVmVVpQVWxQSFU5NWY0Y3N3MiIsInN1YiI6ImN6bHg5cnZNeERVZlVaUFVsUEhVOTVmNGNzdzIiLCJpYXQiOjE3MTg0MjA0MDksImV4cCI6MTcxODQyNDAwOSwiZW1haWwiOiJ0ZXN0MW5hc2F1c2VyQGdvb2dsZXB1YmxpY3NlY3Rvci5vbm1pY3Jvc29mdC5jb20iLCJlbWFpbF92ZXJpZmllZCI6ZmFsc2UsImZpcmViYXNlIjp7ImlkZW50aXRpZXMiOnsibWljcm9zb2Z0LmNvbSI6WyJjYTdjMGMxZC03ZTY1LTQzMTEtYjk2Yi1kN2U4YWUwMTcwOTkiXSwiZW1haWwiOlsidGVzdDFuYXNhdXNlckBnb29nbGVwdWJsaWNzZWN0b3Iub25taWNyb3NvZnQuY29tIl19LCJzaWduX2luX3Byb3ZpZGVyIjoibWljcm9zb2Z0LmNvbSJ9fQ.Yf65OGUgG9mjRbV9OvmdeuBKifNKpR3VIiGBurdyAXc9PAPHGlrdO5EqW7PdRtA0lJeOu6nARoj8eFUZ1-U1NtdKHKINR8rJcCcnKzFkQ-aE6i5BFoTKfAKdpV4k4qnlC0pV3e-QQ1zNlXOMi6BW1eWgxst4Ot0LizHyvJfenZAUcP7cH1-CgSCBra75n-wC5rprKxNKmkzYKaqydaZZHe8V5XIqLaJmbhVOt_DkbgrXBr-lCs32npSmWQzx5QrqCD2GPujnJRwiSWDq_FU05hscjblVvoH9d1WTkJUSRV29KgP6DrAls1blOCkK8EjcbIbKnUY6l8fB6-ecZ8GHNw\""
   ]
  },
  {
   "cell_type": "code",
   "execution_count": 2,
   "metadata": {},
   "outputs": [],
   "source": [
    "# valid MS ID token after logging in\n",
    "MS_TOKEN = \\\n",
    "    \"eyJ0eXAiOiJKV1QiLCJhbGciOiJSUzI1NiIsImtpZCI6InE3UDFOdnh1R1F3RE4yVGFpTW92alo4YVp3cyJ9.eyJhdWQiOiJiNzUzYmIzOS0wN2FlLTQ4MzgtOGQ4NC1mMTYzMDEyODAyOTciLCJpc3MiOiJodHRwczovL2xvZ2luLm1pY3Jvc29mdG9ubGluZS5jb20vZTJjY2NlYWUtMDZkOC00ZjZjLTg2MWEtZDAyOTJhNWZlMzJhL3YyLjAiLCJpYXQiOjE3MTg0MjAxMDgsIm5iZiI6MTcxODQyMDEwOCwiZXhwIjoxNzE4NDI0MDA4LCJhaW8iOiJBV1FBbS84WEFBQUF1R3F5d0xoMGMxREp5L2daYjBpWmJTdTNHWXJaaUFVNCtMc1Z6THl5TWRZYzlTaStycEFQK1FWRVFZTkk1b2tSdVJvTE9GdXFYdWhHL3RWQ2JlWnBYRC9ud2N1ZzJiQWhkQytneUYrRjlhZlFmeWFmaFlORGFza3NrbDhoazBlUSIsIm5hbWUiOiJUZXN0MSBOYXNhVXNlciIsIm9pZCI6ImNhN2MwYzFkLTdlNjUtNDMxMS1iOTZiLWQ3ZThhZTAxNzA5OSIsInByZWZlcnJlZF91c2VybmFtZSI6InRlc3QxbmFzYXVzZXJAZ29vZ2xlcHVibGljc2VjdG9yLm9ubWljcm9zb2Z0LmNvbSIsInJoIjoiMC5BY29BcnM3TTR0Z0diRS1HR3RBcEtsX2pLam03VTdldUJ6aElqWVR4WXdFb0FwZjZBQTguIiwicm9sZXMiOlsiMSJdLCJzdWIiOiJHOE9CV19GNFlqaDNOa0h4ZzdKTjA4NVMzMEE3eHRIVXBERDZ3VU5peC1VIiwidGlkIjoiZTJjY2NlYWUtMDZkOC00ZjZjLTg2MWEtZDAyOTJhNWZlMzJhIiwidXRpIjoiem9MUHRScXRNVS1XTEtaZDJITVlBQSIsInZlciI6IjIuMCIsIndpZHMiOlsiYjc5ZmJmNGQtM2VmOS00Njg5LTgxNDMtNzZiMTk0ZTg1NTA5Il19.qgozyUDD6aNniOn_5y7gSxVJHxzutjUxcYdN1AHtNinxEVPzfNz4WGv4j-bxSgHmTCJNWMNDi2pr_1jbJdVBMQsMaKBrPrAeWDZy3SNWlQ8XIKzvgb4An85r1waDtg2_-AhTWGFjkND_IUZo2FCE7kwxxmAv-GlRv1Tjy89LZcX23769RzCXnZXIEjxq_PMa-CrDwMzhlXmQLe5Uq1juxXm6zPWGhXF7soj8s3Q-TG6Huj2TwXCzS58Ryupzko-8sZuLVaw4iVn9_reOy2ryvWRBtSIpgbwzorjsz4eXlJUMULgi_X3IyHmzalgilBmQoJBjNIzJv68XqQ6pDTcdYg\""
   ]
  },
  {
   "cell_type": "code",
   "execution_count": 4,
   "metadata": {},
   "outputs": [
    {
     "name": "stdout",
     "output_type": "stream",
     "text": [
      "{'name': 'Test1 NasaUser', 'level': 12, 'access': 'read-only', 'iss': 'https://securetoken.google.com/nasa-genie-dev', 'aud': 'nasa-genie-dev', 'auth_time': 1718420409, 'user_id': 'czlx9rvMxDUfUZPUlPHU95f4csw2', 'sub': 'czlx9rvMxDUfUZPUlPHU95f4csw2', 'iat': 1718420409, 'exp': 1718424009, 'email': 'test1nasauser@googlepublicsector.onmicrosoft.com', 'email_verified': False, 'firebase': {'identities': {'microsoft.com': ['ca7c0c1d-7e65-4311-b96b-d7e8ae017099'], 'email': ['test1nasauser@googlepublicsector.onmicrosoft.com']}, 'sign_in_provider': 'microsoft.com'}, 'uid': 'czlx9rvMxDUfUZPUlPHU95f4csw2'}\n",
      "user_id  is czlx9rvMxDUfUZPUlPHU95f4csw2\n",
      "user email is test1nasauser@googlepublicsector.onmicrosoft.com\n"
     ]
    }
   ],
   "source": [
    "result = auth.verify_id_token(TOKEN)\n",
    "print(result)\n",
    "user_id = result['user_id']\n",
    "print(f\"user_id  is {user_id}\")\n",
    "user = auth.get_user(user_id)\n",
    "print(f\"user email is {user.email}\")"
   ]
  },
  {
   "cell_type": "code",
   "execution_count": 5,
   "metadata": {},
   "outputs": [],
   "source": [
    "def get_claims(user_id):\n",
    "    user = auth.get_user(user_id)\n",
    "    # The claims can be accessed on the user record.\n",
    "    if user.custom_claims:\n",
    "        print(user.custom_claims)\n",
    "        # print(user.custom_claims.get('level'))\n",
    "\n",
    "def set_claims(user_id, claims_obj):\n",
    "    auth.set_custom_user_claims(user_id, claims_obj)\n"
   ]
  },
  {
   "cell_type": "code",
   "execution_count": 6,
   "metadata": {},
   "outputs": [
    {
     "name": "stdout",
     "output_type": "stream",
     "text": [
      "{'level': 12, 'access': 'read-only'}\n",
      "{'level': 12}\n",
      "{'level': 12, 'access': 'read-only'}\n"
     ]
    }
   ],
   "source": [
    "get_claims(user_id)\n",
    "set_claims(user_id, {\"level\": 12})\n",
    "get_claims(user_id)\n",
    "set_claims(user_id, {\"level\": 12, \"access\": \"read-only\"})\n",
    "get_claims(user_id)\n"
   ]
  },
  {
   "cell_type": "code",
   "execution_count": 7,
   "metadata": {},
   "outputs": [
    {
     "name": "stdout",
     "output_type": "stream",
     "text": [
      "{'name': 'Test1 NasaUser', 'level': 12, 'access': 'read-only', 'iss': 'https://securetoken.google.com/nasa-genie-dev', 'aud': 'nasa-genie-dev', 'auth_time': 1718420409, 'user_id': 'czlx9rvMxDUfUZPUlPHU95f4csw2', 'sub': 'czlx9rvMxDUfUZPUlPHU95f4csw2', 'iat': 1718420409, 'exp': 1718424009, 'email': 'test1nasauser@googlepublicsector.onmicrosoft.com', 'email_verified': False, 'firebase': {'identities': {'microsoft.com': ['ca7c0c1d-7e65-4311-b96b-d7e8ae017099'], 'email': ['test1nasauser@googlepublicsector.onmicrosoft.com']}, 'sign_in_provider': 'microsoft.com'}, 'uid': 'czlx9rvMxDUfUZPUlPHU95f4csw2'}\n",
      "{'level': 12, 'access': 'read-only'}\n"
     ]
    }
   ],
   "source": [
    "result = auth.verify_id_token(TOKEN)\n",
    "print(dict(result))\n",
    "get_claims(user_id)\n"
   ]
  },
  {
   "cell_type": "code",
   "execution_count": 40,
   "metadata": {},
   "outputs": [],
   "source": [
    "set_claims(user_id, {})\n",
    "get_claims(user_id)"
   ]
  },
  {
   "cell_type": "code",
   "execution_count": 8,
   "metadata": {},
   "outputs": [],
   "source": [
    "import base64\n",
    "import json\n",
    "\n",
    "def decode_credential(cred_str):\n",
    "    payload = cred_str.split('.')[1]\n",
    "    decoded_payload = base64.b64decode(payload)\n",
    "    token = json.loads(decoded_payload.decode())\n",
    "    return token\n"
   ]
  },
  {
   "cell_type": "markdown",
   "metadata": {},
   "source": [
    "## Microsoft token"
   ]
  },
  {
   "cell_type": "code",
   "execution_count": 12,
   "metadata": {},
   "outputs": [
    {
     "ename": "Error",
     "evalue": "Incorrect padding",
     "output_type": "error",
     "traceback": [
      "\u001b[1;31m---------------------------------------------------------------------------\u001b[0m",
      "\u001b[1;31mError\u001b[0m                                     Traceback (most recent call last)",
      "Cell \u001b[1;32mIn[12], line 1\u001b[0m\n\u001b[1;32m----> 1\u001b[0m \u001b[43mdecode_credential\u001b[49m\u001b[43m(\u001b[49m\u001b[43mTOKEN\u001b[49m\u001b[43m)\u001b[49m\n",
      "Cell \u001b[1;32mIn[8], line 6\u001b[0m, in \u001b[0;36mdecode_credential\u001b[1;34m(cred_str)\u001b[0m\n\u001b[0;32m      4\u001b[0m \u001b[38;5;28;01mdef\u001b[39;00m \u001b[38;5;21mdecode_credential\u001b[39m(cred_str):\n\u001b[0;32m      5\u001b[0m     payload \u001b[38;5;241m=\u001b[39m cred_str\u001b[38;5;241m.\u001b[39msplit(\u001b[38;5;124m'\u001b[39m\u001b[38;5;124m.\u001b[39m\u001b[38;5;124m'\u001b[39m)[\u001b[38;5;241m1\u001b[39m]\n\u001b[1;32m----> 6\u001b[0m     decoded_payload \u001b[38;5;241m=\u001b[39m \u001b[43mbase64\u001b[49m\u001b[38;5;241;43m.\u001b[39;49m\u001b[43mb64decode\u001b[49m\u001b[43m(\u001b[49m\u001b[43mpayload\u001b[49m\u001b[43m)\u001b[49m\n\u001b[0;32m      7\u001b[0m     token \u001b[38;5;241m=\u001b[39m json\u001b[38;5;241m.\u001b[39mloads(decoded_payload\u001b[38;5;241m.\u001b[39mdecode())\n\u001b[0;32m      8\u001b[0m     \u001b[38;5;28;01mreturn\u001b[39;00m token\n",
      "File \u001b[1;32m~\\AppData\\Local\\Programs\\Python\\Python311\\Lib\\base64.py:88\u001b[0m, in \u001b[0;36mb64decode\u001b[1;34m(s, altchars, validate)\u001b[0m\n\u001b[0;32m     86\u001b[0m     \u001b[38;5;28;01massert\u001b[39;00m \u001b[38;5;28mlen\u001b[39m(altchars) \u001b[38;5;241m==\u001b[39m \u001b[38;5;241m2\u001b[39m, \u001b[38;5;28mrepr\u001b[39m(altchars)\n\u001b[0;32m     87\u001b[0m     s \u001b[38;5;241m=\u001b[39m s\u001b[38;5;241m.\u001b[39mtranslate(\u001b[38;5;28mbytes\u001b[39m\u001b[38;5;241m.\u001b[39mmaketrans(altchars, \u001b[38;5;124mb\u001b[39m\u001b[38;5;124m'\u001b[39m\u001b[38;5;124m+/\u001b[39m\u001b[38;5;124m'\u001b[39m))\n\u001b[1;32m---> 88\u001b[0m \u001b[38;5;28;01mreturn\u001b[39;00m binascii\u001b[38;5;241m.\u001b[39ma2b_base64(s, strict_mode\u001b[38;5;241m=\u001b[39mvalidate)\n",
      "\u001b[1;31mError\u001b[0m: Incorrect padding"
     ]
    }
   ],
   "source": [
    "decode_credential(TOKEN)"
   ]
  },
  {
   "cell_type": "code",
   "execution_count": 11,
   "metadata": {},
   "outputs": [
    {
     "data": {
      "text/plain": [
       "{'aud': 'b753bb39-07ae-4838-8d84-f16301280297',\n",
       " 'iss': 'https://login.microsoftonline.com/e2ccceae-06d8-4f6c-861a-d0292a5fe32a/v2.0',\n",
       " 'iat': 1718420108,\n",
       " 'nbf': 1718420108,\n",
       " 'exp': 1718424008,\n",
       " 'aio': 'AWQAm/8XAAAAuGqywLh0c1DJy/gZb0iZbSu3GYrZiAU4+LsVzLyyMdYc9Si+rpAP+QVEQYNI5okRuRoLOFuqXuhG/tVCbeZpXD/nwcug2bAhdC+gyF+F9afQfyafhYNDaskskl8hk0eQ',\n",
       " 'name': 'Test1 NasaUser',\n",
       " 'oid': 'ca7c0c1d-7e65-4311-b96b-d7e8ae017099',\n",
       " 'preferred_username': 'test1nasauser@googlepublicsector.onmicrosoft.com',\n",
       " 'rh': '0.AcoArs7M4tgGbE-GGtApKl_jKjm7U7euBzhIjYTxYwEoApf6AA8.',\n",
       " 'roles': ['1'],\n",
       " 'sub': 'G8OBW_F4Yjh3NkHxg7JN085S30A7xtHUpDD6wUNix-U',\n",
       " 'tid': 'e2ccceae-06d8-4f6c-861a-d0292a5fe32a',\n",
       " 'uti': 'zoLPtRqtMU-WLKZd2HMYAA',\n",
       " 'ver': '2.0',\n",
       " 'wids': ['b79fbf4d-3ef9-4689-8143-76b194e85509']}"
      ]
     },
     "execution_count": 11,
     "metadata": {},
     "output_type": "execute_result"
    }
   ],
   "source": [
    "decode_credential(MS_TOKEN)"
   ]
  },
  {
   "cell_type": "markdown",
   "metadata": {},
   "source": [
    "## Call authorize endpoint"
   ]
  },
  {
   "cell_type": "code",
   "execution_count": 143,
   "metadata": {},
   "outputs": [],
   "source": [
    "\n",
    "import requests\n",
    "\n",
    "api_endpoint = f\"https://nasa-genie-dev.cloudpssolutions.com/authentication/api/v1/sign-in/authorize?provider_id_token={MS_TOKEN}\"\n",
    "# api_endpoint = f\"https://nasa-genie-dev.cloudpssolutions.com/authentication/api/v1/sign-in/authorize\"\n",
    "headers = {\n",
    "    \"Content-Type\": \"application/json\",\n",
    "    \"Authorization\": f\"Bearer ${TOKEN}\"\n",
    "}\n",
    "res = requests.post(\n",
    "    url=api_endpoint,\n",
    "    headers=headers,\n",
    "    # data=json.dumps({'provider_id_token': MS_TOKEN}),\n",
    "    timeout=60\n",
    ")"
   ]
  },
  {
   "cell_type": "code",
   "execution_count": 144,
   "metadata": {},
   "outputs": [
    {
     "data": {
      "text/plain": [
       "<Response [500]>"
      ]
     },
     "execution_count": 144,
     "metadata": {},
     "output_type": "execute_result"
    }
   ],
   "source": [
    "res"
   ]
  },
  {
   "cell_type": "code",
   "execution_count": 132,
   "metadata": {},
   "outputs": [
    {
     "data": {
      "text/plain": [
       "'{\"provider_id_token\": \"eyJ0eXAiOiJKV1QiLCJhbGciOiJSUzI1NiIsImtpZCI6InE3UDFOdnh1R1F3RE4yVGFpTW92alo4YVp3cyJ9.eyJhdWQiOiJiNzUzYmIzOS0wN2FlLTQ4MzgtOGQ4NC1mMTYzMDEyODAyOTciLCJpc3MiOiJodHRwczovL2xvZ2luLm1pY3Jvc29mdG9ubGluZS5jb20vZTJjY2NlYWUtMDZkOC00ZjZjLTg2MWEtZDAyOTJhNWZlMzJhL3YyLjAiLCJpYXQiOjE3MTg0MTI5NTEsIm5iZiI6MTcxODQxMjk1MSwiZXhwIjoxNzE4NDE2ODUxLCJhaW8iOiJBV1FBbS84WEFBQUFGbWI0NGVQMEs2dE1aY3ljcXdqcERkUUxGSDdsOXhFWGUzaitJTEZzbmxrUmdpWFgwbkVpUVlUMEUvZnJDM1h6T05SSkVOMUpXeS9wWVMwZktOWDZsL3Z1bXQxVXhQcjdZYmkwWVFFNG50ZTROajdLblFlZmh5WkpJMG5pOXAyVyIsImdyb3VwcyI6WyI0ZmMzZWQ5MC1kZmQ4LTQ4ZWEtYjEwOC1lN2U1ZDRlNGQyMzkiLCJlZTE2OGRkNC1lNTdjLTRlYTctYWFkNi0yZGU1ODAxZmZiNjUiXSwibmFtZSI6IlRyaWNpYSBKYW1pc29uIiwib2lkIjoiZjkyZWNjNDktODExMi00ZjE0LTgxNWEtMjk3ODEwOTY4ODYwIiwicHJlZmVycmVkX3VzZXJuYW1lIjoidHJpc2hqYW1AZ29vZ2xlcHVibGljc2VjdG9yLm9ubWljcm9zb2Z0LmNvbSIsInJoIjoiMC5BY29BcnM3TTR0Z0diRS1HR3RBcEtsX2pLam03VTdldUJ6aElqWVR4WXdFb0FwZjZBRTguIiwicm9sZXMiOlsiMyJdLCJzdWIiOiJjUnd2QnlHNUxyNzJOWU83WW9Cc3pmZHFkSXNxWWtEUnp2VVYyMDlQdmI4IiwidGlkIjoiZTJjY2NlYWUtMDZkOC00ZjZjLTg2MWEtZDAyOTJhNWZlMzJhIiwidXRpIjoiMk1DYkpkSFN2VS01NnY5VFZIZ1BBQSIsInZlciI6IjIuMCIsIndpZHMiOlsiMjkyMzJjZGYtOTMyMy00MmZkLWFkZTItMWQwOTdhZjNlNGRlIiwiNjJlOTAzOTQtNjlmNS00MjM3LTkxOTAtMDEyMTc3MTQ1ZTEwIiwiYjc5ZmJmNGQtM2VmOS00Njg5LTgxNDMtNzZiMTk0ZTg1NTA5Il19.MMcR5PLOspACmjhVVBjyyc2_BWqPMRx1eCEK4Sk9Tqxcpgt6GLqXjr26nFnpBofHnCfnzgsRjXpeLnsNpaKooLSEL_sundmAjt2L9iAIGeXEic-MHwbeD_QXIOkwfRSpD1yDonYDNdApeoNS0_5qOlB8HT3hxoSfzOkahObXp_Ws1J4LY1vH7qmgoACi4bWTNzjhdmSCg9RV2S2fbJim4zyUd-m7xaRkFmCkvoicFt2HXZn5d857uEcNMupN2Is3bKfsguKzM0bpaABpvrCyJza_t8SvQ5UJX74t1ZWkZd2SToVyvmW2CV-qD0IeEOIfEKDFvv37jNjB5fVayaFZWA\"}'"
      ]
     },
     "execution_count": 132,
     "metadata": {},
     "output_type": "execute_result"
    }
   ],
   "source": [
    "json.dumps({'provider_id_token': MS_TOKEN})"
   ]
  },
  {
   "cell_type": "code",
   "execution_count": null,
   "metadata": {},
   "outputs": [],
   "source": []
  }
 ],
 "metadata": {
  "kernelspec": {
   "display_name": ".v1",
   "language": "python",
   "name": "python3"
  },
  "language_info": {
   "codemirror_mode": {
    "name": "ipython",
    "version": 3
   },
   "file_extension": ".py",
   "mimetype": "text/x-python",
   "name": "python",
   "nbconvert_exporter": "python",
   "pygments_lexer": "ipython3",
   "version": "3.11.7"
  }
 },
 "nbformat": 4,
 "nbformat_minor": 2
}
