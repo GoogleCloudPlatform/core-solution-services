{
 "cells": [
  {
   "cell_type": "markdown",
   "metadata": {},
   "source": [
    "## Install Firebase Admin SDK"
   ]
  },
  {
   "cell_type": "code",
   "execution_count": 83,
   "metadata": {},
   "outputs": [
    {
     "ename": "ValueError",
     "evalue": "The default Firebase app already exists. This means you called initialize_app() more than once without providing an app name as the second argument. In most cases you only need to call initialize_app() once. But if you do want to initialize multiple apps, pass a second argument to initialize_app() to give each app a unique name.",
     "output_type": "error",
     "traceback": [
      "\u001b[1;31m---------------------------------------------------------------------------\u001b[0m",
      "\u001b[1;31mValueError\u001b[0m                                Traceback (most recent call last)",
      "Cell \u001b[1;32mIn[83], line 6\u001b[0m\n\u001b[0;32m      4\u001b[0m \u001b[38;5;66;03m# only need to do this once\u001b[39;00m\n\u001b[0;32m      5\u001b[0m \u001b[38;5;28;01mimport\u001b[39;00m \u001b[38;5;21;01mfirebase_admin\u001b[39;00m\n\u001b[1;32m----> 6\u001b[0m default_app \u001b[38;5;241m=\u001b[39m \u001b[43mfirebase_admin\u001b[49m\u001b[38;5;241;43m.\u001b[39;49m\u001b[43minitialize_app\u001b[49m\u001b[43m(\u001b[49m\u001b[43m)\u001b[49m\n",
      "File \u001b[1;32mc:\\Users\\trishjam\\Documents\\trishjam\\projects\\05-nasa\\code\\nasa-core-solution-services\\components\\llm_service\\.v1\\Lib\\site-packages\\firebase_admin\\__init__.py:73\u001b[0m, in \u001b[0;36minitialize_app\u001b[1;34m(credential, options, name)\u001b[0m\n\u001b[0;32m     70\u001b[0m         \u001b[38;5;28;01mreturn\u001b[39;00m app\n\u001b[0;32m     72\u001b[0m \u001b[38;5;28;01mif\u001b[39;00m name \u001b[38;5;241m==\u001b[39m _DEFAULT_APP_NAME:\n\u001b[1;32m---> 73\u001b[0m     \u001b[38;5;28;01mraise\u001b[39;00m \u001b[38;5;167;01mValueError\u001b[39;00m((\n\u001b[0;32m     74\u001b[0m         \u001b[38;5;124m'\u001b[39m\u001b[38;5;124mThe default Firebase app already exists. This means you called \u001b[39m\u001b[38;5;124m'\u001b[39m\n\u001b[0;32m     75\u001b[0m         \u001b[38;5;124m'\u001b[39m\u001b[38;5;124minitialize_app() more than once without providing an app name as \u001b[39m\u001b[38;5;124m'\u001b[39m\n\u001b[0;32m     76\u001b[0m         \u001b[38;5;124m'\u001b[39m\u001b[38;5;124mthe second argument. In most cases you only need to call \u001b[39m\u001b[38;5;124m'\u001b[39m\n\u001b[0;32m     77\u001b[0m         \u001b[38;5;124m'\u001b[39m\u001b[38;5;124minitialize_app() once. But if you do want to initialize multiple \u001b[39m\u001b[38;5;124m'\u001b[39m\n\u001b[0;32m     78\u001b[0m         \u001b[38;5;124m'\u001b[39m\u001b[38;5;124mapps, pass a second argument to initialize_app() to give each app \u001b[39m\u001b[38;5;124m'\u001b[39m\n\u001b[0;32m     79\u001b[0m         \u001b[38;5;124m'\u001b[39m\u001b[38;5;124ma unique name.\u001b[39m\u001b[38;5;124m'\u001b[39m))\n\u001b[0;32m     81\u001b[0m \u001b[38;5;28;01mraise\u001b[39;00m \u001b[38;5;167;01mValueError\u001b[39;00m((\n\u001b[0;32m     82\u001b[0m     \u001b[38;5;124m'\u001b[39m\u001b[38;5;124mFirebase app named \u001b[39m\u001b[38;5;124m\"\u001b[39m\u001b[38;5;132;01m{0}\u001b[39;00m\u001b[38;5;124m\"\u001b[39m\u001b[38;5;124m already exists. This means you called \u001b[39m\u001b[38;5;124m'\u001b[39m\n\u001b[0;32m     83\u001b[0m     \u001b[38;5;124m'\u001b[39m\u001b[38;5;124minitialize_app() more than once with the same app name as the \u001b[39m\u001b[38;5;124m'\u001b[39m\n\u001b[0;32m     84\u001b[0m     \u001b[38;5;124m'\u001b[39m\u001b[38;5;124msecond argument. Make sure you provide a unique name every time \u001b[39m\u001b[38;5;124m'\u001b[39m\n\u001b[0;32m     85\u001b[0m     \u001b[38;5;124m'\u001b[39m\u001b[38;5;124myou call initialize_app().\u001b[39m\u001b[38;5;124m'\u001b[39m)\u001b[38;5;241m.\u001b[39mformat(name))\n",
      "\u001b[1;31mValueError\u001b[0m: The default Firebase app already exists. This means you called initialize_app() more than once without providing an app name as the second argument. In most cases you only need to call initialize_app() once. But if you do want to initialize multiple apps, pass a second argument to initialize_app() to give each app a unique name."
     ]
    }
   ],
   "source": [
    "# !pip install firebase-admin\n",
    "\n",
    "import firebase_admin.auth as auth\n",
    "# only need to do this once\n",
    "import firebase_admin\n",
    "default_app = firebase_admin.initialize_app()"
   ]
  },
  {
   "cell_type": "markdown",
   "metadata": {},
   "source": [
    "## Token inputs "
   ]
  },
  {
   "cell_type": "code",
   "execution_count": 69,
   "metadata": {},
   "outputs": [],
   "source": [
    "# Valid Firebase ID token received after sign in\n",
    "TOKEN = \\\n",
    "\"eyJhbGciOiJSUzI1NiIsImtpZCI6ImRmOGIxNTFiY2Q5MGQ1YjMwMjBlNTNhMzYyZTRiMzA3NTYzMzdhNjEiLCJ0eXAiOiJKV1QifQ.eyJuYW1lIjoiVHJpY2lhIEphbWlzb24iLCJsZXZlbCI6MTIsImFjY2VzcyI6InJlYWQtb25seSIsImlzcyI6Imh0dHBzOi8vc2VjdXJldG9rZW4uZ29vZ2xlLmNvbS9uYXNhLWdlbmllLWRldiIsImF1ZCI6Im5hc2EtZ2VuaWUtZGV2IiwiYXV0aF90aW1lIjoxNzE4NDc0MjYwLCJ1c2VyX2lkIjoiQUVQTjNZem0yMFM0Z1N4ZEN3U0JIQ2VmZmJ2MSIsInN1YiI6IkFFUE4zWXptMjBTNGdTeGRDd1NCSENlZmZidjEiLCJpYXQiOjE3MTg0NzQyNjAsImV4cCI6MTcxODQ3Nzg2MCwiZW1haWwiOiJ0cmlzaGphbUBnb29nbGVwdWJsaWNzZWN0b3Iub25taWNyb3NvZnQuY29tIiwiZW1haWxfdmVyaWZpZWQiOmZhbHNlLCJmaXJlYmFzZSI6eyJpZGVudGl0aWVzIjp7Im1pY3Jvc29mdC5jb20iOlsiZjkyZWNjNDktODExMi00ZjE0LTgxNWEtMjk3ODEwOTY4ODYwIl0sImVtYWlsIjpbInRyaXNoamFtQGdvb2dsZXB1YmxpY3NlY3Rvci5vbm1pY3Jvc29mdC5jb20iXX0sInNpZ25faW5fcHJvdmlkZXIiOiJtaWNyb3NvZnQuY29tIn19.mN3K7dI18mpDeFa2fo6Hk-COLJbZxb4nfK-NtTFNz1qaX7KwQMwbYzHye0WZYEwPxQYcmliZRmIc7FAbMfuB6j-ENMYWwM93RVeHJyzXiWCTgrMnk3UtVAiofZjysKT7bF0Nu8nZTdNQEPdZ5w6nysW0sxkqmxY1gR83KOIjtIP7P0-SIoWo5XWbqNwSGpFt-7iUM07U459fIw1aPBbYLtG1lF0YoLmnFikZUemmm2c-ow-X6b27jSc-8Oz2X_hpKdhsGiYoiEWRw_l7PVVgbTwTxn0JhiMd1Vj4wgamaIAit2jJT2UVhy_RT6nIUPxu6GFVzD-D1EcJHvcrBQtySQ\""
   ]
  },
  {
   "cell_type": "code",
   "execution_count": 70,
   "metadata": {},
   "outputs": [],
   "source": [
    "# valid MS ID token after logging in\n",
    "MS_TOKEN = \\\n",
    "\"eyJ0eXAiOiJKV1QiLCJhbGciOiJSUzI1NiIsImtpZCI6IkwxS2ZLRklfam5YYndXYzIyeFp4dzFzVUhIMCJ9.eyJhdWQiOiJiNzUzYmIzOS0wN2FlLTQ4MzgtOGQ4NC1mMTYzMDEyODAyOTciLCJpc3MiOiJodHRwczovL2xvZ2luLm1pY3Jvc29mdG9ubGluZS5jb20vZTJjY2NlYWUtMDZkOC00ZjZjLTg2MWEtZDAyOTJhNWZlMzJhL3YyLjAiLCJpYXQiOjE3MTg0NzM5NjAsIm5iZiI6MTcxODQ3Mzk2MCwiZXhwIjoxNzE4NDc3ODYwLCJhaW8iOiJBV1FBbS84WEFBQUFWZGErQndUeGs3UlJ1Z0pQWm5YZ2JvVTUwdXVyWWx4L1o4aXFTT3RFYWN5R2daRFFtSFRrUHZCTXc2MUo1c1dWc3EwL2c4QTgvVXZLMzFHYm95aWx5bkNEVzlGQzB0blI4cHpoN2ZYcEtmVW9wZHBYUE9DWWhEWlM0L2RBckh6byIsImdyb3VwcyI6WyI0ZmMzZWQ5MC1kZmQ4LTQ4ZWEtYjEwOC1lN2U1ZDRlNGQyMzkiLCJlZTE2OGRkNC1lNTdjLTRlYTctYWFkNi0yZGU1ODAxZmZiNjUiXSwibmFtZSI6IlRyaWNpYSBKYW1pc29uIiwib2lkIjoiZjkyZWNjNDktODExMi00ZjE0LTgxNWEtMjk3ODEwOTY4ODYwIiwicHJlZmVycmVkX3VzZXJuYW1lIjoidHJpc2hqYW1AZ29vZ2xlcHVibGljc2VjdG9yLm9ubWljcm9zb2Z0LmNvbSIsInJoIjoiMC5BY29BcnM3TTR0Z0diRS1HR3RBcEtsX2pLam03VTdldUJ6aElqWVR4WXdFb0FwZjZBRTguIiwicm9sZXMiOlsiMyJdLCJzdWIiOiJjUnd2QnlHNUxyNzJOWU83WW9Cc3pmZHFkSXNxWWtEUnp2VVYyMDlQdmI4IiwidGlkIjoiZTJjY2NlYWUtMDZkOC00ZjZjLTg2MWEtZDAyOTJhNWZlMzJhIiwidXRpIjoiWW1HS1MxQnpWa3lrQVZWOF9XMzRBQSIsInZlciI6IjIuMCIsIndpZHMiOlsiMjkyMzJjZGYtOTMyMy00MmZkLWFkZTItMWQwOTdhZjNlNGRlIiwiNjJlOTAzOTQtNjlmNS00MjM3LTkxOTAtMDEyMTc3MTQ1ZTEwIiwiYjc5ZmJmNGQtM2VmOS00Njg5LTgxNDMtNzZiMTk0ZTg1NTA5Il19.Z900Lo-gsNJ2H3PvZqdoQGtzKfmhvIO9s9sw04RI6Y94bPlMgbaYPxQOJrNNPs-yjkNViPi896pso6m8DxMqliy2wsvdOKRObE5PCnAZC9RfjOZOsbDexKUIVcxEiPaKcePBElu7fVoIagrwBV2NappJmNX_0a24BwwSEPJqPltBUeyzS7QZKsmgq2VgX7-X3jLaCaa3sOBaZ_K_5ZjU8mUqvxq6o7zpv8yYfO9iFqPgHP-FNiZ_RXgNfGXWu30I-53yxq-cPBkgMWNowJJHcfdEURWuYI_lk7HauCHPoP4TopTn3iFGpNI7gTWKYT8xE7xVDWKavIR-v3Kz6wy8Sg\""
   ]
  },
  {
   "cell_type": "markdown",
   "metadata": {},
   "source": [
    "## Custom claims"
   ]
  },
  {
   "cell_type": "code",
   "execution_count": 56,
   "metadata": {},
   "outputs": [
    {
     "name": "stdout",
     "output_type": "stream",
     "text": [
      "{'name': 'Test1 NasaUser', 'level': 12, 'access': 'read-only', 'iss': 'https://securetoken.google.com/nasa-genie-dev', 'aud': 'nasa-genie-dev', 'auth_time': 1718465292, 'user_id': 'czlx9rvMxDUfUZPUlPHU95f4csw2', 'sub': 'czlx9rvMxDUfUZPUlPHU95f4csw2', 'iat': 1718465292, 'exp': 1718468892, 'email': 'test1nasauser@googlepublicsector.onmicrosoft.com', 'email_verified': False, 'firebase': {'identities': {'microsoft.com': ['ca7c0c1d-7e65-4311-b96b-d7e8ae017099'], 'email': ['test1nasauser@googlepublicsector.onmicrosoft.com']}, 'sign_in_provider': 'microsoft.com'}, 'uid': 'czlx9rvMxDUfUZPUlPHU95f4csw2'}\n",
      "user_id  is czlx9rvMxDUfUZPUlPHU95f4csw2\n",
      "user email is test1nasauser@googlepublicsector.onmicrosoft.com\n"
     ]
    }
   ],
   "source": [
    "result = auth.verify_id_token(TOKEN)\n",
    "print(result)\n",
    "user_id = result['user_id']\n",
    "print(f\"user_id  is {user_id}\")\n",
    "user = auth.get_user(user_id)\n",
    "print(f\"user email is {user.email}\")"
   ]
  },
  {
   "cell_type": "code",
   "execution_count": 57,
   "metadata": {},
   "outputs": [],
   "source": [
    "def get_claims(user_id):\n",
    "    user = auth.get_user(user_id)\n",
    "    # The claims can be accessed on the user record.\n",
    "    if user.custom_claims:\n",
    "        print(user.custom_claims)\n",
    "        # print(user.custom_claims.get('level'))\n",
    "\n",
    "def set_claims(user_id, claims_obj):\n",
    "    auth.set_custom_user_claims(user_id, claims_obj)\n"
   ]
  },
  {
   "cell_type": "code",
   "execution_count": 58,
   "metadata": {},
   "outputs": [
    {
     "name": "stdout",
     "output_type": "stream",
     "text": [
      "{'level': 12, 'access': 'read-only'}\n",
      "{'level': 12}\n",
      "{'level': 12, 'access': 'read-only'}\n"
     ]
    }
   ],
   "source": [
    "get_claims(user_id)\n",
    "set_claims(user_id, {\"level\": 12})\n",
    "get_claims(user_id)\n",
    "set_claims(user_id, {\"level\": 12, \"access\": \"read-only\"})\n",
    "get_claims(user_id)\n"
   ]
  },
  {
   "cell_type": "code",
   "execution_count": 18,
   "metadata": {},
   "outputs": [
    {
     "name": "stdout",
     "output_type": "stream",
     "text": [
      "{'name': 'Test1 NasaUser', 'level': 12, 'access': 'read-only', 'iss': 'https://securetoken.google.com/nasa-genie-dev', 'aud': 'nasa-genie-dev', 'auth_time': 1718420409, 'user_id': 'czlx9rvMxDUfUZPUlPHU95f4csw2', 'sub': 'czlx9rvMxDUfUZPUlPHU95f4csw2', 'iat': 1718420409, 'exp': 1718424009, 'email': 'test1nasauser@googlepublicsector.onmicrosoft.com', 'email_verified': False, 'firebase': {'identities': {'microsoft.com': ['ca7c0c1d-7e65-4311-b96b-d7e8ae017099'], 'email': ['test1nasauser@googlepublicsector.onmicrosoft.com']}, 'sign_in_provider': 'microsoft.com'}, 'uid': 'czlx9rvMxDUfUZPUlPHU95f4csw2'}\n",
      "{'level': 12, 'access': 'read-only'}\n"
     ]
    }
   ],
   "source": [
    "result = auth.verify_id_token(TOKEN)\n",
    "print(dict(result))\n",
    "get_claims(user_id)\n"
   ]
  },
  {
   "cell_type": "code",
   "execution_count": 40,
   "metadata": {},
   "outputs": [],
   "source": [
    "set_claims(user_id, {})\n",
    "get_claims(user_id)"
   ]
  },
  {
   "cell_type": "markdown",
   "metadata": {},
   "source": [
    "## Decode token"
   ]
  },
  {
   "cell_type": "code",
   "execution_count": 59,
   "metadata": {},
   "outputs": [],
   "source": [
    "import base64\n",
    "import json\n",
    "\n",
    "def decode_credential(cred_str):\n",
    "    payload = cred_str.split('.')[1]\n",
    "    # do not know why I need this for front end token, but only sometimes\n",
    "    # https://stackoverflow.com/questions/2941995/python-ignore-incorrect-padding-error-when-base64-decoding\n",
    "    decoded_payload = base64.b64decode(payload + '==')\n",
    "    token = json.loads(decoded_payload.decode())\n",
    "    return token\n"
   ]
  },
  {
   "cell_type": "code",
   "execution_count": 60,
   "metadata": {},
   "outputs": [
    {
     "data": {
      "text/plain": [
       "{'name': 'Test1 NasaUser',\n",
       " 'level': 12,\n",
       " 'access': 'read-only',\n",
       " 'iss': 'https://securetoken.google.com/nasa-genie-dev',\n",
       " 'aud': 'nasa-genie-dev',\n",
       " 'auth_time': 1718465292,\n",
       " 'user_id': 'czlx9rvMxDUfUZPUlPHU95f4csw2',\n",
       " 'sub': 'czlx9rvMxDUfUZPUlPHU95f4csw2',\n",
       " 'iat': 1718465292,\n",
       " 'exp': 1718468892,\n",
       " 'email': 'test1nasauser@googlepublicsector.onmicrosoft.com',\n",
       " 'email_verified': False,\n",
       " 'firebase': {'identities': {'microsoft.com': ['ca7c0c1d-7e65-4311-b96b-d7e8ae017099'],\n",
       "   'email': ['test1nasauser@googlepublicsector.onmicrosoft.com']},\n",
       "  'sign_in_provider': 'microsoft.com'}}"
      ]
     },
     "execution_count": 60,
     "metadata": {},
     "output_type": "execute_result"
    }
   ],
   "source": [
    "decode_credential(TOKEN)\n",
    "\n",
    "# payload = TOKEN.split('.')[1]\n",
    "# print(payload)\n",
    "# decoded_payload = base64.b64decode(payload + '==')\n",
    "# token = json.loads(decoded_payload.decode())\n",
    "\n"
   ]
  },
  {
   "cell_type": "code",
   "execution_count": 61,
   "metadata": {},
   "outputs": [
    {
     "data": {
      "text/plain": [
       "{'aud': 'b753bb39-07ae-4838-8d84-f16301280297',\n",
       " 'iss': 'https://login.microsoftonline.com/e2ccceae-06d8-4f6c-861a-d0292a5fe32a/v2.0',\n",
       " 'iat': 1718422264,\n",
       " 'nbf': 1718422264,\n",
       " 'exp': 1718426164,\n",
       " 'aio': 'AWQAm/8XAAAAZSKbbWT+5+QQkg0nB22tM+InJkJmSeVpSJDBpxXE/e7yCMymEJ3Xvb8sCxF++U+9tS7PGoTOEpycVHOkb8oR8Svn8X44E/ytf/tan88RafgqYZ28zV5OH2gBjiiiHr5z',\n",
       " 'name': 'Test1 NasaUser',\n",
       " 'oid': 'ca7c0c1d-7e65-4311-b96b-d7e8ae017099',\n",
       " 'preferred_username': 'test1nasauser@googlepublicsector.onmicrosoft.com',\n",
       " 'rh': '0.AcoArs7M4tgGbE-GGtApKl_jKjm7U7euBzhIjYTxYwEoApf6AA8.',\n",
       " 'roles': ['1'],\n",
       " 'sub': 'G8OBW_F4Yjh3NkHxg7JN085S30A7xtHUpDD6wUNix-U',\n",
       " 'tid': 'e2ccceae-06d8-4f6c-861a-d0292a5fe32a',\n",
       " 'uti': 'JmdOvjb6yU-1STK-6fuzAA',\n",
       " 'ver': '2.0',\n",
       " 'wids': ['b79fbf4d-3ef9-4689-8143-76b194e85509']}"
      ]
     },
     "execution_count": 61,
     "metadata": {},
     "output_type": "execute_result"
    }
   ],
   "source": [
    "decode_credential(MS_TOKEN)"
   ]
  },
  {
   "cell_type": "markdown",
   "metadata": {},
   "source": [
    "## Call authorize endpoint"
   ]
  },
  {
   "cell_type": "code",
   "execution_count": 87,
   "metadata": {},
   "outputs": [],
   "source": [
    "\n",
    "import requests\n",
    "\n",
    "api_endpoint = f\"https://nasa-genie-dev.cloudpssolutions.com/authentication/api/v1/sign-in/authorize?provider_id_token={MS_TOKEN}\"\n",
    "# api_endpoint = f\"https://nasa-genie-dev.cloudpssolutions.com/authentication/api/v1/sign-in/authorize\"\n",
    "headers = {\n",
    "    \"Content-Type\": \"application/json\",\n",
    "    \"Authorization\": f\"Bearer {TOKEN}\"\n",
    "}\n",
    "res = requests.post(\n",
    "    url=api_endpoint,\n",
    "    headers=headers,\n",
    "    # data=f\"{MS_TOKEN}\",\n",
    "    # data=json.dumps({'provider_id_token': MS_TOKEN}),\n",
    "    timeout=60\n",
    ")"
   ]
  },
  {
   "cell_type": "code",
   "execution_count": 88,
   "metadata": {},
   "outputs": [
    {
     "data": {
      "text/plain": [
       "<Response [500]>"
      ]
     },
     "execution_count": 88,
     "metadata": {},
     "output_type": "execute_result"
    }
   ],
   "source": [
    "res"
   ]
  },
  {
   "cell_type": "code",
   "execution_count": 132,
   "metadata": {},
   "outputs": [
    {
     "data": {
      "text/plain": [
       "'{\"provider_id_token\": \"eyJ0eXAiOiJKV1QiLCJhbGciOiJSUzI1NiIsImtpZCI6InE3UDFOdnh1R1F3RE4yVGFpTW92alo4YVp3cyJ9.eyJhdWQiOiJiNzUzYmIzOS0wN2FlLTQ4MzgtOGQ4NC1mMTYzMDEyODAyOTciLCJpc3MiOiJodHRwczovL2xvZ2luLm1pY3Jvc29mdG9ubGluZS5jb20vZTJjY2NlYWUtMDZkOC00ZjZjLTg2MWEtZDAyOTJhNWZlMzJhL3YyLjAiLCJpYXQiOjE3MTg0MTI5NTEsIm5iZiI6MTcxODQxMjk1MSwiZXhwIjoxNzE4NDE2ODUxLCJhaW8iOiJBV1FBbS84WEFBQUFGbWI0NGVQMEs2dE1aY3ljcXdqcERkUUxGSDdsOXhFWGUzaitJTEZzbmxrUmdpWFgwbkVpUVlUMEUvZnJDM1h6T05SSkVOMUpXeS9wWVMwZktOWDZsL3Z1bXQxVXhQcjdZYmkwWVFFNG50ZTROajdLblFlZmh5WkpJMG5pOXAyVyIsImdyb3VwcyI6WyI0ZmMzZWQ5MC1kZmQ4LTQ4ZWEtYjEwOC1lN2U1ZDRlNGQyMzkiLCJlZTE2OGRkNC1lNTdjLTRlYTctYWFkNi0yZGU1ODAxZmZiNjUiXSwibmFtZSI6IlRyaWNpYSBKYW1pc29uIiwib2lkIjoiZjkyZWNjNDktODExMi00ZjE0LTgxNWEtMjk3ODEwOTY4ODYwIiwicHJlZmVycmVkX3VzZXJuYW1lIjoidHJpc2hqYW1AZ29vZ2xlcHVibGljc2VjdG9yLm9ubWljcm9zb2Z0LmNvbSIsInJoIjoiMC5BY29BcnM3TTR0Z0diRS1HR3RBcEtsX2pLam03VTdldUJ6aElqWVR4WXdFb0FwZjZBRTguIiwicm9sZXMiOlsiMyJdLCJzdWIiOiJjUnd2QnlHNUxyNzJOWU83WW9Cc3pmZHFkSXNxWWtEUnp2VVYyMDlQdmI4IiwidGlkIjoiZTJjY2NlYWUtMDZkOC00ZjZjLTg2MWEtZDAyOTJhNWZlMzJhIiwidXRpIjoiMk1DYkpkSFN2VS01NnY5VFZIZ1BBQSIsInZlciI6IjIuMCIsIndpZHMiOlsiMjkyMzJjZGYtOTMyMy00MmZkLWFkZTItMWQwOTdhZjNlNGRlIiwiNjJlOTAzOTQtNjlmNS00MjM3LTkxOTAtMDEyMTc3MTQ1ZTEwIiwiYjc5ZmJmNGQtM2VmOS00Njg5LTgxNDMtNzZiMTk0ZTg1NTA5Il19.MMcR5PLOspACmjhVVBjyyc2_BWqPMRx1eCEK4Sk9Tqxcpgt6GLqXjr26nFnpBofHnCfnzgsRjXpeLnsNpaKooLSEL_sundmAjt2L9iAIGeXEic-MHwbeD_QXIOkwfRSpD1yDonYDNdApeoNS0_5qOlB8HT3hxoSfzOkahObXp_Ws1J4LY1vH7qmgoACi4bWTNzjhdmSCg9RV2S2fbJim4zyUd-m7xaRkFmCkvoicFt2HXZn5d857uEcNMupN2Is3bKfsguKzM0bpaABpvrCyJza_t8SvQ5UJX74t1ZWkZd2SToVyvmW2CV-qD0IeEOIfEKDFvv37jNjB5fVayaFZWA\"}'"
      ]
     },
     "execution_count": 132,
     "metadata": {},
     "output_type": "execute_result"
    }
   ],
   "source": [
    "json.dumps({'provider_id_token': MS_TOKEN})"
   ]
  },
  {
   "cell_type": "code",
   "execution_count": null,
   "metadata": {},
   "outputs": [],
   "source": []
  }
 ],
 "metadata": {
  "kernelspec": {
   "display_name": ".v1",
   "language": "python",
   "name": "python3"
  },
  "language_info": {
   "codemirror_mode": {
    "name": "ipython",
    "version": 3
   },
   "file_extension": ".py",
   "mimetype": "text/x-python",
   "name": "python",
   "nbconvert_exporter": "python",
   "pygments_lexer": "ipython3",
   "version": "3.11.7"
  }
 },
 "nbformat": 4,
 "nbformat_minor": 2
}
