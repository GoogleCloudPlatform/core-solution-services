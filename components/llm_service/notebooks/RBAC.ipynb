{
 "cells": [
  {
   "cell_type": "markdown",
   "metadata": {},
   "source": [
    "## Install Firebase Admin SDK"
   ]
  },
  {
   "cell_type": "code",
   "execution_count": 1,
   "metadata": {},
   "outputs": [],
   "source": [
    "# !pip install firebase-admin\n",
    "\n",
    "import firebase_admin.auth as auth\n",
    "# only need to do this once\n",
    "import firebase_admin\n",
    "default_app = firebase_admin.initialize_app()"
   ]
  },
  {
   "cell_type": "markdown",
   "metadata": {},
   "source": [
    "## Token inputs "
   ]
  },
  {
   "cell_type": "code",
   "execution_count": 2,
   "metadata": {},
   "outputs": [],
   "source": [
    "# Valid Firebase ID token received after sign in\n",
    "TOKEN = \\\n",
    "\"eyJhbGciOiJSUzI1NiIsImtpZCI6ImYwOGU2ZTNmNzg4ZDYwMTk0MDA1ZGJiYzE5NDc0YmY5Mjg5ZDM5ZWEiLCJ0eXAiOiJKV1QifQ.eyJuYW1lIjoiVHJpY2lhIEphbWlzb24iLCJyb2xlcyI6WyIzIl0sImlzcyI6Imh0dHBzOi8vc2VjdXJldG9rZW4uZ29vZ2xlLmNvbS9uYXNhLWdlbmllLWRldiIsImF1ZCI6Im5hc2EtZ2VuaWUtZGV2IiwiYXV0aF90aW1lIjoxNzE5MjM2NjM0LCJ1c2VyX2lkIjoiQUVQTjNZem0yMFM0Z1N4ZEN3U0JIQ2VmZmJ2MSIsInN1YiI6IkFFUE4zWXptMjBTNGdTeGRDd1NCSENlZmZidjEiLCJpYXQiOjE3MTkyMzY2MzQsImV4cCI6MTcxOTI0MDIzNCwiZW1haWwiOiJ0cmlzaGphbUBnb29nbGVwdWJsaWNzZWN0b3Iub25taWNyb3NvZnQuY29tIiwiZW1haWxfdmVyaWZpZWQiOmZhbHNlLCJmaXJlYmFzZSI6eyJpZGVudGl0aWVzIjp7Im1pY3Jvc29mdC5jb20iOlsiZjkyZWNjNDktODExMi00ZjE0LTgxNWEtMjk3ODEwOTY4ODYwIl0sImVtYWlsIjpbInRyaXNoamFtQGdvb2dsZXB1YmxpY3NlY3Rvci5vbm1pY3Jvc29mdC5jb20iXX0sInNpZ25faW5fcHJvdmlkZXIiOiJtaWNyb3NvZnQuY29tIn19.V8Obij5cg5p6ue0a_R-C-0nCbBPA1Xf6VFOlXGED6zTD9OgekCFx3dPUIZzHEOg7tZ2hG5knNThz_7BFALzVoJD1TsDkQ7ZhntZ_HJqxuXLo6IOpzFksCOp_c_DwoLWDGmFXJJmaxqYwcbHWycCgoK5Q9JCSHsn2XNX5MtyYXdLtWh-BlHu4gxK-av2lN2roh9L4zjU80cZOs90i4HPIeY0DDdQHuGPSqwnhkt98D_bsT6X4sxpHInLmXX22pepTWUGYKfyiRAm9sPvpY8VFiMFNeN5mVB-JS-N_DZbxz_MrEBL_f2TrLOclD-IN0oLXuBsd7uMcfqyqQk0zUYnRmQ\""
   ]
  },
  {
   "cell_type": "code",
   "execution_count": 3,
   "metadata": {},
   "outputs": [],
   "source": [
    "# valid MS ID token after logging in\n",
    "MS_TOKEN = \\\n",
    "\"eyJ0eXAiOiJKV1QiLCJhbGciOiJSUzI1NiIsImtpZCI6Ik1HTHFqOThWTkxvWGFGZnBKQ0JwZ0I0SmFLcyJ9.eyJhdWQiOiJiNzUzYmIzOS0wN2FlLTQ4MzgtOGQ4NC1mMTYzMDEyODAyOTciLCJpc3MiOiJodHRwczovL2xvZ2luLm1pY3Jvc29mdG9ubGluZS5jb20vZTJjY2NlYWUtMDZkOC00ZjZjLTg2MWEtZDAyOTJhNWZlMzJhL3YyLjAiLCJpYXQiOjE3MTkyMzYzMzMsIm5iZiI6MTcxOTIzNjMzMywiZXhwIjoxNzE5MjQwMjMzLCJhaW8iOiJBV1FBbS84WEFBQUExYTlCL0VOSkxoblo4ZTYwOEZwelAvRG5TK0FiMEliMmRlY3lDL2t5QnJDc0VtQmRtclFXd3VRRkpBRDNOemloVlczQU1HN0gyYzkzbldWQzdDdFpiME4yaVV5VzVETFpVVnc0d2dVWjVhektkREpydXVCU29PU1ZuTTlVaFRLcyIsImdyb3VwcyI6WyI0ZmMzZWQ5MC1kZmQ4LTQ4ZWEtYjEwOC1lN2U1ZDRlNGQyMzkiLCJlZTE2OGRkNC1lNTdjLTRlYTctYWFkNi0yZGU1ODAxZmZiNjUiXSwibmFtZSI6IlRyaWNpYSBKYW1pc29uIiwib2lkIjoiZjkyZWNjNDktODExMi00ZjE0LTgxNWEtMjk3ODEwOTY4ODYwIiwicHJlZmVycmVkX3VzZXJuYW1lIjoidHJpc2hqYW1AZ29vZ2xlcHVibGljc2VjdG9yLm9ubWljcm9zb2Z0LmNvbSIsInJoIjoiMC5BY29BcnM3TTR0Z0diRS1HR3RBcEtsX2pLam03VTdldUJ6aElqWVR4WXdFb0FwZjZBRTguIiwicm9sZXMiOlsiMyJdLCJzdWIiOiJjUnd2QnlHNUxyNzJOWU83WW9Cc3pmZHFkSXNxWWtEUnp2VVYyMDlQdmI4IiwidGlkIjoiZTJjY2NlYWUtMDZkOC00ZjZjLTg2MWEtZDAyOTJhNWZlMzJhIiwidXRpIjoiMkNOcWNTZTU3a0dZN3J5S2ZBRVRBUSIsInZlciI6IjIuMCIsIndpZHMiOlsiMjkyMzJjZGYtOTMyMy00MmZkLWFkZTItMWQwOTdhZjNlNGRlIiwiNjJlOTAzOTQtNjlmNS00MjM3LTkxOTAtMDEyMTc3MTQ1ZTEwIiwiYjc5ZmJmNGQtM2VmOS00Njg5LTgxNDMtNzZiMTk0ZTg1NTA5Il19.ehUXRljFOvFdzwPcgEBGuao80QK8apG0Gzw8Xw7AxDcA4r2nmuWEnRy_lcydslDqIKjEUZIhg4macBLLn1hRqehQNPioaQAieC6dtGECDnLSXmZne17gWm-Cfn7zx6n7FY_MmwTvVvuGtXONhiBoYZC9D6s6litHPhZJCfY9Sqcu374i7W2Kx7B8M9WwbLUK05k_OmrOJ5y_AuPPbCJifyimXfGcCqT1Lh4w4o74KL6n0Izv0VoPWFzHznjTzBT5M_aix-rASeofueQVLyZi07On8mxe2AJ0hURqL2-zyK1NMuc4oMOnv_sPr8NdtAmP3X3dzZzzRc3EoLdFjpsNew\""
   ]
  },
  {
   "cell_type": "markdown",
   "metadata": {},
   "source": [
    "## Custom claims"
   ]
  },
  {
   "cell_type": "code",
   "execution_count": 4,
   "metadata": {},
   "outputs": [
    {
     "name": "stdout",
     "output_type": "stream",
     "text": [
      "{'name': 'Tricia Jamison', 'roles': ['3'], 'iss': 'https://securetoken.google.com/nasa-genie-dev', 'aud': 'nasa-genie-dev', 'auth_time': 1719236634, 'user_id': 'AEPN3Yzm20S4gSxdCwSBHCeffbv1', 'sub': 'AEPN3Yzm20S4gSxdCwSBHCeffbv1', 'iat': 1719236634, 'exp': 1719240234, 'email': 'trishjam@googlepublicsector.onmicrosoft.com', 'email_verified': False, 'firebase': {'identities': {'microsoft.com': ['f92ecc49-8112-4f14-815a-297810968860'], 'email': ['trishjam@googlepublicsector.onmicrosoft.com']}, 'sign_in_provider': 'microsoft.com'}, 'uid': 'AEPN3Yzm20S4gSxdCwSBHCeffbv1'}\n",
      "user_id  is AEPN3Yzm20S4gSxdCwSBHCeffbv1\n",
      "user email is trishjam@googlepublicsector.onmicrosoft.com\n"
     ]
    }
   ],
   "source": [
    "result = auth.verify_id_token(TOKEN)\n",
    "print(result)\n",
    "user_id = result['user_id']\n",
    "print(f\"user_id  is {user_id}\")\n",
    "user = auth.get_user(user_id)\n",
    "print(f\"user email is {user.email}\")"
   ]
  },
  {
   "cell_type": "code",
   "execution_count": 5,
   "metadata": {},
   "outputs": [],
   "source": [
    "def get_claims(user_id):\n",
    "    user = auth.get_user(user_id)\n",
    "    # The claims can be accessed on the user record.\n",
    "    if user.custom_claims:\n",
    "        print(user.custom_claims)\n",
    "        # print(user.custom_claims.get('level'))\n",
    "\n",
    "def set_claims(user_id, claims_obj):\n",
    "    auth.set_custom_user_claims(user_id, claims_obj)\n"
   ]
  },
  {
   "cell_type": "code",
   "execution_count": 6,
   "metadata": {},
   "outputs": [
    {
     "name": "stdout",
     "output_type": "stream",
     "text": [
      "{'roles': ['3']}\n"
     ]
    }
   ],
   "source": [
    "get_claims(user_id)\n",
    "# set_claims(user_id, {\"level\": 12})\n",
    "# get_claims(user_id)\n",
    "# set_claims(user_id, {\"level\": 12, \"access\": \"read-only\"})\n",
    "# get_claims(user_id)\n"
   ]
  },
  {
   "cell_type": "code",
   "execution_count": 18,
   "metadata": {},
   "outputs": [
    {
     "name": "stdout",
     "output_type": "stream",
     "text": [
      "{'name': 'Test1 NasaUser', 'level': 12, 'access': 'read-only', 'iss': 'https://securetoken.google.com/nasa-genie-dev', 'aud': 'nasa-genie-dev', 'auth_time': 1718420409, 'user_id': 'czlx9rvMxDUfUZPUlPHU95f4csw2', 'sub': 'czlx9rvMxDUfUZPUlPHU95f4csw2', 'iat': 1718420409, 'exp': 1718424009, 'email': 'test1nasauser@googlepublicsector.onmicrosoft.com', 'email_verified': False, 'firebase': {'identities': {'microsoft.com': ['ca7c0c1d-7e65-4311-b96b-d7e8ae017099'], 'email': ['test1nasauser@googlepublicsector.onmicrosoft.com']}, 'sign_in_provider': 'microsoft.com'}, 'uid': 'czlx9rvMxDUfUZPUlPHU95f4csw2'}\n",
      "{'level': 12, 'access': 'read-only'}\n"
     ]
    }
   ],
   "source": [
    "result = auth.verify_id_token(TOKEN)\n",
    "print(dict(result))\n",
    "get_claims(user_id)\n"
   ]
  },
  {
   "cell_type": "code",
   "execution_count": 40,
   "metadata": {},
   "outputs": [],
   "source": [
    "set_claims(user_id, {})\n",
    "get_claims(user_id)"
   ]
  },
  {
   "cell_type": "markdown",
   "metadata": {},
   "source": [
    "## Decode token"
   ]
  },
  {
   "cell_type": "code",
   "execution_count": 7,
   "metadata": {},
   "outputs": [],
   "source": [
    "import base64\n",
    "import json\n",
    "\n",
    "def decode_credential(cred_str):\n",
    "    payload = cred_str.split('.')[1]\n",
    "    # do not know why I need this for front end token, but only sometimes\n",
    "    # https://stackoverflow.com/questions/2941995/python-ignore-incorrect-padding-error-when-base64-decoding\n",
    "    decoded_payload = base64.b64decode(payload + '==')\n",
    "    token = json.loads(decoded_payload.decode())\n",
    "    return token\n"
   ]
  },
  {
   "cell_type": "code",
   "execution_count": 8,
   "metadata": {},
   "outputs": [
    {
     "data": {
      "text/plain": [
       "{'name': 'Tricia Jamison',\n",
       " 'roles': ['3'],\n",
       " 'iss': 'https://securetoken.google.com/nasa-genie-dev',\n",
       " 'aud': 'nasa-genie-dev',\n",
       " 'auth_time': 1719236634,\n",
       " 'user_id': 'AEPN3Yzm20S4gSxdCwSBHCeffbv1',\n",
       " 'sub': 'AEPN3Yzm20S4gSxdCwSBHCeffbv1',\n",
       " 'iat': 1719236634,\n",
       " 'exp': 1719240234,\n",
       " 'email': 'trishjam@googlepublicsector.onmicrosoft.com',\n",
       " 'email_verified': False,\n",
       " 'firebase': {'identities': {'microsoft.com': ['f92ecc49-8112-4f14-815a-297810968860'],\n",
       "   'email': ['trishjam@googlepublicsector.onmicrosoft.com']},\n",
       "  'sign_in_provider': 'microsoft.com'}}"
      ]
     },
     "execution_count": 8,
     "metadata": {},
     "output_type": "execute_result"
    }
   ],
   "source": [
    "decode_credential(TOKEN)"
   ]
  },
  {
   "cell_type": "code",
   "execution_count": 9,
   "metadata": {},
   "outputs": [
    {
     "data": {
      "text/plain": [
       "{'aud': 'b753bb39-07ae-4838-8d84-f16301280297',\n",
       " 'iss': 'https://login.microsoftonline.com/e2ccceae-06d8-4f6c-861a-d0292a5fe32a/v2.0',\n",
       " 'iat': 1719236333,\n",
       " 'nbf': 1719236333,\n",
       " 'exp': 1719240233,\n",
       " 'aio': 'AWQAm/8XAAAA1a9B/ENJLhnZ8e608FpzP/DnS+Ab0Ib2decyC/kyBrCsEmBdmrQWwuQFJAD3NzihVW3AMG7H2c93nWVC7CtZb0N2iUyW5DLZUVw4wgUZ5azKdDJruuBSoOSVnM9UhTKs',\n",
       " 'groups': ['4fc3ed90-dfd8-48ea-b108-e7e5d4e4d239',\n",
       "  'ee168dd4-e57c-4ea7-aad6-2de5801ffb65'],\n",
       " 'name': 'Tricia Jamison',\n",
       " 'oid': 'f92ecc49-8112-4f14-815a-297810968860',\n",
       " 'preferred_username': 'trishjam@googlepublicsector.onmicrosoft.com',\n",
       " 'rh': '0.AcoArs7M4tgGbE-GGtApKl_jKjm7U7euBzhIjYTxYwEoApf6AE8.',\n",
       " 'roles': ['3'],\n",
       " 'sub': 'cRwvByG5Lr72NYO7YoBszfdqdIsqYkDRzvUV209Pvb8',\n",
       " 'tid': 'e2ccceae-06d8-4f6c-861a-d0292a5fe32a',\n",
       " 'uti': '2CNqcSe57kGY7ryKfAETAQ',\n",
       " 'ver': '2.0',\n",
       " 'wids': ['29232cdf-9323-42fd-ade2-1d097af3e4de',\n",
       "  '62e90394-69f5-4237-9190-012177145e10',\n",
       "  'b79fbf4d-3ef9-4689-8143-76b194e85509']}"
      ]
     },
     "execution_count": 9,
     "metadata": {},
     "output_type": "execute_result"
    }
   ],
   "source": [
    "decode_credential(MS_TOKEN)"
   ]
  },
  {
   "cell_type": "markdown",
   "metadata": {},
   "source": [
    "## Call endpoint to save roles from the provider token"
   ]
  },
  {
   "cell_type": "code",
   "execution_count": 13,
   "metadata": {},
   "outputs": [],
   "source": [
    "\n",
    "import requests\n",
    "\n",
    "api_endpoint = f\"https://nasa-genie-dev.cloudpssolutions.com/authentication/api/v1/sign-in/roles?provider_id_token={MS_TOKEN}\"\n",
    "# api_endpoint = f\"https://nasa-genie-dev.cloudpssolutions.com/authentication/api/v1/sign-in/authorize\"\n",
    "headers = {\n",
    "    \"Content-Type\": \"application/json\",\n",
    "    \"Authorization\": f\"Bearer {TOKEN}\"\n",
    "}\n",
    "res = requests.post(\n",
    "    url=api_endpoint,\n",
    "    headers=headers,\n",
    "    # data=f\"{MS_TOKEN}\",\n",
    "    # data=json.dumps({'provider_id_token': MS_TOKEN}),\n",
    "    timeout=60\n",
    ")"
   ]
  },
  {
   "cell_type": "code",
   "execution_count": 14,
   "metadata": {},
   "outputs": [
    {
     "data": {
      "text/plain": [
       "<Response [200]>"
      ]
     },
     "execution_count": 14,
     "metadata": {},
     "output_type": "execute_result"
    }
   ],
   "source": [
    "res"
   ]
  },
  {
   "cell_type": "code",
   "execution_count": 132,
   "metadata": {},
   "outputs": [
    {
     "data": {
      "text/plain": [
       "'{\"provider_id_token\": \"eyJ0eXAiOiJKV1QiLCJhbGciOiJSUzI1NiIsImtpZCI6InE3UDFOdnh1R1F3RE4yVGFpTW92alo4YVp3cyJ9.eyJhdWQiOiJiNzUzYmIzOS0wN2FlLTQ4MzgtOGQ4NC1mMTYzMDEyODAyOTciLCJpc3MiOiJodHRwczovL2xvZ2luLm1pY3Jvc29mdG9ubGluZS5jb20vZTJjY2NlYWUtMDZkOC00ZjZjLTg2MWEtZDAyOTJhNWZlMzJhL3YyLjAiLCJpYXQiOjE3MTg0MTI5NTEsIm5iZiI6MTcxODQxMjk1MSwiZXhwIjoxNzE4NDE2ODUxLCJhaW8iOiJBV1FBbS84WEFBQUFGbWI0NGVQMEs2dE1aY3ljcXdqcERkUUxGSDdsOXhFWGUzaitJTEZzbmxrUmdpWFgwbkVpUVlUMEUvZnJDM1h6T05SSkVOMUpXeS9wWVMwZktOWDZsL3Z1bXQxVXhQcjdZYmkwWVFFNG50ZTROajdLblFlZmh5WkpJMG5pOXAyVyIsImdyb3VwcyI6WyI0ZmMzZWQ5MC1kZmQ4LTQ4ZWEtYjEwOC1lN2U1ZDRlNGQyMzkiLCJlZTE2OGRkNC1lNTdjLTRlYTctYWFkNi0yZGU1ODAxZmZiNjUiXSwibmFtZSI6IlRyaWNpYSBKYW1pc29uIiwib2lkIjoiZjkyZWNjNDktODExMi00ZjE0LTgxNWEtMjk3ODEwOTY4ODYwIiwicHJlZmVycmVkX3VzZXJuYW1lIjoidHJpc2hqYW1AZ29vZ2xlcHVibGljc2VjdG9yLm9ubWljcm9zb2Z0LmNvbSIsInJoIjoiMC5BY29BcnM3TTR0Z0diRS1HR3RBcEtsX2pLam03VTdldUJ6aElqWVR4WXdFb0FwZjZBRTguIiwicm9sZXMiOlsiMyJdLCJzdWIiOiJjUnd2QnlHNUxyNzJOWU83WW9Cc3pmZHFkSXNxWWtEUnp2VVYyMDlQdmI4IiwidGlkIjoiZTJjY2NlYWUtMDZkOC00ZjZjLTg2MWEtZDAyOTJhNWZlMzJhIiwidXRpIjoiMk1DYkpkSFN2VS01NnY5VFZIZ1BBQSIsInZlciI6IjIuMCIsIndpZHMiOlsiMjkyMzJjZGYtOTMyMy00MmZkLWFkZTItMWQwOTdhZjNlNGRlIiwiNjJlOTAzOTQtNjlmNS00MjM3LTkxOTAtMDEyMTc3MTQ1ZTEwIiwiYjc5ZmJmNGQtM2VmOS00Njg5LTgxNDMtNzZiMTk0ZTg1NTA5Il19.MMcR5PLOspACmjhVVBjyyc2_BWqPMRx1eCEK4Sk9Tqxcpgt6GLqXjr26nFnpBofHnCfnzgsRjXpeLnsNpaKooLSEL_sundmAjt2L9iAIGeXEic-MHwbeD_QXIOkwfRSpD1yDonYDNdApeoNS0_5qOlB8HT3hxoSfzOkahObXp_Ws1J4LY1vH7qmgoACi4bWTNzjhdmSCg9RV2S2fbJim4zyUd-m7xaRkFmCkvoicFt2HXZn5d857uEcNMupN2Is3bKfsguKzM0bpaABpvrCyJza_t8SvQ5UJX74t1ZWkZd2SToVyvmW2CV-qD0IeEOIfEKDFvv37jNjB5fVayaFZWA\"}'"
      ]
     },
     "execution_count": 132,
     "metadata": {},
     "output_type": "execute_result"
    }
   ],
   "source": [
    "json.dumps({'provider_id_token': MS_TOKEN})"
   ]
  },
  {
   "cell_type": "markdown",
   "metadata": {},
   "source": [
    "## Retrieve references"
   ]
  },
  {
   "cell_type": "code",
   "execution_count": null,
   "metadata": {},
   "outputs": [],
   "source": []
  }
 ],
 "metadata": {
  "kernelspec": {
   "display_name": ".v1",
   "language": "python",
   "name": "python3"
  },
  "language_info": {
   "codemirror_mode": {
    "name": "ipython",
    "version": 3
   },
   "file_extension": ".py",
   "mimetype": "text/x-python",
   "name": "python",
   "nbconvert_exporter": "python",
   "pygments_lexer": "ipython3",
   "version": "3.11.7"
  }
 },
 "nbformat": 4,
 "nbformat_minor": 2
}
