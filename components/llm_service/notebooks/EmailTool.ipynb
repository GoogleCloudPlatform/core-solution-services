{
 "cells": [
  {
   "cell_type": "code",
   "execution_count": 1,
   "id": "61f9ba3c-8703-4b16-8af2-9d5d4d327b2d",
   "metadata": {},
   "outputs": [],
   "source": [
    "import os\n",
    "import sys\n",
    "\n",
    "sys.path.append(\"../../common/src\")\n",
    "sys.path.append(\"../src\")\n",
    "os.chdir(\"../src\")"
   ]
  },
  {
   "cell_type": "code",
   "execution_count": 2,
   "id": "f4c6b8e1-4ecd-40d3-bede-e906d1686155",
   "metadata": {},
   "outputs": [],
   "source": [
    "from langchain.agents import Tool, AgentExecutor, BaseMultiActionAgent, AgentOutputParser\n",
    "from langchain.tools.gmail.utils import build_resource_service, get_gmail_credentials\n",
    "from langchain.agents.agent_toolkits import GmailToolkit\n",
    "from langchain.agents import initialize_agent, AgentType\n",
    "from langchain.agents.chat.base import ChatAgent\n",
    "from langchain.prompts import StringPromptTemplate, ChatPromptTemplate, PromptTemplate\n",
    "from langchain.llms import OpenAI, VertexAI\n",
    "from langchain.chat_models import ChatVertexAI, ChatOpenAI\n",
    "from langchain.utilities import SerpAPIWrapper\n",
    "from langchain.chains import LLMChain\n",
    "from typing import List, Union\n",
    "from langchain.schema import AgentAction, AgentFinish, OutputParserException\n",
    "import re"
   ]
  },
  {
   "cell_type": "code",
   "execution_count": 3,
   "id": "24c68b1d-aea4-456c-ac69-2c7854f67bf1",
   "metadata": {},
   "outputs": [],
   "source": [
    "!export PROJECT_ID=\"gcp-mira-demo\"\n",
    "project = \"gcp-mira-demo\"\n",
    "os.environ[\"PROJECT_ID\"] = project"
   ]
  },
  {
   "cell_type": "code",
   "execution_count": 4,
   "id": "8fa76111-f1f8-4789-b202-4ca10a69abfd",
   "metadata": {},
   "outputs": [],
   "source": [
    "import config\n",
    "from config import (VERTEX_LLM_TYPE_BISON_CHAT,\n",
    "                    VERTEX_LLM_TYPE_BISON_TEXT,\n",
    "                    OPENAI_LLM_TYPE_GPT3_5,\n",
    "                    OPENAI_LLM_TYPE_GPT4,\n",
    "                    COHERE_LLM_TYPE,\n",
    "                    LLM_BACKEND_ROBOT_USERNAME,\n",
    "                    LLM_BACKEND_ROBOT_PASSWORD,\n",
    "                    OPENAI_API_KEY)"
   ]
  },
  {
   "cell_type": "code",
   "execution_count": 5,
   "id": "4b1b4f19-3bfa-4bb9-89e9-b7fe8aa16445",
   "metadata": {},
   "outputs": [],
   "source": [
    "llm = OpenAI(temperature=0, openai_api_key=OPENAI_API_KEY)"
   ]
  },
  {
   "cell_type": "code",
   "execution_count": 6,
   "id": "fc425d33-29e7-4a85-80a5-9d431b6bf5a3",
   "metadata": {},
   "outputs": [],
   "source": [
    "#  email_template = \"\"\"\n",
    " #   You are worker working for NYS State Medicaid Agency. Write a email to recipient: {recipient} \\n\\n \n",
    "  #  \\n\\n Use text delimited by triple backticks to create the email body text:'''{email_body}'''\n",
    "    \n",
    "   # \"\"\""
   ]
  },
  {
   "cell_type": "code",
   "execution_count": 7,
   "id": "042b170e-2add-4f82-9eb8-4a4ff8eef191",
   "metadata": {},
   "outputs": [],
   "source": [
    " email_template = \"\"\"\n",
    "    You are worker working for {state} State Medicaid Agency. Create only the email message body for recipient: {recipient} \\n\\n \n",
    "    \\n\\n Use text delimited by triple backticks to create the email body text:'''{email_body}'''\n",
    "    \n",
    "    \"\"\""
   ]
  },
  {
   "cell_type": "code",
   "execution_count": 8,
   "id": "b88c087e-19f3-48ba-a666-691e05fba83a",
   "metadata": {},
   "outputs": [],
   "source": [
    "email_body_prompt = ChatPromptTemplate.from_template(email_template)"
   ]
  },
  {
   "cell_type": "code",
   "execution_count": 9,
   "id": "81441260-dce4-485f-9f1a-812361f9580b",
   "metadata": {},
   "outputs": [],
   "source": [
    "#email_body_prompt.messages[0].prompt.input_variables"
   ]
  },
  {
   "cell_type": "code",
   "execution_count": 10,
   "id": "066f6d2e-ae7f-493f-905c-d293b9967b67",
   "metadata": {},
   "outputs": [],
   "source": [
    "llm_chain = LLMChain(prompt=email_body_prompt, llm=llm)"
   ]
  },
  {
   "cell_type": "code",
   "execution_count": 11,
   "id": "c9114680-0e05-47f2-a5b4-1e4ad1cee35e",
   "metadata": {},
   "outputs": [],
   "source": [
    "prompt_string = \"\"\"Create an email to this medicaid applicant that is missing income verification asking them to email a pay stub from their employers\"\"\""
   ]
  },
  {
   "cell_type": "code",
   "execution_count": 12,
   "id": "dc0f769d-e23f-4111-a695-61752bd144d0",
   "metadata": {},
   "outputs": [],
   "source": [
    "sender='mira-admin@lavjain.altostrat.com'"
   ]
  },
  {
   "cell_type": "code",
   "execution_count": 13,
   "id": "3ccbd29d-0166-46ab-b5ef-97788193f62a",
   "metadata": {},
   "outputs": [],
   "source": [
    "recipient='sumeetvij@gmail.com'"
   ]
  },
  {
   "cell_type": "code",
   "execution_count": 14,
   "id": "403094af-e16f-4ce9-aa85-adb12ebe506b",
   "metadata": {},
   "outputs": [],
   "source": [
    "state='NYS'"
   ]
  },
  {
   "cell_type": "code",
   "execution_count": 15,
   "id": "3a41a24c-e196-443c-837a-0d6359953c3c",
   "metadata": {},
   "outputs": [
    {
     "name": "stdout",
     "output_type": "stream",
     "text": [
      "\n",
      "Dear Sumeet Vij, \n",
      "\n",
      "We are writing to you in regards to your application for New York State Medicaid. We have noticed that we are missing income verification from you. \n",
      "\n",
      "In order to complete your application, we kindly ask that you email a pay stub from your employer to us. \n",
      "\n",
      "Thank you for your cooperation. \n",
      "\n",
      "Sincerely, \n",
      "NYS State Medicaid Agency\n"
     ]
    }
   ],
   "source": [
    "message = llm_chain.run(sender=sender, state=state,recipient=recipient,email_body=prompt_string)\n",
    "print(f\"{message}\")"
   ]
  },
  {
   "cell_type": "code",
   "execution_count": 16,
   "id": "8e455e9a-1a19-4b61-b979-8360e63250bf",
   "metadata": {},
   "outputs": [],
   "source": [
    " subject_template = \"\"\"\n",
    "    Create a subject for the following email: {email_body} \\n\\n \n",
    "    \n",
    "    \"\"\""
   ]
  },
  {
   "cell_type": "code",
   "execution_count": 17,
   "id": "7bbd3138-0423-43a4-a8cd-9289f0ae549d",
   "metadata": {},
   "outputs": [],
   "source": [
    "subject_prompt = ChatPromptTemplate.from_template(subject_template)"
   ]
  },
  {
   "cell_type": "code",
   "execution_count": 18,
   "id": "6535d449-cc9c-46ed-bcfc-bdf4839c8efc",
   "metadata": {},
   "outputs": [],
   "source": [
    "llm_chain = LLMChain(prompt=subject_prompt, llm=llm)"
   ]
  },
  {
   "cell_type": "code",
   "execution_count": 19,
   "id": "27ddf7de-e5f7-4201-aaef-669982018dde",
   "metadata": {},
   "outputs": [
    {
     "name": "stdout",
     "output_type": "stream",
     "text": [
      " Subject: Request for Income Verification for New York State Medicaid Application\n"
     ]
    }
   ],
   "source": [
    "subject = llm_chain.run(email_body=message)\n",
    "print(f\"{subject}\")"
   ]
  },
  {
   "cell_type": "code",
   "execution_count": 20,
   "id": "af444481-e28f-4a3c-9a7c-5e52e7b519b4",
   "metadata": {},
   "outputs": [],
   "source": [
    "credentials = get_gmail_credentials(\n",
    "    token_file=\"token.json\",\n",
    "    scopes=[\"https://mail.google.com/\"],\n",
    "    client_secrets_file=\"./data/credentials.json\",\n",
    ")\n",
    "api_resource = build_resource_service(credentials=credentials)\n",
    "toolkit = GmailToolkit(api_resource=api_resource)"
   ]
  },
  {
   "cell_type": "code",
   "execution_count": 21,
   "id": "82c56c42-d03a-4c67-bbf6-d274001d164d",
   "metadata": {},
   "outputs": [],
   "source": [
    "tools = toolkit.get_tools()"
   ]
  },
  {
   "cell_type": "code",
   "execution_count": 22,
   "id": "d900448f-c91f-4567-9f6d-99ebbc66dd6b",
   "metadata": {},
   "outputs": [],
   "source": [
    "input = {'to':recipient, 'subject':subject,'message':message}"
   ]
  },
  {
   "cell_type": "code",
   "execution_count": 23,
   "id": "b73cb230-dbe9-4f14-a1c0-2511bffd4da9",
   "metadata": {},
   "outputs": [
    {
     "data": {
      "text/plain": [
       "'Message sent. Message Id: 18bcf3361e26919d'"
      ]
     },
     "execution_count": 23,
     "metadata": {},
     "output_type": "execute_result"
    }
   ],
   "source": [
    "tools[1].invoke(input=input)"
   ]
  },
  {
   "cell_type": "code",
   "execution_count": 24,
   "id": "9aa5f109-a246-4491-9c4e-dca297c748a0",
   "metadata": {},
   "outputs": [],
   "source": [
    "user_id = \"5nJrkPWa3D0yCKA853mD\""
   ]
  },
  {
   "cell_type": "code",
   "execution_count": null,
   "id": "a2f0e363-c256-4982-a374-b24f2af0338d",
   "metadata": {},
   "outputs": [],
   "source": []
  },
  {
   "cell_type": "code",
   "execution_count": null,
   "id": "95e38ee6-46e7-421a-a441-d60bee40e4a0",
   "metadata": {},
   "outputs": [],
   "source": []
  }
 ],
 "metadata": {
  "kernelspec": {
   "display_name": "Python 3 (ipykernel)",
   "language": "python",
   "name": "python3"
  },
  "language_info": {
   "codemirror_mode": {
    "name": "ipython",
    "version": 3
   },
   "file_extension": ".py",
   "mimetype": "text/x-python",
   "name": "python",
   "nbconvert_exporter": "python",
   "pygments_lexer": "ipython3",
   "version": "3.9.6"
  }
 },
 "nbformat": 4,
 "nbformat_minor": 5
}
