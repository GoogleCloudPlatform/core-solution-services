{
 "cells": [
  {
   "cell_type": "code",
   "execution_count": 1,
   "id": "efa9d62b-bbfe-4dd0-9004-a2b872f34283",
   "metadata": {},
   "outputs": [],
   "source": [
    "# !export PROJECT_ID=\"your-project-id\"\n",
    "\n",
    "import os\n",
    "import sys\n",
    "sys.path.append(\"../../common/src\")\n",
    "sys.path.append(\"../src\")\n",
    "PROJECT_ID = os.getenv(\"PROJECT_ID\")"
   ]
  },
  {
   "cell_type": "code",
   "execution_count": 2,
   "id": "138c81be-a61d-498e-9d01-72d4bbe3e9c4",
   "metadata": {},
   "outputs": [
    {
     "ename": "ImportError",
     "evalue": "cannot import name 'UUID' from 'sqlalchemy' (/Users/lramsey/work/ailp/lukmanr-gps-core-solution-services/components/llm_service/notebooks/.venv/lib/python3.9/site-packages/sqlalchemy/__init__.py)",
     "output_type": "error",
     "traceback": [
      "\u001b[0;31m---------------------------------------------------------------------------\u001b[0m",
      "\u001b[0;31mImportError\u001b[0m                               Traceback (most recent call last)",
      "Cell \u001b[0;32mIn[2], line 1\u001b[0m\n\u001b[0;32m----> 1\u001b[0m \u001b[38;5;28;01mfrom\u001b[39;00m \u001b[38;5;21;01mconfig\u001b[39;00m \u001b[38;5;28;01mimport\u001b[39;00m (get_model_config, get_provider_models,\n\u001b[1;32m      2\u001b[0m                     get_provider_value, get_provider_config,\n\u001b[1;32m      3\u001b[0m                     get_provider_model_config,\n\u001b[1;32m      4\u001b[0m                     PROVIDER_VERTEX, PROVIDER_TRUSS,\n\u001b[1;32m      5\u001b[0m                     PROVIDER_MODEL_GARDEN,\n\u001b[1;32m      6\u001b[0m                     PROVIDER_LANGCHAIN, PROVIDER_LLM_SERVICE,\n\u001b[1;32m      7\u001b[0m                     KEY_MODEL_ENDPOINT, KEY_MODEL_NAME,\n\u001b[1;32m      8\u001b[0m                     KEY_MODEL_PARAMS,\n\u001b[1;32m      9\u001b[0m                     DEFAULT_LLM_TYPE\n\u001b[1;32m     10\u001b[0m                     )\n",
      "File \u001b[0;32m~/work/ailp/lukmanr-gps-core-solution-services/components/llm_service/notebooks/../src/config/__init__.py:17\u001b[0m\n\u001b[1;32m      1\u001b[0m \u001b[38;5;66;03m# Copyright 2023 Google LLC\u001b[39;00m\n\u001b[1;32m      2\u001b[0m \u001b[38;5;66;03m#\u001b[39;00m\n\u001b[1;32m      3\u001b[0m \u001b[38;5;66;03m# Licensed under the Apache License, Version 2.0 (the \"License\");\u001b[39;00m\n\u001b[0;32m   (...)\u001b[0m\n\u001b[1;32m     12\u001b[0m \u001b[38;5;66;03m# See the License for the specific language governing permissions and\u001b[39;00m\n\u001b[1;32m     13\u001b[0m \u001b[38;5;66;03m# limitations under the License.\u001b[39;00m\n\u001b[1;32m     14\u001b[0m \u001b[38;5;124;03m\"\"\"\u001b[39;00m\n\u001b[1;32m     15\u001b[0m \u001b[38;5;124;03mConfig for LLM service\u001b[39;00m\n\u001b[1;32m     16\u001b[0m \u001b[38;5;124;03m\"\"\"\u001b[39;00m\n\u001b[0;32m---> 17\u001b[0m \u001b[38;5;28;01mfrom\u001b[39;00m \u001b[38;5;21;01mconfig\u001b[39;00m\u001b[38;5;21;01m.\u001b[39;00m\u001b[38;5;21;01mconfig\u001b[39;00m \u001b[38;5;28;01mimport\u001b[39;00m (\n\u001b[1;32m     18\u001b[0m     \u001b[38;5;66;03m# platform config\u001b[39;00m\n\u001b[1;32m     19\u001b[0m     PROJECT_ID,\n\u001b[1;32m     20\u001b[0m     GCP_PROJECT,\n\u001b[1;32m     21\u001b[0m     REGION,\n\u001b[1;32m     22\u001b[0m     SKAFFOLD_NAMESPACE,\n\u001b[1;32m     23\u001b[0m     GKE_CLUSTER,\n\u001b[1;32m     24\u001b[0m     GCP_ZONE,\n\u001b[1;32m     25\u001b[0m     DATABASE_PREFIX,\n\u001b[1;32m     26\u001b[0m     USER_MANAGEMENT_BASE_URL,\n\u001b[1;32m     27\u001b[0m     RULES_ENGINE_BASE_URL,\n\u001b[1;32m     28\u001b[0m     SERVICES,\n\u001b[1;32m     29\u001b[0m \n\u001b[1;32m     30\u001b[0m     \u001b[38;5;66;03m# service config\u001b[39;00m\n\u001b[1;32m     31\u001b[0m     LLM_SERVICE_PATH,\n\u001b[1;32m     32\u001b[0m     PORT,\n\u001b[1;32m     33\u001b[0m     API_BASE_URL,\n\u001b[1;32m     34\u001b[0m     CONTAINER_NAME,\n\u001b[1;32m     35\u001b[0m     DEPLOYMENT_NAME,\n\u001b[1;32m     36\u001b[0m     SERVICE_NAME,\n\u001b[1;32m     37\u001b[0m     PAYLOAD_FILE_SIZE,\n\u001b[1;32m     38\u001b[0m     ERROR_RESPONSES,\n\u001b[1;32m     39\u001b[0m     JOB_NAMESPACE,\n\u001b[1;32m     40\u001b[0m     auth_client,\n\u001b[1;32m     41\u001b[0m \n\u001b[1;32m     42\u001b[0m     \u001b[38;5;66;03m# model config object\u001b[39;00m\n\u001b[1;32m     43\u001b[0m     get_model_config,\n\u001b[1;32m     44\u001b[0m     MODEL_CONFIG_PATH,\n\u001b[1;32m     45\u001b[0m \n\u001b[1;32m     46\u001b[0m     \u001b[38;5;66;03m# secrets\u001b[39;00m\n\u001b[1;32m     47\u001b[0m     LLM_BACKEND_ROBOT_USERNAME,\n\u001b[1;32m     48\u001b[0m     LLM_BACKEND_ROBOT_PASSWORD,\n\u001b[1;32m     49\u001b[0m \n\u001b[1;32m     50\u001b[0m     \u001b[38;5;66;03m# LLM vendor flags\u001b[39;00m\n\u001b[1;32m     51\u001b[0m     ENABLE_OPENAI_LLM,\n\u001b[1;32m     52\u001b[0m     ENABLE_COHERE_LLM,\n\u001b[1;32m     53\u001b[0m \n\u001b[1;32m     54\u001b[0m     \u001b[38;5;66;03m# default LLM models\u001b[39;00m\n\u001b[1;32m     55\u001b[0m     DEFAULT_QUERY_CHAT_MODEL,\n\u001b[1;32m     56\u001b[0m     DEFAULT_QUERY_EMBEDDING_MODEL,\n\u001b[1;32m     57\u001b[0m     DEFAULT_LLM_TYPE,\n\u001b[1;32m     58\u001b[0m \n\u001b[1;32m     59\u001b[0m     \u001b[38;5;66;03m# query engine and other defaults\u001b[39;00m\n\u001b[1;32m     60\u001b[0m     DEFAULT_WEB_DEPTH_LIMIT,\n\u001b[1;32m     61\u001b[0m \n\u001b[1;32m     62\u001b[0m     \u001b[38;5;66;03m# agent config\u001b[39;00m\n\u001b[1;32m     63\u001b[0m     AGENT_CONFIG_PATH,\n\u001b[1;32m     64\u001b[0m     AGENT_DATASET_CONFIG_PATH,\n\u001b[1;32m     65\u001b[0m )\n\u001b[1;32m     67\u001b[0m \u001b[38;5;28;01mfrom\u001b[39;00m \u001b[38;5;21;01mconfig\u001b[39;00m\u001b[38;5;21;01m.\u001b[39;00m\u001b[38;5;21;01mmodel_config\u001b[39;00m \u001b[38;5;28;01mimport\u001b[39;00m (\n\u001b[1;32m     68\u001b[0m     \u001b[38;5;66;03m# llm type constants\u001b[39;00m\n\u001b[1;32m     69\u001b[0m     OPENAI_LLM_TYPE_GPT3_5,\n\u001b[0;32m   (...)\u001b[0m\n\u001b[1;32m    105\u001b[0m     VENDOR_COHERE,\n\u001b[1;32m    106\u001b[0m     )\n\u001b[1;32m    108\u001b[0m \u001b[38;5;28;01mfrom\u001b[39;00m \u001b[38;5;21;01mconfig\u001b[39;00m\u001b[38;5;21;01m.\u001b[39;00m\u001b[38;5;21;01mvector_store_config\u001b[39;00m \u001b[38;5;28;01mimport\u001b[39;00m (\n\u001b[1;32m    109\u001b[0m   DEFAULT_VECTOR_STORE,\n\u001b[1;32m    110\u001b[0m   VECTOR_STORES,\n\u001b[1;32m    111\u001b[0m   PG_HOST\n\u001b[1;32m    112\u001b[0m )\n",
      "File \u001b[0;32m~/work/ailp/lukmanr-gps-core-solution-services/components/llm_service/notebooks/../src/config/config.py:29\u001b[0m\n\u001b[1;32m     25\u001b[0m \u001b[38;5;28;01mfrom\u001b[39;00m \u001b[38;5;21;01mschemas\u001b[39;00m\u001b[38;5;21;01m.\u001b[39;00m\u001b[38;5;21;01merror_schema\u001b[39;00m \u001b[38;5;28;01mimport\u001b[39;00m (UnauthorizedResponseModel,\n\u001b[1;32m     26\u001b[0m                                   InternalServerErrorResponseModel,\n\u001b[1;32m     27\u001b[0m                                   ValidationErrorResponseModel)\n\u001b[1;32m     28\u001b[0m \u001b[38;5;28;01mfrom\u001b[39;00m \u001b[38;5;21;01mgoogle\u001b[39;00m\u001b[38;5;21;01m.\u001b[39;00m\u001b[38;5;21;01mcloud\u001b[39;00m \u001b[38;5;28;01mimport\u001b[39;00m secretmanager\n\u001b[0;32m---> 29\u001b[0m \u001b[38;5;28;01mfrom\u001b[39;00m \u001b[38;5;21;01mconfig\u001b[39;00m\u001b[38;5;21;01m.\u001b[39;00m\u001b[38;5;21;01mmodel_config\u001b[39;00m \u001b[38;5;28;01mimport\u001b[39;00m (ModelConfig, VENDOR_OPENAI,\n\u001b[1;32m     30\u001b[0m                                 PROVIDER_VERTEX, VENDOR_COHERE,\n\u001b[1;32m     31\u001b[0m                                 PROVIDER_LANGCHAIN, PROVIDER_MODEL_GARDEN,\n\u001b[1;32m     32\u001b[0m                                 PROVIDER_TRUSS, PROVIDER_LLM_SERVICE,\n\u001b[1;32m     33\u001b[0m                                 VERTEX_LLM_TYPE_BISON_CHAT,\n\u001b[1;32m     34\u001b[0m                                 VERTEX_LLM_TYPE_GECKO_EMBEDDING\n\u001b[1;32m     35\u001b[0m                                 )\n\u001b[1;32m     37\u001b[0m Logger \u001b[38;5;241m=\u001b[39m Logger\u001b[38;5;241m.\u001b[39mget_logger(\u001b[38;5;18m__file__\u001b[39m)\n\u001b[1;32m     38\u001b[0m secrets \u001b[38;5;241m=\u001b[39m secretmanager\u001b[38;5;241m.\u001b[39mSecretManagerServiceClient()\n",
      "File \u001b[0;32m~/work/ailp/lukmanr-gps-core-solution-services/components/llm_service/notebooks/../src/config/model_config.py:33\u001b[0m\n\u001b[1;32m     31\u001b[0m \u001b[38;5;28;01mimport\u001b[39;00m \u001b[38;5;21;01mlangchain\u001b[39;00m\u001b[38;5;21;01m.\u001b[39;00m\u001b[38;5;21;01mchat_models\u001b[39;00m \u001b[38;5;28;01mas\u001b[39;00m \u001b[38;5;21;01mlangchain_chat\u001b[39;00m\n\u001b[1;32m     32\u001b[0m \u001b[38;5;28;01mimport\u001b[39;00m \u001b[38;5;21;01mlangchain\u001b[39;00m\u001b[38;5;21;01m.\u001b[39;00m\u001b[38;5;21;01mllms\u001b[39;00m \u001b[38;5;28;01mas\u001b[39;00m \u001b[38;5;21;01mlangchain_llm\u001b[39;00m\n\u001b[0;32m---> 33\u001b[0m \u001b[38;5;28;01mimport\u001b[39;00m \u001b[38;5;21;01mlangchain\u001b[39;00m\u001b[38;5;21;01m.\u001b[39;00m\u001b[38;5;21;01membeddings\u001b[39;00m \u001b[38;5;28;01mas\u001b[39;00m \u001b[38;5;21;01mlangchain_embedding\u001b[39;00m\n\u001b[1;32m     35\u001b[0m Logger \u001b[38;5;241m=\u001b[39m Logger\u001b[38;5;241m.\u001b[39mget_logger(\u001b[38;5;18m__file__\u001b[39m)\n\u001b[1;32m     37\u001b[0m LANGCHAIN_CHAT_CLASSES \u001b[38;5;241m=\u001b[39m {\n\u001b[1;32m     38\u001b[0m   k:klass \u001b[38;5;28;01mfor\u001b[39;00m (k, klass) \u001b[38;5;129;01min\u001b[39;00m inspect\u001b[38;5;241m.\u001b[39mgetmembers(langchain_chat)\n\u001b[1;32m     39\u001b[0m   \u001b[38;5;28;01mif\u001b[39;00m \u001b[38;5;28misinstance\u001b[39m(klass, \u001b[38;5;28mtype\u001b[39m)\n\u001b[1;32m     40\u001b[0m }\n",
      "File \u001b[0;32m~/work/ailp/lukmanr-gps-core-solution-services/components/llm_service/notebooks/.venv/lib/python3.9/site-packages/langchain/embeddings/__init__.py:20\u001b[0m\n\u001b[1;32m     16\u001b[0m \u001b[38;5;28;01mfrom\u001b[39;00m \u001b[38;5;21;01mtyping\u001b[39;00m \u001b[38;5;28;01mimport\u001b[39;00m Any\n\u001b[1;32m     18\u001b[0m \u001b[38;5;28;01mfrom\u001b[39;00m \u001b[38;5;21;01mlangchain_core\u001b[39;00m\u001b[38;5;21;01m.\u001b[39;00m\u001b[38;5;21;01m_api\u001b[39;00m \u001b[38;5;28;01mimport\u001b[39;00m LangChainDeprecationWarning\n\u001b[0;32m---> 20\u001b[0m \u001b[38;5;28;01mfrom\u001b[39;00m \u001b[38;5;21;01mlangchain\u001b[39;00m\u001b[38;5;21;01m.\u001b[39;00m\u001b[38;5;21;01membeddings\u001b[39;00m\u001b[38;5;21;01m.\u001b[39;00m\u001b[38;5;21;01mcache\u001b[39;00m \u001b[38;5;28;01mimport\u001b[39;00m CacheBackedEmbeddings\n\u001b[1;32m     21\u001b[0m \u001b[38;5;28;01mfrom\u001b[39;00m \u001b[38;5;21;01mlangchain\u001b[39;00m\u001b[38;5;21;01m.\u001b[39;00m\u001b[38;5;21;01mutils\u001b[39;00m\u001b[38;5;21;01m.\u001b[39;00m\u001b[38;5;21;01minteractive_env\u001b[39;00m \u001b[38;5;28;01mimport\u001b[39;00m is_interactive_env\n\u001b[1;32m     24\u001b[0m \u001b[38;5;28;01mdef\u001b[39;00m \u001b[38;5;21m__getattr__\u001b[39m(name: \u001b[38;5;28mstr\u001b[39m) \u001b[38;5;241m-\u001b[39m\u001b[38;5;241m>\u001b[39m Any:\n",
      "File \u001b[0;32m~/work/ailp/lukmanr-gps-core-solution-services/components/llm_service/notebooks/.venv/lib/python3.9/site-packages/langchain/embeddings/cache.py:20\u001b[0m\n\u001b[1;32m     17\u001b[0m \u001b[38;5;28;01mfrom\u001b[39;00m \u001b[38;5;21;01mlangchain_core\u001b[39;00m\u001b[38;5;21;01m.\u001b[39;00m\u001b[38;5;21;01membeddings\u001b[39;00m \u001b[38;5;28;01mimport\u001b[39;00m Embeddings\n\u001b[1;32m     18\u001b[0m \u001b[38;5;28;01mfrom\u001b[39;00m \u001b[38;5;21;01mlangchain_core\u001b[39;00m\u001b[38;5;21;01m.\u001b[39;00m\u001b[38;5;21;01mstores\u001b[39;00m \u001b[38;5;28;01mimport\u001b[39;00m BaseStore, ByteStore\n\u001b[0;32m---> 20\u001b[0m \u001b[38;5;28;01mfrom\u001b[39;00m \u001b[38;5;21;01mlangchain\u001b[39;00m\u001b[38;5;21;01m.\u001b[39;00m\u001b[38;5;21;01mstorage\u001b[39;00m\u001b[38;5;21;01m.\u001b[39;00m\u001b[38;5;21;01mencoder_backed\u001b[39;00m \u001b[38;5;28;01mimport\u001b[39;00m EncoderBackedStore\n\u001b[1;32m     22\u001b[0m NAMESPACE_UUID \u001b[38;5;241m=\u001b[39m uuid\u001b[38;5;241m.\u001b[39mUUID(\u001b[38;5;28mint\u001b[39m\u001b[38;5;241m=\u001b[39m\u001b[38;5;241m1985\u001b[39m)\n\u001b[1;32m     25\u001b[0m \u001b[38;5;28;01mdef\u001b[39;00m \u001b[38;5;21m_hash_string_to_uuid\u001b[39m(input_string: \u001b[38;5;28mstr\u001b[39m) \u001b[38;5;241m-\u001b[39m\u001b[38;5;241m>\u001b[39m uuid\u001b[38;5;241m.\u001b[39mUUID:\n",
      "File \u001b[0;32m~/work/ailp/lukmanr-gps-core-solution-services/components/llm_service/notebooks/.venv/lib/python3.9/site-packages/langchain/storage/__init__.py:15\u001b[0m\n\u001b[1;32m     13\u001b[0m \u001b[38;5;28;01mfrom\u001b[39;00m \u001b[38;5;21;01mlangchain\u001b[39;00m\u001b[38;5;21;01m.\u001b[39;00m\u001b[38;5;21;01mstorage\u001b[39;00m\u001b[38;5;21;01m.\u001b[39;00m\u001b[38;5;21;01m_lc_store\u001b[39;00m \u001b[38;5;28;01mimport\u001b[39;00m create_kv_docstore, create_lc_store\n\u001b[1;32m     14\u001b[0m \u001b[38;5;28;01mfrom\u001b[39;00m \u001b[38;5;21;01mlangchain\u001b[39;00m\u001b[38;5;21;01m.\u001b[39;00m\u001b[38;5;21;01mstorage\u001b[39;00m\u001b[38;5;21;01m.\u001b[39;00m\u001b[38;5;21;01mencoder_backed\u001b[39;00m \u001b[38;5;28;01mimport\u001b[39;00m EncoderBackedStore\n\u001b[0;32m---> 15\u001b[0m \u001b[38;5;28;01mfrom\u001b[39;00m \u001b[38;5;21;01mlangchain\u001b[39;00m\u001b[38;5;21;01m.\u001b[39;00m\u001b[38;5;21;01mstorage\u001b[39;00m\u001b[38;5;21;01m.\u001b[39;00m\u001b[38;5;21;01mfile_system\u001b[39;00m \u001b[38;5;28;01mimport\u001b[39;00m LocalFileStore\n\u001b[1;32m     16\u001b[0m \u001b[38;5;28;01mfrom\u001b[39;00m \u001b[38;5;21;01mlangchain\u001b[39;00m\u001b[38;5;21;01m.\u001b[39;00m\u001b[38;5;21;01mstorage\u001b[39;00m\u001b[38;5;21;01m.\u001b[39;00m\u001b[38;5;21;01min_memory\u001b[39;00m \u001b[38;5;28;01mimport\u001b[39;00m InMemoryByteStore, InMemoryStore\n\u001b[1;32m     17\u001b[0m \u001b[38;5;28;01mfrom\u001b[39;00m \u001b[38;5;21;01mlangchain\u001b[39;00m\u001b[38;5;21;01m.\u001b[39;00m\u001b[38;5;21;01mutils\u001b[39;00m\u001b[38;5;21;01m.\u001b[39;00m\u001b[38;5;21;01minteractive_env\u001b[39;00m \u001b[38;5;28;01mimport\u001b[39;00m is_interactive_env\n",
      "File \u001b[0;32m~/work/ailp/lukmanr-gps-core-solution-services/components/llm_service/notebooks/.venv/lib/python3.9/site-packages/langchain/storage/file_system.py:8\u001b[0m\n\u001b[1;32m      4\u001b[0m \u001b[38;5;28;01mfrom\u001b[39;00m \u001b[38;5;21;01mtyping\u001b[39;00m \u001b[38;5;28;01mimport\u001b[39;00m Iterator, List, Optional, Sequence, Tuple, Union\n\u001b[1;32m      6\u001b[0m \u001b[38;5;28;01mfrom\u001b[39;00m \u001b[38;5;21;01mlangchain_core\u001b[39;00m\u001b[38;5;21;01m.\u001b[39;00m\u001b[38;5;21;01mstores\u001b[39;00m \u001b[38;5;28;01mimport\u001b[39;00m ByteStore\n\u001b[0;32m----> 8\u001b[0m \u001b[38;5;28;01mfrom\u001b[39;00m \u001b[38;5;21;01mlangchain\u001b[39;00m\u001b[38;5;21;01m.\u001b[39;00m\u001b[38;5;21;01mstorage\u001b[39;00m\u001b[38;5;21;01m.\u001b[39;00m\u001b[38;5;21;01mexceptions\u001b[39;00m \u001b[38;5;28;01mimport\u001b[39;00m InvalidKeyException\n\u001b[1;32m     11\u001b[0m \u001b[38;5;28;01mclass\u001b[39;00m \u001b[38;5;21;01mLocalFileStore\u001b[39;00m(ByteStore):\n\u001b[1;32m     12\u001b[0m \u001b[38;5;250m    \u001b[39m\u001b[38;5;124;03m\"\"\"BaseStore interface that works on the local file system.\u001b[39;00m\n\u001b[1;32m     13\u001b[0m \n\u001b[1;32m     14\u001b[0m \u001b[38;5;124;03m    Examples:\u001b[39;00m\n\u001b[0;32m   (...)\u001b[0m\n\u001b[1;32m     36\u001b[0m \n\u001b[1;32m     37\u001b[0m \u001b[38;5;124;03m    \"\"\"\u001b[39;00m\n",
      "File \u001b[0;32m~/work/ailp/lukmanr-gps-core-solution-services/components/llm_service/notebooks/.venv/lib/python3.9/site-packages/langchain/storage/exceptions.py:1\u001b[0m\n\u001b[0;32m----> 1\u001b[0m \u001b[38;5;28;01mfrom\u001b[39;00m \u001b[38;5;21;01mlangchain_community\u001b[39;00m\u001b[38;5;21;01m.\u001b[39;00m\u001b[38;5;21;01mstorage\u001b[39;00m\u001b[38;5;21;01m.\u001b[39;00m\u001b[38;5;21;01mexceptions\u001b[39;00m \u001b[38;5;28;01mimport\u001b[39;00m InvalidKeyException\n\u001b[1;32m      3\u001b[0m __all__ \u001b[38;5;241m=\u001b[39m [\u001b[38;5;124m\"\u001b[39m\u001b[38;5;124mInvalidKeyException\u001b[39m\u001b[38;5;124m\"\u001b[39m]\n",
      "File \u001b[0;32m~/work/ailp/lukmanr-gps-core-solution-services/components/llm_service/notebooks/.venv/lib/python3.9/site-packages/langchain_community/storage/__init__.py:14\u001b[0m\n\u001b[1;32m      9\u001b[0m \u001b[38;5;28;01mfrom\u001b[39;00m \u001b[38;5;21;01mlangchain_community\u001b[39;00m\u001b[38;5;21;01m.\u001b[39;00m\u001b[38;5;21;01mstorage\u001b[39;00m\u001b[38;5;21;01m.\u001b[39;00m\u001b[38;5;21;01mastradb\u001b[39;00m \u001b[38;5;28;01mimport\u001b[39;00m (\n\u001b[1;32m     10\u001b[0m     AstraDBByteStore,\n\u001b[1;32m     11\u001b[0m     AstraDBStore,\n\u001b[1;32m     12\u001b[0m )\n\u001b[1;32m     13\u001b[0m \u001b[38;5;28;01mfrom\u001b[39;00m \u001b[38;5;21;01mlangchain_community\u001b[39;00m\u001b[38;5;21;01m.\u001b[39;00m\u001b[38;5;21;01mstorage\u001b[39;00m\u001b[38;5;21;01m.\u001b[39;00m\u001b[38;5;21;01mredis\u001b[39;00m \u001b[38;5;28;01mimport\u001b[39;00m RedisStore\n\u001b[0;32m---> 14\u001b[0m \u001b[38;5;28;01mfrom\u001b[39;00m \u001b[38;5;21;01mlangchain_community\u001b[39;00m\u001b[38;5;21;01m.\u001b[39;00m\u001b[38;5;21;01mstorage\u001b[39;00m\u001b[38;5;21;01m.\u001b[39;00m\u001b[38;5;21;01msql\u001b[39;00m \u001b[38;5;28;01mimport\u001b[39;00m (\n\u001b[1;32m     15\u001b[0m     SQLDocStore,\n\u001b[1;32m     16\u001b[0m     SQLStrStore,\n\u001b[1;32m     17\u001b[0m )\n\u001b[1;32m     18\u001b[0m \u001b[38;5;28;01mfrom\u001b[39;00m \u001b[38;5;21;01mlangchain_community\u001b[39;00m\u001b[38;5;21;01m.\u001b[39;00m\u001b[38;5;21;01mstorage\u001b[39;00m\u001b[38;5;21;01m.\u001b[39;00m\u001b[38;5;21;01mupstash_redis\u001b[39;00m \u001b[38;5;28;01mimport\u001b[39;00m (\n\u001b[1;32m     19\u001b[0m     UpstashRedisByteStore,\n\u001b[1;32m     20\u001b[0m     UpstashRedisStore,\n\u001b[1;32m     21\u001b[0m )\n\u001b[1;32m     23\u001b[0m __all__ \u001b[38;5;241m=\u001b[39m [\n\u001b[1;32m     24\u001b[0m     \u001b[38;5;124m\"\u001b[39m\u001b[38;5;124mAstraDBStore\u001b[39m\u001b[38;5;124m\"\u001b[39m,\n\u001b[1;32m     25\u001b[0m     \u001b[38;5;124m\"\u001b[39m\u001b[38;5;124mAstraDBByteStore\u001b[39m\u001b[38;5;124m\"\u001b[39m,\n\u001b[0;32m   (...)\u001b[0m\n\u001b[1;32m     30\u001b[0m     \u001b[38;5;124m\"\u001b[39m\u001b[38;5;124mSQLStrStore\u001b[39m\u001b[38;5;124m\"\u001b[39m,\n\u001b[1;32m     31\u001b[0m ]\n",
      "File \u001b[0;32m~/work/ailp/lukmanr-gps-core-solution-services/components/llm_service/notebooks/.venv/lib/python3.9/site-packages/langchain_community/storage/sql.py:9\u001b[0m\n\u001b[1;32m      6\u001b[0m \u001b[38;5;28;01mfrom\u001b[39;00m \u001b[38;5;21;01mtyping\u001b[39;00m \u001b[38;5;28;01mimport\u001b[39;00m Any, Generic, Iterator, List, Optional, Sequence, Tuple, TypeVar\n\u001b[1;32m      8\u001b[0m \u001b[38;5;28;01mimport\u001b[39;00m \u001b[38;5;21;01msqlalchemy\u001b[39;00m\n\u001b[0;32m----> 9\u001b[0m \u001b[38;5;28;01mfrom\u001b[39;00m \u001b[38;5;21;01msqlalchemy\u001b[39;00m \u001b[38;5;28;01mimport\u001b[39;00m JSON, UUID\n\u001b[1;32m     10\u001b[0m \u001b[38;5;28;01mfrom\u001b[39;00m \u001b[38;5;21;01msqlalchemy\u001b[39;00m\u001b[38;5;21;01m.\u001b[39;00m\u001b[38;5;21;01morm\u001b[39;00m \u001b[38;5;28;01mimport\u001b[39;00m Session, relationship\n\u001b[1;32m     12\u001b[0m \u001b[38;5;28;01mtry\u001b[39;00m:\n",
      "\u001b[0;31mImportError\u001b[0m: cannot import name 'UUID' from 'sqlalchemy' (/Users/lramsey/work/ailp/lukmanr-gps-core-solution-services/components/llm_service/notebooks/.venv/lib/python3.9/site-packages/sqlalchemy/__init__.py)"
     ]
    }
   ],
   "source": [
    "from config import (get_model_config, get_provider_models,\n",
    "                    get_provider_value, get_provider_config,\n",
    "                    get_provider_model_config,\n",
    "                    PROVIDER_VERTEX, PROVIDER_TRUSS,\n",
    "                    PROVIDER_MODEL_GARDEN,\n",
    "                    PROVIDER_LANGCHAIN, PROVIDER_LLM_SERVICE,\n",
    "                    KEY_MODEL_ENDPOINT, KEY_MODEL_NAME,\n",
    "                    KEY_MODEL_PARAMS,\n",
    "                    DEFAULT_LLM_TYPE\n",
    "                    )"
   ]
  },
  {
   "cell_type": "code",
   "execution_count": null,
   "id": "889f088c-1efa-4308-a641-be1ab98b11f3",
   "metadata": {},
   "outputs": [],
   "source": [
    "from services.llm_generate import google_llm_predict"
   ]
  },
  {
   "cell_type": "code",
   "execution_count": null,
   "id": "e1d9e00b-1cdf-47e0-9b45-f86e5780866d",
   "metadata": {},
   "outputs": [],
   "source": [
    "await google_llm_predict(\"what is the meaning of life\", True, \"chat-bison@002\")"
   ]
  },
  {
   "cell_type": "code",
   "execution_count": null,
   "id": "f51934f0-a605-46ab-89d1-a131c3771a02",
   "metadata": {},
   "outputs": [],
   "source": [
    "await google_llm_predict(\"What qualifies as an encounter in FQHC medicaid billing policy?\", True, \"gemini-pro\")"
   ]
  },
  {
   "cell_type": "code",
   "execution_count": null,
   "id": "c1647de6-dd4b-45ea-9fd1-4bb75b57459b",
   "metadata": {},
   "outputs": [],
   "source": []
  }
 ],
 "metadata": {
  "kernelspec": {
   "display_name": "Python 3 (ipykernel)",
   "language": "python",
   "name": "python3"
  },
  "language_info": {
   "codemirror_mode": {
    "name": "ipython",
    "version": 3
   },
   "file_extension": ".py",
   "mimetype": "text/x-python",
   "name": "python",
   "nbconvert_exporter": "python",
   "pygments_lexer": "ipython3",
   "version": "3.9.13"
  }
 },
 "nbformat": 4,
 "nbformat_minor": 5
}
