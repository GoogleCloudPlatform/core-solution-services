{
 "cells": [
  {
   "cell_type": "code",
   "execution_count": 1,
   "id": "efa9d62b-bbfe-4dd0-9004-a2b872f34283",
   "metadata": {},
   "outputs": [],
   "source": [
    "# !export PROJECT_ID=\"your-project-id\"\n",
    "\n",
    "import os\n",
    "import sys\n",
    "sys.path.append(\"../../common/src\")\n",
    "sys.path.append(\"../src\")\n",
    "PROJECT_ID = os.getenv(\"PROJECT_ID\")"
   ]
  },
  {
   "cell_type": "code",
   "execution_count": 2,
   "id": "138c81be-a61d-498e-9d01-72d4bbe3e9c4",
   "metadata": {},
   "outputs": [
    {
     "name": "stdout",
     "output_type": "stream",
     "text": [
      "INFO: [config/config.py:55 - <module>()] Namespace File not found, setting job namespace as default\n",
      "INFO: [config/config.py:105 - <module>()] ENABLE_GOOGLE_LLM = True\n",
      "INFO: [config/config.py:106 - <module>()] ENABLE_OPENAI_LLM = True\n",
      "INFO: [config/config.py:107 - <module>()] ENABLE_COHERE_LLM = True\n",
      "INFO: [config/config.py:108 - <module>()] ENABLE_GOOGLE_MODEL_GARDEN = True\n",
      "INFO: [config/config.py:109 - <module>()] ENABLE_TRUSS_LLAMA2 = True\n",
      "INFO: [config/vector_store_config.py:40 - <module>()] Default vector store = [matching_engine]\n",
      "INFO: [config/vector_store_config.py:49 - <module>()] PG_HOST = [127.0.0.1]\n",
      "INFO: [config/vector_store_config.py:50 - <module>()] PG_DBNAME = [pgvector]\n",
      "ERROR: [config/vector_store_config.py:77 - <module>()] Cannot connect to pgvector instance at 127.0.0.1: (psycopg2.OperationalError) connection to server at \"127.0.0.1\", port 5432 failed: FATAL:  database \"pgvector\" does not exist\n",
      "\n",
      "(Background on this error at: https://sqlalche.me/e/20/e3q8)\n"
     ]
    }
   ],
   "source": [
    "from config import (get_model_config, get_provider_models,\n",
    "                    get_provider_value, get_provider_config,\n",
    "                    get_provider_model_config,\n",
    "                    PROVIDER_VERTEX, PROVIDER_TRUSS,\n",
    "                    PROVIDER_MODEL_GARDEN,\n",
    "                    PROVIDER_LANGCHAIN, PROVIDER_LLM_SERVICE,\n",
    "                    KEY_MODEL_ENDPOINT, KEY_MODEL_NAME,\n",
    "                    KEY_MODEL_PARAMS,\n",
    "                    DEFAULT_LLM_TYPE\n",
    "                    )"
   ]
  },
  {
   "cell_type": "code",
   "execution_count": 3,
   "id": "889f088c-1efa-4308-a641-be1ab98b11f3",
   "metadata": {},
   "outputs": [],
   "source": [
    "from services.llm_generate import google_llm_predict"
   ]
  },
  {
   "cell_type": "code",
   "execution_count": 4,
   "id": "e1d9e00b-1cdf-47e0-9b45-f86e5780866d",
   "metadata": {},
   "outputs": [
    {
     "name": "stdout",
     "output_type": "stream",
     "text": [
      "INFO: [services/llm_generate.py:289 - google_llm_predict()] Generating text with a Google LLM given a prompt, is_chat=[True], google_llm=[chat-bison@002]\n",
      "INFO: [services/llm_generate.py:356 - google_llm_predict()] Received response from the Model [ The meaning of life is a deep philosophical question that has been pondered by humans for thousands of years. Different cultures, religions, and individuals have proposed various answers to this question, and there is no single, universally accepted answer. Some common themes that emerge in discussions about the meaning of life include finding purpose and fulfillment, making a positive impact on the world, and connecting with something greater than oneself. Ultimately, the meaning of life is a personal journey, and each individual must find their own answer to this question.]\n"
     ]
    },
    {
     "data": {
      "text/plain": [
       "' The meaning of life is a deep philosophical question that has been pondered by humans for thousands of years. Different cultures, religions, and individuals have proposed various answers to this question, and there is no single, universally accepted answer. Some common themes that emerge in discussions about the meaning of life include finding purpose and fulfillment, making a positive impact on the world, and connecting with something greater than oneself. Ultimately, the meaning of life is a personal journey, and each individual must find their own answer to this question.'"
      ]
     },
     "execution_count": 4,
     "metadata": {},
     "output_type": "execute_result"
    }
   ],
   "source": [
    "await google_llm_predict(\"what is the meaning of life\", True, False, \"chat-bison@002\")"
   ]
  },
  {
   "cell_type": "code",
   "execution_count": 5,
   "id": "f51934f0-a605-46ab-89d1-a131c3771a02",
   "metadata": {},
   "outputs": [
    {
     "name": "stdout",
     "output_type": "stream",
     "text": [
      "INFO: [services/llm_generate.py:289 - google_llm_predict()] Generating text with a Google LLM given a prompt, is_chat=[True], google_llm=[gemini-pro]\n",
      "INFO: [services/llm_generate.py:356 - google_llm_predict()] Received response from the Model [In FQHC Medicaid billing policy, an encounter is defined as a face-to-face meeting between a patient and a qualified health care professional (QHCP) that results in the provision of health care services. This includes both scheduled and unscheduled visits, as well as telehealth encounters.\n",
      "\n",
      "To qualify as an encounter, the following criteria must be met:\n",
      "\n",
      "* The patient must be seen by a QHCP in person or via telehealth.\n",
      "* The QHCP must provide health care services to the patient.\n",
      "* The services must be medically necessary and appropriate for the patient's condition.\n",
      "* The services must be documented in the patient's medical record.\n",
      "\n",
      "Examples of services that may qualify as encounters include:\n",
      "\n",
      "* Office visits\n",
      "* Hospital visits\n",
      "* Nursing home visits\n",
      "* Home health visits\n",
      "* Telehealth visits\n",
      "* Mental health visits\n",
      "* Substance abuse treatment visits\n",
      "* Dental visits\n",
      "* Vision care visits\n",
      "\n",
      "FQHCs are reimbursed for encounters based on a fee schedule that is set by the state Medicaid agency. The fee schedule is based on the type of service provided, the patient's age, and the patient's Medicaid eligibility category.]\n"
     ]
    },
    {
     "data": {
      "text/plain": [
       "\"In FQHC Medicaid billing policy, an encounter is defined as a face-to-face meeting between a patient and a qualified health care professional (QHCP) that results in the provision of health care services. This includes both scheduled and unscheduled visits, as well as telehealth encounters.\\n\\nTo qualify as an encounter, the following criteria must be met:\\n\\n* The patient must be seen by a QHCP in person or via telehealth.\\n* The QHCP must provide health care services to the patient.\\n* The services must be medically necessary and appropriate for the patient's condition.\\n* The services must be documented in the patient's medical record.\\n\\nExamples of services that may qualify as encounters include:\\n\\n* Office visits\\n* Hospital visits\\n* Nursing home visits\\n* Home health visits\\n* Telehealth visits\\n* Mental health visits\\n* Substance abuse treatment visits\\n* Dental visits\\n* Vision care visits\\n\\nFQHCs are reimbursed for encounters based on a fee schedule that is set by the state Medicaid agency. The fee schedule is based on the type of service provided, the patient's age, and the patient's Medicaid eligibility category.\""
      ]
     },
     "execution_count": 5,
     "metadata": {},
     "output_type": "execute_result"
    }
   ],
   "source": [
    "await google_llm_predict(\"What qualifies as an encounter in FQHC medicaid billing policy?\", True, False, \"gemini-pro\")"
   ]
  },
  {
   "cell_type": "code",
   "execution_count": null,
   "id": "c1647de6-dd4b-45ea-9fd1-4bb75b57459b",
   "metadata": {},
   "outputs": [],
   "source": []
  }
 ],
 "metadata": {
  "kernelspec": {
   "display_name": "Python 3 (ipykernel)",
   "language": "python",
   "name": "python3"
  },
  "language_info": {
   "codemirror_mode": {
    "name": "ipython",
    "version": 3
   },
   "file_extension": ".py",
   "mimetype": "text/x-python",
   "name": "python",
   "nbconvert_exporter": "python",
   "pygments_lexer": "ipython3",
   "version": "3.9.13"
  }
 },
 "nbformat": 4,
 "nbformat_minor": 5
}
